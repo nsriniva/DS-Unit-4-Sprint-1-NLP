{
 "cells": [
  {
   "cell_type": "markdown",
   "metadata": {},
   "source": [
    "---"
   ]
  },
  {
   "cell_type": "markdown",
   "metadata": {
    "colab_type": "text",
    "id": "cOMBkFKn6uEK"
   },
   "source": [
    "# Topic Modeling (Prepare)\n",
    "\n",
    "On Monday we talked about summarizing your documents using just token counts. Today, we're going to learn about a much more sophisticated approach - learning 'topics' from documents. Topics are a latent structure. They are not directly observable in the data, but we know they're there by reading them.\n",
    "\n",
    "> **latent**: existing but not yet developed or manifest; hidden or concealed.\n",
    "\n",
    "## Use Cases\n",
    "Primary use case: what the hell are your documents about? Who might want to know that in industry - \n",
    "* Identifying common themes in customer reviews\n",
    "* Discovering the needle in a haystack \n",
    "* Monitoring communications (Email - State Department) \n",
    "\n",
    "## Learning Objectives\n",
    "*At the end of the lesson you should be able to:*\n",
    "* Part 0: Warm-Up\n",
    "* Part 1: Describe how an LDA Model works\n",
    "* Part 2: Estimate a LDA Model with Gensim\n",
    "* Part 3: Interpret LDA results & Select the appropriate number of topics"
   ]
  },
  {
   "cell_type": "markdown",
   "metadata": {
    "colab_type": "text",
    "id": "cxH0cRGX6uEL"
   },
   "source": [
    "# Part 0: Warm-Up\n",
    "How do we do a grid search? "
   ]
  },
  {
   "cell_type": "code",
   "execution_count": 1,
   "metadata": {},
   "outputs": [],
   "source": [
    "import warnings\n",
    "warnings.filterwarnings(\"ignore\")"
   ]
  },
  {
   "cell_type": "code",
   "execution_count": 2,
   "metadata": {
    "colab": {},
    "colab_type": "code",
    "id": "rnyNg8sQ6uEL"
   },
   "outputs": [],
   "source": [
    "import pandas as pd\n",
    "from sklearn.datasets import fetch_20newsgroups\n",
    "from sklearn.ensemble import RandomForestClassifier\n",
    "from sklearn.model_selection import GridSearchCV\n",
    "from sklearn.feature_extraction.text import TfidfVectorizer"
   ]
  },
  {
   "cell_type": "code",
   "execution_count": 3,
   "metadata": {
    "colab": {
     "base_uri": "https://localhost:8080/",
     "height": 52
    },
    "colab_type": "code",
    "id": "boKWVkRz6uEO",
    "outputId": "2d3f688e-8cc8-44a4-9629-7c58285e1323"
   },
   "outputs": [
    {
     "name": "stdout",
     "output_type": "stream",
     "text": [
      "Training Samples: 11314\n",
      "Testing Samples: 7532\n"
     ]
    }
   ],
   "source": [
    "# Dataset\n",
    "# categories = ['sci.electronics',\n",
    "#               'rec.sport.baseball',\n",
    "#               'rec.sport.hockey']\n",
    "\n",
    "# Load training data\n",
    "newsgroups_train = fetch_20newsgroups(subset='train', \n",
    "                                      remove=('headers', 'footers', 'quotes'))\n",
    "\n",
    "# Load testing data\n",
    "newsgroups_test = fetch_20newsgroups(subset='test', \n",
    "                                     remove=('headers', 'footers', 'quotes'))\n",
    "\n",
    "print(f'Training Samples: {len(newsgroups_train.data)}')\n",
    "print(f'Testing Samples: {len(newsgroups_test.data)}')"
   ]
  },
  {
   "cell_type": "code",
   "execution_count": 4,
   "metadata": {},
   "outputs": [
    {
     "data": {
      "text/plain": [
       "['alt.atheism',\n",
       " 'comp.graphics',\n",
       " 'comp.os.ms-windows.misc',\n",
       " 'comp.sys.ibm.pc.hardware',\n",
       " 'comp.sys.mac.hardware',\n",
       " 'comp.windows.x',\n",
       " 'misc.forsale',\n",
       " 'rec.autos',\n",
       " 'rec.motorcycles',\n",
       " 'rec.sport.baseball',\n",
       " 'rec.sport.hockey',\n",
       " 'sci.crypt',\n",
       " 'sci.electronics',\n",
       " 'sci.med',\n",
       " 'sci.space',\n",
       " 'soc.religion.christian',\n",
       " 'talk.politics.guns',\n",
       " 'talk.politics.mideast',\n",
       " 'talk.politics.misc',\n",
       " 'talk.religion.misc']"
      ]
     },
     "execution_count": 4,
     "metadata": {},
     "output_type": "execute_result"
    }
   ],
   "source": [
    "newsgroups_train['target_names']"
   ]
  },
  {
   "cell_type": "code",
   "execution_count": 5,
   "metadata": {},
   "outputs": [
    {
     "data": {
      "text/plain": [
       "'I was wondering if anyone out there could enlighten me on this car I saw\\nthe other day. It was a 2-door sports car, looked to be from the late 60s/\\nearly 70s. It was called a Bricklin. The doors were really small. In addition,\\nthe front bumper was separate from the rest of the body. This is \\nall I know. If anyone can tellme a model name, engine specs, years\\nof production, where this car is made, history, or whatever info you\\nhave on this funky looking car, please e-mail.'"
      ]
     },
     "execution_count": 5,
     "metadata": {},
     "output_type": "execute_result"
    }
   ],
   "source": [
    "newsgroups_train['data'][0]"
   ]
  },
  {
   "cell_type": "markdown",
   "metadata": {
    "colab_type": "text",
    "id": "w-39zg9a6uEQ"
   },
   "source": [
    "### GridSearch on Just Classifier\n",
    "* Fit the vectorizer and prepare BEFORE it goes into the gridsearch"
   ]
  },
  {
   "cell_type": "code",
   "execution_count": 6,
   "metadata": {
    "colab": {},
    "colab_type": "code",
    "deletable": false,
    "id": "2q3NmHEo6uEQ",
    "nbgrader": {
     "cell_type": "code",
     "checksum": "5128f39ff0d1ae1703c1aab52256a9cc",
     "grade": false,
     "grade_id": "cell-510807d1dad0e53b",
     "locked": false,
     "schema_version": 3,
     "solution": true,
     "task": false
    }
   },
   "outputs": [
    {
     "name": "stdout",
     "output_type": "stream",
     "text": [
      "(11314, 101631)\n"
     ]
    }
   ],
   "source": [
    "# create tfidf instant\n",
    "\n",
    "# transform data\n",
    "\n",
    "# create parameter dict\n",
    "\n",
    "# create model instance \n",
    "\n",
    "# instantiate a grid search object\n",
    "\n",
    "# optimize model parameters\n",
    "vect1 = TfidfVectorizer()\n",
    "X_train = vect1.fit_transform(newsgroups_train['data'])\n",
    "print(X_train.shape)"
   ]
  },
  {
   "cell_type": "code",
   "execution_count": 7,
   "metadata": {},
   "outputs": [
    {
     "data": {
      "text/plain": [
       "['DESCR', 'data', 'filenames', 'target', 'target_names']"
      ]
     },
     "execution_count": 7,
     "metadata": {},
     "output_type": "execute_result"
    }
   ],
   "source": [
    "dir(newsgroups_train)"
   ]
  },
  {
   "cell_type": "code",
   "execution_count": 8,
   "metadata": {},
   "outputs": [
    {
     "data": {
      "text/plain": [
       "(11314,)"
      ]
     },
     "execution_count": 8,
     "metadata": {},
     "output_type": "execute_result"
    }
   ],
   "source": [
    "y = newsgroups_train['target']\n",
    "y.shape"
   ]
  },
  {
   "cell_type": "code",
   "execution_count": 9,
   "metadata": {},
   "outputs": [
    {
     "name": "stdout",
     "output_type": "stream",
     "text": [
      "Fitting 5 folds for each of 4 candidates, totalling 20 fits\n"
     ]
    },
    {
     "name": "stderr",
     "output_type": "stream",
     "text": [
      "[Parallel(n_jobs=-1)]: Using backend LokyBackend with 16 concurrent workers.\n",
      "[Parallel(n_jobs=-1)]: Done  10 out of  20 | elapsed:    3.4s remaining:    3.4s\n",
      "[Parallel(n_jobs=-1)]: Done  20 out of  20 | elapsed:   25.6s finished\n"
     ]
    },
    {
     "data": {
      "text/plain": [
       "GridSearchCV(cv=5, error_score=nan,\n",
       "             estimator=RandomForestClassifier(bootstrap=True, ccp_alpha=0.0,\n",
       "                                              class_weight=None,\n",
       "                                              criterion='gini', max_depth=None,\n",
       "                                              max_features='auto',\n",
       "                                              max_leaf_nodes=None,\n",
       "                                              max_samples=None,\n",
       "                                              min_impurity_decrease=0.0,\n",
       "                                              min_impurity_split=None,\n",
       "                                              min_samples_leaf=1,\n",
       "                                              min_samples_split=2,\n",
       "                                              min_weight_fraction_leaf=0.0,\n",
       "                                              n_estimators=100, n_jobs=None,\n",
       "                                              oob_score=False,\n",
       "                                              random_state=None, verbose=0,\n",
       "                                              warm_start=False),\n",
       "             iid='deprecated', n_jobs=-1,\n",
       "             param_grid={'max_depth': [None, 10], 'n_estimators': [10, 50]},\n",
       "             pre_dispatch='2*n_jobs', refit=True, return_train_score=False,\n",
       "             scoring=None, verbose=1)"
      ]
     },
     "execution_count": 9,
     "metadata": {},
     "output_type": "execute_result"
    }
   ],
   "source": [
    "p1 = {\n",
    "    'n_estimators': [10, 50],\n",
    "    'max_depth': [None, 10]\n",
    "}\n",
    "\n",
    "clf = RandomForestClassifier()\n",
    "gs1 = GridSearchCV(clf, p1, cv=5, n_jobs=-1, verbose=1)\n",
    "gs1.fit(X_train, y)"
   ]
  },
  {
   "cell_type": "code",
   "execution_count": 10,
   "metadata": {},
   "outputs": [
    {
     "data": {
      "text/plain": [
       "{'max_depth': None, 'n_estimators': 50}"
      ]
     },
     "execution_count": 10,
     "metadata": {},
     "output_type": "execute_result"
    }
   ],
   "source": [
    "gs1.best_params_"
   ]
  },
  {
   "cell_type": "code",
   "execution_count": 11,
   "metadata": {},
   "outputs": [
    {
     "data": {
      "text/plain": [
       "0.6073001145166564"
      ]
     },
     "execution_count": 11,
     "metadata": {},
     "output_type": "execute_result"
    }
   ],
   "source": [
    "gs1.best_score_"
   ]
  },
  {
   "cell_type": "code",
   "execution_count": 12,
   "metadata": {
    "colab": {
     "base_uri": "https://localhost:8080/",
     "height": 35
    },
    "colab_type": "code",
    "id": "gDkMaXvG83Zt",
    "outputId": "f3a55d86-209d-47b2-dd44-c23532ffcf2a"
   },
   "outputs": [
    {
     "name": "stdout",
     "output_type": "stream",
     "text": [
      "(1, 101631)\n"
     ]
    },
    {
     "data": {
      "text/plain": [
       "array([9])"
      ]
     },
     "execution_count": 12,
     "metadata": {},
     "output_type": "execute_result"
    }
   ],
   "source": [
    "# create and tranform a sample text \n",
    "sample_vec = vect1.transform(['The yankees are the best team in baseball'])\n",
    "print(sample_vec.shape)\n",
    "\n",
    "# use the model to classify the sample text \n",
    "gs1.predict(sample_vec)"
   ]
  },
  {
   "cell_type": "code",
   "execution_count": 13,
   "metadata": {},
   "outputs": [
    {
     "data": {
      "text/plain": [
       "'rec.sport.baseball'"
      ]
     },
     "execution_count": 13,
     "metadata": {},
     "output_type": "execute_result"
    }
   ],
   "source": [
    "newsgroups_train['target_names'][9]"
   ]
  },
  {
   "cell_type": "markdown",
   "metadata": {
    "colab_type": "text",
    "id": "WdVTuXKl6uEZ"
   },
   "source": [
    "### GridSearch with BOTH the Vectoizer & Classifier"
   ]
  },
  {
   "cell_type": "code",
   "execution_count": 14,
   "metadata": {
    "colab": {
     "base_uri": "https://localhost:8080/",
     "height": 668
    },
    "colab_type": "code",
    "deletable": false,
    "id": "97TjUtoI6uEZ",
    "nbgrader": {
     "cell_type": "code",
     "checksum": "000124c970341034e97d5534ae87d4c1",
     "grade": false,
     "grade_id": "cell-9f20cda21fe03f05",
     "locked": false,
     "schema_version": 3,
     "solution": true,
     "task": false
    },
    "outputId": "207e8cb3-5e82-4077-ac25-2406d21c3607"
   },
   "outputs": [
    {
     "name": "stdout",
     "output_type": "stream",
     "text": [
      "Fitting 5 folds for each of 8 candidates, totalling 40 fits\n"
     ]
    },
    {
     "name": "stderr",
     "output_type": "stream",
     "text": [
      "[Parallel(n_jobs=-1)]: Using backend LokyBackend with 16 concurrent workers.\n",
      "[Parallel(n_jobs=-1)]: Done  40 out of  40 | elapsed:  1.1min finished\n"
     ]
    },
    {
     "data": {
      "text/plain": [
       "GridSearchCV(cv=5, error_score=nan,\n",
       "             estimator=Pipeline(memory=None,\n",
       "                                steps=[('vect',\n",
       "                                        TfidfVectorizer(analyzer='word',\n",
       "                                                        binary=False,\n",
       "                                                        decode_error='strict',\n",
       "                                                        dtype=<class 'numpy.float64'>,\n",
       "                                                        encoding='utf-8',\n",
       "                                                        input='content',\n",
       "                                                        lowercase=True,\n",
       "                                                        max_df=1.0,\n",
       "                                                        max_features=None,\n",
       "                                                        min_df=1,\n",
       "                                                        ngram_range=(1, 1),\n",
       "                                                        norm='l2',\n",
       "                                                        preprocessor=None,\n",
       "                                                        smooth_idf=True,\n",
       "                                                        stop_words=None,\n",
       "                                                        strip_acce...\n",
       "                                                               min_samples_split=2,\n",
       "                                                               min_weight_fraction_leaf=0.0,\n",
       "                                                               n_estimators=100,\n",
       "                                                               n_jobs=None,\n",
       "                                                               oob_score=False,\n",
       "                                                               random_state=None,\n",
       "                                                               verbose=0,\n",
       "                                                               warm_start=False))],\n",
       "                                verbose=False),\n",
       "             iid='deprecated', n_jobs=-1,\n",
       "             param_grid={'clf__max_depth': (20, None), 'vect__min_df': (2, 5),\n",
       "                         'vect__stop_words': (None, 'english')},\n",
       "             pre_dispatch='2*n_jobs', refit=True, return_train_score=False,\n",
       "             scoring=None, verbose=1)"
      ]
     },
     "execution_count": 14,
     "metadata": {},
     "output_type": "execute_result"
    }
   ],
   "source": [
    "from sklearn.pipeline import Pipeline\n",
    "\n",
    "# create tfidf instance\n",
    "\n",
    "# create model instance \n",
    "\n",
    "# Create a pipline instance using tfidf and your model \n",
    "\n",
    "# create parameter dict\n",
    "\n",
    "# instantiate a grid search object\n",
    "\n",
    "# optimize model parameters\n",
    "\n",
    "pipeline = Pipeline([\n",
    "    ('vect', vect1),\n",
    "    ('clf', clf)\n",
    "])\n",
    "\n",
    "p2 = {\n",
    "    'vect__stop_words': (None, 'english'),\n",
    "    'vect__min_df': (2, 5),\n",
    "    'clf__max_depth': (20, None)\n",
    "}\n",
    "\n",
    "gs2 = GridSearchCV(pipeline, p2, cv=5, n_jobs=-1, verbose=1)\n",
    "gs2.fit(newsgroups_train['data'], newsgroups_train['target'])"
   ]
  },
  {
   "cell_type": "code",
   "execution_count": 15,
   "metadata": {},
   "outputs": [
    {
     "data": {
      "text/plain": [
       "{'clf__max_depth': None, 'vect__min_df': 2, 'vect__stop_words': 'english'}"
      ]
     },
     "execution_count": 15,
     "metadata": {},
     "output_type": "execute_result"
    }
   ],
   "source": [
    "gs2.best_params_"
   ]
  },
  {
   "cell_type": "code",
   "execution_count": 16,
   "metadata": {},
   "outputs": [
    {
     "data": {
      "text/plain": [
       "0.6597133449998887"
      ]
     },
     "execution_count": 16,
     "metadata": {},
     "output_type": "execute_result"
    }
   ],
   "source": [
    "gs2.best_score_"
   ]
  },
  {
   "cell_type": "code",
   "execution_count": 17,
   "metadata": {
    "colab": {},
    "colab_type": "code",
    "id": "IdIE67Us6uEc"
   },
   "outputs": [
    {
     "data": {
      "text/plain": [
       "array([9])"
      ]
     },
     "execution_count": 17,
     "metadata": {},
     "output_type": "execute_result"
    }
   ],
   "source": [
    "# pass a raw text sample into the optimized model in order to classify it\n",
    "gs2.predict(['The yankees are the best team in baseball'])"
   ]
  },
  {
   "cell_type": "markdown",
   "metadata": {
    "colab_type": "text",
    "id": "F2R2ACd36uEd"
   },
   "source": [
    "Advantages to using GS with the Pipe:\n",
    "* Allows us to make predictions on raw text increasing reproducibility. :)\n",
    "* Allows us to tune the parameters of the vectorizer along side the classifier. :D "
   ]
  },
  {
   "cell_type": "markdown",
   "metadata": {
    "colab_type": "text",
    "id": "xbZjG6U86uEe"
   },
   "source": [
    "# Part 1: Describe how an LDA Model works"
   ]
  },
  {
   "cell_type": "markdown",
   "metadata": {},
   "source": [
    "[Your Guide to Latent Dirichlet Allocation](https://medium.com/@lettier/how-does-lda-work-ill-explain-using-emoji-108abf40fa7d)\n",
    "\n",
    "[LDA Topic Modeling](https://lettier.com/projects/lda-topic-modeling/)\n",
    "\n",
    "[Topic Modeling with Gensim](https://www.machinelearningplus.com/nlp/topic-modeling-gensim-python/)"
   ]
  },
  {
   "cell_type": "raw",
   "metadata": {
    "colab": {
     "base_uri": "https://localhost:8080/",
     "height": 51
    },
    "colab_type": "code",
    "id": "yPIlE_IeF0cX",
    "outputId": "11cab929-9e79-43fd-fee7-08f42113cf24"
   },
   "source": [
    "# Download spacy model\n",
    "import spacy.cli\n",
    "spacy.cli.download(\"en_core_web_md\")"
   ]
  },
  {
   "cell_type": "code",
   "execution_count": 18,
   "metadata": {
    "colab": {},
    "colab_type": "code",
    "id": "qapChu_UGBFc"
   },
   "outputs": [],
   "source": [
    "import re\n",
    "import numpy as np\n",
    "import pandas as pd\n",
    "from pprint import pprint\n",
    "\n",
    "import gensim\n",
    "import gensim.corpora as corpora\n",
    "from gensim.utils import simple_preprocess\n",
    "from gensim.models import CoherenceModel\n",
    "\n",
    "import spacy\n",
    "\n",
    "import pyLDAvis\n",
    "import pyLDAvis.gensim \n",
    "import matplotlib.pyplot as plt\n",
    "%matplotlib inline"
   ]
  },
  {
   "cell_type": "code",
   "execution_count": 19,
   "metadata": {
    "colab": {
     "base_uri": "https://localhost:8080/",
     "height": 419
    },
    "colab_type": "code",
    "id": "qaMsy1XAGLxc",
    "outputId": "0a981642-93ef-4a95-c6a2-c5ca7c5151e0"
   },
   "outputs": [
    {
     "name": "stdout",
     "output_type": "stream",
     "text": [
      "(11314, 3)\n"
     ]
    },
    {
     "name": "stderr",
     "output_type": "stream",
     "text": [
      "/opt/anaconda3/envs/U4-S1-NLP/lib/python3.7/site-packages/ipykernel/ipkernel.py:283: DeprecationWarning: `should_run_async` will not call `transform_cell` automatically in the future. Please pass the result to `transformed_cell` argument and any exception that happen during thetransform in `preprocessing_exc_tuple` in IPython 7.17 and above.\n",
      "  and should_run_async(code)\n"
     ]
    },
    {
     "data": {
      "text/html": [
       "<div>\n",
       "<style scoped>\n",
       "    .dataframe tbody tr th:only-of-type {\n",
       "        vertical-align: middle;\n",
       "    }\n",
       "\n",
       "    .dataframe tbody tr th {\n",
       "        vertical-align: top;\n",
       "    }\n",
       "\n",
       "    .dataframe thead th {\n",
       "        text-align: right;\n",
       "    }\n",
       "</style>\n",
       "<table border=\"1\" class=\"dataframe\">\n",
       "  <thead>\n",
       "    <tr style=\"text-align: right;\">\n",
       "      <th></th>\n",
       "      <th>content</th>\n",
       "      <th>target</th>\n",
       "      <th>target_names</th>\n",
       "    </tr>\n",
       "  </thead>\n",
       "  <tbody>\n",
       "    <tr>\n",
       "      <th>0</th>\n",
       "      <td>I was wondering if anyone out there could enli...</td>\n",
       "      <td>7</td>\n",
       "      <td>rec.autos</td>\n",
       "    </tr>\n",
       "    <tr>\n",
       "      <th>1</th>\n",
       "      <td>A fair number of brave souls who upgraded thei...</td>\n",
       "      <td>4</td>\n",
       "      <td>comp.sys.mac.hardware</td>\n",
       "    </tr>\n",
       "    <tr>\n",
       "      <th>2</th>\n",
       "      <td>well folks, my mac plus finally gave up the gh...</td>\n",
       "      <td>4</td>\n",
       "      <td>comp.sys.mac.hardware</td>\n",
       "    </tr>\n",
       "    <tr>\n",
       "      <th>3</th>\n",
       "      <td>\\nDo you have Weitek's address/phone number?  ...</td>\n",
       "      <td>1</td>\n",
       "      <td>comp.graphics</td>\n",
       "    </tr>\n",
       "    <tr>\n",
       "      <th>4</th>\n",
       "      <td>From article &lt;C5owCB.n3p@world.std.com&gt;, by to...</td>\n",
       "      <td>14</td>\n",
       "      <td>sci.space</td>\n",
       "    </tr>\n",
       "  </tbody>\n",
       "</table>\n",
       "</div>"
      ],
      "text/plain": [
       "                                             content  target  \\\n",
       "0  I was wondering if anyone out there could enli...       7   \n",
       "1  A fair number of brave souls who upgraded thei...       4   \n",
       "2  well folks, my mac plus finally gave up the gh...       4   \n",
       "3  \\nDo you have Weitek's address/phone number?  ...       1   \n",
       "4  From article <C5owCB.n3p@world.std.com>, by to...      14   \n",
       "\n",
       "            target_names  \n",
       "0              rec.autos  \n",
       "1  comp.sys.mac.hardware  \n",
       "2  comp.sys.mac.hardware  \n",
       "3          comp.graphics  \n",
       "4              sci.space  "
      ]
     },
     "execution_count": 19,
     "metadata": {},
     "output_type": "execute_result"
    }
   ],
   "source": [
    "df = pd.DataFrame({\n",
    "    'content': newsgroups_train['data'],\n",
    "    'target': newsgroups_train['target'],\n",
    "    'target_names': [newsgroups_train['target_names'][i] for i in newsgroups_train['target']]\n",
    "})\n",
    "print(df.shape)\n",
    "df.head()"
   ]
  },
  {
   "cell_type": "code",
   "execution_count": 20,
   "metadata": {},
   "outputs": [
    {
     "name": "stderr",
     "output_type": "stream",
     "text": [
      "/opt/anaconda3/envs/U4-S1-NLP/lib/python3.7/site-packages/ipykernel/ipkernel.py:283: DeprecationWarning: `should_run_async` will not call `transform_cell` automatically in the future. Please pass the result to `transformed_cell` argument and any exception that happen during thetransform in `preprocessing_exc_tuple` in IPython 7.17 and above.\n",
      "  and should_run_async(code)\n"
     ]
    },
    {
     "data": {
      "text/html": [
       "<div>\n",
       "<style scoped>\n",
       "    .dataframe tbody tr th:only-of-type {\n",
       "        vertical-align: middle;\n",
       "    }\n",
       "\n",
       "    .dataframe tbody tr th {\n",
       "        vertical-align: top;\n",
       "    }\n",
       "\n",
       "    .dataframe thead th {\n",
       "        text-align: right;\n",
       "    }\n",
       "</style>\n",
       "<table border=\"1\" class=\"dataframe\">\n",
       "  <thead>\n",
       "    <tr style=\"text-align: right;\">\n",
       "      <th></th>\n",
       "      <th>content</th>\n",
       "      <th>target</th>\n",
       "      <th>target_names</th>\n",
       "    </tr>\n",
       "  </thead>\n",
       "  <tbody>\n",
       "    <tr>\n",
       "      <th>10720</th>\n",
       "      <td>Two-volume soft-cover repair manuals\\nfor all models of '91 Toyota Celicas.\\n(Probably good for '92 models as well.)\\nLike new condition.\\nThese are the manuals used by the\\nToyota dealers' mechanics - they normally\\ncost over $80 new.\\n\\n$50 OBO</td>\n",
       "      <td>7</td>\n",
       "      <td>rec.autos</td>\n",
       "    </tr>\n",
       "    <tr>\n",
       "      <th>1701</th>\n",
       "      <td>I've been running Dos 6 for about a month.  I was generally impressed with\\nthe improvements:  the multiple boot configurations were great, the\\nnew commands were nice, and DoubleSpace worked fine (twice as slow for\\nlarge data transfers, twice as fast for small with SmartDrv).\\n\\nUntil now.\\n\\n...</td>\n",
       "      <td>2</td>\n",
       "      <td>comp.os.ms-windows.misc</td>\n",
       "    </tr>\n",
       "    <tr>\n",
       "      <th>4211</th>\n",
       "      <td>\\n\\nIt's normal for the BMW K bikes to use a little oil in the first few thousand \\nmiles.  I don't know why.  I've had three new K bikes, and all three used a\\nbit of oil when new - max maybe .4 quart in first 1000 miles; this soon quits\\nand by the time I had 10,000 miles on them the oil consu...</td>\n",
       "      <td>8</td>\n",
       "      <td>rec.motorcycles</td>\n",
       "    </tr>\n",
       "    <tr>\n",
       "      <th>6114</th>\n",
       "      <td>I am looking at buying a low cost (&lt; $500) scope for general purpose use.\\nAny recommendations? Is this info in a faq somewhere?\\nAny pointers appreciated.\\nThanks,\\n  -Gerard.</td>\n",
       "      <td>12</td>\n",
       "      <td>sci.electronics</td>\n",
       "    </tr>\n",
       "    <tr>\n",
       "      <th>10174</th>\n",
       "      <td>I just read articals on this in Road and Track and Car and Driver\\n\\t(Is that one mag or two? =B^), and I was wondering if people out\\n\\tthere have any opinions that differed from what these mags have to\\n\\tsay...\\n\\n\\n\\tI'm looking at the following three SUV's; anyone who's driven all\\n\\tthree ...</td>\n",
       "      <td>7</td>\n",
       "      <td>rec.autos</td>\n",
       "    </tr>\n",
       "  </tbody>\n",
       "</table>\n",
       "</div>"
      ],
      "text/plain": [
       "                                                                                                                                                                                                                                                                                                           content  \\\n",
       "10720                                                       Two-volume soft-cover repair manuals\\nfor all models of '91 Toyota Celicas.\\n(Probably good for '92 models as well.)\\nLike new condition.\\nThese are the manuals used by the\\nToyota dealers' mechanics - they normally\\ncost over $80 new.\\n\\n$50 OBO   \n",
       "1701   I've been running Dos 6 for about a month.  I was generally impressed with\\nthe improvements:  the multiple boot configurations were great, the\\nnew commands were nice, and DoubleSpace worked fine (twice as slow for\\nlarge data transfers, twice as fast for small with SmartDrv).\\n\\nUntil now.\\n\\n...   \n",
       "4211   \\n\\nIt's normal for the BMW K bikes to use a little oil in the first few thousand \\nmiles.  I don't know why.  I've had three new K bikes, and all three used a\\nbit of oil when new - max maybe .4 quart in first 1000 miles; this soon quits\\nand by the time I had 10,000 miles on them the oil consu...   \n",
       "6114                                                                                                                              I am looking at buying a low cost (< $500) scope for general purpose use.\\nAny recommendations? Is this info in a faq somewhere?\\nAny pointers appreciated.\\nThanks,\\n  -Gerard.   \n",
       "10174  I just read articals on this in Road and Track and Car and Driver\\n\\t(Is that one mag or two? =B^), and I was wondering if people out\\n\\tthere have any opinions that differed from what these mags have to\\n\\tsay...\\n\\n\\n\\tI'm looking at the following three SUV's; anyone who's driven all\\n\\tthree ...   \n",
       "\n",
       "       target             target_names  \n",
       "10720       7                rec.autos  \n",
       "1701        2  comp.os.ms-windows.misc  \n",
       "4211        8          rec.motorcycles  \n",
       "6114       12          sci.electronics  \n",
       "10174       7                rec.autos  "
      ]
     },
     "execution_count": 20,
     "metadata": {},
     "output_type": "execute_result"
    }
   ],
   "source": [
    "pd.set_option('display.max_colwidth', 300)\n",
    "\n",
    "df.sample(5)"
   ]
  },
  {
   "cell_type": "code",
   "execution_count": 21,
   "metadata": {
    "colab": {
     "base_uri": "https://localhost:8080/",
     "height": 289
    },
    "colab_type": "code",
    "deletable": false,
    "id": "na2bkOcFGter",
    "nbgrader": {
     "cell_type": "code",
     "checksum": "5e6d91ee81e6014b8aef75dda13f927f",
     "grade": false,
     "grade_id": "cell-6ce62b4e40acee5f",
     "locked": false,
     "schema_version": 3,
     "solution": true,
     "task": false
    },
    "outputId": "6c8d1a19-3719-4e28-d8c6-d3202fdd6257"
   },
   "outputs": [
    {
     "name": "stderr",
     "output_type": "stream",
     "text": [
      "/opt/anaconda3/envs/U4-S1-NLP/lib/python3.7/site-packages/ipykernel/ipkernel.py:283: DeprecationWarning: `should_run_async` will not call `transform_cell` automatically in the future. Please pass the result to `transformed_cell` argument and any exception that happen during thetransform in `preprocessing_exc_tuple` in IPython 7.17 and above.\n",
      "  and should_run_async(code)\n",
      "<>:4: DeprecationWarning: invalid escape sequence \\s\n",
      "<>:7: DeprecationWarning: invalid escape sequence \\S\n",
      "<>:4: DeprecationWarning: invalid escape sequence \\s\n",
      "<>:7: DeprecationWarning: invalid escape sequence \\S\n",
      "<>:4: DeprecationWarning: invalid escape sequence \\s\n",
      "<>:7: DeprecationWarning: invalid escape sequence \\S\n",
      "<ipython-input-21-0c70f6a85105>:4: DeprecationWarning: invalid escape sequence \\s\n",
      "  df['clean_text'] = df['content'].apply(lambda x: re.sub('\\s+', ' ', x))\n",
      "<ipython-input-21-0c70f6a85105>:7: DeprecationWarning: invalid escape sequence \\S\n",
      "  df['clean_text'] = df['clean_text'].apply(lambda x: re.sub('From: \\S+@\\S+', '', x))\n"
     ]
    }
   ],
   "source": [
    "# can visit (https://regex101.com/) for a regex python editor (has cheat sheets)\n",
    "\n",
    "# 1. Remove new line characters\n",
    "df['clean_text'] = df['content'].apply(lambda x: re.sub('\\s+', ' ', x))\n",
    "\n",
    "# 2. Remove Emails\n",
    "df['clean_text'] = df['clean_text'].apply(lambda x: re.sub('From: \\S+@\\S+', '', x))\n",
    "\n",
    "# 3. Remove non-alphanumeric characters\n",
    "df['clean_text'] = df['clean_text'].apply(lambda x: re.sub('[^a-zA-Z]', ' ', x))\n",
    "\n",
    "# 4. Remove extra whitespace and lowercase text\n",
    "df['clean_text'] = df['clean_text'].apply(lambda x: ' '.join(x.lower().split()))"
   ]
  },
  {
   "cell_type": "code",
   "execution_count": 22,
   "metadata": {},
   "outputs": [
    {
     "name": "stderr",
     "output_type": "stream",
     "text": [
      "/opt/anaconda3/envs/U4-S1-NLP/lib/python3.7/site-packages/ipykernel/ipkernel.py:283: DeprecationWarning: `should_run_async` will not call `transform_cell` automatically in the future. Please pass the result to `transformed_cell` argument and any exception that happen during thetransform in `preprocessing_exc_tuple` in IPython 7.17 and above.\n",
      "  and should_run_async(code)\n"
     ]
    },
    {
     "data": {
      "text/html": [
       "<div>\n",
       "<style scoped>\n",
       "    .dataframe tbody tr th:only-of-type {\n",
       "        vertical-align: middle;\n",
       "    }\n",
       "\n",
       "    .dataframe tbody tr th {\n",
       "        vertical-align: top;\n",
       "    }\n",
       "\n",
       "    .dataframe thead th {\n",
       "        text-align: right;\n",
       "    }\n",
       "</style>\n",
       "<table border=\"1\" class=\"dataframe\">\n",
       "  <thead>\n",
       "    <tr style=\"text-align: right;\">\n",
       "      <th></th>\n",
       "      <th>content</th>\n",
       "      <th>target</th>\n",
       "      <th>target_names</th>\n",
       "      <th>clean_text</th>\n",
       "    </tr>\n",
       "  </thead>\n",
       "  <tbody>\n",
       "    <tr>\n",
       "      <th>0</th>\n",
       "      <td>I was wondering if anyone out there could enlighten me on this car I saw\\nthe other day. It was a 2-door sports car, looked to be from the late 60s/\\nearly 70s. It was called a Bricklin. The doors were really small. In addition,\\nthe front bumper was separate from the rest of the body. This is \\...</td>\n",
       "      <td>7</td>\n",
       "      <td>rec.autos</td>\n",
       "      <td>i was wondering if anyone out there could enlighten me on this car i saw the other day it was a door sports car looked to be from the late s early s it was called a bricklin the doors were really small in addition the front bumper was separate from the rest of the body this is all i know if anyo...</td>\n",
       "    </tr>\n",
       "    <tr>\n",
       "      <th>1</th>\n",
       "      <td>A fair number of brave souls who upgraded their SI clock oscillator have\\nshared their experiences for this poll. Please send a brief message detailing\\nyour experiences with the procedure. Top speed attained, CPU rated speed,\\nadd on cards and adapters, heat sinks, hour of usage per day, floppy...</td>\n",
       "      <td>4</td>\n",
       "      <td>comp.sys.mac.hardware</td>\n",
       "      <td>a fair number of brave souls who upgraded their si clock oscillator have shared their experiences for this poll please send a brief message detailing your experiences with the procedure top speed attained cpu rated speed add on cards and adapters heat sinks hour of usage per day floppy disk func...</td>\n",
       "    </tr>\n",
       "    <tr>\n",
       "      <th>2</th>\n",
       "      <td>well folks, my mac plus finally gave up the ghost this weekend after\\nstarting life as a 512k way back in 1985.  sooo, i'm in the market for a\\nnew machine a bit sooner than i intended to be...\\n\\ni'm looking into picking up a powerbook 160 or maybe 180 and have a bunch\\nof questions that (hopef...</td>\n",
       "      <td>4</td>\n",
       "      <td>comp.sys.mac.hardware</td>\n",
       "      <td>well folks my mac plus finally gave up the ghost this weekend after starting life as a k way back in sooo i m in the market for a new machine a bit sooner than i intended to be i m looking into picking up a powerbook or maybe and have a bunch of questions that hopefully somebody can answer does ...</td>\n",
       "    </tr>\n",
       "    <tr>\n",
       "      <th>3</th>\n",
       "      <td>\\nDo you have Weitek's address/phone number?  I'd like to get some information\\nabout this chip.\\n</td>\n",
       "      <td>1</td>\n",
       "      <td>comp.graphics</td>\n",
       "      <td>do you have weitek s address phone number i d like to get some information about this chip</td>\n",
       "    </tr>\n",
       "    <tr>\n",
       "      <th>4</th>\n",
       "      <td>From article &lt;C5owCB.n3p@world.std.com&gt;, by tombaker@world.std.com (Tom A Baker):\\n\\n\\nMy understanding is that the 'expected errors' are basically\\nknown bugs in the warning system software - things are checked\\nthat don't have the right values in yet because they aren't\\nset till after launch,...</td>\n",
       "      <td>14</td>\n",
       "      <td>sci.space</td>\n",
       "      <td>from article c owcb n p world std com by tombaker world std com tom a baker my understanding is that the expected errors are basically known bugs in the warning system software things are checked that don t have the right values in yet because they aren t set till after launch and suchlike rathe...</td>\n",
       "    </tr>\n",
       "  </tbody>\n",
       "</table>\n",
       "</div>"
      ],
      "text/plain": [
       "                                                                                                                                                                                                                                                                                                       content  \\\n",
       "0  I was wondering if anyone out there could enlighten me on this car I saw\\nthe other day. It was a 2-door sports car, looked to be from the late 60s/\\nearly 70s. It was called a Bricklin. The doors were really small. In addition,\\nthe front bumper was separate from the rest of the body. This is \\...   \n",
       "1  A fair number of brave souls who upgraded their SI clock oscillator have\\nshared their experiences for this poll. Please send a brief message detailing\\nyour experiences with the procedure. Top speed attained, CPU rated speed,\\nadd on cards and adapters, heat sinks, hour of usage per day, floppy...   \n",
       "2  well folks, my mac plus finally gave up the ghost this weekend after\\nstarting life as a 512k way back in 1985.  sooo, i'm in the market for a\\nnew machine a bit sooner than i intended to be...\\n\\ni'm looking into picking up a powerbook 160 or maybe 180 and have a bunch\\nof questions that (hopef...   \n",
       "3                                                                                                                                                                                                           \\nDo you have Weitek's address/phone number?  I'd like to get some information\\nabout this chip.\\n   \n",
       "4  From article <C5owCB.n3p@world.std.com>, by tombaker@world.std.com (Tom A Baker):\\n\\n\\nMy understanding is that the 'expected errors' are basically\\nknown bugs in the warning system software - things are checked\\nthat don't have the right values in yet because they aren't\\nset till after launch,...   \n",
       "\n",
       "   target           target_names  \\\n",
       "0       7              rec.autos   \n",
       "1       4  comp.sys.mac.hardware   \n",
       "2       4  comp.sys.mac.hardware   \n",
       "3       1          comp.graphics   \n",
       "4      14              sci.space   \n",
       "\n",
       "                                                                                                                                                                                                                                                                                                    clean_text  \n",
       "0  i was wondering if anyone out there could enlighten me on this car i saw the other day it was a door sports car looked to be from the late s early s it was called a bricklin the doors were really small in addition the front bumper was separate from the rest of the body this is all i know if anyo...  \n",
       "1  a fair number of brave souls who upgraded their si clock oscillator have shared their experiences for this poll please send a brief message detailing your experiences with the procedure top speed attained cpu rated speed add on cards and adapters heat sinks hour of usage per day floppy disk func...  \n",
       "2  well folks my mac plus finally gave up the ghost this weekend after starting life as a k way back in sooo i m in the market for a new machine a bit sooner than i intended to be i m looking into picking up a powerbook or maybe and have a bunch of questions that hopefully somebody can answer does ...  \n",
       "3                                                                                                                                                                                                                   do you have weitek s address phone number i d like to get some information about this chip  \n",
       "4  from article c owcb n p world std com by tombaker world std com tom a baker my understanding is that the expected errors are basically known bugs in the warning system software things are checked that don t have the right values in yet because they aren t set till after launch and suchlike rathe...  "
      ]
     },
     "execution_count": 22,
     "metadata": {},
     "output_type": "execute_result"
    }
   ],
   "source": [
    "df.head()"
   ]
  },
  {
   "cell_type": "code",
   "execution_count": 23,
   "metadata": {},
   "outputs": [
    {
     "name": "stderr",
     "output_type": "stream",
     "text": [
      "/opt/anaconda3/envs/U4-S1-NLP/lib/python3.7/site-packages/ipykernel/ipkernel.py:283: DeprecationWarning: `should_run_async` will not call `transform_cell` automatically in the future. Please pass the result to `transformed_cell` argument and any exception that happen during thetransform in `preprocessing_exc_tuple` in IPython 7.17 and above.\n",
      "  and should_run_async(code)\n"
     ]
    }
   ],
   "source": [
    "# Leverage tqdm for progress_apply\n",
    "from tqdm import tqdm\n",
    "tqdm.pandas()\n",
    "\n",
    "# If you're on macOS, Linux, or python session executed from Windows Subsystem for Linux (WSL)\n",
    "# conda activate U4-S1-NLP\n",
    "# pip install pandarallel\n",
    "#\n",
    "# from pandarallel import pandarallel\n",
    "# pandarallel.initialize(progress_bar=True)\n",
    "#\n",
    "# df['lemmas'] = df['content'].parallel_apply(get_lemmas)\n",
    "#\n",
    "# Ref: https://github.com/nalepae/pandarallel"
   ]
  },
  {
   "cell_type": "code",
   "execution_count": 24,
   "metadata": {},
   "outputs": [
    {
     "name": "stderr",
     "output_type": "stream",
     "text": [
      "/opt/anaconda3/envs/U4-S1-NLP/lib/python3.7/site-packages/ipykernel/ipkernel.py:283: DeprecationWarning: `should_run_async` will not call `transform_cell` automatically in the future. Please pass the result to `transformed_cell` argument and any exception that happen during thetransform in `preprocessing_exc_tuple` in IPython 7.17 and above.\n",
      "  and should_run_async(code)\n"
     ]
    }
   ],
   "source": [
    "nlp = spacy.load(\"en_core_web_md\", disable=['parser', 'tagger', 'ner'])"
   ]
  },
  {
   "cell_type": "code",
   "execution_count": 25,
   "metadata": {
    "colab": {},
    "colab_type": "code",
    "id": "6EBPQXqEKE9P"
   },
   "outputs": [
    {
     "name": "stderr",
     "output_type": "stream",
     "text": [
      "/opt/anaconda3/envs/U4-S1-NLP/lib/python3.7/site-packages/ipykernel/ipkernel.py:283: DeprecationWarning: `should_run_async` will not call `transform_cell` automatically in the future. Please pass the result to `transformed_cell` argument and any exception that happen during thetransform in `preprocessing_exc_tuple` in IPython 7.17 and above.\n",
      "  and should_run_async(code)\n",
      "100%|██████████| 11314/11314 [00:05<00:00, 2086.00it/s]\n"
     ]
    }
   ],
   "source": [
    "# create our tokens in the form of lemmas \n",
    "df['lemmas'] = df['clean_text'].progress_apply(lambda x: [token.lemma_ for token in nlp(x) if (token.is_stop != True) and (token.is_punct != True) and (len(token) > 2)])"
   ]
  },
  {
   "cell_type": "code",
   "execution_count": 26,
   "metadata": {},
   "outputs": [
    {
     "name": "stderr",
     "output_type": "stream",
     "text": [
      "/opt/anaconda3/envs/U4-S1-NLP/lib/python3.7/site-packages/ipykernel/ipkernel.py:283: DeprecationWarning: `should_run_async` will not call `transform_cell` automatically in the future. Please pass the result to `transformed_cell` argument and any exception that happen during thetransform in `preprocessing_exc_tuple` in IPython 7.17 and above.\n",
      "  and should_run_async(code)\n"
     ]
    },
    {
     "data": {
      "text/html": [
       "<div>\n",
       "<style scoped>\n",
       "    .dataframe tbody tr th:only-of-type {\n",
       "        vertical-align: middle;\n",
       "    }\n",
       "\n",
       "    .dataframe tbody tr th {\n",
       "        vertical-align: top;\n",
       "    }\n",
       "\n",
       "    .dataframe thead th {\n",
       "        text-align: right;\n",
       "    }\n",
       "</style>\n",
       "<table border=\"1\" class=\"dataframe\">\n",
       "  <thead>\n",
       "    <tr style=\"text-align: right;\">\n",
       "      <th></th>\n",
       "      <th>content</th>\n",
       "      <th>target</th>\n",
       "      <th>target_names</th>\n",
       "      <th>clean_text</th>\n",
       "      <th>lemmas</th>\n",
       "    </tr>\n",
       "  </thead>\n",
       "  <tbody>\n",
       "    <tr>\n",
       "      <th>0</th>\n",
       "      <td>I was wondering if anyone out there could enlighten me on this car I saw\\nthe other day. It was a 2-door sports car, looked to be from the late 60s/\\nearly 70s. It was called a Bricklin. The doors were really small. In addition,\\nthe front bumper was separate from the rest of the body. This is \\...</td>\n",
       "      <td>7</td>\n",
       "      <td>rec.autos</td>\n",
       "      <td>i was wondering if anyone out there could enlighten me on this car i saw the other day it was a door sports car looked to be from the late s early s it was called a bricklin the doors were really small in addition the front bumper was separate from the rest of the body this is all i know if anyo...</td>\n",
       "      <td>[wonder, enlighten, car, see, day, door, sport, car, look, late, early, call, bricklin, door, small, addition, bumper, separate, rest, body, know, tellme, model, engine, spec, year, production, car, history, info, funky, look, car, mail]</td>\n",
       "    </tr>\n",
       "    <tr>\n",
       "      <th>1</th>\n",
       "      <td>A fair number of brave souls who upgraded their SI clock oscillator have\\nshared their experiences for this poll. Please send a brief message detailing\\nyour experiences with the procedure. Top speed attained, CPU rated speed,\\nadd on cards and adapters, heat sinks, hour of usage per day, floppy...</td>\n",
       "      <td>4</td>\n",
       "      <td>comp.sys.mac.hardware</td>\n",
       "      <td>a fair number of brave souls who upgraded their si clock oscillator have shared their experiences for this poll please send a brief message detailing your experiences with the procedure top speed attained cpu rated speed add on cards and adapters heat sinks hour of usage per day floppy disk func...</td>\n",
       "      <td>[fair, numb, brave, soul, upgrade, clock, oscillator, share, experience, poll, send, brief, message, detail, experience, procedure, speed, attain, cpu, rate, speed, add, card, adapter, heat, sink, hour, usage, day, floppy, disk, functionality, floppy, especially, request, summarize, day, add, ne...</td>\n",
       "    </tr>\n",
       "    <tr>\n",
       "      <th>2</th>\n",
       "      <td>well folks, my mac plus finally gave up the ghost this weekend after\\nstarting life as a 512k way back in 1985.  sooo, i'm in the market for a\\nnew machine a bit sooner than i intended to be...\\n\\ni'm looking into picking up a powerbook 160 or maybe 180 and have a bunch\\nof questions that (hopef...</td>\n",
       "      <td>4</td>\n",
       "      <td>comp.sys.mac.hardware</td>\n",
       "      <td>well folks my mac plus finally gave up the ghost this weekend after starting life as a k way back in sooo i m in the market for a new machine a bit sooner than i intended to be i m looking into picking up a powerbook or maybe and have a bunch of questions that hopefully somebody can answer does ...</td>\n",
       "      <td>[folk, mac, plus, finally, give, ghost, weekend, start, life, way, sooo, market, new, machine, bite, soon, intend, look, pick, powerbook, maybe, bunch, question, hopefully, somebody, answer, anybody, know, dirt, round, powerbook, introduction, expect, hear, suppose, appearence, summer, haven, he...</td>\n",
       "    </tr>\n",
       "    <tr>\n",
       "      <th>3</th>\n",
       "      <td>\\nDo you have Weitek's address/phone number?  I'd like to get some information\\nabout this chip.\\n</td>\n",
       "      <td>1</td>\n",
       "      <td>comp.graphics</td>\n",
       "      <td>do you have weitek s address phone number i d like to get some information about this chip</td>\n",
       "      <td>[weitek, address, phone, numb, like, information, chip]</td>\n",
       "    </tr>\n",
       "    <tr>\n",
       "      <th>4</th>\n",
       "      <td>From article &lt;C5owCB.n3p@world.std.com&gt;, by tombaker@world.std.com (Tom A Baker):\\n\\n\\nMy understanding is that the 'expected errors' are basically\\nknown bugs in the warning system software - things are checked\\nthat don't have the right values in yet because they aren't\\nset till after launch,...</td>\n",
       "      <td>14</td>\n",
       "      <td>sci.space</td>\n",
       "      <td>from article c owcb n p world std com by tombaker world std com tom a baker my understanding is that the expected errors are basically known bugs in the warning system software things are checked that don t have the right values in yet because they aren t set till after launch and suchlike rathe...</td>\n",
       "      <td>[article, owcb, world, std, com, tombaker, world, std, com, tom, baker, understand, expect, error, basically, know, bug, warn, system, software, thing, check, don, right, value, aren, set, till, launch, suchlike, fix, code, possibly, introduce, new, bug, tell, crow, warn, liftoff, ignore]</td>\n",
       "    </tr>\n",
       "  </tbody>\n",
       "</table>\n",
       "</div>"
      ],
      "text/plain": [
       "                                                                                                                                                                                                                                                                                                       content  \\\n",
       "0  I was wondering if anyone out there could enlighten me on this car I saw\\nthe other day. It was a 2-door sports car, looked to be from the late 60s/\\nearly 70s. It was called a Bricklin. The doors were really small. In addition,\\nthe front bumper was separate from the rest of the body. This is \\...   \n",
       "1  A fair number of brave souls who upgraded their SI clock oscillator have\\nshared their experiences for this poll. Please send a brief message detailing\\nyour experiences with the procedure. Top speed attained, CPU rated speed,\\nadd on cards and adapters, heat sinks, hour of usage per day, floppy...   \n",
       "2  well folks, my mac plus finally gave up the ghost this weekend after\\nstarting life as a 512k way back in 1985.  sooo, i'm in the market for a\\nnew machine a bit sooner than i intended to be...\\n\\ni'm looking into picking up a powerbook 160 or maybe 180 and have a bunch\\nof questions that (hopef...   \n",
       "3                                                                                                                                                                                                           \\nDo you have Weitek's address/phone number?  I'd like to get some information\\nabout this chip.\\n   \n",
       "4  From article <C5owCB.n3p@world.std.com>, by tombaker@world.std.com (Tom A Baker):\\n\\n\\nMy understanding is that the 'expected errors' are basically\\nknown bugs in the warning system software - things are checked\\nthat don't have the right values in yet because they aren't\\nset till after launch,...   \n",
       "\n",
       "   target           target_names  \\\n",
       "0       7              rec.autos   \n",
       "1       4  comp.sys.mac.hardware   \n",
       "2       4  comp.sys.mac.hardware   \n",
       "3       1          comp.graphics   \n",
       "4      14              sci.space   \n",
       "\n",
       "                                                                                                                                                                                                                                                                                                    clean_text  \\\n",
       "0  i was wondering if anyone out there could enlighten me on this car i saw the other day it was a door sports car looked to be from the late s early s it was called a bricklin the doors were really small in addition the front bumper was separate from the rest of the body this is all i know if anyo...   \n",
       "1  a fair number of brave souls who upgraded their si clock oscillator have shared their experiences for this poll please send a brief message detailing your experiences with the procedure top speed attained cpu rated speed add on cards and adapters heat sinks hour of usage per day floppy disk func...   \n",
       "2  well folks my mac plus finally gave up the ghost this weekend after starting life as a k way back in sooo i m in the market for a new machine a bit sooner than i intended to be i m looking into picking up a powerbook or maybe and have a bunch of questions that hopefully somebody can answer does ...   \n",
       "3                                                                                                                                                                                                                   do you have weitek s address phone number i d like to get some information about this chip   \n",
       "4  from article c owcb n p world std com by tombaker world std com tom a baker my understanding is that the expected errors are basically known bugs in the warning system software things are checked that don t have the right values in yet because they aren t set till after launch and suchlike rathe...   \n",
       "\n",
       "                                                                                                                                                                                                                                                                                                        lemmas  \n",
       "0                                                                [wonder, enlighten, car, see, day, door, sport, car, look, late, early, call, bricklin, door, small, addition, bumper, separate, rest, body, know, tellme, model, engine, spec, year, production, car, history, info, funky, look, car, mail]  \n",
       "1  [fair, numb, brave, soul, upgrade, clock, oscillator, share, experience, poll, send, brief, message, detail, experience, procedure, speed, attain, cpu, rate, speed, add, card, adapter, heat, sink, hour, usage, day, floppy, disk, functionality, floppy, especially, request, summarize, day, add, ne...  \n",
       "2  [folk, mac, plus, finally, give, ghost, weekend, start, life, way, sooo, market, new, machine, bite, soon, intend, look, pick, powerbook, maybe, bunch, question, hopefully, somebody, answer, anybody, know, dirt, round, powerbook, introduction, expect, hear, suppose, appearence, summer, haven, he...  \n",
       "3                                                                                                                                                                                                                                                      [weitek, address, phone, numb, like, information, chip]  \n",
       "4            [article, owcb, world, std, com, tombaker, world, std, com, tom, baker, understand, expect, error, basically, know, bug, warn, system, software, thing, check, don, right, value, aren, set, till, launch, suchlike, fix, code, possibly, introduce, new, bug, tell, crow, warn, liftoff, ignore]  "
      ]
     },
     "execution_count": 26,
     "metadata": {},
     "output_type": "execute_result"
    }
   ],
   "source": [
    "df.head()"
   ]
  },
  {
   "cell_type": "markdown",
   "metadata": {},
   "source": [
    "### The two main inputs to the LDA topic model are the dictionary (id2word) and the corpus."
   ]
  },
  {
   "cell_type": "code",
   "execution_count": 27,
   "metadata": {
    "colab": {},
    "colab_type": "code",
    "deletable": false,
    "id": "1klqRpqtJxWc",
    "nbgrader": {
     "cell_type": "code",
     "checksum": "dd66ab4eff9f69a3e9be0aa57fdc2598",
     "grade": false,
     "grade_id": "cell-79d38b90e5c6e38b",
     "locked": false,
     "schema_version": 3,
     "solution": true,
     "task": false
    }
   },
   "outputs": [
    {
     "name": "stderr",
     "output_type": "stream",
     "text": [
      "/opt/anaconda3/envs/U4-S1-NLP/lib/python3.7/site-packages/ipykernel/ipkernel.py:283: DeprecationWarning: `should_run_async` will not call `transform_cell` automatically in the future. Please pass the result to `transformed_cell` argument and any exception that happen during thetransform in `preprocessing_exc_tuple` in IPython 7.17 and above.\n",
      "  and should_run_async(code)\n"
     ]
    }
   ],
   "source": [
    "# Create Dictionary\n",
    "\n",
    "# Term Document Frequency\n",
    "\n",
    "# stores (token id, token count) for each doc in the corpus\n",
    "\n",
    "# Human readable format of corpus (term-frequency)\n",
    "\n",
    "id2word = corpora.Dictionary(df['lemmas'])\n",
    "corpus = [id2word.doc2bow(text) for text in df['lemmas']]"
   ]
  },
  {
   "cell_type": "code",
   "execution_count": 28,
   "metadata": {},
   "outputs": [
    {
     "name": "stderr",
     "output_type": "stream",
     "text": [
      "/opt/anaconda3/envs/U4-S1-NLP/lib/python3.7/site-packages/ipykernel/ipkernel.py:283: DeprecationWarning: `should_run_async` will not call `transform_cell` automatically in the future. Please pass the result to `transformed_cell` argument and any exception that happen during thetransform in `preprocessing_exc_tuple` in IPython 7.17 and above.\n",
      "  and should_run_async(code)\n"
     ]
    },
    {
     "data": {
      "text/plain": [
       "61160"
      ]
     },
     "execution_count": 28,
     "metadata": {},
     "output_type": "execute_result"
    }
   ],
   "source": [
    "# How many words are in our vocab?\n",
    "len(id2word.keys())"
   ]
  },
  {
   "cell_type": "code",
   "execution_count": 29,
   "metadata": {},
   "outputs": [
    {
     "name": "stderr",
     "output_type": "stream",
     "text": [
      "/opt/anaconda3/envs/U4-S1-NLP/lib/python3.7/site-packages/ipykernel/ipkernel.py:283: DeprecationWarning: `should_run_async` will not call `transform_cell` automatically in the future. Please pass the result to `transformed_cell` argument and any exception that happen during thetransform in `preprocessing_exc_tuple` in IPython 7.17 and above.\n",
      "  and should_run_async(code)\n"
     ]
    }
   ],
   "source": [
    "# Let's remove extreme values\n",
    "id2word.filter_extremes(no_below=3, no_above=0.2)"
   ]
  },
  {
   "cell_type": "code",
   "execution_count": 30,
   "metadata": {},
   "outputs": [
    {
     "name": "stderr",
     "output_type": "stream",
     "text": [
      "/opt/anaconda3/envs/U4-S1-NLP/lib/python3.7/site-packages/ipykernel/ipkernel.py:283: DeprecationWarning: `should_run_async` will not call `transform_cell` automatically in the future. Please pass the result to `transformed_cell` argument and any exception that happen during thetransform in `preprocessing_exc_tuple` in IPython 7.17 and above.\n",
      "  and should_run_async(code)\n"
     ]
    },
    {
     "data": {
      "text/plain": [
       "18027"
      ]
     },
     "execution_count": 30,
     "metadata": {},
     "output_type": "execute_result"
    }
   ],
   "source": [
    "# How many words are in our vocab?\n",
    "len(id2word.keys())"
   ]
  },
  {
   "cell_type": "code",
   "execution_count": 31,
   "metadata": {},
   "outputs": [
    {
     "name": "stderr",
     "output_type": "stream",
     "text": [
      "/opt/anaconda3/envs/U4-S1-NLP/lib/python3.7/site-packages/ipykernel/ipkernel.py:283: DeprecationWarning: `should_run_async` will not call `transform_cell` automatically in the future. Please pass the result to `transformed_cell` argument and any exception that happen during thetransform in `preprocessing_exc_tuple` in IPython 7.17 and above.\n",
      "  and should_run_async(code)\n"
     ]
    }
   ],
   "source": [
    "# Re-create DTM with new dictionary of vocab\n",
    "corpus = [id2word.doc2bow(text) for text in df['lemmas']]"
   ]
  },
  {
   "cell_type": "code",
   "execution_count": 32,
   "metadata": {},
   "outputs": [
    {
     "name": "stderr",
     "output_type": "stream",
     "text": [
      "/opt/anaconda3/envs/U4-S1-NLP/lib/python3.7/site-packages/ipykernel/ipkernel.py:283: DeprecationWarning: `should_run_async` will not call `transform_cell` automatically in the future. Please pass the result to `transformed_cell` argument and any exception that happen during thetransform in `preprocessing_exc_tuple` in IPython 7.17 and above.\n",
      "  and should_run_async(code)\n"
     ]
    },
    {
     "data": {
      "text/plain": [
       "'destruction'"
      ]
     },
     "execution_count": 32,
     "metadata": {},
     "output_type": "execute_result"
    }
   ],
   "source": [
    "id2word[200]"
   ]
  },
  {
   "cell_type": "code",
   "execution_count": 33,
   "metadata": {},
   "outputs": [
    {
     "name": "stderr",
     "output_type": "stream",
     "text": [
      "/opt/anaconda3/envs/U4-S1-NLP/lib/python3.7/site-packages/ipykernel/ipkernel.py:283: DeprecationWarning: `should_run_async` will not call `transform_cell` automatically in the future. Please pass the result to `transformed_cell` argument and any exception that happen during thetransform in `preprocessing_exc_tuple` in IPython 7.17 and above.\n",
      "  and should_run_async(code)\n"
     ]
    },
    {
     "data": {
      "text/plain": [
       "['course',\n",
       " 'term',\n",
       " 'rigidly',\n",
       " 'define',\n",
       " 'bill',\n",
       " 'doubt',\n",
       " 'use',\n",
       " 'term',\n",
       " 'quote',\n",
       " 'allegedly',\n",
       " 'read',\n",
       " 'article',\n",
       " 'present',\n",
       " 'argument',\n",
       " 'weapon',\n",
       " 'mass',\n",
       " 'destruction',\n",
       " 'commonly',\n",
       " 'understand',\n",
       " 'switch',\n",
       " 'topic',\n",
       " 'point',\n",
       " 'evidently',\n",
       " 'weapon',\n",
       " 'allow',\n",
       " 'late',\n",
       " 'analysis',\n",
       " 'give',\n",
       " 'understand',\n",
       " 'consider',\n",
       " 'class']"
      ]
     },
     "execution_count": 33,
     "metadata": {},
     "output_type": "execute_result"
    }
   ],
   "source": [
    "df.lemmas.iloc[5]"
   ]
  },
  {
   "cell_type": "code",
   "execution_count": 34,
   "metadata": {},
   "outputs": [
    {
     "name": "stderr",
     "output_type": "stream",
     "text": [
      "/opt/anaconda3/envs/U4-S1-NLP/lib/python3.7/site-packages/ipykernel/ipkernel.py:283: DeprecationWarning: `should_run_async` will not call `transform_cell` automatically in the future. Please pass the result to `transformed_cell` argument and any exception that happen during thetransform in `preprocessing_exc_tuple` in IPython 7.17 and above.\n",
      "  and should_run_async(code)\n"
     ]
    },
    {
     "data": {
      "text/plain": [
       "[(13, 1),\n",
       " (92, 1),\n",
       " (127, 1),\n",
       " (148, 1),\n",
       " (162, 1),\n",
       " (186, 2),\n",
       " (190, 1),\n",
       " (191, 1),\n",
       " (192, 1),\n",
       " (193, 1),\n",
       " (194, 1),\n",
       " (195, 1),\n",
       " (196, 1),\n",
       " (197, 1),\n",
       " (198, 1),\n",
       " (199, 1),\n",
       " (200, 1),\n",
       " (201, 1),\n",
       " (202, 1),\n",
       " (203, 1),\n",
       " (204, 1),\n",
       " (205, 1),\n",
       " (206, 1),\n",
       " (207, 1),\n",
       " (208, 2),\n",
       " (209, 1),\n",
       " (210, 2)]"
      ]
     },
     "execution_count": 34,
     "metadata": {},
     "output_type": "execute_result"
    }
   ],
   "source": [
    "corpus[5]"
   ]
  },
  {
   "cell_type": "code",
   "execution_count": 35,
   "metadata": {},
   "outputs": [
    {
     "name": "stderr",
     "output_type": "stream",
     "text": [
      "/opt/anaconda3/envs/U4-S1-NLP/lib/python3.7/site-packages/ipykernel/ipkernel.py:283: DeprecationWarning: `should_run_async` will not call `transform_cell` automatically in the future. Please pass the result to `transformed_cell` argument and any exception that happen during thetransform in `preprocessing_exc_tuple` in IPython 7.17 and above.\n",
      "  and should_run_async(code)\n"
     ]
    },
    {
     "data": {
      "text/plain": [
       "[('late', 1),\n",
       " ('give', 1),\n",
       " ('read', 1),\n",
       " ('use', 1),\n",
       " ('article', 1),\n",
       " ('understand', 2),\n",
       " ('allegedly', 1),\n",
       " ('allow', 1),\n",
       " ('analysis', 1),\n",
       " ('argument', 1),\n",
       " ('bill', 1),\n",
       " ('class', 1),\n",
       " ('commonly', 1),\n",
       " ('consider', 1),\n",
       " ('course', 1),\n",
       " ('define', 1),\n",
       " ('destruction', 1),\n",
       " ('doubt', 1),\n",
       " ('evidently', 1),\n",
       " ('mass', 1),\n",
       " ('point', 1),\n",
       " ('present', 1),\n",
       " ('quote', 1),\n",
       " ('switch', 1),\n",
       " ('term', 2),\n",
       " ('topic', 1),\n",
       " ('weapon', 2)]"
      ]
     },
     "execution_count": 35,
     "metadata": {},
     "output_type": "execute_result"
    }
   ],
   "source": [
    "[(id2word[word_id], word_count) for word_id, word_count in corpus[5]]"
   ]
  },
  {
   "cell_type": "markdown",
   "metadata": {},
   "source": [
    "# Part 2: Estimate a LDA Model with Gensim"
   ]
  },
  {
   "cell_type": "markdown",
   "metadata": {},
   "source": [
    " ### Train an LDA model"
   ]
  },
  {
   "cell_type": "code",
   "execution_count": 36,
   "metadata": {
    "colab": {},
    "colab_type": "code",
    "id": "Fasvjf0VLQ2a"
   },
   "outputs": [
    {
     "name": "stderr",
     "output_type": "stream",
     "text": [
      "/opt/anaconda3/envs/U4-S1-NLP/lib/python3.7/site-packages/ipykernel/ipkernel.py:283: DeprecationWarning: `should_run_async` will not call `transform_cell` automatically in the future. Please pass the result to `transformed_cell` argument and any exception that happen during thetransform in `preprocessing_exc_tuple` in IPython 7.17 and above.\n",
      "  and should_run_async(code)\n"
     ]
    }
   ],
   "source": [
    "### This cell runs the single-processor version of the model (slower)\n",
    "# %%time\n",
    "# lda_model = gensim.models.ldamodel.LdaModel(corpus=corpus,\n",
    "#                                            id2word=id2word,\n",
    "#                                            num_topics=20, \n",
    "#                                            chunksize=100,\n",
    "#                                            passes=10,\n",
    "#                                            per_word_topics=True)\n",
    "# lda_model.save('lda_model.model')\n",
    "# # https://radimrehurek.com/gensim/models/ldamodel.html"
   ]
  },
  {
   "cell_type": "code",
   "execution_count": 37,
   "metadata": {},
   "outputs": [
    {
     "name": "stderr",
     "output_type": "stream",
     "text": [
      "/opt/anaconda3/envs/U4-S1-NLP/lib/python3.7/site-packages/ipykernel/ipkernel.py:283: DeprecationWarning: `should_run_async` will not call `transform_cell` automatically in the future. Please pass the result to `transformed_cell` argument and any exception that happen during thetransform in `preprocessing_exc_tuple` in IPython 7.17 and above.\n",
      "  and should_run_async(code)\n"
     ]
    },
    {
     "name": "stdout",
     "output_type": "stream",
     "text": [
      "CPU times: user 20.9 s, sys: 7.25 s, total: 28.1 s\n",
      "Wall time: 27 s\n"
     ]
    }
   ],
   "source": [
    "%%time\n",
    "lda_multicore = gensim.models.ldamulticore.LdaMulticore(corpus=corpus,\n",
    "                                                        id2word=id2word,\n",
    "                                                        num_topics=20, \n",
    "                                                        chunksize=100,\n",
    "                                                        passes=10,\n",
    "                                                        per_word_topics=True,\n",
    "                                                        workers=12)\n",
    "\n",
    "\n",
    "lda_multicore.save('lda_multicore.model')\n",
    "# https://radimrehurek.com/gensim/models/ldamulticore.html"
   ]
  },
  {
   "cell_type": "code",
   "execution_count": 38,
   "metadata": {},
   "outputs": [
    {
     "name": "stderr",
     "output_type": "stream",
     "text": [
      "/opt/anaconda3/envs/U4-S1-NLP/lib/python3.7/site-packages/ipykernel/ipkernel.py:283: DeprecationWarning: `should_run_async` will not call `transform_cell` automatically in the future. Please pass the result to `transformed_cell` argument and any exception that happen during thetransform in `preprocessing_exc_tuple` in IPython 7.17 and above.\n",
      "  and should_run_async(code)\n"
     ]
    }
   ],
   "source": [
    "from gensim import models\n",
    "lda_multicore =  models.LdaModel.load('lda_multicore.model')"
   ]
  },
  {
   "cell_type": "markdown",
   "metadata": {},
   "source": [
    "### View the topics in LDA model"
   ]
  },
  {
   "cell_type": "code",
   "execution_count": 39,
   "metadata": {},
   "outputs": [
    {
     "name": "stderr",
     "output_type": "stream",
     "text": [
      "/opt/anaconda3/envs/U4-S1-NLP/lib/python3.7/site-packages/ipykernel/ipkernel.py:283: DeprecationWarning: `should_run_async` will not call `transform_cell` automatically in the future. Please pass the result to `transformed_cell` argument and any exception that happen during thetransform in `preprocessing_exc_tuple` in IPython 7.17 and above.\n",
      "  and should_run_async(code)\n"
     ]
    },
    {
     "data": {
      "text/plain": [
       "rec.sport.hockey            600\n",
       "soc.religion.christian      599\n",
       "rec.motorcycles             598\n",
       "rec.sport.baseball          597\n",
       "sci.crypt                   595\n",
       "rec.autos                   594\n",
       "sci.med                     594\n",
       "sci.space                   593\n",
       "comp.windows.x              593\n",
       "comp.os.ms-windows.misc     591\n",
       "sci.electronics             591\n",
       "comp.sys.ibm.pc.hardware    590\n",
       "misc.forsale                585\n",
       "comp.graphics               584\n",
       "comp.sys.mac.hardware       578\n",
       "talk.politics.mideast       564\n",
       "talk.politics.guns          546\n",
       "alt.atheism                 480\n",
       "talk.politics.misc          465\n",
       "talk.religion.misc          377\n",
       "Name: target_names, dtype: int64"
      ]
     },
     "execution_count": 39,
     "metadata": {},
     "output_type": "execute_result"
    }
   ],
   "source": [
    "df.target_names.value_counts()"
   ]
  },
  {
   "cell_type": "code",
   "execution_count": 40,
   "metadata": {
    "colab": {},
    "colab_type": "code",
    "id": "JawR8yscLVNS"
   },
   "outputs": [
    {
     "name": "stdout",
     "output_type": "stream",
     "text": [
      "[(0,\n",
      "  '0.017*\"window\" + 0.013*\"card\" + 0.012*\"use\" + 0.012*\"drive\" + '\n",
      "  '0.011*\"system\" + 0.011*\"problem\" + 0.010*\"disk\" + 0.009*\"work\" + '\n",
      "  '0.008*\"bite\" + 0.008*\"run\"'),\n",
      " (1,\n",
      "  '0.027*\"space\" + 0.010*\"launch\" + 0.010*\"nasa\" + 0.007*\"earth\" + '\n",
      "  '0.007*\"satellite\" + 0.007*\"year\" + 0.007*\"mission\" + 0.007*\"orbit\" + '\n",
      "  '0.006*\"shuttle\" + 0.006*\"time\"'),\n",
      " (2,\n",
      "  '0.016*\"good\" + 0.012*\"get\" + 0.009*\"fire\" + 0.009*\"people\" + 0.009*\"hear\" + '\n",
      "  '0.009*\"start\" + 0.008*\"right\" + 0.008*\"thing\" + 0.007*\"post\" + '\n",
      "  '0.007*\"sure\"'),\n",
      " (3,\n",
      "  '0.053*\"drive\" + 0.022*\"master\" + 0.019*\"slave\" + 0.019*\"jumper\" + '\n",
      "  '0.011*\"head\" + 0.010*\"engine\" + 0.010*\"close\" + 0.010*\"single\" + '\n",
      "  '0.009*\"open\" + 0.009*\"car\"'),\n",
      " (4,\n",
      "  '0.015*\"israel\" + 0.012*\"armenian\" + 0.012*\"war\" + 0.011*\"jews\" + '\n",
      "  '0.010*\"armenians\" + 0.009*\"israeli\" + 0.008*\"kill\" + 0.008*\"people\" + '\n",
      "  '0.008*\"attack\" + 0.008*\"turkish\"'),\n",
      " (5,\n",
      "  '0.027*\"car\" + 0.019*\"price\" + 0.017*\"sell\" + 0.015*\"new\" + 0.014*\"buy\" + '\n",
      "  '0.014*\"sale\" + 0.011*\"offer\" + 0.011*\"pay\" + 0.009*\"well\" + 0.009*\"year\"'),\n",
      " (6,\n",
      "  '0.403*\"max\" + 0.037*\"bhj\" + 0.036*\"giz\" + 0.020*\"qax\" + 0.018*\"bxn\" + '\n",
      "  '0.010*\"okz\" + 0.010*\"nrhj\" + 0.009*\"biz\" + 0.007*\"fij\" + 0.007*\"tct\"'),\n",
      " (7,\n",
      "  '0.018*\"gun\" + 0.015*\"state\" + 0.011*\"law\" + 0.009*\"right\" + '\n",
      "  '0.008*\"government\" + 0.008*\"weapon\" + 0.008*\"people\" + 0.007*\"crime\" + '\n",
      "  '0.006*\"firearm\" + 0.006*\"control\"'),\n",
      " (8,\n",
      "  '0.009*\"water\" + 0.008*\"good\" + 0.008*\"science\" + 0.006*\"new\" + '\n",
      "  '0.005*\"model\" + 0.005*\"theory\" + 0.005*\"value\" + 0.005*\"thing\" + '\n",
      "  '0.005*\"time\" + 0.005*\"objective\"'),\n",
      " (9,\n",
      "  '0.016*\"chz\" + 0.014*\"air\" + 0.010*\"rlk\" + 0.009*\"gcx\" + 0.009*\"uww\" + '\n",
      "  '0.009*\"rck\" + 0.007*\"abc\" + 0.007*\"rmc\" + 0.007*\"lhz\" + 0.007*\"alomar\"'),\n",
      " (10,\n",
      "  '0.026*\"bike\" + 0.017*\"ride\" + 0.011*\"dod\" + 0.011*\"motorcycle\" + '\n",
      "  '0.009*\"look\" + 0.007*\"time\" + 0.007*\"road\" + 0.006*\"helmet\" + 0.006*\"ask\" + '\n",
      "  '0.006*\"good\"'),\n",
      " (11,\n",
      "  '0.019*\"key\" + 0.008*\"government\" + 0.007*\"president\" + 0.007*\"chip\" + '\n",
      "  '0.007*\"system\" + 0.007*\"encryption\" + 0.007*\"use\" + 0.006*\"public\" + '\n",
      "  '0.005*\"people\" + 0.005*\"group\"'),\n",
      " (12,\n",
      "  '0.011*\"health\" + 0.011*\"report\" + 0.011*\"child\" + 0.010*\"use\" + '\n",
      "  '0.009*\"disease\" + 0.009*\"medical\" + 0.009*\"patient\" + 0.008*\"case\" + '\n",
      "  '0.008*\"research\" + 0.008*\"drug\"'),\n",
      " (13,\n",
      "  '0.024*\"game\" + 0.019*\"team\" + 0.015*\"play\" + 0.012*\"year\" + 0.012*\"win\" + '\n",
      "  '0.011*\"player\" + 0.008*\"hockey\" + 0.008*\"season\" + 0.007*\"well\" + '\n",
      "  '0.007*\"league\"'),\n",
      " (14,\n",
      "  '0.029*\"entry\" + 0.024*\"file\" + 0.019*\"output\" + 0.016*\"program\" + '\n",
      "  '0.014*\"line\" + 0.011*\"section\" + 0.011*\"build\" + 0.010*\"rule\" + 0.009*\"int\" '\n",
      "  '+ 0.008*\"return\"'),\n",
      " (15,\n",
      "  '0.042*\"edu\" + 0.040*\"file\" + 0.024*\"image\" + 0.018*\"com\" + 0.011*\"post\" + '\n",
      "  '0.009*\"jpeg\" + 0.009*\"color\" + 0.009*\"ftp\" + 0.009*\"gif\" + 0.009*\"site\"'),\n",
      " (16,\n",
      "  '0.020*\"go\" + 0.018*\"say\" + 0.014*\"people\" + 0.014*\"come\" + 0.012*\"time\" + '\n",
      "  '0.010*\"tell\" + 0.009*\"want\" + 0.008*\"get\" + 0.008*\"didn\" + 0.008*\"see\"'),\n",
      " (17,\n",
      "  '0.012*\"wire\" + 0.009*\"problem\" + 0.009*\"use\" + 0.008*\"power\" + 0.006*\"need\" '\n",
      "  '+ 0.006*\"work\" + 0.006*\"point\" + 0.006*\"good\" + 0.006*\"grind\" + '\n",
      "  '0.006*\"input\"'),\n",
      " (18,\n",
      "  '0.018*\"god\" + 0.011*\"people\" + 0.008*\"believe\" + 0.007*\"jesus\" + '\n",
      "  '0.007*\"say\" + 0.006*\"mean\" + 0.006*\"thing\" + 0.005*\"bible\" + 0.005*\"way\" + '\n",
      "  '0.005*\"come\"'),\n",
      " (19,\n",
      "  '0.012*\"mail\" + 0.010*\"available\" + 0.010*\"edu\" + 0.010*\"list\" + '\n",
      "  '0.009*\"include\" + 0.008*\"server\" + 0.007*\"version\" + 0.007*\"information\" + '\n",
      "  '0.007*\"send\" + 0.007*\"program\"')]\n"
     ]
    },
    {
     "name": "stderr",
     "output_type": "stream",
     "text": [
      "/opt/anaconda3/envs/U4-S1-NLP/lib/python3.7/site-packages/ipykernel/ipkernel.py:283: DeprecationWarning: `should_run_async` will not call `transform_cell` automatically in the future. Please pass the result to `transformed_cell` argument and any exception that happen during thetransform in `preprocessing_exc_tuple` in IPython 7.17 and above.\n",
      "  and should_run_async(code)\n"
     ]
    }
   ],
   "source": [
    "# display the print_topics from the model \n",
    "pprint(lda_multicore.print_topics())"
   ]
  },
  {
   "cell_type": "code",
   "execution_count": 41,
   "metadata": {},
   "outputs": [
    {
     "name": "stderr",
     "output_type": "stream",
     "text": [
      "/opt/anaconda3/envs/U4-S1-NLP/lib/python3.7/site-packages/ipykernel/ipkernel.py:283: DeprecationWarning: `should_run_async` will not call `transform_cell` automatically in the future. Please pass the result to `transformed_cell` argument and any exception that happen during thetransform in `preprocessing_exc_tuple` in IPython 7.17 and above.\n",
      "  and should_run_async(code)\n"
     ]
    },
    {
     "data": {
      "text/plain": [
       "['fair',\n",
       " 'numb',\n",
       " 'brave',\n",
       " 'soul',\n",
       " 'upgrade',\n",
       " 'clock',\n",
       " 'oscillator',\n",
       " 'share',\n",
       " 'experience',\n",
       " 'poll',\n",
       " 'send',\n",
       " 'brief',\n",
       " 'message',\n",
       " 'detail',\n",
       " 'experience',\n",
       " 'procedure',\n",
       " 'speed',\n",
       " 'attain',\n",
       " 'cpu',\n",
       " 'rate',\n",
       " 'speed',\n",
       " 'add',\n",
       " 'card',\n",
       " 'adapter',\n",
       " 'heat',\n",
       " 'sink',\n",
       " 'hour',\n",
       " 'usage',\n",
       " 'day',\n",
       " 'floppy',\n",
       " 'disk',\n",
       " 'functionality',\n",
       " 'floppy',\n",
       " 'especially',\n",
       " 'request',\n",
       " 'summarize',\n",
       " 'day',\n",
       " 'add',\n",
       " 'network',\n",
       " 'knowledge',\n",
       " 'base',\n",
       " 'clock',\n",
       " 'upgrade',\n",
       " 'haven',\n",
       " 'answer',\n",
       " 'poll',\n",
       " 'thank']"
      ]
     },
     "execution_count": 41,
     "metadata": {},
     "output_type": "execute_result"
    }
   ],
   "source": [
    "df.lemmas.iloc[1]"
   ]
  },
  {
   "cell_type": "code",
   "execution_count": 42,
   "metadata": {},
   "outputs": [
    {
     "name": "stderr",
     "output_type": "stream",
     "text": [
      "/opt/anaconda3/envs/U4-S1-NLP/lib/python3.7/site-packages/ipykernel/ipkernel.py:283: DeprecationWarning: `should_run_async` will not call `transform_cell` automatically in the future. Please pass the result to `transformed_cell` argument and any exception that happen during thetransform in `preprocessing_exc_tuple` in IPython 7.17 and above.\n",
      "  and should_run_async(code)\n"
     ]
    },
    {
     "data": {
      "text/plain": [
       "[(0, 0.59957355), (15, 0.060876947), (17, 0.18803664), (19, 0.13483146)]"
      ]
     },
     "execution_count": 42,
     "metadata": {},
     "output_type": "execute_result"
    }
   ],
   "source": [
    "doc_lda = lda_multicore[corpus]\n",
    "doc_lda[1][0]"
   ]
  },
  {
   "cell_type": "markdown",
   "metadata": {},
   "source": [
    "# Part 3: Interpret LDA results & Select the appropriate number of topics"
   ]
  },
  {
   "cell_type": "code",
   "execution_count": 43,
   "metadata": {
    "colab": {},
    "colab_type": "code",
    "id": "CYXi480VLaHK"
   },
   "outputs": [
    {
     "name": "stderr",
     "output_type": "stream",
     "text": [
      "/opt/anaconda3/envs/U4-S1-NLP/lib/python3.7/site-packages/ipykernel/ipkernel.py:283: DeprecationWarning: `should_run_async` will not call `transform_cell` automatically in the future. Please pass the result to `transformed_cell` argument and any exception that happen during thetransform in `preprocessing_exc_tuple` in IPython 7.17 and above.\n",
      "  and should_run_async(code)\n"
     ]
    },
    {
     "data": {
      "text/html": [
       "\n",
       "<link rel=\"stylesheet\" type=\"text/css\" href=\"https://cdn.rawgit.com/bmabey/pyLDAvis/files/ldavis.v1.0.0.css\">\n",
       "\n",
       "\n",
       "<div id=\"ldavis_el203551403803160426083257112402\"></div>\n",
       "<script type=\"text/javascript\">\n",
       "\n",
       "var ldavis_el203551403803160426083257112402_data = {\"mdsDat\": {\"x\": [0.108162085215028, 0.09642475297140449, 0.08419179923518241, 0.035889418168486224, 0.09554333412092697, 0.0685010970888877, 0.005474126642068518, 0.04853802728178139, 0.07203199481556471, 0.03519340360455654, 0.08961237240085551, -0.027660688176791102, 0.03402782814274336, 0.03774224413286014, 0.04358798636580248, -0.04362069921928225, 0.020524663130979368, -0.011282888067729277, -0.44050989321863815, -0.35237096463468676], \"y\": [0.0907399658925463, -0.01929346401678694, -0.145655249149298, -0.24680477665631081, 0.16154038490799244, 0.09645397026518343, 0.09730557777320666, -0.018794996597584823, -0.03653852663776738, 0.16689928292133574, 0.12706417004815143, -0.21585291597939016, -0.0019330188276342997, 0.019094531930839858, 0.03220740533911302, -0.19631568382324782, 0.05201799859379, -0.07011041063132968, 0.040023506903226314, 0.06795224774396472], \"topics\": [1, 2, 3, 4, 5, 6, 7, 8, 9, 10, 11, 12, 13, 14, 15, 16, 17, 18, 19, 20], \"cluster\": [1, 1, 1, 1, 1, 1, 1, 1, 1, 1, 1, 1, 1, 1, 1, 1, 1, 1, 1, 1], \"Freq\": [13.44835250834564, 9.354546900850586, 9.230106675247916, 9.161510254114043, 8.027723095547408, 6.257827251747848, 6.096590417462943, 4.628172361422148, 4.504947515059661, 4.450911415172586, 3.8310647068135846, 3.4064518645007342, 3.2255503137458152, 3.174390569388758, 2.958738580623551, 2.3537336812114393, 1.9645484662892905, 1.533194557723476, 1.3024900109337676, 1.0891488537988094]}, \"tinfo\": {\"Term\": [\"max\", \"file\", \"drive\", \"edu\", \"god\", \"game\", \"space\", \"key\", \"window\", \"image\", \"team\", \"car\", \"gun\", \"program\", \"com\", \"entry\", \"go\", \"good\", \"law\", \"card\", \"play\", \"say\", \"use\", \"price\", \"people\", \"government\", \"system\", \"bhj\", \"year\", \"israel\", \"jesus\", \"bible\", \"christ\", \"faith\", \"church\", \"scripture\", \"atheist\", \"doctrine\", \"catholic\", \"christianity\", \"worship\", \"gospel\", \"biblical\", \"eternal\", \"revelation\", \"verse\", \"god\", \"prayer\", \"sabbath\", \"christians\", \"contradiction\", \"prophet\", \"priest\", \"ld\", \"mormon\", \"testament\", \"tyre\", \"pope\", \"marriage\", \"apostle\", \"religion\", \"christian\", \"belief\", \"heaven\", \"sin\", \"lord\", \"truth\", \"holy\", \"passage\", \"religious\", \"atheism\", \"existence\", \"interpretation\", \"moral\", \"spirit\", \"believe\", \"teach\", \"argument\", \"life\", \"word\", \"evidence\", \"love\", \"people\", \"reason\", \"mean\", \"claim\", \"true\", \"man\", \"exist\", \"say\", \"human\", \"thing\", \"question\", \"way\", \"point\", \"come\", \"read\", \"time\", \"fact\", \"find\", \"book\", \"encryption\", \"encrypt\", \"nsa\", \"escrow\", \"cryptography\", \"crypto\", \"privacy\", \"cipher\", \"rsa\", \"decrypt\", \"wiretap\", \"des\", \"crypt\", \"clipper\", \"initiative\", \"serbs\", \"gaza\", \"plaintext\", \"investment\", \"egg\", \"infrastructure\", \"eff\", \"hypothesis\", \"republicans\", \"decimal\", \"classify\", \"cryptology\", \"escrowed\", \"loan\", \"pile\", \"patent\", \"secure\", \"president\", \"key\", \"agency\", \"security\", \"proposal\", \"administration\", \"industry\", \"enforcement\", \"private\", \"secret\", \"pgp\", \"clinton\", \"technology\", \"chip\", \"public\", \"government\", \"communication\", \"scheme\", \"algorithm\", \"phone\", \"block\", \"policy\", \"group\", \"system\", \"law\", \"information\", \"use\", \"program\", \"numb\", \"people\", \"work\", \"need\", \"new\", \"question\", \"provide\", \"datum\", \"right\", \"scsi\", \"controller\", \"simms\", \"vga\", \"cursor\", \"vram\", \"irq\", \"icon\", \"quadra\", \"cache\", \"adaptec\", \"centris\", \"vlb\", \"ctrl\", \"dma\", \"novell\", \"mfm\", \"ram\", \"ati\", \"ini\", \"sync\", \"floppy\", \"eisa\", \"exe\", \"conner\", \"iranian\", \"interleave\", \"autoexec\", \"esdi\", \"adapter\", \"disk\", \"card\", \"isa\", \"vesa\", \"upgrade\", \"gateway\", \"microsoft\", \"meg\", \"modem\", \"motherboard\", \"mac\", \"memory\", \"video\", \"ide\", \"monitor\", \"window\", \"apple\", \"port\", \"dos\", \"driver\", \"bus\", \"mhz\", \"mode\", \"screen\", \"cpu\", \"drive\", \"rom\", \"bite\", \"fast\", \"problem\", \"board\", \"machine\", \"system\", \"use\", \"run\", \"work\", \"color\", \"thank\", \"hard\", \"software\", \"need\", \"try\", \"program\", \"time\", \"file\", \"get\", \"contrib\", \"motif\", \"lcs\", \"toolkit\", \"xfree\", \"linux\", \"sunos\", \"widget\", \"visualization\", \"ncsl\", \"tutorial\", \"openwindows\", \"risc\", \"xdm\", \"intrinsic\", \"svr\", \"workspace\", \"mit\", \"functionality\", \"reilly\", \"ptr\", \"gcc\", \"osf\", \"midi\", \"authentication\", \"gui\", \"emacs\", \"pex\", \"tex\", \"coprocessor\", \"tar\", \"sgi\", \"visual\", \"server\", \"pixmap\", \"xview\", \"xterm\", \"usr\", \"readme\", \"lib\", \"client\", \"library\", \"dec\", \"unix\", \"fax\", \"export\", \"sun\", \"resource\", \"graphic\", \"mail\", \"request\", \"available\", \"xlib\", \"list\", \"faq\", \"user\", \"application\", \"version\", \"pub\", \"ftp\", \"code\", \"software\", \"include\", \"send\", \"edu\", \"information\", \"source\", \"com\", \"program\", \"thank\", \"window\", \"datum\", \"system\", \"use\", \"set\", \"run\", \"write\", \"apartment\", \"sumgait\", \"mamma\", \"cpsr\", \"dodger\", \"marker\", \"lyuda\", \"karina\", \"marina\", \"balcony\", \"chop\", \"shout\", \"sock\", \"powerpc\", \"stadium\", \"microdistrict\", \"mormons\", \"rescue\", \"nords\", \"keenan\", \"aunt\", \"compliance\", \"outstanding\", \"theirs\", \"trophy\", \"simulate\", \"rednecks\", \"faint\", \"entryway\", \"ambulance\", \"deficit\", \"stimulus\", \"sleeve\", \"clothe\", \"morning\", \"dance\", \"bed\", \"crowd\", \"go\", \"daughter\", \"cop\", \"neighbor\", \"weekend\", \"wife\", \"boy\", \"didn\", \"say\", \"mother\", \"come\", \"happen\", \"tell\", \"see\", \"catch\", \"couldn\", \"home\", \"woman\", \"beat\", \"night\", \"day\", \"live\", \"people\", \"remember\", \"want\", \"take\", \"stand\", \"time\", \"leave\", \"get\", \"start\", \"break\", \"stop\", \"look\", \"hear\", \"thing\", \"hand\", \"year\", \"right\", \"let\", \"work\", \"ask\", \"way\", \"try\", \"old\", \"handgun\", \"firearm\", \"greece\", \"homicide\", \"rkba\", \"gun\", \"metropolitan\", \"skipjack\", \"hci\", \"wale\", \"shotgun\", \"rayshade\", \"brady\", \"germans\", \"statute\", \"iran\", \"hemisphere\", \"ahmet\", \"cypriot\", \"parliament\", \"rifle\", \"constitution\", \"census\", \"korea\", \"memoir\", \"mississippi\", \"saw\", \"attendance\", \"prohibition\", \"irgun\", \"crime\", \"militia\", \"weapon\", \"amendment\", \"minority\", \"violent\", \"pistol\", \"nra\", \"election\", \"assault\", \"revolution\", \"ban\", \"liberty\", \"criminal\", \"greeks\", \"greek\", \"youth\", \"arm\", \"officer\", \"state\", \"citizen\", \"law\", \"unite\", \"police\", \"federal\", \"court\", \"government\", \"control\", \"defense\", \"right\", \"bill\", \"member\", \"carry\", \"people\", \"american\", \"rate\", \"year\", \"case\", \"country\", \"national\", \"issue\", \"use\", \"hockey\", \"nhl\", \"pt\", \"playoff\", \"leaf\", \"chi\", \"bos\", \"montreal\", \"tor\", \"stl\", \"puck\", \"calgary\", \"que\", \"pitt\", \"nyi\", \"islander\", \"hitter\", \"hartford\", \"winnipeg\", \"scorer\", \"phi\", \"score\", \"pitcher\", \"cadre\", \"shameful\", \"intellect\", \"geb\", \"chastity\", \"jxp\", \"championship\", \"flyer\", \"league\", \"baseball\", \"player\", \"det\", \"team\", \"coach\", \"game\", \"minnesota\", \"season\", \"pitch\", \"play\", \"philadelphia\", \"detroit\", \"cal\", \"pit\", \"fan\", \"ranger\", \"toronto\", \"pittsburgh\", \"goal\", \"win\", \"boston\", \"chicago\", \"cup\", \"year\", \"period\", \"wing\", \"min\", \"well\", \"van\", \"hit\", \"pick\", \"lose\", \"good\", \"run\", \"point\", \"get\", \"new\", \"2\", \"time\", \"orbit\", \"ripem\", \"shuttle\", \"lunar\", \"spacecraft\", \"planetary\", \"orbital\", \"payload\", \"orbiter\", \"venus\", \"hare\", \"propulsion\", \"exploration\", \"atmospheric\", \"comet\", \"observatory\", \"astronaut\", \"ozone\", \"larson\", \"satellite\", \"solar\", \"iapetus\", \"balloon\", \"asteroid\", \"thermal\", \"booster\", \"atom\", \"voyager\", \"galileo\", \"titan\", \"launch\", \"moon\", \"diagnose\", \"diagnosis\", \"mission\", \"space\", \"telescope\", \"nasa\", \"belt\", \"mar\", \"flight\", \"therapy\", \"antenna\", \"rocket\", \"probe\", \"earth\", \"planet\", \"energy\", \"cost\", \"vehicle\", \"surface\", \"saturn\", \"sci\", \"year\", \"datum\", \"center\", \"system\", \"project\", \"time\", \"high\", \"program\", \"low\", \"large\", \"circuit\", \"voltage\", \"outlet\", \"latch\", \"steer\", \"resistor\", \"volt\", \"wire\", \"sperm\", \"cec\", \"capacitor\", \"rmw\", \"deskjet\", \"harddisk\", \"bathroom\", \"transformer\", \"truetype\", \"gnd\", \"sinus\", \"adb\", \"glutamate\", \"dim\", \"mixer\", \"transistor\", \"currency\", \"honour\", \"gnv\", \"countersteering\", \"convertible\", \"chlorine\", \"amp\", \"bedroom\", \"pulse\", \"metal\", \"aluminum\", \"audio\", \"battery\", \"watt\", \"copper\", \"repair\", \"grind\", \"noise\", \"mount\", \"hole\", \"electrical\", \"heat\", \"stereo\", \"input\", \"supply\", \"receiver\", \"cable\", \"signal\", \"edge\", \"pin\", \"tape\", \"connect\", \"power\", \"panel\", \"switch\", \"light\", \"problem\", \"current\", \"use\", \"box\", \"point\", \"need\", \"high\", \"low\", \"line\", \"work\", \"good\", \"turn\", \"thing\", \"lead\", \"look\", \"find\", \"want\", \"way\", \"israeli\", \"arab\", \"village\", \"arabs\", \"lebanese\", \"lebanon\", \"israelis\", \"nazis\", \"palestinians\", \"azeri\", \"catcher\", \"comic\", \"massacre\", \"quicktime\", \"lopez\", \"azeris\", \"refugee\", \"clayton\", \"helicopter\", \"erzurum\", \"israel\", \"guerilla\", \"ankara\", \"yassin\", \"agdam\", \"syrian\", \"tartar\", \"rebind\", \"collaboration\", \"homeland\", \"istanbul\", \"inhabitant\", \"armenia\", \"ottoman\", \"nazi\", \"armenian\", \"holocaust\", \"occupation\", \"occupy\", \"armenians\", \"jews\", \"territory\", \"war\", \"genocide\", \"turkey\", \"turkish\", \"civilian\", \"azerbaijan\", \"soldier\", \"jewish\", \"attack\", \"turks\", \"troop\", \"muslim\", \"army\", \"kill\", \"russian\", \"peace\", \"land\", \"force\", \"people\", \"country\", \"population\", \"world\", \"time\", \"man\", \"fuse\", \"davidians\", \"magus\", \"mach\", \"trunk\", \"bumper\", \"cruiser\", \"und\", \"gauge\", \"armor\", \"columbus\", \"lesbian\", \"sunlight\", \"itch\", \"attest\", \"syquest\", \"molest\", \"isle\", \"kingman\", \"lunatic\", \"feustel\", \"canseco\", \"dissolve\", \"foote\", \"gup\", \"radioactive\", \"charley\", \"respectable\", \"unofficial\", \"paranoid\", \"koresh\", \"compound\", \"nut\", \"batf\", \"waco\", \"revise\", \"pirate\", \"fire\", \"gas\", \"tank\", \"joke\", \"screw\", \"cult\", \"fbi\", \"astros\", \"tall\", \"repost\", \"tiger\", \"smiley\", \"guy\", \"good\", \"guess\", \"hear\", \"get\", \"btw\", \"sorry\", \"start\", \"wouldn\", \"yes\", \"miss\", \"maybe\", \"sure\", \"pretty\", \"thing\", \"right\", \"post\", \"long\", \"let\", \"wrong\", \"people\", \"didn\", \"want\", \"go\", \"time\", \"tell\", \"actually\", \"see\", \"try\", \"believe\", \"read\", \"gif\", \"viewer\", \"jpeg\", \"telnet\", \"cica\", \"mydisplay\", \"bmp\", \"explosive\", \"upenn\", \"siggraph\", \"ihl\", \"hostname\", \"gifs\", \"indiana\", \"palette\", \"ver\", \"activate\", \"oscillator\", \"summit\", \"aggression\", \"expos\", \"chevy\", \"tulsa\", \"ivy\", \"keller\", \"jpg\", \"quakers\", \"kkeller\", \"carson\", \"cmap\", \"sas\", \"zip\", \"compuserve\", \"vat\", \"upload\", \"nic\", \"uci\", \"anon\", \"image\", \"edu\", \"usenet\", \"submission\", \"file\", \"anonymous\", \"directory\", \"posting\", \"marc\", \"site\", \"internet\", \"com\", \"ftp\", \"color\", \"format\", \"convert\", \"apr\", \"email\", \"post\", \"article\", \"vote\", \"pub\", \"newsgroup\", \"address\", \"win\", \"mail\", \"copy\", \"news\", \"read\", \"line\", \"send\", \"baltimore\", \"oiler\", \"imake\", \"cape\", \"edm\", \"disc\", \"gfx\", \"mpc\", \"cds\", \"sabre\", \"mazda\", \"exclusive\", \"xwd\", \"breton\", \"confidential\", \"transmitter\", \"andersson\", \"handheld\", \"idacom\", \"salesman\", \"regulator\", \"taurus\", \"volvo\", \"supra\", \"ranford\", \"ipx\", \"toyota\", \"rust\", \"jmd\", \"oklahoma\", \"revolver\", \"spider\", \"insurance\", \"cartridge\", \"ford\", \"sale\", \"car\", \"buyer\", \"price\", \"ab\", \"sell\", \"auto\", \"dealer\", \"ship\", \"buy\", \"offer\", \"pay\", \"owner\", \"annual\", \"company\", \"trade\", \"new\", \"ticket\", \"money\", \"unit\", \"magazine\", \"well\", \"dos\", \"year\", \"cost\", \"appear\", \"interest\", \"model\", \"cover\", \"include\", \"good\", \"old\", \"condition\", \"market\", \"month\", \"get\", \"look\", \"myers\", \"cancer\", \"msg\", \"hiv\", \"hicnet\", \"physician\", \"clinical\", \"pem\", \"dose\", \"prevalence\", \"protein\", \"sugar\", \"vaccine\", \"patient\", \"disease\", \"diet\", \"immune\", \"myth\", \"heterosexual\", \"cdc\", \"outbreak\", \"infection\", \"dna\", \"gibson\", \"infect\", \"corn\", \"antibiotic\", \"vitamin\", \"organism\", \"mercedes\", \"prevention\", \"neutral\", \"medical\", \"chinese\", \"syndrome\", \"health\", \"seizure\", \"cure\", \"surveillance\", \"sphere\", \"food\", \"drug\", \"adult\", \"treatment\", \"age\", \"aid\", \"newsletter\", \"medicine\", \"smoke\", \"report\", \"risk\", \"increase\", \"research\", \"child\", \"safety\", \"center\", \"study\", \"case\", \"evidence\", \"use\", \"cause\", \"numb\", \"april\", \"state\", \"year\", \"test\", \"compete\", \"rockefeller\", \"subjective\", \"vpic\", \"polish\", \"conception\", \"judaism\", \"temp\", \"obedience\", \"household\", \"theist\", \"plutonium\", \"knight\", \"reproductive\", \"cruel\", \"toshiba\", \"reactor\", \"temporal\", \"hdd\", \"ncaa\", \"overcome\", \"harper\", \"mortality\", \"pink\", \"lan\", \"happiness\", \"anaheim\", \"winmarks\", \"sceptical\", \"rhode\", \"greeting\", \"ivf\", \"prophesy\", \"denver\", \"carolina\", \"psychology\", \"mainstream\", \"water\", \"methodology\", \"recipient\", \"humor\", \"inherent\", \"objective\", \"dept\", \"plant\", \"science\", \"theory\", \"einstein\", \"nuclear\", \"art\", \"blast\", \"model\", \"cool\", \"value\", \"good\", \"scientific\", \"probably\", \"new\", \"great\", \"book\", \"south\", \"thing\", \"find\", \"time\", \"etc\", \"interest\", \"black\", \"well\", \"experience\", \"actually\", \"year\", \"lot\", \"world\", \"char\", \"printf\", \"fprintf\", \"compass\", \"ioccc\", \"bis\", \"stderr\", \"prog\", \"drum\", \"curt\", \"finnish\", \"landon\", \"finland\", \"autobahn\", \"noll\", \"stdin\", \"mkentry\", \"symmetric\", \"eof\", \"bassel\", \"manually\", \"entry\", \"whitespace\", \"pkp\", \"parse\", \"int\", \"contest\", \"toad\", \"len\", \"thruster\", \"uuencode\", \"null\", \"obfuscate\", \"col\", \"echo\", \"filename\", \"output\", \"detector\", \"row\", \"radar\", \"stream\", \"remark\", \"section\", \"guideline\", \"sensor\", \"file\", \"rule\", \"line\", \"title\", \"program\", \"build\", \"return\", \"size\", \"info\", \"check\", \"define\", \"author\", \"use\", \"numb\", \"read\", \"open\", \"function\", \"follow\", \"bike\", \"conductor\", \"adl\", \"biker\", \"bullock\", \"leather\", \"harley\", \"motorcycle\", \"lens\", \"cview\", \"sedan\", \"wagon\", \"dealership\", \"cbr\", \"brightness\", \"muhammad\", \"bobbe\", \"illegally\", \"helmet\", \"lousy\", \"kawasaki\", \"rein\", \"keystroke\", \"numlock\", \"manta\", \"imaginary\", \"moto\", \"carbs\", \"ride\", \"horsepower\", \"tan\", \"dod\", \"cage\", \"lane\", \"mod\", \"tek\", \"horse\", \"bmw\", \"torque\", \"honda\", \"rec\", \"rear\", \"mph\", \"cassette\", \"iisi\", \"dog\", \"road\", \"race\", \"mile\", \"shift\", \"lock\", \"condition\", \"look\", \"traffic\", \"speed\", \"ask\", \"sell\", \"time\", \"fast\", \"good\", \"street\", \"new\", \"friend\", \"leave\", \"area\", \"want\", \"accelerator\", \"cyl\", \"cylinder\", \"lps\", \"rochester\", \"speedstar\", \"ingr\", \"solder\", \"boom\", \"catbyte\", \"dtmedin\", \"slave\", \"czech\", \"injector\", \"glock\", \"quickdraw\", \"gasoline\", \"thereof\", \"jumper\", \"compartment\", \"fpu\", \"prodrive\", \"hds\", \"hypocritical\", \"trader\", \"onur\", \"yalcin\", \"multiuser\", \"xga\", \"wrench\", \"master\", \"rebuild\", \"fri\", \"brake\", \"pump\", \"bolt\", \"oil\", \"pds\", \"valve\", \"drive\", \"maxtor\", \"tire\", \"dual\", \"engine\", \"seller\", \"pedal\", \"setting\", \"sector\", \"head\", \"pin\", \"single\", \"fit\", \"close\", \"fluid\", \"open\", \"speed\", \"lead\", \"car\", \"mode\", \"model\", \"set\", \"power\", \"check\", \"system\", \"giz\", \"qax\", \"bxn\", \"max\", \"okz\", \"nrhj\", \"tct\", \"wwiz\", \"nuy\", \"ghj\", \"qtm\", \"fpl\", \"gizw\", \"pmf\", \"bhjn\", \"vmk\", \"klj\", \"ceremony\", \"pnei\", \"bxom\", \"nriz\", \"pne\", \"pmfq\", \"mfq\", \"mtm\", \"tbxn\", \"nei\", \"mbs\", \"arabic\", \"mdi\", \"biz\", \"bhj\", \"fij\", \"fyn\", \"chz\", \"rlk\", \"gcx\", \"uww\", \"rck\", \"rmc\", \"lhz\", \"alomar\", \"mcx\", \"qvf\", \"sqs\", \"ecs\", \"hzv\", \"shz\", \"cbc\", \"hzd\", \"qvg\", \"uwt\", \"echl\", \"cho\", \"fdz\", \"xxi\", \"khf\", \"bhi\", \"xte\", \"rchz\", \"ecp\", \"dash\", \"prey\", \"neu\", \"ajz\", \"rsaref\", \"ahf\", \"abc\", \"uwa\", \"chz\", \"rlk\", \"kjz\", \"air\", \"ucs\", \"florida\", \"kid\", \"coverage\", \"abortion\", \"predict\"], \"Freq\": [4765.0, 2569.0, 1951.0, 2415.0, 2230.0, 1427.0, 1303.0, 1726.0, 1982.0, 1150.0, 1159.0, 1103.0, 1050.0, 2021.0, 1565.0, 643.0, 2706.0, 2562.0, 1479.0, 1104.0, 1044.0, 2986.0, 3701.0, 790.0, 4270.0, 1316.0, 2611.0, 461.0, 2953.0, 613.0, 889.3972946018677, 650.2441834272081, 402.0621740187619, 489.82218497352824, 542.5949896627206, 208.3707188805584, 392.6634169633358, 164.16848641910713, 152.81910832096943, 241.3641421570601, 122.89186120784991, 117.97191399475767, 116.06668984401207, 154.24410117861598, 114.06335369627952, 113.69992474969405, 2208.303361719645, 101.71672453822443, 97.44790792887825, 426.16664754812484, 86.81604607429901, 89.08262638296135, 81.96374650500455, 78.96750933343829, 74.58453424067642, 72.00011223553766, 70.38811012810102, 95.7901282131895, 107.77681832394833, 60.58065413955215, 561.7458648894816, 504.2827483604264, 475.88131341775266, 197.4921458222881, 278.55860044337993, 240.00100864560235, 416.45716960083263, 180.93844659625015, 143.27574957984325, 283.599932699022, 226.6569451197884, 252.75458121168327, 174.75591022273719, 224.17621190019773, 178.55936462504678, 1023.1182216501924, 245.83456919079828, 420.66140544757457, 525.225753850058, 574.0162661866985, 422.15200841185816, 340.71724603547756, 1382.5861395927293, 567.4437494307958, 773.0593655549178, 488.14996624017425, 495.0295377311141, 547.4822023255103, 444.2417595564137, 853.3010476942964, 388.3445150114634, 673.986384259447, 549.5168065608138, 615.9784204231806, 561.7553404948244, 584.7053130375095, 492.21612898049244, 536.8614587965453, 454.58308553259144, 468.1752773727169, 429.4219974038866, 567.6624165059822, 287.61787790570304, 236.59239889676164, 227.24969119008762, 144.26281555082403, 133.53420264061646, 322.018457885998, 125.52555374748395, 154.05454477354732, 94.85357860174867, 91.21590601872447, 255.1391453237858, 82.13172897239963, 432.5499395269637, 84.44553841392108, 59.27262031521277, 58.600534757469475, 70.5513091031965, 86.69197991566568, 99.87496914937941, 51.71469957298741, 102.93064001289001, 48.556277521138405, 52.01143335271213, 37.74197486704783, 87.98269608876545, 37.45874949455288, 36.650996273856464, 44.57385488858128, 34.10338030887052, 105.99566794337987, 247.61663235073777, 629.7679967398786, 1560.8879271298276, 327.43464996407903, 419.7685783631318, 157.23930196673737, 283.58651212406147, 179.56238996310958, 257.11680164366464, 302.42218987087114, 233.6781139038026, 135.64151416846067, 219.53205296495824, 418.16591091615805, 623.4035041756091, 543.6153036310487, 698.5558567184729, 227.9403878952032, 139.42135728174122, 241.4821823954114, 315.25812411716925, 235.34814438643, 222.55801465039733, 435.49770987282346, 601.5096152294947, 432.2821744027142, 422.7188596200467, 550.0466884351491, 393.30106492990825, 353.1435151617547, 457.20414361547057, 409.454618873905, 379.71209276495136, 381.94076172438315, 313.11616005511354, 279.44782451130123, 282.48567379126746, 268.32460623556955, 561.5124616783946, 409.8636919455229, 121.0377294458914, 210.9659166370088, 102.5050986020986, 98.03864291057842, 99.93379235424342, 113.6941693085284, 81.0952810514122, 165.66974969606275, 69.55474758603508, 65.67645356878538, 80.9755960613966, 57.335502385007906, 59.73850736182999, 52.41774805219213, 51.262328688322754, 323.69798972879744, 98.9388013949579, 47.695518559335945, 46.99138332010613, 263.6770559851751, 66.36225911034481, 88.41436126783685, 45.31450147750176, 42.977924718636096, 42.278168670639566, 41.69739113539891, 42.13724581286386, 116.44638212372908, 831.9507179501857, 1045.6835092249773, 139.88634918019923, 97.65235469383444, 234.3684500764837, 128.5648285042252, 136.4049356997042, 198.18429134280612, 250.82282805532134, 163.3520203955989, 572.0951813405585, 447.2019635440278, 405.98789963199425, 235.3321818364686, 399.40364770451515, 1390.8638078457493, 314.40485236545777, 335.9668286656809, 544.0441630208188, 583.5725528355841, 337.1525104184707, 247.7049793860106, 398.6859829418729, 356.7763582954331, 180.35539894964518, 965.8132549030597, 205.13513722369274, 685.3545574456882, 381.12888106052554, 891.2202502225707, 327.3099853690952, 420.61372090722494, 902.6299547449927, 1036.2141590130727, 664.4635022757167, 772.8378881406722, 398.74660449742055, 536.965570566939, 426.0631574446151, 412.7504548065056, 509.2526548437213, 455.48261253869015, 412.3794477896674, 437.9213685714912, 404.3039675334486, 386.1279528614909, 165.4848497214876, 404.92123708383974, 115.5580164834368, 136.4735578655687, 85.51942728745715, 83.86313906584817, 71.45153422996924, 460.53421321084835, 61.83498601081389, 59.71071051434007, 59.50712418655245, 76.13613305549173, 55.91920573617658, 53.077546351251534, 48.798107756293845, 45.84289765037336, 45.519122961102354, 363.9634026864023, 56.588699672887444, 48.2856021820928, 45.6653815921722, 43.466689596624555, 42.37770350516945, 43.20531929437216, 38.21576843737332, 37.851481087092395, 38.20634750262869, 36.963927212166716, 36.27852839378017, 35.23578004832892, 222.67266609080394, 116.5366506010491, 148.5177438449452, 683.0148584140202, 64.22972854693819, 65.98451992973894, 187.17946374346508, 122.91020713486576, 71.92382492442682, 187.95188913697544, 260.1774097106421, 322.77172354216566, 168.6146076787919, 280.49612058800375, 303.3759040505039, 214.8008855527863, 482.1394160061085, 314.6472323732413, 508.8382922402328, 949.5515311576887, 413.19002729098366, 831.8314113510901, 127.22585497124062, 800.3930100565518, 318.83071335654313, 511.46722053073563, 496.7240892398483, 600.4197488275498, 347.3996175206657, 435.52396808620983, 446.39017940469535, 497.14071404917195, 732.7026021126431, 581.6779722672085, 822.1494857351751, 591.9269886846365, 455.3287661327402, 541.4632462173057, 565.3119522857925, 498.1991247286544, 495.7027955543534, 408.2845131891349, 461.6685485074316, 481.39588500129236, 387.7176256407946, 405.27046726846964, 377.27395633357276, 149.65402411925697, 107.95174686076872, 83.21488423909054, 83.44568874294744, 59.05231837165753, 47.36472289123037, 47.152658995952194, 45.85553364408229, 45.20127892388443, 43.09273530212788, 49.66263377631696, 90.7117168655532, 36.81427791127076, 35.01818438205905, 49.92869318205216, 32.66845379936862, 31.49271102837179, 31.25121684434646, 29.84607311608176, 29.650982244472576, 29.733705218248357, 27.54511735556138, 27.186872083980045, 28.181761458962093, 26.72945267335586, 26.51680589591102, 26.156508963273737, 25.159818335097956, 24.949267408331806, 23.835446924405076, 60.884941989003835, 52.90884133987197, 53.69346386423407, 73.469506848949, 143.92048369632386, 41.21415026859286, 57.32335940073191, 89.42248251774463, 1477.4079357978396, 120.99296307360943, 108.59241221983909, 131.39462790659502, 91.5308493810102, 158.97746215730183, 131.82480757119947, 591.1048369908734, 1305.8331485009587, 151.2047684459259, 977.5229374145725, 457.5984080560453, 726.5530842051146, 550.8578376397861, 142.76828768144605, 186.51606469991017, 318.1685495765521, 271.8304357923626, 154.7741115736587, 199.92124347980814, 545.6820460095147, 437.9134041112529, 977.8605629664746, 287.4816257975688, 681.745783123469, 475.5230994404417, 219.81534430235163, 863.3592406494433, 411.4799966590653, 610.8411177321901, 412.51704714268016, 242.1989285459134, 258.91334612554056, 516.5287799030729, 338.87148041965014, 484.3430114571989, 293.1483346767718, 488.61012977072863, 415.63910711753897, 325.663715622957, 416.7122500015965, 321.0881621597489, 366.40883723575064, 347.4668923187285, 283.1116172081503, 158.5971124648464, 344.5907358267998, 109.05824984352626, 104.93844698076867, 62.03543590672335, 1033.7897918567835, 49.1145706470417, 40.68369546034259, 38.828343631118415, 34.31811184129075, 51.766032152385456, 34.365396098160915, 30.60546602783879, 56.87477575005082, 37.063482446260416, 116.88726038047264, 27.868405352977504, 26.99335298116191, 25.25159261464508, 24.663378821260682, 61.06293459533437, 151.96557171431948, 21.539834221680415, 20.253929128918017, 19.917312986517423, 19.874081994017143, 19.902884612014198, 19.475667922895028, 19.56329946576517, 19.08902980681596, 409.7849687428861, 153.87761019271173, 444.2884284410001, 196.16703807363788, 158.61011702976924, 87.52509834100525, 51.64512972274304, 81.3133583313109, 56.65656544952616, 108.06666161015916, 71.47460448435447, 122.17661455147271, 90.59783688743768, 244.27331204908035, 74.62626276181227, 191.8032913565577, 75.30114850290032, 292.01019601643617, 138.4982752391691, 846.7120785680812, 200.8949388538963, 630.2158085701275, 215.80551895011317, 214.09635693358527, 184.1626042416175, 192.21021219782236, 456.25325805814947, 323.7126482739279, 174.72730028999018, 481.81217537777997, 195.85547966758463, 201.84381279985277, 205.22131220982578, 427.4170591512664, 201.10045297221825, 206.6622993638272, 285.31296318517883, 201.75148170116728, 174.68559644808818, 172.3747863058451, 174.64491617436377, 172.69609485492327, 457.7514580333231, 279.83028676901756, 227.21910635799537, 184.48012109401782, 152.99131425586506, 132.57546633979862, 133.21377361022525, 131.7996611785404, 122.25811298180511, 110.16738840735148, 110.17208033909813, 106.0226995446699, 106.43886877677541, 105.6668542361245, 97.92334505504593, 95.5501736483251, 87.2745457120451, 81.77225854379869, 80.73415266415913, 79.51678175195424, 81.93849611464786, 345.8797477919737, 93.47412808826319, 77.20396623018142, 76.92225216477752, 78.04555432005645, 75.21429951711193, 74.02054807057986, 74.0204969323592, 73.5851189061138, 146.72037488497693, 406.91408351363674, 194.11470249871047, 625.3449588036146, 134.06670799281187, 1067.2656090017585, 137.71584192807242, 1297.0858865233404, 117.34225975139128, 457.2718326616414, 197.24474514048575, 850.042771898713, 129.35425703512053, 166.52494208024183, 139.89867687745243, 136.31519163297943, 254.886724717437, 160.85964544132614, 181.59219235801368, 170.60421237412888, 290.5348459493835, 663.318309360402, 157.90721862449956, 192.5140506225697, 157.67872026998234, 672.6996670808826, 263.26807453267855, 166.47361209124242, 144.61670190119702, 408.47234180484054, 171.9646041049979, 205.43378967689065, 199.13404670320907, 211.01547532500777, 282.5356264881127, 251.5111930473263, 238.26544783622197, 240.23025498176736, 236.2324223043003, 198.61177205548694, 200.30502246470937, 279.6352998513924, 178.47742476471475, 241.4370596638866, 164.51259257640322, 118.29981845119687, 104.58971107549398, 68.54671299768812, 66.31372673225391, 64.16223571377067, 64.04827144828043, 53.67363147087348, 57.40244906701372, 52.190494648088354, 46.594143153304195, 44.49278961793975, 42.01300775470685, 57.369339499909614, 74.28850783781073, 39.19810738134023, 297.842504595045, 125.90942864312066, 34.933259820863185, 35.49823093399215, 34.665503241809, 62.5319231529377, 34.37722241915716, 32.69083759569955, 32.59826619648199, 33.514287038974146, 59.907615093447795, 414.9354810237215, 196.0698775812068, 73.80801391930756, 56.04246255845517, 287.6420210376585, 1135.9767760553693, 75.54608907088958, 399.45571265849424, 149.42071518829738, 158.63640385368527, 153.0262271857105, 72.18679035439808, 76.79986098106404, 174.023457666796, 139.82294900927786, 305.8421215154104, 102.07586852759103, 123.84912359495152, 223.88849412936577, 130.35923217536808, 124.73220713908239, 90.35713929237053, 114.9645306006047, 293.99478759788104, 206.42830488622698, 146.2289684479118, 236.75278624107256, 119.97806539629693, 236.84950907435982, 163.68232517302584, 141.64027263519336, 125.6519863517522, 122.69357398402288, 218.42165983424456, 126.07081600040719, 119.86109923771642, 90.64672138876139, 82.56643762553263, 60.768941207946305, 52.087042422863675, 467.31985719035737, 49.5749426146097, 42.246739033409675, 41.54706541085795, 39.84314607367359, 39.432669748151135, 36.71770766712393, 35.692036431645185, 30.420711192309106, 28.769281074790218, 28.12857014551939, 27.343062183281642, 26.94618463961897, 26.66722067391975, 24.573201928525588, 23.722491609638833, 23.58464747938036, 22.9623839424518, 22.5891944470791, 22.292994651228316, 25.885073438772395, 25.759935360338453, 21.62938212631762, 111.40104150467502, 31.743456059916536, 37.87225794499388, 93.67792245703923, 63.4149316277312, 112.32380316725374, 117.02289790086994, 69.84920069664436, 33.666687047375575, 83.60132429116366, 235.61737853893618, 95.22445207197629, 111.54222510654685, 152.30737709250477, 84.86133952261656, 119.06316863001453, 73.99521847106428, 229.06891560053978, 179.2929339607421, 68.0597540433311, 159.89163359688547, 136.94444732051005, 124.06189001472266, 183.5705939895671, 184.49750283188632, 153.76240424054785, 325.40211948254563, 104.90435690832344, 151.95054014412707, 179.28174885638504, 356.7838569195266, 182.60302578140937, 355.4033656442683, 160.89079216734893, 253.60017338772641, 261.1947080961109, 208.5402058412607, 171.29448850751774, 206.13850698069996, 254.17465697401147, 237.16693115505083, 165.43823615751592, 184.30803623308128, 149.1355120006825, 176.79854232657368, 161.33634475341006, 156.85514227654687, 151.41477931355112, 376.63126028181125, 218.47435715718018, 252.7986542033269, 124.83410692942614, 106.61496951188067, 95.08590743319171, 90.44851636236038, 98.9732905602175, 73.68374436633567, 71.9477806239853, 70.43429173539256, 70.30619789024364, 156.19079700493012, 54.43748079532318, 59.867473533534586, 50.13206596205067, 47.755035645799914, 42.63999005592593, 40.095982263012814, 36.21040751419291, 597.3982956621546, 32.763267644564614, 35.37203404437838, 34.477164506020685, 30.43919597574719, 28.560536025909254, 38.5323744641178, 26.572013016628972, 26.51481459732455, 47.097990008733184, 64.49781309605856, 55.72437406124009, 195.4124249053093, 93.24449774100383, 135.0729436595169, 498.24249657322525, 66.64194296652083, 62.484586473790245, 121.61885248039981, 400.73948516274027, 421.4187822926178, 107.70594191627607, 464.59324027733726, 144.49516812643586, 202.74170010507947, 304.2971960727009, 165.97650782462375, 118.81456422896545, 185.78026056233858, 224.44838006145963, 317.6238654233443, 160.42738613038216, 109.16939823004218, 133.60244983779086, 154.28377235125893, 330.821003559839, 168.954587055122, 148.3743750505798, 171.26285233172436, 203.9479327028401, 320.4050811022628, 175.83796052375368, 145.56184526130906, 169.01686060035908, 185.615840482468, 140.57940162844696, 58.13532632059613, 47.82677308627062, 39.63890381712891, 33.62739839736971, 29.284236881501165, 30.540895495081255, 28.493139866482192, 25.839489166439165, 35.31400501406269, 24.32550364728647, 21.628856339339332, 19.938610435766574, 19.58007841657812, 19.06377166221986, 18.99888711368893, 18.412755057088784, 18.317492906981354, 30.578539619798498, 17.740836653636606, 30.40902155660107, 16.728629863651854, 14.228978038219044, 12.700712535779811, 12.449781496139131, 12.432274959666964, 12.384088551929883, 11.864581354060077, 21.221049339848214, 11.011559221645575, 38.12192371920263, 157.86397401894902, 107.50310442182166, 68.43583375843136, 96.09123268136481, 76.00854705557576, 54.68285215044224, 50.07861598655205, 315.170341804451, 158.16535196157136, 148.30558385599088, 84.3934800940717, 113.29631087345187, 63.88004509901907, 157.33401993879158, 25.823465860298516, 31.78452738973076, 27.50940165921123, 39.625712406407956, 38.99570203829431, 173.03125240200822, 537.0857649074599, 174.31268307098298, 293.81028255135226, 426.1902506164924, 96.93689690677928, 136.79962088388737, 293.5901900494575, 148.74175198684475, 225.10525403625968, 123.12522136114004, 179.3706491342021, 229.9244250371952, 144.03082767778145, 284.435479549049, 285.1818145405086, 255.681273068291, 219.78773371142512, 209.3717411766875, 182.7286906385098, 302.56941140504955, 173.96102994669698, 205.91456324832586, 208.7495596939256, 222.8345639681638, 175.38059284218582, 150.5579087810246, 160.75854872393157, 162.27742478588354, 155.30132155839215, 154.62661544512255, 283.420255941086, 98.38353116764921, 288.61248709435387, 65.89400535476176, 63.621754181959716, 55.763492086305035, 56.31834328625293, 52.15198395563509, 41.69388460717205, 47.192007539982214, 37.61487751666754, 35.42083511852149, 34.33785949675744, 81.3014661269483, 33.70872478330106, 30.690098954215625, 30.206906093123425, 29.53543284860013, 28.823671209405443, 28.417749560593236, 28.36895345704708, 27.802772931930953, 25.943813541132993, 25.51247234401615, 24.494543906982198, 24.48043582551482, 24.24412724676934, 23.462310946840184, 22.59694980296079, 22.173155536512443, 33.64794931133931, 155.80916597911678, 73.21382091329883, 70.41263455045454, 43.015929705649754, 34.90257563873392, 42.24342831115526, 49.84160167454299, 728.1943896079371, 1286.2178006029385, 164.46914212706892, 50.96911597374962, 1217.6476386321292, 234.38510791988028, 247.44983425858698, 112.90980474304952, 63.828353641301234, 263.241141996672, 223.28952687406485, 556.4887374646463, 283.7194758481774, 287.04761155465997, 211.15720542537022, 137.9784082707724, 132.7041430883545, 220.14970369600914, 346.39918878473287, 206.43467694997878, 112.76444507227501, 152.2405285577767, 135.24829806519415, 182.35863231431193, 204.10736497112583, 197.4542509110765, 129.52401722896263, 123.27960178819156, 133.78120045923464, 124.67225158399764, 117.03698646718239, 91.19733787750837, 63.97094526547369, 52.310388720647815, 49.00910908892393, 76.6477900586802, 50.63859286106626, 38.67600762398869, 38.70468014235731, 39.33953393547883, 68.36339380483743, 34.39287855664045, 35.43934769130577, 30.273021861229218, 28.51409577155438, 27.72565393727534, 28.396554679799078, 25.297448769686078, 28.34048634460514, 25.27996556802217, 26.147025161442166, 24.79710013438933, 25.106192114517032, 22.557998984797415, 20.437341918515937, 20.153635161657267, 20.11936206645231, 46.68177179823301, 19.28786579774395, 19.20526067139887, 29.058741722915318, 63.535087813565866, 27.516230918292067, 192.26589534850575, 80.43423995079657, 73.68386063157435, 402.17693561045286, 785.3075269172379, 59.41950933657128, 556.3820277612925, 39.63945902942606, 479.5194948120327, 161.09745420964092, 161.83805609244752, 242.7093033720386, 415.7214301544815, 325.69137288853915, 307.45605704499656, 149.53366995080228, 77.47030375970903, 181.29471705317542, 141.18061251886093, 429.4357547506921, 78.00883168963462, 164.0653540939967, 122.39583138700586, 100.4987528897539, 263.9265070140644, 152.50772505849264, 258.50330883347453, 143.41452569449936, 135.71043172147736, 174.29978597608167, 133.0284723989322, 123.49281393690516, 173.33788014045962, 167.1310611535377, 134.83978552676814, 110.01365945596709, 104.86450399340144, 108.0555070497012, 116.38403152006602, 113.08600198154245, 110.11251634935729, 94.69609253258557, 137.0471074682129, 84.92292579277189, 89.58210298889401, 69.34342614772963, 53.88900921764849, 45.08513117202623, 41.074183388794346, 47.39297566064791, 36.08651470620066, 38.38717328753939, 34.291642150077784, 253.3081377121211, 265.60497911363245, 66.24639663091733, 29.970265834901735, 39.825200144988955, 27.298388076148857, 112.31810727450181, 35.20894201992465, 61.4846396930347, 26.08019206827094, 25.972949308398604, 25.95320220885723, 25.659898036788398, 25.506772310334636, 33.70503047759029, 31.39700625807778, 25.099705141076498, 67.80990893365745, 115.81328731137768, 254.06987716761356, 59.54552311197941, 74.93490075803258, 315.43759193112044, 42.03016534036543, 60.22623056251076, 91.73782192018585, 53.78764432357593, 191.20577626073793, 225.63778157984635, 112.75284301589672, 117.63945966930186, 214.20584516515802, 148.80938926022807, 106.23082836012317, 88.63916151195686, 103.23352951761692, 307.15058664399777, 150.75230681678923, 208.62603974935905, 229.579133568133, 304.57814500059095, 171.92804061239133, 217.93262509660443, 168.07311921249004, 234.87533695161758, 157.87713222367285, 279.3910307362791, 162.9877468206368, 191.43945304560236, 133.93565953993703, 165.6259167164864, 177.44625824293604, 128.3400910593432, 70.2978193492141, 54.04604738325381, 52.298264752408926, 38.50297252565573, 38.080357659296894, 37.5464872089418, 37.184567641383595, 36.86715899369206, 37.76335230262729, 33.66833216370055, 57.96685510742222, 28.006845935150494, 27.27944543008657, 25.901838974914273, 25.65285640468992, 25.233747067983256, 24.804833106085724, 23.38443126900928, 21.76265691796676, 20.901463065257886, 22.094224182766705, 20.843680768531055, 20.068328960959526, 40.373845780871235, 20.01324250960237, 19.55755777944519, 19.52579550922949, 18.852265377979663, 18.432118342451187, 18.249033525210372, 44.84418095376156, 87.26772233121116, 32.52891093720005, 61.96003185435685, 33.00031781273528, 44.29789224216962, 29.432473493199577, 232.50968309778452, 39.97901766592345, 49.13622426809478, 31.705942868892986, 37.51641100542163, 122.7017401448917, 63.60683041331019, 70.75723607244346, 215.1276166913739, 133.76029019010474, 32.81993194310277, 87.7611954301233, 103.1758096882818, 39.56794933174637, 143.3678115473643, 66.9176139332284, 133.48585375191928, 219.26699574047444, 74.66246435421081, 119.15612956961893, 167.4947403657316, 116.88182879397262, 111.5080317670364, 65.8370173556345, 124.39702669363568, 111.96605868735942, 123.50198121299364, 91.34627888972723, 92.01515256079307, 69.0718828917935, 82.33834580596574, 68.61914218609643, 70.7284224800458, 76.40732467626601, 70.73114624556315, 67.65819895247084, 167.47550795613787, 123.45676743345322, 84.42410400811085, 81.53299468275348, 59.750793764213185, 54.62351876595755, 52.1205987827554, 47.18184102250043, 43.017379046769626, 37.521963850746864, 36.330727796923064, 36.29442265621736, 63.44227954345627, 35.48258531772573, 34.626034734770364, 34.11904360018553, 33.008564335112524, 32.42160613681433, 115.78060058325329, 31.28821003831102, 31.135087289332265, 622.6987053452511, 28.74088529698789, 31.864689572518635, 28.34831298087487, 197.76910373182253, 140.36493843012, 31.423892203415992, 57.35076014604544, 22.44241598562432, 75.71349607448997, 153.0404398867283, 87.6152841687892, 133.10050459975403, 118.75896958946663, 89.27508876623548, 400.91781441870825, 99.3378441658407, 89.98034283936119, 97.34176477588814, 149.4248220046761, 135.3755938454353, 242.50463818474253, 62.40825306567999, 65.49345706211496, 515.9653132497031, 208.47809112956753, 301.3751649359696, 129.53957517654476, 345.9025278690196, 232.86314186323546, 175.2670536343083, 153.46617078285095, 164.20840560467232, 171.34484474959467, 134.8760532730006, 115.48165017032916, 169.97437566274166, 143.9204779799487, 141.73685863672932, 125.08569378193548, 114.54084086166009, 117.57256566571569, 461.94964365944196, 72.59673501403019, 58.41183599780242, 58.91290197571838, 47.76476895877504, 48.40516182994845, 43.07022303237493, 186.8403135346373, 47.40949362028807, 34.64422935913181, 33.705912992891996, 31.210328158486693, 29.99447855318809, 30.57320423733693, 25.28901552841033, 24.22868307924623, 23.39370013889573, 19.56139900134202, 113.8046287726301, 17.96109656726975, 17.575984592933658, 16.957528910009685, 16.71687177542372, 15.56199107481949, 15.487930921306404, 15.876862850159736, 28.126836978145903, 15.01389815076938, 306.41881025451903, 14.091541346459765, 26.910317928135463, 202.57149800609665, 42.69196411205817, 52.5451479963821, 26.359130109686784, 40.54624344303832, 68.26521350613531, 82.04533947179779, 29.37548731449465, 67.72582645308391, 99.13784079469316, 67.7227655458784, 73.65833837823183, 31.57460701339041, 35.244945787107035, 80.58227526348205, 117.55696319448244, 87.88617660819179, 86.97386971387925, 60.28160537711331, 68.5443534125025, 96.59325054755149, 162.09303944483412, 62.98761625283295, 88.62755881884814, 110.79436042495513, 89.35615360559346, 124.23385232293599, 82.20708555349721, 105.70422416960626, 67.67917130624356, 92.44404458256344, 69.5579668600999, 72.12912067340727, 67.79525095944625, 67.95962126441607, 76.91946174683865, 66.90284360162063, 100.55636080319788, 43.735530689497836, 42.04667506598689, 29.39351861192502, 23.790549175717945, 22.64948886109001, 21.449386261634626, 21.05954449719429, 21.05951073853655, 267.70913947928983, 20.506712718087893, 19.365777792760124, 18.836397027895256, 18.695547870039494, 18.72963607657854, 18.323818429252793, 267.26231631569914, 17.092900605503754, 81.6369544510368, 16.497299822154435, 15.823575074580427, 14.985154696347067, 15.050622379030518, 14.783232911534228, 14.783210405762404, 13.688203330508696, 13.627879824242362, 13.889946676702065, 296.957306171439, 33.908205375988636, 18.79907602798908, 87.49873061789923, 36.95344528606208, 33.26923114766738, 105.63614499201245, 31.988504835759617, 29.72937545997799, 730.4230498356719, 56.260365662834744, 100.66052394542395, 70.50654494886695, 135.53931323713243, 26.021707092231505, 27.422051581388512, 60.33930531815579, 67.66362871238894, 149.7287393968428, 115.28692217088623, 133.08309760237006, 95.30648442115137, 135.13050553726424, 33.54021028576974, 128.60007645926405, 110.90167896102854, 101.72278994533784, 118.76864223484168, 76.5747440549072, 77.62978248695505, 88.55816732078371, 81.70762257456693, 70.26688419981404, 80.05857323119368, 427.4033966076168, 239.9127157876334, 205.73831958239074, 4725.004612811477, 113.64941709732058, 113.40106339281036, 83.52316333248422, 79.44465950967276, 78.237032520053, 76.59601018008065, 74.73470666963551, 69.00191720413854, 65.80432502005269, 64.51534831708686, 62.74211903631395, 58.214400042450826, 57.72214468932465, 52.18431157083332, 47.13680549168822, 46.73984052263463, 46.6620961551661, 46.590459025108316, 45.499481362562975, 44.87085380161863, 44.2049518806812, 40.44231732658226, 36.27121893513847, 35.46713120815357, 33.30610600841109, 32.73367814199431, 101.69427589731806, 436.9421366728733, 84.73553736084274, 83.46769016977744, 78.89897948581567, 64.71925247704314, 92.28717054572962, 89.02735829786123, 84.60094295036275, 70.35900451165588, 67.76695413856243, 64.25050857663793, 54.48381168410429, 49.982213400504406, 48.7767055638444, 49.668358102090664, 47.131177248922484, 44.42268673826532, 38.114224474658535, 37.79077203493918, 35.12452995833038, 34.164836383283664, 33.3220968336621, 32.79313949618065, 32.71498286232105, 32.3135313810196, 41.96174400427403, 31.965177077507988, 31.0805636609904, 30.93895443794648, 30.71444254114933, 44.1433235931113, 30.342010878369805, 29.31889897332954, 35.26412017306536, 28.710866855676052, 62.680432703451416, 72.20317675040319, 34.100031698037256, 156.36852094205844, 102.90705375712135, 48.506021413683555, 139.82367970029392, 37.72854364083811, 48.13790412499405, 47.864767016774614, 37.70824849623039, 35.020594425395, 34.64309011843656], \"Total\": [4765.0, 2569.0, 1951.0, 2415.0, 2230.0, 1427.0, 1303.0, 1726.0, 1982.0, 1150.0, 1159.0, 1103.0, 1050.0, 2021.0, 1565.0, 643.0, 2706.0, 2562.0, 1479.0, 1104.0, 1044.0, 2986.0, 3701.0, 790.0, 4270.0, 1316.0, 2611.0, 461.0, 2953.0, 613.0, 890.5584011486025, 651.3789454633446, 403.1463950466466, 491.2033397702441, 544.7756557210944, 209.3795600518705, 394.8137151004474, 165.1743650153021, 153.82471057462837, 243.0573241918041, 123.88820589704679, 118.97858524001715, 117.07301247295582, 155.60920068034227, 115.07946081073476, 114.71334318759311, 2230.202846390934, 102.73026819990513, 98.45869112989755, 430.7008934451461, 87.84211470321539, 90.17265896541177, 82.97210365481688, 79.95933331075071, 75.57466918975176, 73.00141124953285, 71.38832725305562, 97.19817410944061, 109.47352013847043, 61.569672011216205, 583.6078452730117, 526.6673020771335, 501.9963131478043, 204.41217437127474, 298.0755613106407, 256.41646443263073, 465.3230306281038, 191.84978596612348, 150.68371028974508, 325.4345794129377, 255.38132482470454, 289.5496063132712, 191.20047562545852, 257.50223547947246, 196.5547234878462, 1642.6835419037106, 301.1192842468018, 604.3460414381036, 816.8884857298445, 942.5514891891803, 647.7001011689205, 496.46065435864193, 4270.719020397601, 1104.067602069035, 1847.803655457206, 944.3394462062247, 969.0676384976961, 1169.9166581682468, 829.899086746462, 2986.170849032, 666.3004295539611, 2334.4118497379095, 1713.7987054782866, 2321.325005120832, 1902.3169942026923, 2548.169144342557, 1612.4221209579516, 3811.9653182649326, 1178.053936370128, 2301.494251777751, 1051.2117285309043, 568.7138834442583, 288.6788834632318, 237.61687318962313, 228.2724646994522, 145.3274833715099, 134.6076671939579, 324.7073840208716, 126.60224575653159, 155.61164002147618, 95.90063516430708, 92.25062193833753, 258.1886507043015, 83.14772992206309, 438.1087766020591, 85.65721180787399, 60.260237684401226, 59.60737069523459, 71.8078960687694, 88.27634948907688, 101.70276425121504, 52.7070120876045, 104.9588887449935, 49.555150949352, 53.127532748930946, 38.72871530941375, 90.31978655741554, 38.46722396537475, 37.64312988983945, 45.78324562598612, 35.09074058820747, 109.41540075999193, 258.3877025661568, 675.2289251361908, 1726.7586690986511, 360.45320238743295, 470.1868852902317, 169.1397684264059, 316.90285053468216, 199.40130677531292, 295.653522850797, 355.2537302822544, 272.27324297852397, 149.45863280651437, 274.99143404653927, 614.2341130413781, 1050.6752892542895, 921.948973529786, 1316.4342459696272, 305.1893374601245, 161.82207653762686, 357.20987031245403, 606.0809380827681, 385.5837920208351, 356.6586700317308, 1354.1449635392894, 2611.6204433868984, 1479.744567174506, 1515.3625581948343, 3701.162439293083, 2021.6370135330988, 1481.4215533328952, 4270.719020397601, 2893.1184579046817, 2398.111588163537, 2770.01935732592, 1713.7987054782866, 999.5155253862239, 1334.393553954262, 2431.382780431158, 562.5419705310873, 410.94306326811164, 122.07829607939962, 212.8819139820771, 103.51856083144544, 99.05345686996148, 100.99359858929724, 114.94195732315237, 82.09354344063203, 167.9180027376211, 70.55020251885567, 66.66637511052964, 82.35145706381168, 58.324415885067765, 60.77957260371944, 53.406015091580734, 52.25102810477239, 330.0309037334582, 100.88108671341655, 48.685411222477846, 47.98090307492453, 269.25298094505763, 67.79452778585025, 90.33708446034191, 46.302039382943576, 43.96551539604724, 43.26640241835659, 42.68692290419493, 43.22319156030405, 119.4735693532026, 855.6218995482867, 1104.0378230618107, 145.51203648022894, 101.1849016389596, 247.8522682941298, 134.31793219365932, 144.33875788626747, 213.86945468058877, 274.24858607700554, 175.25712182248185, 680.6685155947789, 531.0043472155797, 485.16045868418985, 268.4106116485011, 487.91447579937363, 1982.6333542079205, 373.7247837777633, 408.77784892685213, 726.2659484572675, 788.5278642985946, 425.6633520669321, 299.05009700746484, 536.7077779759751, 478.62538919776546, 207.1206855655162, 1951.8403932833266, 250.50050037314548, 1313.6747426718398, 636.0282335704305, 2327.6877604926526, 508.56743457684905, 758.0196929309218, 2611.6204433868984, 3701.162439293083, 1947.2885280416824, 2893.1184579046817, 785.4184204929041, 1578.3495537775216, 935.1384430826546, 957.5549767800622, 2398.111588163537, 2111.0542306550137, 2021.6370135330988, 3811.9653182649326, 2569.8463258985785, 2303.6566493919413, 166.78647032001203, 408.1195207524629, 116.56335630487581, 137.8559248702438, 86.50930976177756, 84.91480640683857, 72.45994258123697, 467.0746005066754, 62.82741551264956, 60.70497762674183, 60.513651530619, 77.44563132304006, 56.90621841198553, 54.09844815874987, 49.850593446683305, 46.83271690899302, 46.50302182961636, 371.9108807644212, 57.830012461557686, 49.35159387008516, 46.69607793184681, 44.45563607469403, 43.36581421981072, 44.26792059012215, 39.202450596673636, 38.850853297987584, 39.216098742458726, 37.9635648109103, 37.26285886914584, 36.220417770908135, 231.4543153844231, 121.04255799675606, 155.04050037352502, 738.9341867846194, 66.5670695464833, 68.4993245727482, 202.4339119657402, 132.18980979272638, 75.2723296233499, 207.60589224366643, 308.8632574468853, 392.27300880695395, 194.36048399460253, 345.0258974633361, 382.06477538651546, 259.94984804949826, 658.3480183492925, 407.14610588955406, 719.5205788737651, 1495.8024164258693, 582.149322807489, 1370.2990820897123, 147.54991437991777, 1385.7000350507244, 453.22142488435225, 815.3165720500691, 797.4644810214411, 1026.545503646275, 513.6986083211649, 749.1013597143117, 818.5035666923917, 957.5549767800622, 1820.3402935859924, 1360.663584739454, 2415.263122094481, 1515.3625581948343, 1080.0945287291563, 1565.4597703469935, 2021.6370135330988, 1578.3495537775216, 1982.6333542079205, 1334.393553954262, 2611.6204433868984, 3701.162439293083, 1318.8203518359583, 1947.2885280416824, 1394.6054349380465, 150.7027394111374, 108.96011336127104, 84.23883067199557, 84.56034649044085, 60.03573107070415, 48.347914746984586, 48.14220081452317, 46.85513498087229, 46.18914797002739, 44.08149572638924, 50.81345272840841, 93.13293842048105, 37.79884974055886, 36.00392745856268, 51.367703539938745, 33.65707671881481, 32.47659890135753, 32.236342439468785, 30.830454342045346, 30.634447285287603, 30.748607574598363, 28.52830909217046, 28.17006367391022, 29.21031130461728, 27.71661043310417, 27.49999754006085, 27.13972341380161, 26.143261863424723, 25.93587829332147, 24.822338902671977, 63.87376211305158, 55.484165750056114, 56.83447057499424, 81.08153395292081, 176.48695133626018, 44.75388911484573, 65.00231772920876, 107.53164883789104, 2706.8557393629176, 153.1827752436541, 136.78209711890509, 170.74601894653122, 113.14963909287431, 223.9708351607287, 180.0773506113376, 1098.7824512655886, 2986.170849032, 226.20878120377498, 2548.169144342557, 975.5916857381867, 1808.574384485291, 1337.2024593570968, 218.25324830583008, 318.143617280057, 676.05213527121, 543.660412846217, 250.42493189363336, 360.20464610728646, 1531.5579614267406, 1202.8556943897338, 4270.719020397601, 650.0537385056329, 2466.3150019386767, 1416.836409165904, 432.8620448258742, 3811.9653182649326, 1173.6088195691927, 2303.6566493919413, 1434.3382989080326, 562.690058537135, 638.4751377703027, 2421.280453895774, 1103.2077844418734, 2334.4118497379095, 837.9370503884296, 2953.4903285167643, 2431.382780431158, 1310.4088255530492, 2893.1184579046817, 1353.979632368501, 2321.325005120832, 2111.0542306550137, 1140.0799557144223, 159.61769940910696, 347.03548303856917, 110.05116403231938, 105.9331493154076, 63.049786162776606, 1050.9392904078106, 50.099227495961784, 41.66885719228572, 39.813027853960676, 35.304866998341076, 53.27155490606062, 35.384078594712015, 31.600696365951663, 58.774122120347975, 38.310429951284014, 120.86183597002305, 28.855138368592637, 27.97878380406931, 26.237260352764974, 25.654870918187243, 63.55472204561811, 158.72391022912237, 22.528897647642104, 21.23884092801024, 20.90313908304043, 20.859238763344923, 20.892749465670303, 20.460293861195144, 20.569044514926446, 20.075611173453712, 433.08612302198736, 164.93792488651243, 493.19873411524264, 215.82908606016053, 175.18522750766044, 95.03189846329995, 55.30585487159355, 89.0661046804491, 62.190511039310685, 125.78323525622373, 81.47737361161116, 149.1239007017337, 107.01820964835296, 334.581109037649, 86.49465434322417, 265.03040014633245, 88.20646469588874, 464.3485495102304, 186.40698713552564, 1875.8893475239731, 315.362743970309, 1479.744567174506, 391.09894997816843, 391.3188230107564, 315.5766377208267, 348.96818679129836, 1316.4342459696272, 932.2090586741629, 340.4120034280665, 2431.382780431158, 451.5117005693269, 524.1605877193538, 545.6169123884931, 4270.719020397601, 579.5226446425522, 684.6452548091107, 2953.4903285167643, 1464.626950808556, 610.8639407210435, 660.5300059346498, 950.2817253234379, 3701.162439293083, 459.26823951296063, 280.8243626843867, 228.21530333888393, 185.48330399359236, 153.9881573683135, 133.56895964357233, 134.213821247037, 132.80369958937516, 123.2540476626933, 111.18603750840056, 111.19629206648482, 107.02018960857188, 107.45114222898275, 106.68349310739268, 98.9110609774011, 96.54376029048409, 88.31033356890708, 82.76142077387797, 81.72146953332395, 80.51012723389087, 82.97653997110365, 350.318688862572, 94.67480527057138, 78.19668960164907, 77.91656600343137, 79.06187881653932, 76.20337367111226, 75.01017475745458, 75.01019908093411, 74.57585536444938, 149.0517936038417, 417.8687531127819, 198.22201865174915, 647.3825839849387, 136.8677792625844, 1159.7799340425606, 141.42030537377056, 1427.9371778537834, 120.36704399567257, 498.9243067574994, 212.64071402370587, 1044.4058246605696, 135.67773361154158, 182.30345786664358, 149.7004062635784, 145.7122337867966, 320.82198518999087, 181.05026548320922, 211.12996487595453, 198.1482952253349, 425.11545054811904, 1521.064266055654, 183.74361997318724, 254.7462451947219, 187.39786779408533, 2953.4903285167643, 508.0594949026851, 220.6807431810481, 162.37264371489164, 2200.4263459654458, 255.45078267362075, 449.6575869224944, 414.7941398217463, 580.6660890164003, 2562.155225240047, 1947.2885280416824, 1902.3169942026923, 2303.6566493919413, 2770.01935732592, 928.4462471726894, 3811.9653182649326, 280.75305408109534, 179.46977741070745, 242.99479380672298, 165.63112737984625, 119.31338700240019, 105.66836743295625, 69.56513230841894, 67.34791523249673, 65.17645536979654, 65.13411021179056, 54.66210652342925, 58.510776020092045, 53.226952215237134, 47.69036576941934, 45.5597080342241, 43.02151958456165, 58.75481509370525, 76.11251294778718, 40.22359463012845, 305.9307689484804, 129.3334220817438, 35.92197569565174, 36.51287779136426, 35.6647106330206, 64.34778264277078, 35.376786134125, 33.67946202857079, 33.5918243663489, 34.54502887699453, 61.765680485447305, 427.9059514579537, 206.58144851935836, 76.98023111950687, 58.24521291070384, 312.3843142092984, 1303.3213328727936, 79.9451748388006, 453.3946394424588, 172.13184331458677, 184.32034089645654, 179.77387748734796, 77.58390450234404, 83.39827560381532, 218.77071270866324, 172.02304488171657, 467.47097837519067, 131.4948740321513, 178.09732030743638, 684.3834847377066, 246.9038706066442, 233.51100254383016, 128.42343950926522, 234.0713597235595, 2953.4903285167643, 1334.393553954262, 584.0414526370248, 2611.6204433868984, 326.9807731741553, 3811.9653182649326, 1330.246889963036, 2021.6370135330988, 720.7342929912386, 774.1925013594434, 219.54295598849706, 127.06960678991162, 120.91845292377208, 91.63543575725159, 83.5805113633966, 61.76741672005166, 53.0957977949273, 476.52699970590197, 50.56263681969999, 43.23528604817981, 42.537253952788355, 40.83052366493983, 40.42086430277911, 37.704723804983615, 36.67996738680182, 31.415910854873527, 29.776230431228996, 29.11569683889133, 28.330198064754022, 27.933653491325735, 27.655920391986196, 25.56325674265683, 24.71006360690616, 24.572330720291887, 23.949400302601543, 23.576503140819135, 23.280725106583514, 27.052186308639218, 26.931304472752803, 22.61639831467033, 117.44993101261292, 33.3824617799862, 40.000954435224095, 109.13705578989426, 71.67100169510252, 134.47440226557046, 143.5122056487366, 81.08445671073555, 36.322526985767325, 101.10387990285444, 342.33773020210106, 121.23481010024342, 145.7799164825732, 214.39049637980602, 108.31549779666034, 169.1003673149161, 94.8630157539713, 441.8633398696566, 329.630343053988, 89.5502665485627, 307.64513272861575, 248.66463578867615, 219.32107580701341, 407.478288762814, 418.0583040202927, 326.3635416590303, 1185.243831178664, 174.38158824718104, 340.2348168589318, 489.5128859799551, 2327.6877604926526, 663.6410714461922, 3701.162439293083, 549.2337231402057, 1902.3169942026923, 2398.111588163537, 1330.246889963036, 720.7342929912386, 1367.995147949512, 2893.1184579046817, 2562.155225240047, 708.9215111362852, 2334.4118497379095, 700.2694939984583, 2421.280453895774, 2301.494251777751, 2466.3150019386767, 2321.325005120832, 377.752938169821, 219.51576051663582, 254.63791026271636, 125.83180360660864, 107.60177933191072, 96.0854377226283, 91.44162827532864, 100.1601513764095, 74.68955079284711, 72.94882789050203, 71.41779036843612, 71.28834068513721, 158.6689974714855, 55.41962366890429, 60.956273149728865, 51.15108434326482, 48.744133622776204, 43.626839673196045, 41.08133932990399, 37.19695039248275, 613.6896867624356, 33.749502304382396, 36.45437343704898, 35.57078458731031, 31.42481462738397, 29.543580504413633, 39.91144740831356, 27.56324301279046, 27.522515590972542, 48.90066974529998, 67.08957369972084, 57.947019468119635, 207.68804088874566, 98.22762539267768, 144.38406218666518, 565.5030186285861, 70.44653897607711, 66.22864335662962, 134.6130603632585, 494.5170651976189, 525.8478054444054, 121.58323166728835, 629.5510526699937, 174.49852449282594, 261.6502152190493, 424.4727498561495, 213.3635864553683, 142.91222852326638, 248.70427658996044, 338.3708913236997, 550.962248420396, 219.3854295984195, 133.65927520124293, 181.0367388177438, 239.16762459929708, 915.548810586055, 290.96035220142363, 238.0157789024741, 361.2716517180985, 715.1356330737156, 4270.719020397601, 610.8639407210435, 316.82427974423445, 1110.7884653928725, 3811.9653182649326, 1169.9166581682468, 59.1424545155908, 48.81166758932661, 40.62451329378109, 34.61066309623384, 30.267163575777865, 31.59014371314894, 29.48007877981253, 26.830101173760635, 36.69752000309038, 25.335631212607748, 22.61109769858141, 20.921508337620295, 20.56516153615593, 20.046012874850415, 19.98210873555207, 19.39645371465679, 19.300585368814254, 32.2271236537671, 18.723077851138484, 32.270722114912196, 17.772654595124024, 15.2137504460797, 13.683043166751363, 13.432022740795945, 13.414516166619785, 13.37005383013786, 12.847058138241437, 23.04784355299918, 11.993827164342523, 41.67036452542151, 174.05317576327866, 118.39546825749937, 75.03152434289736, 108.21235565629748, 87.66405852092818, 63.44899815200325, 59.04782103028875, 516.0141197711475, 234.92019827295022, 219.02973080734628, 115.11388945241097, 164.86476982272026, 85.28364659421541, 256.0424456546496, 29.185544705801153, 38.436883457047784, 31.78585809792329, 52.910599089328585, 51.7966189930331, 460.73871569290174, 2562.155225240047, 495.54907008396157, 1103.2077844418734, 2303.6566493919413, 219.96794587878216, 390.72759926503505, 1434.3382989080326, 455.93857338572167, 923.1620708705237, 343.5985482672025, 748.7007414926886, 1260.8012560574646, 552.9472375782226, 2334.4118497379095, 2431.382780431158, 1922.0411779876322, 1458.893931308828, 1310.4088255530492, 993.1649597041653, 4270.719020397601, 1098.7824512655886, 2466.3150019386767, 2706.8557393629176, 3811.9653182649326, 1808.574384485291, 865.3245367633388, 1337.2024593570968, 2111.0542306550137, 1642.6835419037106, 1612.4221209579516, 285.8856435267065, 99.58925155125714, 292.9232512156634, 66.88248092308635, 64.67192447945379, 56.74608122467036, 57.371034538360306, 53.13353455961457, 42.67574244172234, 48.399342375436134, 38.640080193519665, 36.40238568744185, 35.33311901032566, 83.69094843762004, 34.70378532002791, 31.671811801573167, 31.18861677491938, 30.517024986376423, 29.80531106932088, 29.399300185292066, 29.350640407142983, 28.784323533692472, 26.925594315718822, 26.494575002416266, 25.476895038192815, 25.464530071898224, 25.225863260454982, 24.444150679333692, 23.57856935771585, 23.156779195624164, 35.22458335347445, 171.9365669668024, 79.28177738252523, 76.28470557061978, 45.675284496519694, 36.832501991689924, 45.35858373982316, 54.43216022827254, 1150.236174873754, 2415.263122094481, 223.01528353063898, 58.229178121251174, 2569.8463258985785, 372.7345469086451, 399.6700953846329, 160.25847288587087, 78.97263981280922, 545.5696968118876, 445.3893812641773, 1565.4597703469935, 749.1013597143117, 785.4184204929041, 615.5626827152304, 320.26451629003026, 314.76260535805824, 787.733927720353, 1922.0411779876322, 838.2001860631234, 256.73955135876093, 513.6986083211649, 395.89020070755, 893.3801041569434, 1521.064266055654, 1495.8024164258693, 642.1365182654283, 642.5980643711545, 1612.4221209579516, 1367.995147949512, 1360.663584739454, 92.18581430594936, 64.98783548227641, 53.29657319182372, 49.9940775172414, 78.23066376152097, 51.835590637308165, 39.66086033018233, 39.70152940645841, 40.37024239119063, 70.23978462160045, 35.40893207950354, 36.557784690175104, 31.25792987036298, 29.49901742789681, 28.714831267959838, 29.464523847063482, 26.282358508447434, 29.45054392249165, 26.27331138303493, 27.18305870981545, 25.781965831586337, 26.139207347430975, 23.543009166904792, 21.42853065299701, 21.138595510838055, 21.104965742889874, 49.00889454703017, 20.272841788154548, 20.19562246618403, 30.5758877693654, 67.97169970599171, 29.06713610765364, 213.87148119392785, 87.56896171629978, 82.57347823070366, 513.9850308872551, 1103.595655489082, 66.97347371712452, 790.1388351295668, 43.18635506493428, 751.6099085111189, 224.46241690199454, 231.32454364465656, 419.4531665199831, 940.4537650711128, 697.2011348777074, 684.414888163929, 273.6750340682939, 118.84896708861712, 529.2563651606158, 393.0488021525499, 2770.01935732592, 143.41306756650945, 610.7994508189805, 368.8902521127432, 248.94747253267946, 2200.4263459654458, 726.2659484572675, 2953.4903285167643, 684.3834847377066, 602.6490680981944, 1317.0694097538378, 653.8976226212812, 539.0472783888314, 1820.3402935859924, 2562.155225240047, 1140.0799557144223, 451.6998468891966, 345.69828917335536, 566.8903492690358, 2303.6566493919413, 2421.280453895774, 111.17764050181606, 95.75605526779405, 138.66640194640854, 85.94457075152977, 90.66293135544134, 70.54218488578037, 54.98616413832422, 46.078734592185015, 42.12975709432779, 48.64699582919497, 37.09190244372457, 39.496124546769806, 35.29053173908717, 260.73375016327583, 274.6752197737026, 68.53583646971543, 31.03311415298446, 41.27467638371461, 28.291991456024476, 116.4121004787652, 36.517723691001706, 63.810591618565354, 27.076215682871805, 26.966928210517946, 26.95257719584175, 26.657047824172725, 26.515983824688274, 35.03958992313873, 32.69540895484881, 26.16301671328459, 71.50369960461872, 124.55918423157108, 286.9561638609866, 63.70939923115666, 81.1122490748579, 396.77761475872694, 45.803085385582584, 68.88310544958492, 111.56396978068616, 60.92383090883432, 292.16517324636703, 386.69708716000866, 160.39414407605014, 172.67071699215612, 384.7091492038434, 239.81501785282867, 154.22230270070926, 120.42185629935199, 150.77999568941706, 872.0606393011507, 289.13059587846686, 498.03621952255423, 590.4893445674118, 954.0585600767317, 368.663339519178, 584.0414526370248, 566.0295549519664, 1464.626950808556, 647.7001011689205, 3701.162439293083, 812.9150579412178, 1481.4215533328952, 572.5632080561245, 1875.8893475239731, 2953.4903285167643, 646.1529659922835, 71.28584070832756, 55.03458970779596, 53.35529773076071, 39.49099287677359, 39.071426028156964, 38.53679528190828, 38.174584778192, 37.85571016582534, 38.84266562242052, 34.737054134850474, 59.82696584286064, 29.000128191662036, 28.283057462644354, 26.89143073413846, 26.642361704699045, 26.25804537801509, 25.83429249634793, 24.37248816565826, 22.75077348573287, 21.889536271650325, 23.1392625442109, 21.831972130071374, 21.056938126131563, 42.38847546143086, 21.019499660477013, 20.54911376230242, 20.515919901057448, 19.842664056771707, 19.420230789423947, 19.238945387893967, 47.39980956020468, 93.582394314557, 34.54854021983123, 68.86020577735043, 35.86163704402073, 49.647195569296365, 31.995484501814033, 311.63493135632586, 44.93996604501945, 58.10815032076437, 35.695449018044584, 43.84043964513884, 205.45750471516732, 87.91149170037518, 106.330990158532, 498.6115663967343, 302.8482510935781, 37.997656266917, 186.97260077175443, 249.79319945864708, 54.143273630752404, 653.8976226212812, 149.42931810216024, 655.7343166309555, 2562.155225240047, 238.94254055961375, 1027.8570436180294, 2770.01935732592, 1092.966621187397, 1051.2117285309043, 248.4442171718908, 2334.4118497379095, 2301.494251777751, 3811.9653182649326, 1201.4332290757827, 1317.0694097538378, 474.6937606497845, 2200.4263459654458, 550.0763610713905, 865.3245367633388, 2953.4903285167643, 1151.2046453077994, 1110.7884653928725, 168.70554477018032, 124.46615250666159, 85.41637550738642, 82.7652799260824, 60.73791044402028, 55.60615465560716, 53.10992019823849, 48.175728356484136, 43.99931380301494, 38.53424007719807, 37.312248443923174, 37.278935829355476, 65.16933195684884, 36.46566740841187, 35.60998730303313, 35.10573091688623, 33.99319346634624, 33.40315654027041, 119.41203310967857, 32.27198879198537, 32.14114661034258, 643.6603935807076, 29.72557298753644, 32.97715053845433, 29.352120831436594, 204.83170635012905, 145.58531773161917, 32.65197401128478, 59.65068461152077, 23.42644506461667, 79.35400352843793, 166.6073435425658, 96.46063690317858, 151.59680731806736, 136.50095477504024, 103.37019169173062, 584.8084121439341, 122.08635054292026, 117.02069318867589, 129.802924951001, 224.69508798805657, 201.52714722625635, 519.3857590179842, 83.47440933734289, 92.44571609596876, 2569.8463258985785, 626.5926603771325, 1367.995147949512, 311.69781373013774, 2021.6370135330988, 1096.6647559878809, 640.5375091782468, 548.8517424949089, 709.0324695540517, 791.2278736758584, 450.3814800916929, 395.9506802083628, 3701.162439293083, 1481.4215533328952, 1612.4221209579516, 794.567149800892, 540.0093702637579, 1421.2840416055096, 463.53566993066283, 73.60718360366418, 59.45994847340675, 60.05426814086502, 48.7513490821864, 49.51916648792375, 44.074262914276446, 191.59118968365283, 48.67429972415717, 35.630878339495794, 34.70702738998091, 32.203483481233484, 30.98093575861, 31.643070446992475, 26.277368855668445, 25.215194542990446, 24.380238142109455, 20.5625813651718, 119.82923304237362, 18.950033823756417, 18.56928868154354, 17.943986106259313, 17.70334507289818, 16.550737533359545, 16.474388121502415, 16.900932909169477, 29.98368037485581, 16.02533261515907, 327.5452743658543, 15.08384822298892, 28.853542013295126, 225.01150386668854, 46.558104704355436, 60.73447941495429, 29.13865966734074, 46.492969568148204, 82.82710436326589, 103.64716559203127, 32.953769687634384, 88.27459298985768, 141.62313595900426, 100.45107847840254, 114.79074288547992, 36.56456117495965, 43.3159326948797, 186.6744894810398, 384.712858069115, 246.79853883689853, 262.7865914489168, 138.74175963106288, 193.9843695826764, 451.6998468891966, 2421.280453895774, 204.8065958808167, 599.3183660949767, 1353.979632368501, 751.6099085111189, 3811.9653182649326, 636.0282335704305, 2562.155225240047, 293.948634622325, 2770.01935732592, 499.5292063104862, 1173.6088195691927, 730.195280251428, 2466.3150019386767, 77.93400234937991, 67.903134009158, 102.12982645861648, 44.73588340817582, 43.047571981765145, 30.395374144947663, 24.79111553971091, 23.67161146427101, 22.451374455572317, 22.059607638036702, 22.059611181742408, 280.7412116606248, 21.505614905349404, 20.364629249904326, 19.835943746007057, 19.694577415021442, 19.73051113610025, 19.33132427912189, 282.77838180664963, 18.0939595469445, 86.5635021117789, 17.497668337732872, 16.82424618762685, 15.985158573384231, 16.066866934393904, 15.782151184016403, 15.782157958651181, 14.688386423003694, 14.627601117615328, 14.916297507268952, 346.69911437243377, 37.123391346877625, 20.351889442641205, 106.14080882145014, 42.6307534516174, 39.15373290872645, 147.05119979436174, 38.159983253432785, 35.49473788053079, 1951.8403932833266, 79.54997589406958, 187.23791859803762, 118.95146198247146, 292.98981533628637, 30.852577519486594, 33.21143379400463, 118.9305630226824, 150.26405804339544, 618.4346690049185, 407.478288762814, 544.0831160137956, 317.3092170204552, 676.5233868781404, 49.679869686813454, 794.567149800892, 599.3183660949767, 700.2694939984583, 1103.595655489082, 536.7077779759751, 653.8976226212812, 1318.8203518359583, 1185.243831178664, 791.2278736758584, 2611.6204433868984, 428.4000787235965, 240.8967868263052, 206.72820073890668, 4765.021706454454, 114.62849184939142, 114.38218726213616, 84.50371830198397, 80.42528070784738, 79.21711496687105, 77.57747835152801, 75.71477855617229, 69.98194643459485, 66.78452536812127, 65.49596254993797, 63.72183127037042, 59.19569610329455, 58.70063529752413, 53.1620312199693, 48.11601386277449, 47.71895849959556, 47.64070316113791, 47.56981532869949, 46.47774163363615, 45.84925420032275, 45.18439118321411, 41.42192127921911, 37.249870027613966, 36.44619946741905, 34.284019067839786, 33.71313068589924, 104.88338164926229, 461.3237356661617, 98.7100419499863, 99.46373867958084, 236.2144092647752, 168.57299067742093, 93.28160550843413, 90.03333586332596, 85.60076142548529, 71.35791627877686, 68.76322748801982, 65.2902062824666, 55.486579876908976, 50.973450725233526, 49.768896246180404, 50.68429215149852, 48.12501539600102, 45.414729189124934, 39.10512948511373, 38.78363583974097, 36.11670279184406, 35.15921143992845, 34.30791577152899, 33.78498345695584, 33.705066529263306, 33.304964019234944, 43.25109209500594, 32.956207066252446, 32.07206177169593, 31.93147119054234, 31.70762267499403, 45.62031480871594, 31.357512041311537, 30.307546639930578, 36.468644580695866, 29.696794846868773, 65.72252589287478, 84.08868233383772, 36.035356700151816, 236.2144092647752, 168.57299067742093, 65.95800134697623, 377.8635233890356, 49.412466459062, 105.63709076323656, 254.1777234409757, 121.41661480044414, 74.23579537265523, 121.849064193313], \"Category\": [\"Default\", \"Default\", \"Default\", \"Default\", \"Default\", \"Default\", \"Default\", \"Default\", \"Default\", \"Default\", \"Default\", \"Default\", \"Default\", \"Default\", \"Default\", \"Default\", \"Default\", \"Default\", \"Default\", \"Default\", \"Default\", \"Default\", \"Default\", \"Default\", \"Default\", \"Default\", \"Default\", \"Default\", \"Default\", \"Default\", \"Topic1\", \"Topic1\", \"Topic1\", \"Topic1\", \"Topic1\", \"Topic1\", \"Topic1\", \"Topic1\", \"Topic1\", \"Topic1\", \"Topic1\", \"Topic1\", \"Topic1\", \"Topic1\", \"Topic1\", \"Topic1\", \"Topic1\", \"Topic1\", \"Topic1\", \"Topic1\", \"Topic1\", \"Topic1\", \"Topic1\", \"Topic1\", \"Topic1\", \"Topic1\", \"Topic1\", \"Topic1\", \"Topic1\", \"Topic1\", \"Topic1\", \"Topic1\", \"Topic1\", \"Topic1\", \"Topic1\", \"Topic1\", \"Topic1\", \"Topic1\", \"Topic1\", \"Topic1\", \"Topic1\", \"Topic1\", \"Topic1\", \"Topic1\", \"Topic1\", \"Topic1\", \"Topic1\", \"Topic1\", \"Topic1\", \"Topic1\", \"Topic1\", \"Topic1\", \"Topic1\", \"Topic1\", \"Topic1\", \"Topic1\", \"Topic1\", \"Topic1\", \"Topic1\", \"Topic1\", \"Topic1\", \"Topic1\", \"Topic1\", \"Topic1\", \"Topic1\", \"Topic1\", \"Topic1\", \"Topic1\", \"Topic1\", \"Topic1\", \"Topic1\", \"Topic2\", \"Topic2\", \"Topic2\", \"Topic2\", \"Topic2\", \"Topic2\", \"Topic2\", \"Topic2\", \"Topic2\", \"Topic2\", \"Topic2\", \"Topic2\", \"Topic2\", \"Topic2\", \"Topic2\", \"Topic2\", \"Topic2\", \"Topic2\", \"Topic2\", \"Topic2\", \"Topic2\", \"Topic2\", \"Topic2\", \"Topic2\", \"Topic2\", \"Topic2\", \"Topic2\", \"Topic2\", \"Topic2\", \"Topic2\", \"Topic2\", \"Topic2\", \"Topic2\", \"Topic2\", \"Topic2\", \"Topic2\", \"Topic2\", \"Topic2\", \"Topic2\", \"Topic2\", \"Topic2\", \"Topic2\", \"Topic2\", \"Topic2\", \"Topic2\", \"Topic2\", \"Topic2\", \"Topic2\", \"Topic2\", \"Topic2\", \"Topic2\", \"Topic2\", \"Topic2\", \"Topic2\", \"Topic2\", \"Topic2\", \"Topic2\", \"Topic2\", \"Topic2\", \"Topic2\", \"Topic2\", \"Topic2\", \"Topic2\", \"Topic2\", \"Topic2\", \"Topic2\", \"Topic2\", \"Topic2\", \"Topic2\", \"Topic3\", \"Topic3\", \"Topic3\", \"Topic3\", \"Topic3\", \"Topic3\", \"Topic3\", \"Topic3\", \"Topic3\", \"Topic3\", \"Topic3\", \"Topic3\", \"Topic3\", \"Topic3\", \"Topic3\", \"Topic3\", \"Topic3\", \"Topic3\", \"Topic3\", \"Topic3\", \"Topic3\", \"Topic3\", \"Topic3\", \"Topic3\", \"Topic3\", \"Topic3\", \"Topic3\", \"Topic3\", \"Topic3\", \"Topic3\", \"Topic3\", \"Topic3\", \"Topic3\", \"Topic3\", \"Topic3\", \"Topic3\", \"Topic3\", \"Topic3\", \"Topic3\", \"Topic3\", \"Topic3\", \"Topic3\", \"Topic3\", \"Topic3\", \"Topic3\", \"Topic3\", \"Topic3\", \"Topic3\", \"Topic3\", \"Topic3\", \"Topic3\", \"Topic3\", \"Topic3\", \"Topic3\", \"Topic3\", \"Topic3\", \"Topic3\", \"Topic3\", \"Topic3\", \"Topic3\", \"Topic3\", \"Topic3\", \"Topic3\", \"Topic3\", \"Topic3\", \"Topic3\", \"Topic3\", \"Topic3\", \"Topic3\", \"Topic3\", \"Topic3\", \"Topic3\", \"Topic3\", \"Topic3\", \"Topic3\", \"Topic3\", \"Topic4\", \"Topic4\", \"Topic4\", \"Topic4\", \"Topic4\", \"Topic4\", \"Topic4\", \"Topic4\", \"Topic4\", \"Topic4\", \"Topic4\", \"Topic4\", \"Topic4\", \"Topic4\", \"Topic4\", \"Topic4\", \"Topic4\", \"Topic4\", \"Topic4\", \"Topic4\", \"Topic4\", \"Topic4\", \"Topic4\", \"Topic4\", \"Topic4\", \"Topic4\", \"Topic4\", \"Topic4\", \"Topic4\", \"Topic4\", \"Topic4\", \"Topic4\", \"Topic4\", \"Topic4\", \"Topic4\", \"Topic4\", \"Topic4\", \"Topic4\", \"Topic4\", \"Topic4\", \"Topic4\", \"Topic4\", \"Topic4\", \"Topic4\", \"Topic4\", \"Topic4\", \"Topic4\", \"Topic4\", \"Topic4\", \"Topic4\", \"Topic4\", \"Topic4\", \"Topic4\", \"Topic4\", \"Topic4\", \"Topic4\", \"Topic4\", \"Topic4\", \"Topic4\", \"Topic4\", \"Topic4\", \"Topic4\", \"Topic4\", \"Topic4\", \"Topic4\", \"Topic4\", \"Topic4\", \"Topic4\", \"Topic4\", \"Topic4\", \"Topic4\", \"Topic4\", \"Topic4\", \"Topic4\", \"Topic4\", \"Topic4\", \"Topic4\", \"Topic5\", \"Topic5\", \"Topic5\", \"Topic5\", \"Topic5\", \"Topic5\", \"Topic5\", \"Topic5\", \"Topic5\", \"Topic5\", \"Topic5\", \"Topic5\", \"Topic5\", \"Topic5\", \"Topic5\", \"Topic5\", \"Topic5\", \"Topic5\", \"Topic5\", \"Topic5\", \"Topic5\", \"Topic5\", \"Topic5\", \"Topic5\", \"Topic5\", \"Topic5\", \"Topic5\", \"Topic5\", \"Topic5\", \"Topic5\", \"Topic5\", \"Topic5\", \"Topic5\", \"Topic5\", \"Topic5\", \"Topic5\", \"Topic5\", \"Topic5\", \"Topic5\", \"Topic5\", \"Topic5\", \"Topic5\", \"Topic5\", \"Topic5\", \"Topic5\", \"Topic5\", \"Topic5\", \"Topic5\", \"Topic5\", \"Topic5\", \"Topic5\", \"Topic5\", \"Topic5\", \"Topic5\", \"Topic5\", \"Topic5\", \"Topic5\", \"Topic5\", \"Topic5\", \"Topic5\", \"Topic5\", \"Topic5\", \"Topic5\", \"Topic5\", \"Topic5\", \"Topic5\", \"Topic5\", \"Topic5\", \"Topic5\", \"Topic5\", \"Topic5\", \"Topic5\", \"Topic5\", \"Topic5\", \"Topic5\", \"Topic5\", \"Topic5\", \"Topic5\", \"Topic5\", \"Topic5\", \"Topic5\", \"Topic5\", \"Topic5\", \"Topic6\", \"Topic6\", \"Topic6\", \"Topic6\", \"Topic6\", \"Topic6\", \"Topic6\", \"Topic6\", \"Topic6\", \"Topic6\", \"Topic6\", \"Topic6\", \"Topic6\", \"Topic6\", \"Topic6\", \"Topic6\", \"Topic6\", \"Topic6\", \"Topic6\", \"Topic6\", \"Topic6\", \"Topic6\", \"Topic6\", \"Topic6\", \"Topic6\", \"Topic6\", \"Topic6\", \"Topic6\", \"Topic6\", \"Topic6\", \"Topic6\", \"Topic6\", \"Topic6\", \"Topic6\", \"Topic6\", \"Topic6\", \"Topic6\", \"Topic6\", \"Topic6\", \"Topic6\", \"Topic6\", \"Topic6\", \"Topic6\", \"Topic6\", \"Topic6\", \"Topic6\", \"Topic6\", \"Topic6\", \"Topic6\", \"Topic6\", \"Topic6\", \"Topic6\", \"Topic6\", \"Topic6\", \"Topic6\", \"Topic6\", \"Topic6\", \"Topic6\", \"Topic6\", \"Topic6\", \"Topic6\", \"Topic6\", \"Topic6\", \"Topic6\", \"Topic6\", \"Topic6\", \"Topic6\", \"Topic6\", \"Topic6\", \"Topic6\", \"Topic6\", \"Topic6\", \"Topic7\", \"Topic7\", \"Topic7\", \"Topic7\", \"Topic7\", \"Topic7\", \"Topic7\", \"Topic7\", \"Topic7\", \"Topic7\", \"Topic7\", \"Topic7\", \"Topic7\", \"Topic7\", \"Topic7\", \"Topic7\", \"Topic7\", \"Topic7\", \"Topic7\", \"Topic7\", \"Topic7\", \"Topic7\", \"Topic7\", \"Topic7\", \"Topic7\", \"Topic7\", \"Topic7\", \"Topic7\", \"Topic7\", \"Topic7\", \"Topic7\", \"Topic7\", \"Topic7\", \"Topic7\", \"Topic7\", \"Topic7\", \"Topic7\", \"Topic7\", \"Topic7\", \"Topic7\", \"Topic7\", \"Topic7\", \"Topic7\", \"Topic7\", \"Topic7\", \"Topic7\", \"Topic7\", \"Topic7\", \"Topic7\", \"Topic7\", \"Topic7\", \"Topic7\", \"Topic7\", \"Topic7\", \"Topic7\", \"Topic7\", \"Topic7\", \"Topic7\", \"Topic7\", \"Topic7\", \"Topic7\", \"Topic7\", \"Topic7\", \"Topic7\", \"Topic7\", \"Topic7\", \"Topic7\", \"Topic7\", \"Topic7\", \"Topic7\", \"Topic7\", \"Topic8\", \"Topic8\", \"Topic8\", \"Topic8\", \"Topic8\", \"Topic8\", \"Topic8\", \"Topic8\", \"Topic8\", \"Topic8\", \"Topic8\", \"Topic8\", \"Topic8\", \"Topic8\", \"Topic8\", \"Topic8\", \"Topic8\", \"Topic8\", \"Topic8\", \"Topic8\", \"Topic8\", \"Topic8\", \"Topic8\", \"Topic8\", \"Topic8\", \"Topic8\", \"Topic8\", \"Topic8\", \"Topic8\", \"Topic8\", \"Topic8\", \"Topic8\", \"Topic8\", \"Topic8\", \"Topic8\", \"Topic8\", \"Topic8\", \"Topic8\", \"Topic8\", \"Topic8\", \"Topic8\", \"Topic8\", \"Topic8\", \"Topic8\", \"Topic8\", \"Topic8\", \"Topic8\", \"Topic8\", \"Topic8\", \"Topic8\", \"Topic8\", \"Topic8\", \"Topic8\", \"Topic8\", \"Topic8\", \"Topic8\", \"Topic8\", \"Topic8\", \"Topic8\", \"Topic8\", \"Topic8\", \"Topic8\", \"Topic8\", \"Topic9\", \"Topic9\", \"Topic9\", \"Topic9\", \"Topic9\", \"Topic9\", \"Topic9\", \"Topic9\", \"Topic9\", \"Topic9\", \"Topic9\", \"Topic9\", \"Topic9\", \"Topic9\", \"Topic9\", \"Topic9\", \"Topic9\", \"Topic9\", \"Topic9\", \"Topic9\", \"Topic9\", \"Topic9\", \"Topic9\", \"Topic9\", \"Topic9\", \"Topic9\", \"Topic9\", \"Topic9\", \"Topic9\", \"Topic9\", \"Topic9\", \"Topic9\", \"Topic9\", \"Topic9\", \"Topic9\", \"Topic9\", \"Topic9\", \"Topic9\", \"Topic9\", \"Topic9\", \"Topic9\", \"Topic9\", \"Topic9\", \"Topic9\", \"Topic9\", \"Topic9\", \"Topic9\", \"Topic9\", \"Topic9\", \"Topic9\", \"Topic9\", \"Topic9\", \"Topic9\", \"Topic9\", \"Topic9\", \"Topic9\", \"Topic9\", \"Topic9\", \"Topic9\", \"Topic9\", \"Topic9\", \"Topic9\", \"Topic9\", \"Topic9\", \"Topic9\", \"Topic9\", \"Topic9\", \"Topic9\", \"Topic9\", \"Topic9\", \"Topic9\", \"Topic9\", \"Topic9\", \"Topic9\", \"Topic9\", \"Topic9\", \"Topic9\", \"Topic9\", \"Topic10\", \"Topic10\", \"Topic10\", \"Topic10\", \"Topic10\", \"Topic10\", \"Topic10\", \"Topic10\", \"Topic10\", \"Topic10\", \"Topic10\", \"Topic10\", \"Topic10\", \"Topic10\", \"Topic10\", \"Topic10\", \"Topic10\", \"Topic10\", \"Topic10\", \"Topic10\", \"Topic10\", \"Topic10\", \"Topic10\", \"Topic10\", \"Topic10\", \"Topic10\", \"Topic10\", \"Topic10\", \"Topic10\", \"Topic10\", \"Topic10\", \"Topic10\", \"Topic10\", \"Topic10\", \"Topic10\", \"Topic10\", \"Topic10\", \"Topic10\", \"Topic10\", \"Topic10\", \"Topic10\", \"Topic10\", \"Topic10\", \"Topic10\", \"Topic10\", \"Topic10\", \"Topic10\", \"Topic10\", \"Topic10\", \"Topic10\", \"Topic10\", \"Topic10\", \"Topic10\", \"Topic10\", \"Topic10\", \"Topic10\", \"Topic10\", \"Topic10\", \"Topic10\", \"Topic10\", \"Topic10\", \"Topic10\", \"Topic10\", \"Topic10\", \"Topic10\", \"Topic10\", \"Topic11\", \"Topic11\", \"Topic11\", \"Topic11\", \"Topic11\", \"Topic11\", \"Topic11\", \"Topic11\", \"Topic11\", \"Topic11\", \"Topic11\", \"Topic11\", \"Topic11\", \"Topic11\", \"Topic11\", \"Topic11\", \"Topic11\", \"Topic11\", \"Topic11\", \"Topic11\", \"Topic11\", \"Topic11\", \"Topic11\", \"Topic11\", \"Topic11\", \"Topic11\", \"Topic11\", \"Topic11\", \"Topic11\", \"Topic11\", \"Topic11\", \"Topic11\", \"Topic11\", \"Topic11\", \"Topic11\", \"Topic11\", \"Topic11\", \"Topic11\", \"Topic11\", \"Topic11\", \"Topic11\", \"Topic11\", \"Topic11\", \"Topic11\", \"Topic11\", \"Topic11\", \"Topic11\", \"Topic11\", \"Topic11\", \"Topic11\", \"Topic11\", \"Topic11\", \"Topic11\", \"Topic11\", \"Topic11\", \"Topic11\", \"Topic11\", \"Topic11\", \"Topic11\", \"Topic11\", \"Topic11\", \"Topic11\", \"Topic11\", \"Topic11\", \"Topic11\", \"Topic11\", \"Topic11\", \"Topic11\", \"Topic11\", \"Topic11\", \"Topic11\", \"Topic11\", \"Topic11\", \"Topic11\", \"Topic11\", \"Topic11\", \"Topic11\", \"Topic11\", \"Topic11\", \"Topic11\", \"Topic12\", \"Topic12\", \"Topic12\", \"Topic12\", \"Topic12\", \"Topic12\", \"Topic12\", \"Topic12\", \"Topic12\", \"Topic12\", \"Topic12\", \"Topic12\", \"Topic12\", \"Topic12\", \"Topic12\", \"Topic12\", \"Topic12\", \"Topic12\", \"Topic12\", \"Topic12\", \"Topic12\", \"Topic12\", \"Topic12\", \"Topic12\", \"Topic12\", \"Topic12\", \"Topic12\", \"Topic12\", \"Topic12\", \"Topic12\", \"Topic12\", \"Topic12\", \"Topic12\", \"Topic12\", \"Topic12\", \"Topic12\", \"Topic12\", \"Topic12\", \"Topic12\", \"Topic12\", \"Topic12\", \"Topic12\", \"Topic12\", \"Topic12\", \"Topic12\", \"Topic12\", \"Topic12\", \"Topic12\", \"Topic12\", \"Topic12\", \"Topic12\", \"Topic12\", \"Topic12\", \"Topic12\", \"Topic12\", \"Topic12\", \"Topic12\", \"Topic12\", \"Topic12\", \"Topic12\", \"Topic12\", \"Topic12\", \"Topic12\", \"Topic12\", \"Topic12\", \"Topic12\", \"Topic12\", \"Topic12\", \"Topic12\", \"Topic13\", \"Topic13\", \"Topic13\", \"Topic13\", \"Topic13\", \"Topic13\", \"Topic13\", \"Topic13\", \"Topic13\", \"Topic13\", \"Topic13\", \"Topic13\", \"Topic13\", \"Topic13\", \"Topic13\", \"Topic13\", \"Topic13\", \"Topic13\", \"Topic13\", \"Topic13\", \"Topic13\", \"Topic13\", \"Topic13\", \"Topic13\", \"Topic13\", \"Topic13\", \"Topic13\", \"Topic13\", \"Topic13\", \"Topic13\", \"Topic13\", \"Topic13\", \"Topic13\", \"Topic13\", \"Topic13\", \"Topic13\", \"Topic13\", \"Topic13\", \"Topic13\", \"Topic13\", \"Topic13\", \"Topic13\", \"Topic13\", \"Topic13\", \"Topic13\", \"Topic13\", \"Topic13\", \"Topic13\", \"Topic13\", \"Topic13\", \"Topic13\", \"Topic13\", \"Topic13\", \"Topic13\", \"Topic13\", \"Topic13\", \"Topic13\", \"Topic13\", \"Topic13\", \"Topic13\", \"Topic13\", \"Topic13\", \"Topic13\", \"Topic13\", \"Topic13\", \"Topic13\", \"Topic13\", \"Topic13\", \"Topic13\", \"Topic13\", \"Topic13\", \"Topic13\", \"Topic14\", \"Topic14\", \"Topic14\", \"Topic14\", \"Topic14\", \"Topic14\", \"Topic14\", \"Topic14\", \"Topic14\", \"Topic14\", \"Topic14\", \"Topic14\", \"Topic14\", \"Topic14\", \"Topic14\", \"Topic14\", \"Topic14\", \"Topic14\", \"Topic14\", \"Topic14\", \"Topic14\", \"Topic14\", \"Topic14\", \"Topic14\", \"Topic14\", \"Topic14\", \"Topic14\", \"Topic14\", \"Topic14\", \"Topic14\", \"Topic14\", \"Topic14\", \"Topic14\", \"Topic14\", \"Topic14\", \"Topic14\", \"Topic14\", \"Topic14\", \"Topic14\", \"Topic14\", \"Topic14\", \"Topic14\", \"Topic14\", \"Topic14\", \"Topic14\", \"Topic14\", \"Topic14\", \"Topic14\", \"Topic14\", \"Topic14\", \"Topic14\", \"Topic14\", \"Topic14\", \"Topic14\", \"Topic14\", \"Topic14\", \"Topic14\", \"Topic14\", \"Topic14\", \"Topic14\", \"Topic14\", \"Topic14\", \"Topic14\", \"Topic14\", \"Topic14\", \"Topic14\", \"Topic15\", \"Topic15\", \"Topic15\", \"Topic15\", \"Topic15\", \"Topic15\", \"Topic15\", \"Topic15\", \"Topic15\", \"Topic15\", \"Topic15\", \"Topic15\", \"Topic15\", \"Topic15\", \"Topic15\", \"Topic15\", \"Topic15\", \"Topic15\", \"Topic15\", \"Topic15\", \"Topic15\", \"Topic15\", \"Topic15\", \"Topic15\", \"Topic15\", \"Topic15\", \"Topic15\", \"Topic15\", \"Topic15\", \"Topic15\", \"Topic15\", \"Topic15\", \"Topic15\", \"Topic15\", \"Topic15\", \"Topic15\", \"Topic15\", \"Topic15\", \"Topic15\", \"Topic15\", \"Topic15\", \"Topic15\", \"Topic15\", \"Topic15\", \"Topic15\", \"Topic15\", \"Topic15\", \"Topic15\", \"Topic15\", \"Topic15\", \"Topic15\", \"Topic15\", \"Topic15\", \"Topic15\", \"Topic15\", \"Topic15\", \"Topic15\", \"Topic15\", \"Topic15\", \"Topic15\", \"Topic15\", \"Topic15\", \"Topic15\", \"Topic15\", \"Topic15\", \"Topic15\", \"Topic15\", \"Topic15\", \"Topic15\", \"Topic15\", \"Topic15\", \"Topic15\", \"Topic15\", \"Topic16\", \"Topic16\", \"Topic16\", \"Topic16\", \"Topic16\", \"Topic16\", \"Topic16\", \"Topic16\", \"Topic16\", \"Topic16\", \"Topic16\", \"Topic16\", \"Topic16\", \"Topic16\", \"Topic16\", \"Topic16\", \"Topic16\", \"Topic16\", \"Topic16\", \"Topic16\", \"Topic16\", \"Topic16\", \"Topic16\", \"Topic16\", \"Topic16\", \"Topic16\", \"Topic16\", \"Topic16\", \"Topic16\", \"Topic16\", \"Topic16\", \"Topic16\", \"Topic16\", \"Topic16\", \"Topic16\", \"Topic16\", \"Topic16\", \"Topic16\", \"Topic16\", \"Topic16\", \"Topic16\", \"Topic16\", \"Topic16\", \"Topic16\", \"Topic16\", \"Topic16\", \"Topic16\", \"Topic16\", \"Topic16\", \"Topic16\", \"Topic16\", \"Topic16\", \"Topic16\", \"Topic16\", \"Topic16\", \"Topic16\", \"Topic16\", \"Topic16\", \"Topic16\", \"Topic16\", \"Topic16\", \"Topic16\", \"Topic16\", \"Topic17\", \"Topic17\", \"Topic17\", \"Topic17\", \"Topic17\", \"Topic17\", \"Topic17\", \"Topic17\", \"Topic17\", \"Topic17\", \"Topic17\", \"Topic17\", \"Topic17\", \"Topic17\", \"Topic17\", \"Topic17\", \"Topic17\", \"Topic17\", \"Topic17\", \"Topic17\", \"Topic17\", \"Topic17\", \"Topic17\", \"Topic17\", \"Topic17\", \"Topic17\", \"Topic17\", \"Topic17\", \"Topic17\", \"Topic17\", \"Topic17\", \"Topic17\", \"Topic17\", \"Topic17\", \"Topic17\", \"Topic17\", \"Topic17\", \"Topic17\", \"Topic17\", \"Topic17\", \"Topic17\", \"Topic17\", \"Topic17\", \"Topic17\", \"Topic17\", \"Topic17\", \"Topic17\", \"Topic17\", \"Topic17\", \"Topic17\", \"Topic17\", \"Topic17\", \"Topic17\", \"Topic17\", \"Topic17\", \"Topic17\", \"Topic17\", \"Topic17\", \"Topic17\", \"Topic17\", \"Topic17\", \"Topic17\", \"Topic17\", \"Topic17\", \"Topic17\", \"Topic17\", \"Topic18\", \"Topic18\", \"Topic18\", \"Topic18\", \"Topic18\", \"Topic18\", \"Topic18\", \"Topic18\", \"Topic18\", \"Topic18\", \"Topic18\", \"Topic18\", \"Topic18\", \"Topic18\", \"Topic18\", \"Topic18\", \"Topic18\", \"Topic18\", \"Topic18\", \"Topic18\", \"Topic18\", \"Topic18\", \"Topic18\", \"Topic18\", \"Topic18\", \"Topic18\", \"Topic18\", \"Topic18\", \"Topic18\", \"Topic18\", \"Topic18\", \"Topic18\", \"Topic18\", \"Topic18\", \"Topic18\", \"Topic18\", \"Topic18\", \"Topic18\", \"Topic18\", \"Topic18\", \"Topic18\", \"Topic18\", \"Topic18\", \"Topic18\", \"Topic18\", \"Topic18\", \"Topic18\", \"Topic18\", \"Topic18\", \"Topic18\", \"Topic18\", \"Topic18\", \"Topic18\", \"Topic18\", \"Topic18\", \"Topic18\", \"Topic18\", \"Topic18\", \"Topic18\", \"Topic18\", \"Topic18\", \"Topic18\", \"Topic18\", \"Topic18\", \"Topic19\", \"Topic19\", \"Topic19\", \"Topic19\", \"Topic19\", \"Topic19\", \"Topic19\", \"Topic19\", \"Topic19\", \"Topic19\", \"Topic19\", \"Topic19\", \"Topic19\", \"Topic19\", \"Topic19\", \"Topic19\", \"Topic19\", \"Topic19\", \"Topic19\", \"Topic19\", \"Topic19\", \"Topic19\", \"Topic19\", \"Topic19\", \"Topic19\", \"Topic19\", \"Topic19\", \"Topic19\", \"Topic19\", \"Topic19\", \"Topic19\", \"Topic19\", \"Topic19\", \"Topic19\", \"Topic19\", \"Topic19\", \"Topic20\", \"Topic20\", \"Topic20\", \"Topic20\", \"Topic20\", \"Topic20\", \"Topic20\", \"Topic20\", \"Topic20\", \"Topic20\", \"Topic20\", \"Topic20\", \"Topic20\", \"Topic20\", \"Topic20\", \"Topic20\", \"Topic20\", \"Topic20\", \"Topic20\", \"Topic20\", \"Topic20\", \"Topic20\", \"Topic20\", \"Topic20\", \"Topic20\", \"Topic20\", \"Topic20\", \"Topic20\", \"Topic20\", \"Topic20\", \"Topic20\", \"Topic20\", \"Topic20\", \"Topic20\", \"Topic20\", \"Topic20\", \"Topic20\", \"Topic20\", \"Topic20\", \"Topic20\", \"Topic20\", \"Topic20\", \"Topic20\"], \"logprob\": [30.0, 29.0, 28.0, 27.0, 26.0, 25.0, 24.0, 23.0, 22.0, 21.0, 20.0, 19.0, 18.0, 17.0, 16.0, 15.0, 14.0, 13.0, 12.0, 11.0, 10.0, 9.0, 8.0, 7.0, 6.0, 5.0, 4.0, 3.0, 2.0, 1.0, -4.914000034332275, -5.227200031280518, -5.708000183105469, -5.510499954223633, -5.408199787139893, -6.365200042724609, -5.731599807739258, -6.603700160980225, -6.675300121307373, -6.218299865722656, -6.8933000564575195, -6.934100151062012, -6.950399875640869, -6.665999889373779, -6.967800140380859, -6.9710001945495605, -4.0046000480651855, -7.082399845123291, -7.125199794769287, -5.649700164794922, -7.240799903869629, -7.215000152587891, -7.298299789428711, -7.3354997634887695, -7.392600059509277, -7.4278998374938965, -7.450500011444092, -7.142399787902832, -7.024499893188477, -7.600599765777588, -5.373499870300293, -5.481400012969971, -5.539400100708008, -6.418900012969971, -6.074900150299072, -6.223899841308594, -5.672800064086914, -6.506400108337402, -6.739799976348877, -6.057000160217285, -6.281099796295166, -6.172100067138672, -6.541200160980225, -6.292099952697754, -6.519599914550781, -4.77400016784668, -6.199900150299072, -5.662700176239014, -5.440700054168701, -5.351900100708008, -5.659200191497803, -5.873499870300293, -4.472899913787842, -5.363399982452393, -5.054200172424316, -5.513899803161621, -5.499899864196777, -5.399199962615967, -5.6082000732421875, -4.95550012588501, -5.742700099945068, -5.191400051116943, -5.395500183105469, -5.281400203704834, -5.373499870300293, -5.333499908447266, -5.5055999755859375, -5.418799877166748, -5.58519983291626, -5.555699825286865, -5.642099857330322, -5.0, -5.679900169372559, -5.875199794769287, -5.915500164031982, -6.369900226593018, -6.447199821472168, -5.566999912261963, -6.509099960327148, -6.304299831390381, -6.7891998291015625, -6.8282999992370605, -5.799799919128418, -6.933199882507324, -5.271900177001953, -6.9054999351501465, -7.259399890899658, -7.2708001136779785, -7.08519983291626, -6.879199981689453, -6.73769998550415, -7.3958001136779785, -6.707499980926514, -7.458799839019775, -7.390100002288818, -7.7108001708984375, -6.8643999099731445, -7.718299865722656, -7.740099906921387, -7.544400215148926, -7.81220006942749, -6.678199768066406, -5.829699993133545, -4.896200180053711, -3.988600015640259, -5.550300121307373, -5.3018999099731445, -6.28380012512207, -5.6940999031066895, -6.151000022888184, -5.791999816894531, -5.629700183868408, -5.887599945068359, -6.431600093841553, -5.950099945068359, -5.305699825286865, -4.906400203704834, -5.043300151824951, -4.792600154876709, -5.912499904632568, -6.404099941253662, -5.854800224304199, -5.588200092315674, -5.880499839782715, -5.936399936676025, -5.265100002288818, -4.9421000480651855, -5.272500038146973, -5.294899940490723, -5.031599998474121, -5.367000102996826, -5.474699974060059, -5.216400146484375, -5.326700210571289, -5.402200222015381, -5.396299839019775, -5.59499979019165, -5.708799839019775, -5.69789981842041, -5.7494001388549805, -4.997499942779541, -5.312399864196777, -6.532100200653076, -5.976500034332275, -6.698299884796143, -6.742800235748291, -6.723700046539307, -6.594699859619141, -6.932600021362305, -6.218200206756592, -7.086100101470947, -7.143400192260742, -6.934000015258789, -7.279300212860107, -7.2382001876831055, -7.368899822235107, -7.391200065612793, -5.548399925231934, -6.733699798583984, -7.4633002281188965, -7.4781999588012695, -5.753499984741211, -7.132999897003174, -6.846099853515625, -7.514599800109863, -7.567500114440918, -7.583899974822998, -7.597700119018555, -7.587200164794922, -6.570700168609619, -4.604400157928467, -4.375800132751465, -6.38730001449585, -6.746799945831299, -5.871300220489502, -6.471700191497803, -6.412600040435791, -6.039000034332275, -5.803400039672852, -6.2322998046875, -4.978899955749512, -5.225200176239014, -5.321899890899658, -5.867199897766113, -5.338200092315674, -4.0904998779296875, -5.577499866485596, -5.511199951171875, -5.029099941253662, -4.959000110626221, -5.507599830627441, -5.815899848937988, -5.340000152587891, -5.451099872589111, -6.133200168609619, -4.4552001953125, -6.004499912261963, -4.7982001304626465, -5.385000228881836, -4.535600185394287, -5.537300109863281, -5.286499977111816, -4.522900104522705, -4.384799957275391, -4.82919979095459, -4.678100109100342, -5.339900016784668, -5.042200088500977, -5.273600101470947, -5.305300235748291, -5.095200061798096, -5.2067999839782715, -5.30620002746582, -5.246099948883057, -5.326000213623047, -5.372000217437744, -6.2118000984191895, -5.316999912261963, -6.570899963378906, -6.404600143432617, -6.872000217437744, -6.891499996185303, -7.051700115203857, -5.188300132751465, -7.196199893951416, -7.231200218200684, -7.234600067138672, -6.9882001876831055, -7.296800136566162, -7.348999977111816, -7.433000087738037, -7.495500087738037, -7.502600193023682, -5.423699855804443, -7.284900188446045, -7.443600177764893, -7.4994001388549805, -7.548699855804443, -7.574100017547607, -7.554800033569336, -7.677499771118164, -7.686999797821045, -7.677700042724609, -7.7108001708984375, -7.729499816894531, -7.758699893951416, -5.914999961853027, -6.5625, -6.320000171661377, -4.7941999435424805, -7.158299922943115, -7.13129997253418, -6.088699817657471, -6.509300231933594, -7.045100212097168, -6.084499835968018, -5.759399890899658, -5.543799877166748, -6.1930999755859375, -5.684199810028076, -5.6057000160217285, -5.951000213623047, -5.142499923706055, -5.569300174713135, -5.088600158691406, -4.464700222015381, -5.296800136566162, -4.597099781036377, -6.474800109863281, -4.6356000900268555, -5.556099891662598, -5.083399772644043, -5.11269998550415, -4.923099994659424, -5.470200061798096, -5.244200229644775, -5.2195000648498535, -5.111800193786621, -4.723999977111816, -4.954800128936768, -4.608799934387207, -4.937300205230713, -5.199699878692627, -5.026400089263916, -4.98330020904541, -5.1097002029418945, -5.114699840545654, -5.308800220489502, -5.1859002113342285, -5.144000053405762, -5.360400199890137, -5.316199779510498, -5.387700080871582, -6.180300235748291, -6.506899833679199, -6.767199993133545, -6.764400005340576, -7.110199928283691, -7.330699920654297, -7.33519983291626, -7.363100051879883, -7.377500057220459, -7.425300121307373, -7.283400058746338, -6.6809000968933105, -7.582699775695801, -7.632699966430664, -7.2779998779296875, -7.702199935913086, -7.738900184631348, -7.746600151062012, -7.792600154876709, -7.799099922180176, -7.796299934387207, -7.872799873352051, -7.885900020599365, -7.849899768829346, -7.9028000831604, -7.910799980163574, -7.924499988555908, -7.963399887084961, -7.971799850463867, -8.017399787902832, -7.079599857330322, -7.21999979019165, -7.2052998542785645, -6.89169979095459, -6.219299793243408, -7.469799995422363, -7.139900207519531, -6.695199966430664, -3.8905999660491943, -6.392899990081787, -6.500999927520752, -6.310400009155273, -6.671899795532227, -6.119800090789795, -6.30709981918335, -4.806600093841553, -4.013999938964844, -6.170000076293945, -4.303599834442139, -5.062600135803223, -4.600299835205078, -4.877099990844727, -6.227399826049805, -5.960100173950195, -5.426000118255615, -5.583399772644043, -6.146599769592285, -5.890699863433838, -4.886600017547607, -5.106599807739258, -4.303199768066406, -5.527400016784668, -4.664000034332275, -5.024199962615967, -5.79580020904541, -4.427800178527832, -5.168799877166748, -4.773799896240234, -5.166299819946289, -5.698800086975098, -5.6321001052856445, -4.941500186920166, -5.36299991607666, -5.005799770355225, -5.507900238037109, -4.997000217437744, -5.15880012512207, -5.402699947357178, -5.156199932098389, -5.416900157928467, -5.284900188446045, -5.337900161743164, -5.542799949645996, -5.873199939727783, -5.0971999168396, -6.247700214385986, -6.286200046539307, -6.811800003051758, -3.9986000061035156, -7.045400142669678, -7.233699798583984, -7.280399799346924, -7.403900146484375, -6.992800235748291, -7.402500152587891, -7.518400192260742, -6.89870023727417, -7.326900005340576, -6.178299903869629, -7.611999988555908, -7.644000053405762, -7.710700035095215, -7.7342000007629395, -6.827600002288818, -5.915900230407715, -7.86959981918335, -7.93120002746582, -7.947999954223633, -7.950099945068359, -7.948699951171875, -7.970399856567383, -7.96589994430542, -7.9903998374938965, -4.923900127410889, -5.90339994430542, -4.843100070953369, -5.660600185394287, -5.8730998039245605, -6.467599868774414, -6.995100021362305, -6.541200160980225, -6.902500152587891, -6.256800174713135, -6.670199871063232, -6.134099960327148, -6.43310022354126, -5.441299915313721, -6.626999855041504, -5.68310022354126, -6.618000030517578, -5.262800216674805, -6.008699893951416, -4.198200225830078, -5.6367998123168945, -4.493500232696533, -5.565199851989746, -5.5731000900268555, -5.723700046539307, -5.681000232696533, -4.816500186920166, -5.1596999168396, -5.776299953460693, -4.76200008392334, -5.662199974060059, -5.631999969482422, -5.615499973297119, -4.881800174713135, -5.635700225830078, -5.608500003814697, -5.285999774932861, -5.632500171661377, -5.776599884033203, -5.789899826049805, -5.776800155639648, -5.788000106811523, -4.787099838256836, -5.279300212860107, -5.487500190734863, -5.695899963378906, -5.8831000328063965, -6.026299953460693, -6.021500110626221, -6.032199859619141, -6.1072998046875, -6.211400032043457, -6.211400032043457, -6.249800205230713, -6.2459001541137695, -6.2530999183654785, -6.3292999267578125, -6.353799819946289, -6.444399833679199, -6.509500026702881, -6.522299766540527, -6.537499904632568, -6.507500171661377, -5.067299842834473, -6.375800132751465, -6.566999912261963, -6.5706000328063965, -6.556099891662598, -6.593100070953369, -6.609099864959717, -6.609099864959717, -6.614999771118164, -5.924900054931641, -4.904799938201904, -5.644999980926514, -4.475100040435791, -6.015100002288818, -3.9405999183654785, -5.9882001876831055, -3.7455999851226807, -6.1483001708984375, -4.7881999015808105, -5.629000186920166, -4.1682000160217285, -6.050899982452393, -5.798299789428711, -5.972499847412109, -5.998499870300293, -5.372600078582764, -5.832900047302246, -5.711699962615967, -5.774099826812744, -5.241700172424316, -4.416200160980225, -5.851399898529053, -5.653299808502197, -5.85290002822876, -4.402100086212158, -5.3403000831604, -5.798600196838379, -5.9394001960754395, -4.901000022888184, -5.76609992980957, -5.5883002281188965, -5.619500160217285, -5.561500072479248, -5.269599914550781, -5.385900020599365, -5.440100193023682, -5.43179988861084, -5.448599815368652, -5.622099876403809, -5.61359977722168, -5.00439977645874, -5.453400135040283, -5.151299953460693, -5.534900188446045, -5.86460018157959, -5.987800121307373, -6.410399913787842, -6.44350004196167, -6.476500034332275, -6.4781999588012695, -6.654900074005127, -6.587800025939941, -6.683000087738037, -6.79640007019043, -6.84250020980835, -6.899899959564209, -6.588399887084961, -6.329899787902832, -6.969200134277344, -4.941299915313721, -5.802299976348877, -7.084400177001953, -7.068399906158447, -7.092100143432617, -6.502200126647949, -7.100500106811523, -7.1508002281188965, -7.153600215911865, -7.125899791717529, -6.545100212097168, -4.6097002029418945, -5.359399795532227, -6.336400032043457, -6.611800193786621, -4.976200103759766, -3.60260009765625, -6.3130998611450195, -4.647799968719482, -5.631100177764893, -5.571300029754639, -5.6072998046875, -6.35860013961792, -6.2967000007629395, -5.478700160980225, -5.697500228881836, -4.91480016708374, -6.012199878692627, -5.81879997253418, -5.2266998291015625, -5.767600059509277, -5.811699867248535, -6.134099960327148, -5.893199920654297, -4.9542999267578125, -5.3078999519348145, -5.652699947357178, -5.170899868011475, -5.850599765777588, -5.170400142669678, -5.539899826049805, -5.684599876403809, -5.8043999671936035, -5.828199863433838, -5.2245001792907715, -5.77400016784668, -5.8246002197265625, -6.103899955749512, -6.197299957275391, -6.503799915313721, -6.6579999923706055, -4.463900089263916, -6.707399845123291, -6.867400169372559, -6.884099960327148, -6.925899982452393, -6.936299800872803, -7.007599830627441, -7.035999774932861, -7.195799827575684, -7.2515997886657715, -7.274099826812744, -7.3024001121521, -7.316999912261963, -7.327400207519531, -7.409200191497803, -7.444499969482422, -7.450300216674805, -7.4770002365112305, -7.4934000968933105, -7.5065999031066895, -7.3572001457214355, -7.362100124359131, -7.536799907684326, -5.89769983291626, -7.153200149536133, -6.9766998291015625, -6.071000099182129, -6.46120023727417, -5.889500141143799, -5.848499774932861, -6.364500045776367, -7.094399929046631, -6.184800148010254, -5.14870023727417, -6.054599761962891, -5.896500110626221, -5.585000038146973, -6.169899940490723, -5.831200122833252, -6.3069000244140625, -5.1768999099731445, -5.421899795532227, -6.390500068664551, -5.536399841308594, -5.691299915313721, -5.79010009765625, -5.3983001708984375, -5.393199920654297, -5.575500011444092, -4.825799942016602, -5.957799911499023, -5.587299823760986, -5.421899795532227, -4.733799934387207, -5.403600215911865, -4.737599849700928, -5.530200004577637, -5.075099945068359, -5.045599937438965, -5.2708001136779785, -5.46750020980835, -5.282299995422363, -5.07289981842041, -5.142099857330322, -5.502299785614014, -5.3942999839782715, -5.605999946594238, -5.4359002113342285, -5.527400016784668, -5.555600166320801, -5.59089994430542, -4.667500019073486, -5.212100028991699, -5.066199779510498, -5.7718000411987305, -5.929599761962891, -6.044000148773193, -6.093999862670898, -6.004000186920166, -6.298999786376953, -6.32289981842041, -6.344099998474121, -6.3460001945495605, -5.547699928283691, -6.601799964904785, -6.506700038909912, -6.684199810028076, -6.732699871063232, -6.8460001945495605, -6.90749979019165, -7.009500026702881, -4.206200122833252, -7.109499931335449, -7.032899856567383, -7.058499813079834, -7.18310022354126, -7.246799945831299, -6.947299957275391, -7.318999767303467, -7.321100234985352, -6.746600151062012, -6.432199954986572, -6.578400135040283, -5.323699951171875, -6.063600063323975, -5.692999839782715, -4.387700080871582, -6.399499893188477, -6.463900089263916, -5.797900199890137, -4.605500221252441, -4.555200099945068, -5.919400215148926, -4.457699775695801, -5.6255998611450195, -5.286900043487549, -4.880799770355225, -5.486999988555908, -5.821300029754639, -5.374300003051758, -5.185200214385986, -4.837900161743164, -5.520999908447266, -5.905900001525879, -5.70389986038208, -5.559999942779541, -4.7972002029418945, -5.469200134277344, -5.599100112915039, -5.455599784851074, -5.281000137329102, -4.82919979095459, -5.429299831390381, -5.618199825286865, -5.468800067901611, -5.375100135803223, -5.6529998779296875, -6.386099815368652, -6.581299781799316, -6.769000053405762, -6.933499813079834, -7.071800231933594, -7.029799938201904, -7.0991997718811035, -7.196899890899658, -6.8846001625061035, -7.257299900054932, -7.374800205230713, -7.456200122833252, -7.474299907684326, -7.501100063323975, -7.504499912261963, -7.535799980163574, -7.540999889373779, -7.028600215911865, -7.572999954223633, -7.03410005569458, -7.631700038909912, -7.793600082397461, -7.907199859619141, -7.92710018157959, -7.928599834442139, -7.932400226593018, -7.975299835205078, -7.393899917602539, -8.04990005493164, -6.80810022354126, -5.3871002197265625, -5.771299839019775, -6.2230000495910645, -5.883600234985352, -6.118000030517578, -6.447299957275391, -6.535299777984619, -4.695700168609619, -5.385200023651123, -5.4496002197265625, -6.013400077819824, -5.718800067901611, -6.291800022125244, -5.390500068664551, -7.1975998878479, -6.9899001121521, -7.134300231933594, -6.769400119781494, -6.785399913787842, -5.295400142669678, -4.162700176239014, -5.288000106811523, -4.765900135040283, -4.394000053405762, -5.874800205230713, -5.530300140380859, -4.76669979095459, -5.446599960327148, -5.032299995422363, -5.6356000900268555, -5.259399890899658, -5.011099815368652, -5.478799819946289, -4.798299789428711, -4.7957000732421875, -4.904900074005127, -5.05620002746582, -5.104700088500977, -5.240799903869629, -4.736499786376953, -5.289999961853027, -5.121399879455566, -5.107699871063232, -5.042399883270264, -5.281899929046631, -5.434500217437744, -5.368899822235107, -5.359499931335449, -5.403500080108643, -5.407800197601318, -4.6844000816345215, -5.742499828338623, -4.666299819946289, -6.1433000564575195, -6.178400039672852, -6.310299873352051, -6.3003997802734375, -6.377200126647949, -6.60099983215332, -6.477200031280518, -6.703999996185303, -6.764100074768066, -6.795100212097168, -5.933199882507324, -6.813600063323975, -6.907400131225586, -6.923299789428711, -6.945799827575684, -6.970200061798096, -6.984399795532227, -6.986100196838379, -7.006199836730957, -7.075399875640869, -7.092199802398682, -7.132900238037109, -7.133500099182129, -7.143199920654297, -7.176000118255615, -7.213600158691406, -7.232500076293945, -6.815400123596191, -5.282700061798096, -6.038000106811523, -6.077000141143799, -6.569799900054932, -6.778800010681152, -6.587900161743164, -6.422500133514404, -3.740799903869629, -3.1719000339508057, -5.228700160980225, -6.400199890136719, -3.2267000675201416, -4.8744001388549805, -4.820199966430664, -5.604800224304199, -6.17519998550415, -4.758299827575684, -4.922900199890137, -4.009699821472168, -4.6834001541137695, -4.6717000007629395, -4.978799819946289, -5.404300212860107, -5.443299770355225, -4.937099933624268, -4.483799934387207, -5.001399993896484, -5.606100082397461, -5.3059000968933105, -5.424300193786621, -5.125400066375732, -5.012700080871582, -5.045899868011475, -5.46750020980835, -5.516900062561035, -5.435200214385986, -5.50570011138916, -5.568900108337402, -5.763800144195557, -6.1184000968933105, -6.3196001052856445, -6.384799957275391, -5.937600135803223, -6.352099895477295, -6.621600151062012, -6.6209001541137695, -6.604599952697754, -6.052000045776367, -6.738999843597412, -6.709000110626221, -6.866600036621094, -6.926400184631348, -6.954500198364258, -6.930500030517578, -7.04610013961792, -6.932499885559082, -7.046800136566162, -7.0131001472473145, -7.066100120544434, -7.053699970245361, -7.160699844360352, -7.259399890899658, -7.273399829864502, -7.275100231170654, -6.433499813079834, -7.317299842834473, -7.321599960327148, -6.90749979019165, -6.125199794769287, -6.961999893188477, -5.017899990081787, -5.889400005340576, -5.9770002365112305, -4.279900074005127, -3.6106998920440674, -6.192200183868408, -3.955399990081787, -6.5970001220703125, -4.104000091552734, -5.194799900054932, -5.190199851989746, -4.784900188446045, -4.246799945831299, -4.490900039672852, -4.548500061035156, -5.2692999839782715, -5.9268999099731445, -5.076700210571289, -5.3267998695373535, -4.214300155639648, -5.920000076293945, -5.176499843597412, -5.469600200653076, -5.6666998863220215, -4.701099872589111, -5.249599933624268, -4.72189998626709, -5.311100006103516, -5.366300106048584, -5.116000175476074, -5.386199951171875, -5.460599899291992, -5.121600151062012, -5.1579999923706055, -5.372700214385986, -5.576200008392334, -5.624100208282471, -5.594200134277344, -5.519899845123291, -5.548699855804443, -5.559299945831299, -5.71019983291626, -5.3404998779296875, -5.8190999031066895, -5.765699863433838, -6.0218000411987305, -6.273900032043457, -6.452300071716309, -6.545400142669678, -6.402299880981445, -6.674900054931641, -6.613100051879883, -6.725900173187256, -4.726200103759766, -4.678800106048584, -6.067399978637695, -6.860599994659424, -6.576300144195557, -6.953999996185303, -5.5395002365112305, -6.69950008392334, -6.142000198364258, -6.999599933624268, -7.003799915313721, -7.004499912261963, -7.015900135040283, -7.021900177001953, -6.743199825286865, -6.8140997886657715, -7.038000106811523, -6.044099807739258, -5.508800029754639, -4.723199844360352, -6.174099922180176, -5.944200038909912, -4.506899833679199, -6.52239990234375, -6.162700176239014, -5.7418999671936035, -6.2758002281188965, -5.007500171661377, -4.841899871826172, -5.535600185394287, -5.493199825286865, -4.893899917602539, -5.258200168609619, -5.595200061798096, -5.776199817657471, -5.623799800872803, -4.5335001945495605, -5.245200157165527, -4.920300006866455, -4.8246002197265625, -4.541900157928467, -5.113699913024902, -4.8765997886657715, -5.13640022277832, -4.801799774169922, -5.198999881744385, -4.628200054168701, -5.167099952697754, -5.00629997253418, -5.363500118255615, -5.151100158691406, -5.082200050354004, -5.406099796295166, -5.937699794769287, -6.2006001472473145, -6.233500003814697, -6.539700031280518, -6.55079984664917, -6.564899921417236, -6.5746002197265625, -6.583099842071533, -6.559100151062012, -6.673900127410889, -6.1305999755859375, -6.857999801635742, -6.884300231933594, -6.936200141906738, -6.945799827575684, -6.962299823760986, -6.979400157928467, -7.038400173187256, -7.110300064086914, -7.150700092315674, -7.095200061798096, -7.15339994430542, -7.191299915313721, -6.492300033569336, -7.1940999031066895, -7.217100143432617, -7.218699932098389, -7.253799915313721, -7.276400089263916, -7.286399841308594, -6.38730001449585, -5.721499919891357, -6.7083001136779785, -6.064000129699707, -6.693999767303467, -6.399499893188477, -6.8084001541137695, -4.741499900817871, -6.502099990844727, -6.295899868011475, -6.734000205993652, -6.565700054168701, -5.38070011138916, -6.037700176239014, -5.93120002746582, -4.819200038909912, -5.294400215148926, -6.699399948120117, -5.71589994430542, -5.553999900817871, -6.512499809265137, -5.225100040435791, -5.986999988555908, -5.296500205993652, -4.80019998550415, -5.877500057220459, -5.409999847412109, -5.069499969482422, -5.429299831390381, -5.476399898529053, -6.003300189971924, -5.367000102996826, -5.472300052642822, -5.374199867248535, -5.67579984664917, -5.668499946594238, -5.9552998542785645, -5.779600143432617, -5.961900234222412, -5.931600093841553, -5.854400157928467, -5.931600093841553, -5.97599983215332, -4.84089994430542, -5.1458001136779785, -5.525899887084961, -5.560699939727783, -5.871500015258789, -5.96120023727417, -6.008200168609619, -6.107699871063232, -6.200099945068359, -6.3368000984191895, -6.36899995803833, -6.369999885559082, -5.811600208282471, -6.3927001953125, -6.417099952697754, -6.4319000244140625, -6.464900016784668, -6.482900142669678, -5.210000038146973, -6.518499851226807, -6.523399829864502, -3.527600049972534, -6.603400230407715, -6.500199794769287, -6.617099761962891, -4.674600124359131, -5.017499923706055, -6.514100074768066, -5.912499904632568, -6.850800037384033, -5.634799957275391, -4.931000232696533, -5.488800048828125, -5.0706000328063965, -5.184599876403809, -5.46999979019165, -3.9679999351501465, -5.3632001876831055, -5.462100028991699, -5.383500099182129, -4.954899787902832, -5.053699970245361, -4.470699787139893, -5.828000068664551, -5.779799938201904, -3.7156999111175537, -4.6219000816345215, -4.253399848937988, -5.097700119018555, -4.115600109100342, -4.511300086975098, -4.795400142669678, -4.928199768066406, -4.860599994659424, -4.817999839782715, -5.057400226593018, -5.212600231170654, -4.826099872589111, -4.992400169372559, -5.007699966430664, -5.132699966430664, -5.220799922943115, -5.194699764251709, -3.6454999446868896, -5.495999813079834, -5.713500022888184, -5.704899787902832, -5.914700031280518, -5.901400089263916, -6.018099784851074, -4.5507001876831055, -5.922100067138672, -6.235799789428711, -6.263299942016602, -6.340199947357178, -6.380000114440918, -6.360799789428711, -6.550600051879883, -6.593400001525879, -6.628499984741211, -6.807400226593018, -5.046500205993652, -6.8927998542785645, -6.914400100708008, -6.950300216674805, -6.964600086212158, -7.036099910736084, -7.040900230407715, -7.01609992980957, -6.444200038909912, -7.072000026702881, -4.056000232696533, -7.13539981842041, -6.488500118255615, -4.469900131225586, -6.0269999504089355, -5.819300174713135, -6.509200096130371, -6.078499794006348, -5.557600021362305, -5.373700141906738, -6.4008002281188965, -5.565499782562256, -5.184500217437744, -5.565499782562256, -5.481500148773193, -6.32859992980957, -6.218599796295166, -5.39169979095459, -5.013999938964844, -5.304900169372559, -5.315400123596191, -5.6819000244140625, -5.553500175476074, -5.2104997634887695, -4.692800045013428, -5.638000011444092, -5.296500205993652, -5.073299884796143, -5.288300037384033, -4.958799839019775, -5.371699810028076, -5.120299816131592, -5.566199779510498, -5.25439977645874, -5.53879976272583, -5.502500057220459, -5.564499855041504, -5.562099933624268, -5.190299987792969, -5.329800128936768, -4.922299861907959, -5.754899978637695, -5.794300079345703, -6.152299880981445, -6.363800048828125, -6.412899971008301, -6.467400074005127, -6.4857001304626465, -6.4857001304626465, -3.94320011138916, -6.51230001449585, -6.5696001052856445, -6.597300052642822, -6.604800224304199, -6.603000164031982, -6.624899864196777, -3.9447999000549316, -6.694399833679199, -5.130799770355225, -6.729899883270264, -6.771599769592285, -6.826000213623047, -6.821599960327148, -6.839600086212158, -6.839600086212158, -6.916500091552734, -6.920899868011475, -6.901899814605713, -3.8394999504089355, -6.009399890899658, -6.599299907684326, -5.061399936676025, -5.923399925231934, -6.02839994430542, -4.8730998039245605, -6.067699909210205, -6.140900135040283, -2.9393999576568604, -5.5030999183654785, -4.921299934387207, -5.277400016784668, -4.623799800872803, -6.274099826812744, -6.221700191497803, -5.43310022354126, -5.31850004196167, -4.524199962615967, -4.785600185394287, -4.642099857330322, -4.97599983215332, -4.626800060272217, -6.020299911499023, -4.676400184631348, -4.824399948120117, -4.910799980163574, -4.755899906158447, -5.194799900054932, -5.181099891662598, -5.0493998527526855, -5.129899978637695, -5.280799865722656, -5.150300025939941, -3.312299966812134, -3.889699935913086, -4.043399810791016, -0.9093999862670898, -4.636899948120117, -4.639100074768066, -4.944900035858154, -4.994900226593018, -5.010200023651123, -5.031400203704834, -5.056000232696533, -5.135900020599365, -5.183300018310547, -5.203100204467773, -5.230999946594238, -5.3059000968933105, -5.314300060272217, -5.415200233459473, -5.516900062561035, -5.525400161743164, -5.527100086212158, -5.528600215911865, -5.552299976348877, -5.566199779510498, -5.581099987030029, -5.670100212097168, -5.7789998054504395, -5.801400184631348, -5.864200115203857, -5.8815999031066895, -4.748000144958496, -3.2901999950408936, -4.9303998947143555, -4.945499897003174, -5.001800060272217, -5.199900150299072, -4.666200160980225, -4.702199935913086, -4.753200054168701, -4.9375, -4.974999904632568, -5.028299808502197, -5.19320011138916, -5.279399871826172, -5.303899765014648, -5.285699844360352, -5.338200092315674, -5.39739990234375, -5.55049991607666, -5.559000015258789, -5.632199764251709, -5.659900188446045, -5.684899806976318, -5.700900077819824, -5.7032999992370605, -5.71560001373291, -5.4542999267578125, -5.726500034332275, -5.754499912261963, -5.759099960327148, -5.76639986038208, -5.40369987487793, -5.778600215911865, -5.812900066375732, -5.628200054168701, -5.833799839019775, -5.053100109100342, -4.911600112915039, -5.661799907684326, -4.138899803161621, -4.557300090789795, -5.3094000816345215, -4.250699996948242, -5.560699939727783, -5.316999912261963, -5.322700023651123, -5.561200141906738, -5.635200023651123, -5.645999908447266], \"loglift\": [30.0, 29.0, 28.0, 27.0, 26.0, 25.0, 24.0, 23.0, 22.0, 21.0, 20.0, 19.0, 18.0, 17.0, 16.0, 15.0, 14.0, 13.0, 12.0, 11.0, 10.0, 9.0, 8.0, 7.0, 6.0, 5.0, 4.0, 3.0, 2.0, 1.0, 2.005, 2.0046, 2.0036, 2.0035, 2.0023, 2.0015, 2.0009, 2.0002, 1.9998, 1.9993, 1.9982, 1.9978, 1.9977, 1.9975, 1.9974, 1.9974, 1.9964, 1.9964, 1.996, 1.9957, 1.9946, 1.9942, 1.9941, 1.9938, 1.9931, 1.9925, 1.9922, 1.9917, 1.9907, 1.9901, 1.9681, 1.9629, 1.9529, 1.9719, 1.9386, 1.9402, 1.8954, 1.9478, 1.9559, 1.8687, 1.887, 1.8704, 1.9164, 1.8677, 1.9103, 1.5328, 1.8035, 1.644, 1.5646, 1.5104, 1.5783, 1.6299, 0.8785, 1.3407, 1.1349, 1.3465, 1.3346, 1.247, 1.3814, 0.7537, 1.4665, 0.764, 0.8689, 0.6796, 0.7866, 0.5343, 0.8197, 0.0462, 1.0541, 0.4138, 1.1111, 2.3675, 2.3656, 2.365, 2.3648, 2.362, 2.3613, 2.361, 2.3608, 2.3593, 2.3583, 2.358, 2.3574, 2.357, 2.3565, 2.3551, 2.3528, 2.3523, 2.3517, 2.3512, 2.3512, 2.3503, 2.3498, 2.3489, 2.3481, 2.3435, 2.3431, 2.3427, 2.3426, 2.3425, 2.3408, 2.3376, 2.3267, 2.2996, 2.2683, 2.2732, 2.2559, 2.2964, 2.2582, 2.2645, 2.2296, 2.2083, 2.2164, 2.2723, 2.1441, 1.9848, 1.8473, 1.8411, 1.7356, 2.0775, 2.2203, 1.9778, 1.7157, 1.8756, 1.8977, 1.2349, 0.901, 1.1388, 1.0926, 0.4629, 0.7322, 0.9354, 0.1349, 0.414, 0.5263, 0.388, 0.6694, 1.0949, 0.8167, 0.1653, 2.3809, 2.3801, 2.3741, 2.3737, 2.3729, 2.3724, 2.3722, 2.3718, 2.3705, 2.3692, 2.3685, 2.3677, 2.3659, 2.3656, 2.3654, 2.364, 2.3636, 2.3633, 2.3633, 2.3622, 2.3619, 2.3618, 2.3613, 2.3612, 2.3611, 2.36, 2.3596, 2.3592, 2.3573, 2.357, 2.3546, 2.3284, 2.3433, 2.3472, 2.3268, 2.3389, 2.3262, 2.3065, 2.2934, 2.3124, 2.2089, 2.2109, 2.2045, 2.2512, 2.1825, 2.0282, 2.2099, 2.1865, 2.0938, 2.0817, 2.1496, 2.1943, 2.0854, 2.0889, 2.2443, 1.6791, 2.1829, 1.7321, 1.8706, 1.4227, 1.942, 1.7937, 1.3203, 1.1096, 1.3075, 1.0627, 1.7048, 1.3045, 1.5966, 1.5412, 0.8332, 0.8491, 0.793, 0.2188, 0.5333, 0.5966, 2.3823, 2.3823, 2.3815, 2.3801, 2.3787, 2.3777, 2.3761, 2.3761, 2.3742, 2.3736, 2.3734, 2.3731, 2.3727, 2.3711, 2.3688, 2.3688, 2.3688, 2.3686, 2.3685, 2.3683, 2.3678, 2.3677, 2.3671, 2.3659, 2.3647, 2.3641, 2.3641, 2.3635, 2.3634, 2.3626, 2.3515, 2.3522, 2.3472, 2.3115, 2.3544, 2.3528, 2.3118, 2.3174, 2.3447, 2.2907, 2.2186, 2.1951, 2.2481, 2.1831, 2.1595, 2.1994, 2.0787, 2.1324, 2.0437, 1.9357, 2.0473, 1.891, 2.242, 1.8413, 2.0384, 1.9239, 1.9168, 1.8538, 1.999, 1.8478, 1.7839, 1.7346, 1.4801, 1.5403, 1.3125, 1.4501, 1.5264, 1.3285, 1.1159, 1.237, 1.004, 1.2059, 0.6573, 0.3504, 1.1659, 0.8205, 1.0828, 2.5153, 2.513, 2.51, 2.509, 2.5058, 2.5017, 2.5015, 2.5007, 2.5006, 2.4996, 2.4994, 2.4959, 2.4959, 2.4945, 2.4939, 2.4925, 2.4915, 2.4912, 2.4898, 2.4896, 2.4887, 2.4872, 2.4867, 2.4864, 2.486, 2.4859, 2.4854, 2.4839, 2.4835, 2.4817, 2.4743, 2.4747, 2.4654, 2.4237, 2.3183, 2.4399, 2.3966, 2.3379, 1.9168, 2.2864, 2.2915, 2.2603, 2.3102, 2.1795, 2.2104, 1.9023, 1.6951, 2.1194, 1.5642, 1.7652, 1.6103, 1.6354, 2.0978, 1.9883, 1.7686, 1.8291, 2.0411, 1.9335, 1.4903, 1.5118, 1.0481, 1.7064, 1.2364, 1.4305, 1.8446, 1.0372, 1.4742, 1.1949, 1.2761, 1.6793, 1.6197, 0.9773, 1.3419, 0.9495, 1.472, 0.7231, 0.7559, 1.13, 0.5846, 1.0832, 0.6761, 0.718, 1.1293, 2.7649, 2.7643, 2.7623, 2.7619, 2.7551, 2.7549, 2.7515, 2.7474, 2.7463, 2.743, 2.7427, 2.7421, 2.7393, 2.7385, 2.7382, 2.7379, 2.7365, 2.7355, 2.733, 2.7319, 2.7313, 2.7278, 2.7264, 2.7239, 2.723, 2.723, 2.7228, 2.722, 2.7212, 2.7209, 2.716, 2.7019, 2.6669, 2.6758, 2.6719, 2.6891, 2.7029, 2.6803, 2.6781, 2.6195, 2.6404, 2.572, 2.6048, 2.4567, 2.6237, 2.448, 2.6132, 2.3075, 2.4743, 1.9759, 2.3204, 1.9178, 2.1768, 2.1682, 2.2328, 2.1749, 1.7117, 1.7136, 2.1044, 1.1527, 1.9361, 1.817, 1.7935, 0.4696, 1.7129, 1.5735, 0.4342, 0.789, 1.5195, 1.428, 1.0773, -0.2935, 2.7941, 2.7939, 2.7931, 2.792, 2.7909, 2.79, 2.79, 2.7899, 2.7893, 2.7882, 2.7882, 2.7881, 2.788, 2.7879, 2.7874, 2.7871, 2.7856, 2.7854, 2.7853, 2.785, 2.7849, 2.7847, 2.7847, 2.7847, 2.7846, 2.7845, 2.7844, 2.7842, 2.7842, 2.7841, 2.7817, 2.7709, 2.7765, 2.7628, 2.7768, 2.7143, 2.7709, 2.7013, 2.772, 2.7103, 2.7223, 2.5915, 2.7497, 2.7069, 2.7297, 2.7308, 2.5674, 2.6792, 2.6467, 2.6478, 2.4168, 1.9675, 2.6459, 2.5173, 2.6248, 1.318, 2.14, 2.5156, 2.6816, 1.1135, 2.4017, 2.0141, 2.0636, 1.7852, 0.5926, 0.7507, 0.72, 0.5368, 0.3356, 1.2553, -0.1486, 3.069, 3.0675, 3.0666, 3.0662, 3.0645, 3.0627, 3.0583, 3.0575, 3.0573, 3.0562, 3.0548, 3.0539, 3.0533, 3.0498, 3.0493, 3.0493, 3.0491, 3.0488, 3.0472, 3.0462, 3.0462, 3.0451, 3.0448, 3.0446, 3.0444, 3.0443, 3.0432, 3.043, 3.0427, 3.0425, 3.0422, 3.0208, 3.0309, 3.0345, 2.9905, 2.9356, 3.0164, 2.9463, 2.9315, 2.9229, 2.9119, 3.0009, 2.9906, 2.8442, 2.8658, 2.6487, 2.8198, 2.7097, 1.9556, 2.4343, 2.4459, 2.7214, 2.362, 0.7658, 1.2067, 1.6882, 0.6723, 2.0704, 0.2945, 0.9778, 0.4146, 1.3263, 1.2309, 3.0949, 3.0921, 3.0912, 3.0891, 3.0878, 3.0837, 3.0808, 3.0805, 3.0803, 3.0769, 3.0764, 3.0755, 3.0752, 3.0735, 3.0727, 3.0678, 3.0656, 3.0655, 3.0645, 3.064, 3.0636, 3.0605, 3.0592, 3.059, 3.0579, 3.0572, 3.0566, 3.0559, 3.0555, 3.0554, 3.0471, 3.0496, 3.0453, 2.9473, 2.9776, 2.92, 2.8959, 2.9508, 3.0241, 2.9099, 2.7264, 2.8585, 2.8323, 2.7581, 2.856, 2.7492, 2.8516, 2.443, 2.491, 2.8256, 2.4455, 2.5035, 2.5302, 2.3026, 2.282, 2.3474, 1.8074, 2.5918, 2.2939, 2.0955, 1.2245, 1.8096, 0.7568, 1.8722, 1.0849, 0.8828, 1.247, 1.6631, 1.2074, 0.6679, 0.7202, 1.6448, 0.5611, 1.5534, 0.483, 0.4422, 0.3448, 0.3701, 3.1091, 3.1073, 3.1048, 3.1041, 3.1028, 3.1016, 3.1011, 3.1001, 3.0985, 3.0982, 3.0982, 3.0982, 3.0963, 3.0942, 3.094, 3.0919, 3.0916, 3.0892, 3.0878, 3.0852, 3.0852, 3.0824, 3.0819, 3.0808, 3.0802, 3.0782, 3.0769, 3.0754, 3.0748, 3.0745, 3.0727, 3.0729, 3.0511, 3.06, 3.0454, 2.9854, 3.0565, 3.0539, 3.0105, 2.9018, 2.8907, 2.9909, 2.8082, 2.9234, 2.857, 2.7792, 2.8609, 2.9274, 2.8204, 2.7016, 2.5613, 2.7991, 2.9097, 2.8082, 2.6737, 2.0941, 2.5685, 2.6395, 2.3656, 1.8575, 0.5221, 1.8667, 2.3343, 1.2292, 0.0898, 0.9931, 3.2449, 3.2416, 3.2375, 3.2332, 3.229, 3.2282, 3.228, 3.2244, 3.2236, 3.2213, 3.2176, 3.2139, 3.2129, 3.2118, 3.2116, 3.21, 3.2097, 3.2095, 3.2081, 3.2026, 3.2015, 3.1951, 3.1875, 3.1861, 3.186, 3.1854, 3.1825, 3.1794, 3.1766, 3.173, 3.1644, 3.1655, 3.17, 3.1432, 3.1194, 3.1133, 3.0973, 2.769, 2.8664, 2.8721, 2.9516, 2.8869, 2.9731, 2.7751, 3.1396, 3.072, 3.1175, 2.9729, 2.9782, 2.2827, 1.6996, 2.2172, 1.939, 1.5747, 2.4426, 2.2125, 1.6758, 2.1419, 1.8508, 2.2358, 1.8331, 1.5603, 1.9168, 1.157, 1.1189, 1.2448, 1.3693, 1.428, 1.5691, 0.6148, 1.4189, 0.779, 0.6996, 0.4226, 0.9287, 1.5133, 1.1436, 0.6964, 0.9033, 0.9175, 3.3708, 3.3673, 3.3647, 3.3646, 3.3631, 3.362, 3.361, 3.3609, 3.3562, 3.3542, 3.3526, 3.3522, 3.3509, 3.3505, 3.3504, 3.348, 3.3475, 3.3468, 3.346, 3.3455, 3.3455, 3.3448, 3.3424, 3.3417, 3.3402, 3.3401, 3.3398, 3.3385, 3.337, 3.3361, 3.3337, 3.281, 3.2999, 3.2994, 3.3195, 3.3257, 3.3083, 3.2914, 2.9223, 2.7494, 3.075, 3.2463, 2.6326, 2.9156, 2.9001, 3.0293, 3.1666, 2.6507, 2.689, 2.3452, 2.4086, 2.3729, 2.3096, 2.5374, 2.5158, 2.1046, 1.6659, 1.9782, 2.5567, 2.1633, 2.3055, 1.7905, 1.371, 1.3546, 1.7786, 1.7284, 0.8902, 0.9841, 0.9263, 3.4233, 3.4183, 3.4154, 3.4142, 3.4136, 3.4107, 3.4089, 3.4086, 3.4082, 3.407, 3.405, 3.403, 3.4021, 3.4001, 3.399, 3.3971, 3.3959, 3.3956, 3.3955, 3.3952, 3.3951, 3.3937, 3.3913, 3.3867, 3.3864, 3.3862, 3.3854, 3.3843, 3.3838, 3.3832, 3.3666, 3.3792, 3.3276, 3.3491, 3.3202, 3.1888, 3.0938, 3.3144, 3.0833, 3.3484, 2.9846, 3.1024, 3.0768, 2.887, 2.6177, 2.6729, 2.6338, 2.8296, 3.0061, 2.3627, 2.4102, 1.5699, 2.8252, 2.1196, 2.3308, 2.527, 1.3133, 1.8734, 0.9982, 1.8713, 1.9433, 1.4117, 1.8417, 1.9604, 1.0825, 0.7042, 1.2993, 2.0217, 2.2412, 1.7765, 0.4487, 0.3702, 3.4404, 3.4389, 3.4383, 3.4381, 3.4381, 3.4329, 3.4299, 3.4283, 3.4247, 3.4239, 3.4226, 3.4216, 3.4213, 3.4212, 3.4165, 3.4161, 3.4152, 3.4143, 3.4143, 3.4143, 3.4136, 3.4129, 3.4126, 3.4125, 3.4123, 3.4119, 3.4113, 3.4112, 3.4095, 3.4086, 3.397, 3.3773, 3.3283, 3.3825, 3.3708, 3.2206, 3.3641, 3.3158, 3.2544, 3.3255, 3.0261, 2.9113, 3.0976, 3.0663, 2.8645, 2.9729, 3.0773, 3.1436, 3.0712, 2.4065, 2.7988, 2.5799, 2.5054, 2.3083, 2.6872, 2.4643, 2.2358, 1.6198, 2.0384, 0.8663, 1.8431, 1.4039, 1.9973, 1.0229, 0.638, 1.8337, 3.5065, 3.5023, 3.5004, 3.4951, 3.4947, 3.4944, 3.4941, 3.4939, 3.4922, 3.4892, 3.4888, 3.4856, 3.4843, 3.4829, 3.4826, 3.4806, 3.4797, 3.479, 3.476, 3.4742, 3.4742, 3.4741, 3.4723, 3.4717, 3.4714, 3.471, 3.4709, 3.4692, 3.4682, 3.4676, 3.465, 3.4505, 3.4602, 3.4148, 3.4373, 3.4064, 3.4369, 3.2275, 3.4034, 3.3527, 3.4019, 3.3646, 3.0049, 3.1968, 3.1131, 2.6798, 2.7032, 3.3739, 2.7641, 2.6362, 3.2068, 2.0029, 2.717, 1.9286, 1.0621, 2.3572, 1.3656, 0.7147, 1.2849, 1.2768, 2.1924, 0.5884, 0.4973, 0.0908, 0.9438, 0.8592, 1.5929, 0.2348, 1.4389, 1.0162, -0.1343, 0.7307, 0.7221, 3.7418, 3.741, 3.7375, 3.7342, 3.7328, 3.7313, 3.7304, 3.7283, 3.7266, 3.7225, 3.7225, 3.7224, 3.7223, 3.7218, 3.7211, 3.7207, 3.7198, 3.7193, 3.7183, 3.7182, 3.7174, 3.7161, 3.7155, 3.7149, 3.7144, 3.7141, 3.7127, 3.7108, 3.7098, 3.7063, 3.7022, 3.6642, 3.653, 3.619, 3.6099, 3.6026, 3.3716, 3.543, 3.4864, 3.4614, 3.3412, 3.3513, 2.9875, 3.4583, 3.4045, 2.1436, 2.6487, 2.2364, 2.8711, 1.9837, 2.1996, 2.4532, 2.4748, 2.2864, 2.2193, 2.5434, 2.517, 0.6684, 1.4177, 1.3176, 1.9004, 2.1985, 1.2569, 3.9265, 3.9161, 3.9121, 3.9107, 3.9095, 3.9072, 3.9069, 3.9048, 3.9036, 3.9018, 3.9006, 3.8986, 3.8975, 3.8955, 3.8916, 3.89, 3.8886, 3.88, 3.8783, 3.8763, 3.8749, 3.8734, 3.8726, 3.8683, 3.8682, 3.8674, 3.866, 3.8647, 3.8632, 3.8619, 3.8602, 3.8248, 3.8432, 3.7851, 3.8297, 3.793, 3.7366, 3.6962, 3.815, 3.6649, 3.5732, 3.5357, 3.4862, 3.7832, 3.7237, 3.0898, 2.7443, 2.8974, 2.8242, 3.0963, 2.8896, 2.3874, 1.226, 2.7508, 2.0186, 1.4268, 1.8003, 0.5062, 1.8839, 0.7419, 2.4613, 0.5299, 1.9584, 1.1405, 1.5531, 0.3383, 4.1647, 4.163, 4.1623, 4.1552, 4.1543, 4.1443, 4.1366, 4.1337, 4.1322, 4.1314, 4.1314, 4.1303, 4.1303, 4.1275, 4.1261, 4.1258, 4.1258, 4.1243, 4.1214, 4.1209, 4.1192, 4.1189, 4.1165, 4.1132, 4.1125, 4.1124, 4.1124, 4.1073, 4.107, 4.1065, 4.0229, 4.0872, 4.0985, 3.9847, 4.0349, 4.015, 3.847, 4.0014, 4.0006, 3.1949, 3.8314, 3.5572, 3.6548, 3.4069, 4.0075, 3.9863, 3.4993, 3.38, 2.7595, 2.9153, 2.7697, 2.975, 2.5671, 3.785, 2.3567, 2.4907, 2.2486, 1.9487, 2.2306, 2.0468, 1.477, 1.5033, 1.7565, 0.6928, 4.3386, 4.3368, 4.3361, 4.3325, 4.3323, 4.3323, 4.3292, 4.3286, 4.3284, 4.3282, 4.3279, 4.3268, 4.3261, 4.3258, 4.3254, 4.3242, 4.3241, 4.3223, 4.3203, 4.3202, 4.3201, 4.3201, 4.3196, 4.3193, 4.319, 4.317, 4.3143, 4.3137, 4.312, 4.3114, 4.31, 4.2866, 4.1882, 4.1656, 3.2443, 3.3836, 4.5091, 4.5085, 4.508, 4.5057, 4.5052, 4.5037, 4.5015, 4.5001, 4.4996, 4.4995, 4.4989, 4.4977, 4.4941, 4.4938, 4.4919, 4.4911, 4.4906, 4.49, 4.49, 4.4896, 4.4895, 4.4892, 4.4884, 4.4882, 4.4879, 4.4869, 4.4869, 4.4866, 4.4862, 4.486, 4.4724, 4.3674, 4.4646, 4.1072, 4.0262, 4.2124, 3.5256, 4.25, 3.7338, 2.8501, 3.3504, 3.7685, 3.2621]}, \"token.table\": {\"Topic\": [1, 2, 3, 4, 5, 6, 7, 8, 9, 10, 11, 12, 13, 14, 15, 16, 17, 18, 8, 13, 14, 15, 20, 8, 11, 15, 20, 18, 12, 1, 2, 3, 4, 5, 6, 7, 8, 9, 10, 11, 12, 13, 14, 15, 16, 17, 18, 20, 3, 3, 17, 9, 1, 2, 3, 4, 5, 6, 7, 8, 10, 11, 12, 13, 14, 15, 16, 18, 17, 2, 4, 5, 6, 14, 1, 2, 5, 6, 14, 15, 10, 1, 2, 4, 5, 6, 7, 8, 9, 10, 11, 13, 14, 15, 2, 4, 6, 7, 8, 11, 15, 12, 19, 20, 6, 1, 2, 4, 5, 6, 10, 14, 18, 2, 5, 6, 7, 8, 9, 10, 11, 13, 14, 15, 17, 18, 19, 20, 20, 2, 3, 4, 9, 12, 14, 16, 20, 9, 17, 5, 2, 6, 1, 2, 3, 5, 6, 7, 8, 10, 11, 13, 14, 15, 20, 4, 9, 13, 15, 13, 10, 5, 6, 8, 10, 13, 16, 12, 16, 2, 4, 12, 16, 8, 12, 14, 5, 1, 1, 2, 3, 4, 5, 6, 7, 8, 9, 10, 11, 12, 13, 14, 15, 16, 17, 18, 3, 4, 5, 9, 15, 16, 1, 2, 3, 4, 6, 8, 9, 12, 13, 15, 18, 1, 2, 3, 4, 6, 7, 8, 9, 10, 11, 12, 13, 14, 15, 17, 2, 3, 4, 5, 6, 7, 8, 10, 11, 12, 13, 14, 15, 18, 20, 10, 19, 10, 1, 2, 3, 4, 5, 6, 7, 8, 9, 10, 11, 12, 13, 14, 15, 16, 17, 18, 1, 2, 3, 4, 6, 7, 8, 11, 12, 13, 14, 15, 16, 1, 2, 5, 6, 8, 10, 11, 14, 17, 5, 6, 10, 5, 6, 10, 5, 6, 10, 11, 3, 4, 5, 6, 10, 1, 2, 3, 4, 6, 8, 12, 13, 15, 1, 2, 3, 4, 5, 6, 8, 10, 11, 12, 13, 14, 15, 16, 17, 18, 20, 1, 2, 3, 4, 5, 6, 7, 8, 9, 10, 11, 12, 13, 14, 15, 16, 17, 18, 6, 11, 8, 8, 5, 11, 1, 15, 1, 15, 3, 4, 8, 8, 1, 2, 5, 6, 7, 10, 11, 14, 6, 11, 2, 3, 4, 9, 5, 4, 1, 2, 3, 4, 6, 10, 12, 14, 15, 16, 3, 4, 5, 6, 13, 16, 17, 16, 3, 1, 2, 3, 4, 5, 6, 7, 8, 9, 12, 13, 14, 15, 16, 17, 18, 20, 5, 10, 10, 10, 5, 8, 13, 2, 6, 14, 15, 7, 13, 16, 6, 11, 9, 8, 9, 13, 17, 1, 5, 6, 7, 9, 10, 12, 13, 16, 18, 5, 9, 1, 9, 1, 2, 10, 15, 1, 2, 3, 4, 5, 6, 7, 8, 9, 10, 11, 12, 13, 14, 15, 17, 18, 6, 8, 15, 18, 20, 19, 20, 19, 1, 1, 9, 17, 17, 1, 2, 4, 5, 6, 7, 8, 9, 11, 12, 13, 15, 17, 20, 16, 1, 2, 3, 4, 5, 6, 7, 8, 9, 10, 11, 12, 13, 14, 15, 16, 17, 18, 8, 19, 1, 2, 3, 4, 5, 6, 7, 9, 10, 12, 13, 14, 15, 17, 3, 7, 15, 1, 2, 3, 4, 5, 6, 9, 10, 11, 12, 13, 15, 18, 12, 9, 13, 17, 2, 3, 4, 5, 6, 7, 8, 9, 13, 15, 18, 17, 8, 18, 1, 2, 3, 4, 5, 6, 8, 9, 10, 11, 12, 13, 15, 17, 20, 18, 8, 7, 7, 10, 13, 15, 17, 1, 2, 3, 4, 7, 8, 9, 12, 13, 15, 16, 17, 1, 2, 5, 6, 10, 11, 15, 17, 20, 6, 17, 18, 1, 2, 3, 4, 5, 6, 7, 9, 10, 11, 14, 16, 17, 18, 13, 17, 1, 2, 3, 5, 7, 8, 9, 11, 12, 13, 15, 1, 2, 3, 4, 5, 6, 7, 8, 9, 10, 11, 13, 15, 16, 18, 17, 11, 3, 5, 8, 9, 10, 14, 15, 18, 1, 2, 3, 4, 5, 6, 8, 9, 13, 15, 17, 18, 3, 4, 13, 19, 19, 3, 4, 8, 9, 10, 11, 13, 18, 3, 4, 7, 9, 17, 18, 6, 7, 10, 13, 7, 14, 11, 9, 13, 5, 9, 11, 13, 15, 16, 17, 18, 17, 2, 3, 4, 7, 10, 11, 13, 17, 18, 13, 15, 1, 2, 4, 5, 6, 7, 8, 9, 10, 11, 13, 14, 15, 17, 12, 4, 13, 1, 2, 3, 4, 5, 6, 7, 8, 9, 10, 11, 12, 13, 14, 15, 16, 17, 18, 4, 17, 18, 1, 2, 4, 5, 7, 10, 11, 15, 17, 10, 1, 1, 2, 3, 4, 5, 6, 7, 8, 9, 10, 11, 12, 14, 15, 16, 18, 20, 17, 6, 14, 18, 13, 9, 6, 1, 2, 4, 5, 6, 7, 8, 9, 10, 11, 13, 14, 15, 20, 3, 19, 7, 16, 11, 7, 1, 2, 3, 4, 5, 6, 7, 8, 9, 12, 13, 14, 15, 16, 17, 18, 12, 7, 5, 6, 7, 13, 15, 1, 2, 4, 5, 6, 8, 10, 11, 14, 15, 20, 4, 14, 2, 3, 7, 9, 13, 9, 20, 5, 1, 1, 7, 10, 15, 1, 15, 1, 10, 1, 18, 19, 20, 12, 2, 9, 1, 2, 5, 6, 10, 2, 6, 10, 1, 2, 3, 4, 5, 6, 7, 8, 9, 10, 11, 13, 14, 15, 16, 18, 2, 4, 10, 3, 4, 6, 12, 16, 14, 2, 5, 6, 11, 2, 7, 12, 1, 2, 3, 4, 5, 6, 7, 8, 9, 10, 11, 12, 13, 14, 15, 16, 17, 18, 5, 17, 12, 5, 7, 1, 2, 3, 4, 6, 9, 12, 13, 14, 15, 16, 1, 10, 13, 16, 19, 10, 1, 3, 4, 5, 9, 10, 12, 13, 14, 11, 1, 2, 3, 4, 6, 7, 8, 11, 12, 13, 15, 16, 17, 18, 1, 2, 3, 4, 5, 6, 7, 8, 9, 10, 11, 12, 13, 14, 15, 16, 17, 18, 20, 8, 10, 2, 3, 4, 8, 11, 17, 18, 1, 2, 3, 4, 5, 6, 8, 9, 13, 14, 15, 16, 18, 16, 15, 5, 4, 9, 11, 3, 12, 15, 1, 2, 3, 4, 5, 6, 8, 9, 10, 11, 13, 14, 15, 17, 17, 13, 1, 2, 3, 4, 9, 10, 14, 18, 3, 1, 2, 6, 7, 16, 1, 4, 1, 2, 3, 4, 5, 6, 7, 8, 9, 10, 11, 12, 13, 14, 15, 17, 18, 3, 1, 2, 3, 4, 5, 7, 8, 9, 12, 15, 16, 9, 1, 5, 9, 15, 18, 5, 11, 17, 20, 2, 9, 15, 4, 1, 2, 3, 4, 5, 6, 8, 9, 10, 11, 12, 13, 16, 14, 2, 3, 4, 5, 6, 7, 8, 9, 11, 13, 14, 15, 17, 18, 1, 2, 3, 4, 5, 6, 7, 9, 10, 11, 12, 13, 20, 9, 1, 2, 5, 6, 8, 10, 11, 13, 15, 16, 17, 20, 1, 2, 4, 5, 6, 11, 13, 14, 1, 2, 3, 4, 5, 6, 8, 9, 10, 11, 13, 14, 17, 2, 4, 7, 8, 12, 13, 14, 17, 20, 5, 3, 18, 1, 2, 5, 6, 14, 1, 2, 5, 6, 11, 1, 5, 7, 10, 15, 11, 2, 2, 2, 2, 3, 1, 11, 1, 4, 5, 7, 9, 15, 8, 11, 14, 15, 9, 1, 2, 3, 4, 5, 6, 7, 8, 9, 10, 12, 13, 14, 15, 16, 17, 18, 20, 3, 16, 17, 18, 3, 18, 6, 18, 1, 5, 20, 2, 3, 4, 6, 8, 9, 12, 14, 15, 16, 18, 1, 5, 10, 11, 1, 2, 3, 4, 5, 6, 7, 8, 9, 10, 11, 12, 13, 14, 15, 17, 2, 3, 6, 9, 11, 13, 17, 17, 3, 4, 7, 8, 10, 12, 15, 2, 2, 1, 2, 5, 6, 7, 8, 14, 5, 7, 1, 2, 3, 4, 6, 10, 12, 14, 15, 16, 4, 5, 15, 4, 10, 11, 12, 14, 15, 2, 4, 6, 9, 7, 13, 9, 16, 7, 11, 8, 13, 8, 18, 1, 2, 3, 4, 5, 6, 7, 8, 9, 10, 11, 12, 13, 14, 15, 17, 18, 9, 14, 9, 2, 3, 4, 12, 16, 13, 1, 6, 8, 14, 3, 4, 8, 9, 12, 17, 18, 11, 3, 14, 1, 5, 8, 9, 12, 17, 20, 5, 5, 6, 14, 17, 3, 4, 12, 13, 14, 1, 2, 3, 4, 5, 6, 7, 9, 10, 11, 13, 17, 18, 2, 3, 4, 5, 6, 7, 9, 11, 12, 13, 14, 16, 17, 18, 1, 2, 5, 6, 8, 14, 15, 17, 16, 18, 2, 3, 9, 17, 18, 1, 2, 5, 8, 20, 1, 4, 10, 16, 20, 20, 1, 2, 3, 4, 5, 7, 8, 9, 10, 11, 16, 9, 13, 1, 2, 3, 4, 6, 7, 9, 10, 11, 12, 13, 14, 15, 16, 17, 18, 2, 4, 2, 16, 9, 13, 15, 20, 3, 1, 6, 12, 8, 9, 11, 15, 4, 1, 2, 3, 4, 9, 11, 12, 13, 15, 16, 17, 2, 2, 1, 2, 5, 8, 15, 16, 2, 6, 11, 2, 8, 11, 13, 14, 17, 18, 3, 4, 6, 7, 12, 16, 5, 16, 19, 10, 2, 2, 3, 1, 2, 3, 4, 5, 6, 7, 8, 9, 10, 11, 12, 13, 14, 15, 17, 18, 1, 1, 2, 6, 10, 11, 14, 15, 17, 13, 3, 9, 1, 2, 3, 4, 6, 7, 8, 9, 10, 12, 13, 14, 15, 16, 18, 1, 2, 4, 6, 7, 10, 15, 1, 2, 3, 4, 5, 6, 7, 8, 9, 10, 11, 13, 14, 15, 17, 18, 8, 12, 2, 4, 12, 1, 2, 3, 4, 5, 6, 7, 8, 9, 10, 11, 12, 13, 14, 15, 16, 17, 18, 5, 1, 4, 5, 7, 9, 11, 13, 15, 18, 1, 2, 3, 4, 8, 9, 12, 16, 1, 2, 3, 4, 5, 6, 7, 8, 9, 11, 12, 13, 15, 17, 18, 2, 3, 4, 9, 12, 15, 18, 19, 2, 6, 11, 20, 2, 6, 11, 11, 19, 20, 2, 3, 4, 5, 6, 10, 12, 16, 20, 4, 12, 16, 1, 2, 3, 4, 5, 6, 7, 8, 9, 10, 11, 12, 13, 14, 15, 16, 17, 18, 2, 16, 16, 1, 5, 6, 7, 8, 9, 10, 11, 14, 15, 17, 5, 6, 1, 2, 3, 4, 5, 7, 8, 9, 11, 13, 15, 16, 17, 18, 2, 8, 10, 13, 3, 4, 6, 7, 8, 9, 20, 8, 18, 7, 8, 1, 2, 3, 4, 5, 6, 7, 8, 9, 10, 11, 12, 13, 14, 15, 16, 17, 18, 1, 2, 5, 9, 10, 14, 11, 1, 2, 3, 4, 5, 6, 7, 8, 9, 10, 11, 13, 14, 15, 17, 6, 11, 13, 16, 3, 4, 12, 16, 18, 19, 16, 9, 12, 18, 14, 18, 1, 2, 3, 4, 5, 6, 8, 9, 10, 11, 13, 14, 15, 17, 18, 3, 4, 12, 16, 1, 2, 3, 4, 6, 8, 9, 10, 12, 14, 16, 18, 4, 11, 19, 20, 8, 1, 3, 4, 5, 7, 11, 12, 13, 16, 2, 6, 8, 9, 10, 11, 13, 15, 18, 18, 3, 4, 6, 11, 2, 4, 20, 7, 6, 10, 6, 20, 1, 2, 3, 4, 5, 6, 7, 8, 9, 10, 11, 12, 13, 14, 15, 16, 17, 18, 20, 13, 19, 14, 4, 12, 12, 19, 19, 18, 9, 9, 9, 1, 2, 3, 4, 5, 6, 7, 8, 9, 10, 11, 12, 13, 14, 15, 16, 17, 18, 1, 2, 4, 6, 7, 8, 10, 14, 15, 16, 20, 1, 5, 11, 15, 1, 2, 3, 4, 5, 6, 7, 8, 9, 10, 11, 12, 13, 14, 15, 16, 17, 18, 1, 1, 2, 5, 6, 8, 10, 11, 3, 4, 9, 12, 17, 18, 1, 2, 3, 4, 5, 6, 7, 8, 9, 10, 11, 12, 13, 14, 15, 17, 18, 20, 6, 1, 6, 1, 6, 10, 15, 1, 2, 5, 8, 9, 10, 11, 13, 14, 15, 17, 1, 2, 3, 4, 5, 6, 7, 8, 9, 10, 11, 12, 13, 14, 15, 16, 17, 10, 1, 2, 3, 4, 5, 6, 7, 8, 9, 10, 11, 12, 13, 14, 15, 17, 18, 4, 1, 2, 8, 12, 16, 5, 6, 11, 13, 11, 1, 2, 3, 5, 7, 8, 9, 10, 11, 13, 15, 17, 1, 2, 3, 4, 5, 6, 7, 8, 9, 10, 11, 12, 13, 14, 15, 16, 17, 18, 6, 13, 1, 2, 3, 4, 5, 6, 7, 8, 9, 10, 11, 12, 13, 14, 15, 17, 18, 15, 1, 2, 3, 5, 6, 7, 8, 9, 10, 11, 13, 14, 15, 17, 18, 9, 8, 17, 15, 7, 6, 15, 18, 1, 2, 3, 4, 5, 6, 7, 8, 9, 10, 11, 12, 13, 14, 15, 17, 18, 2, 5, 6, 8, 14, 15, 1, 2, 3, 4, 5, 6, 7, 8, 9, 10, 11, 12, 13, 14, 15, 17, 18, 20, 5, 8, 9, 11, 14, 15, 1, 5, 6, 10, 7, 11, 17, 6, 14, 14, 1, 2, 3, 4, 5, 6, 7, 8, 9, 10, 11, 12, 13, 14, 15, 16, 17, 18, 1, 2, 3, 5, 7, 8, 9, 10, 11, 12, 13, 16, 18, 7, 14, 7, 20, 2, 4, 5, 8, 9, 11, 12, 15, 16, 17, 1, 6, 10, 1, 5, 1, 2, 3, 4, 5, 6, 7, 8, 9, 10, 11, 12, 13, 15, 17, 6, 10, 6, 13, 17, 18, 9, 1, 6, 9, 15, 17, 17, 12, 15, 1, 2, 4, 5, 6, 8, 10, 11, 12, 14, 15, 16, 9, 15, 18, 2, 20, 20, 8, 3, 13, 3, 18, 12, 4, 15, 17, 17, 1, 2, 3, 4, 5, 8, 9, 11, 12, 17, 13, 14, 1, 2, 3, 4, 5, 6, 7, 8, 9, 10, 11, 12, 13, 14, 15, 16, 17, 18, 1, 2, 3, 5, 6, 7, 8, 9, 10, 11, 12, 13, 14, 15, 17, 18, 8, 12, 2, 3, 4, 6, 8, 15, 14, 5, 14, 3, 4, 6, 8, 9, 11, 12, 13, 14, 15, 16, 18, 1, 2, 3, 4, 5, 6, 7, 8, 9, 10, 12, 13, 14, 15, 16, 17, 18, 2, 18, 5, 10, 12, 15, 3, 2, 18, 2, 3, 4, 9, 16, 8, 9, 13, 17, 3, 12, 16, 7, 1, 2, 3, 4, 5, 6, 7, 8, 9, 10, 11, 12, 13, 14, 15, 16, 17, 18, 3, 2, 3, 4, 5, 12, 13, 18, 1, 3, 6, 14, 4, 2, 18, 16, 13, 1, 6, 3, 6, 3, 3, 10, 18, 7, 4, 11, 1, 4, 10, 10, 10, 1, 2, 3, 4, 5, 6, 7, 8, 9, 10, 11, 12, 13, 14, 15, 16, 17, 18, 6, 10, 11, 15, 19, 12, 1, 1, 6, 10, 15, 1, 6, 10, 13, 1, 5, 6, 7, 8, 10, 11, 20, 12, 18, 12, 15, 3, 18, 7, 5, 17, 5, 12, 2, 3, 4, 5, 7, 8, 9, 12, 18, 17, 20, 1, 5, 10, 11, 13, 17, 20, 1, 2, 3, 4, 5, 6, 7, 8, 9, 10, 11, 14, 15, 11, 19, 20, 12, 19, 15, 6, 1, 11, 15, 1, 2, 5, 6, 8, 10, 11, 13, 18, 16, 4, 13, 17, 1, 2, 3, 4, 5, 6, 7, 8, 9, 10, 11, 12, 13, 14, 15, 16, 17, 18, 20, 8, 9, 2, 8, 10, 11, 13, 1, 2, 5, 6, 11, 13, 14, 4, 1, 1, 2, 3, 4, 5, 6, 7, 8, 9, 10, 11, 13, 14, 15, 16, 18, 7, 2, 7, 10, 17, 1, 2, 3, 4, 5, 6, 7, 8, 9, 10, 11, 12, 13, 14, 15, 16, 17, 18, 10, 10, 7, 16, 17, 11, 1, 2, 3, 4, 5, 6, 7, 8, 9, 10, 11, 12, 13, 14, 15, 16, 17, 18, 20, 20, 4, 8, 1, 2, 6, 1, 2, 3, 4, 6, 8, 10, 12, 13, 1, 2, 3, 5, 6, 8, 9, 10, 13, 14, 15, 16, 17, 18, 1, 2, 3, 4, 5, 8, 9, 10, 11, 12, 13, 14, 15, 17, 18, 1, 2, 3, 4, 5, 6, 7, 8, 9, 10, 11, 12, 13, 14, 15, 16, 17, 18, 4, 1, 2, 3, 4, 5, 6, 7, 8, 9, 10, 11, 12, 13, 14, 15, 16, 17, 18, 1, 2, 3, 5, 6, 7, 8, 9, 10, 11, 13, 14, 15, 17, 18, 2, 1, 2, 3, 4, 5, 6, 8, 9, 10, 11, 13, 15, 17, 18, 1, 2, 3, 4, 5, 6, 7, 8, 9, 10, 11, 12, 13, 14, 15, 16, 17, 18, 1, 2, 3, 4, 5, 6, 7, 8, 9, 10, 11, 12, 13, 14, 15, 16, 17, 18, 10, 1, 10, 11, 1, 2, 3, 4, 5, 6, 7, 8, 9, 10, 11, 12, 13, 14, 15, 17, 1, 2, 3, 4, 5, 6, 7, 8, 9, 10, 11, 12, 13, 14, 15, 17, 18, 20, 17, 1, 3, 5, 6, 7, 8, 9, 11, 12, 15, 17, 18, 1, 2, 3, 4, 5, 6, 7, 8, 9, 10, 11, 12, 13, 14, 15, 16, 17, 18, 18, 8, 10, 11, 5, 3, 4, 9, 12, 13, 20, 11, 2, 3, 4, 5, 6, 7, 8, 9, 11, 12, 13, 15, 16, 17, 18, 3, 4, 5, 6, 8, 9, 10, 11, 12, 13, 15, 11, 1, 2, 3, 4, 7, 8, 9, 11, 12, 13, 14, 15, 17, 18, 12, 15, 5, 1, 2, 4, 5, 6, 7, 8, 9, 10, 11, 12, 13, 14, 15, 16, 17, 16, 4, 7, 8, 12, 16, 2, 4, 12, 20, 5, 5, 2, 3, 4, 5, 6, 7, 8, 9, 12, 13, 15, 17, 18, 1, 10, 6, 10, 1, 2, 3, 8, 13, 18, 3, 16, 19, 3, 18, 1, 2, 3, 5, 6, 7, 8, 9, 10, 11, 13, 14, 15, 17, 18, 13, 19, 20, 19, 1, 2, 3, 4, 5, 6, 7, 8, 9, 10, 11, 12, 13, 14, 15, 16, 17, 18, 4, 5, 6, 8, 14, 15, 2, 5, 6, 8, 14, 15, 3, 4, 20, 1, 2, 4, 5, 6, 7, 8, 10, 11, 12, 14, 15, 6, 3, 4, 5, 6, 7, 10, 11, 13, 15, 18, 14, 5, 9, 11, 13, 2, 15, 6, 3, 19, 3, 9, 12, 18, 5, 3, 4, 4, 5, 6, 8, 10, 11, 13, 15, 17, 18, 1, 6, 10, 3, 7, 20, 6, 7, 1, 2, 6, 1, 2, 3, 4, 5, 7, 8, 9, 10, 11, 14, 16, 17, 1, 2, 4, 8, 6, 4, 12, 16, 9, 16, 3, 17, 1, 2, 3, 4, 9, 12, 15, 16, 18, 1, 3, 4, 6, 8, 9, 13, 14, 15, 17, 18, 3, 4, 6, 11, 1, 2, 3, 5, 6, 7, 8, 9, 11, 13, 15, 20, 2, 3, 4, 8, 9, 15, 2, 3, 4, 5, 6, 7, 8, 9, 10, 11, 12, 13, 14, 15, 17, 18, 7, 1, 8, 11, 1, 2, 6, 10, 15, 1, 5, 2, 5, 6, 11, 13, 15, 17, 15, 1, 3, 5, 9, 10, 11, 13, 3, 9, 18, 4, 12, 13, 17, 5, 17, 1, 4, 9, 11, 17, 18, 13, 8, 11, 15, 16, 17, 18, 9, 14, 19, 17, 18, 1, 5, 6, 10, 12, 14, 14, 20, 2, 4, 8, 2, 4, 5, 6, 7, 8, 9, 10, 14, 15, 18, 6, 10, 10, 15, 4, 1, 2, 3, 4, 5, 6, 7, 8, 9, 10, 11, 12, 13, 14, 15, 16, 17, 18, 19, 1, 4, 5, 6, 9, 10, 20, 10, 14, 1, 2, 3, 4, 5, 6, 7, 8, 9, 10, 11, 12, 13, 14, 15, 16, 17, 18, 20, 1, 2, 3, 4, 5, 6, 7, 8, 10, 11, 12, 14, 15, 1, 2, 3, 4, 8, 9, 11, 12, 15, 16, 17, 4, 6, 8, 12, 14, 15, 7, 2, 12, 1, 2, 5, 7, 8, 10, 11, 13, 2, 4, 8, 9, 10, 11, 17, 18, 16, 5, 3, 2, 6, 19, 19, 2, 2, 8, 10, 14, 15, 16, 3, 4, 12, 16, 1, 2, 3, 4, 5, 6, 7, 8, 9, 10, 11, 12, 13, 14, 15, 16, 17, 18, 17, 1, 5, 11, 14, 19, 7, 15, 1, 16, 1, 2, 6, 7, 8, 14, 15, 8, 6, 10, 3, 10, 1, 2, 3, 4, 6, 8, 13, 14, 15, 17, 2, 5, 6, 10, 14, 2, 5, 14, 15, 18, 13, 9, 13, 19, 1, 2, 3, 4, 5, 6, 7, 8, 9, 10, 11, 12, 13, 14, 15, 16, 17, 18, 20, 18, 1, 2, 3, 4, 5, 6, 7, 8, 9, 10, 11, 12, 13, 14, 16, 17, 18, 4, 8, 8, 8, 14, 12, 4, 6, 10, 14, 9, 3, 4, 9, 12, 16, 18, 5, 15, 4, 5, 6, 7, 9, 11, 13, 16, 18, 20, 8, 14, 10, 12, 2, 3, 4, 5, 9, 17, 18, 2, 6, 11, 6, 16, 1, 8, 14, 2, 7, 12, 8, 14, 1, 2, 3, 4, 5, 6, 7, 8, 9, 10, 11, 13, 15, 17, 18, 20, 8, 4, 18, 1, 5, 6, 10, 17, 4, 16, 18, 14, 1, 2, 3, 4, 5, 6, 7, 8, 9, 10, 11, 12, 13, 14, 15, 16, 17, 18, 20, 1, 2, 3, 4, 5, 6, 7, 8, 9, 10, 11, 14, 15, 16, 18, 4, 2, 4, 12, 7, 3, 7, 15, 2, 3, 4, 5, 9, 12, 13, 15, 17, 18, 14, 1, 2, 3, 4, 5, 7, 8, 9, 10, 11, 13, 15, 16, 17, 18, 2, 3, 9, 18, 3, 15, 2, 10, 11, 5, 6, 2, 7, 10, 3, 7, 8, 7, 7, 2, 4, 7, 20, 4, 12, 16, 2, 1, 2, 4, 8, 11, 8, 5, 8, 13, 15, 1, 2, 3, 5, 6, 7, 8, 9, 10, 11, 12, 13, 14, 15, 17, 5, 7, 8, 9, 13, 17, 7, 15, 19, 19, 19, 19, 1, 2, 3, 4, 5, 6, 7, 8, 9, 10, 11, 12, 13, 14, 15, 16, 17, 18, 2, 5, 6, 10, 11, 17, 1, 2, 3, 4, 6, 10, 13, 15, 1, 1, 2, 5, 6, 8, 10, 14, 15, 3, 4, 7, 9, 10, 12, 1, 2, 3, 4, 5, 6, 7, 8, 9, 10, 11, 12, 13, 14, 15, 16, 17, 18, 20, 1, 2, 3, 11, 12, 15, 16, 1, 2, 3, 4, 5, 6, 7, 8, 9, 10, 11, 13, 15, 16, 17, 18, 5, 1, 1, 2, 10, 20, 1, 2, 5, 6, 7, 10, 13, 1, 2, 3, 4, 5, 6, 7, 8, 9, 11, 12, 13, 15, 17, 18, 14, 6, 14, 20, 1, 2, 3, 4, 5, 6, 8, 9, 10, 11, 13, 15, 17, 18, 1, 16, 2, 4, 12, 1, 2, 4, 5, 6, 8, 13, 15, 20, 1, 2, 3, 4, 5, 6, 7, 8, 9, 10, 11, 12, 13, 14, 15, 16, 17, 18, 4, 8, 9, 11, 13, 1, 2, 3, 4, 5, 6, 7, 8, 9, 10, 11, 12, 13, 14, 15, 16, 17, 18, 18, 16, 2, 3, 4, 6, 8, 12, 14, 15, 16, 6, 2, 3, 4, 5, 7, 8, 9, 12, 16, 7, 15, 1, 2, 5, 8, 10, 12, 8, 14, 1, 2, 3, 4, 5, 6, 7, 8, 9, 10, 12, 14, 15, 16, 17, 18, 1, 2, 14, 15, 7, 4, 2, 4, 12, 16, 1, 2, 4, 5, 6, 8, 10, 11, 12, 13, 14, 15, 16, 7, 9, 16, 14, 18, 19, 19, 3, 12, 7, 1, 2, 3, 4, 5, 6, 7, 8, 9, 10, 11, 12, 13, 14, 15, 16, 17, 18, 18, 10, 20, 20, 1, 2, 4, 5, 6, 7, 8, 10, 11, 13, 14, 15, 17, 18, 8, 13, 16, 11, 3, 4, 7, 13, 7, 8, 11, 13, 2, 3, 4, 5, 6, 7, 8, 9, 13, 14, 15, 18, 20, 6, 20, 20, 15, 1, 2, 3, 4, 5, 6, 7, 8, 9, 10, 11, 12, 13, 14, 15, 16, 17, 18, 3, 4, 6, 9, 11, 17, 18, 1, 2, 3, 4, 5, 6, 7, 8, 9, 10, 11, 12, 13, 14, 15, 16, 17, 18, 10, 6, 18, 2, 4, 12, 13, 16, 17, 20, 2, 3, 4, 8, 9, 3, 15, 5, 10, 13, 4, 17, 1, 6, 10, 15, 1, 2, 6, 10, 11, 15, 1, 2, 7, 14, 16, 1, 2, 3, 4, 5, 6, 7, 8, 9, 10, 11, 12, 13, 14, 15, 16, 17, 18, 8, 9, 15, 2, 3, 4, 5, 6, 7, 8, 10, 11, 12, 13, 14, 15, 16, 18, 3, 11, 15, 2, 1, 2, 3, 4, 5, 6, 12, 13, 14, 16, 17, 18, 5, 1, 2, 4, 6, 8, 10, 13, 14, 15, 9, 1, 2, 3, 4, 6, 8, 12, 15, 1, 11, 1, 2, 3, 4, 5, 6, 7, 8, 9, 10, 12, 13, 14, 16, 1, 1, 11, 1, 6, 5, 13, 15, 5, 15, 17, 6, 7, 1, 2, 3, 4, 5, 6, 7, 8, 9, 10, 11, 12, 13, 14, 15, 16, 17, 18, 20, 8, 4, 1, 2, 3, 5, 6, 8, 10, 13, 14, 15, 18, 6, 19, 20, 20, 9, 4, 5, 6, 7, 8, 9, 10, 11, 13, 15, 17, 18, 18, 15, 7, 8, 10, 11, 13, 1, 3, 4, 13, 3, 7, 9, 16, 18, 2, 20, 1, 2, 3, 5, 6, 7, 9, 10, 11, 12, 13, 14, 15, 16, 17, 18, 1, 2, 3, 4, 5, 6, 7, 8, 9, 10, 11, 12, 13, 14, 15, 16, 17, 18, 2, 5, 6, 7, 10, 13, 1, 5, 13, 2, 5, 6, 8, 13, 14, 15, 2, 3, 4, 6, 8, 13, 14, 17, 18, 13, 7, 12, 2, 8, 8, 13, 6, 1, 2, 3, 4, 5, 6, 7, 8, 9, 10, 11, 12, 13, 14, 15, 17, 20, 15, 1, 2, 3, 4, 6, 2, 4, 8, 12, 13, 14, 1, 2, 4, 6, 8, 14, 15, 1, 2, 4, 6, 8, 14, 15, 7, 10, 7, 3, 4, 5, 7, 9, 12, 14, 3, 7, 9, 10, 11, 17, 1, 3, 7, 14, 1, 2, 5, 6, 10, 11, 13, 14, 1, 2, 3, 4, 5, 6, 8, 9, 10, 12, 13, 16, 2, 3, 18, 1, 2, 5, 6, 10, 2, 4, 6, 10, 13, 17, 1, 2, 3, 4, 5, 6, 7, 8, 9, 10, 11, 12, 13, 14, 15, 16, 17, 18, 20, 2, 14, 1, 2, 3, 4, 5, 6, 7, 8, 9, 13, 15, 17, 18, 2, 4, 18, 1, 2, 3, 4, 5, 6, 7, 8, 9, 10, 11, 12, 13, 15, 16, 8, 11, 16, 2, 3, 4, 12, 17, 1, 2, 3, 4, 5, 6, 7, 8, 9, 10, 11, 12, 13, 14, 15, 16, 17, 18, 3, 18, 3, 4, 7, 1, 3, 4, 5, 6, 7, 8, 9, 15, 16, 17, 2, 3, 4, 5, 6, 8, 10, 11, 13, 15, 17, 6, 5, 11, 8, 20, 12, 2, 3, 4, 5, 8, 9, 13, 16, 18, 3, 5, 1, 4, 5, 1, 2, 3, 4, 5, 6, 7, 8, 9, 10, 11, 12, 13, 15, 16, 17, 18, 9, 2, 3, 4, 5, 8, 9, 10, 11, 12, 14, 15, 16, 2, 3, 4, 5, 6, 7, 8, 9, 12, 13, 14, 15, 16, 17, 18, 20, 6, 1, 18, 5, 10, 1, 8, 11, 5, 9, 11, 14, 5, 2, 3, 4, 8, 12, 13, 14, 16, 8, 13, 18, 5, 6, 10, 1, 2, 3, 4, 5, 6, 7, 8, 9, 10, 11, 12, 14, 15, 16, 17, 1, 2, 3, 4, 6, 8, 9, 10, 11, 12, 13, 14, 15, 16, 2, 5, 6, 8, 9, 10, 12, 13, 14, 15, 2, 3, 4, 5, 8, 9, 12, 13, 16, 8, 1, 2, 3, 4, 5, 7, 8, 9, 11, 13, 15, 16, 17, 18, 18, 9, 5, 9, 14, 15, 1, 13, 1, 2, 5, 10, 12, 20, 5, 1, 2, 3, 4, 5, 6, 7, 8, 10, 11, 12, 13, 14, 15, 18, 1, 2, 3, 4, 5, 6, 7, 8, 9, 10, 11, 12, 13, 14, 15, 16, 17, 18, 1, 2, 3, 4, 5, 6, 7, 8, 9, 10, 11, 12, 13, 14, 15, 16, 17, 18, 20, 6, 16, 16, 9, 3, 4, 9, 5, 12, 7, 1, 2, 3, 4, 5, 6, 7, 8, 9, 10, 11, 13, 14, 15, 16, 17, 18, 2, 3, 4, 5, 10, 16, 3, 4, 5, 6, 8, 9, 10, 11, 12, 15, 17, 20, 1, 2, 4, 5, 6, 8, 9, 14, 15, 15, 1, 12, 14, 5, 12, 1, 3, 4, 5, 7, 8, 9, 11, 12, 15, 16, 11, 4, 2, 3, 4, 5, 6, 8, 9, 10, 11, 12, 13, 15, 18, 13, 1, 2, 3, 4, 5, 6, 7, 8, 9, 10, 11, 12, 13, 14, 15, 16, 17, 18, 20, 4, 6, 8, 9, 12, 14, 15, 2, 8, 14, 4, 1, 2, 3, 4, 5, 8, 9, 11, 16, 17, 18, 20, 16, 3, 7, 8, 9, 14, 11, 10, 1, 2, 3, 4, 5, 6, 8, 9, 10, 11, 12, 13, 14, 15, 16, 17, 18, 1, 2, 3, 4, 5, 6, 7, 8, 9, 10, 11, 12, 13, 14, 15, 17, 18, 20, 3, 11, 20, 4, 17, 5, 6, 8, 10, 11, 18, 2, 3, 4, 5, 9, 11, 13, 14, 17, 20, 3, 4, 14, 10, 13, 19, 19, 1, 2, 4, 5, 6, 8, 13, 15, 17, 2, 4, 5, 6, 7, 8, 10, 2, 3, 4, 8, 9, 13, 15, 3, 17, 8, 12, 1, 2, 3, 4, 5, 6, 7, 8, 9, 10, 11, 12, 13, 14, 15, 16, 17, 18, 12, 15, 15, 2, 4, 5, 10, 1, 2, 3, 4, 5, 7, 8, 9, 12, 13, 14, 15, 16, 17, 18, 1, 4, 1, 2, 3, 4, 5, 6, 7, 8, 9, 10, 11, 12, 13, 14, 15, 17, 18, 5, 11, 15, 1, 2, 4, 6, 8, 9, 11, 12, 14, 15, 17, 1, 8, 15, 18, 8, 15, 1, 2, 3, 4, 5, 6, 7, 8, 9, 10, 11, 12, 13, 14, 15, 16, 17, 18, 16, 5, 7, 13, 17, 11, 13, 1, 2, 3, 4, 5, 6, 7, 8, 9, 10, 11, 12, 13, 14, 15, 16, 17, 18, 20, 1, 7, 11, 13, 17, 18, 4, 8, 1, 3, 4, 6, 7, 10, 12, 13, 15, 16, 16, 4, 7, 2, 4, 6, 7, 12, 11, 17, 15, 13, 17, 1, 2, 3, 4, 5, 6, 7, 10, 11, 13, 15, 17, 18, 2, 4, 5, 6, 16, 17, 9, 9, 13, 1, 2, 5, 6, 8, 9, 10, 14, 5, 6, 10, 11, 5, 1, 2, 3, 4, 5, 6, 7, 8, 9, 10, 11, 12, 13, 14, 15, 16, 17, 18, 9, 11, 1, 5, 6, 10, 14, 15, 1, 2, 3, 4, 5, 6, 7, 8, 9, 10, 11, 12, 13, 14, 15, 16, 17, 18, 12, 5, 6, 10, 6, 10, 6, 10, 1, 2, 3, 4, 5, 6, 7, 8, 9, 10, 11, 13, 15, 16, 17, 18, 4, 1, 4, 12, 13, 4, 12, 13, 20, 11, 2, 3, 4, 5, 6, 8, 9, 10, 11, 13, 15, 17, 18, 1, 2, 4, 6, 10, 14, 15, 3, 4, 12, 16, 20, 11, 12, 3, 4, 9, 18, 3, 12, 14, 1, 2, 3, 4, 5, 6, 7, 8, 9, 10, 11, 12, 13, 14, 15, 16, 17, 18, 20, 1, 2, 4, 12, 16, 2, 3, 4, 5, 6, 8, 12, 13, 14, 15, 16, 3, 4, 12, 17, 12, 16, 12, 20, 20, 20, 14, 1, 2, 3, 4, 5, 6, 7, 8, 9, 12, 13, 15, 16, 18, 13, 18, 2, 4, 6, 7, 8, 10, 12, 19, 1, 9, 12, 2, 5, 6, 8, 11, 13, 14, 16, 17, 18, 8, 12, 1, 1, 2, 3, 4, 6, 9, 10, 11, 12, 13, 14, 15, 16, 18, 3, 4, 19, 3, 4, 2, 3, 4, 5, 9, 11, 12, 6, 10, 1, 6, 10, 3, 4, 9, 4, 14, 3, 19, 9, 9, 13, 2, 5, 6, 7, 12, 8, 15, 3, 1, 6, 11, 17, 6, 1, 2, 3, 4, 5, 6, 7, 8, 9, 10, 11, 12, 13, 14, 15, 16, 17, 18, 20, 1, 2, 5, 6, 10, 11, 13, 17, 1, 5, 9, 11, 14, 15, 18, 3, 8, 9, 10, 1, 2, 3, 4, 5, 6, 7, 8, 9, 10, 11, 12, 13, 14, 15, 16, 17, 18, 20, 5, 6, 10, 11, 13, 5, 7, 8, 9, 11, 13, 15, 1, 2, 3, 4, 5, 6, 7, 8, 9, 10, 11, 12, 13, 14, 15, 16, 17, 18, 20, 16, 4, 12, 1, 5, 6, 10, 11, 14, 17, 1, 2, 3, 4, 5, 6, 7, 8, 9, 10, 11, 12, 13, 14, 15, 16, 17, 18, 3, 4, 5, 11, 12, 16, 17, 20, 1, 2, 5, 6, 7, 8, 10, 13, 15, 7, 2, 9, 10, 15, 2, 1, 5, 6, 7, 10, 11, 14, 15, 1, 2, 3, 4, 5, 6, 7, 8, 9, 10, 11, 12, 13, 14, 15, 16, 18, 1, 2, 3, 4, 5, 6, 7, 8, 9, 10, 11, 12, 13, 14, 15, 16, 17, 18, 20, 4, 1, 2, 3, 4, 5, 6, 7, 8, 9, 10, 11, 12, 13, 14, 15, 16, 17, 18, 20, 1, 1, 2, 3, 5, 6, 7, 9, 11, 13, 14, 15, 17, 18, 18, 1, 2, 3, 4, 5, 6, 7, 8, 9, 10, 11, 12, 13, 14, 15, 16, 17, 18, 1, 2, 3, 4, 5, 6, 7, 8, 9, 10, 11, 12, 13, 14, 15, 16, 17, 18, 19, 4, 4, 18, 3, 4, 12, 20, 3, 4, 3, 4, 13, 20, 18, 10, 1, 2, 3, 4, 5, 6, 7, 8, 9, 10, 11, 12, 13, 14, 15, 16, 17, 18, 20, 1, 2, 3, 4, 5, 6, 7, 8, 9, 10, 11, 12, 13, 14, 15, 16, 17, 18, 2, 6, 7, 10, 3, 4, 12, 18], \"Freq\": [0.10770682772914497, 0.06462409663748699, 0.1217087153339338, 0.019387228991246095, 0.09262787184706467, 0.17017678781204904, 0.2143365871809985, 0.02369550210041189, 0.057084618696446834, 0.010770682772914496, 0.04954514075540668, 0.002154136554582899, 0.003231204831874349, 0.004308273109165798, 0.008616546218331597, 0.003231204831874349, 0.010770682772914496, 0.03446618487332639, 0.06946638574821261, 0.9262184766428347, 0.01189220680174215, 0.1189220680174215, 0.8562388897254348, 0.013470590501255007, 0.45800007704267026, 0.05388236200502003, 0.47147066754392525, 0.9880154705106411, 0.9618894039611523, 0.19183554024817864, 0.0970734059087169, 0.11440794267813063, 0.036980345108082624, 0.06702687550839977, 0.02889089461568955, 0.04160288824659296, 0.031202166184944716, 0.0577817892313791, 0.009245086277020656, 0.1745010034787649, 0.008089450492393074, 0.01040072206164824, 0.005778178923137911, 0.08205014070855833, 0.004622543138510328, 0.030046530400317135, 0.006933814707765493, 0.001155635784627582, 0.9922012623747094, 0.970926043542454, 0.01674010419900783, 0.9665760337574294, 0.09626361679629711, 0.07723476231330816, 0.12872460385551357, 0.3481161026005628, 0.012312788194875211, 0.019028854482988963, 0.001119344381352292, 0.003358033144056876, 0.003358033144056876, 0.020148198864341257, 0.20372067740611716, 0.003358033144056876, 0.013432132576227504, 0.001119344381352292, 0.0559672190676146, 0.01119344381352292, 0.9754465230648542, 0.8961736996711513, 0.028399870764226627, 0.03155541196025181, 0.015777705980125904, 0.025244329568201444, 0.01870392474289812, 0.1246928316193208, 0.01246928316193208, 0.11845819003835475, 0.7045144986491625, 0.01246928316193208, 0.9546595693792138, 0.11177275115236696, 0.005198732611737998, 0.002599366305868999, 0.06238479134085597, 0.05718605872911798, 0.04678859350564198, 0.033791761976296984, 0.002599366305868999, 0.04678859350564198, 0.007798098917606996, 0.02339429675282099, 0.5562643894559658, 0.03899049458803498, 0.9071912743017447, 0.0027742852425129806, 0.02496856718261683, 0.019419996697590865, 0.030517137667642788, 0.011097140970051923, 0.0027742852425129806, 0.9524036226552048, 0.03043096674738162, 0.958575452542521, 0.96501692815086, 0.004169880639475577, 0.1417759417421696, 0.008339761278951153, 0.05420844831318249, 0.016679522557902306, 0.1417759417421696, 0.6213122152818609, 0.004169880639475577, 0.01323229073596545, 0.06086853738544107, 0.00793937444157927, 0.00264645814719309, 0.14555519809561995, 0.15349457253719923, 0.0529291629438618, 0.00793937444157927, 0.01323229073596545, 0.01058583258877236, 0.0264645814719309, 0.04234333035508944, 0.04763624664947562, 0.04234333035508944, 0.37050414060703263, 0.959728566894058, 0.6746734063904661, 0.0027994747153131374, 0.18476533121066707, 0.08678371617470726, 0.027994747153131376, 0.0027994747153131374, 0.01959632300719196, 0.9802389001976077, 0.879016596810101, 0.0976685107566779, 0.9668710146172624, 0.0833993245701029, 0.9081259786522315, 0.0690223244419929, 0.2657359491016727, 0.010353348666298936, 0.0069022324441992905, 0.34683718032101435, 0.1000823704408897, 0.024157813554697517, 0.06039453388674379, 0.025883371665747338, 0.03451116222099645, 0.015530022999448403, 0.0379622784430961, 0.0034511162220996453, 0.034057065555623364, 0.9450835691685484, 0.008514266388905841, 0.974852704458509, 0.9512083929592822, 0.9601042810525751, 0.016828080621927023, 0.16828080621927022, 0.12621060466445266, 0.008414040310963511, 0.6478811039441903, 0.016828080621927023, 0.918574603512237, 0.07348596828097896, 0.04829174046056881, 0.2790189448832865, 0.6277926259873946, 0.04024311705047401, 0.9232804808313972, 0.07194393357127771, 0.9805406494399859, 0.9953369168079935, 0.9907475223984882, 0.21073624223925103, 0.04148351225182107, 0.10287911038451625, 0.07632966254335077, 0.044802193231966755, 0.0464615337220396, 0.03650549078160254, 0.03816483127167539, 0.024890107351092643, 0.028208788331238327, 0.03650549078160254, 0.01659340490072843, 0.22567030664990662, 0.03152746931138401, 0.0232307668610198, 0.006637361960291371, 0.006637361960291371, 0.0016593404900728428, 0.8401904653631993, 0.026757658132585963, 0.034784955572361755, 0.05083955045191333, 0.013378829066292982, 0.029433423945844563, 0.0025079486893739497, 0.03887320468529622, 0.22696935638834242, 0.6232252493094265, 0.003761923034060924, 0.057682819855600836, 0.022571538204365544, 0.0012539743446869749, 0.005015897378747899, 0.005015897378747899, 0.012539743446869747, 0.04765496200838962, 0.02859297720503377, 0.06671694681174546, 0.13661089109071692, 0.07624793921342339, 0.006353994934451949, 0.05083195947561559, 0.012707989868903898, 0.006353994934451949, 0.03494697213948572, 0.4225406631410546, 0.009530992401677924, 0.054008956942841566, 0.006353994934451949, 0.038123969606711695, 0.19037199468345067, 0.01397225649052849, 0.015718788551844554, 0.005239596183948184, 0.06462168626869427, 0.1222572442921243, 0.12575030841475643, 0.16592054582502583, 0.0017465320613160612, 0.015718788551844554, 0.006986128245264245, 0.23403529621635222, 0.010479192367896368, 0.022704916797108798, 0.006986128245264245, 0.9930949809113093, 0.9625475920632577, 0.9933895598507899, 0.0342374165872337, 0.06984432983795674, 0.021911946615829566, 0.08901728312680761, 0.061627349857020654, 0.13558016968544545, 0.0013694966634893479, 0.13010218303148804, 0.03971540324119109, 0.11640721639659457, 0.009586476644425435, 0.017803456625361522, 0.03286791992374435, 0.08080030314587153, 0.04382389323165913, 0.01917295328885087, 0.09312577311727566, 0.004108489990468043, 0.6966207621682888, 0.02812957946997841, 0.008273405726464237, 0.03971234748702834, 0.016546811452928474, 0.004964043435878543, 0.004964043435878543, 0.0314389417605641, 0.004964043435878543, 0.0016546811452928475, 0.059568521230542515, 0.07611533268347098, 0.024820217179392715, 0.002153554697338337, 0.006460664092015011, 0.22827679791786373, 0.6288379716227944, 0.008614218789353348, 0.08398863319619515, 0.010767773486691685, 0.012921328184030021, 0.017228437578706696, 0.04814913731771778, 0.009629827463543556, 0.9389081776954967, 0.09549020645540778, 0.021220045878979507, 0.8806319039776496, 0.18401791647702712, 0.004044349812681915, 0.8108921374427238, 0.9472824970730116, 0.0041811679221859825, 0.08362335844371964, 0.050174015066231786, 0.21323956403148508, 0.6438998600166412, 0.004003311547981308, 0.08807285405558878, 0.024019869287887845, 0.07606291941164485, 0.04803973857577569, 0.004003311547981308, 0.08406954250760747, 0.2562119390708037, 0.4123410894420747, 0.12288233969950854, 0.053686459092018295, 0.04056310242508049, 0.10021472363843416, 0.00357909727280122, 0.15151511788191832, 0.03459794030374513, 0.009544259394136586, 0.058458588789086594, 0.24576467939901708, 0.03221187545521098, 0.11333808030537196, 0.015509421515471952, 0.0011930324242670732, 0.01431638909120488, 0.0011930324242670732, 0.0011930324242670732, 0.2097520473799167, 0.07976486308813734, 0.05243801184497918, 0.09675182467172214, 0.23707889862307485, 0.028803978337382928, 0.002954254188449531, 0.0014771270942247655, 0.014771270942247654, 0.022156906413371483, 0.04062099509118105, 0.01920265222492195, 0.07976486308813734, 0.016986961583584804, 0.007385635471123827, 0.004431381282674296, 0.08198055372947448, 0.0036928177355619136, 0.858619988426925, 0.13515314632646042, 0.9813622311460684, 0.9701332547654762, 0.06852707462411911, 0.8908519701135484, 0.888866874489802, 0.1096399668974205, 0.9954061497078794, 0.002532840075592569, 0.9813534253575167, 0.009912660862197139, 0.9855239992757191, 0.9798256270247312, 0.049005172454934555, 0.20872573453027682, 0.04174514690605536, 0.07804527465045133, 0.0018150063872197984, 0.5771720311358959, 0.018150063872197985, 0.023595083033857378, 0.9286279136017334, 0.9508505959731514, 0.04461815705379181, 0.08179995459861832, 0.037181797544826506, 0.8328722650041138, 0.9756539357828745, 0.9693271574003166, 0.1389061889502428, 0.01262783535911298, 0.02525567071822596, 0.15658515845300094, 0.1338550548065976, 0.007576701215467788, 0.15153402430935575, 0.07576701215467788, 0.002525567071822596, 0.2904402132595985, 0.00891017760391151, 0.013365266405867264, 0.00891017760391151, 0.031185621613690283, 0.7172692971148765, 0.01782035520782302, 0.2049340848899647, 0.9598069221660874, 0.9839078842544674, 0.003648838465523145, 0.10289724472775269, 0.06932793084493975, 0.6071667206630513, 0.001459535386209258, 0.010946515396569436, 0.002919070772418516, 0.048164667744905514, 0.02116326310003424, 0.05692188006216106, 0.03575861696212682, 0.03210977849660367, 0.000729767693104629, 0.002919070772418516, 0.003648838465523145, 0.000729767693104629, 0.000729767693104629, 0.16093794238367473, 0.8326789192894475, 0.9869932400843199, 0.9774963843280404, 0.9754659929621715, 0.9585659120048304, 0.9871366943506747, 0.1475283297745995, 0.81811164693187, 0.020117499514718112, 0.006705833171572704, 0.9787005566764674, 0.010089696460582139, 0.9605853608779987, 0.10165197803232416, 0.8871445355548291, 0.9814621594498341, 0.013936096870361262, 0.8152616669161339, 0.15329706557397388, 0.013936096870361262, 0.007986425252775906, 0.6189479570901327, 0.043925338890267486, 0.26355203334160493, 0.003993212626387953, 0.01197963787916386, 0.01197963787916386, 0.007986425252775906, 0.019966063131939767, 0.003993212626387953, 0.8768918092652422, 0.09230440097528866, 0.029955849469422004, 0.9585871830215041, 0.9482141353094955, 0.005976139508253123, 0.005976139508253123, 0.03984093005502082, 0.6227614594679888, 0.06635483781232725, 0.037134358775706075, 0.0006087599799296078, 0.061484757972890394, 0.023741639217254706, 0.024350399197184312, 0.009131399698944118, 0.0018262799397888235, 0.004261319859507255, 0.09435779688908921, 0.004261319859507255, 0.013392719558451373, 0.018871559377817843, 0.009740159678873725, 0.003652559879577647, 0.003652559879577647, 0.017428500980595577, 0.8656155487029137, 0.0697140039223823, 0.04066650228805635, 0.9709855243860386, 0.9472740425310271, 0.04985652855426458, 0.9886721511924585, 0.9978830364829128, 0.9908346727372058, 0.0021573312797040695, 0.99668705122328, 0.9824447425053604, 0.05093998665150537, 0.14617561386953715, 0.019933038254936884, 0.10409475533133705, 0.4340972775519588, 0.12624257561460026, 0.0022147820283263202, 0.019933038254936884, 0.013288692169957922, 0.05093998665150537, 0.0044295640566526405, 0.008859128113305281, 0.015503474198284243, 0.0044295640566526405, 0.989099144521657, 0.05328564044523632, 0.173558943164484, 0.521438052928384, 0.016746915568502843, 0.03653872487673348, 0.0015224468698638949, 0.012940798393843106, 0.0060897874794555796, 0.03653872487673348, 0.0007612234349319474, 0.05100197014044048, 0.028165267092482054, 0.0015224468698638949, 0.0007612234349319474, 0.02131425617809453, 0.003806117174659737, 0.028926490527414, 0.005328564044523632, 0.019068797826219473, 0.972508689137193, 0.05266553317612339, 0.004213242654089871, 0.008426485308179741, 0.04634566919498858, 0.12850390094974107, 0.22751510332085303, 0.029492698578629097, 0.11165093033338158, 0.012639727962269613, 0.03791918388680884, 0.09269133838997716, 0.065305261138393, 0.14535687156610055, 0.03791918388680884, 0.01846951491739905, 0.2401036939261876, 0.7387805966959619, 0.005186940015082193, 0.6094654517721578, 0.11929962034689046, 0.012967350037705485, 0.11411268033180827, 0.012967350037705485, 0.005186940015082193, 0.007780410022623291, 0.03371511009803426, 0.010373880030164387, 0.02593470007541097, 0.007780410022623291, 0.028528170082952067, 0.9761023215043545, 0.05788870313749611, 0.1350736406541576, 0.7911456095457803, 0.037359843962106724, 0.6429825776636262, 0.07078707277030748, 0.041292459116012696, 0.02949461365429478, 0.06292184246249553, 0.011797845461717913, 0.06095553488554255, 0.005898922730858957, 0.009831537884764928, 0.023595690923435827, 0.9433870114777299, 0.1277017445988047, 0.8428315143521111, 0.4081004695405545, 0.004756415728910892, 0.009512831457821783, 0.2245028224045941, 0.009512831457821783, 0.05422313930958417, 0.04566159099754456, 0.05232057301801981, 0.013317964040950498, 0.007610265166257427, 0.00570769887469307, 0.04471030785176239, 0.10654371232760398, 0.013317964040950498, 0.0009512831457821784, 0.9353547615338939, 0.9610822156397941, 0.9909560637216132, 0.8598938021524564, 0.043538926691263614, 0.027211829182039758, 0.043538926691263614, 0.027211829182039758, 0.001820718499007252, 0.06008371046723932, 0.1711475389066817, 0.2621834638570443, 0.029131495984116032, 0.012745029493050765, 0.29313567834016757, 0.021848621988087024, 0.09831879894639162, 0.032772932982130534, 0.005462155497021756, 0.009103592495036261, 0.011106338432958269, 0.005553169216479134, 0.7330183365752457, 0.06108486138127048, 0.044425353731833074, 0.022212676865916537, 0.03331901529887481, 0.06108486138127048, 0.011106338432958269, 0.980991040229136, 0.16016459822345397, 0.8196658850259115, 0.0710870920733713, 0.22036998542745104, 0.05509249635686276, 0.02843483682934852, 0.43007690704389634, 0.005331531905502848, 0.015994595716508544, 0.04442943254585706, 0.005331531905502848, 0.02310330492384567, 0.0017771773018342824, 0.062201205564199884, 0.03198919143301709, 0.0017771773018342824, 0.9830835915427849, 0.9513890122453071, 0.17275244285338137, 0.03636893533755397, 0.1272912736814389, 0.0681917537579137, 0.03636893533755397, 0.004546116917194246, 0.07728398759230219, 0.4409733409678419, 0.004546116917194246, 0.009092233834388492, 0.018184467668776984, 0.0072948455362674275, 0.06565360982640685, 0.13677835380501427, 0.1158056728882454, 0.21063866485972196, 0.0027355670761002853, 0.0027355670761002853, 0.08115515659097512, 0.07112474397860741, 0.02370824799286914, 0.03920979475743742, 0.0009118556920334284, 0.021884536608802282, 0.2124623762437888, 0.006382989844233999, 0.9845881376345144, 0.9813187392084164, 0.791705460109729, 0.13390863865357433, 0.009397097449373637, 0.004698548724686819, 0.016444920536403864, 0.014095646174060455, 0.0023492743623434093, 0.02819129234812091, 0.006379898962440017, 0.026582912343500072, 0.2743356553849207, 0.006379898962440017, 0.07124220508058018, 0.018076380393580047, 0.0021266329874800056, 0.07017888858684018, 0.4423396613958412, 0.0074432154561800195, 0.06805225559936018, 0.0074432154561800195, 0.07465642324479796, 0.01493128464895959, 0.8809457942886159, 0.996477496847049, 0.9849334829970848, 0.3673063149017253, 0.0032504983619621704, 0.013001993447848682, 0.5200797379139472, 0.009751495085886512, 0.0032504983619621704, 0.06826046560120558, 0.01625249180981085, 0.9885777420743977, 0.005955287602857818, 0.984696416079181, 0.04295707509358523, 0.9235771145120824, 0.021478537546792614, 0.026720034366220596, 0.9352012028177209, 0.013360017183110298, 0.026720034366220596, 0.9904673163792436, 0.9921043607563026, 0.9202201685651771, 0.9873698016946593, 0.9801160944134117, 0.083363865689765, 0.0018122579497775, 0.0308083851462175, 0.7113112452876688, 0.0018122579497775, 0.003624515899555, 0.05799225439288, 0.10782934801176125, 0.9360180134926397, 0.0018115321397716533, 0.9474313091005747, 0.012680724978401572, 0.00271729820965748, 0.023549917817031495, 0.00543459641931496, 0.0018115321397716533, 0.0009057660698858266, 0.00271729820965748, 0.05576990245997326, 0.9202033905895588, 0.06048199616016147, 0.042154118535870116, 0.018327877624291354, 0.20893780491692146, 0.3757214912979728, 0.021993453149149626, 0.0824754493093111, 0.04948526958558666, 0.03299017972372444, 0.009163938812145677, 0.031157391961295303, 0.005498363287287407, 0.014662302099433085, 0.04581969406072839, 0.9754620668905631, 0.06851742766390687, 0.9135657021854249, 0.152257200973184, 0.06964230717159088, 0.08534596467106727, 0.032772850433689826, 0.030041779564215675, 0.1379190789084447, 0.004096606304211228, 0.013655354347370762, 0.07851828749738188, 0.017069192934213454, 0.04369713391158644, 0.010241515760528072, 0.023896870107898833, 0.16045041358160644, 0.03345561815105837, 0.058035255976325736, 0.03413838586842691, 0.015020889782107838, 0.10939554233565649, 0.8751643386852519, 0.951966161165548, 0.01832733318312381, 0.009163666591561904, 0.07330933273249524, 0.6552021612966762, 0.1053821658029619, 0.03207283307046667, 0.041236499662028574, 0.01832733318312381, 0.03665466636624762, 0.9801479384741267, 0.9946386339909395, 0.1882115462192158, 0.006150704124810974, 0.09964140682193777, 0.013531549074584141, 0.03936450639879023, 0.08980028022224021, 0.003690422474886584, 0.03813436557382804, 0.15745802559516092, 0.036904224748865844, 0.08364957609742923, 0.004920563299848779, 0.20051295446883774, 0.024602816499243896, 0.009841126599697558, 0.0012301408249621947, 0.971739526254876, 0.9796773689181103, 0.00859017229211847, 0.9620992967172686, 0.01718034458423694, 0.9660581083979413, 0.9714287527367519, 0.9765235895730806, 0.00342441446744873, 0.011985450636070556, 0.08732256891994261, 0.00342441446744873, 0.03081973020703857, 0.12499112806187865, 0.2499822561237573, 0.00342441446744873, 0.07362491105014769, 0.01027324340234619, 0.00684882893489746, 0.3732611769519116, 0.01369765786979492, 0.001712207233724365, 0.9900043296275698, 0.978141707656708, 0.9922782600127723, 0.9898904047729806, 0.9340659838908937, 0.9865328302364182, 0.021485592919043665, 0.012638584070025686, 0.1731486017593519, 0.09605323893219521, 0.05434591150111045, 0.051818194687105315, 0.051818194687105315, 0.0037915752210077058, 0.09858095574620035, 0.04676276105909504, 0.024013309733048802, 0.013902442477028255, 0.01011086725602055, 0.21611978759743924, 0.03412417698906935, 0.0884700884901798, 0.9727517121333628, 0.995740330350026, 0.003925474933833172, 0.09028592347816296, 0.7576166622298023, 0.14131709761799421, 0.003925474933833172, 0.24002719495707087, 0.0020963073795377367, 0.01886676641583963, 0.1456933628778727, 0.09014121732012269, 0.0010481536897688683, 0.08070783411220286, 0.09328567838942929, 0.31968687537950485, 0.006288922138613211, 0.0010481536897688683, 0.04708881320815956, 0.9417762641631912, 0.5929519865668208, 0.31693902331741786, 0.005710613032746267, 0.08185212013602983, 0.0009517688387910446, 0.9727455138482196, 0.9767653147453524, 0.9839913903753754, 0.9971563802610366, 0.9569608707665437, 0.01518985509153244, 0.01518985509153244, 0.009493659432207775, 0.9915356420603866, 0.004114255776184177, 0.9890854801634053, 0.006965390705376094, 0.9967405743952636, 0.0018356180007279255, 0.33444191760312164, 0.6604169512162908, 0.9896102600183598, 0.995243008898201, 0.9929719631333656, 0.0031709516076957674, 0.2346504189694868, 0.006341903215391535, 0.6373612731468492, 0.11415425787704762, 0.11248404846728781, 0.10779721311448415, 0.7780146685654074, 0.5167633333124905, 0.03388612021721249, 0.04129870901472773, 0.0031768237703636714, 0.0010589412567878903, 0.0783616530023039, 0.013766236338242576, 0.009530471311091014, 0.0021178825135757806, 0.07094906420478865, 0.14401601092315308, 0.007412588797515233, 0.05294706283939452, 0.013766236338242576, 0.008471530054303122, 0.0010589412567878903, 0.9743158543013067, 0.011071771071605759, 0.9856317881860883, 0.08094196832169073, 0.8417964705455836, 0.03885214479441155, 0.006475357465735259, 0.029139108595808663, 0.982065231249021, 0.8000249199135687, 0.01090943072609412, 0.08363896890005491, 0.10545783035224315, 0.9883390224645067, 0.00684761447434993, 0.0022825381581166437, 0.09755760300403085, 0.007390727500305368, 0.03399734650140469, 0.03399734650140469, 0.14929269550616844, 0.03990992850164899, 0.09312316650384764, 0.03251920100134362, 0.05321323800219865, 0.06651654750274831, 0.09607945750396979, 0.01625960050067181, 0.0029562910001221473, 0.005912582000244295, 0.05321323800219865, 0.010347018500427515, 0.004434436500183221, 0.19954964250824495, 0.9003283046221934, 0.07399958668127617, 0.9500457647476832, 0.021213361066298578, 0.9758146090497346, 0.04520444565625853, 0.05497837985220632, 0.058643605175686744, 0.5448968314240893, 0.058643605175686744, 0.06230883049916716, 0.07086102292062148, 0.0012217417744934738, 0.0012217417744934738, 0.013439159519428211, 0.08796540776353011, 0.05936800490208857, 0.013192889978241905, 0.013192889978241905, 0.8773271835530867, 0.02638577995648381, 0.9810149770196177, 0.010185653648127388, 0.5080094757003535, 0.07639240236095542, 0.0216445140022707, 0.0038196201180477705, 0.002546413412031847, 0.36541032462657, 0.0012732067060159235, 0.008912446942111464, 0.9729735501244705, 0.010220639522696584, 0.002555159880674146, 0.13797863355640388, 0.34558537386117827, 0.001277579940337073, 0.0019163699105056095, 0.0006387899701685365, 0.05685230734499975, 0.35516722341370627, 0.026829178747078533, 0.0006387899701685365, 0.022996438926067314, 0.03130070853825829, 0.0044715297911797555, 0.22957659671015815, 0.0259009493724281, 0.10478111337027732, 0.013735351939923993, 0.38380497706416183, 0.006671456656534511, 0.049447266983726375, 0.00941852704451931, 0.03688923092436729, 0.03257240602896261, 0.0518018987448562, 0.0015697545074198848, 0.02943289701412284, 0.001962193134274856, 0.017267299581618732, 0.0003924386268549712, 0.0031395090148397696, 0.0015697545074198848, 0.0003924386268549712, 0.9657656270963707, 0.9819277504181575, 0.7470772140910398, 0.09174632453749611, 0.06880974340312208, 0.026213235582141746, 0.0065533088955354365, 0.016383272238838592, 0.0360431989254449, 0.005668330505745692, 0.3646625958696395, 0.07557774007660922, 0.06613052256703307, 0.011336661011491384, 0.015115548015321846, 0.03023109603064369, 0.07368829657469399, 0.3419892738466567, 0.0018894435019152307, 0.0037788870038304614, 0.007557774007660923, 0.9395400689326049, 0.9907536115776341, 0.9819621863816029, 0.9814812335892893, 0.05912388457956547, 0.025338807676956628, 0.9121970763704387, 0.06306619459192482, 0.9207664410421023, 0.98607057805452, 0.066415785187014, 0.015497016543636603, 0.019924735556104203, 0.04206333061844221, 0.05534648765584501, 0.06198806617454641, 0.017710876049870403, 0.10405139679298862, 0.030994033087273207, 0.024352454568571803, 0.24352454568571805, 0.09740981827428721, 0.008855438024935202, 0.21474437210467864, 0.991751027903288, 0.9751058517011921, 0.015320338707513387, 0.009192203224508031, 0.36155999349731593, 0.10111423546958835, 0.47186643219141233, 0.006128135483005355, 0.006128135483005355, 0.030640677415026775, 0.971879437703057, 0.025200992051077176, 0.012600496025538588, 0.9576376979409327, 0.027475298074863864, 0.9616354326202352, 0.9904133147743475, 0.9892888774695913, 0.015018090491323419, 0.09332670519608124, 0.12229016542934784, 0.05470875821839245, 0.01287264899256293, 0.3475615227991991, 0.0021454414987604883, 0.06758140721095539, 0.14481730116633296, 0.03539978472954806, 0.021454414987604885, 0.0032181622481407325, 0.01287264899256293, 0.04505427147397026, 0.016090811240703662, 0.004290882997520977, 0.0010727207493802442, 0.997705124255872, 0.10303982589852487, 0.009367256899865898, 0.009367256899865898, 0.23105900353002545, 0.0031224189666219657, 0.018734513799731796, 0.009367256899865898, 0.05620354139919538, 0.43089381739383126, 0.09679498796528094, 0.03122418966621966, 0.9654192587033787, 0.006692127172234907, 0.13384254344469815, 0.08699765323905378, 0.44837252053973875, 0.3078378499228057, 0.796887913666406, 0.09504167777672733, 0.09504167777672733, 0.0073108982905174865, 0.027531124153114168, 0.9360582212058818, 0.027531124153114168, 0.9663058063375414, 0.06696395357821072, 0.08097966479225482, 0.23826709063874976, 0.27875692303487715, 0.010901108722034304, 0.031146024920098006, 0.0015573012460049003, 0.018687614952058805, 0.014015711214044104, 0.0015573012460049003, 0.20244916198063706, 0.024916819936078406, 0.031146024920098006, 0.9753518158309746, 0.10520417515275718, 0.11689352794750797, 0.04675741117900319, 0.03506805838425239, 0.0029223381986876996, 0.007305845496719248, 0.3273018782530223, 0.10082066785472563, 0.017534029192126196, 0.2089471812061705, 0.0029223381986876996, 0.004383507298031549, 0.017534029192126196, 0.004383507298031549, 0.08172409750754984, 0.012572938078084591, 0.050291752312338366, 0.01571617259760574, 0.5877848551504546, 0.03457557971473263, 0.04086204875377492, 0.012572938078084591, 0.003143234519521148, 0.10372673914419789, 0.006286469039042296, 0.050291752312338366, 0.003143234519521148, 0.9611053133881753, 0.08676236468867447, 0.248827913824123, 0.04583672096760161, 0.28647950604751005, 0.0016370257488429146, 0.288116531796353, 0.009822154493057487, 0.0016370257488429146, 0.014733231739586232, 0.008185128744214573, 0.004911077246528743, 0.0065481029953716584, 0.08596772180250804, 0.277962300494776, 0.002865590726750268, 0.020059135087251878, 0.5501934195360515, 0.011462362907001072, 0.037252679447753484, 0.011462362907001072, 0.07791524358593294, 0.048233246029387056, 0.012985873930988823, 0.027826872709261763, 0.06678449450222823, 0.04637812118210294, 0.18922273442298, 0.0018551248472841175, 0.08904599266963764, 0.13542411385174058, 0.22818035621594646, 0.05008837087667117, 0.025971747861977645, 0.07412494587163435, 0.01647221019369652, 0.26355536309914435, 0.18119431213066176, 0.00823610509684826, 0.09059715606533088, 0.03294442038739304, 0.01647221019369652, 0.31297199368023393, 0.9815475390629195, 0.8690585370965402, 0.12070257459674169, 0.006927028691352673, 0.03463514345676336, 0.009236038255136898, 0.9466939211515321, 0.0023090095637842245, 0.03287693089319701, 0.19726158535918206, 0.03586574279257856, 0.7292701034490973, 0.0029888118993815463, 0.06509711397202535, 0.8276633062157508, 0.055797526261736015, 0.046497938551446676, 0.9758894608586539, 0.9497939340370398, 0.9861964972087766, 0.9954856420393773, 0.9908655724250286, 0.9618578151962451, 0.9772922563394786, 0.2345115482122988, 0.7504369542793562, 0.06937112013614014, 0.032017440062833906, 0.010672480020944636, 0.8431259216546263, 0.03735368007330623, 0.005336240010472318, 0.014517347809353532, 0.07258673904676767, 0.871040868561212, 0.029034695618707064, 0.9603580761686792, 0.05424619052215919, 0.10397186516747178, 0.060273545024621324, 0.1461633466847067, 0.02410941800984853, 0.010547870379308731, 0.006027354502462132, 0.02561625663546406, 0.27575146848764254, 0.018082063507386396, 0.04972567464531259, 0.04068464289161939, 0.018082063507386396, 0.04369832014285046, 0.09945134929062519, 0.004520515876846599, 0.013561547630539798, 0.006027354502462132, 0.9949906487563154, 0.9861359643753764, 0.9822940559173226, 0.986699671195792, 0.00979145891729489, 0.988937350646784, 0.9528433862327936, 0.976489167709237, 0.04468885362940584, 0.9161214994028197, 0.9644826035175371, 0.21133195612668998, 0.23381407911889104, 0.3057568726939344, 0.005245828698180247, 0.15437724454644727, 0.06594756077712312, 0.0014988081994800708, 0.013489273795320637, 0.0014988081994800708, 0.003747020498700177, 0.002248212299220106, 0.045697043867143204, 0.7899060439891897, 0.16320372809694003, 0.9833714431525774, 0.19261432308130821, 0.03721700479876125, 0.02219961689750671, 0.0489697431562648, 0.3564997301776078, 0.04244044406876283, 0.026117196350007893, 0.035911144981260856, 0.020893757080006316, 0.026770126258758093, 0.09141018722502763, 0.013711528083754145, 0.0248113365325075, 0.03917579452501184, 0.0032646495437509866, 0.01762910753625533, 0.09510447812141695, 0.09942740894511772, 0.06484396235551156, 0.004322930823700771, 0.008645861647401542, 0.7003147934395249, 0.021614654118503853, 0.9683374393125816, 0.015435236311118216, 0.8695183121929929, 0.005145078770372739, 0.015435236311118216, 0.030870472622236432, 0.04116063016298191, 0.015435236311118216, 0.9811841083911033, 0.9906086631984865, 0.002937616740683802, 0.020563317184786614, 0.038189017628889425, 0.5140829296196654, 0.35251400888205625, 0.04993948459162464, 0.023500933925470417, 0.955008723175484, 0.03131176141558964, 0.2819831756273463, 0.0399661193802538, 0.03330509948354484, 0.19538991697012972, 0.0555084991392414, 0.006661019896708967, 0.004440679931139312, 0.02664407958683587, 0.05328815917367174, 0.29974589535190355, 0.029044351195619607, 0.058088702391239214, 0.9003748870642078, 0.04550030857891733, 0.011375077144729332, 0.04550030857891733, 0.07962554001310532, 0.09100061715783465, 0.7280049372626772, 0.987649919174978, 0.0038731369379410904, 0.0038731369379410904, 0.964848245397825, 0.9790470826805592, 0.014612643025082974, 0.1802003246240517, 0.8109014608082327, 0.9160550323854078, 0.08228039213042584, 0.9612857603027944, 0.02598069622439985, 0.9614524044380095, 0.017168792936393024, 0.09191992453434908, 0.0027302947881489826, 0.0764482540681715, 0.0009100982627163275, 0.5378680732653496, 0.006370687839014293, 0.08645933495805111, 0.009100982627163275, 0.0045504913135816375, 0.001820196525432655, 0.15835709771264098, 0.001820196525432655, 0.006370687839014293, 0.001820196525432655, 0.00364039305086531, 0.0045504913135816375, 0.00364039305086531, 0.01459090676513271, 0.9629998464987588, 0.9779661586813023, 0.007506190817486287, 0.06255159014571907, 0.2802311238528214, 0.6180097106397043, 0.03002476326994515, 0.9838799823242149, 0.021843979973669395, 0.0036406633289448992, 0.0036406633289448992, 0.9684164454993432, 0.9723921283913403, 0.011687405389318993, 0.0011687405389318993, 0.0011687405389318993, 0.009349924311455194, 0.0011687405389318993, 0.0011687405389318993, 0.9500810486068553, 0.9871737728594734, 0.9602523596548017, 0.9928901496597653, 0.031109520534324572, 0.004444217219189224, 0.008888434438378449, 0.004444217219189224, 0.9021760954954126, 0.04888638941108147, 0.9827480893089422, 0.48212265237849294, 0.021427673439044132, 0.058926101957371364, 0.43391038714064367, 0.7490369074242893, 0.016522872957888735, 0.02340740335700904, 0.21066663021308138, 0.9731838687842826, 0.00256168486788469, 0.000512336973576938, 0.4949175164753221, 0.000512336973576938, 0.016394783154462016, 0.004098695788615504, 0.000512336973576938, 0.007172717630077132, 0.011783750392269574, 0.02254282683738527, 0.054307719199155426, 0.010759076445115699, 0.37400599071116475, 0.006340930011962941, 0.7406206253972715, 0.0038045580071777644, 0.03550920806699247, 0.02029097603828141, 0.016486418031103647, 0.006340930011962941, 0.010145488019140706, 0.0025363720047851764, 0.08877302016748118, 0.0012681860023925882, 0.0038045580071777644, 0.017754604033496234, 0.04565469608613318, 0.002586003446119099, 0.14740219642878866, 0.06982209304521568, 0.16033221365938413, 0.007758010338357297, 0.5844367788229163, 0.005172006892238198, 0.020688027568952792, 0.977287968455852, 0.9519660082395562, 0.10088148392634556, 0.15132222588951835, 0.06725432261756371, 0.07566111294475918, 0.5968821132308779, 0.2759529595791613, 0.06203593664957891, 0.002139170229295824, 0.6545860901645223, 0.9618771428658343, 0.02197786824967002, 0.058607648665786716, 0.0366297804161167, 0.8717887739035773, 0.9776828845780327, 0.9864989304881061, 0.013678575982546163, 0.027357151965092325, 0.04103572794763849, 0.1459048104804924, 0.009119050655030774, 0.0775119305677616, 0.01823810131006155, 0.565381140611908, 0.022797626637576937, 0.04103572794763849, 0.0364762026201231, 0.012782711432033973, 0.9842687802666159, 0.0078666377282834, 0.0024842013878789686, 0.009936805551515875, 0.34033559013941866, 0.007452604163636906, 0.055480497662630295, 0.01738940971515278, 0.001656134258585979, 0.0004140335646464948, 0.5324471641353923, 0.016147309021213297, 0.001656134258585979, 0.0012421006939394843, 0.001656134258585979, 0.0028982349525254634, 0.0008280671292929895, 0.9813366093294605, 0.00952753989640253, 0.9832574437504072, 0.009832574437504071, 0.026317412657650124, 0.05263482531530025, 0.8684746177024542, 0.026317412657650124, 0.9735299021254515, 0.03215924691044584, 0.9165385369477064, 0.048238870365668755, 0.018464578390754213, 0.7847445816070541, 0.036929156781508425, 0.1477166271260337, 0.9689898082304125, 0.002538928348291231, 0.003808392522436847, 0.0977487414092124, 0.4354262117319462, 0.005077856696582462, 0.0012694641741456156, 0.2792821183120354, 0.07743731462288256, 0.0012694641741456156, 0.09013195636433871, 0.005077856696582462, 0.9976483092386692, 0.998744740606762, 0.03930435330479096, 0.07299379899461177, 0.01684472284491041, 0.6962485442562969, 0.15721741321916383, 0.011229815229940272, 0.8692607398075765, 0.12514648783221918, 0.0033823375089788964, 0.0034130879220229038, 0.09897954973866421, 0.010239263766068712, 0.27987320960587814, 0.0068261758440458075, 0.13311042895889325, 0.4641799573951149, 0.00310722862544629, 0.007768071563615725, 0.004660842938169435, 0.013982528814508304, 0.00310722862544629, 0.9679017168265193, 0.9639156891955936, 0.9714263879374312, 0.025123096239761153, 0.9678212762107335, 0.9944256759082724, 0.9829150792794984, 0.9717005728603478, 0.12734790107120403, 0.06741947703769625, 0.13733597174345533, 0.1864439858820242, 0.011652749117626513, 0.02580251590331585, 0.036622925798254755, 0.07407819081919712, 0.08989263605026168, 0.031628890462129106, 0.01747912367643977, 0.03412590813019193, 0.029131872794066285, 0.004994035336125649, 0.07574286926457234, 0.03579058657556715, 0.012485088340314122, 0.9896587047982597, 0.6515361032650854, 0.007719622076600537, 0.01698316856852118, 0.03551026155236247, 0.03087848830640215, 0.243940057620577, 0.007719622076600537, 0.004631773245960322, 0.9573884275708381, 0.9741292905975076, 0.011069651029517132, 0.5350048061152332, 0.08675753612679457, 0.09639726236310509, 0.05663339163832424, 0.042173802283858475, 0.002409931559077627, 0.025304281370315086, 0.0012049657795388136, 0.013254623574926948, 0.006024828897694068, 0.0036148973386164406, 0.025304281370315086, 0.06506815209509594, 0.03373904182708678, 0.008434760456771695, 0.8737708305715075, 0.017268198232638487, 0.006907279293055395, 0.006907279293055395, 0.010360918939583092, 0.06561915328402625, 0.017268198232638487, 0.2617818364699938, 0.07998889447694255, 0.15088814185423252, 0.025451011879027173, 0.10907576519583075, 0.023633082459096663, 0.0018179294199305125, 0.02181515303916615, 0.09816818867624767, 0.009089647099652562, 0.0054537882597915375, 0.0290868707188882, 0.016361364779374613, 0.12543712997520537, 0.04181237665840179, 0.0018179294199305125, 0.9769486667153958, 0.9786663061471514, 0.16926341881000737, 0.8270826146398087, 0.9539825915752665, 0.3862301936717483, 0.11968891715981651, 0.024616869486770773, 0.008488575685093369, 0.07894375387136834, 0.09931633551559242, 0.016128293801677403, 0.03225658760335481, 0.021221439212733423, 0.09592090524155508, 0.03734973301441082, 0.000848857568509337, 0.0076397181165840326, 0.05262916924757889, 0.0076397181165840326, 0.001697715137018674, 0.008488575685093369, 0.000848857568509337, 0.9562693488900793, 0.9975502207073613, 0.0031169933675455554, 0.015584966837727778, 0.7948333087241167, 0.12156274133427666, 0.031169933675455556, 0.021818953572818888, 0.0031169933675455554, 0.006233986735091111, 0.046334967516945026, 0.09487636205850647, 0.024270697270780725, 0.703850220852641, 0.017651416196931436, 0.028683551320013587, 0.07722494586157504, 0.006619281073849289, 0.003144514495485097, 0.015722572477425485, 0.5990300113899111, 0.03773417394582117, 0.040878688441306266, 0.0015722572477425486, 0.006289028990970194, 0.014150315229682938, 0.03144514495485097, 0.0015722572477425486, 0.003144514495485097, 0.03144514495485097, 0.06289028990970194, 0.128925094314889, 0.018867086972910584, 0.054964501709835384, 0.07852071672833626, 0.7930592389561962, 0.002617357224277875, 0.002617357224277875, 0.00523471444855575, 0.041877715588446, 0.015704143345667252, 0.3202593999223149, 0.06248963900923217, 0.6131795827780907, 0.9790812894954188, 0.3802562853406069, 0.5830596375222639, 0.03168802377838391, 0.9565256506286909, 0.8611079310762242, 0.13169886004695192, 0.021791186280533295, 0.1572078438809902, 0.12374280780731407, 0.0003891283264380946, 0.01945641632190473, 0.0011673849793142838, 0.4739583016015992, 0.2007902164420568, 0.0011673849793142838, 0.029021906130797987, 0.09673968710265995, 0.8609832152136736, 0.2033461520221053, 0.040408530209520926, 0.09863157373721775, 0.15077161271724474, 0.12079109030372921, 0.039105029235020246, 0.0047795035731691415, 0.024332018190679264, 0.0699545522982029, 0.01607651201884166, 0.035194526311518225, 0.04953303703102565, 0.014338510719507425, 0.039974029884687366, 0.04866403638135853, 0.010862508120838959, 0.027373520464514176, 0.0047795035731691415, 0.015344640952620768, 0.9667123800151084, 0.9648306253670196, 0.03100690346825394, 0.09302071040476183, 0.10658623067212293, 0.011627588800595228, 0.009689657333829357, 0.0542620810694444, 0.06201380693650788, 0.6104484120312496, 0.0019379314667658713, 0.005813794400297614, 0.009689657333829357, 0.002881549722939602, 0.9941346544141627, 0.21115050054055276, 0.02206050005647566, 0.06618150016942699, 0.050424000129087224, 0.025212000064543612, 0.02206050005647566, 0.03466650008874747, 0.12290850031465012, 0.04412100011295132, 0.009454500024203855, 0.006303000016135903, 0.01890900004840771, 0.06303000016135903, 0.2993925007664554, 0.016687630271595675, 0.8510691438513794, 0.0667505210863827, 0.061187977662517476, 0.9804905374617578, 0.018569896542836323, 0.19879381236527147, 0.3029239045566041, 0.018932744034787757, 0.018932744034787757, 0.45438585683490623, 0.3019331591359117, 0.6843818273747331, 0.9862343581768961, 0.006709077266509497, 0.26454951226727574, 0.07387685847889348, 0.12101733007971124, 0.11468502792437751, 0.008443069540444971, 0.06332302155333727, 0.021107673851112424, 0.03729022380363195, 0.018996906466001183, 0.026736386878075738, 0.028847154263186982, 0.05206559549941065, 0.017589728209260354, 0.021107673851112424, 0.016886139080889942, 0.08302351714770888, 0.013368193439037869, 0.016886139080889942, 0.061608985766491674, 0.051340821472076394, 0.1950951215938903, 0.0034227214314717595, 0.030804492883245837, 0.6537397934111061, 0.893387409444552, 0.11326522725745732, 0.1817836980675241, 0.004195008416942863, 0.0013983361389809546, 0.04334842030840959, 0.17059700895567645, 0.034958403474523864, 0.05453510942025722, 0.022373378223695273, 0.2852605723521147, 0.03216173119656195, 0.034958403474523864, 0.004195008416942863, 0.013983361389809545, 0.004195008416942863, 0.01211042602815011, 0.08477298219705076, 0.8961715260831081, 0.01211042602815011, 0.24043042919232205, 0.3314041051029304, 0.34277581459175643, 0.06498119707900596, 0.019494359123701788, 0.9859685749736531, 0.9834179863173433, 0.023104425666806, 0.023104425666806, 0.947281452339046, 0.04913548704253491, 0.9335742538081633, 0.1441357163714024, 0.01401319464721968, 0.06606220333689278, 0.016015079596822492, 0.29227520264201046, 0.0360339290928506, 0.004003769899205623, 0.040037698992056225, 0.012011309697616868, 0.04404146889126185, 0.0880829377825237, 0.01401319464721968, 0.07807351303450964, 0.1401319464721968, 0.010009424748014056, 0.021358925321003284, 0.5820307149973395, 0.37912092444780826, 0.017354126823315167, 0.03888821408736468, 0.07407278873783749, 0.09259098592229686, 0.3962894197474306, 0.0037036394368918746, 0.007407278873783749, 0.05925823099026999, 0.022221836621351247, 0.029629115495134997, 0.0018518197184459373, 0.21295926762128278, 0.061110050708715925, 0.9856473753639698, 0.9806830047053655, 0.8344749664737796, 0.15080872888080354, 0.9842226538893561, 0.0014006218417858115, 0.03921741157000272, 0.0007003109208929058, 0.0014006218417858115, 0.9083032643980987, 0.0014006218417858115, 0.0021009327626787173, 0.04131834433268144, 0.002801243683571623, 0.055337940694633235, 0.004256764668817941, 0.05959470536345118, 0.021283823344089705, 0.017027058675271763, 0.6725688176732347, 0.05959470536345118, 0.012770294006453823, 0.09790558738281264, 0.9629755594742977, 0.9604078762469933, 0.02233506688946496, 0.014890044592976642, 0.9537429231471928, 0.989810476654976, 0.9672564335318861, 0.986260897832443, 0.9842083937608074, 0.1661905169931237, 0.8252218774830969, 0.9698145704887736, 0.017014290710329363, 0.04948654133422649, 0.011286404163946393, 0.16755969258781953, 0.009984126760414117, 0.2652304978527402, 0.014325051438855036, 0.10418219228258208, 0.01779779118160777, 0.05860248315895242, 0.003906832210596828, 0.1849233913015832, 0.009115941824725932, 0.05035472626991467, 0.003472739742752736, 0.009550034292570024, 0.00434092467844092, 0.026913733006333703, 0.006945479485505472, 0.000868184935688184, 0.9833372164728507, 0.9925561082443118, 0.9641439246261347, 0.0034979021250032914, 0.9899063013759314, 0.9622699878282448, 0.996731842982457, 0.9882528869704935, 0.9578571225694602, 0.9762828218085173, 0.9616805723364643, 0.9449877484176238, 0.09198864807572063, 0.040268123053227106, 0.06686725020765234, 0.001477729286356958, 0.5456515389873068, 0.010713537326087945, 0.04987336341454733, 0.011082969647677184, 0.0458096078770657, 0.016624454471515778, 0.07721135521215106, 0.0018471616079461974, 0.011821834290855664, 0.0025860262511246766, 0.002955458572713916, 0.0018471616079461974, 0.017732751436283497, 0.0025860262511246766, 0.06351215879165949, 0.19288877855244732, 0.0023523021774688696, 0.009409208709875478, 0.6845199336434411, 0.021170719597219827, 0.004704604354937739, 0.004704604354937739, 0.0023523021774688696, 0.014113813064813218, 0.0023523021774688696, 0.9900444722206034, 0.008519404425811353, 0.00044838970662165013, 0.00044838970662165013, 0.16314390161932432, 0.04566468059679652, 0.06674068702608722, 0.028491638321078174, 0.04605497701215376, 0.006244742645715764, 0.11045388554609757, 0.019124524352504526, 0.09250025043966476, 0.0023417784921434116, 0.20958917504683533, 0.009367113968573646, 0.06517950136465829, 0.004293260568929588, 0.08547491496323452, 0.0011708892460717058, 0.04137142002786694, 0.002732074907500647, 0.991775114504488, 0.003038511047738489, 0.530979805592301, 0.010634788667084711, 0.34639025944218776, 0.0007596277619346223, 0.09343421471795854, 0.0136732997148232, 0.19874344695440374, 0.707415486012528, 0.0013898143143664596, 0.0861684874907205, 0.002779628628732919, 0.002779628628732919, 0.17109397155865888, 0.034767758926358486, 0.07776998707211767, 0.03019305380446921, 0.1280917434128997, 0.04300222814575918, 0.14364574082732323, 0.038427523023869904, 0.00914941024377855, 0.017383879463179243, 0.04483211019451489, 0.02744823073133565, 0.0731952819502284, 0.013724115365667824, 0.10704809985220902, 0.02744823073133565, 0.011894233316912113, 0.0009149410243778549, 0.9904484060522006, 0.27166694824535714, 0.7244451953209524, 0.12717548943950105, 0.8671056098147799, 0.04219426235161785, 0.9493709029114016, 0.06426402367922511, 0.002921091985419323, 0.0876327595625797, 0.0759483916209024, 0.6893777085589603, 0.05257965573754782, 0.002921091985419323, 0.002921091985419323, 0.00876327595625797, 0.005842183970838646, 0.005842183970838646, 0.1691104026274036, 0.32123591765467496, 0.04356992906120879, 0.11815573982700689, 0.07015497052228534, 0.055385503043909476, 0.004430840243512758, 0.03396977520026448, 0.000738473373918793, 0.055385503043909476, 0.007384733739187931, 0.0524316095482343, 0.002215420121756379, 0.04504687580904637, 0.009600153860944309, 0.009600153860944309, 0.001476946747837586, 0.9777921968264085, 0.13520356316811996, 0.06659279976937252, 0.09282632695124654, 0.002017963629374925, 0.11098799961562086, 0.010089818146874624, 0.04237723621687342, 0.022197599923124173, 0.0645748361399976, 0.022197599923124173, 0.3511256715112369, 0.002017963629374925, 0.018161672664374323, 0.00403592725874985, 0.002017963629374925, 0.040359272587498496, 0.010089818146874624, 0.978099495229577, 0.03593915816614144, 0.15573635205327957, 0.023959438777427625, 0.023959438777427625, 0.7427426021002564, 0.00761223799796813, 0.9838817612373808, 0.004757648748730081, 0.0019030594994920325, 0.8945533220095095, 0.006511282637683966, 0.015192992821262586, 0.028215558096630518, 0.321223276792409, 0.18665676894694036, 0.010852137729473276, 0.013022565275367931, 0.0021704275458946554, 0.37548396543977536, 0.008681710183578622, 0.006511282637683966, 0.021704275458946553, 0.18617150289235387, 0.038189026234329, 0.03699561916450622, 0.017901106047341717, 0.3496682714580749, 0.05967035349113906, 0.033415397955037875, 0.008353849488759469, 0.06325057470060741, 0.04296265451362013, 0.09069893730653138, 0.003580221209468344, 0.008353849488759469, 0.005967035349113906, 0.005967035349113906, 0.021481327256810064, 0.021481327256810064, 0.005967035349113906, 0.9961301321132078, 0.9507464471179475, 0.12710235420484825, 0.03587566449330394, 0.06662623405899303, 0.007175132898660788, 0.4694586953695201, 0.024600455652551274, 0.019475360724936424, 0.006150113913137818, 0.015375284782844546, 0.057401063189286304, 0.1322274491324631, 0.012300227826275637, 0.0010250189855229698, 0.019475360724936424, 0.0010250189855229698, 0.0010250189855229698, 0.0010250189855229698, 0.9732779832427725, 0.10907475866756178, 0.03421953213099977, 0.45554752149393446, 0.06950842464109329, 0.006416162274562457, 0.0449131359219372, 0.009624243411843685, 0.05881482085015586, 0.012832324549124915, 0.11228283980484301, 0.0074855226536562, 0.0032080811372812287, 0.009624243411843685, 0.05346801895468714, 0.011762964170031172, 0.9813094028051077, 0.9878872848936866, 0.9756260719239738, 0.9618920304077607, 0.9907998102647568, 0.979578848990261, 0.9670000896363508, 0.951008432803781, 0.077615312345334, 0.008084928369305626, 0.0452755988681115, 0.008084928369305626, 0.271653593208669, 0.025871770781778, 0.06306244128058387, 0.014552871064750126, 0.06629641262830613, 0.05497751291127825, 0.0194038280863335, 0.001616985673861125, 0.001616985673861125, 0.004850957021583375, 0.012935885390889, 0.07923229801919512, 0.24254785107916876, 0.08821062151221118, 0.017642124302442237, 0.04536546249199432, 0.0403248555484394, 0.7938955936099007, 0.007560910415332387, 0.14503160896471193, 0.016316056008530092, 0.1223704200639757, 0.009064475560294495, 0.3072857214939834, 0.014503160896471193, 0.014503160896471193, 0.005438685336176698, 0.031725664461030735, 0.010877370672353396, 0.26649558147265817, 0.002719342668088349, 0.014503160896471193, 0.009970923116323945, 0.007251580448235597, 0.005438685336176698, 0.009970923116323945, 0.006345132892206147, 0.023654590841608217, 0.1419275450496493, 0.7037240775378445, 0.023654590841608217, 0.02956823855201027, 0.0650501248144226, 0.9637390757469662, 0.019568306106537384, 0.009784153053268692, 0.9736780896742366, 0.01669041809933613, 0.0250356271490042, 0.9513538316621596, 0.9703644336177084, 0.9543336686626434, 0.9926879558654205, 0.03082134625485896, 0.08569837739155907, 0.13681670776547147, 0.018041763661380855, 0.02255220457672607, 0.08193967662877139, 0.06615313342506314, 0.12328538501943584, 0.15711369188452495, 0.0030069606102301424, 0.012779582593478106, 0.0037587007627876783, 0.06765661373017821, 0.07216705464552342, 0.04660788945856721, 0.009020881830690428, 0.03458004701764664, 0.027062645492071283, 0.004447828877275748, 0.004447828877275748, 0.002223914438637874, 0.20015229947740865, 0.4559024599207641, 0.020015229947740864, 0.011119572193189368, 0.008895657754551495, 0.23573493049561461, 0.002223914438637874, 0.04003045989548173, 0.011119572193189368, 0.002223914438637874, 0.9851621716740018, 0.9890095355265597, 0.9972385647344011, 0.002177376778896072, 0.013993157582345974, 0.004664385860781992, 0.023321929303909958, 0.03265070102547394, 0.7089866508388627, 0.09328771721563983, 0.004664385860781992, 0.08862333135485784, 0.023321929303909958, 0.004664385860781992, 0.028390323060146057, 0.014195161530073028, 0.951075822514893, 0.9434464525905736, 0.05212411340279412, 0.010354231034551542, 0.013312582758709127, 0.028104341379497043, 0.03993774827612738, 0.4703779241410558, 0.08431302413849114, 0.18045945517361262, 0.001479175862078792, 0.0724796172418608, 0.026625165517418253, 0.044375275862363756, 0.001479175862078792, 0.01627093448286671, 0.002958351724157584, 0.007395879310393959, 0.020449617667989375, 0.9611320303955007, 0.991191149121516, 0.18125260573943763, 0.77032357439261, 0.03398486357614456, 0.9755475552343041, 0.036220027526768284, 0.036220027526768284, 0.036220027526768284, 0.04829337003569105, 0.8209872906067478, 0.9281451121115729, 0.9614754456072464, 0.9787819044185726, 0.5823199007386763, 0.009004946918639324, 0.007504122432199437, 0.027014840755917972, 0.04652555907963651, 0.04502473459319662, 0.12006595891519099, 0.007504122432199437, 0.00600329794575955, 0.13357337929314997, 0.007504122432199437, 0.007504122432199437, 0.08404432728899011, 0.8964728244158946, 0.9383704222350006, 0.98879731090075, 0.979794678276708, 0.9766230641851493, 0.9743339368785514, 0.9918049305485193, 0.951535938334095, 0.8755242520282536, 0.11922032368044305, 0.9834348119798413, 0.046172386823299695, 0.11543096705824925, 0.8080167694077447, 0.9726405281914322, 0.016518346766554597, 0.0008693866719239261, 0.017387733438478523, 0.24168949479485144, 0.0017387733438478522, 0.08606928052046868, 0.0008693866719239261, 0.0008693866719239261, 0.6329134971606182, 0.9466933030258535, 0.9756724848489391, 0.9667092980778049, 0.06592174024978875, 0.07031652293310801, 0.08954369717262974, 0.4026719633591263, 0.012635000214542846, 0.05328674003524591, 0.012635000214542846, 0.03680630497279872, 0.0010986956708298127, 0.024720652593670785, 0.009338913202053408, 0.019776522074936628, 0.09503717552677879, 0.02417130475825588, 0.013184348049957752, 0.05932956622480988, 0.01043760887288322, 0.0005493478354149064, 0.0020078860950287045, 0.07629967161109076, 0.08031544380114818, 0.0020078860950287045, 0.12448893789177967, 0.04015772190057409, 0.1405520266520093, 0.05622081066080372, 0.012047316570172226, 0.0020078860950287045, 0.0020078860950287045, 0.004015772190057409, 0.4196481938609992, 0.016063088760229636, 0.010039430475143522, 0.01405520266520093, 0.011948723472113128, 0.9678466012411633, 0.9027022084806371, 0.0551651349627056, 0.010030024538673746, 0.010030024538673746, 0.010030024538673746, 0.010030024538673746, 0.9646572871707157, 0.01567137954115215, 0.9559541520102812, 0.15514099103132029, 0.4682437183854394, 0.0014103726457392752, 0.0014103726457392752, 0.038080061434960434, 0.0014103726457392752, 0.06346676905826738, 0.009872608520174927, 0.0014103726457392752, 0.004231117937217826, 0.23130111390124114, 0.022565962331828403, 0.029695863710402056, 0.2791411188777793, 0.05939172742080411, 0.3906655848124004, 0.009898621236800685, 0.031675587957762194, 0.0026396323298135157, 0.031675587957762194, 0.0059391727420804105, 0.012538253566614201, 0.04883319810155005, 0.013858069731520959, 0.025076507133228402, 0.0059391727420804105, 0.04883319810155005, 0.0006599080824533789, 0.0013198161649067579, 0.9865859956844192, 0.9680887478240467, 0.01725714297609671, 0.9664000066614157, 0.11404995115176532, 0.8667796287534164, 0.9859216302118571, 0.9806529797912281, 0.9329902237277049, 0.01131571585340148, 0.08373629731517096, 0.15163059243557983, 0.5182597860857878, 0.23084060340939022, 0.08416269387351608, 0.004675705215195338, 0.8977354013175048, 0.004675705215195338, 0.019528226714874895, 0.009764113357437447, 0.9666472223863073, 0.9865690161626012, 0.1192040440976786, 0.16324120688535604, 0.0713705741731324, 0.17918569686020477, 0.06453722132676866, 0.033407502804444954, 0.025055627103333717, 0.050111254206667434, 0.005314829991616243, 0.008351875701111238, 0.009111137128484988, 0.012907444265353733, 0.13211148836303233, 0.019740797111717473, 0.06985205131838491, 0.005314829991616243, 0.02277784282121247, 0.008351875701111238, 0.9707301197332899, 0.13246835798495354, 0.015716584845672454, 0.3143316969134491, 0.0022452264065246363, 0.500685488654994, 0.015716584845672454, 0.015716584845672454, 0.9152696897198439, 0.005230112512684822, 0.020920450050739288, 0.05230112512684822, 0.9829371450192856, 0.985541433277836, 0.01132806245146938, 0.9878509082939166, 0.9476442768800926, 0.024821731160397726, 0.9680475152555114, 0.9780392567367914, 0.9464219961145687, 0.9901617666547577, 0.962119721408903, 0.020616851173047922, 0.013744567448698614, 0.9943677324267461, 0.031029762716137024, 0.9619226442002478, 0.021183344417245207, 0.0032589760641915703, 0.9728043551611837, 0.9980067973171329, 0.9842344422062572, 0.23782420936599474, 0.2651845166381888, 0.01578479265703505, 0.07892396328517524, 0.00947087559422103, 0.1841559143320756, 0.0021046390209380067, 0.027360307272194087, 0.00631391706281402, 0.030517265803601097, 0.030517265803601097, 0.035778863355946114, 0.03367422433500811, 0.029464946293132094, 0.004209278041876013, 0.008418556083752027, 0.0010523195104690033, 0.0021046390209380067, 0.029810891465067126, 0.953948526882148, 0.9478194052163492, 0.929662044204258, 0.05342885311518724, 0.9813329709055095, 0.9982500853996857, 0.31031038039129855, 0.0059106739122152105, 0.6619954781681036, 0.020687358692753236, 0.19207078351243229, 0.003803381851731333, 0.8006118797894455, 0.940797939346212, 0.034748196060681566, 0.043435245075851954, 0.06080934310619274, 0.026061147045511174, 0.017374098030340783, 0.07818344113653351, 0.7297121172743128, 0.008687049015170391, 0.9866065558149396, 0.01024159054479176, 0.9424874494929546, 0.9692312363050769, 0.05304507333328007, 0.9442023053323852, 0.9865325103344396, 0.9817493860337531, 0.9693424615607721, 0.9792897427076381, 0.94203002226218, 0.9040058856718088, 0.02374390859227685, 0.0486460566280794, 0.00637031693939135, 0.00637031693939135, 0.00057911972176285, 0.0023164788870514, 0.00057911972176285, 0.0069494366611542, 0.9602704985977525, 0.9710737455540366, 0.09835637703240904, 0.4406365691051925, 0.03147404065037089, 0.2045812642274108, 0.007868510162592723, 0.023605530487778168, 0.18884424390222534, 0.07208790971805482, 0.001092241056334164, 0.001092241056334164, 0.004368964225336656, 0.2577688892948627, 0.17366632795713205, 0.017475856901346624, 0.00546120528167082, 0.001092241056334164, 0.36153178964660826, 0.09611721295740643, 0.004368964225336656, 0.002184482112668328, 0.9613803960605486, 0.2577397685319545, 0.7428969798862219, 0.9409203985739357, 0.9880642638027176, 0.9546351215974798, 0.9416709729024605, 0.08618055909764484, 0.9077685558285256, 0.9514974344325626, 0.06089600414362618, 0.0027680001883466443, 0.09688000659213256, 0.03598400244850638, 0.1550080105474121, 0.4733280322072762, 0.058128003955279534, 0.05259200357858625, 0.06089600414362618, 0.9656928020904403, 0.08232555952013115, 0.03293022380805246, 0.8726509309133902, 0.07491676798490672, 0.08783345212023545, 0.11754182563149157, 0.08654178370670258, 0.05941674702251222, 0.046500062887183474, 0.006458342067664372, 0.15887521486454356, 0.1007501362555642, 0.06200008384957797, 0.028416705097723236, 0.024541699857124614, 0.010333347308262995, 0.045208394473650604, 0.027125036684190362, 0.0012916684135328743, 0.042625057646584856, 0.019375026202993115, 0.0012916684135328743, 0.9695801769737419, 0.9930656110051694, 0.002336962121215696, 0.9698392803045137, 0.01168481060607848, 0.009347848484862784, 0.004673924242431392, 0.2716685088208147, 0.2919422781358009, 0.005406338483996314, 0.42574915561470966, 0.002703169241998157, 0.0006757923104995392, 0.0006757923104995392, 0.995166951924391, 0.9880022347482263, 0.16565051168751238, 0.08996536410614897, 0.00856812991487133, 0.001428021652478555, 0.07425712592888487, 0.01428021652478555, 0.17564666325486228, 0.018564281482221216, 0.2127752262193047, 0.038556584616920984, 0.00571208660991422, 0.001428021652478555, 0.02284834643965688, 0.01142417321982844, 0.012852194872306995, 0.1456582085528126, 0.9935829002359579, 0.007179287701347476, 0.9739900314828076, 0.01675167130314411, 0.9693216466336478, 0.09372799366008402, 0.026414252758750954, 0.05282850551750191, 0.0051124360178227655, 0.35020186722085944, 0.014485235383831169, 0.07583446759770435, 0.0025562180089113828, 0.10736115637427807, 0.10565701103500381, 0.06475752289242169, 0.009372799366008404, 0.016189380723105423, 0.0017041453392742552, 0.0034082906785485104, 0.0025562180089113828, 0.06134923221387319, 0.0051124360178227655, 0.9944073477627683, 0.9887034107524009, 0.016764266940313754, 0.955563215597884, 0.965601976121986, 0.9559540200090032, 0.1510978834536126, 0.07173333860929083, 0.08165390671483105, 0.023656739328595914, 0.24877732326200863, 0.02289361870509282, 0.0770751829738125, 0.006104964988024752, 0.02670922182260829, 0.04197163429267017, 0.15949221031214664, 0.04960284052770111, 0.012209929976049505, 0.000763120623503094, 0.005341844364521658, 0.000763120623503094, 0.009157447482037128, 0.009157447482037128, 0.001526241247006188, 0.9889006447791766, 0.905561966320999, 0.09151956042605841, 0.009344204161944604, 0.13081885826722447, 0.850322578736959, 0.010196979935391086, 0.005098489967695543, 0.005098489967695543, 0.8234061297828301, 0.04333716472541211, 0.04333716472541211, 0.010196979935391086, 0.020393959870782172, 0.0356894297738688, 0.6426825805127386, 0.017138202147006364, 0.0012241572962147403, 0.16281292039656048, 0.03427640429401273, 0.03427640429401273, 0.004896629184858961, 0.019586516739435844, 0.0024483145924294805, 0.0012241572962147403, 0.05631123562587806, 0.004896629184858961, 0.004896629184858961, 0.014689887554576885, 0.08171388567212906, 0.0020428471418032263, 0.0040856942836064525, 0.008171388567212905, 0.10622805137376777, 0.09805666280655487, 0.36566963838277755, 0.014299929992622586, 0.17568485419507748, 0.006128541425409679, 0.010214235709016133, 0.006128541425409679, 0.03268555426885162, 0.08171388567212906, 0.0020428471418032263, 0.044590801430423856, 0.029239869790441873, 0.10307054101130761, 0.14400635871792622, 0.040935817706618624, 0.040204820961857575, 0.06725170051801631, 0.0021929902342831403, 0.15058532942077565, 0.019005915363787217, 0.01827491861902617, 0.09137459309513085, 0.006578970702849422, 0.0014619934895220936, 0.0007309967447610468, 0.2200300201730751, 0.011695947916176749, 0.008771960937132561, 0.9892267739214337, 0.043299414362650036, 0.05123764032913588, 0.02670130552363419, 0.5773255248353338, 0.05195929723518005, 0.007216569060441673, 0.04690769889287088, 0.009381539778574175, 0.008659882872530007, 0.017319765745060015, 0.0036082845302208367, 0.011546510496706677, 0.050515983423091715, 0.017319765745060015, 0.0036082845302208367, 0.0396911298324292, 0.011546510496706677, 0.023093020993413354, 0.29928777132542506, 0.01413303364592285, 0.0008313549203484029, 0.3641334551126005, 0.08313549203484029, 0.005819484442438821, 0.01413303364592285, 0.01413303364592285, 0.1138956240877312, 0.015795743486619655, 0.010807613964529238, 0.004156774601742014, 0.041567746017420144, 0.010807613964529238, 0.005819484442438821, 0.9828923088506081, 0.0051550545136771885, 0.0051550545136771885, 0.17011679895134724, 0.036085381595740325, 0.16496174443767003, 0.04124043610941751, 0.030930327082063135, 0.12887636284192971, 0.015465163541031567, 0.0051550545136771885, 0.015465163541031567, 0.015465163541031567, 0.35569876144372603, 0.0051550545136771885, 0.13229200276873626, 0.14188831385040623, 0.0438688506590628, 0.00891086029012213, 0.14120286305885837, 0.04523975224215851, 0.03221618720274924, 0.06237602203085492, 0.06237602203085492, 0.028788933245009963, 0.15079917414052837, 0.004798155540834993, 0.01782172058024426, 0.017136269788696406, 0.0329016379942971, 0.053465161740732785, 0.01645081899714855, 0.0075399587070264186, 0.08838298746255514, 0.04708252603145461, 0.11688030585001451, 0.13794354117987578, 0.21352338559878975, 0.004543050757421059, 0.04419149373127757, 0.0313883506876364, 0.07310181673304794, 0.016520184572440214, 0.05121257217456466, 0.01941121687261725, 0.0466695214171436, 0.0033040369144880424, 0.012803143043641165, 0.009086101514842118, 0.06690674751838287, 0.01775919841537323, 0.9843121454065943, 0.935977338783782, 0.023399433469594548, 0.035099150204391825, 0.11538473016995428, 0.02066592182148435, 0.06888640607161449, 0.0413318436429687, 0.13432849183964826, 0.025832402276855435, 0.3633757920277665, 0.06716424591982413, 0.017221601517903622, 0.04994264440192051, 0.04994264440192051, 0.013777281214322899, 0.010332960910742175, 0.005166480455371087, 0.0017221601517903623, 0.015499441366113262, 0.09468342613476555, 0.06775511227992397, 0.08860283913528519, 0.0460387301389227, 0.22498171898077318, 0.000868655285640051, 0.06775511227992397, 0.025191003283561476, 0.08599687327836504, 0.003474621142560204, 0.11813711884704692, 0.000868655285640051, 0.07470435456504437, 0.007817897570760459, 0.061674525280443614, 0.023453692712281374, 0.005211931713840306, 0.003474621142560204, 0.9498663784670704, 0.6868620846510476, 0.026185358065875713, 0.10071291563798351, 0.0020142583127596703, 0.010071291563798351, 0.0040285166255193405, 0.0020142583127596703, 0.09668439901246417, 0.008057033251038681, 0.014099808189317694, 0.048342199506232086, 0.0020142583127596703, 0.008324843230503724, 0.005549895487002483, 0.11238538361180027, 0.027749477435012413, 0.013874738717506207, 0.040236742280768, 0.0541114809982742, 0.1748217078405782, 0.23725803206935614, 0.0027749477435012413, 0.0013874738717506207, 0.0013874738717506207, 0.09712317102254345, 0.12209770071405461, 0.03746179453726676, 0.008324843230503724, 0.02219958194800993, 0.03191189905026427, 0.9835504889562249, 0.996189560562497, 0.030987840818656586, 0.9296352245596976, 0.9762744370801885, 0.8403503128100135, 0.11753151228112077, 0.027913734166766183, 0.007345719517570048, 0.0014691439035140095, 0.002938287807028019, 0.9823562150619329, 0.01583072328055408, 0.555394541759439, 0.25461079942891146, 0.04353448902152372, 0.019788404100692603, 0.002638453880092347, 0.0013192269400461734, 0.02638453880092347, 0.01583072328055408, 0.00791536164027704, 0.002638453880092347, 0.011873042460415562, 0.011873042460415562, 0.021107631040738775, 0.009234588580323215, 0.13255808409811462, 0.1285411724587778, 0.028118381475357643, 0.15665955393413544, 0.0642705862293889, 0.008033823278673613, 0.04820293967204168, 0.004016911639336806, 0.004016911639336806, 0.40169116393368065, 0.020084558196684033, 0.9846271809027015, 0.01805051235611378, 0.04746616212163253, 0.06150544950972102, 0.6351106199373366, 0.014039287388088493, 0.0006685374946708806, 0.015376362377430255, 0.002005612484012642, 0.13170188645016348, 0.05749422454169573, 0.0026741499786835225, 0.0013370749893417612, 0.008022449936050568, 0.004011224968025284, 0.06250882057706009, 0.9063778983673711, 0.9852938287234867, 0.4675546725323535, 0.0008547617413754178, 0.017949996568883773, 0.17266187175783437, 0.047011895775647974, 0.023933328758511698, 0.035045231396392124, 0.0008547617413754178, 0.1205214055339339, 0.020514281793010024, 0.006838093931003342, 0.052140466223900485, 0.023933328758511698, 0.010257140896505012, 0.0017095234827508355, 0.910504225672695, 0.9644957715984104, 0.02170134875264273, 0.005425337188160683, 0.8626286129175486, 0.04340269750528546, 0.05967870906976751, 0.15195135971703483, 0.025325226619505804, 0.8104072518241857, 0.012662613309752902, 0.9742548191016851, 0.972120519487996, 0.32398193311230417, 0.10992244159167462, 0.04628313330175774, 0.005785391662719718, 0.014463479156799294, 0.005785391662719718, 0.15620557489343237, 0.002892695831359859, 0.002892695831359859, 0.3037330622927851, 0.002892695831359859, 0.011570783325439435, 0.008678087494079575, 0.9865399401005228, 0.009134629075004841, 0.006302428426067988, 0.9831788344666061, 0.043265181184993125, 0.03172779953566162, 0.008653036236998625, 0.002884345412332875, 0.05480256283432462, 0.8566505874628638, 0.00020986263266029853, 0.007974780041091345, 0.9916009393199107, 0.2765557091971425, 0.7039599870472718, 0.09349529941754917, 0.03873376690155608, 0.10551612362837692, 0.31788401801966715, 0.00400694140360925, 0.06010412105413875, 0.016027765614437, 0.013356471345364166, 0.02003470701804625, 0.23908083708201858, 0.030719884094337582, 0.00400694140360925, 0.0240416484216555, 0.02003470701804625, 0.01202082421082775, 0.9602096986054233, 0.9603196083939596, 0.9732082986515516, 0.9788470939544778, 0.41833449009426, 0.11906026884959534, 0.08388337123494218, 0.011906026884959535, 0.08225982211426587, 0.0568242192236705, 0.026517968971046236, 0.005411830402254333, 0.0129883929654104, 0.004329464321803467, 0.07251852739020807, 0.010282477764283234, 0.0048706473620289, 0.0048706473620289, 0.032470982413526, 0.0016235491206763, 0.02218850464924277, 0.029223884172173403, 0.020909116985919313, 0.03484852830986552, 0.03833338114085207, 0.013939411323946209, 0.8851526190705842, 0.0034848528309865522, 0.008304140383902894, 0.008304140383902894, 0.12456210575854341, 0.05812898268732026, 0.7390684941673576, 0.05812898268732026, 0.9257984048994299, 0.009351499039388181, 0.06078474375602318, 0.16979529191090653, 0.14308592014964033, 0.09729842570175543, 0.059142180328518, 0.38537807826969794, 0.0057234368059856135, 0.01907812268661871, 0.05532655579119426, 0.01907812268661871, 0.01717031041795684, 0.022893747223942454, 0.003815624537323742, 0.9567940930090647, 0.8418010179086627, 0.03954769882792375, 0.001883223753710655, 0.005649671261131964, 0.016949013783395892, 0.00753289501484262, 0.045197370089055715, 0.013182566275974583, 0.020715461290817205, 0.00376644750742131, 0.9555473007554952, 0.06413953491173598, 0.8613023259575974, 0.009162790701676568, 0.06413953491173598, 0.08900763289391285, 0.8900763289391285, 0.9780589931042273, 0.976057349488629, 0.9814772515903483, 0.8292924913975516, 0.06353450538932855, 0.0200635280176827, 0.0869419547432917, 0.9804773087008032, 0.9422278672174937, 0.048497022577371, 0.9713580269138489, 0.019026845975784697, 0.007610738390313879, 0.041859061146726335, 0.125577183440179, 0.11416107585470818, 0.21690604412394557, 0.007610738390313879, 0.33106711997865373, 0.13318792183049288, 0.012125773992707405, 0.9336845974384702, 0.04850309597082962, 0.07390407475948146, 0.8930075700104011, 0.03079336448311728, 0.016615843785878, 0.972026861473863, 0.06849892636909279, 0.017124731592273196, 0.9076107743904793, 0.145518659063475, 0.081490449075546, 0.0669385831691985, 0.058207463625390005, 0.011641492725078001, 0.13678753951966652, 0.029103731812695002, 0.0320141049939645, 0.017462239087617, 0.35797590129614854, 0.029103731812695002, 0.0058207463625390005, 0.023282985450156002, 0.05121896097919934, 0.019207110367199753, 0.003201185061199959, 0.9219412976255881, 0.9588077602882217, 0.9787290956689374, 0.010755264787570742, 0.008066448590678055, 0.971264193479951, 0.9707825783614735, 0.0686373368862139, 0.8922853795207808, 0.003726422612212501, 0.0018632113061062504, 0.7434213111363939, 0.022358535673275004, 0.0018632113061062504, 0.007452845224425002, 0.013042479142743754, 0.06334918440761252, 0.14346727057018127, 0.00764645691776105, 0.11469685376641574, 0.2141007936973094, 0.0015292913835522099, 0.09022819162958039, 0.0152929138355221, 0.20339575401244392, 0.0015292913835522099, 0.218688667847966, 0.013763622451969888, 0.11928472791707237, 0.9152280549206637, 0.07292653824069034, 0.007292653824069034, 0.9326142008668955, 0.05730195066984887, 0.20792422100202304, 0.026195177449073768, 0.25540298012846924, 0.0016371985905671105, 0.019646383086805327, 0.15062227033217415, 0.0016371985905671105, 0.0016371985905671105, 0.2685005688530061, 0.0016371985905671105, 0.004911595771701332, 0.045089869416061794, 0.817766268045848, 0.006148618556735699, 0.0266440137458547, 0.0840311202753879, 0.0163963161512952, 0.07761642098288465, 0.04762825833040649, 0.019404105245721164, 0.1975690715927973, 0.11113260277094848, 0.03528019135585666, 0.06703236357612766, 0.02998816265247816, 0.03704420092364949, 0.09172849752522731, 0.022932124381306828, 0.19051303332162595, 0.03880821049144233, 0.024696133949099662, 0.003528019135585666, 0.003528019135585666, 0.9939482138535284, 0.038725645779612856, 0.9487783216005149, 0.009681411444903214, 0.8698953606476819, 0.011650384294388597, 0.05048499860901725, 0.031067691451702923, 0.03495115288316579, 0.9923960078699268, 0.9545334501977113, 0.05099527150226716, 0.8159243440362746, 0.005666141278029685, 0.07932597789241559, 0.005666141278029685, 0.028330706390148425, 0.005666141278029685, 0.9498057068031222, 0.2475589130625026, 0.030944864132812826, 0.6675249262935338, 0.004420694876116117, 0.013262084628348353, 0.01768277950446447, 0.008841389752232235, 0.9300620614157004, 0.05135311995546812, 0.011411804434548471, 0.9923563549552559, 0.004900525209655585, 0.03335147611960925, 0.933841331349059, 0.015658340057042662, 0.976036530222326, 0.06859655459601953, 0.04115793275761172, 0.7682814114754187, 0.04115793275761172, 0.05487724367681562, 0.013719310919203904, 0.9823299148182364, 0.05226902317363564, 0.034846015449090426, 0.008711503862272606, 0.008711503862272606, 0.6446512858081729, 0.2613451158681782, 0.007211552228682458, 0.9879826553294967, 0.9737876033692336, 0.9518070526515824, 0.9531339656256863, 0.18780718334872912, 0.011047481373454654, 0.05523740686727328, 0.7401812520214619, 0.9868522863857954, 0.989407577850181, 0.969117228882319, 0.024227930722057974, 0.004411168165683229, 0.11248478822492233, 0.8800280490538042, 0.34214948294469993, 0.051473816018229195, 0.001513935765242035, 0.26039695162163, 0.06358530214016547, 0.1165730539236367, 0.001513935765242035, 0.022709036478630526, 0.12868454004557298, 0.007569678826210175, 0.001513935765242035, 0.05540777755412711, 0.935006246225895, 0.988417036511361, 0.9593624889713911, 0.9883868233824821, 0.1125885890100572, 0.1584580141623027, 0.21225034002266338, 0.08673491301515518, 0.07839501753292871, 0.013343832771562335, 0.029189634187792607, 0.027521655091347314, 0.1088356360430553, 0.0050039372893358755, 0.029189634187792607, 0.02251771780201144, 0.031274608058349224, 0.0029189634187792605, 0.012509843223339688, 0.04211647218524362, 0.01542880664211895, 0.011675853675117042, 0.9664463251365061, 0.011713303843566017, 0.02928325960891504, 0.7672214017535741, 0.011713303843566017, 0.011713303843566017, 0.16984290573170724, 0.9568573908186989, 0.06422649641897944, 0.9312841980752018, 0.07508972796522113, 0.1379051734745888, 0.12057677471338393, 0.10144333441455355, 0.014801340608529166, 0.050902171361039326, 0.08519796057592398, 0.03573982244498506, 0.02924167290953323, 0.027436631371907723, 0.013718315685953861, 0.021299490143980995, 0.1548725639282686, 0.018772431991305284, 0.060288387356691966, 0.006498149535451829, 0.03321276429230935, 0.00902520768812754, 0.003610083075251016, 0.02801128885692299, 0.10582042457059795, 0.014005644428461495, 0.15250590599880293, 0.02023037528555549, 0.11515752085623895, 0.05135402957102548, 0.034236019714016984, 0.021786557999828992, 0.18674192571281992, 0.19141047385564042, 0.029567471571196487, 0.04824166414247848, 0.14903122101671867, 0.2273357608729607, 0.04294119927600369, 0.11871978623365725, 0.010103811594353808, 0.005051905797176904, 0.03536334058023833, 0.34100364130944105, 0.012629764492942262, 0.005051905797176904, 0.047993105073180595, 0.06484146472255994, 0.045389025305791954, 0.09077805061158391, 0.03242073236127997, 0.6873195260591354, 0.07132561119481594, 0.9970644901442786, 0.02714993405079074, 0.9502476917776759, 0.058300191924079675, 0.0027761996154323657, 0.5552399230864731, 0.23597696731175108, 0.005552399230864731, 0.019433397308026557, 0.08328598846297097, 0.03609059500062075, 0.008248456026558267, 0.016496912053116534, 0.008248456026558267, 0.7836033225230354, 0.0247453680796748, 0.03299382410623307, 0.10722992834525748, 0.008248456026558267, 0.9828703307911268, 0.973063830560784, 0.9736730948907216, 0.07859331027347118, 0.9094368760215951, 0.9879160619741558, 0.98655134961021, 0.9974039167280395, 0.06418052672139338, 0.13370943066956953, 0.27276723856592183, 0.048135395041045026, 0.4706571959568847, 0.010696754453565561, 0.006002136392892636, 0.042014954750248454, 0.03001068196446318, 0.9183268681125732, 0.03240131068162862, 0.23828463897114383, 0.11272956007983291, 0.11610469660916922, 0.03780152912856673, 0.0837033859275406, 0.02565103762295599, 0.010125409588008944, 0.015525628034947047, 0.01620065534081431, 0.0020250819176017886, 0.03982661104616851, 0.005400218446938104, 0.12893021542064723, 0.016875682646681572, 0.09720393204488587, 0.007425300364539892, 0.013500546117345259, 0.9667242905490174, 0.013327731360354032, 0.039983194081062094, 0.9062857325040742, 0.026655462720708064, 0.9846357069759476, 0.9907890890220128, 0.9783056695796356, 0.0829353843892812, 0.9122892282820934, 0.12167966331849667, 0.146015595982196, 0.038937492261918935, 0.004867186532739867, 0.073007797991098, 0.019468746130959468, 0.5986639435270036, 0.9762556135992875, 0.04529762120968606, 0.9361508383335121, 0.08171569660712028, 0.9063013623698793, 0.07601823541107182, 0.04446349618383446, 0.06310947845447472, 0.2639123644459852, 0.01577736961361868, 0.034423351884258935, 0.4675838630945172, 0.002868612657021578, 0.010040144299575523, 0.021514594927661838, 0.07510448087346328, 0.06437526932011138, 0.7403155971812808, 0.10729211553351896, 0.005364605776675948, 0.14960775587526712, 0.027201410159139475, 0.08160423047741842, 0.013600705079569737, 0.7208373692171961, 0.9847996863575212, 0.03270550989534702, 0.9484597869650635, 0.9945171410767824, 0.09297593512516052, 0.0026313943903347316, 0.14384956000496532, 0.04911936195291499, 0.24822820415490968, 0.021928286586122763, 0.01929689219578803, 0.042102310245355705, 0.09297593512516052, 0.042102310245355705, 0.042102310245355705, 0.0008771314634449104, 0.11841274756506291, 0.023682549513012584, 0.009648446097894016, 0.008771314634449105, 0.03245386414746169, 0.008771314634449105, 0.0008771314634449104, 0.9504407748413577, 0.060410249797047566, 0.07928845285862493, 0.05411751544318844, 0.15228417136339073, 0.16235254632956533, 0.031463671769295605, 0.022653843673892837, 0.0025170937415436487, 0.04908332796010115, 0.022653843673892837, 0.03775640612315473, 0.0025170937415436487, 0.0012585468707718244, 0.0025170937415436487, 0.15731835884647805, 0.0025170937415436487, 0.16235254632956533, 0.9813335975400592, 0.9973177350338713, 0.9918762131305464, 0.981949687764982, 0.9481453510127337, 0.9830578181651968, 0.9685048178067696, 0.04072174181152686, 0.9467804971179995, 0.9584387103685851, 0.9924043609427332, 0.10259770337440477, 0.0444590047955754, 0.15731647850742064, 0.003419923445813492, 0.6856946508856052, 0.006839846891626984, 0.9584642872144489, 0.9507649588212167, 0.010961906007295385, 0.05115556136737846, 0.18635240212402154, 0.10596509140385539, 0.014615874676393848, 0.007307937338196924, 0.5480953003647693, 0.01826984334549231, 0.04019365536008308, 0.010961906007295385, 0.9722448666326868, 0.013138444143684957, 0.9907677742665826, 0.9797202145662839, 0.12616010796286367, 0.09748735615312193, 0.08028370506727689, 0.005734550361948349, 0.6021277880045767, 0.07454915470532854, 0.005734550361948349, 0.023997870222372014, 0.04799574044474403, 0.9119190684501365, 0.9744738174565131, 0.9539344758356115, 0.9490076911766354, 0.03318208710407816, 0.006636417420815633, 0.9687850089085377, 0.009139481216118281, 0.018278962432236562, 0.02301198059799585, 0.9703385152154915, 0.017533224667558363, 0.11542706239475924, 0.026299837001337548, 0.005844408222519455, 0.15049351172987596, 0.07743840894838278, 0.0014611020556298637, 0.0482163678357855, 0.017533224667558363, 0.010227714389409046, 0.04237195961326605, 0.4485583310783682, 0.005844408222519455, 0.026299837001337548, 0.0014611020556298637, 0.0029222041112597274, 0.9799857912773767, 0.13102731117027447, 0.8385747914897566, 0.3067023553506149, 0.004201402128090615, 0.05041682553708738, 0.621807514957411, 0.00840280425618123, 0.09033033679327522, 0.03011011226442507, 0.8129730311394769, 0.9765893182238566, 0.32383305794518036, 0.1070077422132664, 0.022478650443049395, 0.007961188698579993, 0.2290012513885657, 0.09998316394981345, 0.004917204784417055, 0.003980594349289997, 0.007492883481016465, 0.07492883481016464, 0.07094824046087465, 0.00936610435127058, 0.0032781365229447032, 0.013580851309342343, 0.013815003918124107, 0.0025756786965994097, 0.003512289131726468, 0.0007024578263452936, 0.0007024578263452936, 0.06101647604467625, 0.01968273420796008, 0.025587554470348103, 0.007873093683184031, 0.007873093683184031, 0.1515570534012926, 0.51765590966935, 0.0747943899902483, 0.033460648153532134, 0.025587554470348103, 0.001968273420796008, 0.033460648153532134, 0.02165100762875609, 0.0059048202623880235, 0.00984136710398004, 0.974618695169707, 0.9099507833452645, 0.08028977500105275, 0.006690814583421062, 0.9882311316976614, 0.0147408122671491, 0.950782391231117, 0.02211121840072365, 0.519732564096881, 0.04289856084609176, 0.2359420846535047, 0.0775473984525505, 0.04289856084609176, 0.0016499446479266062, 0.04784839478987158, 0.004949833943779819, 0.0016499446479266062, 0.024749169718899094, 0.9781381185133771, 0.016875841117254407, 0.03375168223450881, 0.009643337781288234, 0.014465006671932349, 0.2193859345243073, 0.4797560546190896, 0.0072325033359661745, 0.08196837114094999, 0.0072325033359661745, 0.019286675562576468, 0.04580585446111911, 0.012054172226610291, 0.031340847789186756, 0.004821668890644117, 0.012054172226610291, 0.9689165697296791, 0.2650447961973869, 0.45155780092888137, 0.28222362558055086, 0.02359131790219483, 0.9436527160877931, 0.08467712970196199, 0.0508062778211772, 0.84677129701962, 0.05424380487319569, 0.940225951135392, 0.04803989217708562, 0.9333464765833777, 0.00686284173958366, 0.0611359873375459, 0.926445346576657, 0.0047027682567343, 0.9823099158663706, 0.9935932627674213, 0.12112140542368593, 0.010093450451973828, 0.8629900136437623, 0.005046725225986914, 0.9614363443670788, 0.015022442880735606, 0.9703688607869596, 0.9887492029010893, 0.1825166203370928, 0.007604859180712199, 0.007604859180712199, 0.7756956364326443, 0.015209718361424398, 0.9936748579618181, 0.21630570697882737, 0.02821378786680357, 0.0846413636004107, 0.6677263128476845, 0.03063943080784709, 0.035426841871573196, 0.04117173514804452, 0.03159691302059231, 0.0009574822127452216, 0.8138598808334383, 0.0009574822127452216, 0.0009574822127452216, 0.02489453753137576, 0.0009574822127452216, 0.0009574822127452216, 0.010532304340197437, 0.0028724466382356647, 0.0028724466382356647, 0.0009574822127452216, 0.0015446816530721883, 0.9654260331701178, 0.0015446816530721883, 0.0015446816530721883, 0.02008086148993845, 0.007723408265360942, 0.992003032285625, 0.9655129734236972, 0.9924275859056225, 0.9682053907592038, 0.9880214937820935, 0.9768057706118939, 0.2954292064428242, 0.07359446423842596, 0.038374256352893536, 0.05519584817881947, 0.06518366832546299, 0.039951280586574094, 0.12511058920532414, 0.019449965548726862, 0.1335213851182871, 0.008936470657523152, 0.05572152292337965, 0.0047310727010416685, 0.0068337716792824105, 0.04836207649953706, 0.016295917081365748, 0.0047310727010416685, 0.0021026989782407415, 0.0057824221901620395, 0.12266212913218488, 0.24787971928795696, 0.5468686590476576, 0.025554610235871852, 0.017888227165110297, 0.03577645433022059, 0.00841140354090677, 0.6252476632074032, 0.002803801180302257, 0.002803801180302257, 0.07009502950755642, 0.26916491330901665, 0.022430409442418055, 0.9725777598343905, 0.9876728743063473, 0.06312647507995782, 0.003156323753997891, 0.009468971261993673, 0.318788699153787, 0.003156323753997891, 0.46082326808369206, 0.09468971261993672, 0.044188532555970474, 0.821962346741848, 0.10763792635905153, 0.002446316508160262, 0.002446316508160262, 0.034248431114243666, 0.029355798097923144, 0.18834143833432967, 0.09625184003273754, 0.045264378826206306, 0.14307705950812338, 0.024973450386872445, 0.012486725193436223, 0.02393288995408609, 0.026014010819658796, 0.016128686708188452, 0.007804203245897638, 0.13319173539665302, 0.18001695487203886, 0.023412609737692915, 0.015608406491795276, 0.016648966924581628, 0.0150881262754021, 0.026014010819658796, 0.005723082380324935, 0.0005202802163931759, 0.18095767092859136, 0.01247983937438561, 0.006239919687192805, 0.006239919687192805, 0.705110924652787, 0.06239919687192805, 0.018719759061578415, 0.09787015713437121, 0.017717873274325825, 0.08690194986931236, 0.0008437082511583725, 0.001687416502316745, 0.09618274063205447, 0.13921186144113146, 0.07509003435309515, 0.27420518162647106, 0.03796687130212676, 0.021936414530117684, 0.03290462179517653, 0.027842372288226294, 0.0008437082511583725, 0.018561581525484195, 0.06918407659498654, 0.9721161681675392, 0.9928914017971404, 0.3775162353895571, 0.22158561642430524, 0.11489624555334346, 0.28724061388335864, 0.005923916839304858, 0.9330169021905151, 0.01332881288843593, 0.03258154261617672, 0.004442937629478644, 0.005923916839304858, 0.004442937629478644, 0.08861604990488486, 0.02351038058701027, 0.12116888456382216, 0.032552834658937296, 0.06510566931787459, 0.0036169816287708106, 0.08861604990488486, 0.005425472443156216, 0.09404152234804108, 0.26042267727149837, 0.014467926515083242, 0.05063774280279135, 0.07595661420418702, 0.05968019687471838, 0.014467926515083242, 0.9661439354862167, 0.02797058069804841, 0.9509997437336459, 0.9567085539336443, 0.0037968011020595646, 0.0012656003673531882, 0.14301284151091026, 0.053155215428833905, 0.012656003673531882, 0.0025312007347063764, 0.016452804775591447, 0.0037968011020595646, 0.006328001836765941, 0.0012656003673531882, 0.7036738042483727, 0.015187204408238258, 0.03417120991853608, 0.0025312007347063764, 0.9882839700092328, 0.9882204721754927, 0.9916620805250996, 0.003079695902251862, 0.003079695902251862, 0.011259558053963122, 0.8500966330742156, 0.011259558053963122, 0.02533400562141702, 0.059112679783306386, 0.008444668540472341, 0.01970422659443546, 0.005629779026981561, 0.008444668540472341, 0.10215428366419789, 0.11577485481942427, 0.08464212075033539, 0.07004865165544999, 0.1128561610004472, 0.0058373876379541655, 0.10410007954351595, 0.046699101103633324, 0.11382905894010623, 0.006810285577613193, 0.06810285577613193, 0.0029186938189770827, 0.013620571155226385, 0.0038915917586361103, 0.11577485481942427, 0.0019457958793180552, 0.012647673215567359, 0.018485060853521525, 0.011626349256724322, 0.8138444479707024, 0.0290658731418108, 0.023252698513448643, 0.1162634925672432, 0.10869155403663454, 0.0322208164140221, 0.38278329899858254, 0.04553875386515123, 0.040383423238907694, 0.036516925269225044, 0.005155330626243536, 0.040383423238907694, 0.15337108613074518, 0.015036380993210313, 0.05327174980451654, 0.0042961088552029465, 0.02663587490225827, 0.020191711619453847, 0.02319898781809591, 0.0034368870841623572, 0.0030072761986420626, 0.006014552397284125, 0.9144075479757938, 0.9755950061038177, 0.19439691565261585, 0.2037952398190273, 0.2794764817906564, 0.0039571891226995596, 0.07024010692791717, 0.0385825939463207, 0.03660399938497092, 0.0004946486403374449, 0.17114842955675594, 0.9723349077049493, 0.290536960561291, 0.003058283795382011, 0.14679762217833653, 0.009174851386146033, 0.009174851386146033, 0.3669940554458413, 0.08869023006607832, 0.07339881108916826, 0.006116567590764022, 0.028944783010715725, 0.955177839353619, 0.9869954043845865, 0.9282264097949974, 0.0059122701260827856, 0.017736810378248355, 0.017736810378248355, 0.023649080504331142, 0.9741795251600618, 0.9705622421125152, 0.10705186391042201, 0.2791352339346518, 0.06703247553269416, 0.23711487613803756, 0.0030014541283295893, 0.062030051985478174, 0.007003392966102375, 0.055026659019375805, 0.031015025992739087, 0.005002423547215982, 0.01600775535109114, 0.0830402308837853, 0.005002423547215982, 0.03801841895884146, 0.0020009694188863926, 0.0020009694188863926, 0.02014212461616737, 0.02014212461616737, 0.060426373848502114, 0.8862534831113644, 0.994674750899245, 0.9850934390493622, 0.011680000496027807, 0.6754933620202748, 0.2958933458993711, 0.013626667245365775, 0.02277783326727847, 0.5900543474952138, 0.11714314251743214, 0.013015904724159127, 0.14751358687380345, 0.015185222178185648, 0.0021693174540265213, 0.009761928543119346, 0.015185222178185648, 0.0010846587270132606, 0.060740888712742594, 0.0010846587270132606, 0.0043386349080530425, 0.9892416190841189, 0.9499773327042894, 0.02499940349221814, 0.11728622168675983, 0.8679180404820227, 0.9962772985139406, 0.9905595899532084, 0.9866793002859859, 0.951404507041125, 0.986494864560022, 0.3209245042850619, 0.18263521789313525, 0.09977834587771926, 0.09627735128551858, 0.012253481072702365, 0.021589466651904168, 0.009919484677901914, 0.018671971158403605, 0.04376243240250845, 0.014587477467502816, 0.0741043855349143, 0.006418490085701239, 0.004667992789600901, 0.029758454033705743, 0.027424457638905293, 0.006418490085701239, 0.028007956737605408, 0.003500994592200676, 0.9647325555463976, 0.9743840976368658, 0.9809027893661585, 0.9690807104325083, 0.09724530831141125, 0.012155663538926406, 0.04862265415570562, 0.004051887846308802, 0.07698586907986724, 0.008103775692617604, 0.01620755138523521, 0.2269057193932929, 0.02025943923154401, 0.02025943923154401, 0.07698586907986724, 0.02025943923154401, 0.35656613047517455, 0.004051887846308802, 0.23111959927963588, 0.00770398664265453, 0.7472867043374893, 0.8975281739666913, 0.9817262454357034, 0.0030300192760361216, 0.012120077104144486, 0.9461366527282155, 0.8892558073323085, 0.08284991993779271, 0.005523327995852848, 0.016569983987558545, 0.01898793558954059, 0.18841874546544124, 0.0058424417198586435, 0.0014606104299646609, 0.3023463590026848, 0.027751598169328557, 0.09786089880763228, 0.040897092039010506, 0.09932150923759694, 0.12415188654699617, 0.0058424417198586435, 0.08763662579787965, 0.0014606104299646609, 0.9608841419734225, 0.970829054978894, 0.9929818214758727, 0.9677060056331764, 0.3051310160069618, 0.06760016411536349, 0.1401618081657995, 0.05581664926956618, 0.05705701925333432, 0.021086289724058335, 0.01426425481333358, 0.00930277487826103, 0.020466104732174265, 0.005581664926956618, 0.09612867374203064, 0.0831047889124652, 0.0012403699837681373, 0.01364406982144951, 0.006201849918840686, 0.08806626884753775, 0.0018605549756522059, 0.01364406982144951, 0.026570188673682136, 0.9565267922525569, 0.02986528413077232, 0.18914679949489135, 0.05973056826154464, 0.6769464402975058, 0.039820378841029756, 0.513555509587851, 0.10053732198280681, 0.04891004853217629, 0.007245933115877968, 0.05615598164805426, 0.046192823613722046, 0.030795215742481365, 0.00452870819742373, 0.02807799082402713, 0.00452870819742373, 0.030795215742481365, 0.00905741639484746, 0.010868899673816953, 0.03622966557938984, 0.030795215742481365, 0.019020574429179666, 0.01358612459227119, 0.008151674755362714, 0.979565430217007, 0.05387438828829457, 0.9158646009010077, 0.014121986400434893, 0.014121986400434893, 0.12003688440369659, 0.12003688440369659, 0.014121986400434893, 0.6990383268215272, 0.007060993200217447, 0.033500737804874246, 0.04466765040649899, 0.011166912601624748, 0.14516986382112174, 0.7593500569104829, 0.13767431859109236, 0.8432552013704407, 0.9580053416011595, 0.9847338834959106, 0.9696700462371909, 0.9726129641599187, 0.9473926194174868, 0.9629754030072993, 0.010280876188690028, 0.020561752377380057, 0.005140438094345014, 0.8726792356003381, 0.0030728142098603453, 0.02765532788874311, 0.08911161208595002, 0.006145628419720691, 0.0030728142098603453, 0.1141285445487783, 0.1587875402417785, 0.03473477442788905, 0.014886331897666734, 0.669884935395003, 0.11999007986525735, 0.01846001228696267, 0.041535027645666, 0.007691671786234445, 0.44150196052985713, 0.01692167792971578, 0.04461169636015978, 0.01538334357246889, 0.043073362002912896, 0.01692167792971578, 0.15075676701019514, 0.010768340500728224, 0.0030766687144937782, 0.007691671786234445, 0.03230502150218467, 0.0030766687144937782, 0.01846001228696267, 0.009230006143481335, 0.08901735530473846, 0.8308286495108923, 0.07912653804865641, 0.04816178842065138, 0.05733546240553736, 0.03669469593954391, 0.011467092481107471, 0.18003335195338732, 0.027521021954657932, 0.13301827278084669, 0.09059003060074902, 0.02981444045087943, 0.001146709248110747, 0.001146709248110747, 0.35203973916999937, 0.002293418496221494, 0.010320383232996725, 0.019494057217882704, 0.09438159544907813, 0.8808948908580626, 0.9668507509715057, 0.9787768659565009, 0.02576658498486367, 0.11337297393340014, 0.005153316996972733, 0.709439973249913, 0.0017177723323242445, 0.006871089329296978, 0.04809762530507885, 0.0017177723323242445, 0.005153316996972733, 0.05668648696670007, 0.017177723323242446, 0.005153316996972733, 0.9616475584415228, 0.030483191890933563, 0.1608835127577049, 0.13717436350920104, 0.06435340510308196, 0.19644723663046074, 0.00508053198182226, 0.0016935106606074202, 0.3895074519397066, 0.011854574624251941, 0.9875757031651522, 0.029473449030739896, 0.05894689806147979, 0.041754052793548185, 0.7736780370569223, 0.017192845267931606, 0.009824483010246632, 0.01228060376280829, 0.05649077730891813, 0.04338800711226937, 0.9111481493576566, 0.0624475529174185, 0.014050699406419162, 0.05776398644861211, 0.14675174935593346, 0.16704720405409448, 0.017173077052290087, 0.014050699406419162, 0.07962062996970859, 0.017173077052290087, 0.11708916172015968, 0.029662587635773785, 0.0015611888229354624, 0.0015611888229354624, 0.2732080440137059, 0.9906198655856574, 0.1260855211745754, 0.8668379580752058, 0.1104601142754242, 0.8714075681727909, 0.04413601562085919, 0.941568333244996, 0.9356022192009772, 0.042742182823747865, 0.0183180783530348, 0.9342219960047747, 0.959802797284136, 0.01573447208662518, 0.1686283226564986, 0.11022534261449177, 0.034959530306835074, 0.004112885918451185, 0.1710960542075693, 0.19824110126934713, 0.04935463102141422, 0.0012338657755353556, 0.03290308734760948, 0.03660468467421555, 0.11721724867585878, 0.016862832265649857, 0.01069350338797308, 0.001645154367380474, 0.00534675169398654, 0.00822577183690237, 0.02549989269439735, 0.006169328877676778, 0.001645154367380474, 0.9918104461268488, 0.984075230488437, 0.020751868136854115, 0.06917289378951372, 0.006917289378951371, 0.01729322344737843, 0.18330816854221135, 0.0968420513053192, 0.0242105128263298, 0.010375934068427057, 0.5222553481108285, 0.0242105128263298, 0.0242105128263298, 0.9833498854370996, 0.38558964718365324, 0.6110112870756351, 0.9809703484968391, 0.9796592453294205, 0.03899011869602029, 0.057185507420829756, 0.03639077744961894, 0.049387483681625696, 0.0025993412464013527, 0.0025993412464013527, 0.11437101484165951, 0.05198682492802705, 0.23394071217612172, 0.09877496736325139, 0.3067222670753596, 0.007798023739204058, 0.9756647835513489, 0.981201100738843, 0.009141991518139807, 0.7953532620781633, 0.10970389821767769, 0.018283983036279615, 0.06399394062697865, 0.0638721279046006, 0.8183616387776953, 0.07984015988075076, 0.0319360639523003, 0.05981848004193322, 0.07690947433962843, 0.034181988595390414, 0.7690947433962843, 0.042727485744238014, 0.9896431910797049, 0.976536361904987, 0.2266225076982761, 0.11490718700194281, 0.0031918663056095223, 0.014363398375242852, 0.11809905330755233, 0.046282061431338076, 0.019151197833657135, 0.031918663056095226, 0.007979665764023806, 0.028726796750485704, 0.019151197833657135, 0.009575598916828567, 0.015959331528047613, 0.33195409578339036, 0.009575598916828567, 0.0015959331528047611, 0.005135345818555527, 0.020541383274222107, 0.340986962352087, 0.20798150565149884, 0.097571570552555, 0.011811295382677712, 0.12941071462759926, 0.0056488804004110795, 0.07240837604163293, 0.005135345818555527, 0.016946641201233237, 0.019000779528655448, 0.006675949564122184, 0.0010270691637111052, 0.023622590765355424, 0.0056488804004110795, 0.019514314110511, 0.011811295382677712, 0.3161942831864288, 0.08592235956152956, 0.0034368943824611823, 0.01374757752984473, 0.5808351506359398, 0.937214436858168, 0.9851847397811425, 0.014236945705162023, 0.9681123079510175, 0.07323755064773792, 0.03797502626179003, 0.14647510129547583, 0.05696253939268505, 0.2034376406881609, 0.46655032264484897, 0.010850007503368581, 0.007782327810393797, 0.04280280295716588, 0.07198653224614263, 0.02334698343118139, 0.015564655620787593, 0.7821239449445766, 0.0019455819525984492, 0.05058513076755968, 0.0019455819525984492, 0.9564780872364351, 0.028389264110383377, 0.9652349797530348, 0.02288099370998155, 0.9740765893677861, 0.7008066466986883, 0.28810939919834966, 0.9572698908232632, 0.28565009944977166, 0.04654790600646924, 0.02946917790337621, 0.002679016173034201, 0.4373493902478333, 0.02946917790337621, 0.023106514492419985, 0.005358032346068402, 0.0036836472379220262, 0.04587815196321069, 0.04018524259551302, 0.0006697540432585502, 0.011050941713766079, 0.02277163747079071, 0.0020092621297756507, 0.01172069575702463, 0.0010046310648878253, 0.9268684906567954, 0.006179626546613249, 0.8589680899792417, 0.074155518559359, 0.04943701237290599, 0.006179626546613249, 0.38449812957164364, 0.055538618715904084, 0.4913031655637669, 0.029905410077794507, 0.012816604319054788, 0.02136100719842465, 0.13437313635578516, 0.0862394755716233, 0.08022276797360307, 0.008022276797360308, 0.234651596322789, 0.024066830392080924, 0.4311973778581165, 0.04603617243809966, 0.1297383041437354, 0.10881277121732646, 0.020925532926408936, 0.1297383041437354, 0.24692128853162543, 0.31388299389613405, 0.9876721139925646, 0.008563631046178306, 0.9936638128466883, 0.7458860479557416, 0.13371626630018899, 0.006267949982821358, 0.012535899965642716, 0.041786333218809056, 0.027161116592225885, 0.03133974991410679, 0.01213115453441392, 0.01213115453441392, 0.23655751342107142, 0.04245904087044872, 0.6854102311943865, 0.00606557726720696, 0.9934111999684748, 0.9990365687193515, 0.9159706067840937, 0.0801724819942314, 0.014691124093730749, 0.8594307594832489, 0.007345562046865374, 0.03672781023432687, 0.04407337228119225, 0.014691124093730749, 0.018363905117163435, 0.007345562046865374, 0.009626756054023557, 0.009626756054023557, 0.04043237542689894, 0.06931264358896962, 0.005776053632414134, 0.2214153892425418, 0.021178863318851826, 0.023104214529656535, 0.01347745847563298, 0.11167037022667325, 0.005776053632414134, 0.46786034422554484, 0.3726772771159122, 0.16637378442674652, 0.45253669364075055, 0.015480612894012834, 0.9597979994287957, 0.007740306447006417, 0.0038701532235032084, 0.011610459670509625, 0.893261835112111, 0.01701451114499259, 0.036155836183109254, 0.0489167195418537, 0.002126813893124074, 0.9796286964586022, 0.14283551354806018, 0.011217448707962843, 0.1136701469073568, 0.01346093844955541, 0.41205428253916837, 0.006730469224777705, 0.03290451621002433, 0.005982639310913516, 0.033652346123888524, 0.021687067502061494, 0.1204006161321345, 0.002991319655456758, 0.016452258105012166, 0.009721788880234462, 0.010469618794098651, 0.0007478299138641895, 0.03589583586548109, 0.008973958966370273, 0.0007478299138641895, 0.06549777105068796, 0.9169687947096316, 0.0013304774041376366, 0.0545495735696431, 0.07849816684412056, 0.03858384471999146, 0.013304774041376366, 0.021287638466202186, 0.006652387020688183, 0.006652387020688183, 0.00399143221241291, 0.6386291539860656, 0.013304774041376366, 0.11841248896824966, 0.00399143221241291, 0.06482440563472511, 0.06482440563472511, 0.8427172732514264, 0.05879484164729723, 0.04850574435902021, 0.07349355205912153, 0.42773247298408734, 0.04630093779724657, 0.04703587331783778, 0.036746776029560765, 0.02351793665891889, 0.005144548644138508, 0.027927549782466185, 0.004409613123547292, 0.0859874559091722, 0.04262626019429049, 0.008084290726503369, 0.06393939029143574, 0.19470886007648025, 0.08653727114510233, 0.7031153280539565, 0.9790867455418708, 0.05819192124146965, 0.9243042373935761, 0.009473103457913664, 0.006766502469938332, 0.10008944722170836, 0.009857294044562188, 0.23354204351731953, 0.2942023145607791, 0.04852821683476769, 0.009099040656518943, 0.006824280492389207, 0.0318466422978163, 0.034879655849989276, 0.031088388909773054, 0.029571882133686563, 0.012890307596735168, 0.009099040656518943, 0.0015165067760864904, 0.007582533880432452, 0.07127581847606505, 0.0022747601641297356, 0.06748455153584883, 0.4792712533373694, 0.5044960561445994, 0.024784671190445265, 0.9666021764273653, 0.9882365708546369, 0.04324581161400133, 0.03603817634500111, 0.08649162322800266, 0.07207635269000222, 0.07928398795900245, 0.057661082152001775, 0.014415270538000444, 0.064868717421002, 0.03603817634500111, 0.07928398795900245, 0.43245811614001334, 0.009536225541426297, 0.12158687565318528, 0.128739044809255, 0.007152169156069722, 0.007152169156069722, 0.019072451082852594, 0.12158687565318528, 0.002384056385356574, 0.5793257016416474, 0.004768112770713148, 0.002384056385356574, 0.9761306966109232, 0.9770979155532368, 0.01073733973135425, 0.9917907961093618, 0.9688486705880499, 0.9710875746083208, 0.06836516960315656, 0.1367303392063131, 0.11260145581696375, 0.0321718445191325, 0.05227924734359031, 0.550942837390144, 0.004021480564891562, 0.004021480564891562, 0.036193325084024064, 0.9911671761973292, 0.9818182696441163, 0.936004276141374, 0.016774270181745054, 0.04361310247253714, 0.10476340530029372, 0.08270795155286347, 0.10476340530029372, 0.084545906031816, 0.084545906031816, 0.007351817915810087, 0.0514627254106706, 0.058814543326480694, 0.042272953015908, 0.009189772394762609, 0.03308318062114539, 0.0018379544789525217, 0.058814543326480694, 0.0018379544789525217, 0.031245226142192866, 0.0018379544789525217, 0.24444794570068537, 0.9530466373121147, 0.029327142056272962, 0.020162410163687663, 0.3189326698619685, 0.018329463785170603, 0.08064964065475065, 0.0018329463785170602, 0.021995356542204723, 0.0018329463785170602, 0.4820648975499868, 0.018329463785170603, 0.0018329463785170602, 0.0036658927570341203, 0.02915177043488828, 0.30062763260978537, 0.04554964130451294, 0.018219856521805175, 0.023685813478346727, 0.02004184217398569, 0.034617727391429834, 0.07105744043504018, 0.00728794260872207, 0.04008368434797138, 0.023685813478346727, 0.01457588521744414, 0.2787638047836192, 0.06012552652195708, 0.027329784782707763, 0.003643971304361035, 0.9839482712664952, 0.04274399162494978, 0.9546158129572118, 0.9501276154010426, 0.035189911681520095, 0.05791883830107743, 0.17375651490323227, 0.7529448979140065, 0.17906884714080856, 0.026528718094934605, 0.09948269285600476, 0.683114490944566, 0.9788657658621374, 0.014620570452338232, 0.4313068283439778, 0.5190302510580073, 0.0031329793826439067, 0.010443264608813023, 0.009398938147931721, 0.008354611687050418, 0.0020886529217626045, 0.9742261356106625, 0.015463906914454961, 0.9716279787168393, 0.22918785628272925, 0.020104197919537655, 0.7478761626068007, 0.11516975019078696, 0.007677983346052464, 0.07422050567850715, 0.04606790007631478, 0.09981378349868203, 0.02559327782017488, 0.058864538986402225, 0.020474622256139902, 0.002559327782017488, 0.005118655564034976, 0.35062790613639583, 0.017915294474122417, 0.007677983346052464, 0.1254070613188569, 0.007677983346052464, 0.028152605602192366, 0.10739800722487325, 0.013887673348043954, 0.010184293788565568, 0.42125942489066664, 0.03981133026439267, 0.08517772986800293, 0.048143934273219044, 0.08147435030852454, 0.015739363127783148, 0.010184293788565568, 0.0009258448898695971, 0.02777534669608791, 0.029627036475827106, 0.10647216233500366, 0.02415029042857048, 0.052325629261902706, 0.09257611330952016, 0.060375726071426196, 0.008050096809523493, 0.37030445323808064, 0.01207514521428524, 0.10062621011904366, 0.008050096809523493, 0.2656531947142753, 0.011509057376462068, 0.04603622950584827, 0.02915627868703724, 0.0038363524588206892, 0.8716192786440606, 0.013810868851754482, 0.0007672704917641379, 0.0015345409835282758, 0.021483573769395862, 0.9889921237222629, 0.0016685622476677537, 0.02669699596268406, 0.46386030485163554, 0.010011373486006522, 0.00834281123833877, 0.01334849798134203, 0.038376931696358335, 0.05839967866837138, 0.01835418472434529, 0.015017060229009784, 0.0016685622476677537, 0.010011373486006522, 0.1485020400424301, 0.18521040949112066, 0.9540925491394353, 0.9888724786702426, 0.032827876549535694, 0.032827876549535694, 0.8863526668374637, 0.032827876549535694, 0.034403114097528546, 0.9632871947307994, 0.910687857425458, 0.02543820830797369, 0.03561349163116316, 0.015262924984784213, 0.010175283323189475, 0.9845506670998473, 0.9733742518024902, 0.25181232982403673, 0.032342868050793706, 0.023102048607709792, 0.006930614582312937, 0.5082450693696154, 0.03696327777233566, 0.023102048607709792, 0.011551024303854896, 0.009240819443083916, 0.05775512151927448, 0.009240819443083916, 0.002310204860770979, 0.011551024303854896, 0.016171434025396853, 0.002310204860770979, 0.04880299163265129, 0.04810580603789913, 0.09412005529154177, 0.034162094142855905, 0.2879376506326426, 0.0034859279737608066, 0.08435945696501151, 0.04601424925364265, 0.020218382247812677, 0.04531706365889048, 0.20497256485713541, 0.015338083084547548, 0.006971855947521613, 0.00557748475801729, 0.01603526867929971, 0.034859279737608065, 0.002788742379008645, 0.0013943711895043225, 0.12207543067626139, 0.13913400614193985, 0.022389380298702962, 0.02878634609833238, 0.009595448699444127, 0.4515191693571764, 0.001066160966604903, 0.010661609666049031, 0.001066160966604903, 0.06663506041280644, 0.004264643866419612, 0.0037315633831171606, 0.03198482899814709, 0.08849136022820694, 0.009595448699444127, 0.002132321933209806, 0.006396965799629418, 0.001066160966604903, 0.0005330804833024515, 0.9657944337103401, 0.979101452344579, 0.9685028373428806, 0.9930544650430216, 0.10541516017090533, 0.10541516017090533, 0.7800721852646995, 0.9552274830760413, 0.03604632011607703, 0.9893328556806339, 0.10023882875612392, 0.05325187777669083, 0.039155792482860906, 0.014096085293829927, 0.405654010122439, 0.04072202418217534, 0.026625938888345416, 0.01252985359451549, 0.0172285486924588, 0.11276868235063942, 0.10650375555338167, 0.009397390195886618, 0.014096085293829927, 0.0031324633986288724, 0.006264926797257745, 0.02505970718903098, 0.010963621895201054, 0.23142472968863478, 0.02225237785467642, 0.02225237785467642, 0.04895523128028813, 0.004450475570935284, 0.6631208600693573, 0.010205864721414678, 0.08504887267845565, 0.2755583474781963, 0.105460602121285, 0.006803909814276452, 0.006803909814276452, 0.05783323342134984, 0.06463714323562629, 0.003401954907138226, 0.15308797082122017, 0.23133293368539937, 0.003401954907138226, 0.1943361420576964, 0.030033767408916716, 0.0035333844010490252, 0.014133537604196101, 0.18550268105507384, 0.1943361420576964, 0.028267075208392202, 0.2968042896881181, 0.05123407381521087, 0.9745986286572749, 0.10304112463181504, 0.8758495593704279, 0.9621197126569178, 0.9911883960868537, 0.9729809540505081, 0.03949278994594841, 0.016708488054055098, 0.7321355674595053, 0.012151627675676435, 0.0030379069189191087, 0.11088360254054747, 0.0015189534594595544, 0.010632674216216881, 0.016708488054055098, 0.010632674216216881, 0.04708755724324618, 0.9725184975978763, 0.9798517287037567, 0.027303311693383608, 0.11831435067132896, 0.054606623386767215, 0.0030337012992648453, 0.06977512988309144, 0.07280883118235629, 0.5430325325684073, 0.048539220788237525, 0.0030337012992648453, 0.012134805197059381, 0.033370714291913295, 0.0030337012992648453, 0.006067402598529691, 0.9333351093395097, 0.13562803747096377, 0.08803925239343263, 0.10945420567832165, 0.02220809970284787, 0.13880062314279917, 0.023794392538765575, 0.04758878507753115, 0.011897196269382787, 0.07138317761629673, 0.023001246120806722, 0.18242367613053606, 0.027760124628559837, 0.007931464179588526, 0.011897196269382787, 0.02538068537468328, 0.04124361373386033, 0.02538068537468328, 0.00634517134367082, 0.0007931464179588525, 0.13703851061147998, 0.008564906913217499, 0.5353066820760937, 0.22697003320026374, 0.004282453456608749, 0.05138944147930499, 0.02997717419626125, 0.14341547751888892, 0.026890402034791674, 0.8246389957336113, 0.982219333748858, 0.002939146584797111, 0.002939146584797111, 0.43499369454997244, 0.008817439754391334, 0.002939146584797111, 0.002939146584797111, 0.44675028088916086, 0.029391465847971112, 0.017634879508782668, 0.020574026093579778, 0.011756586339188444, 0.014695732923985556, 0.9579932950774044, 0.9795563857271965, 0.012328594156933157, 0.012328594156933157, 0.03698578247079947, 0.9246445617699868, 0.9280046891457499, 0.9816007235706442, 0.04748010007119937, 0.23050822776501628, 0.34576234164752445, 0.17690166316850087, 0.0007658080656645059, 0.006892272590980553, 0.09074825578124396, 0.017230681477451385, 0.00038290403283225297, 0.00038290403283225297, 0.009189696787974072, 0.0049777524268192885, 0.018762297608780395, 0.01416744921479336, 0.00382904032832253, 0.001914520164161265, 0.03063232262658024, 0.14257115267027762, 0.06069860955269245, 0.050111642770246094, 0.0028231911419856954, 0.33595974589629773, 0.028231911419856953, 0.04234786712978543, 0.045876856057267545, 0.0148217534954249, 0.06563919405116742, 0.09245950990003152, 0.006352180069467814, 0.008469573425957087, 0.07057977854964238, 0.004234786712978543, 0.011292764567942782, 0.016939146851914173, 0.0007057977854964239, 0.1040667098951947, 0.8325336791615576, 0.05203335494759735, 0.03465779000509609, 0.9357603301375945, 0.018262360937284408, 0.009131180468642204, 0.15979565820123856, 0.08674621445210094, 0.6757073546795231, 0.041090312108889915, 0.02392010852035269, 0.3324895084329024, 0.1315605968619398, 0.026312119372387963, 0.44012999677448955, 0.014352065112211616, 0.004784021704070538, 0.004784021704070538, 0.019136086816282153, 0.002392010852035269, 0.008641014088150375, 0.9634730708287668, 0.025923042264451125, 0.9771632584759703, 0.9564176781533913, 0.9656722519065654, 0.9940390989638601, 0.8169519950053242, 0.006641886138254668, 0.02656754455301867, 0.04649320296778268, 0.009962829207382002, 0.03653037376040068, 0.04317225989865534, 0.003320943069127334, 0.006641886138254668, 0.036213766739008536, 0.0008622325414049652, 0.0008622325414049652, 0.0017244650828099305, 0.9200021216790979, 0.03793823182181847, 0.0017244650828099305, 0.6805222815292273, 0.04232913712861223, 0.11070697402867814, 0.12373132391440497, 0.004884131207147565, 0.008140218678579276, 0.027676743507169536, 0.1075431413919717, 0.881853759414168, 0.9506514952684068, 0.03752571691848974, 0.2067927109928841, 0.027646084357337446, 0.125513222982312, 0.014375963865815472, 0.40197406655568646, 0.014375963865815472, 0.012717198804375225, 0.0027646084357337447, 0.023775632547310202, 0.02101102411157646, 0.09676129525068106, 0.006635060245760987, 0.005529216871467489, 0.006082138558614238, 0.01050551205578823, 0.0033175301228804935, 0.018799337362989464, 0.001105843374293498, 0.9868054995731814, 0.9773954797815986, 0.9436869901698364, 0.04112409196099068, 0.01644963678439627, 0.05757372874538695, 0.8882803863573987, 0.040238150048684446, 0.020119075024342223, 0.18880978099767315, 0.08511916356452479, 0.003095242311437265, 0.003095242311437265, 0.18726215984195452, 0.08976202703168068, 0.017023832712904956, 0.020119075024342223, 0.19809550793198497, 0.0015476211557186325, 0.08511916356452479, 0.004642863467155897, 0.05571436160587077, 0.9862823028706961, 0.9661094476518681, 0.027877221427087043, 0.009503598213779675, 0.34022881605331234, 0.3155194606974852, 0.05575444285417409, 0.007602878571023739, 0.012671464285039565, 0.0031678660712598913, 0.05765516249693002, 0.0012671464285039565, 0.030411514284094956, 0.05195300356866222, 0.04181583214063057, 0.0019007196427559348, 0.017106476784803412, 0.023442208927323196, 0.0019007196427559348, 0.9585656143135329, 0.016714870726129823, 0.9694625021155296, 0.21793092666599695, 0.12217339828245284, 0.05283173979781745, 0.013207934949454362, 0.07924760969672617, 0.01650991868681795, 0.006603967474727181, 0.0033019837373635904, 0.04622777232309026, 0.4424658208067211, 0.0033019837373635904, 0.02577854276384832, 0.9280275394985394, 0.03866781414577248, 0.9311312427488613, 0.9790547150590557, 0.015540551032683425, 0.28872368861376013, 0.04326571594953972, 0.09338540670296692, 0.00856746850485935, 0.2073327378175963, 0.011566082481560123, 0.013279576182531994, 0.016278190159232767, 0.07882071024470604, 0.0021418671262148376, 0.12165805276900278, 0.008995841930102319, 0.02784427264079289, 0.0017134937009718701, 0.05311830473012798, 0.0008567468504859351, 0.007282348229130448, 0.01413632303301793, 0.9391096233046826, 0.25102315019727606, 0.18826736264795704, 0.5438834920940981, 0.006972865283257668, 0.7559921960525959, 0.2267976588157788, 0.14087221555426502, 0.06768162311545693, 0.11490136017275246, 0.02177354542086405, 0.22639240600247804, 0.03567713466551218, 0.05246637450810615, 0.062172653792105785, 0.02597085538151254, 0.04879372829253872, 0.05850000757653835, 0.012854261754486005, 0.023609868528647767, 0.013903589244648129, 0.032529152195025814, 0.016002244224972376, 0.032529152195025814, 0.012329598009404944, 0.0007869956176215922, 0.09613437350071383, 0.01068159705563487, 0.06943038086162664, 0.16556475436234047, 0.11215676908416612, 0.5394206513095609, 0.016190220720317512, 0.9714132432190508, 0.08662235925522438, 0.038498826335655274, 0.06416471055942546, 0.12832942111885093, 0.05133176844754037, 0.016041177639856366, 0.0834141237272531, 0.10587177242305201, 0.0032082355279712733, 0.4170706186362655, 0.9494066113517717, 0.986537213601877, 0.9898255052351285, 0.009472838216854072, 0.08051912484325961, 0.009472838216854072, 0.8620282777337206, 0.03315493375898925, 0.09103662580750888, 0.8800207161392525, 0.9520891460158567, 0.959009592736225, 0.020404459419919682, 0.0025442133254788054, 0.15774122617968592, 0.012721066627394027, 0.012721066627394027, 0.012721066627394027, 0.005088426650957611, 0.391808852123736, 0.012721066627394027, 0.015265279952872832, 0.3587340788925115, 0.005088426650957611, 0.012721066627394027, 0.9335983213933209, 0.5126788009361903, 0.014647965741034009, 0.0537092077171247, 0.043943897223102026, 0.058591862964136036, 0.3076072805617142, 0.954930135197596, 0.9767083258480135, 0.9502953499379411, 0.052122329464867174, 0.005791369940540797, 0.04633095952432638, 0.06949643928648956, 0.03474821964324478, 0.07528780922703036, 0.028956849702703985, 0.683381652983814, 0.052371973358829836, 0.10474394671765967, 0.8155064423017788, 0.014963420959665666, 0.9741450912681493, 0.5108002582434568, 0.0526279053947804, 0.09493661365332935, 0.01444687599072403, 0.06501094195825814, 0.017542635131593466, 0.04437254768579524, 0.00619151828173887, 0.01031919713623145, 0.04437254768579524, 0.01238303656347774, 0.003095759140869435, 0.011351116849854596, 0.01031919713623145, 0.040244868831302655, 0.03818102940405637, 0.01444687599072403, 0.007223437995362015, 0.9739312055291293, 0.9581340493764686, 0.8940026016732366, 0.03438471544897064, 0.015043313008924655, 0.045129939026773966, 0.00429808943112133, 0.00429808943112133, 0.17858375901742002, 0.04784339432562181, 0.21553212295205865, 0.056843636822520964, 0.1643728498117898, 0.02415854564957141, 0.014684606179151249, 0.0118424243380252, 0.06773866721350415, 0.030316606305344513, 0.0767389097104033, 0.03505357604055459, 0.01657939407323528, 0.00473696973521008, 0.02179006078196637, 0.012789818285067216, 0.01894787894084032, 0.001421090920563024, 0.9656239968237778, 0.03439706706323687, 0.18727292067762297, 0.7758449570930095, 0.28034779627273637, 0.7161826056043014, 0.2643748953892143, 0.7293100562461085, 0.11990043843324617, 0.032443648046643084, 0.09309916395993233, 0.00705296696666154, 0.3173835134997693, 0.015516527326655387, 0.023980087686649235, 0.004231780179996924, 0.2327479098998308, 0.02539068107998154, 0.04654958197996616, 0.01269534053999077, 0.005642373573329231, 0.004231780179996924, 0.057834329126624624, 0.0014105933933323078, 0.9915118073752482, 0.9805524613550012, 0.022046543731082963, 0.9259548367054845, 0.022046543731082963, 0.04047561563551964, 0.14166465472431874, 0.04047561563551964, 0.7690366970748732, 0.969060825809615, 0.16807166805007107, 0.1490958345605469, 0.027108333556463072, 0.05692750046857246, 0.0027108333556463073, 0.07319250060245029, 0.04066250033469461, 0.05150583375727984, 0.010843333422585229, 0.3307216693888495, 0.07319250060245029, 0.0027108333556463073, 0.008132500066938922, 0.040910362967973034, 0.23779148475134326, 0.030682772225979777, 0.552289900067636, 0.02301207916948483, 0.11250349816192584, 0.0025568976854983146, 0.14491665804684475, 0.8115332850623307, 0.026084998448432057, 0.008694999482810686, 0.0028983331609368952, 0.9171384454082215, 0.984165654700791, 0.9441107866816408, 0.028242630370818318, 0.02017330740772737, 0.004034661481545474, 0.02189367862779698, 0.9414281809952701, 0.02189367862779698, 0.05052466706533333, 0.14860196195686273, 0.2799120592496542, 0.12995917036591087, 0.004863336936770053, 0.046742071670067734, 0.0005403707707522281, 0.032422246245133686, 0.09591581180852049, 0.0024316684683850266, 0.007835376175907308, 0.028909836235244204, 0.016211123122566843, 0.07538172251993583, 0.01783223543482353, 0.04593151551393939, 0.004322966166017825, 0.010807415415044562, 0.00027018538537611404, 0.02690398570452993, 0.13451992852264966, 0.05380797140905986, 0.7353756092571514, 0.03587198093937324, 0.15576771569927178, 0.09934791316252767, 0.62675041513644, 0.001226517446450959, 0.002453034892901918, 0.004906069785803836, 0.06009935487609699, 0.001226517446450959, 0.024530348929019178, 0.001226517446450959, 0.02207731403611726, 0.007564879634580003, 0.9304801950533403, 0.04538927780748002, 0.015129759269160006, 0.037805275935761655, 0.9577336570392952, 0.02775052314095137, 0.9435177867923467, 0.9670296519047639, 0.9885227415665837, 0.9634312186444671, 0.14640075647288167, 0.08540044127584764, 0.11285058311451296, 0.1677508667918436, 0.007625039399629253, 0.004575023639777552, 0.013725070919332658, 0.03355017335836872, 0.03355017335836872, 0.025925133958739462, 0.004575023639777552, 0.20282604803013815, 0.15555080375243677, 0.004575023639777552, 0.14086595080175388, 0.8451957048105232, 0.007829296818226313, 0.08612226500048943, 0.003914648409113156, 0.6733195263674628, 0.019573242045565778, 0.19181777204654463, 0.003914648409113156, 0.003914648409113156, 0.03932636270350131, 0.026217575135667536, 0.9176151297483638, 0.008100318537275211, 0.016200637074550422, 0.036451433417738446, 0.5265207049228887, 0.12150477805912815, 0.10125398171594013, 0.016200637074550422, 0.008100318537275211, 0.153906052208229, 0.008100318537275211, 0.9825880754630274, 0.9787883369040543, 0.9937815151422571, 0.06039673816677087, 0.010715550319910961, 0.25619906673968934, 0.5844845629042342, 0.0019482818763474474, 0.004870704690868618, 0.002922422814521171, 0.0019482818763474474, 0.04578462409416501, 0.0038965637526948947, 0.006818986567216066, 0.004870704690868618, 0.013637973134432132, 0.0009741409381737237, 0.9685239439148369, 0.00988289738688609, 0.01976579477377218, 0.9911598221432961, 0.004697439915371072, 0.020611737459233864, 0.8368365408448949, 0.06801873361547175, 0.022672911205157253, 0.012367042475540319, 0.03916230117254434, 0.9840419369911705, 0.003927145015321068, 0.9935676888762303, 0.04209113008033557, 0.9260048617673825, 0.031568347560251675, 0.025799710336093875, 0.9610392100194969, 0.006449927584023469, 0.9868303429975889, 0.9703309905903829, 0.9835891541935381, 0.9798009621981959, 0.9793618734356414, 0.9915825127901746, 0.9769354391762239, 0.12463993113115658, 0.003894997847848643, 0.3622347998499238, 0.06621496341342693, 0.4401347568068967, 0.9823818926922656, 0.9875669655025978, 0.9893647642066196, 0.0798502843480476, 0.03422155043487754, 0.8669459443502311, 0.9626287795252084, 0.9630400250933564, 0.13339739641586154, 0.08311995825304443, 0.13461378604883292, 0.05757577596064541, 0.27652590989549414, 0.02594964550338948, 0.011758433118723358, 0.008920190641790135, 0.06365772412550232, 0.020273160549523033, 0.0835254214640349, 0.027571498347351325, 0.022300476604475334, 0.002432779265942764, 0.015813065228627965, 0.0036491688989141458, 0.027571498347351325, 0.0008109264219809212, 0.0004054632109904606, 0.03971083821394994, 0.0031768670571159954, 0.015884335285579976, 0.16519708697003177, 0.7386215907794689, 0.007942167642789988, 0.022238069399811967, 0.006353734114231991, 0.006417765785418914, 0.10268425256670262, 0.07380430653231751, 0.05455100917606077, 0.006417765785418914, 0.7476697140013034, 0.006417765785418914, 0.09866255907145768, 0.02466563976786442, 0.8632973918752548, 0.01233281988393221, 0.26536568496057505, 0.09089636286798919, 0.1098510546508874, 0.024985730077456744, 0.15766857255774427, 0.026708883875902034, 0.04350963341074364, 0.019385480232509543, 0.0650490558913098, 0.03273992217046056, 0.055571709999860684, 0.0038770960465019082, 0.006031038294558524, 0.004738672945724554, 0.028432037674347328, 0.019816268682120865, 0.026708883875902034, 0.018093114883675574, 0.00043078844961132314, 0.006082740673253652, 0.9002456196415405, 0.0385240242639398, 0.03446886381510403, 0.018248222019760955, 0.813082575760454, 0.06186497859046932, 0.01767570816870552, 0.01767570816870552, 0.01767570816870552, 0.05302712450611656, 0.01767570816870552, 0.1417907036843393, 0.03317538900306657, 0.11225097375010194, 0.03681104807189578, 0.06589632062252948, 0.015451551042524155, 0.18541861251028985, 0.03771996283910308, 0.0572616303340601, 0.01090697720648764, 0.0554438007996455, 0.014542636275316852, 0.11997674927136402, 0.008180232904865728, 0.037265505455499434, 0.029085272550633704, 0.017723837960542412, 0.01954166749495702, 0.0004544573836036516, 0.9755909503295137, 0.9869943677089575, 0.012845913679509208, 0.1294811441819586, 0.7099138594803938, 0.008929734081514387, 0.0714378726521151, 0.008929734081514387, 0.03571893632605755, 0.02678920224454316, 0.045362974819550046, 0.029584548795358726, 0.12951458028190377, 0.001972303253023915, 0.08020699895630588, 0.017750729277215237, 0.43587901891828523, 0.00788921301209566, 0.022352770200937705, 0.001972303253023915, 0.02103790136558843, 0.13411662120562623, 0.00788921301209566, 0.0026297376706985536, 0.005916909759071745, 0.04404810598420077, 0.010518950682794214, 0.0013148688353492768, 0.7015921511901109, 0.2501723270958267, 0.02774088304490014, 0.0025218984586272857, 0.012609492293136428, 0.0010087593834509142, 0.004035037533803657, 0.0005043796917254571, 0.013594298971246341, 0.018125731961661787, 0.009062865980830894, 0.04531432990415447, 0.7522178764089642, 0.11781725775080162, 0.013594298971246341, 0.022657164952077233, 0.9575327156494327, 0.9911716035278861, 0.004197033958693504, 0.9800074293549332, 0.01049258489673376, 0.002098516979346752, 0.9864432140178581, 0.2262441720854016, 0.5003123155059287, 0.034948286744899436, 0.007357534051557775, 0.17106266669871828, 0.0036787670257788876, 0.049663354848014984, 0.0018393835128894438, 0.6089852985047822, 0.038194199906223275, 0.07426649981765637, 0.06896174983068092, 0.08911979978118764, 0.012731399968741092, 0.013792349966136184, 0.028645649929667456, 0.001060949997395091, 0.015914249960926365, 0.008487599979160728, 0.002121899994790182, 0.003182849992185273, 0.0053047499869754555, 0.02227994994529691, 0.006365699984370546, 0.001060949997395091, 0.0888314819249158, 0.14136994594276484, 0.26718574135392964, 0.08952277750409803, 0.14413512825949373, 0.007258603581413353, 0.0041477734750933444, 0.024540993060968956, 0.08779453855614246, 0.011060729266915585, 0.03836690464461344, 0.013134616004462259, 0.027651823167288963, 0.0038021256855022326, 0.020738867375466725, 0.0031108301063200085, 0.010369433687733362, 0.015899798321191153, 0.0006912955791822241, 0.9891830291919653, 0.32589463365733184, 0.07292117493437536, 0.04141202527137366, 0.046813593785031096, 0.0324094110819446, 0.05671646939340305, 0.07292117493437536, 0.047713855203974, 0.0009002614189429056, 0.15214417980135106, 0.002700784256828717, 0.010803137027314868, 0.025207319730401356, 0.00810235277048615, 0.06121777648811758, 0.0036010456757716225, 0.0162047055409723, 0.005401568513657434, 0.017104966959915206, 0.992830585521717, 0.10527733954063204, 0.043865558141930015, 0.05483194767741252, 0.2829328500154486, 0.043865558141930015, 0.03289916860644752, 0.05483194767741252, 0.32679840815737865, 0.006579833721289502, 0.02412605697806151, 0.0043865558141930015, 0.0043865558141930015, 0.010966389535482504, 0.9385707138904661, 0.273912599528174, 0.02366260676552288, 0.13193695893503668, 0.27032735607885233, 0.05019340829050308, 0.06381733339792535, 0.0007170486898643297, 0.0057363895189146375, 0.0014340973797286594, 0.020077363316201233, 0.0028681947594573188, 0.035135385803352154, 0.008604584278371958, 0.005019340829050308, 0.0035852434493216486, 0.07313896636616163, 0.0007170486898643297, 0.02868194759457319, 0.34838119953714763, 0.023158287830504033, 0.07853680220779628, 0.001006882079587132, 0.10672950043623598, 0.0251720519896783, 0.05336475021811799, 0.015103231193806977, 0.05940604269564078, 0.02718581614885256, 0.18425942056444514, 0.009061938716284187, 0.004027528318348528, 0.009061938716284187, 0.02718581614885256, 0.01711699535298124, 0.007048174557109923, 0.00503441039793566, 0.9822782003954099, 0.9796953850593549, 0.994112659513987, 0.9570947339506314, 0.1219926156897173, 0.8607256773663388, 0.006777367538317628, 0.9665733441358597, 0.06915837304161444, 0.9237582684844216, 0.029197368185374502, 0.9635131501173586, 0.959756456183118, 0.9608177322010835, 0.9504403668560146, 0.9558405976833394, 0.0341968277413395, 0.0731338098230627, 0.006094484151921892, 0.0037244069817300445, 0.16556681946054472, 0.0964959990720966, 0.22786599079130182, 0.09954324114805756, 0.021669276984611168, 0.03961414698749229, 0.010157473586536485, 0.0003385824528845495, 0.08769285529709832, 0.059929094160565265, 0.025732266419225762, 0.03825981717595409, 0.007448813963460089, 0.0010157473586536485, 0.0016929122644227476, 0.19823171442413637, 0.07582633885076255, 0.07582633885076255, 0.008665867297230005, 0.1624850118230626, 0.022747901655228765, 0.04441256989830378, 0.003249700236461252, 0.042246103073996275, 0.015165267770152509, 0.2437275177345939, 0.04874550354691878, 0.011915567533691256, 0.004332933648615003, 0.010832334121537507, 0.0021664668243075013, 0.006499400472922504, 0.021664668243075013, 0.09069630018141829, 0.8502778142007965, 0.011337037522677286, 0.045348150090709145, 0.034896590677877634, 0.005816098446312939, 0.9073113576248185, 0.04071268912419058], \"Term\": [\"2\", \"2\", \"2\", \"2\", \"2\", \"2\", \"2\", \"2\", \"2\", \"2\", \"2\", \"2\", \"2\", \"2\", \"2\", \"2\", \"2\", \"2\", \"ab\", \"ab\", \"abc\", \"abc\", \"abc\", \"abortion\", \"abortion\", \"abortion\", \"abortion\", \"accelerator\", \"activate\", \"actually\", \"actually\", \"actually\", \"actually\", \"actually\", \"actually\", \"actually\", \"actually\", \"actually\", \"actually\", \"actually\", \"actually\", \"actually\", \"actually\", \"actually\", \"actually\", \"actually\", \"actually\", \"actually\", \"adaptec\", \"adapter\", \"adapter\", \"adb\", \"address\", \"address\", \"address\", \"address\", \"address\", \"address\", \"address\", \"address\", \"address\", \"address\", \"address\", \"address\", \"address\", \"address\", \"address\", \"address\", \"adl\", \"administration\", \"administration\", \"administration\", \"administration\", \"administration\", \"adult\", \"adult\", \"adult\", \"adult\", \"adult\", \"adult\", \"agdam\", \"age\", \"age\", \"age\", \"age\", \"age\", \"age\", \"age\", \"age\", \"age\", \"age\", \"age\", \"age\", \"age\", \"agency\", \"agency\", \"agency\", \"agency\", \"agency\", \"agency\", \"agency\", \"aggression\", \"ahf\", \"ahf\", \"ahmet\", \"aid\", \"aid\", \"aid\", \"aid\", \"aid\", \"aid\", \"aid\", \"aid\", \"air\", \"air\", \"air\", \"air\", \"air\", \"air\", \"air\", \"air\", \"air\", \"air\", \"air\", \"air\", \"air\", \"air\", \"air\", \"ajz\", \"algorithm\", \"algorithm\", \"algorithm\", \"algorithm\", \"algorithm\", \"algorithm\", \"algorithm\", \"alomar\", \"aluminum\", \"aluminum\", \"ambulance\", \"amendment\", \"amendment\", \"american\", \"american\", \"american\", \"american\", \"american\", \"american\", \"american\", \"american\", \"american\", \"american\", \"american\", \"american\", \"american\", \"amp\", \"amp\", \"amp\", \"anaheim\", \"andersson\", \"ankara\", \"annual\", \"annual\", \"annual\", \"annual\", \"annual\", \"annual\", \"anon\", \"anon\", \"anonymous\", \"anonymous\", \"anonymous\", \"anonymous\", \"antenna\", \"antenna\", \"antibiotic\", \"apartment\", \"apostle\", \"appear\", \"appear\", \"appear\", \"appear\", \"appear\", \"appear\", \"appear\", \"appear\", \"appear\", \"appear\", \"appear\", \"appear\", \"appear\", \"appear\", \"appear\", \"appear\", \"appear\", \"appear\", \"apple\", \"apple\", \"apple\", \"apple\", \"apple\", \"apple\", \"application\", \"application\", \"application\", \"application\", \"application\", \"application\", \"application\", \"application\", \"application\", \"application\", \"application\", \"apr\", \"apr\", \"apr\", \"apr\", \"apr\", \"apr\", \"apr\", \"apr\", \"apr\", \"apr\", \"apr\", \"apr\", \"apr\", \"apr\", \"apr\", \"april\", \"april\", \"april\", \"april\", \"april\", \"april\", \"april\", \"april\", \"april\", \"april\", \"april\", \"april\", \"april\", \"april\", \"april\", \"arab\", \"arabic\", \"arabs\", \"area\", \"area\", \"area\", \"area\", \"area\", \"area\", \"area\", \"area\", \"area\", \"area\", \"area\", \"area\", \"area\", \"area\", \"area\", \"area\", \"area\", \"area\", \"argument\", \"argument\", \"argument\", \"argument\", \"argument\", \"argument\", \"argument\", \"argument\", \"argument\", \"argument\", \"argument\", \"argument\", \"argument\", \"arm\", \"arm\", \"arm\", \"arm\", \"arm\", \"arm\", \"arm\", \"arm\", \"arm\", \"armenia\", \"armenia\", \"armenia\", \"armenian\", \"armenian\", \"armenian\", \"armenians\", \"armenians\", \"armenians\", \"armor\", \"army\", \"army\", \"army\", \"army\", \"army\", \"art\", \"art\", \"art\", \"art\", \"art\", \"art\", \"art\", \"art\", \"art\", \"article\", \"article\", \"article\", \"article\", \"article\", \"article\", \"article\", \"article\", \"article\", \"article\", \"article\", \"article\", \"article\", \"article\", \"article\", \"article\", \"article\", \"ask\", \"ask\", \"ask\", \"ask\", \"ask\", \"ask\", \"ask\", \"ask\", \"ask\", \"ask\", \"ask\", \"ask\", \"ask\", \"ask\", \"ask\", \"ask\", \"ask\", \"ask\", \"assault\", \"assault\", \"asteroid\", \"astronaut\", \"astros\", \"astros\", \"atheism\", \"atheism\", \"atheist\", \"atheist\", \"ati\", \"ati\", \"atmospheric\", \"atom\", \"attack\", \"attack\", \"attack\", \"attack\", \"attack\", \"attack\", \"attack\", \"attack\", \"attendance\", \"attest\", \"audio\", \"audio\", \"audio\", \"audio\", \"aunt\", \"authentication\", \"author\", \"author\", \"author\", \"author\", \"author\", \"author\", \"author\", \"author\", \"author\", \"author\", \"auto\", \"auto\", \"auto\", \"auto\", \"auto\", \"auto\", \"auto\", \"autobahn\", \"autoexec\", \"available\", \"available\", \"available\", \"available\", \"available\", \"available\", \"available\", \"available\", \"available\", \"available\", \"available\", \"available\", \"available\", \"available\", \"available\", \"available\", \"available\", \"azerbaijan\", \"azerbaijan\", \"azeri\", \"azeris\", \"balcony\", \"balloon\", \"baltimore\", \"ban\", \"ban\", \"ban\", \"ban\", \"baseball\", \"baseball\", \"bassel\", \"batf\", \"batf\", \"bathroom\", \"battery\", \"battery\", \"battery\", \"battery\", \"beat\", \"beat\", \"beat\", \"beat\", \"beat\", \"beat\", \"beat\", \"beat\", \"beat\", \"beat\", \"bed\", \"bed\", \"bedroom\", \"bedroom\", \"belief\", \"belief\", \"belief\", \"belief\", \"believe\", \"believe\", \"believe\", \"believe\", \"believe\", \"believe\", \"believe\", \"believe\", \"believe\", \"believe\", \"believe\", \"believe\", \"believe\", \"believe\", \"believe\", \"believe\", \"believe\", \"belt\", \"belt\", \"belt\", \"belt\", \"bhi\", \"bhj\", \"bhj\", \"bhjn\", \"bible\", \"biblical\", \"bike\", \"bike\", \"biker\", \"bill\", \"bill\", \"bill\", \"bill\", \"bill\", \"bill\", \"bill\", \"bill\", \"bill\", \"bill\", \"bill\", \"bill\", \"bill\", \"bill\", \"bis\", \"bite\", \"bite\", \"bite\", \"bite\", \"bite\", \"bite\", \"bite\", \"bite\", \"bite\", \"bite\", \"bite\", \"bite\", \"bite\", \"bite\", \"bite\", \"bite\", \"bite\", \"bite\", \"biz\", \"biz\", \"black\", \"black\", \"black\", \"black\", \"black\", \"black\", \"black\", \"black\", \"black\", \"black\", \"black\", \"black\", \"black\", \"black\", \"blast\", \"blast\", \"blast\", \"block\", \"block\", \"block\", \"block\", \"block\", \"block\", \"block\", \"block\", \"block\", \"block\", \"block\", \"block\", \"block\", \"bmp\", \"bmw\", \"bmw\", \"bmw\", \"board\", \"board\", \"board\", \"board\", \"board\", \"board\", \"board\", \"board\", \"board\", \"board\", \"board\", \"bobbe\", \"bolt\", \"bolt\", \"book\", \"book\", \"book\", \"book\", \"book\", \"book\", \"book\", \"book\", \"book\", \"book\", \"book\", \"book\", \"book\", \"book\", \"book\", \"boom\", \"booster\", \"bos\", \"boston\", \"boston\", \"boston\", \"boston\", \"boston\", \"box\", \"box\", \"box\", \"box\", \"box\", \"box\", \"box\", \"box\", \"box\", \"box\", \"box\", \"box\", \"boy\", \"boy\", \"boy\", \"boy\", \"boy\", \"boy\", \"boy\", \"boy\", \"boy\", \"brady\", \"brake\", \"brake\", \"break\", \"break\", \"break\", \"break\", \"break\", \"break\", \"break\", \"break\", \"break\", \"break\", \"break\", \"break\", \"break\", \"break\", \"breton\", \"brightness\", \"btw\", \"btw\", \"btw\", \"btw\", \"btw\", \"btw\", \"btw\", \"btw\", \"btw\", \"btw\", \"btw\", \"build\", \"build\", \"build\", \"build\", \"build\", \"build\", \"build\", \"build\", \"build\", \"build\", \"build\", \"build\", \"build\", \"build\", \"build\", \"bullock\", \"bumper\", \"bus\", \"bus\", \"bus\", \"bus\", \"bus\", \"bus\", \"bus\", \"bus\", \"buy\", \"buy\", \"buy\", \"buy\", \"buy\", \"buy\", \"buy\", \"buy\", \"buy\", \"buy\", \"buy\", \"buy\", \"buyer\", \"buyer\", \"buyer\", \"bxn\", \"bxom\", \"cable\", \"cable\", \"cable\", \"cable\", \"cable\", \"cable\", \"cable\", \"cable\", \"cache\", \"cache\", \"cadre\", \"cage\", \"cage\", \"cage\", \"cal\", \"cal\", \"cal\", \"cal\", \"calgary\", \"cancer\", \"canseco\", \"capacitor\", \"cape\", \"car\", \"car\", \"car\", \"car\", \"car\", \"car\", \"car\", \"car\", \"carbs\", \"card\", \"card\", \"card\", \"card\", \"card\", \"card\", \"card\", \"card\", \"card\", \"carolina\", \"carolina\", \"carry\", \"carry\", \"carry\", \"carry\", \"carry\", \"carry\", \"carry\", \"carry\", \"carry\", \"carry\", \"carry\", \"carry\", \"carry\", \"carry\", \"carson\", \"cartridge\", \"cartridge\", \"case\", \"case\", \"case\", \"case\", \"case\", \"case\", \"case\", \"case\", \"case\", \"case\", \"case\", \"case\", \"case\", \"case\", \"case\", \"case\", \"case\", \"case\", \"cassette\", \"cassette\", \"catbyte\", \"catch\", \"catch\", \"catch\", \"catch\", \"catch\", \"catch\", \"catch\", \"catch\", \"catch\", \"catcher\", \"catholic\", \"cause\", \"cause\", \"cause\", \"cause\", \"cause\", \"cause\", \"cause\", \"cause\", \"cause\", \"cause\", \"cause\", \"cause\", \"cause\", \"cause\", \"cause\", \"cause\", \"cbc\", \"cbr\", \"cdc\", \"cdc\", \"cdc\", \"cds\", \"cec\", \"census\", \"center\", \"center\", \"center\", \"center\", \"center\", \"center\", \"center\", \"center\", \"center\", \"center\", \"center\", \"center\", \"center\", \"center\", \"centris\", \"ceremony\", \"championship\", \"char\", \"charley\", \"chastity\", \"check\", \"check\", \"check\", \"check\", \"check\", \"check\", \"check\", \"check\", \"check\", \"check\", \"check\", \"check\", \"check\", \"check\", \"check\", \"check\", \"chevy\", \"chi\", \"chicago\", \"chicago\", \"chicago\", \"chicago\", \"chicago\", \"child\", \"child\", \"child\", \"child\", \"child\", \"child\", \"child\", \"child\", \"child\", \"child\", \"child\", \"chinese\", \"chinese\", \"chip\", \"chip\", \"chip\", \"chip\", \"chip\", \"chlorine\", \"cho\", \"chop\", \"christ\", \"christian\", \"christian\", \"christian\", \"christian\", \"christianity\", \"christianity\", \"christians\", \"christians\", \"church\", \"church\", \"chz\", \"chz\", \"cica\", \"cipher\", \"circuit\", \"citizen\", \"citizen\", \"citizen\", \"citizen\", \"citizen\", \"civilian\", \"civilian\", \"civilian\", \"claim\", \"claim\", \"claim\", \"claim\", \"claim\", \"claim\", \"claim\", \"claim\", \"claim\", \"claim\", \"claim\", \"claim\", \"claim\", \"claim\", \"claim\", \"claim\", \"classify\", \"classify\", \"clayton\", \"client\", \"client\", \"client\", \"client\", \"client\", \"clinical\", \"clinton\", \"clinton\", \"clinton\", \"clinton\", \"clipper\", \"clipper\", \"clipper\", \"close\", \"close\", \"close\", \"close\", \"close\", \"close\", \"close\", \"close\", \"close\", \"close\", \"close\", \"close\", \"close\", \"close\", \"close\", \"close\", \"close\", \"close\", \"clothe\", \"clothe\", \"cmap\", \"coach\", \"coach\", \"code\", \"code\", \"code\", \"code\", \"code\", \"code\", \"code\", \"code\", \"code\", \"code\", \"code\", \"col\", \"col\", \"col\", \"col\", \"col\", \"collaboration\", \"color\", \"color\", \"color\", \"color\", \"color\", \"color\", \"color\", \"color\", \"color\", \"columbus\", \"com\", \"com\", \"com\", \"com\", \"com\", \"com\", \"com\", \"com\", \"com\", \"com\", \"com\", \"com\", \"com\", \"com\", \"come\", \"come\", \"come\", \"come\", \"come\", \"come\", \"come\", \"come\", \"come\", \"come\", \"come\", \"come\", \"come\", \"come\", \"come\", \"come\", \"come\", \"come\", \"come\", \"comet\", \"comic\", \"communication\", \"communication\", \"communication\", \"communication\", \"communication\", \"communication\", \"communication\", \"company\", \"company\", \"company\", \"company\", \"company\", \"company\", \"company\", \"company\", \"company\", \"company\", \"company\", \"company\", \"compartment\", \"compass\", \"compete\", \"compliance\", \"compound\", \"compound\", \"compound\", \"compuserve\", \"compuserve\", \"conception\", \"condition\", \"condition\", \"condition\", \"condition\", \"condition\", \"condition\", \"condition\", \"condition\", \"condition\", \"condition\", \"condition\", \"condition\", \"condition\", \"condition\", \"conductor\", \"confidential\", \"connect\", \"connect\", \"connect\", \"connect\", \"connect\", \"connect\", \"connect\", \"connect\", \"conner\", \"constitution\", \"constitution\", \"constitution\", \"contest\", \"contest\", \"contradiction\", \"contrib\", \"control\", \"control\", \"control\", \"control\", \"control\", \"control\", \"control\", \"control\", \"control\", \"control\", \"control\", \"control\", \"control\", \"control\", \"control\", \"control\", \"control\", \"controller\", \"convert\", \"convert\", \"convert\", \"convert\", \"convert\", \"convert\", \"convert\", \"convert\", \"convert\", \"convert\", \"convert\", \"convertible\", \"cool\", \"cool\", \"cool\", \"cool\", \"cool\", \"cop\", \"cop\", \"cop\", \"cop\", \"copper\", \"copper\", \"copper\", \"coprocessor\", \"copy\", \"copy\", \"copy\", \"copy\", \"copy\", \"copy\", \"copy\", \"copy\", \"copy\", \"copy\", \"copy\", \"copy\", \"copy\", \"corn\", \"cost\", \"cost\", \"cost\", \"cost\", \"cost\", \"cost\", \"cost\", \"cost\", \"cost\", \"cost\", \"cost\", \"cost\", \"cost\", \"cost\", \"couldn\", \"couldn\", \"couldn\", \"couldn\", \"couldn\", \"couldn\", \"couldn\", \"couldn\", \"couldn\", \"couldn\", \"couldn\", \"couldn\", \"couldn\", \"countersteering\", \"country\", \"country\", \"country\", \"country\", \"country\", \"country\", \"country\", \"country\", \"country\", \"country\", \"country\", \"country\", \"court\", \"court\", \"court\", \"court\", \"court\", \"court\", \"court\", \"court\", \"cover\", \"cover\", \"cover\", \"cover\", \"cover\", \"cover\", \"cover\", \"cover\", \"cover\", \"cover\", \"cover\", \"cover\", \"cover\", \"coverage\", \"coverage\", \"coverage\", \"coverage\", \"coverage\", \"coverage\", \"coverage\", \"coverage\", \"coverage\", \"cpsr\", \"cpu\", \"cpu\", \"crime\", \"crime\", \"crime\", \"crime\", \"crime\", \"criminal\", \"criminal\", \"criminal\", \"criminal\", \"criminal\", \"crowd\", \"crowd\", \"crowd\", \"crowd\", \"cruel\", \"cruiser\", \"crypt\", \"crypto\", \"cryptography\", \"cryptology\", \"ctrl\", \"cult\", \"cult\", \"cup\", \"cup\", \"cup\", \"cup\", \"cup\", \"cup\", \"cure\", \"cure\", \"cure\", \"cure\", \"currency\", \"current\", \"current\", \"current\", \"current\", \"current\", \"current\", \"current\", \"current\", \"current\", \"current\", \"current\", \"current\", \"current\", \"current\", \"current\", \"current\", \"current\", \"current\", \"cursor\", \"curt\", \"cview\", \"cyl\", \"cylinder\", \"cylinder\", \"cypriot\", \"czech\", \"dance\", \"dance\", \"dash\", \"datum\", \"datum\", \"datum\", \"datum\", \"datum\", \"datum\", \"datum\", \"datum\", \"datum\", \"datum\", \"datum\", \"daughter\", \"daughter\", \"daughter\", \"davidians\", \"day\", \"day\", \"day\", \"day\", \"day\", \"day\", \"day\", \"day\", \"day\", \"day\", \"day\", \"day\", \"day\", \"day\", \"day\", \"day\", \"dealer\", \"dealer\", \"dealer\", \"dealer\", \"dealer\", \"dealer\", \"dealer\", \"dealership\", \"dec\", \"dec\", \"dec\", \"dec\", \"dec\", \"dec\", \"dec\", \"decimal\", \"decrypt\", \"defense\", \"defense\", \"defense\", \"defense\", \"defense\", \"defense\", \"defense\", \"deficit\", \"deficit\", \"define\", \"define\", \"define\", \"define\", \"define\", \"define\", \"define\", \"define\", \"define\", \"define\", \"denver\", \"denver\", \"denver\", \"dept\", \"dept\", \"dept\", \"dept\", \"dept\", \"dept\", \"des\", \"des\", \"des\", \"deskjet\", \"det\", \"det\", \"detector\", \"detector\", \"detroit\", \"detroit\", \"diagnose\", \"diagnose\", \"diagnosis\", \"diagnosis\", \"didn\", \"didn\", \"didn\", \"didn\", \"didn\", \"didn\", \"didn\", \"didn\", \"didn\", \"didn\", \"didn\", \"didn\", \"didn\", \"didn\", \"didn\", \"didn\", \"didn\", \"diet\", \"diet\", \"dim\", \"directory\", \"directory\", \"directory\", \"directory\", \"directory\", \"disc\", \"disease\", \"disease\", \"disease\", \"disease\", \"disk\", \"disk\", \"disk\", \"disk\", \"disk\", \"disk\", \"disk\", \"dissolve\", \"dma\", \"dna\", \"doctrine\", \"dod\", \"dod\", \"dod\", \"dod\", \"dod\", \"dod\", \"dodger\", \"dog\", \"dog\", \"dog\", \"dog\", \"dos\", \"dos\", \"dos\", \"dos\", \"dose\", \"drive\", \"drive\", \"drive\", \"drive\", \"drive\", \"drive\", \"drive\", \"drive\", \"drive\", \"drive\", \"drive\", \"drive\", \"drive\", \"driver\", \"driver\", \"driver\", \"driver\", \"driver\", \"driver\", \"driver\", \"driver\", \"driver\", \"driver\", \"driver\", \"driver\", \"driver\", \"driver\", \"drug\", \"drug\", \"drug\", \"drug\", \"drug\", \"drug\", \"drug\", \"drug\", \"drum\", \"dtmedin\", \"dual\", \"dual\", \"dual\", \"dual\", \"dual\", \"earth\", \"earth\", \"earth\", \"earth\", \"echl\", \"echo\", \"echo\", \"echo\", \"echo\", \"ecp\", \"ecs\", \"edge\", \"edge\", \"edge\", \"edge\", \"edge\", \"edge\", \"edge\", \"edge\", \"edge\", \"edge\", \"edge\", \"edm\", \"edm\", \"edu\", \"edu\", \"edu\", \"edu\", \"edu\", \"edu\", \"edu\", \"edu\", \"edu\", \"edu\", \"edu\", \"edu\", \"edu\", \"edu\", \"edu\", \"edu\", \"eff\", \"eff\", \"egg\", \"egg\", \"einstein\", \"einstein\", \"einstein\", \"einstein\", \"eisa\", \"election\", \"election\", \"election\", \"electrical\", \"electrical\", \"electrical\", \"electrical\", \"emacs\", \"email\", \"email\", \"email\", \"email\", \"email\", \"email\", \"email\", \"email\", \"email\", \"email\", \"email\", \"encrypt\", \"encryption\", \"energy\", \"energy\", \"energy\", \"energy\", \"energy\", \"energy\", \"enforcement\", \"enforcement\", \"enforcement\", \"engine\", \"engine\", \"engine\", \"engine\", \"engine\", \"engine\", \"engine\", \"entry\", \"entry\", \"entry\", \"entry\", \"entry\", \"entry\", \"entryway\", \"eof\", \"eof\", \"erzurum\", \"escrow\", \"escrowed\", \"esdi\", \"etc\", \"etc\", \"etc\", \"etc\", \"etc\", \"etc\", \"etc\", \"etc\", \"etc\", \"etc\", \"etc\", \"etc\", \"etc\", \"etc\", \"etc\", \"etc\", \"etc\", \"eternal\", \"evidence\", \"evidence\", \"evidence\", \"evidence\", \"evidence\", \"evidence\", \"evidence\", \"evidence\", \"exclusive\", \"exe\", \"exe\", \"exist\", \"exist\", \"exist\", \"exist\", \"exist\", \"exist\", \"exist\", \"exist\", \"exist\", \"exist\", \"exist\", \"exist\", \"exist\", \"exist\", \"exist\", \"existence\", \"existence\", \"existence\", \"existence\", \"existence\", \"existence\", \"existence\", \"experience\", \"experience\", \"experience\", \"experience\", \"experience\", \"experience\", \"experience\", \"experience\", \"experience\", \"experience\", \"experience\", \"experience\", \"experience\", \"experience\", \"experience\", \"experience\", \"exploration\", \"explosive\", \"export\", \"export\", \"expos\", \"fact\", \"fact\", \"fact\", \"fact\", \"fact\", \"fact\", \"fact\", \"fact\", \"fact\", \"fact\", \"fact\", \"fact\", \"fact\", \"fact\", \"fact\", \"fact\", \"fact\", \"fact\", \"faint\", \"faith\", \"fan\", \"fan\", \"fan\", \"fan\", \"fan\", \"fan\", \"fan\", \"fan\", \"faq\", \"faq\", \"faq\", \"faq\", \"faq\", \"faq\", \"faq\", \"faq\", \"fast\", \"fast\", \"fast\", \"fast\", \"fast\", \"fast\", \"fast\", \"fast\", \"fast\", \"fast\", \"fast\", \"fast\", \"fast\", \"fast\", \"fast\", \"fax\", \"fax\", \"fax\", \"fax\", \"fax\", \"fax\", \"fax\", \"fax\", \"fbi\", \"fbi\", \"fbi\", \"fdz\", \"federal\", \"federal\", \"federal\", \"feustel\", \"fij\", \"fij\", \"file\", \"file\", \"file\", \"file\", \"file\", \"file\", \"file\", \"file\", \"file\", \"filename\", \"filename\", \"filename\", \"find\", \"find\", \"find\", \"find\", \"find\", \"find\", \"find\", \"find\", \"find\", \"find\", \"find\", \"find\", \"find\", \"find\", \"find\", \"find\", \"find\", \"find\", \"finland\", \"finland\", \"finnish\", \"fire\", \"fire\", \"fire\", \"fire\", \"fire\", \"fire\", \"fire\", \"fire\", \"fire\", \"fire\", \"fire\", \"firearm\", \"firearm\", \"fit\", \"fit\", \"fit\", \"fit\", \"fit\", \"fit\", \"fit\", \"fit\", \"fit\", \"fit\", \"fit\", \"fit\", \"fit\", \"fit\", \"flight\", \"flight\", \"flight\", \"flight\", \"floppy\", \"floppy\", \"florida\", \"florida\", \"florida\", \"florida\", \"florida\", \"fluid\", \"fluid\", \"flyer\", \"flyer\", \"follow\", \"follow\", \"follow\", \"follow\", \"follow\", \"follow\", \"follow\", \"follow\", \"follow\", \"follow\", \"follow\", \"follow\", \"follow\", \"follow\", \"follow\", \"follow\", \"follow\", \"follow\", \"food\", \"food\", \"food\", \"food\", \"food\", \"food\", \"foote\", \"force\", \"force\", \"force\", \"force\", \"force\", \"force\", \"force\", \"force\", \"force\", \"force\", \"force\", \"force\", \"force\", \"force\", \"force\", \"ford\", \"ford\", \"ford\", \"ford\", \"format\", \"format\", \"format\", \"format\", \"format\", \"fpl\", \"fprintf\", \"fpu\", \"fpu\", \"fpu\", \"fri\", \"fri\", \"friend\", \"friend\", \"friend\", \"friend\", \"friend\", \"friend\", \"friend\", \"friend\", \"friend\", \"friend\", \"friend\", \"friend\", \"friend\", \"friend\", \"friend\", \"ftp\", \"ftp\", \"ftp\", \"ftp\", \"function\", \"function\", \"function\", \"function\", \"function\", \"function\", \"function\", \"function\", \"function\", \"function\", \"function\", \"function\", \"functionality\", \"fuse\", \"fyn\", \"fyn\", \"galileo\", \"game\", \"game\", \"game\", \"game\", \"game\", \"game\", \"game\", \"game\", \"game\", \"gas\", \"gas\", \"gas\", \"gas\", \"gas\", \"gas\", \"gas\", \"gas\", \"gas\", \"gasoline\", \"gateway\", \"gateway\", \"gateway\", \"gauge\", \"gaza\", \"gcc\", \"gcx\", \"geb\", \"genocide\", \"genocide\", \"germans\", \"germans\", \"get\", \"get\", \"get\", \"get\", \"get\", \"get\", \"get\", \"get\", \"get\", \"get\", \"get\", \"get\", \"get\", \"get\", \"get\", \"get\", \"get\", \"get\", \"get\", \"gfx\", \"ghj\", \"gibson\", \"gif\", \"gif\", \"gifs\", \"giz\", \"gizw\", \"glock\", \"glutamate\", \"gnd\", \"gnv\", \"go\", \"go\", \"go\", \"go\", \"go\", \"go\", \"go\", \"go\", \"go\", \"go\", \"go\", \"go\", \"go\", \"go\", \"go\", \"go\", \"go\", \"go\", \"goal\", \"goal\", \"goal\", \"goal\", \"goal\", \"goal\", \"goal\", \"goal\", \"goal\", \"goal\", \"goal\", \"god\", \"god\", \"god\", \"god\", \"good\", \"good\", \"good\", \"good\", \"good\", \"good\", \"good\", \"good\", \"good\", \"good\", \"good\", \"good\", \"good\", \"good\", \"good\", \"good\", \"good\", \"good\", \"gospel\", \"government\", \"government\", \"government\", \"government\", \"government\", \"government\", \"government\", \"graphic\", \"graphic\", \"graphic\", \"graphic\", \"graphic\", \"graphic\", \"great\", \"great\", \"great\", \"great\", \"great\", \"great\", \"great\", \"great\", \"great\", \"great\", \"great\", \"great\", \"great\", \"great\", \"great\", \"great\", \"great\", \"great\", \"greece\", \"greek\", \"greek\", \"greeks\", \"greeks\", \"greeting\", \"greeting\", \"grind\", \"grind\", \"grind\", \"grind\", \"grind\", \"grind\", \"grind\", \"grind\", \"grind\", \"grind\", \"grind\", \"group\", \"group\", \"group\", \"group\", \"group\", \"group\", \"group\", \"group\", \"group\", \"group\", \"group\", \"group\", \"group\", \"group\", \"group\", \"group\", \"group\", \"guerilla\", \"guess\", \"guess\", \"guess\", \"guess\", \"guess\", \"guess\", \"guess\", \"guess\", \"guess\", \"guess\", \"guess\", \"guess\", \"guess\", \"guess\", \"guess\", \"guess\", \"guess\", \"gui\", \"guideline\", \"guideline\", \"guideline\", \"guideline\", \"guideline\", \"gun\", \"gun\", \"gun\", \"gun\", \"gup\", \"guy\", \"guy\", \"guy\", \"guy\", \"guy\", \"guy\", \"guy\", \"guy\", \"guy\", \"guy\", \"guy\", \"guy\", \"hand\", \"hand\", \"hand\", \"hand\", \"hand\", \"hand\", \"hand\", \"hand\", \"hand\", \"hand\", \"hand\", \"hand\", \"hand\", \"hand\", \"hand\", \"hand\", \"hand\", \"hand\", \"handgun\", \"handheld\", \"happen\", \"happen\", \"happen\", \"happen\", \"happen\", \"happen\", \"happen\", \"happen\", \"happen\", \"happen\", \"happen\", \"happen\", \"happen\", \"happen\", \"happen\", \"happen\", \"happen\", \"happiness\", \"hard\", \"hard\", \"hard\", \"hard\", \"hard\", \"hard\", \"hard\", \"hard\", \"hard\", \"hard\", \"hard\", \"hard\", \"hard\", \"hard\", \"hard\", \"harddisk\", \"hare\", \"harley\", \"harper\", \"hartford\", \"hci\", \"hdd\", \"hds\", \"head\", \"head\", \"head\", \"head\", \"head\", \"head\", \"head\", \"head\", \"head\", \"head\", \"head\", \"head\", \"head\", \"head\", \"head\", \"head\", \"head\", \"health\", \"health\", \"health\", \"health\", \"health\", \"health\", \"hear\", \"hear\", \"hear\", \"hear\", \"hear\", \"hear\", \"hear\", \"hear\", \"hear\", \"hear\", \"hear\", \"hear\", \"hear\", \"hear\", \"hear\", \"hear\", \"hear\", \"hear\", \"heat\", \"heat\", \"heat\", \"heat\", \"heat\", \"heat\", \"heaven\", \"heaven\", \"heaven\", \"helicopter\", \"helmet\", \"helmet\", \"helmet\", \"hemisphere\", \"heterosexual\", \"hicnet\", \"high\", \"high\", \"high\", \"high\", \"high\", \"high\", \"high\", \"high\", \"high\", \"high\", \"high\", \"high\", \"high\", \"high\", \"high\", \"high\", \"high\", \"high\", \"hit\", \"hit\", \"hit\", \"hit\", \"hit\", \"hit\", \"hit\", \"hit\", \"hit\", \"hit\", \"hit\", \"hit\", \"hit\", \"hitter\", \"hiv\", \"hockey\", \"hockey\", \"hole\", \"hole\", \"hole\", \"hole\", \"hole\", \"hole\", \"hole\", \"hole\", \"hole\", \"hole\", \"holocaust\", \"holocaust\", \"holocaust\", \"holy\", \"holy\", \"home\", \"home\", \"home\", \"home\", \"home\", \"home\", \"home\", \"home\", \"home\", \"home\", \"home\", \"home\", \"home\", \"home\", \"home\", \"homeland\", \"homeland\", \"homicide\", \"honda\", \"honda\", \"honda\", \"honour\", \"horse\", \"horse\", \"horse\", \"horse\", \"horse\", \"horsepower\", \"hostname\", \"household\", \"human\", \"human\", \"human\", \"human\", \"human\", \"human\", \"human\", \"human\", \"human\", \"human\", \"human\", \"human\", \"humor\", \"humor\", \"hypocritical\", \"hypothesis\", \"hzd\", \"hzv\", \"iapetus\", \"icon\", \"idacom\", \"ide\", \"ide\", \"ihl\", \"iisi\", \"iisi\", \"iisi\", \"illegally\", \"image\", \"image\", \"image\", \"image\", \"image\", \"image\", \"image\", \"image\", \"image\", \"imaginary\", \"imake\", \"immune\", \"include\", \"include\", \"include\", \"include\", \"include\", \"include\", \"include\", \"include\", \"include\", \"include\", \"include\", \"include\", \"include\", \"include\", \"include\", \"include\", \"include\", \"include\", \"increase\", \"increase\", \"increase\", \"increase\", \"increase\", \"increase\", \"increase\", \"increase\", \"increase\", \"increase\", \"increase\", \"increase\", \"increase\", \"increase\", \"increase\", \"increase\", \"indiana\", \"indiana\", \"industry\", \"industry\", \"industry\", \"industry\", \"industry\", \"industry\", \"infect\", \"infection\", \"infection\", \"info\", \"info\", \"info\", \"info\", \"info\", \"info\", \"info\", \"info\", \"info\", \"info\", \"info\", \"info\", \"information\", \"information\", \"information\", \"information\", \"information\", \"information\", \"information\", \"information\", \"information\", \"information\", \"information\", \"information\", \"information\", \"information\", \"information\", \"information\", \"information\", \"infrastructure\", \"ingr\", \"inhabitant\", \"inhabitant\", \"inherent\", \"inherent\", \"ini\", \"initiative\", \"injector\", \"input\", \"input\", \"input\", \"input\", \"input\", \"insurance\", \"insurance\", \"insurance\", \"insurance\", \"int\", \"int\", \"int\", \"intellect\", \"interest\", \"interest\", \"interest\", \"interest\", \"interest\", \"interest\", \"interest\", \"interest\", \"interest\", \"interest\", \"interest\", \"interest\", \"interest\", \"interest\", \"interest\", \"interest\", \"interest\", \"interest\", \"interleave\", \"internet\", \"internet\", \"internet\", \"internet\", \"internet\", \"internet\", \"internet\", \"interpretation\", \"interpretation\", \"interpretation\", \"interpretation\", \"intrinsic\", \"investment\", \"investment\", \"ioccc\", \"ipx\", \"iran\", \"iran\", \"iranian\", \"irgun\", \"irq\", \"isa\", \"isa\", \"isa\", \"islander\", \"isle\", \"isle\", \"israel\", \"israel\", \"israel\", \"israeli\", \"israelis\", \"issue\", \"issue\", \"issue\", \"issue\", \"issue\", \"issue\", \"issue\", \"issue\", \"issue\", \"issue\", \"issue\", \"issue\", \"issue\", \"issue\", \"issue\", \"issue\", \"issue\", \"issue\", \"istanbul\", \"istanbul\", \"itch\", \"ivf\", \"ivf\", \"ivy\", \"jesus\", \"jewish\", \"jewish\", \"jewish\", \"jewish\", \"jews\", \"jews\", \"jews\", \"jmd\", \"joke\", \"joke\", \"joke\", \"joke\", \"joke\", \"joke\", \"joke\", \"joke\", \"jpeg\", \"jpeg\", \"jpg\", \"judaism\", \"jumper\", \"jumper\", \"jxp\", \"karina\", \"kawasaki\", \"keenan\", \"keller\", \"key\", \"key\", \"key\", \"key\", \"key\", \"key\", \"key\", \"key\", \"key\", \"keystroke\", \"khf\", \"kid\", \"kid\", \"kid\", \"kid\", \"kid\", \"kid\", \"kid\", \"kill\", \"kill\", \"kill\", \"kill\", \"kill\", \"kill\", \"kill\", \"kill\", \"kill\", \"kill\", \"kill\", \"kill\", \"kill\", \"kingman\", \"kjz\", \"kjz\", \"kkeller\", \"klj\", \"knight\", \"korea\", \"koresh\", \"koresh\", \"lan\", \"land\", \"land\", \"land\", \"land\", \"land\", \"land\", \"land\", \"land\", \"land\", \"landon\", \"lane\", \"lane\", \"lane\", \"large\", \"large\", \"large\", \"large\", \"large\", \"large\", \"large\", \"large\", \"large\", \"large\", \"large\", \"large\", \"large\", \"large\", \"large\", \"large\", \"large\", \"large\", \"large\", \"larson\", \"latch\", \"launch\", \"launch\", \"launch\", \"launch\", \"launch\", \"law\", \"law\", \"law\", \"law\", \"law\", \"law\", \"law\", \"lcs\", \"ld\", \"lead\", \"lead\", \"lead\", \"lead\", \"lead\", \"lead\", \"lead\", \"lead\", \"lead\", \"lead\", \"lead\", \"lead\", \"lead\", \"lead\", \"lead\", \"lead\", \"leaf\", \"league\", \"league\", \"league\", \"leather\", \"leave\", \"leave\", \"leave\", \"leave\", \"leave\", \"leave\", \"leave\", \"leave\", \"leave\", \"leave\", \"leave\", \"leave\", \"leave\", \"leave\", \"leave\", \"leave\", \"leave\", \"leave\", \"lebanese\", \"lebanon\", \"len\", \"len\", \"lens\", \"lesbian\", \"let\", \"let\", \"let\", \"let\", \"let\", \"let\", \"let\", \"let\", \"let\", \"let\", \"let\", \"let\", \"let\", \"let\", \"let\", \"let\", \"let\", \"let\", \"let\", \"lhz\", \"lib\", \"lib\", \"liberty\", \"liberty\", \"liberty\", \"library\", \"library\", \"library\", \"library\", \"library\", \"library\", \"library\", \"library\", \"library\", \"life\", \"life\", \"life\", \"life\", \"life\", \"life\", \"life\", \"life\", \"life\", \"life\", \"life\", \"life\", \"life\", \"life\", \"light\", \"light\", \"light\", \"light\", \"light\", \"light\", \"light\", \"light\", \"light\", \"light\", \"light\", \"light\", \"light\", \"light\", \"light\", \"line\", \"line\", \"line\", \"line\", \"line\", \"line\", \"line\", \"line\", \"line\", \"line\", \"line\", \"line\", \"line\", \"line\", \"line\", \"line\", \"line\", \"line\", \"linux\", \"list\", \"list\", \"list\", \"list\", \"list\", \"list\", \"list\", \"list\", \"list\", \"list\", \"list\", \"list\", \"list\", \"list\", \"list\", \"list\", \"list\", \"list\", \"live\", \"live\", \"live\", \"live\", \"live\", \"live\", \"live\", \"live\", \"live\", \"live\", \"live\", \"live\", \"live\", \"live\", \"live\", \"loan\", \"lock\", \"lock\", \"lock\", \"lock\", \"lock\", \"lock\", \"lock\", \"lock\", \"lock\", \"lock\", \"lock\", \"lock\", \"lock\", \"lock\", \"long\", \"long\", \"long\", \"long\", \"long\", \"long\", \"long\", \"long\", \"long\", \"long\", \"long\", \"long\", \"long\", \"long\", \"long\", \"long\", \"long\", \"long\", \"look\", \"look\", \"look\", \"look\", \"look\", \"look\", \"look\", \"look\", \"look\", \"look\", \"look\", \"look\", \"look\", \"look\", \"look\", \"look\", \"look\", \"look\", \"lopez\", \"lord\", \"lord\", \"lord\", \"lose\", \"lose\", \"lose\", \"lose\", \"lose\", \"lose\", \"lose\", \"lose\", \"lose\", \"lose\", \"lose\", \"lose\", \"lose\", \"lose\", \"lose\", \"lose\", \"lot\", \"lot\", \"lot\", \"lot\", \"lot\", \"lot\", \"lot\", \"lot\", \"lot\", \"lot\", \"lot\", \"lot\", \"lot\", \"lot\", \"lot\", \"lot\", \"lot\", \"lot\", \"lousy\", \"love\", \"love\", \"love\", \"love\", \"love\", \"love\", \"love\", \"love\", \"love\", \"love\", \"love\", \"love\", \"low\", \"low\", \"low\", \"low\", \"low\", \"low\", \"low\", \"low\", \"low\", \"low\", \"low\", \"low\", \"low\", \"low\", \"low\", \"low\", \"low\", \"low\", \"lps\", \"lunar\", \"lunatic\", \"lunatic\", \"lyuda\", \"mac\", \"mac\", \"mac\", \"mac\", \"mac\", \"mac\", \"mach\", \"machine\", \"machine\", \"machine\", \"machine\", \"machine\", \"machine\", \"machine\", \"machine\", \"machine\", \"machine\", \"machine\", \"machine\", \"machine\", \"machine\", \"machine\", \"magazine\", \"magazine\", \"magazine\", \"magazine\", \"magazine\", \"magazine\", \"magazine\", \"magazine\", \"magazine\", \"magazine\", \"magazine\", \"magus\", \"mail\", \"mail\", \"mail\", \"mail\", \"mail\", \"mail\", \"mail\", \"mail\", \"mail\", \"mail\", \"mail\", \"mail\", \"mail\", \"mail\", \"mainstream\", \"mainstream\", \"mamma\", \"man\", \"man\", \"man\", \"man\", \"man\", \"man\", \"man\", \"man\", \"man\", \"man\", \"man\", \"man\", \"man\", \"man\", \"man\", \"manta\", \"manually\", \"mar\", \"mar\", \"mar\", \"mar\", \"mar\", \"marc\", \"marc\", \"marc\", \"marc\", \"marina\", \"marker\", \"market\", \"market\", \"market\", \"market\", \"market\", \"market\", \"market\", \"market\", \"market\", \"market\", \"market\", \"market\", \"market\", \"marriage\", \"marriage\", \"massacre\", \"massacre\", \"master\", \"master\", \"master\", \"master\", \"master\", \"master\", \"max\", \"max\", \"max\", \"maxtor\", \"maxtor\", \"maybe\", \"maybe\", \"maybe\", \"maybe\", \"maybe\", \"maybe\", \"maybe\", \"maybe\", \"maybe\", \"maybe\", \"maybe\", \"maybe\", \"maybe\", \"maybe\", \"maybe\", \"mazda\", \"mbs\", \"mcx\", \"mdi\", \"mean\", \"mean\", \"mean\", \"mean\", \"mean\", \"mean\", \"mean\", \"mean\", \"mean\", \"mean\", \"mean\", \"mean\", \"mean\", \"mean\", \"mean\", \"mean\", \"mean\", \"mean\", \"medical\", \"medical\", \"medical\", \"medical\", \"medical\", \"medical\", \"medicine\", \"medicine\", \"medicine\", \"medicine\", \"medicine\", \"medicine\", \"meg\", \"meg\", \"meg\", \"member\", \"member\", \"member\", \"member\", \"member\", \"member\", \"member\", \"member\", \"member\", \"member\", \"member\", \"member\", \"memoir\", \"memory\", \"memory\", \"memory\", \"memory\", \"memory\", \"memory\", \"memory\", \"memory\", \"memory\", \"memory\", \"mercedes\", \"metal\", \"metal\", \"metal\", \"metal\", \"methodology\", \"methodology\", \"metropolitan\", \"mfm\", \"mfq\", \"mhz\", \"mhz\", \"mhz\", \"mhz\", \"microdistrict\", \"microsoft\", \"microsoft\", \"midi\", \"mile\", \"mile\", \"mile\", \"mile\", \"mile\", \"mile\", \"mile\", \"mile\", \"mile\", \"militia\", \"militia\", \"militia\", \"min\", \"min\", \"min\", \"minnesota\", \"minnesota\", \"minority\", \"minority\", \"minority\", \"miss\", \"miss\", \"miss\", \"miss\", \"miss\", \"miss\", \"miss\", \"miss\", \"miss\", \"miss\", \"miss\", \"miss\", \"miss\", \"mission\", \"mission\", \"mission\", \"mission\", \"mississippi\", \"mit\", \"mit\", \"mit\", \"mixer\", \"mkentry\", \"mod\", \"mod\", \"mode\", \"mode\", \"mode\", \"mode\", \"mode\", \"mode\", \"mode\", \"mode\", \"mode\", \"model\", \"model\", \"model\", \"model\", \"model\", \"model\", \"model\", \"model\", \"model\", \"model\", \"model\", \"modem\", \"modem\", \"modem\", \"molest\", \"money\", \"money\", \"money\", \"money\", \"money\", \"money\", \"money\", \"money\", \"money\", \"money\", \"money\", \"money\", \"monitor\", \"monitor\", \"monitor\", \"monitor\", \"monitor\", \"monitor\", \"month\", \"month\", \"month\", \"month\", \"month\", \"month\", \"month\", \"month\", \"month\", \"month\", \"month\", \"month\", \"month\", \"month\", \"month\", \"month\", \"montreal\", \"moon\", \"moon\", \"moon\", \"moral\", \"moral\", \"moral\", \"moral\", \"moral\", \"mormon\", \"mormons\", \"morning\", \"morning\", \"morning\", \"morning\", \"morning\", \"morning\", \"morning\", \"mortality\", \"mother\", \"mother\", \"mother\", \"mother\", \"mother\", \"mother\", \"mother\", \"motherboard\", \"motherboard\", \"motherboard\", \"motif\", \"motif\", \"moto\", \"moto\", \"motorcycle\", \"motorcycle\", \"mount\", \"mount\", \"mount\", \"mount\", \"mount\", \"mount\", \"mpc\", \"mph\", \"mph\", \"mph\", \"mph\", \"mph\", \"mph\", \"msg\", \"msg\", \"mtm\", \"muhammad\", \"multiuser\", \"muslim\", \"muslim\", \"muslim\", \"muslim\", \"mydisplay\", \"myers\", \"myth\", \"myth\", \"nasa\", \"nasa\", \"nasa\", \"national\", \"national\", \"national\", \"national\", \"national\", \"national\", \"national\", \"national\", \"national\", \"national\", \"national\", \"nazi\", \"nazi\", \"nazis\", \"ncaa\", \"ncsl\", \"need\", \"need\", \"need\", \"need\", \"need\", \"need\", \"need\", \"need\", \"need\", \"need\", \"need\", \"need\", \"need\", \"need\", \"need\", \"need\", \"need\", \"need\", \"nei\", \"neighbor\", \"neighbor\", \"neighbor\", \"neighbor\", \"neighbor\", \"neighbor\", \"neu\", \"neutral\", \"neutral\", \"new\", \"new\", \"new\", \"new\", \"new\", \"new\", \"new\", \"new\", \"new\", \"new\", \"new\", \"new\", \"new\", \"new\", \"new\", \"new\", \"new\", \"new\", \"new\", \"news\", \"news\", \"news\", \"news\", \"news\", \"news\", \"news\", \"news\", \"news\", \"news\", \"news\", \"news\", \"news\", \"newsgroup\", \"newsgroup\", \"newsgroup\", \"newsgroup\", \"newsgroup\", \"newsgroup\", \"newsgroup\", \"newsgroup\", \"newsgroup\", \"newsgroup\", \"newsgroup\", \"newsletter\", \"newsletter\", \"newsletter\", \"newsletter\", \"newsletter\", \"newsletter\", \"nhl\", \"nic\", \"nic\", \"night\", \"night\", \"night\", \"night\", \"night\", \"night\", \"night\", \"night\", \"noise\", \"noise\", \"noise\", \"noise\", \"noise\", \"noise\", \"noise\", \"noise\", \"noll\", \"nords\", \"novell\", \"nra\", \"nra\", \"nrhj\", \"nriz\", \"nsa\", \"nuclear\", \"nuclear\", \"nuclear\", \"nuclear\", \"nuclear\", \"nuclear\", \"null\", \"null\", \"null\", \"null\", \"numb\", \"numb\", \"numb\", \"numb\", \"numb\", \"numb\", \"numb\", \"numb\", \"numb\", \"numb\", \"numb\", \"numb\", \"numb\", \"numb\", \"numb\", \"numb\", \"numb\", \"numb\", \"numlock\", \"nut\", \"nut\", \"nut\", \"nut\", \"nuy\", \"nyi\", \"obedience\", \"obfuscate\", \"obfuscate\", \"objective\", \"objective\", \"objective\", \"objective\", \"objective\", \"objective\", \"objective\", \"observatory\", \"occupation\", \"occupation\", \"occupy\", \"occupy\", \"offer\", \"offer\", \"offer\", \"offer\", \"offer\", \"offer\", \"offer\", \"offer\", \"offer\", \"offer\", \"officer\", \"officer\", \"officer\", \"officer\", \"officer\", \"oil\", \"oil\", \"oil\", \"oil\", \"oil\", \"oiler\", \"oklahoma\", \"oklahoma\", \"okz\", \"old\", \"old\", \"old\", \"old\", \"old\", \"old\", \"old\", \"old\", \"old\", \"old\", \"old\", \"old\", \"old\", \"old\", \"old\", \"old\", \"old\", \"old\", \"old\", \"onur\", \"open\", \"open\", \"open\", \"open\", \"open\", \"open\", \"open\", \"open\", \"open\", \"open\", \"open\", \"open\", \"open\", \"open\", \"open\", \"open\", \"open\", \"openwindows\", \"orbit\", \"orbital\", \"orbiter\", \"organism\", \"oscillator\", \"osf\", \"ottoman\", \"ottoman\", \"outbreak\", \"outlet\", \"output\", \"output\", \"output\", \"output\", \"output\", \"output\", \"outstanding\", \"overcome\", \"owner\", \"owner\", \"owner\", \"owner\", \"owner\", \"owner\", \"owner\", \"owner\", \"owner\", \"owner\", \"ozone\", \"ozone\", \"palestinians\", \"palette\", \"panel\", \"panel\", \"panel\", \"panel\", \"panel\", \"panel\", \"panel\", \"paranoid\", \"paranoid\", \"paranoid\", \"parliament\", \"parse\", \"passage\", \"passage\", \"passage\", \"patent\", \"patent\", \"patent\", \"patient\", \"patient\", \"pay\", \"pay\", \"pay\", \"pay\", \"pay\", \"pay\", \"pay\", \"pay\", \"pay\", \"pay\", \"pay\", \"pay\", \"pay\", \"pay\", \"pay\", \"pay\", \"payload\", \"pds\", \"pds\", \"peace\", \"peace\", \"peace\", \"peace\", \"peace\", \"pedal\", \"pedal\", \"pedal\", \"pem\", \"people\", \"people\", \"people\", \"people\", \"people\", \"people\", \"people\", \"people\", \"people\", \"people\", \"people\", \"people\", \"people\", \"people\", \"people\", \"people\", \"people\", \"people\", \"people\", \"period\", \"period\", \"period\", \"period\", \"period\", \"period\", \"period\", \"period\", \"period\", \"period\", \"period\", \"period\", \"period\", \"period\", \"period\", \"pex\", \"pgp\", \"pgp\", \"pgp\", \"phi\", \"philadelphia\", \"philadelphia\", \"philadelphia\", \"phone\", \"phone\", \"phone\", \"phone\", \"phone\", \"phone\", \"phone\", \"phone\", \"phone\", \"phone\", \"physician\", \"pick\", \"pick\", \"pick\", \"pick\", \"pick\", \"pick\", \"pick\", \"pick\", \"pick\", \"pick\", \"pick\", \"pick\", \"pick\", \"pick\", \"pick\", \"pile\", \"pin\", \"pin\", \"pin\", \"pink\", \"pink\", \"pirate\", \"pirate\", \"pirate\", \"pistol\", \"pistol\", \"pit\", \"pit\", \"pit\", \"pitch\", \"pitch\", \"pitch\", \"pitcher\", \"pitt\", \"pittsburgh\", \"pittsburgh\", \"pittsburgh\", \"pittsburgh\", \"pixmap\", \"pixmap\", \"pkp\", \"plaintext\", \"planet\", \"planet\", \"planet\", \"planet\", \"planet\", \"planetary\", \"plant\", \"plant\", \"plant\", \"plant\", \"play\", \"play\", \"play\", \"play\", \"play\", \"play\", \"play\", \"play\", \"play\", \"play\", \"play\", \"play\", \"play\", \"play\", \"play\", \"player\", \"player\", \"player\", \"player\", \"player\", \"player\", \"playoff\", \"plutonium\", \"pmf\", \"pmfq\", \"pne\", \"pnei\", \"point\", \"point\", \"point\", \"point\", \"point\", \"point\", \"point\", \"point\", \"point\", \"point\", \"point\", \"point\", \"point\", \"point\", \"point\", \"point\", \"point\", \"point\", \"police\", \"police\", \"police\", \"police\", \"police\", \"police\", \"policy\", \"policy\", \"policy\", \"policy\", \"policy\", \"policy\", \"policy\", \"polish\", \"pope\", \"population\", \"population\", \"population\", \"population\", \"population\", \"population\", \"population\", \"population\", \"port\", \"port\", \"port\", \"port\", \"port\", \"port\", \"post\", \"post\", \"post\", \"post\", \"post\", \"post\", \"post\", \"post\", \"post\", \"post\", \"post\", \"post\", \"post\", \"post\", \"post\", \"post\", \"post\", \"post\", \"post\", \"posting\", \"posting\", \"posting\", \"posting\", \"posting\", \"posting\", \"posting\", \"power\", \"power\", \"power\", \"power\", \"power\", \"power\", \"power\", \"power\", \"power\", \"power\", \"power\", \"power\", \"power\", \"power\", \"power\", \"power\", \"powerpc\", \"prayer\", \"predict\", \"predict\", \"predict\", \"predict\", \"president\", \"president\", \"president\", \"president\", \"president\", \"president\", \"president\", \"pretty\", \"pretty\", \"pretty\", \"pretty\", \"pretty\", \"pretty\", \"pretty\", \"pretty\", \"pretty\", \"pretty\", \"pretty\", \"pretty\", \"pretty\", \"pretty\", \"pretty\", \"prevalence\", \"prevention\", \"prevention\", \"prey\", \"price\", \"price\", \"price\", \"price\", \"price\", \"price\", \"price\", \"price\", \"price\", \"price\", \"price\", \"price\", \"price\", \"price\", \"priest\", \"printf\", \"privacy\", \"privacy\", \"privacy\", \"private\", \"private\", \"private\", \"private\", \"private\", \"private\", \"private\", \"private\", \"private\", \"probably\", \"probably\", \"probably\", \"probably\", \"probably\", \"probably\", \"probably\", \"probably\", \"probably\", \"probably\", \"probably\", \"probably\", \"probably\", \"probably\", \"probably\", \"probably\", \"probably\", \"probably\", \"probe\", \"probe\", \"probe\", \"probe\", \"probe\", \"problem\", \"problem\", \"problem\", \"problem\", \"problem\", \"problem\", \"problem\", \"problem\", \"problem\", \"problem\", \"problem\", \"problem\", \"problem\", \"problem\", \"problem\", \"problem\", \"problem\", \"problem\", \"prodrive\", \"prog\", \"program\", \"program\", \"program\", \"program\", \"program\", \"program\", \"program\", \"program\", \"program\", \"prohibition\", \"project\", \"project\", \"project\", \"project\", \"project\", \"project\", \"project\", \"project\", \"project\", \"prophesy\", \"prophesy\", \"prophet\", \"proposal\", \"proposal\", \"proposal\", \"proposal\", \"proposal\", \"propulsion\", \"protein\", \"provide\", \"provide\", \"provide\", \"provide\", \"provide\", \"provide\", \"provide\", \"provide\", \"provide\", \"provide\", \"provide\", \"provide\", \"provide\", \"provide\", \"provide\", \"provide\", \"psychology\", \"psychology\", \"psychology\", \"psychology\", \"pt\", \"ptr\", \"pub\", \"pub\", \"pub\", \"pub\", \"public\", \"public\", \"public\", \"public\", \"public\", \"public\", \"public\", \"public\", \"public\", \"public\", \"public\", \"public\", \"public\", \"puck\", \"pulse\", \"pulse\", \"pump\", \"pump\", \"qax\", \"qtm\", \"quadra\", \"quakers\", \"que\", \"question\", \"question\", \"question\", \"question\", \"question\", \"question\", \"question\", \"question\", \"question\", \"question\", \"question\", \"question\", \"question\", \"question\", \"question\", \"question\", \"question\", \"question\", \"quickdraw\", \"quicktime\", \"qvf\", \"qvg\", \"race\", \"race\", \"race\", \"race\", \"race\", \"race\", \"race\", \"race\", \"race\", \"race\", \"race\", \"race\", \"race\", \"race\", \"radar\", \"radar\", \"radar\", \"radioactive\", \"ram\", \"ram\", \"ram\", \"ranford\", \"ranger\", \"ranger\", \"ranger\", \"ranger\", \"rate\", \"rate\", \"rate\", \"rate\", \"rate\", \"rate\", \"rate\", \"rate\", \"rate\", \"rate\", \"rate\", \"rate\", \"rate\", \"rayshade\", \"rchz\", \"rck\", \"reactor\", \"read\", \"read\", \"read\", \"read\", \"read\", \"read\", \"read\", \"read\", \"read\", \"read\", \"read\", \"read\", \"read\", \"read\", \"read\", \"read\", \"read\", \"read\", \"readme\", \"readme\", \"rear\", \"rear\", \"rear\", \"rear\", \"rear\", \"reason\", \"reason\", \"reason\", \"reason\", \"reason\", \"reason\", \"reason\", \"reason\", \"reason\", \"reason\", \"reason\", \"reason\", \"reason\", \"reason\", \"reason\", \"reason\", \"reason\", \"reason\", \"rebind\", \"rebuild\", \"rebuild\", \"rec\", \"rec\", \"rec\", \"rec\", \"rec\", \"rec\", \"rec\", \"receiver\", \"receiver\", \"receiver\", \"receiver\", \"receiver\", \"recipient\", \"recipient\", \"rednecks\", \"refugee\", \"regulator\", \"reilly\", \"rein\", \"religion\", \"religion\", \"religion\", \"religion\", \"religious\", \"religious\", \"religious\", \"religious\", \"religious\", \"religious\", \"remark\", \"remark\", \"remark\", \"remark\", \"remark\", \"remember\", \"remember\", \"remember\", \"remember\", \"remember\", \"remember\", \"remember\", \"remember\", \"remember\", \"remember\", \"remember\", \"remember\", \"remember\", \"remember\", \"remember\", \"remember\", \"remember\", \"remember\", \"repair\", \"repair\", \"repair\", \"report\", \"report\", \"report\", \"report\", \"report\", \"report\", \"report\", \"report\", \"report\", \"report\", \"report\", \"report\", \"report\", \"report\", \"report\", \"repost\", \"repost\", \"reproductive\", \"republicans\", \"request\", \"request\", \"request\", \"request\", \"request\", \"request\", \"request\", \"request\", \"request\", \"request\", \"request\", \"request\", \"rescue\", \"research\", \"research\", \"research\", \"research\", \"research\", \"research\", \"research\", \"research\", \"research\", \"resistor\", \"resource\", \"resource\", \"resource\", \"resource\", \"resource\", \"resource\", \"resource\", \"resource\", \"respectable\", \"respectable\", \"return\", \"return\", \"return\", \"return\", \"return\", \"return\", \"return\", \"return\", \"return\", \"return\", \"return\", \"return\", \"return\", \"return\", \"revelation\", \"revise\", \"revise\", \"revolution\", \"revolution\", \"revolver\", \"revolver\", \"rhode\", \"ride\", \"ride\", \"ride\", \"rifle\", \"rifle\", \"right\", \"right\", \"right\", \"right\", \"right\", \"right\", \"right\", \"right\", \"right\", \"right\", \"right\", \"right\", \"right\", \"right\", \"right\", \"right\", \"right\", \"right\", \"right\", \"ripem\", \"risc\", \"risk\", \"risk\", \"risk\", \"risk\", \"risk\", \"risk\", \"risk\", \"risk\", \"risk\", \"risk\", \"risk\", \"rkba\", \"rlk\", \"rlk\", \"rmc\", \"rmw\", \"road\", \"road\", \"road\", \"road\", \"road\", \"road\", \"road\", \"road\", \"road\", \"road\", \"road\", \"road\", \"rochester\", \"rockefeller\", \"rocket\", \"rocket\", \"rocket\", \"rocket\", \"rocket\", \"rom\", \"rom\", \"rom\", \"rom\", \"row\", \"row\", \"row\", \"row\", \"row\", \"rsa\", \"rsaref\", \"rule\", \"rule\", \"rule\", \"rule\", \"rule\", \"rule\", \"rule\", \"rule\", \"rule\", \"rule\", \"rule\", \"rule\", \"rule\", \"rule\", \"rule\", \"rule\", \"run\", \"run\", \"run\", \"run\", \"run\", \"run\", \"run\", \"run\", \"run\", \"run\", \"run\", \"run\", \"run\", \"run\", \"run\", \"run\", \"run\", \"run\", \"russian\", \"russian\", \"russian\", \"russian\", \"russian\", \"rust\", \"sabbath\", \"sabre\", \"sabre\", \"safety\", \"safety\", \"safety\", \"safety\", \"safety\", \"safety\", \"safety\", \"sale\", \"sale\", \"sale\", \"sale\", \"sale\", \"sale\", \"sale\", \"sale\", \"sale\", \"salesman\", \"sas\", \"sas\", \"satellite\", \"satellite\", \"saturn\", \"saturn\", \"saw\", \"say\", \"say\", \"say\", \"say\", \"say\", \"say\", \"say\", \"say\", \"say\", \"say\", \"say\", \"say\", \"say\", \"say\", \"say\", \"say\", \"say\", \"sceptical\", \"scheme\", \"scheme\", \"scheme\", \"scheme\", \"scheme\", \"sci\", \"sci\", \"sci\", \"sci\", \"sci\", \"sci\", \"science\", \"science\", \"science\", \"science\", \"science\", \"science\", \"science\", \"scientific\", \"scientific\", \"scientific\", \"scientific\", \"scientific\", \"scientific\", \"scientific\", \"score\", \"score\", \"scorer\", \"screen\", \"screen\", \"screen\", \"screen\", \"screen\", \"screen\", \"screen\", \"screw\", \"screw\", \"screw\", \"screw\", \"screw\", \"screw\", \"scripture\", \"scsi\", \"season\", \"season\", \"secret\", \"secret\", \"secret\", \"secret\", \"secret\", \"secret\", \"secret\", \"secret\", \"section\", \"section\", \"section\", \"section\", \"section\", \"section\", \"section\", \"section\", \"section\", \"section\", \"section\", \"section\", \"sector\", \"sector\", \"sector\", \"secure\", \"secure\", \"secure\", \"secure\", \"secure\", \"security\", \"security\", \"security\", \"security\", \"security\", \"sedan\", \"see\", \"see\", \"see\", \"see\", \"see\", \"see\", \"see\", \"see\", \"see\", \"see\", \"see\", \"see\", \"see\", \"see\", \"see\", \"see\", \"see\", \"see\", \"see\", \"seizure\", \"seizure\", \"sell\", \"sell\", \"sell\", \"sell\", \"sell\", \"sell\", \"sell\", \"sell\", \"sell\", \"sell\", \"sell\", \"sell\", \"sell\", \"seller\", \"seller\", \"seller\", \"send\", \"send\", \"send\", \"send\", \"send\", \"send\", \"send\", \"send\", \"send\", \"send\", \"send\", \"send\", \"send\", \"send\", \"send\", \"sensor\", \"sensor\", \"sensor\", \"serbs\", \"server\", \"server\", \"server\", \"server\", \"set\", \"set\", \"set\", \"set\", \"set\", \"set\", \"set\", \"set\", \"set\", \"set\", \"set\", \"set\", \"set\", \"set\", \"set\", \"set\", \"set\", \"set\", \"setting\", \"setting\", \"sgi\", \"sgi\", \"shameful\", \"shift\", \"shift\", \"shift\", \"shift\", \"shift\", \"shift\", \"shift\", \"shift\", \"shift\", \"shift\", \"shift\", \"ship\", \"ship\", \"ship\", \"ship\", \"ship\", \"ship\", \"ship\", \"ship\", \"ship\", \"ship\", \"ship\", \"shotgun\", \"shout\", \"shout\", \"shuttle\", \"shz\", \"siggraph\", \"signal\", \"signal\", \"signal\", \"signal\", \"signal\", \"signal\", \"signal\", \"signal\", \"signal\", \"simms\", \"simulate\", \"sin\", \"sin\", \"sin\", \"single\", \"single\", \"single\", \"single\", \"single\", \"single\", \"single\", \"single\", \"single\", \"single\", \"single\", \"single\", \"single\", \"single\", \"single\", \"single\", \"single\", \"sinus\", \"site\", \"site\", \"site\", \"site\", \"site\", \"site\", \"site\", \"site\", \"site\", \"site\", \"site\", \"site\", \"size\", \"size\", \"size\", \"size\", \"size\", \"size\", \"size\", \"size\", \"size\", \"size\", \"size\", \"size\", \"size\", \"size\", \"size\", \"size\", \"skipjack\", \"slave\", \"slave\", \"sleeve\", \"sleeve\", \"smiley\", \"smiley\", \"smiley\", \"smoke\", \"smoke\", \"smoke\", \"smoke\", \"sock\", \"software\", \"software\", \"software\", \"software\", \"software\", \"software\", \"software\", \"software\", \"solar\", \"solar\", \"solder\", \"soldier\", \"soldier\", \"soldier\", \"sorry\", \"sorry\", \"sorry\", \"sorry\", \"sorry\", \"sorry\", \"sorry\", \"sorry\", \"sorry\", \"sorry\", \"sorry\", \"sorry\", \"sorry\", \"sorry\", \"sorry\", \"sorry\", \"source\", \"source\", \"source\", \"source\", \"source\", \"source\", \"source\", \"source\", \"source\", \"source\", \"source\", \"source\", \"source\", \"source\", \"south\", \"south\", \"south\", \"south\", \"south\", \"south\", \"south\", \"south\", \"south\", \"south\", \"space\", \"space\", \"space\", \"space\", \"space\", \"space\", \"space\", \"space\", \"space\", \"spacecraft\", \"speed\", \"speed\", \"speed\", \"speed\", \"speed\", \"speed\", \"speed\", \"speed\", \"speed\", \"speed\", \"speed\", \"speed\", \"speed\", \"speed\", \"speedstar\", \"sperm\", \"sphere\", \"sphere\", \"sphere\", \"sphere\", \"spider\", \"spider\", \"spirit\", \"spirit\", \"spirit\", \"spirit\", \"spirit\", \"sqs\", \"stadium\", \"stand\", \"stand\", \"stand\", \"stand\", \"stand\", \"stand\", \"stand\", \"stand\", \"stand\", \"stand\", \"stand\", \"stand\", \"stand\", \"stand\", \"stand\", \"start\", \"start\", \"start\", \"start\", \"start\", \"start\", \"start\", \"start\", \"start\", \"start\", \"start\", \"start\", \"start\", \"start\", \"start\", \"start\", \"start\", \"start\", \"state\", \"state\", \"state\", \"state\", \"state\", \"state\", \"state\", \"state\", \"state\", \"state\", \"state\", \"state\", \"state\", \"state\", \"state\", \"state\", \"state\", \"state\", \"state\", \"statute\", \"stderr\", \"stdin\", \"steer\", \"stereo\", \"stereo\", \"stereo\", \"stimulus\", \"stimulus\", \"stl\", \"stop\", \"stop\", \"stop\", \"stop\", \"stop\", \"stop\", \"stop\", \"stop\", \"stop\", \"stop\", \"stop\", \"stop\", \"stop\", \"stop\", \"stop\", \"stop\", \"stop\", \"stream\", \"stream\", \"stream\", \"stream\", \"stream\", \"stream\", \"street\", \"street\", \"street\", \"street\", \"street\", \"street\", \"street\", \"street\", \"street\", \"street\", \"street\", \"street\", \"study\", \"study\", \"study\", \"study\", \"study\", \"study\", \"study\", \"study\", \"study\", \"subjective\", \"submission\", \"submission\", \"sugar\", \"sumgait\", \"summit\", \"sun\", \"sun\", \"sun\", \"sun\", \"sun\", \"sun\", \"sun\", \"sun\", \"sun\", \"sun\", \"sun\", \"sunlight\", \"sunos\", \"supply\", \"supply\", \"supply\", \"supply\", \"supply\", \"supply\", \"supply\", \"supply\", \"supply\", \"supply\", \"supply\", \"supply\", \"supply\", \"supra\", \"sure\", \"sure\", \"sure\", \"sure\", \"sure\", \"sure\", \"sure\", \"sure\", \"sure\", \"sure\", \"sure\", \"sure\", \"sure\", \"sure\", \"sure\", \"sure\", \"sure\", \"sure\", \"sure\", \"surface\", \"surface\", \"surface\", \"surface\", \"surface\", \"surface\", \"surface\", \"surveillance\", \"surveillance\", \"surveillance\", \"svr\", \"switch\", \"switch\", \"switch\", \"switch\", \"switch\", \"switch\", \"switch\", \"switch\", \"switch\", \"switch\", \"switch\", \"switch\", \"symmetric\", \"sync\", \"syndrome\", \"syndrome\", \"syndrome\", \"syndrome\", \"syquest\", \"syrian\", \"system\", \"system\", \"system\", \"system\", \"system\", \"system\", \"system\", \"system\", \"system\", \"system\", \"system\", \"system\", \"system\", \"system\", \"system\", \"system\", \"system\", \"take\", \"take\", \"take\", \"take\", \"take\", \"take\", \"take\", \"take\", \"take\", \"take\", \"take\", \"take\", \"take\", \"take\", \"take\", \"take\", \"take\", \"take\", \"tall\", \"tall\", \"tall\", \"tan\", \"tan\", \"tank\", \"tank\", \"tank\", \"tank\", \"tank\", \"tank\", \"tape\", \"tape\", \"tape\", \"tape\", \"tape\", \"tape\", \"tape\", \"tape\", \"tape\", \"tape\", \"tar\", \"tar\", \"tar\", \"tartar\", \"taurus\", \"tbxn\", \"tct\", \"teach\", \"teach\", \"teach\", \"teach\", \"teach\", \"teach\", \"teach\", \"teach\", \"teach\", \"team\", \"team\", \"team\", \"team\", \"team\", \"team\", \"team\", \"technology\", \"technology\", \"technology\", \"technology\", \"technology\", \"technology\", \"technology\", \"tek\", \"tek\", \"telescope\", \"telescope\", \"tell\", \"tell\", \"tell\", \"tell\", \"tell\", \"tell\", \"tell\", \"tell\", \"tell\", \"tell\", \"tell\", \"tell\", \"tell\", \"tell\", \"tell\", \"tell\", \"tell\", \"tell\", \"telnet\", \"temp\", \"temporal\", \"territory\", \"territory\", \"territory\", \"territory\", \"test\", \"test\", \"test\", \"test\", \"test\", \"test\", \"test\", \"test\", \"test\", \"test\", \"test\", \"test\", \"test\", \"test\", \"test\", \"testament\", \"tex\", \"thank\", \"thank\", \"thank\", \"thank\", \"thank\", \"thank\", \"thank\", \"thank\", \"thank\", \"thank\", \"thank\", \"thank\", \"thank\", \"thank\", \"thank\", \"thank\", \"thank\", \"theirs\", \"theist\", \"theist\", \"theory\", \"theory\", \"theory\", \"theory\", \"theory\", \"theory\", \"theory\", \"theory\", \"theory\", \"theory\", \"theory\", \"therapy\", \"therapy\", \"therapy\", \"thereof\", \"thermal\", \"thermal\", \"thing\", \"thing\", \"thing\", \"thing\", \"thing\", \"thing\", \"thing\", \"thing\", \"thing\", \"thing\", \"thing\", \"thing\", \"thing\", \"thing\", \"thing\", \"thing\", \"thing\", \"thing\", \"thruster\", \"ticket\", \"ticket\", \"ticket\", \"ticket\", \"tiger\", \"tiger\", \"time\", \"time\", \"time\", \"time\", \"time\", \"time\", \"time\", \"time\", \"time\", \"time\", \"time\", \"time\", \"time\", \"time\", \"time\", \"time\", \"time\", \"time\", \"time\", \"tire\", \"tire\", \"tire\", \"tire\", \"tire\", \"tire\", \"titan\", \"titan\", \"title\", \"title\", \"title\", \"title\", \"title\", \"title\", \"title\", \"title\", \"title\", \"title\", \"toad\", \"toolkit\", \"tor\", \"toronto\", \"toronto\", \"toronto\", \"toronto\", \"toronto\", \"torque\", \"torque\", \"toshiba\", \"toyota\", \"toyota\", \"trade\", \"trade\", \"trade\", \"trade\", \"trade\", \"trade\", \"trade\", \"trade\", \"trade\", \"trade\", \"trade\", \"trade\", \"trader\", \"traffic\", \"traffic\", \"traffic\", \"traffic\", \"traffic\", \"traffic\", \"transformer\", \"transistor\", \"transmitter\", \"treatment\", \"treatment\", \"treatment\", \"treatment\", \"treatment\", \"treatment\", \"treatment\", \"treatment\", \"troop\", \"troop\", \"troop\", \"troop\", \"trophy\", \"true\", \"true\", \"true\", \"true\", \"true\", \"true\", \"true\", \"true\", \"true\", \"true\", \"true\", \"true\", \"true\", \"true\", \"true\", \"true\", \"true\", \"true\", \"truetype\", \"trunk\", \"truth\", \"truth\", \"truth\", \"truth\", \"truth\", \"truth\", \"try\", \"try\", \"try\", \"try\", \"try\", \"try\", \"try\", \"try\", \"try\", \"try\", \"try\", \"try\", \"try\", \"try\", \"try\", \"try\", \"try\", \"try\", \"tulsa\", \"turkey\", \"turkey\", \"turkey\", \"turkish\", \"turkish\", \"turks\", \"turks\", \"turn\", \"turn\", \"turn\", \"turn\", \"turn\", \"turn\", \"turn\", \"turn\", \"turn\", \"turn\", \"turn\", \"turn\", \"turn\", \"turn\", \"turn\", \"turn\", \"tutorial\", \"tyre\", \"uci\", \"uci\", \"uci\", \"ucs\", \"ucs\", \"ucs\", \"ucs\", \"und\", \"unit\", \"unit\", \"unit\", \"unit\", \"unit\", \"unit\", \"unit\", \"unit\", \"unit\", \"unit\", \"unit\", \"unit\", \"unit\", \"unite\", \"unite\", \"unite\", \"unite\", \"unite\", \"unite\", \"unite\", \"unix\", \"unix\", \"unix\", \"unix\", \"unix\", \"unofficial\", \"upenn\", \"upgrade\", \"upgrade\", \"upgrade\", \"upgrade\", \"upload\", \"upload\", \"upload\", \"use\", \"use\", \"use\", \"use\", \"use\", \"use\", \"use\", \"use\", \"use\", \"use\", \"use\", \"use\", \"use\", \"use\", \"use\", \"use\", \"use\", \"use\", \"use\", \"usenet\", \"usenet\", \"usenet\", \"usenet\", \"usenet\", \"user\", \"user\", \"user\", \"user\", \"user\", \"user\", \"user\", \"user\", \"user\", \"user\", \"user\", \"usr\", \"usr\", \"usr\", \"usr\", \"uuencode\", \"uuencode\", \"uwa\", \"uwa\", \"uwt\", \"uww\", \"vaccine\", \"value\", \"value\", \"value\", \"value\", \"value\", \"value\", \"value\", \"value\", \"value\", \"value\", \"value\", \"value\", \"value\", \"value\", \"valve\", \"valve\", \"van\", \"van\", \"van\", \"van\", \"van\", \"van\", \"van\", \"van\", \"vat\", \"vat\", \"vat\", \"vehicle\", \"vehicle\", \"vehicle\", \"vehicle\", \"vehicle\", \"vehicle\", \"vehicle\", \"vehicle\", \"vehicle\", \"vehicle\", \"venus\", \"ver\", \"verse\", \"version\", \"version\", \"version\", \"version\", \"version\", \"version\", \"version\", \"version\", \"version\", \"version\", \"version\", \"version\", \"version\", \"version\", \"vesa\", \"vesa\", \"vesa\", \"vga\", \"vga\", \"video\", \"video\", \"video\", \"video\", \"video\", \"video\", \"viewer\", \"village\", \"village\", \"violent\", \"violent\", \"violent\", \"visual\", \"visual\", \"visual\", \"visualization\", \"vitamin\", \"vlb\", \"vmk\", \"volt\", \"voltage\", \"volvo\", \"vote\", \"vote\", \"vote\", \"vote\", \"vote\", \"voyager\", \"vpic\", \"vram\", \"waco\", \"waco\", \"waco\", \"wagon\", \"wale\", \"want\", \"want\", \"want\", \"want\", \"want\", \"want\", \"want\", \"want\", \"want\", \"want\", \"want\", \"want\", \"want\", \"want\", \"want\", \"want\", \"want\", \"want\", \"want\", \"war\", \"war\", \"war\", \"war\", \"war\", \"war\", \"war\", \"war\", \"water\", \"water\", \"water\", \"water\", \"water\", \"water\", \"water\", \"watt\", \"watt\", \"watt\", \"watt\", \"way\", \"way\", \"way\", \"way\", \"way\", \"way\", \"way\", \"way\", \"way\", \"way\", \"way\", \"way\", \"way\", \"way\", \"way\", \"way\", \"way\", \"way\", \"way\", \"weapon\", \"weapon\", \"weapon\", \"weapon\", \"weapon\", \"weekend\", \"weekend\", \"weekend\", \"weekend\", \"weekend\", \"weekend\", \"weekend\", \"well\", \"well\", \"well\", \"well\", \"well\", \"well\", \"well\", \"well\", \"well\", \"well\", \"well\", \"well\", \"well\", \"well\", \"well\", \"well\", \"well\", \"well\", \"well\", \"whitespace\", \"widget\", \"widget\", \"wife\", \"wife\", \"wife\", \"wife\", \"wife\", \"wife\", \"wife\", \"win\", \"win\", \"win\", \"win\", \"win\", \"win\", \"win\", \"win\", \"win\", \"win\", \"win\", \"win\", \"win\", \"win\", \"win\", \"win\", \"win\", \"win\", \"window\", \"window\", \"window\", \"window\", \"window\", \"window\", \"window\", \"window\", \"wing\", \"wing\", \"wing\", \"wing\", \"wing\", \"wing\", \"wing\", \"wing\", \"winmarks\", \"winnipeg\", \"wire\", \"wire\", \"wire\", \"wire\", \"wiretap\", \"woman\", \"woman\", \"woman\", \"woman\", \"woman\", \"woman\", \"woman\", \"woman\", \"word\", \"word\", \"word\", \"word\", \"word\", \"word\", \"word\", \"word\", \"word\", \"word\", \"word\", \"word\", \"word\", \"word\", \"word\", \"word\", \"word\", \"work\", \"work\", \"work\", \"work\", \"work\", \"work\", \"work\", \"work\", \"work\", \"work\", \"work\", \"work\", \"work\", \"work\", \"work\", \"work\", \"work\", \"work\", \"work\", \"workspace\", \"world\", \"world\", \"world\", \"world\", \"world\", \"world\", \"world\", \"world\", \"world\", \"world\", \"world\", \"world\", \"world\", \"world\", \"world\", \"world\", \"world\", \"world\", \"world\", \"worship\", \"wouldn\", \"wouldn\", \"wouldn\", \"wouldn\", \"wouldn\", \"wouldn\", \"wouldn\", \"wouldn\", \"wouldn\", \"wouldn\", \"wouldn\", \"wouldn\", \"wouldn\", \"wrench\", \"write\", \"write\", \"write\", \"write\", \"write\", \"write\", \"write\", \"write\", \"write\", \"write\", \"write\", \"write\", \"write\", \"write\", \"write\", \"write\", \"write\", \"write\", \"wrong\", \"wrong\", \"wrong\", \"wrong\", \"wrong\", \"wrong\", \"wrong\", \"wrong\", \"wrong\", \"wrong\", \"wrong\", \"wrong\", \"wrong\", \"wrong\", \"wrong\", \"wrong\", \"wrong\", \"wrong\", \"wwiz\", \"xdm\", \"xfree\", \"xga\", \"xlib\", \"xlib\", \"xlib\", \"xte\", \"xterm\", \"xterm\", \"xview\", \"xview\", \"xwd\", \"xxi\", \"yalcin\", \"yassin\", \"year\", \"year\", \"year\", \"year\", \"year\", \"year\", \"year\", \"year\", \"year\", \"year\", \"year\", \"year\", \"year\", \"year\", \"year\", \"year\", \"year\", \"year\", \"year\", \"yes\", \"yes\", \"yes\", \"yes\", \"yes\", \"yes\", \"yes\", \"yes\", \"yes\", \"yes\", \"yes\", \"yes\", \"yes\", \"yes\", \"yes\", \"yes\", \"yes\", \"yes\", \"youth\", \"youth\", \"youth\", \"youth\", \"zip\", \"zip\", \"zip\", \"zip\"]}, \"R\": 30, \"lambda.step\": 0.01, \"plot.opts\": {\"xlab\": \"PC1\", \"ylab\": \"PC2\"}, \"topic.order\": [19, 12, 1, 20, 17, 8, 14, 2, 18, 5, 3, 16, 6, 13, 9, 15, 11, 4, 7, 10]};\n",
       "\n",
       "function LDAvis_load_lib(url, callback){\n",
       "  var s = document.createElement('script');\n",
       "  s.src = url;\n",
       "  s.async = true;\n",
       "  s.onreadystatechange = s.onload = callback;\n",
       "  s.onerror = function(){console.warn(\"failed to load library \" + url);};\n",
       "  document.getElementsByTagName(\"head\")[0].appendChild(s);\n",
       "}\n",
       "\n",
       "if(typeof(LDAvis) !== \"undefined\"){\n",
       "   // already loaded: just create the visualization\n",
       "   !function(LDAvis){\n",
       "       new LDAvis(\"#\" + \"ldavis_el203551403803160426083257112402\", ldavis_el203551403803160426083257112402_data);\n",
       "   }(LDAvis);\n",
       "}else if(typeof define === \"function\" && define.amd){\n",
       "   // require.js is available: use it to load d3/LDAvis\n",
       "   require.config({paths: {d3: \"https://cdnjs.cloudflare.com/ajax/libs/d3/3.5.5/d3.min\"}});\n",
       "   require([\"d3\"], function(d3){\n",
       "      window.d3 = d3;\n",
       "      LDAvis_load_lib(\"https://cdn.rawgit.com/bmabey/pyLDAvis/files/ldavis.v1.0.0.js\", function(){\n",
       "        new LDAvis(\"#\" + \"ldavis_el203551403803160426083257112402\", ldavis_el203551403803160426083257112402_data);\n",
       "      });\n",
       "    });\n",
       "}else{\n",
       "    // require.js not available: dynamically load d3 & LDAvis\n",
       "    LDAvis_load_lib(\"https://cdnjs.cloudflare.com/ajax/libs/d3/3.5.5/d3.min.js\", function(){\n",
       "         LDAvis_load_lib(\"https://cdn.rawgit.com/bmabey/pyLDAvis/files/ldavis.v1.0.0.js\", function(){\n",
       "                 new LDAvis(\"#\" + \"ldavis_el203551403803160426083257112402\", ldavis_el203551403803160426083257112402_data);\n",
       "            })\n",
       "         });\n",
       "}\n",
       "</script>"
      ],
      "text/plain": [
       "PreparedData(topic_coordinates=              x         y  topics  cluster       Freq\n",
       "topic                                                \n",
       "18     0.108162  0.090740       1        1  13.448353\n",
       "11     0.096425 -0.019293       2        1   9.354547\n",
       "0      0.084192 -0.145655       3        1   9.230107\n",
       "19     0.035889 -0.246805       4        1   9.161510\n",
       "16     0.095543  0.161540       5        1   8.027723\n",
       "7      0.068501  0.096454       6        1   6.257827\n",
       "13     0.005474  0.097306       7        1   6.096590\n",
       "1      0.048538 -0.018795       8        1   4.628172\n",
       "17     0.072032 -0.036539       9        1   4.504948\n",
       "4      0.035193  0.166899      10        1   4.450911\n",
       "2      0.089612  0.127064      11        1   3.831065\n",
       "15    -0.027661 -0.215853      12        1   3.406452\n",
       "5      0.034028 -0.001933      13        1   3.225550\n",
       "12     0.037742  0.019095      14        1   3.174391\n",
       "8      0.043588  0.032207      15        1   2.958739\n",
       "14    -0.043621 -0.196316      16        1   2.353734\n",
       "10     0.020525  0.052018      17        1   1.964548\n",
       "3     -0.011283 -0.070110      18        1   1.533195\n",
       "6     -0.440510  0.040024      19        1   1.302490\n",
       "9     -0.352371  0.067952      20        1   1.089149, topic_info=          Term         Freq        Total Category  logprob  loglift\n",
       "1612       max  4765.000000  4765.000000  Default  30.0000  30.0000\n",
       "216       file  2569.000000  2569.000000  Default  29.0000  29.0000\n",
       "239      drive  1951.000000  1951.000000  Default  28.0000  28.0000\n",
       "80         edu  2415.000000  2415.000000  Default  27.0000  27.0000\n",
       "1124       god  2230.000000  2230.000000  Default  26.0000  26.0000\n",
       "...        ...          ...          ...      ...      ...      ...\n",
       "3564   florida    48.137904   105.637091  Topic20  -5.3170   3.7338\n",
       "1217       kid    47.864767   254.177723  Topic20  -5.3227   2.8501\n",
       "752   coverage    37.708248   121.416615  Topic20  -5.5612   3.3504\n",
       "4668  abortion    35.020594    74.235795  Topic20  -5.6352   3.7685\n",
       "2792   predict    34.643090   121.849064  Topic20  -5.6460   3.2621\n",
       "\n",
       "[1388 rows x 6 columns], token_table=      Topic      Freq   Term\n",
       "term                        \n",
       "348       1  0.107707      2\n",
       "348       2  0.064624      2\n",
       "348       3  0.121709      2\n",
       "348       4  0.019387      2\n",
       "348       5  0.092628      2\n",
       "...     ...       ...    ...\n",
       "5516     10  0.045348  youth\n",
       "4365      3  0.034897    zip\n",
       "4365      4  0.005816    zip\n",
       "4365     12  0.907311    zip\n",
       "4365     18  0.040713    zip\n",
       "\n",
       "[5751 rows x 3 columns], R=30, lambda_step=0.01, plot_opts={'xlab': 'PC1', 'ylab': 'PC2'}, topic_order=[19, 12, 1, 20, 17, 8, 14, 2, 18, 5, 3, 16, 6, 13, 9, 15, 11, 4, 7, 10])"
      ]
     },
     "execution_count": 43,
     "metadata": {},
     "output_type": "execute_result"
    }
   ],
   "source": [
    "pyLDAvis.enable_notebook()\n",
    "vis = pyLDAvis.gensim.prepare(lda_multicore, corpus, id2word)\n",
    "vis"
   ]
  },
  {
   "cell_type": "markdown",
   "metadata": {},
   "source": [
    "### What is topic coherence?\n",
    "Topic Coherence measures score a single topic by measuring the degree of semantic similarity between high scoring words in the topic. These measurements help distinguish between topics that are semantically interpretable topics and topics that are artifacts of statistical inference.\n",
    "A set of statements or facts is said to be coherent, if they support each other. Thus, a coherent fact set can be interpreted in a context that covers all or most of the facts. An example of a coherent fact set is “the game is a team sport”, “the game is played with a ball”, “the game demands great physical efforts”\n"
   ]
  },
  {
   "cell_type": "code",
   "execution_count": 44,
   "metadata": {
    "colab": {},
    "colab_type": "code",
    "id": "rjtXk8J3LaXC"
   },
   "outputs": [
    {
     "name": "stderr",
     "output_type": "stream",
     "text": [
      "/opt/anaconda3/envs/U4-S1-NLP/lib/python3.7/site-packages/ipykernel/ipkernel.py:283: DeprecationWarning: `should_run_async` will not call `transform_cell` automatically in the future. Please pass the result to `transformed_cell` argument and any exception that happen during thetransform in `preprocessing_exc_tuple` in IPython 7.17 and above.\n",
      "  and should_run_async(code)\n"
     ]
    }
   ],
   "source": [
    "def compute_coherence_values(dictionary, corpus, texts, limit, start=2, step=3):\n",
    "    \"\"\"\n",
    "    Compute c_v coherence for various number of topics\n",
    "\n",
    "    Parameters:\n",
    "    ----------\n",
    "    dictionary : Gensim dictionary\n",
    "    corpus : Gensim corpus\n",
    "    texts : List of input texts\n",
    "    limit : Max num of topics\n",
    "\n",
    "    Returns:\n",
    "    -------\n",
    "    model_list : List of LDA topic models\n",
    "    coherence_values : Coherence values corresponding to the LDA model with respective number of topics\n",
    "    \"\"\"\n",
    "    coherence_values = []\n",
    "    model_list = []\n",
    "    for num_topics in range(start, limit, step):\n",
    "        model = gensim.models.ldamulticore.LdaMulticore(corpus=corpus,\n",
    "                                                        id2word=id2word,\n",
    "                                                        num_topics=num_topics, \n",
    "                                                        chunksize=100,\n",
    "                                                        passes=10,\n",
    "                                                        per_word_topics=True,\n",
    "                                                        workers=10)\n",
    "        model_list.append(model)\n",
    "        coherencemodel = CoherenceModel(model=model, texts=texts, dictionary=dictionary, coherence='c_v')\n",
    "        coherence_values.append(coherencemodel.get_coherence())\n",
    "\n",
    "    return model_list, coherence_values"
   ]
  },
  {
   "cell_type": "code",
   "execution_count": 45,
   "metadata": {},
   "outputs": [
    {
     "name": "stderr",
     "output_type": "stream",
     "text": [
      "/opt/anaconda3/envs/U4-S1-NLP/lib/python3.7/site-packages/ipykernel/ipkernel.py:283: DeprecationWarning: `should_run_async` will not call `transform_cell` automatically in the future. Please pass the result to `transformed_cell` argument and any exception that happen during thetransform in `preprocessing_exc_tuple` in IPython 7.17 and above.\n",
      "  and should_run_async(code)\n"
     ]
    },
    {
     "name": "stdout",
     "output_type": "stream",
     "text": [
      "CPU times: user 1min 30s, sys: 16.4 s, total: 1min 46s\n",
      "Wall time: 1min 51s\n"
     ]
    }
   ],
   "source": [
    "%%time\n",
    "model_list, coherence_values = compute_coherence_values(dictionary=id2word, corpus=corpus, texts=df['lemmas'], start=2, limit=22, step=4)"
   ]
  },
  {
   "cell_type": "raw",
   "metadata": {},
   "source": [
    "# use these values for the plot if compute_coherence_values takes too long to run \n",
    "# coherence_values = [0.5054, 0.5332, 0.5452, 0.564, 0.5678, 0.5518, 0.519]"
   ]
  },
  {
   "cell_type": "code",
   "execution_count": 47,
   "metadata": {},
   "outputs": [
    {
     "name": "stderr",
     "output_type": "stream",
     "text": [
      "/opt/anaconda3/envs/U4-S1-NLP/lib/python3.7/site-packages/ipykernel/ipkernel.py:283: DeprecationWarning: `should_run_async` will not call `transform_cell` automatically in the future. Please pass the result to `transformed_cell` argument and any exception that happen during thetransform in `preprocessing_exc_tuple` in IPython 7.17 and above.\n",
      "  and should_run_async(code)\n"
     ]
    },
    {
     "data": {
      "image/png": "[encoded data removed]",
      "text/plain": [
       "<Figure size 432x288 with 1 Axes>"
      ]
     },
     "metadata": {
      "needs_background": "light"
     },
     "output_type": "display_data"
    }
   ],
   "source": [
    "limit=40; start=2; step=6;\n",
    "x = range(start, limit, step)\n",
    "plt.plot(x, coherence_values)\n",
    "plt.xlabel(\"Num Topics\")\n",
    "plt.ylabel(\"Coherence score\")\n",
    "plt.legend((\"coherence_values\"), loc='best')\n",
    "plt.show()"
   ]
  },
  {
   "cell_type": "code",
   "execution_count": 48,
   "metadata": {},
   "outputs": [
    {
     "name": "stdout",
     "output_type": "stream",
     "text": [
      "Num Topics = 2  has Coherence Value of 0.5054\n",
      "Num Topics = 8  has Coherence Value of 0.5332\n",
      "Num Topics = 14  has Coherence Value of 0.5452\n",
      "Num Topics = 20  has Coherence Value of 0.564\n",
      "Num Topics = 26  has Coherence Value of 0.5678\n",
      "Num Topics = 32  has Coherence Value of 0.5518\n",
      "Num Topics = 38  has Coherence Value of 0.519\n"
     ]
    },
    {
     "name": "stderr",
     "output_type": "stream",
     "text": [
      "/opt/anaconda3/envs/U4-S1-NLP/lib/python3.7/site-packages/ipykernel/ipkernel.py:283: DeprecationWarning: `should_run_async` will not call `transform_cell` automatically in the future. Please pass the result to `transformed_cell` argument and any exception that happen during thetransform in `preprocessing_exc_tuple` in IPython 7.17 and above.\n",
      "  and should_run_async(code)\n"
     ]
    }
   ],
   "source": [
    "# Print the coherence scores\n",
    "for m, cv in zip(x, coherence_values):\n",
    "    print(\"Num Topics =\", m, \" has Coherence Value of\", round(cv, 4))"
   ]
  },
  {
   "cell_type": "code",
   "execution_count": 52,
   "metadata": {},
   "outputs": [
    {
     "name": "stderr",
     "output_type": "stream",
     "text": [
      "/opt/anaconda3/envs/U4-S1-NLP/lib/python3.7/site-packages/ipykernel/ipkernel.py:283: DeprecationWarning: `should_run_async` will not call `transform_cell` automatically in the future. Please pass the result to `transformed_cell` argument and any exception that happen during thetransform in `preprocessing_exc_tuple` in IPython 7.17 and above.\n",
      "  and should_run_async(code)\n"
     ]
    },
    {
     "data": {
      "text/plain": [
       "[(8,\n",
       "  [('water', 0.008725212),\n",
       "   ('good', 0.008228264),\n",
       "   ('science', 0.0080729285),\n",
       "   ('new', 0.006285446),\n",
       "   ('model', 0.0053800535),\n",
       "   ('theory', 0.0050195195),\n",
       "   ('value', 0.005009221),\n",
       "   ('thing', 0.0046681515),\n",
       "   ('time', 0.004634564),\n",
       "   ('objective', 0.004604534)]),\n",
       " (9,\n",
       "  [('chz', 0.015940562),\n",
       "   ('air', 0.014253943),\n",
       "   ('rlk', 0.010490579),\n",
       "   ('gcx', 0.009407964),\n",
       "   ('uww', 0.009075651),\n",
       "   ('rck', 0.008624412),\n",
       "   ('abc', 0.0073605557),\n",
       "   ('rmc', 0.0071725566),\n",
       "   ('lhz', 0.006908317),\n",
       "   ('alomar', 0.0065498427)]),\n",
       " (1,\n",
       "  [('space', 0.027252194),\n",
       "   ('launch', 0.009954343),\n",
       "   ('nasa', 0.0095829815),\n",
       "   ('earth', 0.0073371823),\n",
       "   ('satellite', 0.0071452707),\n",
       "   ('year', 0.0070529636),\n",
       "   ('mission', 0.00690056),\n",
       "   ('orbit', 0.006708478),\n",
       "   ('shuttle', 0.0057920986),\n",
       "   ('time', 0.005682043)]),\n",
       " (19,\n",
       "  [('mail', 0.0115078185),\n",
       "   ('available', 0.010081143),\n",
       "   ('edu', 0.009963806),\n",
       "   ('list', 0.009700134),\n",
       "   ('include', 0.00887978),\n",
       "   ('server', 0.008277603),\n",
       "   ('version', 0.0072766156),\n",
       "   ('information', 0.00717369),\n",
       "   ('send', 0.00704948),\n",
       "   ('program', 0.0068511367)]),\n",
       " (13,\n",
       "  [('game', 0.023622358),\n",
       "   ('team', 0.019436901),\n",
       "   ('play', 0.015480868),\n",
       "   ('year', 0.012251118),\n",
       "   ('win', 0.012080266),\n",
       "   ('player', 0.0113887),\n",
       "   ('hockey', 0.00833651),\n",
       "   ('season', 0.008327775),\n",
       "   ('well', 0.007439045),\n",
       "   ('league', 0.007410666)]),\n",
       " (4,\n",
       "  [('israel', 0.014902412),\n",
       "   ('armenian', 0.012428919),\n",
       "   ('war', 0.011589521),\n",
       "   ('jews', 0.010512511),\n",
       "   ('armenians', 0.009996655),\n",
       "   ('israeli', 0.009395263),\n",
       "   ('kill', 0.008252502),\n",
       "   ('people', 0.007992672),\n",
       "   ('attack', 0.007923293),\n",
       "   ('turkish', 0.007590852)]),\n",
       " (2,\n",
       "  [('good', 0.015565594),\n",
       "   ('get', 0.012351667),\n",
       "   ('fire', 0.009134134),\n",
       "   ('people', 0.008768939),\n",
       "   ('hear', 0.008515086),\n",
       "   ('start', 0.008508707),\n",
       "   ('right', 0.008265019),\n",
       "   ('thing', 0.008243389),\n",
       "   ('post', 0.007410047),\n",
       "   ('sure', 0.006663573)]),\n",
       " (10,\n",
       "  [('bike', 0.02610799),\n",
       "   ('ride', 0.01731786),\n",
       "   ('dod', 0.011448725),\n",
       "   ('motorcycle', 0.010559646),\n",
       "   ('look', 0.009161006),\n",
       "   ('time', 0.0070213196),\n",
       "   ('road', 0.006643962),\n",
       "   ('helmet', 0.0064318916),\n",
       "   ('ask', 0.0062617604),\n",
       "   ('good', 0.0059740813)]),\n",
       " (18,\n",
       "  [('god', 0.018231869),\n",
       "   ('people', 0.011414704),\n",
       "   ('believe', 0.008446918),\n",
       "   ('jesus', 0.007342911),\n",
       "   ('say', 0.0070448983),\n",
       "   ('mean', 0.006382419),\n",
       "   ('thing', 0.005564467),\n",
       "   ('bible', 0.00536845),\n",
       "   ('way', 0.0050855502),\n",
       "   ('come', 0.004827358)]),\n",
       " (3,\n",
       "  [('drive', 0.0528955),\n",
       "   ('master', 0.021504942),\n",
       "   ('slave', 0.01938686),\n",
       "   ('jumper', 0.019354502),\n",
       "   ('head', 0.010842999),\n",
       "   ('engine', 0.009815435),\n",
       "   ('close', 0.00978583),\n",
       "   ('single', 0.009637562),\n",
       "   ('open', 0.009312912),\n",
       "   ('car', 0.008600943)])]"
      ]
     },
     "metadata": {},
     "output_type": "display_data"
    },
    {
     "name": "stdout",
     "output_type": "stream",
     "text": [
      "[(0,\n",
      "  '0.017*\"window\" + 0.013*\"card\" + 0.012*\"use\" + 0.012*\"drive\" + '\n",
      "  '0.011*\"system\" + 0.011*\"problem\" + 0.010*\"disk\" + 0.009*\"work\" + '\n",
      "  '0.008*\"bite\" + 0.008*\"run\"'),\n",
      " (1,\n",
      "  '0.027*\"space\" + 0.010*\"launch\" + 0.010*\"nasa\" + 0.007*\"earth\" + '\n",
      "  '0.007*\"satellite\" + 0.007*\"year\" + 0.007*\"mission\" + 0.007*\"orbit\" + '\n",
      "  '0.006*\"shuttle\" + 0.006*\"time\"'),\n",
      " (2,\n",
      "  '0.016*\"good\" + 0.012*\"get\" + 0.009*\"fire\" + 0.009*\"people\" + 0.009*\"hear\" + '\n",
      "  '0.009*\"start\" + 0.008*\"right\" + 0.008*\"thing\" + 0.007*\"post\" + '\n",
      "  '0.007*\"sure\"'),\n",
      " (3,\n",
      "  '0.053*\"drive\" + 0.022*\"master\" + 0.019*\"slave\" + 0.019*\"jumper\" + '\n",
      "  '0.011*\"head\" + 0.010*\"engine\" + 0.010*\"close\" + 0.010*\"single\" + '\n",
      "  '0.009*\"open\" + 0.009*\"car\"'),\n",
      " (4,\n",
      "  '0.015*\"israel\" + 0.012*\"armenian\" + 0.012*\"war\" + 0.011*\"jews\" + '\n",
      "  '0.010*\"armenians\" + 0.009*\"israeli\" + 0.008*\"kill\" + 0.008*\"people\" + '\n",
      "  '0.008*\"attack\" + 0.008*\"turkish\"'),\n",
      " (5,\n",
      "  '0.027*\"car\" + 0.019*\"price\" + 0.017*\"sell\" + 0.015*\"new\" + 0.014*\"buy\" + '\n",
      "  '0.014*\"sale\" + 0.011*\"offer\" + 0.011*\"pay\" + 0.009*\"well\" + 0.009*\"year\"'),\n",
      " (6,\n",
      "  '0.403*\"max\" + 0.037*\"bhj\" + 0.036*\"giz\" + 0.020*\"qax\" + 0.018*\"bxn\" + '\n",
      "  '0.010*\"okz\" + 0.010*\"nrhj\" + 0.009*\"biz\" + 0.007*\"fij\" + 0.007*\"tct\"'),\n",
      " (7,\n",
      "  '0.018*\"gun\" + 0.015*\"state\" + 0.011*\"law\" + 0.009*\"right\" + '\n",
      "  '0.008*\"government\" + 0.008*\"weapon\" + 0.008*\"people\" + 0.007*\"crime\" + '\n",
      "  '0.006*\"firearm\" + 0.006*\"control\"'),\n",
      " (8,\n",
      "  '0.009*\"water\" + 0.008*\"good\" + 0.008*\"science\" + 0.006*\"new\" + '\n",
      "  '0.005*\"model\" + 0.005*\"theory\" + 0.005*\"value\" + 0.005*\"thing\" + '\n",
      "  '0.005*\"time\" + 0.005*\"objective\"'),\n",
      " (9,\n",
      "  '0.016*\"chz\" + 0.014*\"air\" + 0.010*\"rlk\" + 0.009*\"gcx\" + 0.009*\"uww\" + '\n",
      "  '0.009*\"rck\" + 0.007*\"abc\" + 0.007*\"rmc\" + 0.007*\"lhz\" + 0.007*\"alomar\"'),\n",
      " (10,\n",
      "  '0.026*\"bike\" + 0.017*\"ride\" + 0.011*\"dod\" + 0.011*\"motorcycle\" + '\n",
      "  '0.009*\"look\" + 0.007*\"time\" + 0.007*\"road\" + 0.006*\"helmet\" + 0.006*\"ask\" + '\n",
      "  '0.006*\"good\"'),\n",
      " (11,\n",
      "  '0.019*\"key\" + 0.008*\"government\" + 0.007*\"president\" + 0.007*\"chip\" + '\n",
      "  '0.007*\"system\" + 0.007*\"encryption\" + 0.007*\"use\" + 0.006*\"public\" + '\n",
      "  '0.005*\"people\" + 0.005*\"group\"'),\n",
      " (12,\n",
      "  '0.011*\"health\" + 0.011*\"report\" + 0.011*\"child\" + 0.010*\"use\" + '\n",
      "  '0.009*\"disease\" + 0.009*\"medical\" + 0.009*\"patient\" + 0.008*\"case\" + '\n",
      "  '0.008*\"research\" + 0.008*\"drug\"'),\n",
      " (13,\n",
      "  '0.024*\"game\" + 0.019*\"team\" + 0.015*\"play\" + 0.012*\"year\" + 0.012*\"win\" + '\n",
      "  '0.011*\"player\" + 0.008*\"hockey\" + 0.008*\"season\" + 0.007*\"well\" + '\n",
      "  '0.007*\"league\"'),\n",
      " (14,\n",
      "  '0.029*\"entry\" + 0.024*\"file\" + 0.019*\"output\" + 0.016*\"program\" + '\n",
      "  '0.014*\"line\" + 0.011*\"section\" + 0.011*\"build\" + 0.010*\"rule\" + 0.009*\"int\" '\n",
      "  '+ 0.008*\"return\"'),\n",
      " (15,\n",
      "  '0.042*\"edu\" + 0.040*\"file\" + 0.024*\"image\" + 0.018*\"com\" + 0.011*\"post\" + '\n",
      "  '0.009*\"jpeg\" + 0.009*\"color\" + 0.009*\"ftp\" + 0.009*\"gif\" + 0.009*\"site\"'),\n",
      " (16,\n",
      "  '0.020*\"go\" + 0.018*\"say\" + 0.014*\"people\" + 0.014*\"come\" + 0.012*\"time\" + '\n",
      "  '0.010*\"tell\" + 0.009*\"want\" + 0.008*\"get\" + 0.008*\"didn\" + 0.008*\"see\"'),\n",
      " (17,\n",
      "  '0.012*\"wire\" + 0.009*\"problem\" + 0.009*\"use\" + 0.008*\"power\" + 0.006*\"need\" '\n",
      "  '+ 0.006*\"work\" + 0.006*\"point\" + 0.006*\"good\" + 0.006*\"grind\" + '\n",
      "  '0.006*\"input\"'),\n",
      " (18,\n",
      "  '0.018*\"god\" + 0.011*\"people\" + 0.008*\"believe\" + 0.007*\"jesus\" + '\n",
      "  '0.007*\"say\" + 0.006*\"mean\" + 0.006*\"thing\" + 0.005*\"bible\" + 0.005*\"way\" + '\n",
      "  '0.005*\"come\"'),\n",
      " (19,\n",
      "  '0.012*\"mail\" + 0.010*\"available\" + 0.010*\"edu\" + 0.010*\"list\" + '\n",
      "  '0.009*\"include\" + 0.008*\"server\" + 0.007*\"version\" + 0.007*\"information\" + '\n",
      "  '0.007*\"send\" + 0.007*\"program\"')]\n"
     ]
    }
   ],
   "source": [
    "# Select the model and print the topics\n",
    "#optimal_model = model_list[1]\n",
    "#optimal_model =  models.LdaModel.load('optimal_model.model')\n",
    "optimal_model =  models.LdaModel.load('lda_multicore.model')\n",
    "model_topics = optimal_model.show_topics(formatted=False)\n",
    "display(model_topics)\n",
    "pprint(optimal_model.print_topics(num_words=10))"
   ]
  },
  {
   "cell_type": "code",
   "execution_count": null,
   "metadata": {},
   "outputs": [],
   "source": []
  }
 ],
 "metadata": {
  "colab": {
   "collapsed_sections": [],
   "name": "REFERENCE_LS_DS_414_Topic_Modeling.ipynb",
   "provenance": []
  },
  "kernelspec": {
   "display_name": "U4-S1-NLP (Python3)",
   "language": "python",
   "name": "u4-s1-nlp"
  },
  "language_info": {
   "codemirror_mode": {
    "name": "ipython",
    "version": 3
   },
   "file_extension": ".py",
   "mimetype": "text/x-python",
   "name": "python",
   "nbconvert_exporter": "python",
   "pygments_lexer": "ipython3",
   "version": "3.7.0"
  }
 },
 "nbformat": 4,
 "nbformat_minor": 4
}
