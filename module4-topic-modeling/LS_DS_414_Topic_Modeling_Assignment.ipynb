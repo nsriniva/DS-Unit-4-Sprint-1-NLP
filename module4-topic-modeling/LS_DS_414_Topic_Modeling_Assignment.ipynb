{
 "cells": [
  {
   "cell_type": "markdown",
   "metadata": {},
   "source": [
    "<img align=\"left\" src=\"https://lever-client-logos.s3.amazonaws.com/864372b1-534c-480e-acd5-9711f850815c-1524247202159.png\" width=200>\n",
    "<br></br>\n",
    "<br></br>\n",
    "\n",
    "# Topic Modeling\n",
    "## *Data Science Unit 4 Sprint 1 Assignment 4*\n",
    "\n",
    "Analyze a corpus of Amazon reviews from Unit 4 Sprint 1 Module 1's lecture using topic modeling: \n",
    "\n",
    "- Fit a Gensim LDA topic model on Amazon Reviews\n",
    "- Select appropriate number of topics\n",
    "- Create some dope visualization of the topics\n",
    "- Write a few bullets on your findings in markdown at the end\n",
    "- **Note**: You don't *have* to use generators for this assignment"
   ]
  },
  {
   "cell_type": "code",
   "execution_count": 1,
   "metadata": {},
   "outputs": [],
   "source": [
    "import warnings\n",
    "warnings.filterwarnings(\"ignore\")\n"
   ]
  },
  {
   "cell_type": "code",
   "execution_count": 2,
   "metadata": {},
   "outputs": [
    {
     "name": "stderr",
     "output_type": "stream",
     "text": [
      "/opt/anaconda3/envs/U4-S1-NLP/lib/python3.7/site-packages/sklearn/linear_model/_least_angle.py:30: DeprecationWarning: `np.float` is a deprecated alias for the builtin `float`. To silence this warning, use `float` by itself. Doing this will not modify any behavior and is safe. If you specifically wanted the numpy scalar type, use `np.float64` here.\n",
      "Deprecated in NumPy 1.20; for more details and guidance: https://numpy.org/devdocs/release/1.20.0-notes.html#deprecations\n",
      "  method='lar', copy_X=True, eps=np.finfo(np.float).eps,\n",
      "/opt/anaconda3/envs/U4-S1-NLP/lib/python3.7/site-packages/sklearn/linear_model/_least_angle.py:169: DeprecationWarning: `np.float` is a deprecated alias for the builtin `float`. To silence this warning, use `float` by itself. Doing this will not modify any behavior and is safe. If you specifically wanted the numpy scalar type, use `np.float64` here.\n",
      "Deprecated in NumPy 1.20; for more details and guidance: https://numpy.org/devdocs/release/1.20.0-notes.html#deprecations\n",
      "  method='lar', copy_X=True, eps=np.finfo(np.float).eps,\n",
      "/opt/anaconda3/envs/U4-S1-NLP/lib/python3.7/site-packages/sklearn/linear_model/_least_angle.py:286: DeprecationWarning: `np.float` is a deprecated alias for the builtin `float`. To silence this warning, use `float` by itself. Doing this will not modify any behavior and is safe. If you specifically wanted the numpy scalar type, use `np.float64` here.\n",
      "Deprecated in NumPy 1.20; for more details and guidance: https://numpy.org/devdocs/release/1.20.0-notes.html#deprecations\n",
      "  eps=np.finfo(np.float).eps, copy_Gram=True, verbose=0,\n",
      "/opt/anaconda3/envs/U4-S1-NLP/lib/python3.7/site-packages/sklearn/linear_model/_least_angle.py:858: DeprecationWarning: `np.float` is a deprecated alias for the builtin `float`. To silence this warning, use `float` by itself. Doing this will not modify any behavior and is safe. If you specifically wanted the numpy scalar type, use `np.float64` here.\n",
      "Deprecated in NumPy 1.20; for more details and guidance: https://numpy.org/devdocs/release/1.20.0-notes.html#deprecations\n",
      "  eps=np.finfo(np.float).eps, copy_X=True, fit_path=True):\n",
      "/opt/anaconda3/envs/U4-S1-NLP/lib/python3.7/site-packages/sklearn/linear_model/_least_angle.py:1094: DeprecationWarning: `np.float` is a deprecated alias for the builtin `float`. To silence this warning, use `float` by itself. Doing this will not modify any behavior and is safe. If you specifically wanted the numpy scalar type, use `np.float64` here.\n",
      "Deprecated in NumPy 1.20; for more details and guidance: https://numpy.org/devdocs/release/1.20.0-notes.html#deprecations\n",
      "  eps=np.finfo(np.float).eps, copy_X=True, fit_path=True,\n",
      "/opt/anaconda3/envs/U4-S1-NLP/lib/python3.7/site-packages/sklearn/linear_model/_least_angle.py:1120: DeprecationWarning: `np.float` is a deprecated alias for the builtin `float`. To silence this warning, use `float` by itself. Doing this will not modify any behavior and is safe. If you specifically wanted the numpy scalar type, use `np.float64` here.\n",
      "Deprecated in NumPy 1.20; for more details and guidance: https://numpy.org/devdocs/release/1.20.0-notes.html#deprecations\n",
      "  eps=np.finfo(np.float).eps, positive=False):\n",
      "/opt/anaconda3/envs/U4-S1-NLP/lib/python3.7/site-packages/sklearn/linear_model/_least_angle.py:1349: DeprecationWarning: `np.float` is a deprecated alias for the builtin `float`. To silence this warning, use `float` by itself. Doing this will not modify any behavior and is safe. If you specifically wanted the numpy scalar type, use `np.float64` here.\n",
      "Deprecated in NumPy 1.20; for more details and guidance: https://numpy.org/devdocs/release/1.20.0-notes.html#deprecations\n",
      "  max_n_alphas=1000, n_jobs=None, eps=np.finfo(np.float).eps,\n",
      "/opt/anaconda3/envs/U4-S1-NLP/lib/python3.7/site-packages/sklearn/linear_model/_least_angle.py:1590: DeprecationWarning: `np.float` is a deprecated alias for the builtin `float`. To silence this warning, use `float` by itself. Doing this will not modify any behavior and is safe. If you specifically wanted the numpy scalar type, use `np.float64` here.\n",
      "Deprecated in NumPy 1.20; for more details and guidance: https://numpy.org/devdocs/release/1.20.0-notes.html#deprecations\n",
      "  max_n_alphas=1000, n_jobs=None, eps=np.finfo(np.float).eps,\n",
      "/opt/anaconda3/envs/U4-S1-NLP/lib/python3.7/site-packages/sklearn/linear_model/_least_angle.py:1723: DeprecationWarning: `np.float` is a deprecated alias for the builtin `float`. To silence this warning, use `float` by itself. Doing this will not modify any behavior and is safe. If you specifically wanted the numpy scalar type, use `np.float64` here.\n",
      "Deprecated in NumPy 1.20; for more details and guidance: https://numpy.org/devdocs/release/1.20.0-notes.html#deprecations\n",
      "  eps=np.finfo(np.float).eps, copy_X=True, positive=False):\n",
      "/opt/anaconda3/envs/U4-S1-NLP/lib/python3.7/site-packages/sklearn/decomposition/_lda.py:29: DeprecationWarning: `np.float` is a deprecated alias for the builtin `float`. To silence this warning, use `float` by itself. Doing this will not modify any behavior and is safe. If you specifically wanted the numpy scalar type, use `np.float64` here.\n",
      "Deprecated in NumPy 1.20; for more details and guidance: https://numpy.org/devdocs/release/1.20.0-notes.html#deprecations\n",
      "  EPS = np.finfo(np.float).eps\n"
     ]
    },
    {
     "name": "stdout",
     "output_type": "stream",
     "text": [
      "(28332, 24)\n"
     ]
    },
    {
     "data": {
      "text/html": [
       "<div>\n",
       "<style scoped>\n",
       "    .dataframe tbody tr th:only-of-type {\n",
       "        vertical-align: middle;\n",
       "    }\n",
       "\n",
       "    .dataframe tbody tr th {\n",
       "        vertical-align: top;\n",
       "    }\n",
       "\n",
       "    .dataframe thead th {\n",
       "        text-align: right;\n",
       "    }\n",
       "</style>\n",
       "<table border=\"1\" class=\"dataframe\">\n",
       "  <thead>\n",
       "    <tr style=\"text-align: right;\">\n",
       "      <th></th>\n",
       "      <th>id</th>\n",
       "      <th>dateAdded</th>\n",
       "      <th>dateUpdated</th>\n",
       "      <th>name</th>\n",
       "      <th>asins</th>\n",
       "      <th>brand</th>\n",
       "      <th>categories</th>\n",
       "      <th>primaryCategories</th>\n",
       "      <th>imageURLs</th>\n",
       "      <th>keys</th>\n",
       "      <th>...</th>\n",
       "      <th>reviews.didPurchase</th>\n",
       "      <th>reviews.doRecommend</th>\n",
       "      <th>reviews.id</th>\n",
       "      <th>reviews.numHelpful</th>\n",
       "      <th>reviews.rating</th>\n",
       "      <th>reviews.sourceURLs</th>\n",
       "      <th>reviews.text</th>\n",
       "      <th>reviews.title</th>\n",
       "      <th>reviews.username</th>\n",
       "      <th>sourceURLs</th>\n",
       "    </tr>\n",
       "  </thead>\n",
       "  <tbody>\n",
       "    <tr>\n",
       "      <th>0</th>\n",
       "      <td>AVpgNzjwLJeJML43Kpxn</td>\n",
       "      <td>2015-10-30T08:59:32Z</td>\n",
       "      <td>2019-04-25T09:08:16Z</td>\n",
       "      <td>AmazonBasics AAA Performance Alkaline Batterie...</td>\n",
       "      <td>B00QWO9P0O,B00LH3DMUO</td>\n",
       "      <td>Amazonbasics</td>\n",
       "      <td>AA,AAA,Health,Electronics,Health &amp; Household,C...</td>\n",
       "      <td>Health &amp; Beauty</td>\n",
       "      <td>https://images-na.ssl-images-amazon.com/images...</td>\n",
       "      <td>amazonbasics/hl002619,amazonbasicsaaaperforman...</td>\n",
       "      <td>...</td>\n",
       "      <td>NaN</td>\n",
       "      <td>NaN</td>\n",
       "      <td>NaN</td>\n",
       "      <td>NaN</td>\n",
       "      <td>3</td>\n",
       "      <td>https://www.amazon.com/product-reviews/B00QWO9...</td>\n",
       "      <td>I order 3 of them and one of the item is bad q...</td>\n",
       "      <td>... 3 of them and one of the item is bad quali...</td>\n",
       "      <td>Byger yang</td>\n",
       "      <td>https://www.barcodable.com/upc/841710106442,ht...</td>\n",
       "    </tr>\n",
       "    <tr>\n",
       "      <th>1</th>\n",
       "      <td>AVpgNzjwLJeJML43Kpxn</td>\n",
       "      <td>2015-10-30T08:59:32Z</td>\n",
       "      <td>2019-04-25T09:08:16Z</td>\n",
       "      <td>AmazonBasics AAA Performance Alkaline Batterie...</td>\n",
       "      <td>B00QWO9P0O,B00LH3DMUO</td>\n",
       "      <td>Amazonbasics</td>\n",
       "      <td>AA,AAA,Health,Electronics,Health &amp; Household,C...</td>\n",
       "      <td>Health &amp; Beauty</td>\n",
       "      <td>https://images-na.ssl-images-amazon.com/images...</td>\n",
       "      <td>amazonbasics/hl002619,amazonbasicsaaaperforman...</td>\n",
       "      <td>...</td>\n",
       "      <td>NaN</td>\n",
       "      <td>NaN</td>\n",
       "      <td>NaN</td>\n",
       "      <td>NaN</td>\n",
       "      <td>4</td>\n",
       "      <td>https://www.amazon.com/product-reviews/B00QWO9...</td>\n",
       "      <td>Bulk is always the less expensive way to go fo...</td>\n",
       "      <td>... always the less expensive way to go for pr...</td>\n",
       "      <td>ByMG</td>\n",
       "      <td>https://www.barcodable.com/upc/841710106442,ht...</td>\n",
       "    </tr>\n",
       "    <tr>\n",
       "      <th>2</th>\n",
       "      <td>AVpgNzjwLJeJML43Kpxn</td>\n",
       "      <td>2015-10-30T08:59:32Z</td>\n",
       "      <td>2019-04-25T09:08:16Z</td>\n",
       "      <td>AmazonBasics AAA Performance Alkaline Batterie...</td>\n",
       "      <td>B00QWO9P0O,B00LH3DMUO</td>\n",
       "      <td>Amazonbasics</td>\n",
       "      <td>AA,AAA,Health,Electronics,Health &amp; Household,C...</td>\n",
       "      <td>Health &amp; Beauty</td>\n",
       "      <td>https://images-na.ssl-images-amazon.com/images...</td>\n",
       "      <td>amazonbasics/hl002619,amazonbasicsaaaperforman...</td>\n",
       "      <td>...</td>\n",
       "      <td>NaN</td>\n",
       "      <td>NaN</td>\n",
       "      <td>NaN</td>\n",
       "      <td>NaN</td>\n",
       "      <td>5</td>\n",
       "      <td>https://www.amazon.com/product-reviews/B00QWO9...</td>\n",
       "      <td>Well they are not Duracell but for the price i...</td>\n",
       "      <td>... are not Duracell but for the price i am ha...</td>\n",
       "      <td>BySharon Lambert</td>\n",
       "      <td>https://www.barcodable.com/upc/841710106442,ht...</td>\n",
       "    </tr>\n",
       "  </tbody>\n",
       "</table>\n",
       "<p>3 rows × 24 columns</p>\n",
       "</div>"
      ],
      "text/plain": [
       "                     id             dateAdded           dateUpdated  \\\n",
       "0  AVpgNzjwLJeJML43Kpxn  2015-10-30T08:59:32Z  2019-04-25T09:08:16Z   \n",
       "1  AVpgNzjwLJeJML43Kpxn  2015-10-30T08:59:32Z  2019-04-25T09:08:16Z   \n",
       "2  AVpgNzjwLJeJML43Kpxn  2015-10-30T08:59:32Z  2019-04-25T09:08:16Z   \n",
       "\n",
       "                                                name                  asins  \\\n",
       "0  AmazonBasics AAA Performance Alkaline Batterie...  B00QWO9P0O,B00LH3DMUO   \n",
       "1  AmazonBasics AAA Performance Alkaline Batterie...  B00QWO9P0O,B00LH3DMUO   \n",
       "2  AmazonBasics AAA Performance Alkaline Batterie...  B00QWO9P0O,B00LH3DMUO   \n",
       "\n",
       "          brand                                         categories  \\\n",
       "0  Amazonbasics  AA,AAA,Health,Electronics,Health & Household,C...   \n",
       "1  Amazonbasics  AA,AAA,Health,Electronics,Health & Household,C...   \n",
       "2  Amazonbasics  AA,AAA,Health,Electronics,Health & Household,C...   \n",
       "\n",
       "  primaryCategories                                          imageURLs  \\\n",
       "0   Health & Beauty  https://images-na.ssl-images-amazon.com/images...   \n",
       "1   Health & Beauty  https://images-na.ssl-images-amazon.com/images...   \n",
       "2   Health & Beauty  https://images-na.ssl-images-amazon.com/images...   \n",
       "\n",
       "                                                keys  ... reviews.didPurchase  \\\n",
       "0  amazonbasics/hl002619,amazonbasicsaaaperforman...  ...                 NaN   \n",
       "1  amazonbasics/hl002619,amazonbasicsaaaperforman...  ...                 NaN   \n",
       "2  amazonbasics/hl002619,amazonbasicsaaaperforman...  ...                 NaN   \n",
       "\n",
       "  reviews.doRecommend reviews.id reviews.numHelpful reviews.rating  \\\n",
       "0                 NaN        NaN                NaN              3   \n",
       "1                 NaN        NaN                NaN              4   \n",
       "2                 NaN        NaN                NaN              5   \n",
       "\n",
       "                                  reviews.sourceURLs  \\\n",
       "0  https://www.amazon.com/product-reviews/B00QWO9...   \n",
       "1  https://www.amazon.com/product-reviews/B00QWO9...   \n",
       "2  https://www.amazon.com/product-reviews/B00QWO9...   \n",
       "\n",
       "                                        reviews.text  \\\n",
       "0  I order 3 of them and one of the item is bad q...   \n",
       "1  Bulk is always the less expensive way to go fo...   \n",
       "2  Well they are not Duracell but for the price i...   \n",
       "\n",
       "                                       reviews.title  reviews.username  \\\n",
       "0  ... 3 of them and one of the item is bad quali...        Byger yang   \n",
       "1  ... always the less expensive way to go for pr...              ByMG   \n",
       "2  ... are not Duracell but for the price i am ha...  BySharon Lambert   \n",
       "\n",
       "                                          sourceURLs  \n",
       "0  https://www.barcodable.com/upc/841710106442,ht...  \n",
       "1  https://www.barcodable.com/upc/841710106442,ht...  \n",
       "2  https://www.barcodable.com/upc/841710106442,ht...  \n",
       "\n",
       "[3 rows x 24 columns]"
      ]
     },
     "execution_count": 2,
     "metadata": {},
     "output_type": "execute_result"
    }
   ],
   "source": [
    "\n",
    "#Start Here\n",
    "import re\n",
    "import numpy as np\n",
    "import pandas as pd\n",
    "from pprint import pprint\n",
    "\n",
    "import gensim\n",
    "import gensim.corpora as corpora\n",
    "from gensim.utils import simple_preprocess\n",
    "from gensim.models import CoherenceModel\n",
    "\n",
    "import spacy\n",
    "\n",
    "import pyLDAvis\n",
    "import pyLDAvis.gensim \n",
    "import matplotlib.pyplot as plt\n",
    "%matplotlib inline\n",
    "\n",
    "df = pd.read_csv('../module1-text-data/data/Datafiniti_Amazon_Consumer_Reviews_of_Amazon_Products_May19.csv.zip')\n",
    "print(df.shape)\n",
    "df.head()"
   ]
  },
  {
   "cell_type": "code",
   "execution_count": 3,
   "metadata": {},
   "outputs": [
    {
     "name": "stderr",
     "output_type": "stream",
     "text": [
      "/opt/anaconda3/envs/U4-S1-NLP/lib/python3.7/site-packages/ipykernel/ipkernel.py:283: DeprecationWarning: `should_run_async` will not call `transform_cell` automatically in the future. Please pass the result to `transformed_cell` argument and any exception that happen during thetransform in `preprocessing_exc_tuple` in IPython 7.17 and above.\n",
      "  and should_run_async(code)\n"
     ]
    },
    {
     "name": "stdout",
     "output_type": "stream",
     "text": [
      "INFO: Pandarallel will run on 16 workers.\n",
      "INFO: Pandarallel will use standard multiprocessing data transfer (pipe) to transfer data between the main process and workers.\n"
     ]
    },
    {
     "data": {
      "text/html": [
       "<div>\n",
       "<style scoped>\n",
       "    .dataframe tbody tr th:only-of-type {\n",
       "        vertical-align: middle;\n",
       "    }\n",
       "\n",
       "    .dataframe tbody tr th {\n",
       "        vertical-align: top;\n",
       "    }\n",
       "\n",
       "    .dataframe thead th {\n",
       "        text-align: right;\n",
       "    }\n",
       "</style>\n",
       "<table border=\"1\" class=\"dataframe\">\n",
       "  <thead>\n",
       "    <tr style=\"text-align: right;\">\n",
       "      <th></th>\n",
       "      <th>id</th>\n",
       "      <th>dateAdded</th>\n",
       "      <th>dateUpdated</th>\n",
       "      <th>name</th>\n",
       "      <th>asins</th>\n",
       "      <th>brand</th>\n",
       "      <th>categories</th>\n",
       "      <th>primaryCategories</th>\n",
       "      <th>imageURLs</th>\n",
       "      <th>keys</th>\n",
       "      <th>...</th>\n",
       "      <th>reviews.doRecommend</th>\n",
       "      <th>reviews.id</th>\n",
       "      <th>reviews.numHelpful</th>\n",
       "      <th>reviews.rating</th>\n",
       "      <th>reviews.sourceURLs</th>\n",
       "      <th>reviews.text</th>\n",
       "      <th>reviews.title</th>\n",
       "      <th>reviews.username</th>\n",
       "      <th>sourceURLs</th>\n",
       "      <th>reviews_lemmas</th>\n",
       "    </tr>\n",
       "  </thead>\n",
       "  <tbody>\n",
       "    <tr>\n",
       "      <th>0</th>\n",
       "      <td>AVpgNzjwLJeJML43Kpxn</td>\n",
       "      <td>2015-10-30T08:59:32Z</td>\n",
       "      <td>2019-04-25T09:08:16Z</td>\n",
       "      <td>AmazonBasics AAA Performance Alkaline Batterie...</td>\n",
       "      <td>B00QWO9P0O,B00LH3DMUO</td>\n",
       "      <td>Amazonbasics</td>\n",
       "      <td>AA,AAA,Health,Electronics,Health &amp; Household,C...</td>\n",
       "      <td>Health &amp; Beauty</td>\n",
       "      <td>https://images-na.ssl-images-amazon.com/images...</td>\n",
       "      <td>amazonbasics/hl002619,amazonbasicsaaaperforman...</td>\n",
       "      <td>...</td>\n",
       "      <td>NaN</td>\n",
       "      <td>NaN</td>\n",
       "      <td>NaN</td>\n",
       "      <td>3</td>\n",
       "      <td>https://www.amazon.com/product-reviews/B00QWO9...</td>\n",
       "      <td>I order 3 of them and one of the item is bad q...</td>\n",
       "      <td>... 3 of them and one of the item is bad quali...</td>\n",
       "      <td>Byger yang</td>\n",
       "      <td>https://www.barcodable.com/upc/841710106442,ht...</td>\n",
       "      <td>[order, 3, item, bad, quality, miss, backup, s...</td>\n",
       "    </tr>\n",
       "    <tr>\n",
       "      <th>1</th>\n",
       "      <td>AVpgNzjwLJeJML43Kpxn</td>\n",
       "      <td>2015-10-30T08:59:32Z</td>\n",
       "      <td>2019-04-25T09:08:16Z</td>\n",
       "      <td>AmazonBasics AAA Performance Alkaline Batterie...</td>\n",
       "      <td>B00QWO9P0O,B00LH3DMUO</td>\n",
       "      <td>Amazonbasics</td>\n",
       "      <td>AA,AAA,Health,Electronics,Health &amp; Household,C...</td>\n",
       "      <td>Health &amp; Beauty</td>\n",
       "      <td>https://images-na.ssl-images-amazon.com/images...</td>\n",
       "      <td>amazonbasics/hl002619,amazonbasicsaaaperforman...</td>\n",
       "      <td>...</td>\n",
       "      <td>NaN</td>\n",
       "      <td>NaN</td>\n",
       "      <td>NaN</td>\n",
       "      <td>4</td>\n",
       "      <td>https://www.amazon.com/product-reviews/B00QWO9...</td>\n",
       "      <td>Bulk is always the less expensive way to go fo...</td>\n",
       "      <td>... always the less expensive way to go for pr...</td>\n",
       "      <td>ByMG</td>\n",
       "      <td>https://www.barcodable.com/upc/841710106442,ht...</td>\n",
       "      <td>[bulk, expensive, way, product, like]</td>\n",
       "    </tr>\n",
       "    <tr>\n",
       "      <th>2</th>\n",
       "      <td>AVpgNzjwLJeJML43Kpxn</td>\n",
       "      <td>2015-10-30T08:59:32Z</td>\n",
       "      <td>2019-04-25T09:08:16Z</td>\n",
       "      <td>AmazonBasics AAA Performance Alkaline Batterie...</td>\n",
       "      <td>B00QWO9P0O,B00LH3DMUO</td>\n",
       "      <td>Amazonbasics</td>\n",
       "      <td>AA,AAA,Health,Electronics,Health &amp; Household,C...</td>\n",
       "      <td>Health &amp; Beauty</td>\n",
       "      <td>https://images-na.ssl-images-amazon.com/images...</td>\n",
       "      <td>amazonbasics/hl002619,amazonbasicsaaaperforman...</td>\n",
       "      <td>...</td>\n",
       "      <td>NaN</td>\n",
       "      <td>NaN</td>\n",
       "      <td>NaN</td>\n",
       "      <td>5</td>\n",
       "      <td>https://www.amazon.com/product-reviews/B00QWO9...</td>\n",
       "      <td>Well they are not Duracell but for the price i...</td>\n",
       "      <td>... are not Duracell but for the price i am ha...</td>\n",
       "      <td>BySharon Lambert</td>\n",
       "      <td>https://www.barcodable.com/upc/841710106442,ht...</td>\n",
       "      <td>[Duracell, price, happy]</td>\n",
       "    </tr>\n",
       "  </tbody>\n",
       "</table>\n",
       "<p>3 rows × 25 columns</p>\n",
       "</div>"
      ],
      "text/plain": [
       "                     id             dateAdded           dateUpdated  \\\n",
       "0  AVpgNzjwLJeJML43Kpxn  2015-10-30T08:59:32Z  2019-04-25T09:08:16Z   \n",
       "1  AVpgNzjwLJeJML43Kpxn  2015-10-30T08:59:32Z  2019-04-25T09:08:16Z   \n",
       "2  AVpgNzjwLJeJML43Kpxn  2015-10-30T08:59:32Z  2019-04-25T09:08:16Z   \n",
       "\n",
       "                                                name                  asins  \\\n",
       "0  AmazonBasics AAA Performance Alkaline Batterie...  B00QWO9P0O,B00LH3DMUO   \n",
       "1  AmazonBasics AAA Performance Alkaline Batterie...  B00QWO9P0O,B00LH3DMUO   \n",
       "2  AmazonBasics AAA Performance Alkaline Batterie...  B00QWO9P0O,B00LH3DMUO   \n",
       "\n",
       "          brand                                         categories  \\\n",
       "0  Amazonbasics  AA,AAA,Health,Electronics,Health & Household,C...   \n",
       "1  Amazonbasics  AA,AAA,Health,Electronics,Health & Household,C...   \n",
       "2  Amazonbasics  AA,AAA,Health,Electronics,Health & Household,C...   \n",
       "\n",
       "  primaryCategories                                          imageURLs  \\\n",
       "0   Health & Beauty  https://images-na.ssl-images-amazon.com/images...   \n",
       "1   Health & Beauty  https://images-na.ssl-images-amazon.com/images...   \n",
       "2   Health & Beauty  https://images-na.ssl-images-amazon.com/images...   \n",
       "\n",
       "                                                keys  ... reviews.doRecommend  \\\n",
       "0  amazonbasics/hl002619,amazonbasicsaaaperforman...  ...                 NaN   \n",
       "1  amazonbasics/hl002619,amazonbasicsaaaperforman...  ...                 NaN   \n",
       "2  amazonbasics/hl002619,amazonbasicsaaaperforman...  ...                 NaN   \n",
       "\n",
       "  reviews.id reviews.numHelpful reviews.rating  \\\n",
       "0        NaN                NaN              3   \n",
       "1        NaN                NaN              4   \n",
       "2        NaN                NaN              5   \n",
       "\n",
       "                                  reviews.sourceURLs  \\\n",
       "0  https://www.amazon.com/product-reviews/B00QWO9...   \n",
       "1  https://www.amazon.com/product-reviews/B00QWO9...   \n",
       "2  https://www.amazon.com/product-reviews/B00QWO9...   \n",
       "\n",
       "                                        reviews.text  \\\n",
       "0  I order 3 of them and one of the item is bad q...   \n",
       "1  Bulk is always the less expensive way to go fo...   \n",
       "2  Well they are not Duracell but for the price i...   \n",
       "\n",
       "                                       reviews.title  reviews.username  \\\n",
       "0  ... 3 of them and one of the item is bad quali...        Byger yang   \n",
       "1  ... always the less expensive way to go for pr...              ByMG   \n",
       "2  ... are not Duracell but for the price i am ha...  BySharon Lambert   \n",
       "\n",
       "                                          sourceURLs  \\\n",
       "0  https://www.barcodable.com/upc/841710106442,ht...   \n",
       "1  https://www.barcodable.com/upc/841710106442,ht...   \n",
       "2  https://www.barcodable.com/upc/841710106442,ht...   \n",
       "\n",
       "                                      reviews_lemmas  \n",
       "0  [order, 3, item, bad, quality, miss, backup, s...  \n",
       "1              [bulk, expensive, way, product, like]  \n",
       "2                           [Duracell, price, happy]  \n",
       "\n",
       "[3 rows x 25 columns]"
      ]
     },
     "execution_count": 3,
     "metadata": {},
     "output_type": "execute_result"
    }
   ],
   "source": [
    "from spacy import load as sp_load\n",
    "from pandarallel import pandarallel\n",
    "nlp = sp_load('en_core_web_lg')\n",
    "\n",
    "\n",
    "#progress_bar=True causes problems -  parallel_apply() never seems to complete - works fine with default progress_bar=False\n",
    "pandarallel.initialize()\n",
    "\n",
    "df['reviews_lemmas'] = df['reviews.text'].parallel_apply(lambda x:[token.lemma_ for token in nlp(x) if (token.is_stop == False and token.is_punct == False and token.pos_ != 'PRON')])\n",
    "\n",
    "df.head(3)"
   ]
  },
  {
   "cell_type": "raw",
   "metadata": {},
   "source": [
    "from collections import Counter\n",
    "# The object `Counter` takes an iterable, but you can instaniate an empty one and update it. \n",
    "word_counts = Counter()\n",
    "\n",
    "# Update it based on the token list for each job description\n",
    "df.reviews_lemmas.apply(lambda x: word_counts.update(x))\n",
    "\n",
    "# Print out the 10 most common words\n",
    "display(word_counts.most_common(1000))"
   ]
  },
  {
   "cell_type": "code",
   "execution_count": 5,
   "metadata": {},
   "outputs": [
    {
     "name": "stderr",
     "output_type": "stream",
     "text": [
      "/opt/anaconda3/envs/U4-S1-NLP/lib/python3.7/site-packages/ipykernel/ipkernel.py:283: DeprecationWarning: `should_run_async` will not call `transform_cell` automatically in the future. Please pass the result to `transformed_cell` argument and any exception that happen during thetransform in `preprocessing_exc_tuple` in IPython 7.17 and above.\n",
      "  and should_run_async(code)\n"
     ]
    }
   ],
   "source": [
    "# Create Dictionary\n",
    "\n",
    "# Term Document Frequency\n",
    "\n",
    "# stores (token id, token count) for each doc in the corpus\n",
    "\n",
    "# Human readable format of corpus (term-frequency)\n",
    "\n",
    "id2word = corpora.Dictionary(df.reviews_lemmas)\n",
    "corpus = [id2word.doc2bow(text) for text in df.reviews_lemmas]"
   ]
  },
  {
   "cell_type": "code",
   "execution_count": 6,
   "metadata": {},
   "outputs": [
    {
     "name": "stderr",
     "output_type": "stream",
     "text": [
      "/opt/anaconda3/envs/U4-S1-NLP/lib/python3.7/site-packages/ipykernel/ipkernel.py:283: DeprecationWarning: `should_run_async` will not call `transform_cell` automatically in the future. Please pass the result to `transformed_cell` argument and any exception that happen during thetransform in `preprocessing_exc_tuple` in IPython 7.17 and above.\n",
      "  and should_run_async(code)\n"
     ]
    },
    {
     "data": {
      "text/plain": [
       "9706"
      ]
     },
     "execution_count": 6,
     "metadata": {},
     "output_type": "execute_result"
    }
   ],
   "source": [
    "# How many words are in our vocab?\n",
    "len(id2word.keys())"
   ]
  },
  {
   "cell_type": "code",
   "execution_count": 7,
   "metadata": {},
   "outputs": [
    {
     "name": "stderr",
     "output_type": "stream",
     "text": [
      "/opt/anaconda3/envs/U4-S1-NLP/lib/python3.7/site-packages/ipykernel/ipkernel.py:283: DeprecationWarning: `should_run_async` will not call `transform_cell` automatically in the future. Please pass the result to `transformed_cell` argument and any exception that happen during thetransform in `preprocessing_exc_tuple` in IPython 7.17 and above.\n",
      "  and should_run_async(code)\n"
     ]
    },
    {
     "data": {
      "text/plain": [
       "['buy',\n",
       " 'lot',\n",
       " 'battery',\n",
       " 'Christmas',\n",
       " 'AmazonBasics',\n",
       " 'Cell',\n",
       " 'good',\n",
       " 'notice',\n",
       " 'difference',\n",
       " 'brand',\n",
       " 'battery',\n",
       " 'Amazon',\n",
       " 'Basic',\n",
       " 'brand',\n",
       " 'lot',\n",
       " 'easy',\n",
       " 'purchase',\n",
       " 'arrive',\n",
       " 'house',\n",
       " 'hand',\n",
       " 'buy']"
      ]
     },
     "metadata": {},
     "output_type": "display_data"
    },
    {
     "data": {
      "text/plain": [
       "[(4, 2),\n",
       " (20, 2),\n",
       " (25, 1),\n",
       " (26, 1),\n",
       " (27, 1),\n",
       " (28, 1),\n",
       " (29, 1),\n",
       " (30, 1),\n",
       " (31, 2),\n",
       " (32, 1),\n",
       " (33, 1),\n",
       " (34, 1),\n",
       " (35, 1),\n",
       " (36, 1),\n",
       " (37, 2),\n",
       " (38, 1),\n",
       " (39, 1)]"
      ]
     },
     "execution_count": 7,
     "metadata": {},
     "output_type": "execute_result"
    }
   ],
   "source": [
    "display(df.reviews_lemmas.iloc[5])\n",
    "corpus[5]"
   ]
  },
  {
   "cell_type": "code",
   "execution_count": 8,
   "metadata": {},
   "outputs": [
    {
     "name": "stderr",
     "output_type": "stream",
     "text": [
      "/opt/anaconda3/envs/U4-S1-NLP/lib/python3.7/site-packages/ipykernel/ipkernel.py:283: DeprecationWarning: `should_run_async` will not call `transform_cell` automatically in the future. Please pass the result to `transformed_cell` argument and any exception that happen during thetransform in `preprocessing_exc_tuple` in IPython 7.17 and above.\n",
      "  and should_run_async(code)\n"
     ]
    },
    {
     "data": {
      "text/plain": [
       "[('battery', 2),\n",
       " ('brand', 2),\n",
       " ('Amazon', 1),\n",
       " ('AmazonBasics', 1),\n",
       " ('Basic', 1),\n",
       " ('Cell', 1),\n",
       " ('Christmas', 1),\n",
       " ('arrive', 1),\n",
       " ('buy', 2),\n",
       " ('difference', 1),\n",
       " ('easy', 1),\n",
       " ('good', 1),\n",
       " ('hand', 1),\n",
       " ('house', 1),\n",
       " ('lot', 2),\n",
       " ('notice', 1),\n",
       " ('purchase', 1)]"
      ]
     },
     "execution_count": 8,
     "metadata": {},
     "output_type": "execute_result"
    }
   ],
   "source": [
    "[(id2word[word_id], word_count) for word_id, word_count in corpus[5]]"
   ]
  },
  {
   "cell_type": "code",
   "execution_count": 4,
   "metadata": {
    "scrolled": true
   },
   "outputs": [
    {
     "name": "stderr",
     "output_type": "stream",
     "text": [
      "/opt/anaconda3/envs/U4-S1-NLP/lib/python3.7/site-packages/ipykernel/ipkernel.py:283: DeprecationWarning: `should_run_async` will not call `transform_cell` automatically in the future. Please pass the result to `transformed_cell` argument and any exception that happen during thetransform in `preprocessing_exc_tuple` in IPython 7.17 and above.\n",
      "  and should_run_async(code)\n"
     ]
    },
    {
     "data": {
      "text/plain": [
       "Electronics                    13995\n",
       "Health & Beauty                12071\n",
       "Toys & Games,Electronics        1676\n",
       "Office Supplies,Electronics      386\n",
       "Electronics,Media                185\n",
       "Office Supplies                    9\n",
       "Animals & Pet Supplies             6\n",
       "Electronics,Furniture              2\n",
       "Home & Garden                      2\n",
       "Name: primaryCategories, dtype: int64"
      ]
     },
     "metadata": {},
     "output_type": "display_data"
    }
   ],
   "source": [
    "display(df.primaryCategories.value_counts())\n"
   ]
  },
  {
   "cell_type": "code",
   "execution_count": 9,
   "metadata": {},
   "outputs": [
    {
     "name": "stderr",
     "output_type": "stream",
     "text": [
      "/opt/anaconda3/envs/U4-S1-NLP/lib/python3.7/site-packages/ipykernel/ipkernel.py:283: DeprecationWarning: `should_run_async` will not call `transform_cell` automatically in the future. Please pass the result to `transformed_cell` argument and any exception that happen during thetransform in `preprocessing_exc_tuple` in IPython 7.17 and above.\n",
      "  and should_run_async(code)\n"
     ]
    },
    {
     "data": {
      "text/plain": [
       "'AmazonBasics'"
      ]
     },
     "execution_count": 9,
     "metadata": {},
     "output_type": "execute_result"
    }
   ],
   "source": [
    "id2word[26]"
   ]
  },
  {
   "cell_type": "code",
   "execution_count": 10,
   "metadata": {},
   "outputs": [
    {
     "name": "stderr",
     "output_type": "stream",
     "text": [
      "/opt/anaconda3/envs/U4-S1-NLP/lib/python3.7/site-packages/ipykernel/ipkernel.py:283: DeprecationWarning: `should_run_async` will not call `transform_cell` automatically in the future. Please pass the result to `transformed_cell` argument and any exception that happen during thetransform in `preprocessing_exc_tuple` in IPython 7.17 and above.\n",
      "  and should_run_async(code)\n"
     ]
    },
    {
     "name": "stdout",
     "output_type": "stream",
     "text": [
      "CPU times: user 10.8 s, sys: 863 ms, total: 11.7 s\n",
      "Wall time: 11.4 s\n"
     ]
    }
   ],
   "source": [
    "%%time\n",
    "lda_multicore = gensim.models.ldamulticore.LdaMulticore(corpus=corpus,\n",
    "                                                        id2word=id2word,\n",
    "                                                        num_topics=5, \n",
    "                                                        chunksize=100,\n",
    "                                                        passes=10,\n",
    "                                                        per_word_topics=True,\n",
    "                                                        workers=16)\n",
    "\n",
    "\n",
    "lda_multicore.save('amzn_lda_multicore.model')"
   ]
  },
  {
   "cell_type": "code",
   "execution_count": 11,
   "metadata": {},
   "outputs": [
    {
     "name": "stderr",
     "output_type": "stream",
     "text": [
      "/opt/anaconda3/envs/U4-S1-NLP/lib/python3.7/site-packages/ipykernel/ipkernel.py:283: DeprecationWarning: `should_run_async` will not call `transform_cell` automatically in the future. Please pass the result to `transformed_cell` argument and any exception that happen during thetransform in `preprocessing_exc_tuple` in IPython 7.17 and above.\n",
      "  and should_run_async(code)\n"
     ]
    }
   ],
   "source": [
    "from gensim import models\n",
    "lda_multicore =  models.LdaModel.load('amzn_lda_multicore.model')"
   ]
  },
  {
   "cell_type": "code",
   "execution_count": 12,
   "metadata": {},
   "outputs": [
    {
     "name": "stdout",
     "output_type": "stream",
     "text": [
      "[(0,\n",
      "  '0.045*\"love\" + 0.042*\"easy\" + 0.041*\"use\" + 0.022*\"great\" + 0.015*\"nice\" + '\n",
      "  '0.014*\"light\" + 0.012*\"reading\" + 0.011*\"Kindle\" + 0.010*\"sound\" + '\n",
      "  '0.010*\"like\"'),\n",
      " (1,\n",
      "  '0.017*\"Fire\" + 0.017*\"battery\" + 0.016*\"screen\" + 0.015*\"Amazon\" + '\n",
      "  '0.014*\"use\" + 0.014*\"buy\" + 0.011*\"device\" + 0.009*\"like\" + 0.008*\"work\" + '\n",
      "  '0.007*\"need\"'),\n",
      " (2,\n",
      "  '0.150*\"good\" + 0.070*\"great\" + 0.069*\"price\" + 0.055*\"book\" + '\n",
      "  '0.041*\"product\" + 0.027*\"work\" + 0.019*\"value\" + 0.014*\"quality\" + '\n",
      "  '0.014*\"fast\" + 0.014*\"far\"'),\n",
      " (3,\n",
      "  '0.065*\"tablet\" + 0.037*\"love\" + 0.021*\"old\" + 0.020*\"great\" + 0.020*\"app\" + '\n",
      "  '0.020*\"kid\" + 0.019*\"buy\" + 0.017*\"use\" + 0.017*\"year\" + 0.016*\"game\"'),\n",
      " (4,\n",
      "  '0.116*\"battery\" + 0.058*\"great\" + 0.045*\"price\" + 0.040*\"work\" + '\n",
      "  '0.035*\"long\" + 0.032*\"brand\" + 0.024*\"buy\" + 0.020*\"good\" + 0.016*\"cheap\" + '\n",
      "  '0.015*\"Amazon\"')]\n"
     ]
    },
    {
     "name": "stderr",
     "output_type": "stream",
     "text": [
      "/opt/anaconda3/envs/U4-S1-NLP/lib/python3.7/site-packages/ipykernel/ipkernel.py:283: DeprecationWarning: `should_run_async` will not call `transform_cell` automatically in the future. Please pass the result to `transformed_cell` argument and any exception that happen during thetransform in `preprocessing_exc_tuple` in IPython 7.17 and above.\n",
      "  and should_run_async(code)\n"
     ]
    }
   ],
   "source": [
    "# display the print_topics from the model \n",
    "pprint(lda_multicore.print_topics())"
   ]
  },
  {
   "cell_type": "code",
   "execution_count": 13,
   "metadata": {},
   "outputs": [
    {
     "name": "stderr",
     "output_type": "stream",
     "text": [
      "/opt/anaconda3/envs/U4-S1-NLP/lib/python3.7/site-packages/ipykernel/ipkernel.py:283: DeprecationWarning: `should_run_async` will not call `transform_cell` automatically in the future. Please pass the result to `transformed_cell` argument and any exception that happen during thetransform in `preprocessing_exc_tuple` in IPython 7.17 and above.\n",
      "  and should_run_async(code)\n"
     ]
    },
    {
     "data": {
      "text/plain": [
       "['bulk', 'expensive', 'way', 'product', 'like']"
      ]
     },
     "metadata": {},
     "output_type": "display_data"
    },
    {
     "data": {
      "text/plain": [
       "[(0, 0.033860054),\n",
       " (1, 0.03392366),\n",
       " (2, 0.034497257),\n",
       " (3, 0.033656616),\n",
       " (4, 0.86406237)]"
      ]
     },
     "execution_count": 13,
     "metadata": {},
     "output_type": "execute_result"
    }
   ],
   "source": [
    "display(df.reviews_lemmas.iloc[1])\n",
    "doc_lda = lda_multicore[corpus]\n",
    "doc_lda[1][0]"
   ]
  },
  {
   "cell_type": "code",
   "execution_count": 14,
   "metadata": {},
   "outputs": [
    {
     "name": "stderr",
     "output_type": "stream",
     "text": [
      "/opt/anaconda3/envs/U4-S1-NLP/lib/python3.7/site-packages/ipykernel/ipkernel.py:283: DeprecationWarning: `should_run_async` will not call `transform_cell` automatically in the future. Please pass the result to `transformed_cell` argument and any exception that happen during thetransform in `preprocessing_exc_tuple` in IPython 7.17 and above.\n",
      "  and should_run_async(code)\n"
     ]
    },
    {
     "data": {
      "text/html": [
       "\n",
       "<link rel=\"stylesheet\" type=\"text/css\" href=\"https://cdn.rawgit.com/bmabey/pyLDAvis/files/ldavis.v1.0.0.css\">\n",
       "\n",
       "\n",
       "<div id=\"ldavis_el263881406818448548567432073192\"></div>\n",
       "<script type=\"text/javascript\">\n",
       "\n",
       "var ldavis_el263881406818448548567432073192_data = {\"mdsDat\": {\"x\": [-0.2110679003987677, -0.0529544118215617, 0.20067218011342264, -0.16793273678363774, 0.2312828688905443], \"y\": [-0.07327564893935815, 0.20751129320039258, 0.09946183723302536, -0.07417921780027632, -0.15951826369378352], \"topics\": [1, 2, 3, 4, 5], \"cluster\": [1, 1, 1, 1, 1], \"Freq\": [33.2265249442569, 25.979752496523584, 18.681143302803427, 11.42948962769481, 10.683089628721294]}, \"tinfo\": {\"Term\": [\"good\", \"battery\", \"tablet\", \"price\", \"great\", \"love\", \"book\", \"easy\", \"brand\", \"work\", \"use\", \"long\", \"product\", \"app\", \"old\", \"Fire\", \"game\", \"value\", \"Kindle\", \"screen\", \"cheap\", \"quality\", \"year\", \"fast\", \"gift\", \"read\", \"light\", \"far\", \"deal\", \"kid\", \"tablet\", \"gift\", \"grandson\", \"download\", \"travel\", \"educational\", \"ipad\", \"limit\", \"surf\", \"GB\", \"connect\", \"parental\", \"android\", \"google\", \"Google\", \"Android\", \"Tablet\", \"setting\", \"entertain\", \"Samsung\", \"playing\", \"gb\", \"Play\", \"protect\", \"sister\", \"port\", \"tab\", \"SD\", \"young\", \"magazine\", \"app\", \"daughter\", \"hd\", \"child\", \"movie\", \"content\", \"game\", \"old\", \"$\", \"mom\", \"enjoy\", \"perfect\", \"video\", \"e\", \"Christmas\", \"fire\", \"year\", \"play\", \"kid\", \"read\", \"love\", \"case\", \"Kindle\", \"warranty\", \"son\", \"reader\", \"kindle\", \"easy\", \"want\", \"buy\", \"use\", \"purchase\", \"great\", \"feature\", \"like\", \"get\", \"Amazon\", \"time\", \"Fire\", \"wife\", \"learn\", \"access\", \"memory\", \"age\", \"account\", \"carry\", \"absolutely\", \"Buy\", \"space\", \"grandkid\", \"ease\", \"choice\", \"tap\", \"ability\", \"wonderful\", \"program\", \"photo\", \"laptop\", \"stream\", \"own\", \"plug\", \"everyday\", \"Apple\", \"close\", \"install\", \"Store\", \"lack\", \"boy\", \"large\", \"tv\", \"keyboard\", \"month\", \"wish\", \"week\", \"change\", \"screen\", \"day\", \"try\", \"device\", \"break\", \"replace\", \"review\", \"go\", \"bad\", \"thing\", \"Amazon\", \"problem\", \"find\", \"use\", \"buy\", \"battery\", \"like\", \"need\", \"2\", \"get\", \"work\", \"purchase\", \"time\", \"big\", \"charge\", \"come\", \"adult\", \"toddler\", \"weight\", \"sturdy\", \"fraction\", \"functionality\", \"alternative\", \"brand\", \"quantity\", \"Best\", \"name\", \"usb\", \"Great\", \"lasting\", \"wow\", \"teen\", \"cartoon\", \"truly\", \"Mom\", \"form\", \"Basic\", \"Price\", \"Product\", \"incredible\", \"teenager\", \"sufficient\", \"sweet\", \"usual\", \"comparable\", \"advertise\", \"Basics\", \"AmazonBasics\", \"Energizer\", \"cheap\", \"alkaline\", \"long\", \"fair\", \"battery\", \"Duracell\", \"packaging\", \"bulk\", \"package\", \"energizer\", \"AA\", \"deliver\", \"thank\", \"expensive\", \"toy\", \"work\", \"price\", \"last\", \"life\", \"great\", \"deal\", \"quality\", \"order\", \"cost\", \"one\", \"buy\", \"store\", \"Amazon\", \"well\", \"highly\", \"good\", \"time\", \"need\", \"product\", \"like\", \"recommend\", \"purchase\", \"far\", \"lot\", \"yr\", \"birthday\", \"library\", \"nephew\", \"mother\", \"lightweight\", \"Echo\", \"tool\", \"stand\", \"blue\", \"site\", \"live\", \"beautiful\", \"ereader\", \"Grandson\", \"Tap\", \"email\", \"catch\", \"forever\", \"1st\", \"bed\", \"portability\", \"minimal\", \"command\", \"Dad\", \"physical\", \"dot\", \"Dot\", \"visit\", \"echo\", \"reading\", \"Alexa\", \"Oasis\", \"friend\", \"sound\", \"listen\", \"compact\", \"speaker\", \"fun\", \"durable\", \"family\", \"wifi\", \"music\", \"generation\", \"hold\", \"easy\", \"light\", \"portable\", \"use\", \"love\", \"nice\", \"color\", \"charge\", \"Kindle\", \"hand\", \"great\", \"fast\", \"size\", \"time\", \"like\", \"new\", \"little\", \"get\", \"buy\", \"purchase\", \"set\", \"product\", \"kindle\", \"ad\", \"original\", \"damage\", \"graphic\", \"variety\", \"shopping\", \"describe\", \"proof\", \"delivery\", \"monitor\", \"smooth\", \"savvy\", \"fill\", \"got\", \"process\", \"speedy\", \"aspect\", \"tech\", \"hopefully\", \"25\", \"study\", \"multi\", \"downside\", \"story\", \"upset\", \"requirement\", \"wonderfully\", \"remain\", \"gripe\", \"devise\", \"book\", \"good\", \"ok\", \"Black\", \"value\", \"friendly\", \"expect\", \"product\", \"Friday\", \"fast\", \"price\", \"sale\", \"okay\", \"inexpensive\", \"great\", \"far\", \"quality\", \"beat\", \"excellent\", \"deal\", \"user\", \"work\", \"service\", \"overall\", \"money\", \"load\", \"item\", \"internet\", \"recommend\", \"buy\", \"picture\", \"kid\", \"nice\", \"read\"], \"Freq\": [6690.0, 8605.0, 7157.0, 5280.0, 9227.0, 6020.0, 2056.0, 3317.0, 1991.0, 4452.0, 4809.0, 2516.0, 2423.0, 2205.0, 2389.0, 1442.0, 1796.0, 923.0, 1674.0, 1808.0, 1078.0, 1307.0, 2115.0, 833.0, 1089.0, 1991.0, 981.0, 1203.0, 834.0, 2664.0, 7155.060829475747, 1088.9078461457746, 431.56798421797004, 805.9256493475317, 294.46472768512945, 221.33396192475425, 222.64962609573445, 219.90481556814467, 185.85291904789565, 165.23013876403164, 168.19124363486716, 377.2469353434637, 160.71416732599602, 158.4068789387102, 305.0539592375077, 140.65114920467815, 148.92415606196042, 129.1491394613951, 129.05230608888994, 111.53415976235898, 111.90896202473702, 105.1262342831281, 108.03816396512231, 104.38157596012714, 103.54192634233655, 99.556396798711, 99.86536868515216, 94.53757638816991, 228.83668709427315, 88.66381520260812, 2168.166825478009, 927.0246797291923, 313.2306426399915, 815.8959682833848, 677.5208240146856, 228.34645221103753, 1733.3332772744668, 2287.322763446462, 430.4279612010678, 231.96911156662216, 724.9425078461433, 978.3769622193196, 598.9270549034213, 267.47654268480323, 735.2183694718599, 1039.777071136721, 1817.7536210615076, 1268.0336758478352, 2155.758488002811, 1643.7106510599801, 4027.325968291841, 642.6501526327646, 1236.163411243995, 261.1012710607161, 763.4999352393829, 437.1387331802879, 896.2022960126508, 1630.9694393058387, 817.4822202854332, 2119.9736871480623, 1897.0986519300748, 1201.9479331234318, 2191.8441403045213, 566.4941471019918, 942.908820260441, 762.6035509027489, 748.2543136604825, 679.3153773999269, 1441.943701718826, 567.257610402727, 564.2102388854292, 531.1138911627822, 391.32604923053583, 381.8359461580887, 312.0920374294293, 272.67699484817774, 318.9493011395052, 238.59559002389645, 202.68790332768214, 199.49556317372836, 201.9170298113383, 198.56843770824943, 191.98651871895092, 180.06777234371282, 187.97729465077066, 164.17433960147798, 164.14970968528044, 231.1505773706783, 153.0803914073465, 145.57491534997848, 143.36179128960896, 131.1671320409333, 120.89743381042926, 129.1976457958679, 117.45939254993178, 106.25977792860068, 104.62810329415893, 103.17488840055118, 376.06331577903336, 263.4447533427198, 172.01068982646132, 452.3759862774928, 300.37046993003895, 338.380600561387, 261.5958649754667, 1334.2204422783725, 554.8139109046804, 485.40682699518214, 901.5099539298345, 330.52916937193305, 447.88949403959555, 323.3260900760386, 556.922455005218, 280.0312824923995, 579.4883224263466, 1296.907604410082, 412.7158207099483, 478.4195061638818, 1238.2320670382564, 1235.6973486370541, 1413.7861356219273, 790.7173942729193, 635.0552075343013, 436.93192241908395, 575.1019845380863, 712.5336076803266, 580.5074886227717, 557.0209746700082, 406.2528350108437, 417.2449343649483, 411.3587930649469, 290.1276031602714, 253.4868182625026, 294.6648799380771, 151.6320904147314, 110.94990903756916, 113.08519170664056, 124.48642485394933, 1975.7930698527737, 77.45020107759939, 80.48662036620037, 69.4564696137402, 77.49434478814662, 62.62686635426356, 136.50753345999948, 48.514826642848185, 47.78159953898513, 54.731940398075885, 43.09829158232822, 41.76080309236987, 39.91457607754666, 34.521976383380405, 34.23153743052275, 33.91602350261241, 35.117995316621446, 34.467891557955916, 33.55161032722545, 33.424239344901224, 32.18772090240743, 100.08303052512618, 152.936591174897, 153.54240429233397, 248.608117585423, 145.30446686877914, 969.0603942840363, 137.92221072910027, 2182.674450761841, 40.418756167615605, 7140.023093498428, 408.84045498178074, 192.7342498505437, 128.35272296531733, 302.95781960789583, 146.2588712357981, 314.1234619505792, 116.85287424512019, 342.92491444482465, 391.3791268061177, 336.34944392522027, 2439.3137563838327, 2784.793114478444, 448.9539644508023, 692.7303705077652, 3575.009426127216, 468.23829384261535, 630.7604849847877, 344.24083996138125, 307.02153521614855, 264.0548182671002, 1485.5114467907674, 501.1680254366883, 946.6662662711685, 477.5847193301114, 260.0999030365236, 1222.2089136119994, 623.3260505348663, 498.6636959002558, 547.3885474091805, 558.188425530944, 388.02314403668237, 434.50461489918985, 349.16200002168574, 341.2885510306961, 260.9458501413594, 247.86265310453885, 202.62952330436025, 188.06169821201303, 183.227921861754, 166.60589354588555, 163.13910110691387, 153.62262474668708, 90.09968942764431, 83.56181826582427, 78.15506389026005, 117.99288449216924, 68.54985451755815, 64.1132609004316, 54.17931621697056, 56.86524060565947, 322.741651199988, 40.03350682289772, 36.91239381923193, 43.40362040216893, 57.01827271187925, 52.537143761187224, 31.048886974534824, 49.26820818027721, 28.468159551636493, 28.71199225695765, 29.49534886590511, 26.869092878538133, 25.0158446041739, 71.55093786876684, 456.105803460348, 282.7544469161921, 123.58610317000516, 222.77512266288352, 395.06948858055034, 218.96436098751204, 91.84595160505464, 256.1801133968115, 228.91694683904976, 283.6777087584735, 220.3221887569635, 201.4332084736527, 354.43435570810726, 107.17591149197456, 379.3569177322032, 1566.8015167799833, 521.657253938317, 148.46798000063708, 1528.5031646118568, 1689.4407749033041, 554.048666787219, 218.91728228121437, 374.59084771812485, 428.8923466841241, 206.39750369632637, 812.7037800409648, 282.7539557821473, 308.83908471187, 391.16041239370406, 394.13335201009363, 293.8176973291186, 283.2592976332782, 329.5738870596796, 375.6930577577419, 298.8331406544614, 247.03703923467137, 256.5904909722735, 242.89449897151297, 242.01513900704597, 174.2118635341822, 110.51152466072966, 114.93290180107056, 74.60161951144539, 73.6769811750873, 118.64789935504702, 56.327103336765596, 62.085072469532406, 54.04646130018873, 51.31454624249823, 65.94969920524161, 43.29594110054834, 41.232192928260936, 40.54420445947813, 32.32350811005759, 31.866654632829093, 149.43704845264924, 29.472423774870553, 22.453423214112245, 19.620986168748612, 18.732443525945815, 51.88963448088526, 17.284213719931596, 16.8345094976266, 16.888853876997086, 16.22557065921121, 15.804524937938245, 14.391049507621371, 13.647493180841353, 1940.7758559608335, 5277.541792321255, 237.59981163036687, 114.33681153761371, 664.7728204336241, 334.7904452988079, 399.8425210676202, 1456.927365967018, 140.41126012990702, 506.4131903309997, 2421.696850563185, 224.68025441769097, 58.798407200074, 142.92325644147718, 2455.0535095218393, 501.0462138167896, 508.8344401876429, 260.0490582122492, 307.2895640842086, 354.3510526948587, 217.89719054098686, 941.2718746332823, 137.93046354800734, 193.56436889728138, 276.07511168267513, 172.113562849924, 223.1646328676881, 212.18677107504965, 243.6013575281266, 374.5797572974629, 169.8683791503649, 214.4846647750767, 190.99103880289613, 199.57629284489997], \"Total\": [6690.0, 8605.0, 7157.0, 5280.0, 9227.0, 6020.0, 2056.0, 3317.0, 1991.0, 4452.0, 4809.0, 2516.0, 2423.0, 2205.0, 2389.0, 1442.0, 1796.0, 923.0, 1674.0, 1808.0, 1078.0, 1307.0, 2115.0, 833.0, 1089.0, 1991.0, 981.0, 1203.0, 834.0, 2664.0, 7157.476425913566, 1089.8236420573853, 432.39757290494487, 808.8422554105377, 295.613156194041, 222.21551361786416, 223.5417087112376, 220.84772252665616, 186.70974827845993, 166.05380688643126, 169.04201796277874, 379.28554256541224, 161.5836242604034, 159.27038568297922, 306.78918827876413, 141.47777274697793, 149.80833845593952, 129.97706851630036, 129.91956000230925, 112.35995604515786, 112.75562730909017, 105.94445771866938, 108.88199876280837, 105.20779840042049, 104.37121612393652, 100.38700205567596, 100.70464293848782, 95.37597304341465, 230.88318287329278, 89.49746661647045, 2205.7854079451818, 940.0285193868375, 316.23834464966154, 835.1792933937869, 693.1797938455251, 231.58430617285987, 1796.5407149144312, 2389.432303826366, 441.1264892041251, 236.2815521979692, 762.5611159753729, 1045.8709017488618, 631.4018532947914, 274.6946050064615, 789.9810677932522, 1143.002383880344, 2115.393999123242, 1460.4817652852848, 2664.274238703101, 1991.9132591992638, 6020.73406026145, 766.760440755906, 1674.9026126006731, 270.02908540289184, 985.8818418377531, 512.4269265701357, 1397.0943027289002, 3317.669327535038, 1264.5854528684151, 5591.455297631088, 4809.002989815105, 2536.3216587585416, 9227.215245715215, 767.0327741978103, 2846.351179877902, 1836.373721399256, 3202.9431750470344, 2313.0970122613185, 1442.7613498505848, 568.0570088475388, 565.034180242241, 531.9197600843896, 392.1354465634202, 382.6419926203179, 312.8860182537297, 273.4824358654854, 319.9234592462458, 239.3997419972678, 203.48934994105394, 200.29356943453283, 202.7283279213906, 199.37287091805825, 192.82654700029659, 180.86967057286822, 188.85032092932659, 164.97063659568448, 164.94881866920113, 232.30802700077356, 153.88064664643392, 146.3813924902308, 144.15743561636316, 131.9879540295865, 121.6952907565659, 130.06950656109458, 118.25512129975644, 107.054700093133, 105.43529759006734, 103.99274166229206, 380.37541684555447, 267.9952212166958, 175.03128725709166, 484.54886039492305, 322.3653185918236, 366.9915132038011, 282.9404097769873, 1808.5850633584025, 707.1901888461609, 620.2087440277992, 1332.1519972776048, 390.77846219646415, 574.4773377694955, 384.1103462507972, 807.107767347128, 327.80828663378867, 962.265922490225, 3202.9431750470344, 607.6833611095404, 870.3212420239689, 4809.002989815105, 5591.455297631088, 8605.546674523766, 2846.351179877902, 1827.4757511838147, 877.7671127435719, 1836.373721399256, 4452.8368431069575, 2536.3216587585416, 2313.0970122613185, 817.721564923928, 951.5674991749044, 1043.332554671559, 290.9038604445824, 254.23756356490287, 295.60126317039425, 152.4151263053399, 111.70936749016883, 113.86345184612532, 125.39252331478467, 1991.2007482874612, 78.21062920871954, 81.28402355179648, 70.19584342406965, 78.38164085190454, 63.36447052800169, 138.13030894154906, 49.26347915984459, 48.536465911399816, 55.61116301547071, 43.874860399649464, 42.51504972517229, 40.72960346789101, 35.24815664161419, 34.95776295727963, 34.63841386535137, 35.868165048352054, 35.217307679299246, 34.295151920420395, 34.17266998896195, 32.92501236245218, 102.42654127345553, 156.73236263627214, 157.8433335199629, 260.649769858593, 152.46223743528287, 1078.936125679469, 145.79442167055217, 2516.1239429034977, 41.44808068600692, 8605.546674523766, 454.1477263230044, 208.82969770689132, 138.7295175496446, 346.0117493566431, 161.5156413375847, 367.84225566892917, 127.76884134931043, 418.1283302918592, 506.75997004241844, 428.1573697124172, 4452.8368431069575, 5280.8546890113485, 638.4881218493551, 1083.560565167465, 9227.215245715215, 834.5356261647702, 1307.4438592117415, 551.3044175488502, 473.2828384069323, 384.80056945130866, 5591.455297631088, 1084.4026569058226, 3202.9431750470344, 1101.3295958895296, 396.5692106365772, 6690.691658308195, 2313.0970122613185, 1827.4757511838147, 2423.965968948921, 2846.351179877902, 1301.1999451472636, 2536.3216587585416, 1203.4531024624198, 1257.9804778477153, 261.74584611217756, 248.65081874875804, 203.47425186859465, 188.85310186464795, 184.01469945997772, 167.39290512419856, 163.92320799352885, 154.41394782119144, 90.91140509227681, 84.34856922526609, 78.94503010521815, 119.25021403134616, 69.347608477323, 64.91594925836618, 54.965786162780596, 57.737227362886344, 327.7376305875737, 40.84058123261608, 37.7409063027741, 44.390610186640004, 58.38614234680485, 53.8134929081415, 31.85169769423267, 50.60474568790838, 29.255126288826926, 29.508731669947412, 30.339169887094776, 27.659831309056035, 25.80457295381688, 73.87026720984386, 482.75405614769215, 299.70033487626165, 129.33586178293413, 236.48574035828565, 430.1766587832074, 240.11961462160184, 100.68132622638038, 321.8337534388875, 286.7304594285849, 373.49625361639437, 285.378687273258, 259.6350668776655, 521.8165616635694, 123.7947042662086, 574.7744801957814, 3317.669327535038, 981.250847663217, 192.32042033545528, 4809.002989815105, 6020.73406026145, 1303.5736120863876, 372.9865881284299, 951.5674991749044, 1674.9026126006731, 401.07411280749216, 9227.215245715215, 833.2294887506187, 1089.4101336301173, 2313.0970122613185, 2846.351179877902, 1044.889400802098, 980.3874641769768, 1836.373721399256, 5591.455297631088, 2536.3216587585416, 885.6848873134834, 2423.965968948921, 1397.0943027289002, 242.81576334413913, 175.01868941292483, 111.32876791404254, 115.81894707937128, 75.40221985546751, 74.49424024171063, 120.28265430857904, 57.1306269859563, 62.97947834695829, 54.854927348995275, 52.10963780897701, 67.12174937102226, 44.105714849359586, 42.024402500331746, 41.36085805129933, 33.116496006412, 32.66861129497222, 153.27589750751906, 30.27342750064312, 23.28883741247867, 20.4225931423883, 19.54459834065861, 54.20091713783981, 18.088195876715513, 17.62660657717554, 17.699603941809503, 17.01966319966101, 16.639981854799046, 15.1846296142038, 14.435633373012813, 2056.122081053149, 6690.691658308195, 284.46571678974396, 138.24449250510065, 923.973079765112, 456.40322561441485, 561.1356699824938, 2423.965968948921, 187.23709815078126, 833.2294887506187, 5280.8546890113485, 349.741032428078, 70.4363272683824, 219.95615695055028, 9227.215245715215, 1203.4531024624198, 1307.4438592117415, 518.1560521988622, 675.9174195042766, 834.5356261647702, 437.26850149578183, 4452.8368431069575, 224.18874027234963, 393.5655836314711, 739.91580307808, 337.2851570079593, 636.1438994304326, 570.6520677200688, 1301.1999451472636, 5591.455297631088, 457.7892038547341, 2664.274238703101, 1303.5736120863876, 1991.9132591992638], \"Category\": [\"Default\", \"Default\", \"Default\", \"Default\", \"Default\", \"Default\", \"Default\", \"Default\", \"Default\", \"Default\", \"Default\", \"Default\", \"Default\", \"Default\", \"Default\", \"Default\", \"Default\", \"Default\", \"Default\", \"Default\", \"Default\", \"Default\", \"Default\", \"Default\", \"Default\", \"Default\", \"Default\", \"Default\", \"Default\", \"Default\", \"Topic1\", \"Topic1\", \"Topic1\", \"Topic1\", \"Topic1\", \"Topic1\", \"Topic1\", \"Topic1\", \"Topic1\", \"Topic1\", \"Topic1\", \"Topic1\", \"Topic1\", \"Topic1\", \"Topic1\", \"Topic1\", \"Topic1\", \"Topic1\", \"Topic1\", \"Topic1\", \"Topic1\", \"Topic1\", \"Topic1\", \"Topic1\", \"Topic1\", \"Topic1\", \"Topic1\", \"Topic1\", \"Topic1\", \"Topic1\", \"Topic1\", \"Topic1\", \"Topic1\", \"Topic1\", \"Topic1\", \"Topic1\", \"Topic1\", \"Topic1\", \"Topic1\", \"Topic1\", \"Topic1\", \"Topic1\", \"Topic1\", \"Topic1\", \"Topic1\", \"Topic1\", \"Topic1\", \"Topic1\", \"Topic1\", \"Topic1\", \"Topic1\", \"Topic1\", \"Topic1\", \"Topic1\", \"Topic1\", \"Topic1\", \"Topic1\", \"Topic1\", \"Topic1\", \"Topic1\", \"Topic1\", \"Topic1\", \"Topic1\", \"Topic1\", \"Topic1\", \"Topic1\", \"Topic1\", \"Topic1\", \"Topic2\", \"Topic2\", \"Topic2\", \"Topic2\", \"Topic2\", \"Topic2\", \"Topic2\", \"Topic2\", \"Topic2\", \"Topic2\", \"Topic2\", \"Topic2\", \"Topic2\", \"Topic2\", \"Topic2\", \"Topic2\", \"Topic2\", \"Topic2\", \"Topic2\", \"Topic2\", \"Topic2\", \"Topic2\", \"Topic2\", \"Topic2\", \"Topic2\", \"Topic2\", \"Topic2\", \"Topic2\", \"Topic2\", \"Topic2\", \"Topic2\", \"Topic2\", \"Topic2\", \"Topic2\", \"Topic2\", \"Topic2\", \"Topic2\", \"Topic2\", \"Topic2\", \"Topic2\", \"Topic2\", \"Topic2\", \"Topic2\", \"Topic2\", \"Topic2\", \"Topic2\", \"Topic2\", \"Topic2\", \"Topic2\", \"Topic2\", \"Topic2\", \"Topic2\", \"Topic2\", \"Topic2\", \"Topic2\", \"Topic2\", \"Topic2\", \"Topic2\", \"Topic2\", \"Topic2\", \"Topic2\", \"Topic2\", \"Topic2\", \"Topic3\", \"Topic3\", \"Topic3\", \"Topic3\", \"Topic3\", \"Topic3\", \"Topic3\", \"Topic3\", \"Topic3\", \"Topic3\", \"Topic3\", \"Topic3\", \"Topic3\", \"Topic3\", \"Topic3\", \"Topic3\", \"Topic3\", \"Topic3\", \"Topic3\", \"Topic3\", \"Topic3\", \"Topic3\", \"Topic3\", \"Topic3\", \"Topic3\", \"Topic3\", \"Topic3\", \"Topic3\", \"Topic3\", \"Topic3\", \"Topic3\", \"Topic3\", \"Topic3\", \"Topic3\", \"Topic3\", \"Topic3\", \"Topic3\", \"Topic3\", \"Topic3\", \"Topic3\", \"Topic3\", \"Topic3\", \"Topic3\", \"Topic3\", \"Topic3\", \"Topic3\", \"Topic3\", \"Topic3\", \"Topic3\", \"Topic3\", \"Topic3\", \"Topic3\", \"Topic3\", \"Topic3\", \"Topic3\", \"Topic3\", \"Topic3\", \"Topic3\", \"Topic3\", \"Topic3\", \"Topic3\", \"Topic3\", \"Topic3\", \"Topic3\", \"Topic3\", \"Topic3\", \"Topic3\", \"Topic3\", \"Topic3\", \"Topic3\", \"Topic3\", \"Topic3\", \"Topic4\", \"Topic4\", \"Topic4\", \"Topic4\", \"Topic4\", \"Topic4\", \"Topic4\", \"Topic4\", \"Topic4\", \"Topic4\", \"Topic4\", \"Topic4\", \"Topic4\", \"Topic4\", \"Topic4\", \"Topic4\", \"Topic4\", \"Topic4\", \"Topic4\", \"Topic4\", \"Topic4\", \"Topic4\", \"Topic4\", \"Topic4\", \"Topic4\", \"Topic4\", \"Topic4\", \"Topic4\", \"Topic4\", \"Topic4\", \"Topic4\", \"Topic4\", \"Topic4\", \"Topic4\", \"Topic4\", \"Topic4\", \"Topic4\", \"Topic4\", \"Topic4\", \"Topic4\", \"Topic4\", \"Topic4\", \"Topic4\", \"Topic4\", \"Topic4\", \"Topic4\", \"Topic4\", \"Topic4\", \"Topic4\", \"Topic4\", \"Topic4\", \"Topic4\", \"Topic4\", \"Topic4\", \"Topic4\", \"Topic4\", \"Topic4\", \"Topic4\", \"Topic4\", \"Topic4\", \"Topic4\", \"Topic4\", \"Topic4\", \"Topic4\", \"Topic4\", \"Topic4\", \"Topic4\", \"Topic4\", \"Topic5\", \"Topic5\", \"Topic5\", \"Topic5\", \"Topic5\", \"Topic5\", \"Topic5\", \"Topic5\", \"Topic5\", \"Topic5\", \"Topic5\", \"Topic5\", \"Topic5\", \"Topic5\", \"Topic5\", \"Topic5\", \"Topic5\", \"Topic5\", \"Topic5\", \"Topic5\", \"Topic5\", \"Topic5\", \"Topic5\", \"Topic5\", \"Topic5\", \"Topic5\", \"Topic5\", \"Topic5\", \"Topic5\", \"Topic5\", \"Topic5\", \"Topic5\", \"Topic5\", \"Topic5\", \"Topic5\", \"Topic5\", \"Topic5\", \"Topic5\", \"Topic5\", \"Topic5\", \"Topic5\", \"Topic5\", \"Topic5\", \"Topic5\", \"Topic5\", \"Topic5\", \"Topic5\", \"Topic5\", \"Topic5\", \"Topic5\", \"Topic5\", \"Topic5\", \"Topic5\", \"Topic5\", \"Topic5\", \"Topic5\", \"Topic5\", \"Topic5\", \"Topic5\", \"Topic5\", \"Topic5\", \"Topic5\", \"Topic5\", \"Topic5\"], \"logprob\": [30.0, 29.0, 28.0, 27.0, 26.0, 25.0, 24.0, 23.0, 22.0, 21.0, 20.0, 19.0, 18.0, 17.0, 16.0, 15.0, 14.0, 13.0, 12.0, 11.0, 10.0, 9.0, 8.0, 7.0, 6.0, 5.0, 4.0, 3.0, 2.0, 1.0, -2.728100061416626, -4.610799789428711, -5.536300182342529, -4.9116997718811035, -5.918600082397461, -6.203999996185303, -6.1981000900268555, -6.2104997634887695, -6.378799915313721, -6.496399879455566, -6.478600025177002, -5.67080020904541, -6.524099826812744, -6.53849983215332, -5.883200168609619, -6.657400131225586, -6.600299835205078, -6.742700099945068, -6.743500232696533, -6.889400005340576, -6.886000156402588, -6.948599815368652, -6.921199798583984, -6.955699920654297, -6.963699817657471, -7.002999782562256, -6.999899864196777, -7.054699897766113, -6.1707000732421875, -7.118899822235107, -3.922100067138672, -4.771699905395508, -5.856800079345703, -4.899400234222412, -5.085299968719482, -6.172900199890137, -4.145899772644043, -3.8685998916625977, -5.538899898529053, -6.157100200653076, -5.017600059509277, -4.717800140380859, -5.208600044250488, -6.014699935913086, -5.003499984741211, -4.6570000648498535, -4.098400115966797, -4.458499908447266, -3.927799940109253, -4.198999881744385, -3.3029000759124756, -5.1381001472473145, -4.48390007019043, -6.03879976272583, -4.965799808502197, -5.523499965667725, -4.805600166320801, -4.2067999839782715, -4.897500038146973, -3.9446001052856445, -4.055600166320801, -4.51200008392334, -3.9112000465393066, -5.264200210571289, -4.754700183868408, -4.9670000076293945, -4.986000061035156, -5.082600116729736, -4.083899974822998, -5.016900062561035, -5.022299766540527, -5.082699775695801, -5.3881001472473145, -5.412700176239014, -5.6143999099731445, -5.7494001388549805, -5.592700004577637, -5.882900238037109, -6.046000003814697, -6.0619001388549805, -6.049799919128418, -6.0665998458862305, -6.100299835205078, -6.164400100708008, -6.121399879455566, -6.256800174713135, -6.256899833679199, -5.914599895477295, -6.326700210571289, -6.376999855041504, -6.392300128936768, -6.481200218200684, -6.562699794769287, -6.496300220489502, -6.591599941253662, -6.691800117492676, -6.707300186157227, -6.72130012512207, -5.4278998374938965, -5.78380012512207, -6.210100173950195, -5.243199825286865, -5.652699947357178, -5.5335001945495605, -5.790900230407715, -4.161600112915039, -5.039100170135498, -5.172699928283691, -4.553599834442139, -5.557000160217285, -5.2530999183654785, -5.578999996185303, -5.035299777984619, -5.722799777984619, -4.995500087738037, -4.189899921417236, -5.33489990234375, -5.18720006942749, -4.236199855804443, -4.23829984664917, -4.103700160980225, -4.684700012207031, -4.9039998054504395, -5.277900218963623, -5.0030999183654785, -4.788899898529053, -4.993800163269043, -5.035099983215332, -5.3506999015808105, -5.323999881744385, -5.338200092315674, -5.357600212097168, -5.492599964141846, -5.3420000076293945, -6.006400108337402, -6.31879997253418, -6.299699783325195, -6.203700065612793, -3.439199924468994, -6.678199768066406, -6.639800071716309, -6.787199974060059, -6.677700042724609, -6.890699863433838, -6.111499786376953, -7.145999908447266, -7.161200046539307, -7.025400161743164, -7.264400005340576, -7.295899868011475, -7.341100215911865, -7.486299991607666, -7.494699954986572, -7.504000186920166, -7.469200134277344, -7.4878997802734375, -7.514800071716309, -7.518599987030029, -7.556300163269043, -6.421899795532227, -5.997900009155273, -5.993899822235107, -5.51200008392334, -6.049099922180176, -4.151599884033203, -6.101200103759766, -3.339600086212158, -7.32859992980957, -2.154400110244751, -5.014599800109863, -5.766600131988525, -6.173099994659424, -5.314300060272217, -6.042500019073486, -5.27810001373291, -6.267000198364258, -5.190400123596191, -5.058199882507324, -5.209700107574463, -3.2283999919891357, -3.0959999561309814, -4.921000003814697, -4.487199783325195, -2.8461999893188477, -4.878900051116943, -4.580999851226807, -5.186500072479248, -5.301000118255615, -5.451700210571289, -3.724400043487549, -4.8109002113342285, -4.174900054931641, -4.859099864959717, -5.466800212860107, -3.9195001125335693, -4.592800140380859, -4.815999984741211, -4.722700119018555, -4.703199863433838, -5.066800117492676, -4.953700065612793, -5.172299861907959, -5.195199966430664, -4.972300052642822, -5.02370023727417, -5.225200176239014, -5.299799919128418, -5.325799942016602, -5.420899868011475, -5.441999912261963, -5.502099990844727, -6.035600185394287, -6.111000061035156, -6.1778998374938965, -5.765900135040283, -6.309000015258789, -6.375899791717529, -6.544300079345703, -6.4959001541137695, -4.759699821472168, -6.846799850463867, -6.927999973297119, -6.765999794006348, -6.493199825286865, -6.574999809265137, -7.10099983215332, -6.6392998695373535, -7.18779993057251, -7.179200172424316, -7.152299880981445, -7.24560022354126, -7.3171000480651855, -6.266200065612793, -4.41379976272583, -4.892000198364258, -5.719600200653076, -5.13040018081665, -4.557499885559082, -5.14769983291626, -6.016499996185303, -4.990699768066406, -5.1031999588012695, -4.888700008392334, -5.141499996185303, -5.231100082397461, -4.665999889373779, -5.862100124359131, -4.598100185394287, -3.179800033569336, -4.279600143432617, -5.536200046539307, -3.2044999599456787, -3.1043999195098877, -4.219299793243408, -5.147900104522705, -4.6107001304626465, -4.475399971008301, -5.2067999839782715, -3.836199998855591, -4.892000198364258, -4.803699970245361, -4.567399978637695, -4.559899806976318, -4.853600025177002, -4.890200138092041, -4.738800048828125, -4.607800006866455, -4.836699962615967, -5.0269999504089355, -4.989099979400635, -5.043900012969971, -4.980000019073486, -5.308800220489502, -5.763899803161621, -5.724699974060059, -6.156899929046631, -6.169300079345703, -5.69290018081665, -6.437900066375732, -6.3404998779296875, -6.4791998863220215, -6.531099796295166, -6.280099868774414, -6.701000213623047, -6.749800205230713, -6.766600131988525, -6.993199825286865, -7.007500171661377, -5.462200164794922, -7.085599899291992, -7.357600212097168, -7.492400169372559, -7.53879976272583, -6.519899845123291, -7.619200229644775, -7.645599842071533, -7.642399787902832, -7.682400226593018, -7.708700180053711, -7.8024001121521, -7.855500221252441, -2.898200035095215, -1.8977999687194824, -4.9984002113342285, -5.729899883270264, -3.969599962234497, -4.6554999351501465, -4.478000164031982, -3.1849000453948975, -5.524499893188477, -4.241700172424316, -2.676800012588501, -5.0543999671936035, -6.394899845123291, -5.506700038909912, -2.663100004196167, -4.252299785614014, -4.2368998527526855, -4.908199787139893, -4.741199970245361, -4.598700046539307, -5.085000038146973, -3.621799945831299, -5.542300224304199, -5.203400135040283, -4.848400115966797, -5.320899963378906, -5.061100006103516, -5.111599922180176, -4.973499774932861, -4.5432000160217285, -5.334000110626221, -5.100800037384033, -5.216800212860107, -5.172800064086914], \"loglift\": [30.0, 29.0, 28.0, 27.0, 26.0, 25.0, 24.0, 23.0, 22.0, 21.0, 20.0, 19.0, 18.0, 17.0, 16.0, 15.0, 14.0, 13.0, 12.0, 11.0, 10.0, 9.0, 8.0, 7.0, 6.0, 5.0, 4.0, 3.0, 2.0, 1.0, 1.1015, 1.101, 1.0999, 1.0982, 1.0979, 1.0978, 1.0978, 1.0975, 1.0972, 1.0968, 1.0968, 1.0964, 1.0964, 1.0964, 1.0961, 1.096, 1.0959, 1.0954, 1.0951, 1.0944, 1.0943, 1.0941, 1.094, 1.0939, 1.0938, 1.0935, 1.0935, 1.093, 1.0929, 1.0925, 1.0846, 1.0879, 1.0923, 1.0785, 1.079, 1.0877, 1.066, 1.0581, 1.0773, 1.0834, 1.0512, 1.0351, 1.049, 1.0752, 1.03, 1.0072, 0.9502, 0.9605, 0.89, 0.9097, 0.6997, 0.9252, 0.7981, 1.0682, 0.8462, 0.9429, 0.6578, 0.3917, 0.6656, 0.132, 0.1717, 0.3551, -0.3356, 0.7988, -0.003, 0.223, -0.3523, -0.1234, 1.3473, 1.3464, 1.3464, 1.3463, 1.3458, 1.3457, 1.3453, 1.3449, 1.3448, 1.3445, 1.3439, 1.3439, 1.3438, 1.3438, 1.3435, 1.3434, 1.3432, 1.343, 1.343, 1.3429, 1.3426, 1.3423, 1.3423, 1.3416, 1.3413, 1.3411, 1.3411, 1.3404, 1.3402, 1.34, 1.3365, 1.3307, 1.3304, 1.2791, 1.2772, 1.2667, 1.2694, 1.0437, 1.1052, 1.1028, 0.9574, 1.1804, 1.0989, 1.1756, 0.9768, 1.1903, 0.8407, 0.4438, 0.961, 0.7495, -0.009, -0.1618, -0.4583, 0.067, 0.2909, 0.6502, 0.1869, -0.4846, -0.1267, -0.0759, 0.6483, 0.5234, 0.4171, 1.675, 1.6747, 1.6745, 1.6725, 1.6708, 1.6708, 1.6704, 1.6699, 1.6679, 1.6678, 1.6671, 1.6663, 1.6659, 1.6658, 1.6623, 1.662, 1.6617, 1.6598, 1.6598, 1.6574, 1.6568, 1.6567, 1.6566, 1.6565, 1.6561, 1.6557, 1.6555, 1.655, 1.6545, 1.6531, 1.65, 1.6304, 1.6296, 1.5703, 1.6221, 1.5355, 1.6525, 1.491, 1.5726, 1.5974, 1.5999, 1.5448, 1.5784, 1.5198, 1.5883, 1.4794, 1.4193, 1.4363, 1.0758, 1.0377, 1.3255, 1.2303, 0.7295, 1.0998, 0.9488, 1.2067, 1.2449, 1.3011, 0.3522, 0.9058, 0.4588, 0.8421, 1.2559, -0.0224, 0.3664, 0.3789, 0.1897, 0.0486, 0.4677, -0.0866, 0.4402, 0.3731, 2.1659, 2.1658, 2.1648, 2.1648, 2.1647, 2.1643, 2.1642, 2.1638, 2.16, 2.1596, 2.1589, 2.1584, 2.1574, 2.1565, 2.1546, 2.1538, 2.1536, 2.149, 2.1468, 2.1465, 2.1453, 2.145, 2.1434, 2.1422, 2.1417, 2.1416, 2.1408, 2.14, 2.1379, 2.1371, 2.1122, 2.1108, 2.1235, 2.1092, 2.0838, 2.0767, 2.0771, 1.9408, 1.9438, 1.8939, 1.9102, 1.9152, 1.7822, 2.0248, 1.7535, 1.4187, 1.5372, 1.9102, 1.0228, 0.8982, 1.3134, 1.6361, 1.2367, 0.8067, 1.5046, -0.2606, 1.0882, 0.9084, 0.3917, 0.1919, 0.9003, 0.9274, 0.4512, -0.5312, 0.0304, 0.8922, -0.0767, 0.4195, 2.2332, 2.2319, 2.2291, 2.2288, 2.2258, 2.2255, 2.2228, 2.2223, 2.2222, 2.2217, 2.2211, 2.2189, 2.218, 2.2175, 2.2166, 2.2123, 2.2117, 2.2111, 2.2097, 2.2, 2.1965, 2.1941, 2.1929, 2.191, 2.1905, 2.1896, 2.1887, 2.185, 2.1828, 2.1804, 2.1788, 1.9993, 2.0565, 2.0466, 1.9073, 1.9266, 1.8976, 1.7274, 1.9487, 1.7386, 1.4569, 1.794, 2.0559, 1.8054, 0.9125, 1.3603, 1.2928, 1.5471, 1.4482, 1.3799, 1.54, 0.6824, 1.7508, 1.5269, 1.2506, 1.5637, 1.189, 1.2472, 0.561, -0.4667, 1.2451, -0.2829, 0.3159, -0.0641]}, \"token.table\": {\"Topic\": [1, 5, 4, 1, 2, 3, 4, 5, 2, 3, 1, 4, 1, 2, 3, 4, 5, 2, 3, 1, 2, 3, 2, 3, 3, 1, 5, 2, 1, 2, 3, 4, 4, 2, 3, 4, 4, 2, 3, 2, 1, 5, 1, 1, 2, 4, 3, 1, 2, 4, 5, 3, 1, 4, 1, 3, 3, 1, 1, 2, 1, 4, 2, 2, 2, 2, 5, 3, 1, 3, 5, 2, 2, 3, 3, 1, 1, 3, 5, 5, 1, 2, 4, 5, 1, 2, 3, 4, 5, 1, 2, 3, 4, 5, 4, 2, 4, 1, 2, 3, 4, 5, 4, 4, 1, 2, 5, 2, 2, 3, 4, 5, 2, 3, 4, 2, 3, 1, 2, 3, 4, 5, 2, 3, 1, 2, 3, 4, 4, 1, 2, 4, 1, 2, 4, 1, 2, 3, 4, 5, 1, 2, 3, 2, 2, 1, 4, 1, 2, 3, 4, 5, 4, 2, 4, 2, 3, 1, 1, 2, 1, 2, 3, 4, 5, 5, 1, 2, 1, 2, 3, 4, 5, 1, 2, 3, 5, 2, 3, 4, 5, 5, 2, 5, 1, 2, 3, 4, 5, 5, 4, 1, 2, 5, 2, 5, 2, 4, 1, 5, 2, 1, 2, 3, 4, 5, 2, 4, 1, 1, 4, 2, 3, 1, 2, 4, 5, 1, 4, 2, 1, 2, 3, 4, 5, 1, 2, 3, 4, 5, 2, 3, 4, 5, 3, 2, 3, 4, 1, 2, 3, 4, 5, 2, 3, 4, 5, 1, 4, 5, 1, 2, 3, 4, 5, 1, 2, 4, 5, 4, 3, 3, 2, 3, 4, 2, 5, 2, 3, 4, 3, 1, 2, 3, 4, 5, 1, 1, 4, 1, 2, 3, 4, 5, 1, 1, 2, 3, 4, 5, 1, 2, 3, 4, 5, 1, 5, 2, 1, 5, 1, 2, 3, 4, 5, 5, 1, 2, 3, 4, 1, 2, 4, 1, 2, 3, 5, 1, 2, 3, 4, 5, 3, 1, 2, 4, 5, 2, 2, 4, 5, 1, 2, 3, 4, 5, 1, 2, 1, 2, 3, 4, 5, 1, 2, 4, 2, 2, 3, 2, 3, 4, 2, 3, 4, 3, 4, 2, 4, 1, 2, 3, 4, 5, 1, 2, 3, 4, 4, 1, 2, 3, 4, 5, 1, 2, 4, 1, 2, 3, 4, 5, 3, 4, 2, 5, 1, 2, 3, 4, 5, 1, 2, 3, 4, 5, 1, 2, 3, 4, 5, 1, 2, 4, 1, 2, 1, 2, 3, 4, 5, 5, 1, 2, 3, 4, 5, 4, 1, 2, 4, 5, 5, 2, 4, 3, 1, 2, 3, 4, 5, 4, 1, 2, 4, 1, 2, 3, 4, 5, 1, 2, 3, 5, 2, 5, 1, 2, 4, 1, 2, 3, 4, 5, 1, 2, 3, 4, 5, 5, 1, 2, 3, 4, 5, 2, 2, 3, 5, 2, 3, 5, 1, 4, 1, 2, 3, 2, 4, 2, 4, 5, 1, 2, 4, 5, 1, 2, 1, 4, 1, 2, 3, 4, 1, 2, 3, 4, 5, 1, 2, 3, 5, 5, 1, 2, 3, 4, 5, 2, 5, 1, 1, 2, 3, 4, 5, 2, 3, 4, 5, 3, 1, 2, 5, 1, 4, 2, 4, 1, 2, 3, 4, 5, 5, 1, 2, 4, 5, 1, 2, 3, 5, 2, 4, 5, 2, 5, 1, 2, 1, 2, 5, 1, 2, 3, 4, 1, 5, 1, 4, 1, 2, 3, 4, 5, 5, 1, 2, 3, 4, 1, 2, 4, 2, 1, 2, 4, 5, 4, 1, 2, 3, 4, 5, 5, 2, 5, 3, 3, 1, 3, 1, 1, 2, 2, 2, 5, 3, 3, 1, 2, 3, 4, 1, 2, 3, 4, 5, 1, 2, 3, 4, 5, 3, 4, 2, 3, 5, 1, 3, 3, 1, 2, 3, 4, 1, 2, 4, 5, 3, 1, 2, 3, 4, 5, 1, 2, 5, 3, 2, 3, 5, 5, 1, 2, 4, 4, 1, 2, 3, 4, 5, 1, 2, 1, 2, 4, 5, 3, 1, 2, 3, 4, 5, 2, 2, 4, 5, 2, 3, 2, 5, 1, 2, 3, 4, 5, 3, 1, 2, 3, 4, 1, 3, 4], \"Freq\": [0.9747771002729866, 0.022669234890069456, 0.9686733257147583, 0.4955756415165209, 0.4978541502131486, 0.0011392543483138412, 0.0056962717415692055, 0.9446585765681853, 0.14408350096597342, 0.8536267793078426, 0.053386660400649794, 0.9442765558364932, 0.23353520781367462, 0.4049400595378823, 0.2956655639031415, 0.016235067922875775, 0.04964184230263939, 0.04220222410312386, 0.9553048910616219, 0.9966229836835756, 0.9942866256184332, 0.9929597271103473, 0.025341583396641255, 0.9756509607706884, 0.9842032481207299, 0.16637190808271363, 0.8246259791925806, 0.9983302321300231, 0.93040204375171, 0.034178034260266894, 0.034178034260266894, 0.9570972185716976, 0.976144781879418, 0.09688477438001263, 0.9005880163960264, 0.002201926690454832, 0.9943680458378701, 0.045913008478387037, 0.9510551756237314, 0.9994722967518754, 0.24567780880131132, 0.7477150702648605, 0.9936538227807569, 0.9941680204286131, 0.0032595672800938133, 0.9824293213978523, 0.9942480300874506, 0.737953353646529, 0.0047763971109807705, 0.25613429507634383, 0.0011940992777451926, 0.9878854728266414, 0.03865903803534056, 0.9587441432764459, 0.9918994987892376, 0.9726022812601004, 0.9815691945990065, 0.9960579899589228, 0.9967964027592429, 0.9901480262686697, 0.9946041824889656, 0.9872313341572021, 0.995191727998875, 0.9971134994338287, 0.9982708668611151, 0.9971682395439889, 0.9966404020360781, 0.9968929238573835, 0.019140909698159035, 0.9761863946061107, 0.006380303232719678, 0.9983222107539176, 0.048012810914108334, 0.9465382723067072, 0.9888946862382785, 0.9963880977229298, 0.982869862222735, 0.015414010754415584, 0.001360059772448434, 0.9795335256544828, 0.0030505635176854176, 0.854157784951917, 0.018303381106112505, 0.12507310422510212, 0.00011620412250629508, 0.16431262922390125, 0.829697434694947, 0.001394449470075541, 0.004531960777745508, 0.001929920524437321, 0.005789761573311963, 0.4882698926826422, 0.001929920524437321, 0.5017793363537034, 0.9949874482342578, 0.017127351796255887, 0.9762590523865855, 0.008560371036137717, 0.4965015200959875, 0.2763776934524463, 0.16998451057473465, 0.04891640592078695, 0.9973825996148613, 0.9958675146660143, 0.03988090043661195, 0.016049630663514565, 0.9440100944812657, 0.990453740843607, 0.007030933476717878, 0.9923660392853233, 0.000502209534051277, 0.000502209534051277, 0.8470272341508666, 0.0025589946651083583, 0.15098068524139313, 0.07208271301326685, 0.9226587265698157, 0.37914995062165174, 0.22105157498507622, 0.2657626540678181, 0.0672454629404439, 0.06706661862411292, 0.9982359530184868, 0.9890100659232628, 0.8385930804751774, 0.14215652530605652, 0.003912564916680455, 0.01695444797228197, 0.9794179904583538, 0.010602939333991175, 0.9259900351685627, 0.06361763600394706, 0.16709271821270427, 0.4382242987087904, 0.3940865995582648, 0.005561033556292733, 0.06302504697131764, 0.8981069193412764, 0.017609939594926988, 0.01575626174282941, 0.9770357173058601, 0.014368172313321473, 0.008381433849437526, 0.9981297810662941, 0.9917774227843924, 0.41020241711028427, 0.587152479393152, 0.2932909537135346, 0.3939300064583749, 0.3009586910655224, 0.009584671689984791, 0.0019169343379969582, 0.9682886324969355, 0.07945862753150595, 0.9137742166123184, 0.0195261889656164, 0.97630944828082, 0.993835745838007, 0.984522672403438, 0.01295424568951892, 0.07817735399944316, 0.1690321167555528, 0.6486607480494339, 0.00845160583777764, 0.09508056567499844, 0.9970468736859067, 0.9861402934930785, 0.012765570142305224, 0.059389964202595145, 0.784795955534293, 0.0028280935334569117, 0.15271705080667325, 0.0014140467667284559, 0.0011982711925620784, 0.013180983118182863, 0.5607909181190527, 0.4241880021669758, 0.007826634329930839, 0.9157162166019082, 0.06261307463944671, 0.015653268659861677, 0.984447658623619, 0.008313750687896783, 0.9893363318597173, 0.2830007392327901, 0.6770999119044475, 0.0022519952724094705, 0.037533254540157844, 0.0007506650908031568, 0.9698223582051327, 0.9558600353246839, 0.9964860201213213, 0.0012363350125574706, 0.0012363350125574706, 0.036899744609740576, 0.9593933598532549, 0.23828886940164318, 0.7603824596636704, 0.9719885106360917, 0.02548284484813724, 0.9964073697600219, 0.4916101753913493, 0.025017562573563454, 0.0006028328330979145, 0.47231952473221606, 0.010850990995762462, 0.027074492560296065, 0.9746817321706583, 0.9945300235880271, 0.01220488472083212, 0.9855444412071938, 0.08667891161536811, 0.9039372211316961, 0.950743468046716, 0.009179592105278637, 0.002622740601508182, 0.03671836842111455, 0.9929220819228998, 0.9858902277663584, 0.9925148166978554, 0.19085171690738442, 0.035507296168815705, 0.31216831215083807, 0.007397353368503272, 0.45419749682610094, 0.008910501091751998, 0.012474701528452797, 0.2655329325342095, 0.0017821002183503996, 0.7128400873401598, 0.17759887386619455, 0.7715684409075785, 0.01183992492441297, 0.0374930955939744, 0.965062780663429, 0.09110701380129442, 0.13666052070194162, 0.7709055013955682, 0.014126017844165107, 0.2717181079436465, 0.28999883691844835, 0.007478480035146233, 0.41630205528980696, 0.01680209376769925, 0.03600448664506982, 0.3396423240184919, 0.6072756747468442, 0.7379084949687353, 0.2607450512257015, 0.9749303496579504, 0.18613816620546011, 0.5492224904087033, 0.21141618877657198, 0.0494070441162641, 0.003447003077878891, 0.9098843665306591, 0.00349955525588715, 0.08223954851334803, 0.004374444069858938, 0.9803686139164167, 0.9820866542816654, 0.9936498835674523, 0.02537150861996902, 0.029600093389963857, 0.9429744037088486, 0.26511644355078456, 0.7340000709877093, 0.19879297132782234, 0.0034875959882074096, 0.7986594812994967, 0.9924167778850391, 0.9646316310078964, 0.030057765767124295, 0.0005566252919837832, 0.002226501167935133, 0.002226501167935133, 0.9910853503901322, 0.12924623952890213, 0.8643342268495331, 0.41549276768054555, 0.3131170922887467, 0.0010891029296999884, 0.1797019834004981, 0.09094009462994902, 0.9992442428062669, 0.15487398964188, 0.6901184978442173, 0.11894322404496385, 0.029735806011240963, 0.006194959585675201, 0.00582899377100596, 0.0210740544028677, 0.1826418048248534, 0.001644075166181168, 0.7888571570094731, 0.9920237169167916, 0.9756236272407761, 0.9935416327234827, 0.9990805385370831, 0.9929290750777586, 0.23755813012142374, 0.020916386456858935, 0.3874408372190191, 0.08810892326127623, 0.2660607707336201, 0.9219849516055572, 0.1495982864114664, 0.20195768665547964, 0.13463845777031977, 0.5136207833460347, 0.98975979761958, 0.0031621718773788498, 0.0063243437547576995, 0.29755209641864305, 0.04286767490777061, 0.6556232632953153, 0.0025216279357512124, 0.09568970421453948, 0.24183397974219978, 0.0017398128039007178, 0.659389052678372, 0.9579358002784433, 0.9757956659566576, 0.05000996631557342, 0.28187435559686835, 0.018185442296572152, 0.6501295621024544, 0.9893863260553856, 0.336457205468648, 0.2908952922281019, 0.3715048310382988, 0.9975766996040217, 0.4417239562488795, 0.20278430731710126, 0.003143942749102345, 0.35054961652491146, 0.011426528544364383, 0.9826814548153371, 0.8092260055967377, 0.0705633066104762, 0.030777612457760898, 0.00900808169495441, 0.08032206178001015, 0.6413310814093733, 0.18466899442368118, 0.1739324249804439, 0.995871424465839, 0.9943694283074893, 0.004304629559772681, 0.9884971092983881, 0.007886945020997778, 0.002628981673665926, 0.2709525738692091, 0.7032237321807798, 0.025059197583279458, 0.9918170823607775, 0.00723954074715896, 0.9981697032172504, 0.9976692290830934, 0.0036915333840908072, 0.27871077049885595, 0.6395581587937323, 0.051681467377271306, 0.026763617034658353, 0.22318452057548158, 0.2374520241739142, 0.00815285919910435, 0.5319740627415589, 0.9976527970291988, 0.33130135405162875, 0.27789965117162074, 0.19604046188845053, 0.13842283509686293, 0.056212318821061084, 0.9961615065939662, 0.087456412226437, 0.9120454417899858, 0.32334154768708473, 0.28560136704221994, 0.04386020993862663, 0.2886613816891009, 0.05814027829073763, 0.008385729183992404, 0.9895160437111037, 0.48920030001826115, 0.5099542521402479, 0.00039743670132801306, 0.0695514227324023, 0.8676043189990525, 0.06120525200451401, 0.0015897468053120522, 0.4149507954949287, 0.2400673184664147, 0.2710693893941967, 0.02384774686752464, 0.050080268421801744, 0.6688553189185585, 0.021425958813134853, 0.02890013049213538, 0.28053057701848655, 0.00033218540795557907, 0.9944415564453654, 0.9971044531338062, 0.9732605243711425, 0.9818794478107123, 0.016928955996736418, 0.008109030750579668, 0.2743555403946121, 0.3149006941475104, 0.029733112752125444, 0.3730154145266647, 0.9844147574281504, 0.030956630437175135, 0.9328264638402107, 0.014446427537348396, 0.01651020289982674, 0.004127550724956685, 0.99448576954474, 0.978101217057536, 0.014426271638016755, 0.002885254327603351, 0.0043278814914050265, 0.9721356084598739, 0.32003583686113407, 0.6783993188553381, 0.9829641846904627, 0.36060670001947137, 0.34747383082301114, 0.2730542387097363, 0.007113637481415976, 0.01149126054690273, 0.9954827225169997, 0.38377267459328873, 0.3340066419777002, 0.2813694920958277, 0.20252020871875762, 0.0391232221388509, 0.18641064666158372, 0.424985589508302, 0.14652030252001025, 0.024607534711024184, 0.1300683977582707, 0.007030724203149767, 0.8366561801748224, 0.15616941465569148, 0.8376359513350725, 0.9571311128328123, 0.020506963064629558, 0.022181000865823808, 0.031184985035523548, 0.21829489524866483, 0.686069670781518, 0.049376226306245614, 0.015592492517761774, 0.00544163969035161, 0.2303627468915515, 0.6239746844936512, 0.04534699741959675, 0.09432175463276124, 0.9941795392461121, 0.23630114996814305, 0.1524523548181568, 0.00762261774090784, 0.10925752095301237, 0.492929280578707, 0.9973945288827863, 0.12138316134666725, 0.8756928068580995, 0.002890075270158744, 0.06704027326443812, 0.924198052859754, 0.009577181894919731, 0.9939740846699474, 0.0026365360336072876, 0.9351058513671516, 0.000956140952318151, 0.06310530285299797, 0.9942477995486348, 0.9827599615043597, 0.18785938872269595, 0.4390667108518824, 0.3713499544518408, 0.8682066631296241, 0.09791289655168474, 0.03286586737399208, 0.0006847055702915016, 0.9932985401516252, 0.9919710307594305, 0.996144898764271, 0.984883105255217, 0.15598967570719968, 0.06759552613978653, 0.005199655856906656, 0.769549066822185, 0.0013255430062421392, 0.007574531464240796, 0.5273767531977653, 0.005302172024968557, 0.4586378801597802, 0.16949616624673933, 0.6796302588340131, 0.08063409850573036, 0.06911494157634031, 0.9912753731837052, 0.004538017505571588, 0.06270715098608014, 0.22566323414069625, 0.10602459081199075, 0.6010810459652549, 0.9941163069033713, 0.9802097920921781, 0.9885198776251964, 0.4739146534703904, 0.22907189156929852, 0.17150821485825277, 0.11788725573015535, 0.008279706924191513, 0.015297023928857649, 0.4826211049554588, 0.1131979770735466, 0.38930925898942714, 0.9845209120426746, 0.8253371437774741, 0.07430042413568502, 0.10040597856173651, 0.8528045216612713, 0.14441083433165694, 0.053857652087848325, 0.9445803596945707, 0.29895482354633424, 0.07070396855080399, 0.2981863021490429, 0.14448202269077337, 0.18751922093908882, 0.9615395100557473, 0.21584837529266301, 0.7798392913799438, 0.0034814254079461775, 0.9604734691177513, 0.07549913789894383, 0.84090419108134, 0.0728957193507044, 0.007810255644718328, 0.220162900147653, 0.1343851468433726, 0.6433331497821029, 0.014898300615980653, 0.9832878406547232, 0.26208333221541635, 0.7375931754754544, 0.10705265559208839, 0.276552693612895, 0.6155527696545082, 0.5272755657111127, 0.1874255758202242, 0.0056453486692838615, 0.27888022426262277, 0.9924827623252802, 0.9933653898595788, 0.9964433093938877, 0.9880292641099938, 0.4865018083078972, 0.13401747926972263, 0.09087486608015438, 0.2836397335229061, 0.004589639701017898, 0.9787057086628637, 0.7739264155405422, 0.06795946243933988, 0.006085922009493124, 0.15113372990241256, 0.0069738790767629386, 0.07438804348547134, 0.9182274117737869, 0.9975952061314477, 0.19264604578454533, 0.009321582860542516, 0.7954417374329613, 0.9662858049294882, 0.9899747991866178, 0.11527083524183573, 0.3513455058171153, 0.4620055076492776, 0.007377333455477487, 0.06362950105349333, 0.9398394464471539, 0.9942770798951908, 0.9793075668970174, 0.9972763444455752, 0.9913937713089805, 0.9961986544087597, 0.9656839811071031, 0.9930028753597961, 0.9996540085127489, 0.0002794280946227111, 0.9957135207099087, 0.019572548905497898, 0.9721032623063955, 0.988947157537611, 0.9654343912264827, 0.062181866466334994, 0.11001407144043883, 0.8203223153058808, 0.007174830746115576, 0.31903862833001717, 0.6017047746028663, 0.0010392137730619452, 0.06339204015677866, 0.015588206595929178, 0.2935458376370472, 0.2408026974430564, 0.2693358716463629, 0.16903744111352792, 0.026803890918257627, 0.9951322552515457, 0.9973192329641699, 0.2102030850489641, 0.7847581841827993, 0.002335589833877379, 0.9945430162351026, 0.0033827993749493282, 0.9800600983870833, 0.04675845073009831, 0.7819947794516441, 0.16607311811034917, 0.0032247207400067797, 0.0037314098193990523, 0.9813607825019507, 0.011194229458197157, 0.964451094177882, 0.9823729021632116, 0.3944684592664259, 0.25743381790818937, 0.003119149651553183, 0.31794532114832114, 0.02703263031346092, 0.32931711181439655, 0.1715193290699982, 0.49854951649679474, 0.9719054816967337, 0.005411413069817008, 0.27381750133274063, 0.7197179382856621, 0.9946656762063705, 0.9486826762929004, 0.0490971001086476, 0.0015837774228596, 0.9688205282351758, 0.6460615201185712, 0.17317928140265249, 0.0015815459488826712, 0.12810522185949635, 0.05060947036424548, 0.96656254495911, 0.02962643815966621, 0.002724858652098232, 0.9210022244092024, 0.07084632495455404, 0.002724858652098232, 0.9979659654903178, 0.3722772924020518, 0.1234871018699489, 0.4340208433370263, 0.06355953772717958, 0.007263947168820523, 0.9981392556889964, 0.19642955249966335, 0.7741635304398496, 0.02696091897054203, 0.9306212011592276, 0.06514348408114594, 0.9954973816028366, 0.9400891082450257, 0.07860157745096905, 0.16012264206440263, 0.5477407068654672, 0.0020211834201677753, 0.21132595537531962, 0.9946516331298956, 0.8594143694997237, 0.13047214850490854, 0.00614542728465149, 0.003781801405939378, 0.9918435684667156, 0.0043311946221253955, 0.9971504949428771], \"Term\": [\"$\", \"$\", \"1st\", \"2\", \"2\", \"2\", \"2\", \"25\", \"AA\", \"AA\", \"Alexa\", \"Alexa\", \"Amazon\", \"Amazon\", \"Amazon\", \"Amazon\", \"Amazon\", \"AmazonBasics\", \"AmazonBasics\", \"Android\", \"Apple\", \"Basic\", \"Basics\", \"Basics\", \"Best\", \"Black\", \"Black\", \"Buy\", \"Christmas\", \"Christmas\", \"Christmas\", \"Dad\", \"Dot\", \"Duracell\", \"Duracell\", \"Duracell\", \"Echo\", \"Energizer\", \"Energizer\", \"Fire\", \"Friday\", \"Friday\", \"GB\", \"Google\", \"Google\", \"Grandson\", \"Great\", \"Kindle\", \"Kindle\", \"Kindle\", \"Kindle\", \"Mom\", \"Oasis\", \"Oasis\", \"Play\", \"Price\", \"Product\", \"SD\", \"Samsung\", \"Store\", \"Tablet\", \"Tap\", \"ability\", \"absolutely\", \"access\", \"account\", \"ad\", \"adult\", \"advertise\", \"advertise\", \"advertise\", \"age\", \"alkaline\", \"alkaline\", \"alternative\", \"android\", \"app\", \"app\", \"app\", \"aspect\", \"bad\", \"bad\", \"bad\", \"bad\", \"battery\", \"battery\", \"battery\", \"battery\", \"battery\", \"beat\", \"beat\", \"beat\", \"beat\", \"beat\", \"beautiful\", \"bed\", \"bed\", \"big\", \"big\", \"big\", \"big\", \"big\", \"birthday\", \"blue\", \"book\", \"book\", \"book\", \"boy\", \"brand\", \"brand\", \"brand\", \"brand\", \"break\", \"break\", \"break\", \"bulk\", \"bulk\", \"buy\", \"buy\", \"buy\", \"buy\", \"buy\", \"carry\", \"cartoon\", \"case\", \"case\", \"case\", \"case\", \"catch\", \"change\", \"change\", \"change\", \"charge\", \"charge\", \"charge\", \"cheap\", \"cheap\", \"cheap\", \"cheap\", \"cheap\", \"child\", \"child\", \"child\", \"choice\", \"close\", \"color\", \"color\", \"come\", \"come\", \"come\", \"come\", \"come\", \"command\", \"compact\", \"compact\", \"comparable\", \"comparable\", \"connect\", \"content\", \"content\", \"cost\", \"cost\", \"cost\", \"cost\", \"cost\", \"damage\", \"daughter\", \"daughter\", \"day\", \"day\", \"day\", \"day\", \"day\", \"deal\", \"deal\", \"deal\", \"deal\", \"deliver\", \"deliver\", \"deliver\", \"deliver\", \"delivery\", \"describe\", \"describe\", \"device\", \"device\", \"device\", \"device\", \"device\", \"devise\", \"dot\", \"download\", \"download\", \"download\", \"downside\", \"downside\", \"durable\", \"durable\", \"e\", \"e\", \"ease\", \"easy\", \"easy\", \"easy\", \"easy\", \"easy\", \"echo\", \"echo\", \"educational\", \"email\", \"email\", \"energizer\", \"energizer\", \"enjoy\", \"enjoy\", \"enjoy\", \"enjoy\", \"entertain\", \"ereader\", \"everyday\", \"excellent\", \"excellent\", \"excellent\", \"excellent\", \"excellent\", \"expect\", \"expect\", \"expect\", \"expect\", \"expect\", \"expensive\", \"expensive\", \"expensive\", \"expensive\", \"fair\", \"family\", \"family\", \"family\", \"far\", \"far\", \"far\", \"far\", \"far\", \"fast\", \"fast\", \"fast\", \"fast\", \"feature\", \"feature\", \"fill\", \"find\", \"find\", \"find\", \"find\", \"find\", \"fire\", \"fire\", \"fire\", \"fire\", \"forever\", \"form\", \"fraction\", \"friend\", \"friend\", \"friend\", \"friendly\", \"friendly\", \"fun\", \"fun\", \"fun\", \"functionality\", \"game\", \"game\", \"game\", \"game\", \"game\", \"gb\", \"generation\", \"generation\", \"get\", \"get\", \"get\", \"get\", \"get\", \"gift\", \"go\", \"go\", \"go\", \"go\", \"go\", \"good\", \"good\", \"good\", \"good\", \"good\", \"google\", \"got\", \"grandkid\", \"grandson\", \"graphic\", \"great\", \"great\", \"great\", \"great\", \"great\", \"gripe\", \"hand\", \"hand\", \"hand\", \"hand\", \"hd\", \"hd\", \"hd\", \"highly\", \"highly\", \"highly\", \"highly\", \"hold\", \"hold\", \"hold\", \"hold\", \"hopefully\", \"incredible\", \"inexpensive\", \"inexpensive\", \"inexpensive\", \"inexpensive\", \"install\", \"internet\", \"internet\", \"internet\", \"ipad\", \"item\", \"item\", \"item\", \"item\", \"keyboard\", \"keyboard\", \"kid\", \"kid\", \"kid\", \"kid\", \"kid\", \"kindle\", \"kindle\", \"kindle\", \"lack\", \"laptop\", \"laptop\", \"large\", \"large\", \"large\", \"last\", \"last\", \"last\", \"lasting\", \"lasting\", \"learn\", \"library\", \"life\", \"life\", \"life\", \"life\", \"life\", \"light\", \"light\", \"light\", \"light\", \"lightweight\", \"like\", \"like\", \"like\", \"like\", \"like\", \"limit\", \"listen\", \"listen\", \"little\", \"little\", \"little\", \"little\", \"little\", \"live\", \"live\", \"load\", \"load\", \"long\", \"long\", \"long\", \"long\", \"long\", \"lot\", \"lot\", \"lot\", \"lot\", \"lot\", \"love\", \"love\", \"love\", \"love\", \"love\", \"magazine\", \"memory\", \"minimal\", \"mom\", \"mom\", \"money\", \"money\", \"money\", \"money\", \"money\", \"monitor\", \"month\", \"month\", \"month\", \"month\", \"month\", \"mother\", \"movie\", \"movie\", \"movie\", \"movie\", \"multi\", \"music\", \"music\", \"name\", \"need\", \"need\", \"need\", \"need\", \"need\", \"nephew\", \"new\", \"new\", \"new\", \"nice\", \"nice\", \"nice\", \"nice\", \"nice\", \"ok\", \"ok\", \"ok\", \"ok\", \"okay\", \"okay\", \"old\", \"old\", \"old\", \"one\", \"one\", \"one\", \"one\", \"one\", \"order\", \"order\", \"order\", \"order\", \"order\", \"original\", \"overall\", \"overall\", \"overall\", \"overall\", \"overall\", \"own\", \"package\", \"package\", \"package\", \"packaging\", \"packaging\", \"packaging\", \"parental\", \"parental\", \"perfect\", \"perfect\", \"perfect\", \"photo\", \"physical\", \"picture\", \"picture\", \"picture\", \"play\", \"play\", \"play\", \"play\", \"playing\", \"plug\", \"port\", \"portability\", \"portable\", \"portable\", \"portable\", \"portable\", \"price\", \"price\", \"price\", \"price\", \"price\", \"problem\", \"problem\", \"problem\", \"problem\", \"process\", \"product\", \"product\", \"product\", \"product\", \"product\", \"program\", \"proof\", \"protect\", \"purchase\", \"purchase\", \"purchase\", \"purchase\", \"purchase\", \"quality\", \"quality\", \"quality\", \"quality\", \"quantity\", \"read\", \"read\", \"read\", \"reader\", \"reader\", \"reading\", \"reading\", \"recommend\", \"recommend\", \"recommend\", \"recommend\", \"recommend\", \"remain\", \"replace\", \"replace\", \"replace\", \"requirement\", \"review\", \"review\", \"review\", \"review\", \"sale\", \"sale\", \"sale\", \"savvy\", \"savvy\", \"screen\", \"screen\", \"service\", \"service\", \"service\", \"set\", \"set\", \"set\", \"set\", \"setting\", \"shopping\", \"sister\", \"site\", \"size\", \"size\", \"size\", \"size\", \"size\", \"smooth\", \"son\", \"son\", \"son\", \"son\", \"sound\", \"sound\", \"sound\", \"space\", \"speaker\", \"speaker\", \"speaker\", \"speedy\", \"stand\", \"store\", \"store\", \"store\", \"store\", \"store\", \"story\", \"stream\", \"study\", \"sturdy\", \"sufficient\", \"surf\", \"sweet\", \"tab\", \"tablet\", \"tablet\", \"tap\", \"tech\", \"tech\", \"teen\", \"teenager\", \"thank\", \"thank\", \"thank\", \"thank\", \"thing\", \"thing\", \"thing\", \"thing\", \"thing\", \"time\", \"time\", \"time\", \"time\", \"time\", \"toddler\", \"tool\", \"toy\", \"toy\", \"toy\", \"travel\", \"travel\", \"truly\", \"try\", \"try\", \"try\", \"try\", \"tv\", \"tv\", \"tv\", \"upset\", \"usb\", \"use\", \"use\", \"use\", \"use\", \"use\", \"user\", \"user\", \"user\", \"usual\", \"value\", \"value\", \"value\", \"variety\", \"video\", \"video\", \"video\", \"visit\", \"want\", \"want\", \"want\", \"want\", \"want\", \"warranty\", \"warranty\", \"week\", \"week\", \"week\", \"week\", \"weight\", \"well\", \"well\", \"well\", \"well\", \"well\", \"wife\", \"wifi\", \"wifi\", \"wifi\", \"wish\", \"wish\", \"wonderful\", \"wonderfully\", \"work\", \"work\", \"work\", \"work\", \"work\", \"wow\", \"year\", \"year\", \"year\", \"year\", \"young\", \"young\", \"yr\"]}, \"R\": 30, \"lambda.step\": 0.01, \"plot.opts\": {\"xlab\": \"PC1\", \"ylab\": \"PC2\"}, \"topic.order\": [4, 2, 5, 1, 3]};\n",
       "\n",
       "function LDAvis_load_lib(url, callback){\n",
       "  var s = document.createElement('script');\n",
       "  s.src = url;\n",
       "  s.async = true;\n",
       "  s.onreadystatechange = s.onload = callback;\n",
       "  s.onerror = function(){console.warn(\"failed to load library \" + url);};\n",
       "  document.getElementsByTagName(\"head\")[0].appendChild(s);\n",
       "}\n",
       "\n",
       "if(typeof(LDAvis) !== \"undefined\"){\n",
       "   // already loaded: just create the visualization\n",
       "   !function(LDAvis){\n",
       "       new LDAvis(\"#\" + \"ldavis_el263881406818448548567432073192\", ldavis_el263881406818448548567432073192_data);\n",
       "   }(LDAvis);\n",
       "}else if(typeof define === \"function\" && define.amd){\n",
       "   // require.js is available: use it to load d3/LDAvis\n",
       "   require.config({paths: {d3: \"https://cdnjs.cloudflare.com/ajax/libs/d3/3.5.5/d3.min\"}});\n",
       "   require([\"d3\"], function(d3){\n",
       "      window.d3 = d3;\n",
       "      LDAvis_load_lib(\"https://cdn.rawgit.com/bmabey/pyLDAvis/files/ldavis.v1.0.0.js\", function(){\n",
       "        new LDAvis(\"#\" + \"ldavis_el263881406818448548567432073192\", ldavis_el263881406818448548567432073192_data);\n",
       "      });\n",
       "    });\n",
       "}else{\n",
       "    // require.js not available: dynamically load d3 & LDAvis\n",
       "    LDAvis_load_lib(\"https://cdnjs.cloudflare.com/ajax/libs/d3/3.5.5/d3.min.js\", function(){\n",
       "         LDAvis_load_lib(\"https://cdn.rawgit.com/bmabey/pyLDAvis/files/ldavis.v1.0.0.js\", function(){\n",
       "                 new LDAvis(\"#\" + \"ldavis_el263881406818448548567432073192\", ldavis_el263881406818448548567432073192_data);\n",
       "            })\n",
       "         });\n",
       "}\n",
       "</script>"
      ],
      "text/plain": [
       "PreparedData(topic_coordinates=              x         y  topics  cluster       Freq\n",
       "topic                                                \n",
       "3     -0.211068 -0.073276       1        1  33.226525\n",
       "1     -0.052954  0.207511       2        1  25.979752\n",
       "4      0.200672  0.099462       3        1  18.681143\n",
       "0     -0.167933 -0.074179       4        1  11.429490\n",
       "2      0.231283 -0.159518       5        1  10.683090, topic_info=         Term         Freq        Total Category  logprob  loglift\n",
       "34       good  6690.000000  6690.000000  Default  30.0000  30.0000\n",
       "4     battery  8605.000000  8605.000000  Default  29.0000  29.0000\n",
       "3953   tablet  7157.000000  7157.000000  Default  28.0000  28.0000\n",
       "19      price  5280.000000  5280.000000  Default  27.0000  27.0000\n",
       "22      great  9227.000000  9227.000000  Default  26.0000  26.0000\n",
       "...       ...          ...          ...      ...      ...      ...\n",
       "31        buy   374.579757  5591.455298   Topic5  -4.5432  -0.4667\n",
       "646   picture   169.868379   457.789204   Topic5  -5.3340   1.2451\n",
       "183       kid   214.484665  2664.274239   Topic5  -5.1008  -0.2829\n",
       "172      nice   190.991039  1303.573612   Topic5  -5.2168   0.3159\n",
       "895      read   199.576293  1991.913259   Topic5  -5.1728  -0.0641\n",
       "\n",
       "[365 rows x 6 columns], token_table=      Topic      Freq   Term\n",
       "term                        \n",
       "5718      1  0.974777      $\n",
       "5718      5  0.022669      $\n",
       "5673      4  0.968673    1st\n",
       "212       1  0.495576      2\n",
       "212       2  0.497854      2\n",
       "...     ...       ...    ...\n",
       "100       3  0.006145   year\n",
       "100       4  0.003782   year\n",
       "1109      1  0.991844  young\n",
       "1109      3  0.004331  young\n",
       "1456      4  0.997150     yr\n",
       "\n",
       "[686 rows x 3 columns], R=30, lambda_step=0.01, plot_opts={'xlab': 'PC1', 'ylab': 'PC2'}, topic_order=[4, 2, 5, 1, 3])"
      ]
     },
     "execution_count": 14,
     "metadata": {},
     "output_type": "execute_result"
    }
   ],
   "source": [
    "pyLDAvis.enable_notebook()\n",
    "vis = pyLDAvis.gensim.prepare(lda_multicore, corpus, id2word)\n",
    "vis"
   ]
  },
  {
   "cell_type": "code",
   "execution_count": 15,
   "metadata": {},
   "outputs": [
    {
     "name": "stderr",
     "output_type": "stream",
     "text": [
      "/opt/anaconda3/envs/U4-S1-NLP/lib/python3.7/site-packages/ipykernel/ipkernel.py:283: DeprecationWarning: `should_run_async` will not call `transform_cell` automatically in the future. Please pass the result to `transformed_cell` argument and any exception that happen during thetransform in `preprocessing_exc_tuple` in IPython 7.17 and above.\n",
      "  and should_run_async(code)\n"
     ]
    }
   ],
   "source": [
    "def compute_coherence_values(dictionary, corpus, texts, limit, start=2, step=3):\n",
    "    \"\"\"\n",
    "    Compute c_v coherence for various number of topics\n",
    "\n",
    "    Parameters:\n",
    "    ----------\n",
    "    dictionary : Gensim dictionary\n",
    "    corpus : Gensim corpus\n",
    "    texts : List of input texts\n",
    "    limit : Max num of topics\n",
    "\n",
    "    Returns:\n",
    "    -------\n",
    "    model_list : List of LDA topic models\n",
    "    coherence_values : Coherence values corresponding to the LDA model with respective number of topics\n",
    "    \"\"\"\n",
    "    coherence_values = []\n",
    "    model_list = []\n",
    "    for num_topics in range(start, limit, step):\n",
    "        print(f'num_topics = {num_topics}')\n",
    "        model = gensim.models.ldamulticore.LdaMulticore(corpus=corpus,\n",
    "                                                        id2word=id2word,\n",
    "                                                        num_topics=num_topics, \n",
    "                                                        chunksize=100,\n",
    "                                                        passes=10,\n",
    "                                                        per_word_topics=True,\n",
    "                                                        workers=16)\n",
    "        model_list.append(model)\n",
    "        coherencemodel = CoherenceModel(model=model, texts=texts, dictionary=dictionary, coherence='c_v')\n",
    "        coherence_values.append(coherencemodel.get_coherence())\n",
    "\n",
    "    return model_list, coherence_values"
   ]
  },
  {
   "cell_type": "code",
   "execution_count": 16,
   "metadata": {},
   "outputs": [
    {
     "name": "stdout",
     "output_type": "stream",
     "text": [
      "num_topics = 2\n"
     ]
    },
    {
     "name": "stderr",
     "output_type": "stream",
     "text": [
      "/opt/anaconda3/envs/U4-S1-NLP/lib/python3.7/site-packages/ipykernel/ipkernel.py:283: DeprecationWarning: `should_run_async` will not call `transform_cell` automatically in the future. Please pass the result to `transformed_cell` argument and any exception that happen during thetransform in `preprocessing_exc_tuple` in IPython 7.17 and above.\n",
      "  and should_run_async(code)\n"
     ]
    },
    {
     "name": "stdout",
     "output_type": "stream",
     "text": [
      "num_topics = 5\n",
      "num_topics = 8\n",
      "num_topics = 11\n",
      "num_topics = 14\n",
      "num_topics = 17\n",
      "num_topics = 20\n",
      "CPU times: user 1min 46s, sys: 10.3 s, total: 1min 56s\n",
      "Wall time: 1min 56s\n"
     ]
    }
   ],
   "source": [
    "%%time\n",
    "model_list, coherence_values = compute_coherence_values(dictionary=id2word, corpus=corpus, texts=df.reviews_lemmas, limit=22)"
   ]
  },
  {
   "cell_type": "code",
   "execution_count": 17,
   "metadata": {},
   "outputs": [
    {
     "name": "stdout",
     "output_type": "stream",
     "text": [
      "[0.44188890501473754, 0.49924378814314974, 0.4562979925071317, 0.45002848059181083, 0.42866160004712045, 0.4228437384677316, 0.4133101148976113]\n"
     ]
    },
    {
     "name": "stderr",
     "output_type": "stream",
     "text": [
      "/opt/anaconda3/envs/U4-S1-NLP/lib/python3.7/site-packages/ipykernel/ipkernel.py:283: DeprecationWarning: `should_run_async` will not call `transform_cell` automatically in the future. Please pass the result to `transformed_cell` argument and any exception that happen during thetransform in `preprocessing_exc_tuple` in IPython 7.17 and above.\n",
      "  and should_run_async(code)\n"
     ]
    }
   ],
   "source": [
    "print(coherence_values)"
   ]
  },
  {
   "cell_type": "code",
   "execution_count": 18,
   "metadata": {},
   "outputs": [
    {
     "name": "stderr",
     "output_type": "stream",
     "text": [
      "/opt/anaconda3/envs/U4-S1-NLP/lib/python3.7/site-packages/ipykernel/ipkernel.py:283: DeprecationWarning: `should_run_async` will not call `transform_cell` automatically in the future. Please pass the result to `transformed_cell` argument and any exception that happen during thetransform in `preprocessing_exc_tuple` in IPython 7.17 and above.\n",
      "  and should_run_async(code)\n"
     ]
    },
    {
     "data": {
      "image/png": "[encoded data removed]",
      "text/plain": [
       "<Figure size 432x288 with 1 Axes>"
      ]
     },
     "metadata": {
      "needs_background": "light"
     },
     "output_type": "display_data"
    }
   ],
   "source": [
    "limit=22; start=2; step=3;\n",
    "x = range(start, limit, step)\n",
    "plt.plot(x, coherence_values)\n",
    "plt.xlabel(\"Num Topics\")\n",
    "plt.ylabel(\"Coherence score\")\n",
    "plt.legend((\"coherence_values\"), loc='best')\n",
    "plt.show()\n"
   ]
  },
  {
   "cell_type": "markdown",
   "metadata": {},
   "source": [
    "Based on the value_counts() for the primaryCategories column\n",
    "\n",
    "Electronics                    13995\n",
    "Health & Beauty                12071\n",
    "Toys & Games,Electronics        1676\n",
    "Office Supplies,Electronics      386\n",
    "Electronics,Media                185\n",
    "Office Supplies                    9\n",
    "Animals & Pet Supplies             6\n",
    "Electronics,Furniture              2\n",
    "Home & Garden                      2\n",
    "\n",
    "I estimated the number of topics as 5 and generated LDA numbers.\n",
    "\n",
    "\n",
    "The choice of 5 for the number of topics appears to be validated by the coherence score metric which peaks at num_topics == 5.\n"
   ]
  },
  {
   "cell_type": "markdown",
   "metadata": {},
   "source": [
    "## Stretch Goals\n",
    "\n",
    "* Incorporate Named Entity Recognition in your analysis\n",
    "* Incorporate some custom pre-processing from our previous lessons (like spacy lemmatization)\n",
    "* Analyze a dataset of interest to you with topic modeling"
   ]
  },
  {
   "cell_type": "code",
   "execution_count": null,
   "metadata": {},
   "outputs": [],
   "source": []
  },
  {
   "cell_type": "code",
   "execution_count": null,
   "metadata": {},
   "outputs": [],
   "source": []
  }
 ],
 "metadata": {
  "kernelspec": {
   "display_name": "U4-S1-NLP (Python3)",
   "language": "python",
   "name": "u4-s1-nlp"
  },
  "language_info": {
   "codemirror_mode": {
    "name": "ipython",
    "version": 3
   },
   "file_extension": ".py",
   "mimetype": "text/x-python",
   "name": "python",
   "nbconvert_exporter": "python",
   "pygments_lexer": "ipython3",
   "version": "3.7.0"
  }
 },
 "nbformat": 4,
 "nbformat_minor": 2
}
