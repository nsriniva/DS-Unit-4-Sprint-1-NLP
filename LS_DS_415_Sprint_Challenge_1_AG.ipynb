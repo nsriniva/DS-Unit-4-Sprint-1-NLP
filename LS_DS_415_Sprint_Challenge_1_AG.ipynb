{
 "cells": [
  {
   "cell_type": "markdown",
   "metadata": {},
   "source": [
    "\n",
    "## Autograded Notebook (Canvas & CodeGrade)\n",
    "\n",
    "This notebook will be automatically graded. It is designed to test your answers and award points for the correct answers. Following the instructions for each Task carefully.\n",
    "Instructions\n",
    "\n",
    "- **Download** this notebook as you would any other ipynb file \n",
    "- **Upload** to Google Colab or work locally (if you have that set-up)\n",
    "- **Delete** `raise NotImplementedError()`\n",
    "\n",
    "- **Write** your code in the `# YOUR CODE HERE` space\n",
    "\n",
    "\n",
    "- **Execute** the Test cells that contain assert statements - these help you check your work (others contain hidden tests that will be checked when you submit through Canvas)\n",
    "\n",
    "- **Save** your notebook when you are finished\n",
    "- **Download** as a ipynb file (if working in Colab)\n",
    "- **Upload** your complete notebook to Canvas (there will be additional instructions in Slack and/or Canvas)\n",
    "\n"
   ]
  },
  {
   "cell_type": "markdown",
   "metadata": {},
   "source": [
    "# Sprint Challenge\n",
    "## *Data Science Unit 4 Sprint 1*\n",
    "\n",
    "After a week of Natural Language Processing, you've learned some cool new stuff: how to process text, how turn text into vectors, and how to model topics from documents. Apply your newly acquired skills to one of the most famous NLP datasets out there: [Yelp](https://www.yelp.com/dataset). As part of the job selection process, some of my friends have been asked to create analysis of this dataset, so I want to empower you to have a head start.  \n",
    "\n",
    "The real dataset is massive (almost 8 gigs uncompressed). I've sampled the data for you to something more managable for the Sprint Challenge. You can analyze the full dataset as a stretch goal or after the sprint challenge. As you work on the challenge, I suggest adding notes about your findings and things you want to analyze in the future.\n",
    "\n",
    "## Challenge Objectives\n",
    "Successfully complete all these objectives to earn full credit. \n",
    "\n",
    "**Successful completion is defined as passing all the unit tests in each objective.**  \n",
    "\n",
    "Each unit test that you pass is 1 point. \n",
    "\n",
    "There are 5 total possible points in this sprint challenge. \n",
    "\n",
    "\n",
    "There are more details on each objective further down in the notebook.*\n",
    "* <a href=\"#p1\">Part 1</a>: Write a function to tokenize the yelp reviews\n",
    "* <a href=\"#p2\">Part 2</a>: Create a vector representation of those tokens\n",
    "* <a href=\"#p3\">Part 3</a>: Use your tokens in a classification model on yelp rating\n",
    "* <a href=\"#p4\">Part 4</a>: Estimate & Interpret a topic model of the Yelp reviews\n",
    "\n",
    "____\n",
    "\n",
    "# Before you submit your notebook you must first\n",
    "\n",
    "1) Restart your notebook's Kernal\n",
    "\n",
    "2) Run all cells sequentially, from top to bottom, so that cell numbers are sequential numbers (i.e. 1,2,3,4,5...)\n",
    "- Easiest way to do this is to click on the **Cell** tab at the top of your notebook and select **Run All** from the drop down menu. \n",
    "\n",
    "3) Comment out the cell that generates a pyLDAvis visual in objective 4 (see instructions in that section). \n",
    "____"
   ]
  },
  {
   "cell_type": "markdown",
   "metadata": {},
   "source": [
    "\n",
    "\n",
    "### Import Data"
   ]
  },
  {
   "cell_type": "code",
   "execution_count": 1,
   "metadata": {
    "deletable": false,
    "nbgrader": {
     "cell_type": "code",
     "checksum": "7bec125eb29f89460cf0c19ba9aa9a2f",
     "grade": false,
     "grade_id": "cell-395851cd95d17235",
     "locked": false,
     "schema_version": 3,
     "solution": true,
     "task": false
    }
   },
   "outputs": [
    {
     "name": "stdout",
     "output_type": "stream",
     "text": [
      "(10000, 9)\n"
     ]
    },
    {
     "data": {
      "text/html": [
       "<div>\n",
       "<style scoped>\n",
       "    .dataframe tbody tr th:only-of-type {\n",
       "        vertical-align: middle;\n",
       "    }\n",
       "\n",
       "    .dataframe tbody tr th {\n",
       "        vertical-align: top;\n",
       "    }\n",
       "\n",
       "    .dataframe thead th {\n",
       "        text-align: right;\n",
       "    }\n",
       "</style>\n",
       "<table border=\"1\" class=\"dataframe\">\n",
       "  <thead>\n",
       "    <tr style=\"text-align: right;\">\n",
       "      <th></th>\n",
       "      <th>business_id</th>\n",
       "      <th>cool</th>\n",
       "      <th>date</th>\n",
       "      <th>funny</th>\n",
       "      <th>review_id</th>\n",
       "      <th>stars</th>\n",
       "      <th>text</th>\n",
       "      <th>useful</th>\n",
       "      <th>user_id</th>\n",
       "    </tr>\n",
       "  </thead>\n",
       "  <tbody>\n",
       "    <tr>\n",
       "      <th>0</th>\n",
       "      <td>nDuEqIyRc8YKS1q1fX0CZg</td>\n",
       "      <td>1</td>\n",
       "      <td>2015-03-31 16:50:30</td>\n",
       "      <td>0</td>\n",
       "      <td>eZs2tpEJtXPwawvHnHZIgQ</td>\n",
       "      <td>1</td>\n",
       "      <td>BEWARE!!! FAKE, FAKE, FAKE....We also own a sm...</td>\n",
       "      <td>10</td>\n",
       "      <td>n1LM36qNg4rqGXIcvVXv8w</td>\n",
       "    </tr>\n",
       "    <tr>\n",
       "      <th>1</th>\n",
       "      <td>eMYeEapscbKNqUDCx705hg</td>\n",
       "      <td>0</td>\n",
       "      <td>2015-12-16 05:31:03</td>\n",
       "      <td>0</td>\n",
       "      <td>DoQDWJsNbU0KL1O29l_Xug</td>\n",
       "      <td>4</td>\n",
       "      <td>Came here for lunch Togo. Service was quick. S...</td>\n",
       "      <td>0</td>\n",
       "      <td>5CgjjDAic2-FAvCtiHpytA</td>\n",
       "    </tr>\n",
       "    <tr>\n",
       "      <th>2</th>\n",
       "      <td>6Q7-wkCPc1KF75jZLOTcMw</td>\n",
       "      <td>1</td>\n",
       "      <td>2010-06-20 19:14:48</td>\n",
       "      <td>1</td>\n",
       "      <td>DDOdGU7zh56yQHmUnL1idQ</td>\n",
       "      <td>3</td>\n",
       "      <td>I've been to Vegas dozens of times and had nev...</td>\n",
       "      <td>2</td>\n",
       "      <td>BdV-cf3LScmb8kZ7iiBcMA</td>\n",
       "    </tr>\n",
       "    <tr>\n",
       "      <th>3</th>\n",
       "      <td>k3zrItO4l9hwfLRwHBDc9w</td>\n",
       "      <td>3</td>\n",
       "      <td>2010-07-13 00:33:45</td>\n",
       "      <td>4</td>\n",
       "      <td>LfTMUWnfGFMOfOIyJcwLVA</td>\n",
       "      <td>1</td>\n",
       "      <td>We went here on a night where they closed off ...</td>\n",
       "      <td>5</td>\n",
       "      <td>cZZnBqh4gAEy4CdNvJailQ</td>\n",
       "    </tr>\n",
       "    <tr>\n",
       "      <th>4</th>\n",
       "      <td>6hpfRwGlOzbNv7k5eP9rsQ</td>\n",
       "      <td>1</td>\n",
       "      <td>2018-06-30 02:30:01</td>\n",
       "      <td>0</td>\n",
       "      <td>zJSUdI7bJ8PNJAg4lnl_Gg</td>\n",
       "      <td>4</td>\n",
       "      <td>3.5 to 4 stars\\n\\nNot bad for the price, $12.9...</td>\n",
       "      <td>5</td>\n",
       "      <td>n9QO4ClYAS7h9fpQwa5bhA</td>\n",
       "    </tr>\n",
       "  </tbody>\n",
       "</table>\n",
       "</div>"
      ],
      "text/plain": [
       "              business_id  cool                date  funny  \\\n",
       "0  nDuEqIyRc8YKS1q1fX0CZg     1 2015-03-31 16:50:30      0   \n",
       "1  eMYeEapscbKNqUDCx705hg     0 2015-12-16 05:31:03      0   \n",
       "2  6Q7-wkCPc1KF75jZLOTcMw     1 2010-06-20 19:14:48      1   \n",
       "3  k3zrItO4l9hwfLRwHBDc9w     3 2010-07-13 00:33:45      4   \n",
       "4  6hpfRwGlOzbNv7k5eP9rsQ     1 2018-06-30 02:30:01      0   \n",
       "\n",
       "                review_id  stars  \\\n",
       "0  eZs2tpEJtXPwawvHnHZIgQ      1   \n",
       "1  DoQDWJsNbU0KL1O29l_Xug      4   \n",
       "2  DDOdGU7zh56yQHmUnL1idQ      3   \n",
       "3  LfTMUWnfGFMOfOIyJcwLVA      1   \n",
       "4  zJSUdI7bJ8PNJAg4lnl_Gg      4   \n",
       "\n",
       "                                                text  useful  \\\n",
       "0  BEWARE!!! FAKE, FAKE, FAKE....We also own a sm...      10   \n",
       "1  Came here for lunch Togo. Service was quick. S...       0   \n",
       "2  I've been to Vegas dozens of times and had nev...       2   \n",
       "3  We went here on a night where they closed off ...       5   \n",
       "4  3.5 to 4 stars\\n\\nNot bad for the price, $12.9...       5   \n",
       "\n",
       "                  user_id  \n",
       "0  n1LM36qNg4rqGXIcvVXv8w  \n",
       "1  5CgjjDAic2-FAvCtiHpytA  \n",
       "2  BdV-cf3LScmb8kZ7iiBcMA  \n",
       "3  cZZnBqh4gAEy4CdNvJailQ  \n",
       "4  n9QO4ClYAS7h9fpQwa5bhA  "
      ]
     },
     "execution_count": 1,
     "metadata": {},
     "output_type": "execute_result"
    }
   ],
   "source": [
    "import pandas as pd\n",
    "\n",
    "# Load reviews from URL\n",
    "data_url = 'https://raw.githubusercontent.com/LambdaSchool/data-science-practice-datasets/main/unit_4/unit1_nlp/review_sample.json'\n",
    "\n",
    "# Import data into a DataFrame named df\n",
    "# YOUR CODE HERE\n",
    "\n",
    "df = pd.read_json(data_url, lines=True)\n",
    "\n",
    "print(df.shape)\n",
    "\n",
    "df.head()"
   ]
  },
  {
   "cell_type": "code",
   "execution_count": 2,
   "metadata": {
    "deletable": false,
    "editable": false,
    "nbgrader": {
     "cell_type": "code",
     "checksum": "356579363f311da83f4ef7abaf3c9212",
     "grade": true,
     "grade_id": "cell-cb5006475e42b8f9",
     "locked": true,
     "points": 1,
     "schema_version": 3,
     "solution": false,
     "task": false
    }
   },
   "outputs": [],
   "source": [
    "# Visible Testing\n",
    "assert isinstance(df, pd.DataFrame), 'df is not a DataFrame. Did you import the data into df?'\n",
    "assert df.shape[0] == 10000, 'DataFrame df has the wrong number of rows.'"
   ]
  },
  {
   "cell_type": "markdown",
   "metadata": {},
   "source": [
    "## Part 1: Tokenize Function\n",
    "<a id=\"#p1\"></a>\n",
    "\n",
    "Complete the function `tokenize`. Your function should\n",
    "- accept one document at a time\n",
    "- return a list of tokens\n",
    "\n",
    "You are free to use any method you have learned this week."
   ]
  },
  {
   "cell_type": "code",
   "execution_count": 3,
   "metadata": {},
   "outputs": [],
   "source": [
    "# Optional: Consider using spaCy in your function. The spaCy library can be imported by running this cell.\n",
    "# A pre-trained model (en_core_web_sm) has been made available to you in the CodeGrade container.\n",
    "# If you DON'T need use the en_core_web_sm model, you can comment it out below.\n",
    "\n",
    "import spacy\n",
    "nlp = spacy.load('en_core_web_sm')"
   ]
  },
  {
   "cell_type": "code",
   "execution_count": 4,
   "metadata": {
    "deletable": false,
    "nbgrader": {
     "cell_type": "code",
     "checksum": "4837ed2a1cc13057ba40203859d46ff6",
     "grade": false,
     "grade_id": "cell-3d570d5a1cd6cb64",
     "locked": false,
     "schema_version": 3,
     "solution": true,
     "task": false
    }
   },
   "outputs": [],
   "source": [
    "import string\n",
    "ENG_ALPHA_SET = set(string.ascii_letters)\n",
    "\n",
    "STOP_WORDS = ['\\n', ' ', '\\n\\n', ' \\n\\n', '  ','s','$','n','+']\n",
    "REINSERT_WORDS = []#['not', 'nothing']\n",
    "ALLOWED_POS = ['NOUN', 'ADJ', 'VERB', 'ADV']\n",
    "def tokenize(doc):\n",
    "# YOUR CODE HERE\n",
    "    if (set(doc).intersection(ENG_ALPHA_SET)):\n",
    "        return [ token.lemma_ for token in nlp(doc.lower(), disable=['parser', 'ner']) if (token.is_stop == False and token.is_punct == False and token.pos_ in ALLOWED_POS and token.text not in STOP_WORDS or token.text in REINSERT_WORDS )]\n",
    "    \n",
    "    return ['Not', 'an', 'english', 'language', 'review']    "
   ]
  },
  {
   "cell_type": "code",
   "execution_count": 5,
   "metadata": {
    "deletable": false,
    "editable": false,
    "nbgrader": {
     "cell_type": "code",
     "checksum": "2181ca9d36070260b1f75dcfd9e58965",
     "grade": true,
     "grade_id": "cell-02da164f6fbe730a",
     "locked": true,
     "points": 1,
     "schema_version": 3,
     "solution": false,
     "task": false
    }
   },
   "outputs": [],
   "source": [
    "'''Testing'''\n",
    "assert isinstance(tokenize(df.sample(n=1)[\"text\"].iloc[0]), list), \"Make sure your tokenizer function accepts a single document and returns a list of tokens!\""
   ]
  },
  {
   "cell_type": "markdown",
   "metadata": {},
   "source": [
    "## Part 2: Vector Representation\n",
    "<a id=\"#p2\"></a>\n",
    "1. Create a vector representation of the reviews (i.e. create a doc-term matrix).\n",
    "2. Write a fake review and query for the 10 most similiar reviews, print the text of the reviews. Do you notice any patterns?\n",
    "    - Given the size of the dataset, use `NearestNeighbors` model for this. "
   ]
  },
  {
   "cell_type": "code",
   "execution_count": 6,
   "metadata": {
    "deletable": false,
    "nbgrader": {
     "cell_type": "code",
     "checksum": "9f570a35b1d17ce543ee41f516a0828c",
     "grade": false,
     "grade_id": "cell-0e96491cb529202c",
     "locked": false,
     "schema_version": 3,
     "solution": true,
     "task": false
    }
   },
   "outputs": [
    {
     "name": "stdout",
     "output_type": "stream",
     "text": [
      "CPU times: user 42.7 s, sys: 268 ms, total: 43 s\n",
      "Wall time: 42.2 s\n"
     ]
    }
   ],
   "source": [
    "%%time\n",
    "# Create a vector representation of the reviews \n",
    "# Name that doc-term matrix \"dtm\"\n",
    "\n",
    "\n",
    "# YOUR CODE HERE\n",
    "from sklearn.base import BaseEstimator, TransformerMixin\n",
    "from sklearn.pipeline import Pipeline\n",
    "from sklearn.feature_extraction.text import TfidfVectorizer\n",
    "#from pandarallel import pandarallel\n",
    "\n",
    "\n",
    "#vect = TfidfVectorizer( ngram_range = (1,2), stop_words='english', min_df=3)\n",
    "#dtm = vect.fit_transform(df.clean_text)\n",
    "\n",
    "from sklearn.base import BaseEstimator, TransformerMixin\n",
    "\n",
    "class TextCleaner(BaseEstimator, TransformerMixin):\n",
    "    \"\"\"\n",
    "    Transformer to clean text using tokenize()\n",
    "    \"\"\"\n",
    "    def __init__(self):\n",
    "        pass\n",
    "\n",
    "    def fit(self, X, y=None):\n",
    "        return self\n",
    "\n",
    "    def transform(self, X):\n",
    "        #pandarallel.initialize()\n",
    "        return pd.Series(X).apply(lambda x: ' '.join(tokenize(x)))\n",
    "    \n",
    "cleaner = TextCleaner()\n",
    "vect = TfidfVectorizer(tokenizer=lambda x: x.split(), ngram_range = (1,2), stop_words='english', min_df=3, max_df=0.5)\n",
    "\n",
    "vectp = Pipeline(\n",
    "    [\n",
    "        ('cleaner', cleaner),\n",
    "        ('vect',vect)\n",
    "    ]\n",
    ")\n",
    "\n",
    "dtm = vectp.fit_transform(df.text)\n"
   ]
  },
  {
   "cell_type": "code",
   "execution_count": 7,
   "metadata": {
    "deletable": false,
    "nbgrader": {
     "cell_type": "code",
     "checksum": "32b220e23c9aa1f602f08d1c2e879d0a",
     "grade": false,
     "grade_id": "cell-3d5bc610a8ec6b24",
     "locked": false,
     "schema_version": 3,
     "solution": true,
     "task": false
    }
   },
   "outputs": [
    {
     "data": {
      "text/plain": [
       "NearestNeighbors(algorithm='kd_tree', leaf_size=30, metric='minkowski',\n",
       "                 metric_params=None, n_jobs=None, n_neighbors=10, p=2,\n",
       "                 radius=1.0)"
      ]
     },
     "execution_count": 7,
     "metadata": {},
     "output_type": "execute_result"
    }
   ],
   "source": [
    "# Create and fit a NearestNeighbors model named \"nn\"\n",
    "from sklearn.neighbors import NearestNeighbors\n",
    "\n",
    "# YOUR CODE HERE\n",
    "\n",
    "# Fit on DTM\n",
    "nn = NearestNeighbors(n_neighbors=10, algorithm='kd_tree')\n",
    "nn.fit(dtm.todense())\n"
   ]
  },
  {
   "cell_type": "code",
   "execution_count": 8,
   "metadata": {
    "deletable": false,
    "editable": false,
    "nbgrader": {
     "cell_type": "code",
     "checksum": "d270ed23df3c7d3c6cf08ab174ccaf9e",
     "grade": true,
     "grade_id": "cell-c43704dcff67e99b",
     "locked": true,
     "points": 1,
     "schema_version": 3,
     "solution": false,
     "task": false
    }
   },
   "outputs": [],
   "source": [
    "'''Testing.'''\n",
    "assert nn.__module__ == 'sklearn.neighbors._unsupervised', ' nn is not a NearestNeighbors instance.'\n",
    "assert nn.n_neighbors == 10, 'nn has the wrong value for n_neighbors'"
   ]
  },
  {
   "cell_type": "code",
   "execution_count": 9,
   "metadata": {
    "deletable": false,
    "nbgrader": {
     "cell_type": "code",
     "checksum": "3da2ced9f187ed0aa1a890785e2ba00e",
     "grade": false,
     "grade_id": "cell-496203e8746296ca",
     "locked": false,
     "schema_version": 3,
     "solution": true,
     "task": false
    }
   },
   "outputs": [
    {
     "name": "stdout",
     "output_type": "stream",
     "text": [
      "review[0:6343] = 1:This mall is not that great when this mall was under construction the developer advertised this mall being better than West Edmonton mall which is completely unture. Comparing the largest indoor water park and an amazing amusement park at West Edmonton mall the best you can do at Cross Iron Mills mall is eat at the food court or buy some fishing gear because this mall actually has a store which has a lots of fishing equipment. I have been to quite a few malls in different cities of Canada and the United States but nothing special at this mall. \n",
      "\n",
      "\n",
      "review[1:8044] = 1:Je n'ai pas aimé l'auto service. L'ambiance est plutôt froide, malgré au chaleureux accueil. \n",
      "\n",
      "\n",
      "review[2:3469] = 3:Schön und nett anzusehen, etwas überlaufen von Touristen, aber ganz okay. Aber leider kein Vergleich zu den Fountains of Dubai an der Dubai Mall. \n",
      "\n",
      "\n",
      "review[3:5995] = 4:I like this mall. Parking is always available and free. I never have to fight for a parking spot in the big garage.  This mall has everything from a huge gym, 2 foodcourts, and plenty of stores galore.  I always like the fact that this mall is always clean no matter what the season. \n",
      "\n",
      "\n",
      "review[4:21] = 5:Yorkdale Shopping Centre is the best mall in Toronto.\n",
      "\n",
      "It has the most free parking (eventho it's hard to park on a nice weekend sometimes). The store selection is great from very thifty to most expensive stores. \n",
      "\n",
      "It is the first place to have a Bath & Body Works in Toronto.\n",
      "\n",
      "I have never had a bad experience at this shopping mall and whenever friends come visit from out of town, I take them here for shopping and not the silly Eaton's Centre. \n",
      "\n",
      "The movie theatre here is also good and not usually too busy.\n",
      "\n",
      "The restaurant selection is ok too with places like Rainforest Cafe you can't go wrong for some novelty action.\n",
      "\n",
      "My favorite stores here are RW&Co (much larger than anywhere else) and Home Outfitters (the second floor). The also have a Marciano Outlet with crazy deals. \n",
      "\n",
      "\n",
      "review[5:2945] = 4:While in Tempe for a wedding a while back, I decided to go on an adventure in my rental car!  Boy, am I glad I did since it is impossible to be outside in the middle of June!  SFM had Neiman Marcus, Nordstrom, Dillard's, Macy's,  and Robinson's May as their anchor stores.  They had smaller stores like Eddie Bauer, J. Crew, and Louis Vuitton.  This facility is the largest shopping mall in the Southwest.  It was very clean and bright. \n",
      "\n",
      "\n",
      "review[6:6274] = 5:This review will be for the secondary store inside the mall. Granted, I do love the store outside the mall just as much!!\n",
      "\n",
      "Overall: So this Starbucks has just opened inside the mall, near the food court a couple months ago. It is always packed, but the staff there are amazing! As far as the food/drinks go, they are always standard fare. \n",
      "\n",
      "Staff: This is where they truly shine! I have read reviews on here about a couple of the staff being nasty towards others, and I don't see it! If you have a negative attitude towards others, of course they won't be friendly back. Don't believe you're entitled to everything in life, and you'd be amazed about how less stressed your life can become! Colton is one of the baristas there, and he is awesome. Always recommending drinks for me. The manager is super nice as well. I have spoken with her a couple times, and she is the one wearing the black apron. If you're not aware, that black apron took a long time to achieve, so congrats to her!\n",
      "\n",
      "Wifi: It's present, but everyone in the mall is on it, so beware. \n",
      "\n",
      "Seating: Seating is somewhat limited, and usually dirty because others didn't learn how to clean up after themselves apparently. \n",
      "\n",
      "\n",
      "review[7:6578] = 4:This mall was the fancy malls in the area when I was growing up, and meant a special occasion when we were able to go. It wasn't for commoners like my family. Ours was on the other side of town (and is now torn down). All one level, several corridors off one main corridor, a food court that was better than the **other** mall.\n",
      "\n",
      "I came this last trip to visit my parents. The higher end stores are still here, and it is just as nice as ever. American Doll, Neiman Marcus, Belks and Nordstrom are the highlights now. Everything is so shiny and clean. The style here is Southern Genteel, for the upper crust of society. As mentioned in other reviews, some of the sales people at the kiosks can be a bit aggressive, but there are ones that are content to stare at their phones and look pretty.\n",
      "\n",
      "Parking has been greatly improved with the installation of several parking garages, which is nice. I am sure that things can still get hairy during the holidays and back to school shopping. I am glad I got to visit, and glad to have gotten that out of my system. \n",
      "\n",
      "\n",
      "review[8:8367] = 4:San Tan Village is a great mall. The parking can be a little hectic especially if you get caught up in the heart of the pedestrian area but if you just park on the outskirts by one of the anchor stores it's not bad at all. The mall is layed out nicely with wide open walkways and misters when it's hot. Recently I have taken my baby niece to the splash pad and play area which are both great for the little ones. The mall is kept very clean and there are plenty of spots to sit down and relax. Lots of great stores to choose from including higher end and also your average mall stores. It of course gets a quite hot in the summer and is much more enjoyable in the fall/winter months but would not be bad to stop by if you had a specific store in mind in the summer. There are also multiple great restaurants to try including, Kona Grill, Blue Wasabi, and Cantina Laredo to name just a few.\n",
      "\n",
      "Overall San Tan Village is nice outdoor venue for walking around and enjoying the day. I will be back! \n",
      "\n",
      "\n",
      "review[9:951] = 5:Good presentaiton & amazing food. Peking duck is tasty, highly recommended. Parking is a challenge in this mall, be aware! \n",
      "\n",
      "\n"
     ]
    }
   ],
   "source": [
    "# Create a fake review and find the 10 most similar reviews\n",
    "\n",
    "# YOUR CODE HERE\n",
    "fake_review = \"As far as shopping malls go the Great Mall in Milpitas is one of the best i've been to \"\n",
    "\n",
    "neighs = nn.kneighbors(vectp.transform([fake_review]).todense())[1][0]\n",
    "\n",
    "for idx,neigh in enumerate(neighs):\n",
    "    print(f'review[{idx}:{neigh}] = {df.iloc[neigh].stars}:{df.iloc[neigh].text} \\n\\n')"
   ]
  },
  {
   "cell_type": "markdown",
   "metadata": {},
   "source": [
    "## Part 3: Classification\n",
    "<a id=\"#p3\"></a>\n",
    "Your goal in this section will be to predict `stars` from the review dataset. \n",
    "\n",
    "1. Create a pipeline object with a sklearn `CountVectorizer` or `TfidfVector` and any sklearn classifier.\n",
    "    - Use that pipeline to train a model to predict the `stars` feature (i.e. the labels). \n",
    "    - Use that Pipeline to predict a star rating for your fake review from Part 2. \n",
    "\n",
    "\n",
    "\n",
    "2. Create a parameter dict including `one parameter for the vectorizer` and `one parameter for the model`. \n",
    "    - Include 2 possible values for each parameter\n",
    "    - **Use `n_jobs` = 1** \n",
    "    - Due to limited computational resources on CodeGrader `DO NOT INCLUDE ADDITIONAL PARAMETERS OR VALUES PLEASE.`\n",
    "    \n",
    "    \n",
    "3. Train the entire pipeline with a GridSearch\n",
    "    - Name your GridSearch object as `gs`"
   ]
  },
  {
   "cell_type": "code",
   "execution_count": 10,
   "metadata": {
    "deletable": false,
    "nbgrader": {
     "cell_type": "code",
     "checksum": "e1d18da8521d51d8bfc4b5b9d005fa34",
     "grade": false,
     "grade_id": "cell-e2beb0252d274bba",
     "locked": false,
     "schema_version": 3,
     "solution": true,
     "task": false
    }
   },
   "outputs": [
    {
     "name": "stdout",
     "output_type": "stream",
     "text": [
      "Fitting 5 folds for each of 4 candidates, totalling 20 fits\n"
     ]
    },
    {
     "name": "stderr",
     "output_type": "stream",
     "text": [
      "[Parallel(n_jobs=1)]: Using backend SequentialBackend with 1 concurrent workers.\n",
      "[Parallel(n_jobs=1)]: Done  20 out of  20 | elapsed:   35.3s finished\n"
     ]
    },
    {
     "name": "stdout",
     "output_type": "stream",
     "text": [
      "5\n",
      "CPU times: user 36.8 s, sys: 416 ms, total: 37.2 s\n",
      "Wall time: 37.2 s\n"
     ]
    }
   ],
   "source": [
    "%%time\n",
    "\n",
    "from sklearn.pipeline import Pipeline\n",
    "from sklearn.feature_extraction.text import TfidfVectorizer\n",
    "from sklearn.neighbors import KNeighborsClassifier\n",
    "from sklearn.model_selection import GridSearchCV\n",
    "\n",
    "# Name the gridsearch instance \"gs\"\n",
    "\n",
    "# YOUR CODE HERE\n",
    "from sklearn.svm import LinearSVC\n",
    "\n",
    "vect = TfidfVectorizer(ngram_range = (1,2), stop_words='english', min_df=3)\n",
    "\n",
    "#clf = KNeighborsClassifier()\n",
    "clf = LinearSVC()\n",
    "# Define the Pipeline\n",
    "pipe = Pipeline([\n",
    "    ('vect', vect),      # TF-IDF Vectorizer\n",
    "    ('clf', clf)         # \n",
    "])\n",
    "\n",
    "parameters = {\n",
    "    'vect__max_df': (0.5, 0.7),\n",
    "#   'clf__n_neighbors': (20, 25)\n",
    "    'clf__C': ( 0.5, 0.7)\n",
    "}\n",
    "\n",
    "gs = GridSearchCV(pipe, parameters, n_jobs=1, verbose=1)\n",
    "gs.fit(df.text, df.stars)\n",
    "\n",
    "print(gs.predict([fake_review])[0])"
   ]
  },
  {
   "cell_type": "code",
   "execution_count": 11,
   "metadata": {},
   "outputs": [
    {
     "data": {
      "text/plain": [
       "5    4462\n",
       "4    2185\n",
       "1    1496\n",
       "3    1098\n",
       "2     759\n",
       "Name: stars, dtype: int64"
      ]
     },
     "execution_count": 11,
     "metadata": {},
     "output_type": "execute_result"
    }
   ],
   "source": [
    "df.stars.value_counts()\n",
    "\n",
    "# baseline accuracy is 0.4462\n",
    "# The best 'max_df' value is 0.5 for both KNeighborsClassifier and LinearSVC\n",
    "# KNeighborsClassifier goes from 0.5136 to 0.52.. to 0.53.. as n_neighbors increases from 10 to 25 \n",
    "# LinearSVC gets 0.6159 with a best 'C' value of 0.5"
   ]
  },
  {
   "cell_type": "code",
   "execution_count": 12,
   "metadata": {
    "deletable": false,
    "editable": false,
    "nbgrader": {
     "cell_type": "code",
     "checksum": "b9e2378efb868f104a4eb39e4f25563c",
     "grade": true,
     "grade_id": "cell-d07134c6fe5d056e",
     "locked": true,
     "points": 1,
     "schema_version": 3,
     "solution": false,
     "task": false
    }
   },
   "outputs": [],
   "source": [
    "# Visible Testing\n",
    "prediction = gs.predict([\"I wish dogs knew how to speak English.\"])[0]\n",
    "assert prediction in df.stars.values, 'You gs object should be able to accept raw text within a list. Did you include a vectorizer in your pipeline?'"
   ]
  },
  {
   "cell_type": "code",
   "execution_count": 13,
   "metadata": {},
   "outputs": [
    {
     "name": "stdout",
     "output_type": "stream",
     "text": [
      "5\n",
      "{'clf__C': 0.5, 'vect__max_df': 0.5}\n",
      "0.6159000000000001\n",
      "Pipeline(memory=None,\n",
      "         steps=[('vect',\n",
      "                 TfidfVectorizer(analyzer='word', binary=False,\n",
      "                                 decode_error='strict',\n",
      "                                 dtype=<class 'numpy.float64'>,\n",
      "                                 encoding='utf-8', input='content',\n",
      "                                 lowercase=True, max_df=0.5, max_features=None,\n",
      "                                 min_df=3, ngram_range=(1, 2), norm='l2',\n",
      "                                 preprocessor=None, smooth_idf=True,\n",
      "                                 stop_words='english', strip_accents=None,\n",
      "                                 sublinear_tf=False,\n",
      "                                 token_pattern='(?u)\\\\b\\\\w\\\\w+\\\\b',\n",
      "                                 tokenizer=None, use_idf=True,\n",
      "                                 vocabulary=None)),\n",
      "                ('clf',\n",
      "                 LinearSVC(C=0.5, class_weight=None, dual=True,\n",
      "                           fit_intercept=True, intercept_scaling=1,\n",
      "                           loss='squared_hinge', max_iter=1000,\n",
      "                           multi_class='ovr', penalty='l2', random_state=None,\n",
      "                           tol=0.0001, verbose=0))],\n",
      "         verbose=False)\n"
     ]
    }
   ],
   "source": [
    "print(prediction)\n",
    "print(gs.best_params_)\n",
    "print(gs.best_score_)\n",
    "print(gs.best_estimator_)"
   ]
  },
  {
   "cell_type": "markdown",
   "metadata": {},
   "source": [
    "## Part 4: Topic Modeling\n",
    "\n",
    "Let's find out what those yelp reviews are saying! :D\n",
    "\n",
    "1. Estimate a LDA topic model of the review text\n",
    "    - Set num_topics to `5`\n",
    "    - Name your LDA model `lda`\n",
    "2. Create 1-2 visualizations of the results\n",
    "    - You can use the most important 3 words of a topic in relevant visualizations. Refer to yesterday's notebook to extract. \n",
    "3. In markdown, write 1-2 paragraphs of analysis on the results of your topic model\n",
    "\n",
    "When you instantiate your LDA model, it should look like this: \n",
    "\n",
    "```python\n",
    "lda = LdaModel(corpus=corpus,\n",
    "               id2word=id2word,\n",
    "               random_state=723812,\n",
    "               num_topics = num_topics,\n",
    "               passes=1\n",
    "              )\n",
    "\n",
    "```\n",
    "\n",
    "__*Note*__: You can pass the DataFrame column of text reviews to gensim. You do not have to use a generator."
   ]
  },
  {
   "cell_type": "markdown",
   "metadata": {},
   "source": [
    "## Note about  pyLDAvis\n",
    "\n",
    "**pyLDAvis** is the Topic modeling package that we used in class to visualize the topics that LDA generates for us.\n",
    "\n",
    "You are welcomed to use pyLDAvis if you'd like for your visualization. However, **you MUST comment out the code that imports the package and the cell that generates the visualization before you submit your notebook to CodeGrade.** \n",
    "\n",
    "Although you should leave the print out of the visualization for graders to see (i.e. comment out the cell after you run it to create the viz). "
   ]
  },
  {
   "cell_type": "code",
   "execution_count": 14,
   "metadata": {},
   "outputs": [],
   "source": [
    "from gensim import corpora\n",
    "# Due to limited computationalresources on CodeGrader, use the non-multicore version of LDA \n",
    "from gensim.models.ldamodel import LdaModel\n",
    "import gensim\n",
    "import re"
   ]
  },
  {
   "cell_type": "markdown",
   "metadata": {},
   "source": [
    "### 1. Estimate a LDA topic model of the review tex"
   ]
  },
  {
   "cell_type": "code",
   "execution_count": 15,
   "metadata": {
    "deletable": false,
    "nbgrader": {
     "cell_type": "code",
     "checksum": "9514841e71735eaa255bccc53b257896",
     "grade": false,
     "grade_id": "cell-66331a185ff52f15",
     "locked": false,
     "schema_version": 3,
     "solution": true,
     "task": false
    }
   },
   "outputs": [
    {
     "name": "stdout",
     "output_type": "stream",
     "text": [
      "17334\n",
      "CPU times: user 42.2 s, sys: 66.1 ms, total: 42.3 s\n",
      "Wall time: 42.3 s\n"
     ]
    }
   ],
   "source": [
    "%%time\n",
    "# Remember to read the LDA docs for more information on the various class attirbutes and methods available to you\n",
    "# in the LDA model: https://radimrehurek.com/gensim/models/ldamodel.html\n",
    "\n",
    "# don't change this value \n",
    "num_topics = 5\n",
    "\n",
    "# use tokenize function you created earlier to create tokens \n",
    "df['tokens'] = df.text.apply(tokenize)\n",
    "\n",
    "# create a id2word object (hint: use corpora.Dictionary)\n",
    "\n",
    "id2word = corpora.Dictionary(df.tokens)\n",
    "\n",
    "#id2word.filter_extremes(no_below=3, no_above=0.5)\n",
    "\n",
    "# create a corpus object (hint: id2word.doc2bow)\n",
    "corpus = [id2word.doc2bow(text) for text in df.tokens]\n",
    "# How many words are in our vocab?\n",
    "print(len(id2word.keys()))\n",
    "# instantiate an lda model\n",
    "lda = LdaModel(corpus=corpus,\n",
    "               id2word=id2word,\n",
    "               random_state=723812,\n",
    "               num_topics = num_topics,\n",
    "               passes=1\n",
    "              )\n",
    "\n",
    "# YOUR CODE HERE\n"
   ]
  },
  {
   "cell_type": "markdown",
   "metadata": {},
   "source": [
    "#### Testing"
   ]
  },
  {
   "cell_type": "code",
   "execution_count": 16,
   "metadata": {
    "deletable": false,
    "editable": false,
    "nbgrader": {
     "cell_type": "code",
     "checksum": "6479db0fa59c99d3ae3201c1f10ebca1",
     "grade": true,
     "grade_id": "cell-5a3c181311134fa9",
     "locked": true,
     "points": 1,
     "schema_version": 3,
     "solution": false,
     "task": false
    }
   },
   "outputs": [],
   "source": [
    "# Visible Testing\n",
    "assert lda.get_topics().shape[0] == 5, 'Did your model complete its training? Did you set num_topics to 5?'"
   ]
  },
  {
   "cell_type": "code",
   "execution_count": 17,
   "metadata": {},
   "outputs": [
    {
     "data": {
      "image/png": "[encoded data removed]",
      "text/plain": [
       "<Figure size 1080x720 with 1 Axes>"
      ]
     },
     "metadata": {
      "needs_background": "light"
     },
     "output_type": "display_data"
    }
   ],
   "source": [
    "#Get the list of the 3 most important words and their probabilities per topic for all 5 topics\n",
    "topic_words = lda.show_topics(num_words=3, formatted=False)\n",
    "\n",
    "import numpy as np\n",
    "import matplotlib.pyplot as plt\n",
    "\n",
    "labels = ['Topic 1', 'Topic 2', 'Topic 3', 'Topic 4', 'Topic 5']\n",
    "x_ticks = np.arange(len(labels))  # the label locations\n",
    "\n",
    "# Get the list of probabilities per topic for the 3 most important words\n",
    "x_multi = [np.array([topic[1][wrd][1] for topic in topic_words])  for wrd in range(0,3)]\n",
    "\n",
    "# Get the list of words per topic for the 3 most important words\n",
    "w_multi = [np.array([topic[1][wrd][0] for topic in topic_words])  for wrd in range(0,3)]\n",
    "\n",
    "fig, ax = plt.subplots(figsize=(15,10))\n",
    "\n",
    "color_list = ['blue', 'green', 'red']\n",
    "gap = .8 / len(x_multi)\n",
    "\n",
    "x_ticks = list(map(lambda x:x+gap, x_ticks))\n",
    "\n",
    "rects = []\n",
    "for i, row in enumerate(x_multi):\n",
    "  X = np.arange(len(row))\n",
    "  rects.append( \n",
    "    plt.bar(X + i * gap, row,\n",
    "        width = gap,\n",
    "        color = color_list[i % len(color_list)])\n",
    "  )\n",
    "\n",
    "# Add some text for labels, title and custom x-axis tick labels, etc.\n",
    "ax.set_ylabel('Scores')\n",
    "ax.set_title('Top 3 Most Relevant Terms per Topic')\n",
    "ax.set_xticks(x_ticks)\n",
    "ax.set_xticklabels(labels)\n",
    "ax.legend(['Term 1','Term 2','Term 3'])\n",
    "\n",
    "def autolabel(rects, words):\n",
    "    for idx,rect in enumerate(rects):\n",
    "        word=words[idx]\n",
    "        ax.text(rect.get_x() + rect.get_width() / 2,\n",
    "                rect.get_height()/2,\n",
    "                f'{word}',\n",
    "                rotation=90, color='yellow',\n",
    "                fontsize='large', fontweight='bold'\n",
    "                )\n",
    "\n",
    "for word in range(0,3):\n",
    "    autolabel(rects[word],w_multi[word])\n",
    "\n",
    "plt.show()"
   ]
  },
  {
   "cell_type": "markdown",
   "metadata": {},
   "source": [
    "#### 2. Create 1-2 visualizations of the results"
   ]
  },
  {
   "cell_type": "code",
   "execution_count": 18,
   "metadata": {
    "deletable": false,
    "nbgrader": {
     "cell_type": "code",
     "checksum": "189591ed7b9e6e6146d59761fb418268",
     "grade": false,
     "grade_id": "cell-9b043e992fbd218c",
     "locked": false,
     "schema_version": 3,
     "solution": true,
     "task": false
    }
   },
   "outputs": [
    {
     "data": {
      "text/html": [
       "\n",
       "<link rel=\"stylesheet\" type=\"text/css\" href=\"https://cdn.rawgit.com/bmabey/pyLDAvis/files/ldavis.v1.0.0.css\">\n",
       "\n",
       "\n",
       "<div id=\"ldavis_el4696140508535103920450743084\"></div>\n",
       "<script type=\"text/javascript\">\n",
       "\n",
       "var ldavis_el4696140508535103920450743084_data = {\"mdsDat\": {\"x\": [-0.10824180392340552, 0.06476131663349909, -0.070653977110144, 0.0008960775468744171, 0.11323838685317605], \"y\": [-0.026728180064897824, 0.016043641900839515, 0.059080188489867076, -0.05093701469425953, 0.0025413643684508067], \"topics\": [1, 2, 3, 4, 5], \"cluster\": [1, 1, 1, 1, 1], \"Freq\": [34.07564001123104, 21.947125795851377, 12.046025754083683, 16.088597135391126, 15.84261130344278]}, \"tinfo\": {\"Term\": [\"food\", \"great\", \"chicken\", \"good\", \"taste\", \"hair\", \"cream\", \"car\", \"flavor\", \"work\", \"store\", \"dish\", \"room\", \"time\", \"restaurant\", \"tell\", \"ice\", \"appointment\", \"nail\", \"go\", \"rice\", \"coffee\", \"place\", \"fry\", \"need\", \"minute\", \"eat\", \"customer\", \"delicious\", \"love\", \"margarita\", \"chorizo\", \"enchilada\", \"smokey\", \"surgery\", \"blt\", \"cajun\", \"cheesesteak\", \"fav\", \"brisket\", \"brussel\", \"hotdog\", \"tartar\", \"pico\", \"adore\", \"campus\", \"tongue\", \"desperate\", \"braise\", \"specially\", \"teriyaki\", \"avocado\", \"queso\", \"noir\", \"accent\", \"stout\", \"rum\", \"chive\", \"cabbage\", \"pepperoni\", \"slider\", \"rib\", \"pudding\", \"burger\", \"raman\", \"bbq\", \"tender\", \"salsa\", \"fry\", \"steak\", \"bone\", \"beef\", \"korean\", \"potato\", \"soup\", \"sauce\", \"cook\", \"delicious\", \"bread\", \"crust\", \"fresh\", \"meat\", \"onion\", \"entree\", \"good\", \"tasty\", \"appetizer\", \"chicken\", \"cheese\", \"food\", \"menu\", \"pizza\", \"eat\", \"meal\", \"dessert\", \"sandwich\", \"order\", \"lunch\", \"noodle\", \"restaurant\", \"place\", \"taste\", \"salad\", \"great\", \"try\", \"come\", \"service\", \"get\", \"love\", \"nice\", \"definitely\", \"time\", \"price\", \"little\", \"like\", \"go\", \"amazing\", \"closet\", \"enchiladas\", \"cirque\", \"installer\", \"lash\", \"roach\", \"frustration\", \"arrogant\", \"approve\", \"sever\", \"a.m.\", \"balloon\", \"contractor\", \"vet\", \"customize\", \"donation\", \"project\", \"pickup\", \"death\", \"tenant\", \"bridal\", \"fucking\", \"capable\", \"personalized\", \"solve\", \"escrow\", \"spider\", \"clutter\", \"calzone\", \"teller\", \"museum\", \"financial\", \"extension\", \"yoga\", \"sucker\", \"overnight\", \"diamond\", \"bouncer\", \"male\", \"airline\", \"trail\", \"store\", \"dog\", \"minute\", \"clothe\", \"refund\", \"horrible\", \"window\", \"manager\", \"rude\", \"situation\", \"call\", \"tell\", \"ask\", \"wait\", \"say\", \"donut\", \"customer\", \"check\", \"phone\", \"drive\", \"hour\", \"walk\", \"gift\", \"employee\", \"later\", \"finally\", \"leave\", \"know\", \"shop\", \"pay\", \"time\", \"order\", \"take\", \"day\", \"come\", \"go\", \"look\", \"service\", \"location\", \"want\", \"year\", \"place\", \"find\", \"get\", \"bad\", \"experience\", \"work\", \"good\", \"people\", \"freezer\", \"promotion\", \"ipad\", \"stunning\", \"concoction\", \"dedicated\", \"ranchero\", \"brewery\", \"watermelon\", \"spell\", \"lil\", \"overrate\", \"aisle\", \"rail\", \"weigh\", \"uni\", \"friday\", \"rustic\", \"verify\", \"audience\", \"twist\", \"tin\", \"sponge\", \"kudo\", \"mop\", \"testing\", \"cavity\", \"earl\", \"fusion\", \"bold\", \"quesadilla\", \"quinoa\", \"tart\", \"frosting\", \"cupcake\", \"square\", \"bagel\", \"cramp\", \"naan\", \"cookie\", \"cream\", \"serving\", \"ice\", \"cake\", \"canal\", \"rice\", \"milk\", \"theater\", \"juice\", \"fruit\", \"flavor\", \"buffet\", \"dish\", \"taste\", \"small\", \"fluffy\", \"grocery\", \"flavour\", \"chicken\", \"bit\", \"sweet\", \"price\", \"little\", \"good\", \"egg\", \"spicy\", \"breakfast\", \"think\", \"like\", \"food\", \"try\", \"go\", \"salad\", \"love\", \"place\", \"order\", \"find\", \"lot\", \"nice\", \"time\", \"clean\", \"great\", \"pretty\", \"come\", \"get\", \"service\", \"look\", \"toy\", \"acrylic\", \"passenger\", \"nacho\", \"curly\", \"bum\", \"unorganized\", \"roti\", \"heartbeat\", \"humor\", \"consultation\", \"patronize\", \"sampling\", \"photographer\", \"chase\", \"lense\", \"interactive\", \"marry\", \"gumbo\", \"reccomend\", \"iffy\", \"frog\", \"stretch\", \"mug\", \"enterprise\", \"adorable\", \"mimosa\", \"awsome\", \"bitterness\", \"speedy\", \"fianc\\u00e9\", \"renovate\", \"texte\", \"crown\", \"wynn\", \"merchandise\", \"tamale\", \"tour\", \"entertain\", \"pool\", \"fly\", \"airport\", \"room\", \"coffee\", \"cat\", \"chill\", \"dance\", \"lobby\", \"drink\", \"great\", \"bar\", \"awesome\", \"bartender\", \"place\", \"love\", \"stay\", \"guest\", \"time\", \"friendly\", \"night\", \"visit\", \"friend\", \"beer\", \"restaurant\", \"food\", \"amazing\", \"atmosphere\", \"area\", \"come\", \"go\", \"staff\", \"definitely\", \"take\", \"experience\", \"service\", \"nice\", \"try\", \"recommend\", \"good\", \"little\", \"look\", \"get\", \"want\", \"grub\", \"knot\", \"appliance\", \"inspection\", \"pedicure\", \"stylist\", \"physician\", \"gaming\", \"talented\", \"massage\", \"legal\", \"dryer\", \"uptown\", \"procedure\", \"dismissive\", \"pregnancy\", \"painting\", \"graduation\", \"instruct\", \"cr\\u00eape\", \"therapist\", \"chunky\", \"lebanese\", \"tactic\", \"thrive\", \"resource\", \"invoice\", \"volcano\", \"trustworthy\", \"voucher\", \"hair\", \"salon\", \"waxing\", \"facial\", \"session\", \"spa\", \"install\", \"technician\", \"insurance\", \"repair\", \"manicure\", \"appointment\", \"doctor\", \"nail\", \"plumbing\", \"polish\", \"client\", \"professional\", \"office\", \"job\", \"gel\", \"car\", \"color\", \"result\", \"pain\", \"treatment\", \"schedule\", \"work\", \"fix\", \"need\", \"cut\", \"guy\", \"company\", \"patient\", \"time\", \"go\", \"feel\", \"get\", \"care\", \"service\", \"tell\", \"recommend\", \"great\", \"day\", \"year\", \"staff\", \"people\", \"know\", \"new\", \"good\", \"say\", \"customer\", \"look\", \"want\", \"come\", \"place\", \"price\", \"take\"], \"Freq\": [4972.0, 4237.0, 1269.0, 6470.0, 1207.0, 413.0, 519.0, 694.0, 745.0, 1503.0, 820.0, 871.0, 1121.0, 4308.0, 1681.0, 1538.0, 479.0, 396.0, 401.0, 3071.0, 444.0, 617.0, 5304.0, 917.0, 1393.0, 1068.0, 1549.0, 1142.0, 1197.0, 2241.0, 63.910094433167046, 27.937599868982698, 23.861942473080987, 22.51635105292387, 33.512758752546176, 17.793205299777252, 27.368801511252617, 17.883706911590384, 25.017710899769316, 82.15537945881671, 18.464777664296346, 16.95675169709951, 14.639060258193789, 14.166498417808485, 16.45552939049917, 19.04959957739155, 27.268400643418047, 14.907266062725682, 23.066977699425788, 12.075172418331807, 26.99943119435478, 22.58831968258323, 25.89095897273566, 18.396893343065415, 11.895543971191916, 14.098402093279892, 15.519678690702317, 13.839687762916281, 41.61097753478007, 28.827550773186264, 72.70347635503231, 161.44383399675328, 50.94303387641681, 597.7867887200088, 173.76020451380413, 160.23519021698888, 164.17910919638328, 122.7913235414642, 777.2510933883339, 390.18457567919364, 104.18895141038735, 394.1562194980047, 73.71339949272296, 316.48644907709814, 391.66569128903063, 736.1430136351954, 407.33818649961546, 905.3664341109925, 389.66386096735266, 132.88367562769156, 713.493515858144, 515.6869627783752, 192.5888836752382, 183.10704051390644, 4107.093054508715, 409.39072454881585, 225.1848320037464, 889.3683364479822, 496.45741566724786, 3061.8479175966645, 892.8995325994059, 603.3585468976138, 1048.597869552821, 651.109442794537, 383.6779262248786, 401.80560999269665, 1964.1531994558375, 522.2720794124127, 233.84905199816063, 1007.2341397822898, 2480.5680344540547, 739.974856422291, 489.6704718938363, 1910.4189301624037, 1270.280978190117, 1614.5517660583798, 1458.2592660669784, 1134.8013524687403, 910.1005629329374, 791.4645559448219, 685.5535233805163, 1176.9566073675874, 715.6040649321413, 606.3710358786274, 586.6572559292484, 718.391501596192, 571.7341274769299, 27.127882799462913, 30.214850743057937, 23.83590208107381, 17.814397943156717, 41.894414868562606, 18.810015439646495, 17.05348064291363, 12.477919873883659, 13.553941558188049, 13.94400643758659, 12.543713731696295, 36.89550285891464, 27.402828979126262, 78.48402317379102, 13.075835716347694, 14.003910741239553, 42.461645674059874, 24.096341036249218, 21.025138483076887, 26.3090522466419, 11.279921579843148, 9.399384289355197, 11.845831520106593, 8.841614808088181, 21.339291231110025, 9.731276759072976, 8.154209649373726, 9.797988813287605, 7.857990294193482, 8.080145754013245, 34.66188909552847, 15.381089698855696, 24.5649862505182, 32.16980374164006, 14.873853762665606, 12.001045724940665, 34.33255336389515, 31.32442769890892, 20.002756745789096, 22.4602000402803, 28.019441752574135, 610.9025114171922, 277.3963010730265, 662.6510908843771, 53.5811657270589, 66.58709033162144, 175.42452412615268, 157.1682382429362, 298.24305447696713, 210.15844217645724, 84.85824570194272, 423.23558409760824, 700.4568175810783, 676.7469633842272, 744.0991858023073, 678.194096646479, 99.54714767888238, 529.9287687430644, 439.2011775621972, 209.25129199764297, 228.17433058711785, 442.1318709861449, 383.82618210199854, 78.95922255478986, 167.11884551007623, 192.74029823017653, 203.60797609856206, 403.10599920965245, 567.1997735241795, 245.56978017376932, 328.7568248250187, 1022.954903626933, 888.6202564700752, 478.2933043846799, 491.72751814799193, 911.4068202952127, 743.3202654433234, 546.2459687303178, 801.9090764957324, 350.9472269947485, 494.02557843091955, 352.88841958716057, 841.3803195066776, 447.13207599467154, 599.4167132055455, 378.1025665139348, 398.4075533877087, 373.1823713842975, 489.12350757866784, 366.6324849265893, 21.992646453026484, 21.344036136128327, 25.056206408471922, 16.437599709818073, 16.21728143614102, 13.442696977272728, 14.107065617313298, 32.7913314305853, 11.82696106489296, 16.841377106496758, 12.7687185590798, 11.818522875164076, 13.497711160045643, 12.006559758154566, 13.833871386210612, 13.849629709353023, 8.986935133333928, 21.5905316106772, 11.142774838425504, 19.05033060452291, 25.677617825977528, 8.227497292990112, 7.3078447357357845, 14.249288192683895, 10.36027536590259, 6.558202506433954, 6.397201249906245, 7.59491601875258, 21.278977800382858, 14.169250043596998, 18.433094691450844, 10.611708795053548, 29.57584123433348, 20.13930674925696, 48.925128779365146, 33.403989583668505, 50.34460757118004, 21.356056388634993, 24.591362641824894, 94.46924302518663, 278.9769468427598, 25.26844592228892, 249.88658370852127, 105.96188307420081, 24.7492991851626, 188.4687372131334, 69.60302206844085, 42.56597624005125, 57.48565925866148, 74.14100923045554, 232.1609586515935, 107.5644936784134, 252.64370140525364, 315.54227660108114, 255.3825631236275, 34.634576508251754, 47.73297790841372, 71.83476036117266, 265.1929734992744, 206.11381327171392, 166.71714278400415, 323.0481266630842, 276.8802257036453, 667.724889091407, 127.17610078915489, 110.55918381201505, 134.8080052003868, 258.3764212153201, 233.18613217088975, 470.31129757039025, 321.87783524611234, 341.4816725537321, 157.679601454629, 280.13150287892125, 427.4908969858328, 349.22996494495476, 230.73143723629482, 187.7489964899399, 222.38228822759675, 296.1915268647533, 162.80798964865843, 261.42524301665503, 171.91608323756122, 244.7174499327667, 199.0787520993371, 193.02389747543376, 178.22148036338749, 30.185637496069553, 29.247621432015812, 18.633368897116288, 17.959252902678873, 18.480407892426957, 16.82547763939199, 16.486846704852926, 14.903392153597862, 15.950397453134077, 12.86283588872071, 19.424186626845266, 15.356532925058694, 14.413596835633431, 16.456114165221674, 14.99035822381964, 10.774687034636278, 15.898642708355078, 9.721778113209384, 7.654281721863625, 7.822830637536451, 8.495400250738143, 7.323771331587857, 24.21235695263183, 6.87393474988764, 7.390683472362993, 15.28338521133501, 9.22893088828832, 7.92818322150651, 12.872723944693663, 7.0485527522861435, 25.218201342380414, 10.68122289478327, 18.240373571789462, 15.492640008499219, 18.326762557864487, 14.300490385645537, 30.327596110619368, 73.64561171162183, 19.64385651612353, 163.09362994506557, 62.75457327773351, 67.95878552475371, 513.0358713422571, 301.9802366249583, 45.003387298125624, 43.53243759940281, 61.42725522689217, 54.49580663671851, 477.44418105655416, 1105.0946101761526, 376.48824288548815, 240.92691558295633, 114.2096714544278, 1174.3073821882074, 601.9510356092857, 236.1738993848918, 87.28132771629225, 943.4703243080777, 416.77021164070675, 331.69598871682035, 297.80176336062556, 328.47516871973687, 218.43159130865305, 448.5337401883015, 963.1927521075165, 382.4366751048158, 175.4434022787472, 260.2422426905786, 747.5664311836669, 593.4487088167048, 387.4569353963842, 344.5362887035694, 346.45035323041765, 332.27159389393734, 564.4609039455995, 357.0998497751718, 427.0406343768071, 299.99413565438937, 546.8944053207101, 299.18035916811044, 335.17037438104785, 374.3373797947758, 306.303338411734, 24.376042842341935, 16.373149908895716, 15.887297948664338, 20.239226584279745, 145.2967310138169, 72.19649252798071, 21.528247361401572, 20.834804182218345, 27.13327866555737, 170.2467012187333, 19.795874500734556, 26.810450181573415, 11.108011006460005, 57.79822305896128, 11.211452584399733, 13.84692569767725, 36.5702547865393, 9.963489407762655, 13.858904435166187, 9.247241367637013, 37.24696997563722, 11.125912731780373, 8.919524834602155, 9.318716512863821, 8.821890580781748, 11.322280547571934, 8.332991636064834, 8.348551925543537, 12.0855242625849, 16.778116726591595, 371.3069555912748, 208.86191859697334, 15.453575120595143, 56.87580596065703, 59.03623111018564, 91.08096111580387, 37.946930553554985, 64.06972677617912, 89.85599590821985, 168.38489764690118, 60.976686006252415, 303.6267468165033, 120.14538928034592, 298.7955681041895, 30.958726199077162, 75.3438007000865, 80.08596461956064, 245.161383512264, 215.21279377075516, 322.51696841678967, 73.8973163510698, 399.75100785800197, 129.77236768986774, 109.5582692984867, 79.17494492287055, 76.77173862430925, 111.38067881574563, 592.1913828489328, 199.55174208914886, 496.17568075030624, 227.19212667636634, 277.57427413084196, 197.28032402993688, 112.62578359003648, 868.4517815795776, 675.218794348472, 365.1013299013891, 635.3215000389224, 245.91809373619986, 705.3669613223407, 414.26285708077035, 394.7649242562594, 742.5045476225499, 407.30208212417654, 312.91630903351563, 401.55898254398954, 368.66913098444155, 382.40491089518116, 307.18543963367, 659.1820025605629, 345.3678373665667, 301.7917048103392, 345.1206268002459, 333.91784597694016, 406.7086930848253, 380.7905592748082, 309.10052495169975, 281.5456711651589], \"Total\": [4972.0, 4237.0, 1269.0, 6470.0, 1207.0, 413.0, 519.0, 694.0, 745.0, 1503.0, 820.0, 871.0, 1121.0, 4308.0, 1681.0, 1538.0, 479.0, 396.0, 401.0, 3071.0, 444.0, 617.0, 5304.0, 917.0, 1393.0, 1068.0, 1549.0, 1142.0, 1197.0, 2241.0, 65.24515367877623, 28.82678825702305, 24.64558579687605, 23.340732740935557, 34.759229197853095, 18.58475087203772, 28.60418792047092, 18.695982286605535, 26.260632007718662, 86.24872592259555, 19.39785986906733, 17.824458029290234, 15.426402539440392, 14.95158905994037, 17.40581262868282, 20.20514400555884, 28.937772894551735, 15.838302444123054, 24.514687894675088, 12.883808155502226, 28.829614442509047, 24.119690594693715, 27.653473152587836, 19.704872722310018, 12.746296921293775, 15.123120482782854, 16.653605500779165, 14.899512128893608, 44.84772365167952, 31.100975736768273, 78.56562087192736, 176.13898348169, 55.276410351330725, 671.8413365044021, 191.60732710726504, 177.41022519460532, 184.08566276017035, 136.7145953725845, 917.7600877657429, 452.31323525086066, 116.02998772391547, 457.66272962070167, 81.30494676950116, 369.8864143046183, 465.30825164607097, 908.4882185724219, 502.0131952859496, 1197.7810696446877, 490.93685516331044, 156.94349967633036, 948.0377216576375, 671.4697827059031, 233.00005272078852, 220.85325512978585, 6470.017859060063, 532.7702060826367, 280.1847278842417, 1269.8338181766223, 669.3473075577217, 4972.8435950636285, 1283.7440691109375, 833.6480963272988, 1549.2001447789373, 911.8718780583475, 506.7310428244188, 542.8200211260271, 3546.441032475622, 759.5218374215772, 292.8773236085984, 1681.8518522734078, 5304.537192409581, 1207.0243223252899, 724.3059248635194, 4237.150612711127, 2556.4138683218193, 3924.9511605548514, 3723.0201053060846, 2942.955697607321, 2241.436671859606, 1761.3168351317809, 1414.1683064883193, 4308.02514374693, 1781.5872540314122, 1413.2384265535395, 1291.1430887271938, 3071.8609427584242, 1369.7729058154046, 27.972512702443442, 31.224965371766537, 24.795643447926107, 18.608607931790942, 43.85928955347815, 19.692868736424526, 18.095071832781255, 13.278869260100647, 14.429676876515098, 14.852431799760176, 13.367343285071476, 39.340627763041326, 29.222879637112246, 84.09203656008584, 14.03911635467701, 15.09768916171375, 45.786764358743454, 26.02411502800779, 22.73716129139074, 28.552988169441317, 12.283312162817117, 10.238855836073844, 12.966788830216142, 9.686008058498388, 23.382172648188526, 10.678562909373914, 8.954192893877154, 10.761026889167894, 8.648839232775195, 8.896561344627617, 38.30858707995583, 16.935563047908495, 27.248936932380662, 35.98860227394525, 16.422766314656876, 13.220406305584365, 38.717513455008856, 35.47728656625299, 22.32619292991921, 25.303292292249505, 31.9783539975178, 820.3698754700577, 396.3105612045706, 1068.5796084311762, 66.81279405217253, 86.3201546034127, 260.161808613112, 232.0546425676824, 481.2249612293772, 339.9532589658017, 119.47132391802458, 822.2372127029627, 1538.0078375484795, 1483.9839617992084, 1697.2461746395065, 1535.8400390647466, 148.55517337118624, 1142.4660289288208, 983.4515682693611, 388.2077401007749, 440.77706067955546, 1030.4291216493514, 879.1154667457802, 113.52057720488942, 302.01559909201103, 366.3555276450589, 405.21702603114994, 1029.523768423956, 1680.0846016009032, 534.8795234068643, 840.1160568482235, 4308.02514374693, 3546.441032475622, 1451.661313766138, 1550.9056943682644, 3924.9511605548514, 3071.8609427584242, 1968.1496855312034, 3723.0201053060846, 963.8611622939483, 1789.6082936786029, 982.8737559913968, 5304.537192409581, 1584.1525839860496, 2942.955697607321, 1231.4532002015753, 1442.7065416542484, 1503.360410654992, 6470.017859060063, 1474.611925013725, 22.820739360754338, 22.22077229328564, 26.20710618194868, 17.28521314961967, 17.08003036566645, 14.26731605067418, 14.994766129720206, 34.93958633468573, 12.665737684198461, 18.05746641072867, 13.699304448916887, 12.713939304903546, 14.56796663513097, 13.095976534410825, 15.175926596353785, 15.196501670696316, 9.866429829251407, 23.70706541066183, 12.254734469696057, 20.969910015183867, 28.276603878688185, 9.075212666293508, 8.142154345866514, 15.888390750576713, 11.658253450623265, 7.413528570774143, 7.236099532455872, 8.596512657773625, 24.101710367220242, 16.071480832114784, 21.047663473060744, 12.088401333191579, 34.431534739863984, 23.388526820729354, 59.329933572550445, 40.10664973261092, 62.61152354236933, 25.347392532695466, 29.69495237181328, 142.80813173330168, 519.1690432359153, 31.305851827401963, 479.07824978733873, 192.2611234400056, 31.72534656354694, 444.21118914518223, 122.92039016506372, 65.11451351263723, 97.85762507307348, 139.1782816893336, 745.6435007919449, 255.7538788752545, 871.0354705048952, 1207.0243223252899, 889.0036911898441, 51.1417749147175, 82.44249259389358, 156.84398352226273, 1269.8338181766223, 855.1862192716125, 618.6852709010367, 1781.5872540314122, 1413.2384265535395, 6470.017859060063, 422.9145969476023, 336.3233169763834, 474.13212449543795, 1458.301358773402, 1291.1430887271938, 4972.8435950636285, 2556.4138683218193, 3071.8609427584242, 724.3059248635194, 2241.436671859606, 5304.537192409581, 3546.441032475622, 1584.1525839860496, 1084.9099731214128, 1761.3168351317809, 4308.02514374693, 872.138331834901, 4237.150612711127, 1084.5938779305154, 3924.9511605548514, 2942.955697607321, 3723.0201053060846, 1968.1496855312034, 31.016790157225078, 30.096025385794032, 19.477338535528975, 18.811756553951085, 19.38318430205928, 17.70881610539012, 17.353887506048515, 15.718736822717803, 16.892080927438553, 13.691847062782385, 20.725997551536583, 16.435113052669685, 15.4533111474274, 17.669113643465945, 16.176540230782305, 11.709282219858956, 17.3347236852536, 10.606096007073702, 8.475962055840963, 8.668660484138933, 9.421328677218815, 8.150648421324021, 27.028655188892248, 7.688082026835609, 8.270004927560445, 17.13231007678944, 10.35909032259605, 8.90329853804977, 14.471066909370895, 7.929112878225982, 28.449009319430086, 12.04544048985708, 20.893847359417816, 17.724148166840468, 21.232115949760864, 16.520478092516406, 37.45991239040918, 101.23066022303024, 23.762764526525224, 256.7721003652708, 91.0889514678719, 102.81651144407824, 1121.526938137539, 617.1117390716541, 65.31797294571145, 63.16671203262102, 99.87346149947163, 86.25910257224344, 1415.0344835712383, 4237.150612711127, 1060.8808984784662, 632.7964875572893, 234.18047302182248, 5304.537192409581, 2241.436671859606, 638.2465337949586, 166.4747482215199, 4308.02514374693, 1422.4524542994104, 1047.686452496352, 903.4683331773136, 1045.4773263299523, 610.3940744167274, 1681.8518522734078, 4972.8435950636285, 1369.7729058154046, 455.3964368165788, 808.6525298198784, 3924.9511605548514, 3071.8609427584242, 1619.2042352087435, 1414.1683064883193, 1451.661313766138, 1442.7065416542484, 3723.0201053060846, 1761.3168351317809, 2556.4138683218193, 1419.192776596828, 6470.017859060063, 1413.2384265535395, 1968.1496855312034, 2942.955697607321, 1789.6082936786029, 25.22049788671458, 17.190021722087927, 16.681029512752623, 21.29041791099713, 153.31711980514493, 76.35927503571602, 22.885410724506595, 22.18393828671534, 28.892885380914958, 181.8359958232656, 21.21771906823229, 28.765996909474794, 11.92238430247734, 62.34702765448943, 12.140549414147639, 15.017940312909504, 39.69198452159433, 10.827878175527902, 15.075322470236122, 10.061381535836407, 40.66400125826505, 12.14962829289355, 9.759008020407666, 10.207115909494204, 9.663705815204924, 12.429767392173433, 9.153086293940296, 9.195712847772308, 13.351011274976777, 18.535143565377577, 413.1652352658937, 233.5907242921774, 17.10492951479791, 64.69893859202901, 67.34145551388283, 105.5523594080072, 42.94259027315431, 74.48673484530451, 106.81826908810307, 205.84577985561663, 71.50911971226915, 396.1449818071931, 150.30705530139173, 401.4434513043543, 35.72267106650858, 93.38900701772292, 103.69523832722436, 373.5871246272356, 326.1090409506397, 521.4364807903561, 95.96201658654658, 694.1018913984803, 186.34093564924308, 155.00732597272747, 105.28909802962727, 101.60610068438353, 164.63047421454675, 1503.360410654992, 376.4742336099951, 1393.827507979216, 468.440882733887, 671.2990980385937, 404.9499029984723, 178.61313433007425, 4308.02514374693, 3071.8609427584242, 1183.272020939587, 2942.955697607321, 643.8932059388032, 3723.0201053060846, 1538.0078375484795, 1419.192776596828, 4237.150612711127, 1550.9056943682644, 982.8737559913968, 1619.2042352087435, 1474.611925013725, 1680.0846016009032, 1057.680864335303, 6470.017859060063, 1535.8400390647466, 1142.4660289288208, 1968.1496855312034, 1789.6082936786029, 3924.9511605548514, 5304.537192409581, 1781.5872540314122, 1451.661313766138], \"Category\": [\"Default\", \"Default\", \"Default\", \"Default\", \"Default\", \"Default\", \"Default\", \"Default\", \"Default\", \"Default\", \"Default\", \"Default\", \"Default\", \"Default\", \"Default\", \"Default\", \"Default\", \"Default\", \"Default\", \"Default\", \"Default\", \"Default\", \"Default\", \"Default\", \"Default\", \"Default\", \"Default\", \"Default\", \"Default\", \"Default\", \"Topic1\", \"Topic1\", \"Topic1\", \"Topic1\", \"Topic1\", \"Topic1\", \"Topic1\", \"Topic1\", \"Topic1\", \"Topic1\", \"Topic1\", \"Topic1\", \"Topic1\", \"Topic1\", \"Topic1\", \"Topic1\", \"Topic1\", \"Topic1\", \"Topic1\", \"Topic1\", \"Topic1\", \"Topic1\", \"Topic1\", \"Topic1\", \"Topic1\", \"Topic1\", \"Topic1\", \"Topic1\", \"Topic1\", \"Topic1\", \"Topic1\", \"Topic1\", \"Topic1\", \"Topic1\", \"Topic1\", \"Topic1\", \"Topic1\", \"Topic1\", \"Topic1\", \"Topic1\", \"Topic1\", \"Topic1\", \"Topic1\", \"Topic1\", \"Topic1\", \"Topic1\", \"Topic1\", \"Topic1\", \"Topic1\", \"Topic1\", \"Topic1\", \"Topic1\", \"Topic1\", \"Topic1\", \"Topic1\", \"Topic1\", \"Topic1\", \"Topic1\", \"Topic1\", \"Topic1\", \"Topic1\", \"Topic1\", \"Topic1\", \"Topic1\", \"Topic1\", \"Topic1\", \"Topic1\", \"Topic1\", \"Topic1\", \"Topic1\", \"Topic1\", \"Topic1\", \"Topic1\", \"Topic1\", \"Topic1\", \"Topic1\", \"Topic1\", \"Topic1\", \"Topic1\", \"Topic1\", \"Topic1\", \"Topic1\", \"Topic1\", \"Topic1\", \"Topic1\", \"Topic1\", \"Topic1\", \"Topic2\", \"Topic2\", \"Topic2\", \"Topic2\", \"Topic2\", \"Topic2\", \"Topic2\", \"Topic2\", \"Topic2\", \"Topic2\", \"Topic2\", \"Topic2\", \"Topic2\", \"Topic2\", \"Topic2\", \"Topic2\", \"Topic2\", \"Topic2\", \"Topic2\", \"Topic2\", \"Topic2\", \"Topic2\", \"Topic2\", \"Topic2\", \"Topic2\", \"Topic2\", \"Topic2\", \"Topic2\", \"Topic2\", \"Topic2\", \"Topic2\", \"Topic2\", \"Topic2\", \"Topic2\", \"Topic2\", \"Topic2\", \"Topic2\", \"Topic2\", \"Topic2\", \"Topic2\", \"Topic2\", \"Topic2\", \"Topic2\", \"Topic2\", \"Topic2\", \"Topic2\", \"Topic2\", \"Topic2\", \"Topic2\", \"Topic2\", \"Topic2\", \"Topic2\", \"Topic2\", \"Topic2\", \"Topic2\", \"Topic2\", \"Topic2\", \"Topic2\", \"Topic2\", \"Topic2\", \"Topic2\", \"Topic2\", \"Topic2\", \"Topic2\", \"Topic2\", \"Topic2\", \"Topic2\", \"Topic2\", \"Topic2\", \"Topic2\", \"Topic2\", \"Topic2\", \"Topic2\", \"Topic2\", \"Topic2\", \"Topic2\", \"Topic2\", \"Topic2\", \"Topic2\", \"Topic2\", \"Topic2\", \"Topic2\", \"Topic2\", \"Topic2\", \"Topic2\", \"Topic2\", \"Topic2\", \"Topic2\", \"Topic2\", \"Topic2\", \"Topic3\", \"Topic3\", \"Topic3\", \"Topic3\", \"Topic3\", \"Topic3\", \"Topic3\", \"Topic3\", \"Topic3\", \"Topic3\", \"Topic3\", \"Topic3\", \"Topic3\", \"Topic3\", \"Topic3\", \"Topic3\", \"Topic3\", \"Topic3\", \"Topic3\", \"Topic3\", \"Topic3\", \"Topic3\", \"Topic3\", \"Topic3\", \"Topic3\", \"Topic3\", \"Topic3\", \"Topic3\", \"Topic3\", \"Topic3\", \"Topic3\", \"Topic3\", \"Topic3\", \"Topic3\", \"Topic3\", \"Topic3\", \"Topic3\", \"Topic3\", \"Topic3\", \"Topic3\", \"Topic3\", \"Topic3\", \"Topic3\", \"Topic3\", \"Topic3\", \"Topic3\", \"Topic3\", \"Topic3\", \"Topic3\", \"Topic3\", \"Topic3\", \"Topic3\", \"Topic3\", \"Topic3\", \"Topic3\", \"Topic3\", \"Topic3\", \"Topic3\", \"Topic3\", \"Topic3\", \"Topic3\", \"Topic3\", \"Topic3\", \"Topic3\", \"Topic3\", \"Topic3\", \"Topic3\", \"Topic3\", \"Topic3\", \"Topic3\", \"Topic3\", \"Topic3\", \"Topic3\", \"Topic3\", \"Topic3\", \"Topic3\", \"Topic3\", \"Topic3\", \"Topic3\", \"Topic3\", \"Topic3\", \"Topic3\", \"Topic3\", \"Topic3\", \"Topic3\", \"Topic3\", \"Topic3\", \"Topic4\", \"Topic4\", \"Topic4\", \"Topic4\", \"Topic4\", \"Topic4\", \"Topic4\", \"Topic4\", \"Topic4\", \"Topic4\", \"Topic4\", \"Topic4\", \"Topic4\", \"Topic4\", \"Topic4\", \"Topic4\", \"Topic4\", \"Topic4\", \"Topic4\", \"Topic4\", \"Topic4\", \"Topic4\", \"Topic4\", \"Topic4\", \"Topic4\", \"Topic4\", \"Topic4\", \"Topic4\", \"Topic4\", \"Topic4\", \"Topic4\", \"Topic4\", \"Topic4\", \"Topic4\", \"Topic4\", \"Topic4\", \"Topic4\", \"Topic4\", \"Topic4\", \"Topic4\", \"Topic4\", \"Topic4\", \"Topic4\", \"Topic4\", \"Topic4\", \"Topic4\", \"Topic4\", \"Topic4\", \"Topic4\", \"Topic4\", \"Topic4\", \"Topic4\", \"Topic4\", \"Topic4\", \"Topic4\", \"Topic4\", \"Topic4\", \"Topic4\", \"Topic4\", \"Topic4\", \"Topic4\", \"Topic4\", \"Topic4\", \"Topic4\", \"Topic4\", \"Topic4\", \"Topic4\", \"Topic4\", \"Topic4\", \"Topic4\", \"Topic4\", \"Topic4\", \"Topic4\", \"Topic4\", \"Topic4\", \"Topic4\", \"Topic4\", \"Topic4\", \"Topic4\", \"Topic4\", \"Topic4\", \"Topic4\", \"Topic4\", \"Topic5\", \"Topic5\", \"Topic5\", \"Topic5\", \"Topic5\", \"Topic5\", \"Topic5\", \"Topic5\", \"Topic5\", \"Topic5\", \"Topic5\", \"Topic5\", \"Topic5\", \"Topic5\", \"Topic5\", \"Topic5\", \"Topic5\", \"Topic5\", \"Topic5\", \"Topic5\", \"Topic5\", \"Topic5\", \"Topic5\", \"Topic5\", \"Topic5\", \"Topic5\", \"Topic5\", \"Topic5\", \"Topic5\", \"Topic5\", \"Topic5\", \"Topic5\", \"Topic5\", \"Topic5\", \"Topic5\", \"Topic5\", \"Topic5\", \"Topic5\", \"Topic5\", \"Topic5\", \"Topic5\", \"Topic5\", \"Topic5\", \"Topic5\", \"Topic5\", \"Topic5\", \"Topic5\", \"Topic5\", \"Topic5\", \"Topic5\", \"Topic5\", \"Topic5\", \"Topic5\", \"Topic5\", \"Topic5\", \"Topic5\", \"Topic5\", \"Topic5\", \"Topic5\", \"Topic5\", \"Topic5\", \"Topic5\", \"Topic5\", \"Topic5\", \"Topic5\", \"Topic5\", \"Topic5\", \"Topic5\", \"Topic5\", \"Topic5\", \"Topic5\", \"Topic5\", \"Topic5\", \"Topic5\", \"Topic5\", \"Topic5\", \"Topic5\", \"Topic5\", \"Topic5\", \"Topic5\", \"Topic5\", \"Topic5\", \"Topic5\", \"Topic5\", \"Topic5\", \"Topic5\", \"Topic5\", \"Topic5\"], \"logprob\": [30.0, 29.0, 28.0, 27.0, 26.0, 25.0, 24.0, 23.0, 22.0, 21.0, 20.0, 19.0, 18.0, 17.0, 16.0, 15.0, 14.0, 13.0, 12.0, 11.0, 10.0, 9.0, 8.0, 7.0, 6.0, 5.0, 4.0, 3.0, 2.0, 1.0, -7.7519001960754395, -8.579400062561035, -8.737099647521973, -8.79520034790039, -8.397500038146973, -9.030599594116211, -8.600000381469727, -9.025500297546387, -8.689800262451172, -7.500800132751465, -8.993599891662598, -9.078800201416016, -9.225700378417969, -9.258500099182129, -9.108799934387207, -8.962400436401367, -8.603699684143066, -9.207599639892578, -8.770999908447266, -9.418299674987793, -8.61359977722168, -8.791999816894531, -8.655500411987305, -8.997200012207031, -9.433300018310547, -9.263400077819824, -9.1673002243042, -9.281900405883789, -8.181099891662598, -8.548100471496582, -7.623000144958496, -6.825300216674805, -7.978700160980225, -5.516200065612793, -6.751699924468994, -6.832799911499023, -6.808499813079834, -7.098899841308594, -5.253699779510498, -5.942800045013428, -7.263199806213379, -5.932700157165527, -7.6092000007629395, -6.152100086212158, -5.939000129699707, -5.308000087738037, -5.899799823760986, -5.101099967956543, -5.9440999031066895, -7.019899845123291, -5.339200019836426, -5.663899898529053, -6.648900032043457, -6.699399948120117, -3.5889999866485596, -5.894800186157227, -6.492499828338623, -5.118899822235107, -5.701900005340576, -3.8826000690460205, -5.1149001121521, -5.506899833679199, -4.95419979095459, -5.430699825286865, -5.95959997177124, -5.91349983215332, -4.326600074768066, -5.651199817657471, -6.454699993133545, -4.994500160217285, -4.093200206756592, -5.302800178527832, -5.715700149536133, -4.354300022125244, -4.762400150299072, -4.522600173950195, -4.6244001388549805, -4.875199794769287, -5.095900058746338, -5.235499858856201, -5.379199981689453, -4.838699817657471, -5.336299896240234, -5.5019001960754395, -5.534999847412109, -5.332399845123291, -5.560699939727783, -8.168899536132812, -8.061100006103516, -8.298299789428711, -8.589500427246094, -7.734300136566162, -8.535099983215332, -8.633099555969238, -8.945500373840332, -8.862799644470215, -8.834400177001953, -8.940299987792969, -7.861400127410889, -8.15880012512207, -7.106599807739258, -8.898699760437012, -8.830100059509277, -7.720900058746338, -8.287400245666504, -8.423800468444824, -8.199600219726562, -9.046500205993652, -9.228799819946289, -8.9975004196167, -9.289999961853027, -8.408900260925293, -9.194100379943848, -9.37090015411377, -9.187299728393555, -9.407899856567383, -9.38010025024414, -7.923799991607666, -8.736300468444824, -8.268199920654297, -7.9984002113342285, -8.76990032196045, -8.98449993133545, -7.9334001541137695, -8.025099754333496, -8.473600387573242, -8.35770034790039, -8.13659954071045, -5.054500102996826, -5.843999862670898, -4.973199844360352, -7.48829984664917, -7.270999908447266, -6.302299976348877, -6.412199974060059, -5.771599769592285, -6.121600151062012, -7.028500080108643, -5.421500205993652, -4.917699813842773, -4.952199935913086, -4.8572998046875, -4.949999809265137, -6.868800163269043, -5.196700096130371, -5.384500026702881, -6.125899791717529, -6.039400100708008, -5.377900123596191, -5.5192999839782715, -7.100500106811523, -6.350800037384033, -6.208099842071533, -6.153299808502197, -5.470300197601318, -5.128799915313721, -5.96589994430542, -5.674200057983398, -4.539000034332275, -4.679800033569336, -5.299300193786621, -5.271599769592285, -4.6545000076293945, -4.85830020904541, -5.166399955749512, -4.78249979019165, -5.608799934387207, -5.266900062561035, -5.603300094604492, -4.734399795532227, -5.366600036621094, -5.073500156402588, -5.534299850463867, -5.48199987411499, -5.547399997711182, -5.276899814605713, -5.565100193023682, -7.778900146484375, -7.808800220489502, -7.648499965667725, -8.069999694824219, -8.083499908447266, -8.271100044250488, -8.222900390625, -7.37939977645874, -8.399200439453125, -8.045700073242188, -8.322600364685059, -8.399900436401367, -8.26710033416748, -8.384099960327148, -8.242500305175781, -8.241299629211426, -8.673800468444824, -7.797299861907959, -8.458800315856934, -7.922500133514404, -7.624000072479248, -8.762100219726562, -8.880599975585938, -8.212900161743164, -8.531599998474121, -8.988900184631348, -9.013699531555176, -8.842100143432617, -7.8119001388549805, -8.218500137329102, -7.955399990081787, -8.507599830627441, -7.482600212097168, -7.8668999671936035, -6.979300022125244, -7.360899925231934, -6.950699806213379, -7.808199882507324, -7.667200088500977, -6.321300029754639, -5.238399982452393, -7.639999866485596, -5.348599910736084, -6.206500053405762, -7.660799980163574, -5.6305999755859375, -6.626800060272217, -7.118500232696533, -6.817999839782715, -6.563600063323975, -5.422100067138672, -6.191500186920166, -5.337600231170654, -5.115300178527832, -5.3267998695373535, -7.324699878692627, -7.004000186920166, -6.595200061798096, -5.289100170135498, -5.541100025177002, -5.753300189971924, -5.091800212860107, -5.245999813079834, -4.365699768066406, -6.02400016784668, -6.164000034332275, -5.965700149536133, -5.315199851989746, -5.417699813842773, -4.71619987487793, -5.095399856567383, -5.036300182342529, -5.809000015258789, -5.234300136566162, -4.811600208282471, -5.013800144195557, -5.428299903869629, -5.634500026702881, -5.465199947357178, -5.178599834442139, -5.7769999504089355, -5.303400039672852, -5.722599983215332, -5.369500160217285, -5.575900077819824, -5.606800079345703, -5.686500072479248, -7.7515997886657715, -7.783199787139893, -8.234000205993652, -8.27079963684082, -8.242199897766113, -8.336099624633789, -8.356399536132812, -8.45740032196045, -8.38949966430664, -8.604599952697754, -8.192399978637695, -8.427399635314941, -8.490799903869629, -8.35830020904541, -8.451499938964844, -8.781800270080566, -8.3927001953125, -8.884599685668945, -9.123700141906738, -9.101900100708008, -9.019399642944336, -9.167799949645996, -7.972099781036377, -9.231200218200684, -9.158699989318848, -8.43220043182373, -8.936599731445312, -9.088500022888184, -8.603799819946289, -9.206100463867188, -7.931399822235107, -8.790499687194824, -8.25529956817627, -8.418600082397461, -8.25059986114502, -8.498700141906738, -7.7469000816345215, -6.8597002029418945, -8.18120002746582, -6.064599990844727, -7.019700050354004, -6.940000057220459, -4.918600082397461, -5.448599815368652, -7.352200031280518, -7.38539981842041, -7.041100025177002, -7.160799980163574, -4.990499973297119, -4.151299953460693, -5.228099822998047, -5.674499988555908, -6.420899868011475, -4.0904998779296875, -4.758800029754639, -5.694399833679199, -6.689799785614014, -4.3094000816345215, -5.126399993896484, -5.354700088500977, -5.462500095367432, -5.364500045776367, -5.772500038146973, -5.052999973297119, -4.288700103759766, -5.212399959564209, -5.991600036621094, -5.597300052642822, -4.542099952697754, -4.7729997634887695, -5.1992998123168945, -5.316800117492676, -5.311200141906738, -5.353000164031982, -4.8231000900268555, -5.280900001525879, -5.102099895477295, -5.4552001953125, -4.854700088500977, -5.457900047302246, -5.344299793243408, -5.233799934387207, -5.4344000816345215, -7.949900150299072, -8.347900390625, -8.378000259399414, -8.135899543762207, -6.16480016708374, -6.864200115203857, -8.074199676513672, -8.106900215148926, -7.842800140380859, -6.00629997253418, -8.158100128173828, -7.854800224304199, -8.735899925231934, -7.086599826812744, -8.72659969329834, -8.51550006866455, -7.544300079345703, -8.844599723815918, -8.514599800109863, -8.91919994354248, -7.526000022888184, -8.734299659729004, -8.955300331115723, -8.911499977111816, -8.966300010681152, -8.71679973602295, -9.023300170898438, -9.021499633789062, -8.65149974822998, -8.32349967956543, -5.226500034332275, -5.8018999099731445, -8.405699729919434, -7.102700233459473, -7.065400123596191, -6.631800174713135, -7.507400035858154, -6.98360013961792, -6.645299911499023, -6.017300128936768, -7.033100128173828, -5.427700042724609, -6.354800224304199, -5.44379997253418, -7.710899829864502, -6.821499824523926, -6.76039981842041, -5.641600131988525, -5.771900177001953, -5.367400169372559, -6.84089994430542, -5.152699947357178, -6.2778000831604, -6.4471001625061035, -6.771900177001953, -6.802700042724609, -6.430600166320801, -4.759699821472168, -5.847499847412109, -4.936600208282471, -5.717700004577637, -5.517499923706055, -5.85890007019043, -6.41949987411499, -4.376800060272217, -4.628499984741211, -5.2434000968933105, -4.6894001960754395, -5.638500213623047, -4.584799766540527, -5.117000102996826, -5.165299892425537, -4.5335001945495605, -5.133999824523926, -5.397600173950195, -5.148200035095215, -5.23360013961792, -5.1971001625061035, -5.416100025177002, -4.652500152587891, -5.298900127410889, -5.433800220489502, -5.299600124359131, -5.332600116729736, -5.13539981842041, -5.201300144195557, -5.409900188446045, -5.503200054168701], \"loglift\": [30.0, 29.0, 28.0, 27.0, 26.0, 25.0, 24.0, 23.0, 22.0, 21.0, 20.0, 19.0, 18.0, 17.0, 16.0, 15.0, 14.0, 13.0, 12.0, 11.0, 10.0, 9.0, 8.0, 7.0, 6.0, 5.0, 4.0, 3.0, 2.0, 1.0, 1.0559, 1.0453, 1.0443, 1.0406, 1.0401, 1.0331, 1.0324, 1.0322, 1.0281, 1.028, 1.0273, 1.0267, 1.0242, 1.0226, 1.0204, 1.0177, 1.0172, 1.016, 1.0157, 1.0118, 1.011, 1.011, 1.0107, 1.0079, 1.0075, 1.0064, 1.0061, 1.0028, 1.0017, 1.0007, 0.999, 0.9895, 0.9949, 0.9598, 0.9788, 0.9748, 0.9621, 0.9692, 0.9104, 0.9288, 0.9689, 0.9272, 0.9786, 0.9207, 0.9043, 0.8662, 0.8676, 0.7967, 0.8456, 0.9102, 0.7924, 0.8126, 0.8861, 0.8892, 0.6221, 0.8132, 0.8581, 0.7205, 0.7778, 0.5916, 0.7135, 0.7533, 0.6863, 0.7398, 0.7984, 0.7758, 0.4857, 0.7021, 0.8515, 0.5639, 0.3165, 0.5873, 0.6851, 0.28, 0.3772, 0.1883, 0.1393, 0.1236, 0.1753, 0.2767, 0.3525, -0.221, 0.1645, 0.2304, 0.2877, -0.3764, 0.2029, 1.4859, 1.4836, 1.4771, 1.4729, 1.4707, 1.4707, 1.4572, 1.4543, 1.4539, 1.4534, 1.4529, 1.4524, 1.4522, 1.4475, 1.4455, 1.4413, 1.4411, 1.4396, 1.4383, 1.4347, 1.4313, 1.431, 1.4261, 1.4253, 1.4251, 1.4236, 1.4229, 1.4228, 1.4206, 1.4203, 1.4165, 1.4203, 1.4128, 1.4044, 1.4175, 1.4198, 1.3963, 1.392, 1.4066, 1.3973, 1.3844, 1.2217, 1.1598, 1.0387, 1.2958, 1.257, 1.1224, 1.1269, 1.0381, 1.0356, 1.1744, 0.8524, 0.73, 0.7313, 0.6919, 0.6991, 1.1162, 0.7483, 0.7104, 0.8985, 0.8581, 0.6704, 0.6878, 1.1535, 0.9248, 0.8743, 0.8283, 0.5789, 0.4306, 0.7381, 0.5783, 0.0787, 0.1325, 0.4063, 0.3679, 0.0564, 0.0976, 0.2348, -0.0188, 0.5062, 0.2294, 0.4922, -0.3247, 0.2516, -0.0747, 0.3357, 0.2297, 0.1231, -1.0658, 0.1247, 2.0795, 2.0762, 2.0715, 2.0662, 2.0646, 2.0569, 2.0554, 2.053, 2.0479, 2.0467, 2.0461, 2.0434, 2.0401, 2.0296, 2.0238, 2.0236, 2.0231, 2.0229, 2.0213, 2.0204, 2.02, 2.0184, 2.0083, 2.0076, 1.9984, 1.9938, 1.9932, 1.9926, 1.9919, 1.9905, 1.9838, 1.9861, 1.9644, 1.9669, 1.9236, 1.9336, 1.8984, 1.9451, 1.9279, 1.7032, 1.4953, 1.9022, 1.4656, 1.5207, 1.8681, 1.2591, 1.5477, 1.6913, 1.5845, 1.4866, 0.9496, 1.2503, 0.8787, 0.7748, 0.8691, 1.7267, 1.57, 1.3356, 0.5503, 0.6935, 0.8051, 0.409, 0.4864, -0.1546, 0.9148, 1.0039, 0.8588, 0.3858, 0.405, -0.2419, 0.0442, -0.0803, 0.5918, 0.0368, -0.4019, -0.2015, 0.1899, 0.3623, 0.047, -0.5608, 0.4381, -0.6691, 0.2745, -0.6586, -0.577, -0.843, -0.2854, 1.7999, 1.7985, 1.7828, 1.7807, 1.7794, 1.7759, 1.7758, 1.7738, 1.7697, 1.7646, 1.7622, 1.7592, 1.7574, 1.7559, 1.7509, 1.7439, 1.7406, 1.74, 1.7251, 1.7244, 1.7236, 1.7201, 1.717, 1.7151, 1.7146, 1.7129, 1.7115, 1.7111, 1.71, 1.7093, 1.7065, 1.7069, 1.6912, 1.6925, 1.6799, 1.6828, 1.6158, 1.5089, 1.6367, 1.3732, 1.4545, 1.413, 1.045, 1.1124, 1.4545, 1.4548, 1.341, 1.3678, 0.7406, 0.4831, 0.7911, 0.8614, 1.109, 0.3192, 0.5124, 0.8329, 1.1814, 0.3084, 0.5995, 0.6769, 0.7172, 0.6693, 0.7994, 0.5054, 0.1856, 0.5512, 0.8732, 0.6933, 0.1688, 0.183, 0.397, 0.415, 0.3943, 0.3587, -0.0594, 0.2313, 0.0376, 0.273, -0.6436, 0.2745, 0.0568, -0.235, 0.0619, 1.8084, 1.7938, 1.7937, 1.7918, 1.7887, 1.7864, 1.7813, 1.7797, 1.7796, 1.7766, 1.7731, 1.7721, 1.7717, 1.7667, 1.7629, 1.7613, 1.7606, 1.7593, 1.7583, 1.7581, 1.7547, 1.7544, 1.7525, 1.7514, 1.7513, 1.7491, 1.7486, 1.7458, 1.7429, 1.7429, 1.7356, 1.7306, 1.7409, 1.7136, 1.7108, 1.695, 1.7188, 1.6918, 1.6695, 1.6416, 1.6831, 1.5765, 1.6185, 1.5472, 1.6993, 1.6278, 1.5841, 1.4212, 1.4269, 1.362, 1.5812, 1.2907, 1.4807, 1.4955, 1.5574, 1.5622, 1.4517, 0.9108, 1.2077, 0.8096, 1.1189, 0.9593, 1.1233, 1.3813, 0.2409, 0.3275, 0.6666, 0.3094, 0.8799, 0.1789, 0.5307, 0.5629, 0.1008, 0.5054, 0.6979, 0.4481, 0.4562, 0.3623, 0.6061, -0.4415, 0.3502, 0.5113, 0.1015, 0.1636, -0.4245, -0.7916, 0.0909, 0.2023]}, \"token.table\": {\"Topic\": [2, 1, 4, 4, 5, 1, 2, 4, 5, 1, 2, 3, 4, 5, 3, 1, 2, 3, 4, 5, 1, 2, 3, 4, 5, 5, 1, 2, 3, 4, 5, 2, 1, 2, 3, 4, 5, 2, 1, 2, 3, 4, 5, 1, 2, 3, 4, 5, 1, 3, 1, 3, 1, 2, 3, 4, 5, 4, 1, 2, 3, 4, 5, 1, 2, 3, 4, 2, 4, 1, 2, 3, 4, 5, 1, 2, 3, 4, 5, 1, 2, 3, 4, 5, 1, 2, 3, 4, 5, 1, 2, 3, 4, 5, 1, 2, 3, 4, 5, 1, 3, 4, 1, 3, 5, 1, 2, 3, 4, 5, 2, 4, 1, 3, 1, 2, 3, 4, 5, 1, 2, 3, 4, 5, 1, 3, 2, 1, 2, 3, 4, 5, 1, 1, 2, 3, 4, 5, 4, 1, 2, 3, 4, 5, 1, 2, 4, 1, 4, 1, 2, 3, 4, 5, 1, 2, 3, 4, 5, 2, 1, 2, 3, 4, 5, 2, 1, 2, 3, 4, 5, 1, 2, 3, 4, 5, 1, 2, 3, 4, 5, 3, 4, 1, 2, 3, 4, 5, 1, 2, 3, 4, 5, 1, 1, 2, 3, 4, 5, 1, 2, 3, 4, 1, 1, 5, 2, 1, 2, 3, 4, 5, 1, 2, 3, 4, 5, 2, 1, 2, 3, 4, 5, 2, 1, 2, 3, 4, 5, 1, 2, 3, 4, 5, 1, 2, 3, 4, 5, 1, 2, 3, 4, 5, 3, 3, 4, 2, 4, 1, 2, 3, 4, 5, 1, 2, 3, 4, 5, 2, 3, 4, 1, 2, 3, 4, 5, 1, 2, 3, 4, 1, 2, 3, 4, 5, 5, 1, 2, 3, 4, 5, 4, 1, 2, 3, 4, 5, 2, 1, 2, 3, 4, 5, 1, 2, 3, 4, 5, 1, 2, 3, 4, 5, 2, 4, 3, 1, 2, 3, 4, 5, 1, 2, 3, 4, 5, 1, 1, 2, 3, 4, 5, 1, 2, 3, 4, 1, 2, 3, 4, 5, 5, 1, 2, 3, 4, 5, 1, 2, 3, 4, 5, 2, 1, 2, 3, 5, 1, 2, 3, 4, 5, 1, 2, 3, 4, 5, 1, 4, 5, 3, 1, 2, 3, 4, 5, 1, 2, 3, 4, 5, 1, 2, 3, 4, 5, 1, 2, 4, 1, 2, 3, 4, 5, 1, 2, 3, 4, 5, 2, 1, 2, 3, 4, 5, 2, 4, 1, 2, 3, 4, 5, 1, 2, 1, 2, 3, 4, 5, 1, 3, 4, 5, 1, 2, 3, 4, 5, 2, 3, 1, 2, 3, 4, 5, 1, 2, 3, 4, 5, 1, 2, 3, 4, 5, 1, 2, 3, 4, 5, 1, 2, 3, 4, 5, 1, 2, 3, 4, 5, 1, 2, 3, 4, 5, 3, 1, 2, 3, 4, 5, 3, 1, 2, 3, 4, 5, 1, 2, 3, 4, 5, 4, 1, 3, 1, 2, 3, 4, 5, 2, 1, 2, 3, 4, 5, 2, 1, 3, 4, 5, 1, 2, 3, 4, 5, 1, 2, 3, 4, 5, 1, 2, 3, 4, 5, 1, 2, 3, 4, 5, 1, 2, 3, 4, 5, 5, 1, 2, 3, 4, 5, 1, 2, 3, 4, 5, 5, 1, 2, 3, 4, 5, 4, 1, 2, 3, 4, 5, 1, 2, 3, 4, 5, 4, 1, 2, 3, 4, 5, 1, 1, 2, 3, 4, 5, 4, 1, 2, 3, 4, 5, 4, 5, 1, 4, 5, 2, 1, 5, 1, 2, 3, 4, 5, 3, 4, 5, 3, 1, 2, 3, 4, 5, 1, 2, 3, 4, 5, 5, 1, 2, 3, 4, 5, 1, 2, 3, 4, 5, 2, 3, 2, 4, 1, 2, 3, 4, 5, 1, 2, 3, 4, 5, 5, 4, 5, 4, 1, 2, 3, 4, 5, 3, 1, 2, 3, 4, 5, 1, 2, 3, 4, 5, 1, 2, 3, 4, 5, 1, 2, 3, 4, 5, 1, 2, 3, 4, 5, 1, 2, 3, 4, 5, 1, 2, 3, 4, 5, 2, 5, 1, 2, 3, 4, 5, 1, 2, 4, 5, 1, 4, 1, 2, 4, 5, 1, 2, 3, 4, 5, 1, 2, 3, 4, 5, 1, 2, 3, 4, 5, 2, 4, 1, 2, 3, 4, 5, 4, 1, 2, 3, 4, 5, 2, 3, 4, 1, 2, 3, 1, 3, 4, 5, 4, 1, 2, 3, 4, 5, 1, 2, 3, 4, 5, 1, 2, 3, 4, 5, 1, 2, 3, 4, 5, 1, 2, 3, 4, 5, 1, 1, 2, 3, 4, 5, 1, 2, 3, 4, 5, 1, 2, 3, 4, 5, 1, 2, 3, 4, 5, 2, 3, 1, 2, 3, 4, 5, 1, 4, 5, 4, 1, 2, 3, 4, 5, 4, 1, 2, 3, 4, 5, 1, 2, 4, 5, 1, 2, 3, 4, 5, 1, 2, 2, 1, 2, 3, 4, 5, 2, 4, 5, 2, 3, 5, 1, 1, 2, 3, 4, 5, 1, 2, 3, 4, 5, 1, 2, 3, 4, 5, 1, 2, 3, 4, 5, 1, 2, 3, 4, 5, 1, 2, 3, 4, 5, 5, 1, 2, 3, 4, 5, 1, 2, 3, 4, 5, 2, 4, 5, 1, 2, 3, 4, 5, 1, 2, 4, 3, 1, 2, 3, 4, 5, 2, 3, 5, 1, 2, 3, 2, 3, 3, 1, 2, 3, 4, 5, 3, 4, 1, 2, 3, 4, 5, 1, 2, 3, 4, 5, 3, 4, 1, 2, 3, 4, 5, 5, 1, 2, 3, 4, 5, 1, 2, 3, 4, 5, 1, 2, 3, 4, 5, 1, 2, 3, 4, 5, 2, 1, 2, 3, 4, 5, 4, 1, 2, 3, 4, 5, 1, 3, 4, 1, 2, 3, 4, 5, 1, 2, 3, 4, 5, 1, 2, 3, 4, 5, 4, 1, 2, 3, 4, 5, 1, 2, 3, 4, 5, 1, 2, 3, 4, 5, 1, 2, 3, 4, 5, 1, 2, 3, 4, 5, 1, 2, 3, 2, 3, 4, 5, 2, 1, 2, 3, 4, 5, 1, 2, 3, 4, 5, 1, 2, 3, 4, 1, 2, 3, 4, 5, 1, 1, 2, 5, 1, 2, 3, 4, 5, 1, 2, 3, 4, 5, 1, 4, 3, 1, 2, 3, 4, 5, 2, 3, 3, 4, 1, 2, 3, 4, 5, 1, 2, 3, 4, 5, 1, 2, 3, 4, 5, 1, 2, 3, 4, 5, 1, 1, 4, 3, 1, 2, 3, 4, 5, 1, 2, 1, 5, 1, 2, 3, 4, 5, 5, 1, 2, 3, 4, 5, 2, 5, 1, 4, 5, 3, 4, 1, 1, 2, 3, 4, 5, 1, 2, 3, 4, 5, 2, 3, 4, 5, 1, 2, 3, 4, 5, 2, 2, 3, 1, 2, 3, 4, 5, 1, 2, 4, 3, 2, 4, 5, 1, 2, 3, 4, 5, 1, 2, 3, 5, 1, 2, 3, 4, 5, 5, 1, 2, 3, 4, 5, 3, 1, 5, 1, 2, 3, 4, 5, 4, 1, 2, 3, 4, 1, 2, 3, 4, 5, 5, 1, 2, 3, 4, 5, 3, 5, 3, 4, 5, 3, 1, 2, 4, 5, 1, 2, 3, 4, 5, 5, 1, 4, 5, 1, 2, 3, 4, 5, 1, 2, 3, 4, 5, 1, 2, 3, 4, 5, 3, 3, 5, 3, 1, 2, 3, 4, 5, 1, 2, 3, 4, 5, 1, 2, 3, 4, 5, 1, 2, 3, 4, 5, 1, 2], \"Freq\": [0.9725193497886958, 0.9414499029873514, 0.9635823876493878, 0.8755386712456099, 0.058369244749707325, 0.9192331516676102, 0.8694520754810505, 0.03952054888550229, 0.03952054888550229, 0.05835638571790477, 0.04863032143158731, 0.029178192858952384, 0.6613723714695874, 0.19452128572634925, 0.8923688751901871, 0.41758746838367145, 0.04380288129898651, 0.06935456205672864, 0.27887834427021413, 0.19054253365059134, 0.8030416279254119, 0.021414443411344318, 0.04639796072457936, 0.11421036486050302, 0.014276295607562878, 0.9591734123944822, 0.005048656658166165, 0.13631372977048647, 0.017670298303581577, 0.07572984987249248, 0.7673958120412572, 0.9702226958931829, 0.3029731447876284, 0.1681810109841529, 0.1273723833188805, 0.3215225209991158, 0.07914400516901313, 0.903691403608943, 0.18935514616971375, 0.45620439130568047, 0.05525666187158906, 0.15094502755165792, 0.14824958063109261, 0.4787037894365529, 0.05270133461686821, 0.04172188990502067, 0.384280564914664, 0.043917778847390176, 0.04768737678301534, 0.9060601588772914, 0.9535777380602036, 0.041459901654791464, 0.355564552623453, 0.08533549262962871, 0.08059463192798268, 0.38084914303223183, 0.09955807473456683, 0.8985433843210616, 0.2606676404328283, 0.3069544177059474, 0.06415184920309483, 0.18758325526474562, 0.18027481674793736, 0.015971500826414138, 0.1277720066113131, 0.7985750413207069, 0.031943001652828276, 0.9405035482112912, 0.025419014816521385, 0.4090939903079133, 0.13667886772960236, 0.04901586980647809, 0.35442244321607236, 0.05090109556826571, 0.20069991060108683, 0.23913180837576303, 0.017080843455411644, 0.4868040384792319, 0.05551274123008785, 0.9018645899608794, 0.005636653687255497, 0.02818326843627748, 0.05072988318529947, 0.011273307374510993, 0.8608959709839961, 0.010925075773908579, 0.08084556072692349, 0.028405197012162306, 0.017480121238253727, 0.4619966212310792, 0.12123315592588603, 0.031127431926916683, 0.3571463242140967, 0.02785086014513598, 0.4805970801892258, 0.11108691634544149, 0.24088320807537839, 0.08185351730716742, 0.08536152519176031, 0.06910340517826223, 0.06910340517826223, 0.898344267317409, 0.9685359854396797, 0.8711082784620908, 0.06222201989014935, 0.896320012094288, 0.025855384964258307, 0.04309230827376385, 0.017236923309505537, 0.017236923309505537, 0.8737985060415552, 0.08456114574595695, 0.9382130459427918, 0.04079187156273008, 0.7943995157386713, 0.016295374681818898, 0.14665837213637006, 0.032590749363637796, 0.01018460917613681, 0.4787694996232726, 0.0632735021528554, 0.28473075968784933, 0.16451110559742405, 0.008436466953714054, 0.05724166224642824, 0.9444874270660659, 0.8955239315091382, 0.9507386819092424, 0.011594374169624907, 0.011594374169624907, 0.023188748339249814, 0.011594374169624907, 0.9279374179160652, 0.1329403102292095, 0.023460054746331088, 0.4222809854339596, 0.265880620458419, 0.1603103740999291, 0.9599738287883415, 0.8900911085813812, 0.017861360038422366, 0.020838253378159425, 0.05953786679474122, 0.011907573358948244, 0.9365023813962768, 0.044595351495060796, 0.022297675747530398, 0.9439177254417748, 0.03495991575710277, 0.3016730525768445, 0.041610076217495795, 0.5513335098818193, 0.07801889290780462, 0.02600629763593487, 0.05108014980486259, 0.5144500801775447, 0.03405343320324173, 0.1033764936526981, 0.2955351524424193, 0.9249796168812587, 0.9403545945909972, 0.12608215301881306, 0.7880134563675816, 0.06304107650940653, 0.031520538254703266, 0.9254411525571187, 0.010084974679864885, 0.3284820324298848, 0.061950558747741434, 0.023051370696834023, 0.5762842674208505, 0.08231178635085212, 0.2888677785143112, 0.0605690503336459, 0.18636630871891047, 0.38205093287376646, 0.015309721886671877, 0.12247777509337501, 0.015309721886671877, 0.6889374849002344, 0.16840694075339063, 0.8291759908896181, 0.9272687352179628, 0.18201201337753425, 0.4463870048756287, 0.06406009409376903, 0.20234855118507997, 0.1047331697088605, 0.741020385679563, 0.06573567937479995, 0.1404353150279817, 0.035855825113527244, 0.016433919843699987, 0.9627736977958007, 0.7000916082677113, 0.027562661742823277, 0.2086887246242334, 0.05906284659176417, 0.003937523106117611, 0.14248010875335973, 0.04749336958445324, 0.09498673916890649, 0.6965694205719809, 0.9396280817041488, 0.9713187522088376, 0.9053774926130062, 0.9679119660839995, 0.2511069540301521, 0.12612678056309007, 0.18689695665257894, 0.21097570566916887, 0.22588159791753407, 0.009643644357558297, 0.18322924279360764, 0.009643644357558297, 0.02893093307267489, 0.7714915486046637, 0.965233273364159, 0.059868772990940844, 0.8082284353777014, 0.059868772990940844, 0.029934386495470422, 0.04490157974320563, 0.9292793432256965, 0.08588396013942308, 0.21389967430950654, 0.20093605768468795, 0.4893765275869013, 0.009722712468613934, 0.04829856611292892, 0.03756555142116694, 0.04829856611292892, 0.16636172772231073, 0.6976459549645289, 0.4114700881454268, 0.232104798947668, 0.062421158882742765, 0.19057561977261875, 0.1036955578174543, 0.017286088842516423, 0.39511060211466115, 0.017286088842516423, 0.0839610029493655, 0.4864799288536765, 0.9367664844532432, 0.048248582366828566, 0.9167230649697428, 0.9239335868088355, 0.03421976247440132, 0.8107356615759281, 0.037847610736959796, 0.06573532391156174, 0.06772730342403331, 0.017927815612244113, 0.2520864852936459, 0.028009609477071765, 0.6582258227111866, 0.05601921895414353, 0.007002402369267941, 0.0789035794281487, 0.8284875839955614, 0.03945178971407435, 0.3756002067931276, 0.05778464719894271, 0.5373972189501672, 0.023113858879577086, 0.0057784647198942714, 0.0564202008799987, 0.0564202008799987, 0.0564202008799987, 0.8463030131999806, 0.8474387296975675, 0.04460203840513513, 0.057345477949459454, 0.019115159316486486, 0.025486879088648648, 0.8945093641408983, 0.11798428851163616, 0.016854898358805166, 0.8258900195814531, 0.016854898358805166, 0.016854898358805166, 0.9286399860567631, 0.0761510607729592, 0.46390876103067097, 0.054268572045097364, 0.1417985269565447, 0.26434046383257104, 0.9259842052430289, 0.3180764222166413, 0.05336852721755726, 0.04909904504015268, 0.0917938668141985, 0.48458622713542, 0.13016470847031547, 0.1501900482349794, 0.01001266988233196, 0.6107728628222495, 0.09011402894098762, 0.15216914919906246, 0.317233989008215, 0.07866371272154923, 0.18892186743781908, 0.2624273039153323, 0.9235981453828845, 0.043980864065851645, 0.9111734788678565, 0.4850907751592057, 0.08485552918236834, 0.08485552918236834, 0.24395964639930898, 0.10182663501884201, 0.7555637861837816, 0.01669754223610567, 0.10352476186385516, 0.10185500764024459, 0.022541682018742654, 0.9470711935776859, 0.7577984523301746, 0.025654635104927787, 0.1716887118560552, 0.037495235922586766, 0.00789373387843932, 0.07748431477879146, 0.87815556749297, 0.02582810492626382, 0.02582810492626382, 0.5958425547230148, 0.036737883913557756, 0.290458894691566, 0.05395876699803795, 0.022961177445973598, 0.9060545470192204, 0.013306095286010712, 0.13306095286010713, 0.019959142929016068, 0.039918285858032136, 0.7983657171606428, 0.16653606151548309, 0.698946803633164, 0.012616368296627508, 0.04541892586785903, 0.07569820977976505, 0.9272942269537923, 0.16828764312053907, 0.6731505724821563, 0.1278986087716097, 0.03365752862410781, 0.38797641073342876, 0.17808753279567222, 0.05865581437317775, 0.3370942585060938, 0.03886831072921417, 0.17696020722980849, 0.5172682980563632, 0.09982370664245606, 0.12024219209204935, 0.08621138300939388, 0.03476326591937529, 0.03476326591937529, 0.9386081798231328, 0.9306099250334713, 0.6771236134564697, 0.038729663305422476, 0.1052155853130644, 0.15814612516380847, 0.021301314817982364, 0.6147813338119732, 0.04729087183169024, 0.30029703613123304, 0.02364543591584512, 0.014187261549507073, 0.09933261755416913, 0.5529515710515415, 0.04635522152527893, 0.21522067136736645, 0.08277718129514094, 0.9738052159848487, 0.9607696803765187, 0.8464323856291727, 0.04208264568222895, 0.0841652913644579, 0.04208264568222895, 0.8416529136445791, 0.04208264568222895, 0.8286044952901367, 0.03622314733508794, 0.07697418808706188, 0.04980682758574592, 0.009055786833771985, 0.9364555965879777, 0.25507612904980714, 0.2758703787006066, 0.06238274895239848, 0.23012302946884772, 0.1767511220317957, 0.9174669845667194, 0.07339735876533755, 0.030912408202109245, 0.04636861230316387, 0.015456204101054622, 0.04636861230316387, 0.8810036337601135, 0.951995366777611, 0.03807981467110444, 0.25353426320499195, 0.13437315949864573, 0.10648439054609661, 0.1969116110892104, 0.3084666868994069, 0.035150608893681955, 0.07030121778736391, 0.8787652223420489, 0.035150608893681955, 0.19248944390111575, 0.5034339302029182, 0.0518240810503004, 0.1357297360841201, 0.11845504240068662, 0.8857101448335056, 0.05904734298890038, 0.2594447051090499, 0.28216978876823673, 0.14581928681311562, 0.1401380158983189, 0.17233188441550026, 0.050468261314485785, 0.2789035493695267, 0.06640560699274445, 0.0743742798318738, 0.5312448559419556, 0.6330102783685377, 0.013411234711197833, 0.3111406452997897, 0.033528086777994584, 0.009387864297838482, 0.4718064304296142, 0.03825457544023898, 0.4590549052828678, 0.025503050293492657, 0.006375762573373164, 0.2541953231321833, 0.03910697278956666, 0.6843720238174165, 0.01955348639478333, 0.01955348639478333, 0.09880451860481018, 0.1536959178297047, 0.021956559689957817, 0.6916316302336712, 0.043913119379915634, 0.6157442802020845, 0.07018117367424151, 0.09451332844382093, 0.19365177721574375, 0.02573980008682783, 0.9640353737983707, 0.7520797788017595, 0.04219241395802297, 0.12235800047826662, 0.04957608640067699, 0.03375393116641838, 0.9121840580386364, 0.4189473927067906, 0.13008412193635507, 0.05260754931249653, 0.31373229408179754, 0.08512857979658531, 0.38243809018413355, 0.06045896278646229, 0.08506435461816206, 0.29315566839482293, 0.1792678547738126, 0.8588273764436148, 0.08551201259189148, 0.8551201259189147, 0.2945861919140375, 0.04311017442644451, 0.5316921512594823, 0.09340537792396311, 0.035925145355370426, 0.9394823163510515, 0.8466264880744392, 0.023971406354746025, 0.08063109410232754, 0.04031554705116377, 0.007627265658328281, 0.8790044653515806, 0.08298166269229253, 0.8713074582690715, 0.04507765875813139, 0.9466308339207592, 0.01042078976214632, 0.052103948810731604, 0.02084157952429264, 0.13547026690790218, 0.7711384423988277, 0.38566669587407537, 0.2035368729767147, 0.0676190946951022, 0.12708312269330765, 0.2157694730220598, 0.05285385388034809, 0.6959090760912499, 0.008808975646724683, 0.12332565905414555, 0.11451668340742087, 0.23373453856777154, 0.2418729277936689, 0.11100762904123969, 0.19304259243828487, 0.21973650909922812, 0.6347741365580477, 0.0755793895244425, 0.10324546462643679, 0.08454381609380378, 0.10185443291739797, 0.9235419754353175, 0.45077463007100727, 0.05144966981962282, 0.061597999187713554, 0.2607884639939597, 0.17535369117421906, 0.04851866888236559, 0.2668526788530107, 0.5822240265883871, 0.08490767054413978, 0.024259334441182796, 0.9516069075163857, 0.08409683840681277, 0.1862144279007997, 0.06006917029058055, 0.5226017815280508, 0.15017292572645138, 0.9438456599138539, 0.13257875701016256, 0.16684068297908097, 0.0521377134309628, 0.23536453491691778, 0.4141224095373617, 0.009681356654864217, 0.026623730800876596, 0.01694237414601238, 0.045986444110605026, 0.8979458297386561, 0.9471894000940105, 0.09609404290841794, 0.6726583003589256, 0.019218808581683587, 0.06918771089406092, 0.14221918350445856, 0.9537456887645372, 0.23485361090401238, 0.4289475042131135, 0.047553003860729776, 0.12616103065091575, 0.16400933984619046, 0.9494701438301202, 0.2859658105138646, 0.13150252600272605, 0.5218354206457383, 0.056358225429739735, 0.00626202504774886, 0.8491371306622971, 0.9393897331470139, 0.046573809061776744, 0.046573809061776744, 0.8849023721737581, 0.9672942793989874, 0.06633357276266191, 0.9286700186772668, 0.018723388958403846, 0.06553186135441347, 0.018723388958403846, 0.05617016687521154, 0.8425525031281732, 0.05768768041285167, 0.9230028866056267, 0.8740221323267011, 0.953939737811261, 0.057533373872361494, 0.14383343468090373, 0.06136893213051893, 0.11890230600288043, 0.6194426586924254, 0.09197034971244608, 0.10218927745827343, 0.5824788815121585, 0.17372177167906483, 0.04087571098330937, 0.9307725294751178, 0.24046408116296067, 0.33748300499851164, 0.04999748222200172, 0.14463557357079068, 0.22736950248576973, 0.9101537229928872, 0.012299374635039016, 0.012299374635039016, 0.06149687317519509, 0.012299374635039016, 0.06293903616158875, 0.8811465062622426, 0.9576078506421976, 0.022800186920052323, 0.1310202695958896, 0.5268106673334728, 0.05186219004837297, 0.1146427358964034, 0.17742328174443384, 0.17192415117424636, 0.39144312386000724, 0.06410731060734609, 0.1524976934144445, 0.22049029557375097, 0.922224879944718, 0.04713041947554228, 0.9426083895108456, 0.9394256448396118, 0.45463589986657743, 0.12624472176874296, 0.1804602464547062, 0.13244078173285306, 0.10688203438089895, 0.9489532879917727, 0.42880237942429184, 0.10330882408572047, 0.19600372788866144, 0.21157081097007138, 0.06014554826908383, 0.0463719176379088, 0.1275227735042492, 0.057964897047386006, 0.6260208881117688, 0.1391157529137264, 0.33303551648043767, 0.36416033110477763, 0.06743709835273659, 0.09752441915626524, 0.1379866781679072, 0.28605547847243457, 0.27741792406030064, 0.09044027560940204, 0.17021063106263867, 0.17529154542271744, 0.34196385800804247, 0.22766866018325202, 0.17328626766984362, 0.16038197114123826, 0.09678222396454032, 0.40598960988936583, 0.0959206221167183, 0.12491987996595871, 0.2685777419268113, 0.10484347068571535, 0.6872745117797854, 0.04213177083707497, 0.1619439941550069, 0.08426354167414994, 0.023699121095854668, 0.8958087956499788, 0.04479043978249894, 0.10805757013758491, 0.6192529980961596, 0.012468181169721334, 0.14338408345179535, 0.11429166072244556, 0.013984230319485045, 0.041952690958455136, 0.08390538191691027, 0.8530380494885877, 0.9809157675540693, 0.9428539957898299, 0.03849622825396798, 0.005499461179138282, 0.016498383537414847, 0.934908400453508, 0.7139160836785283, 0.07237858912869873, 0.09431149492527409, 0.11076117427270563, 0.009869807608458916, 0.7684634711641265, 0.031274676152028405, 0.14148067783060467, 0.044678108788612, 0.013403432636583602, 0.6956215194968347, 0.06075977437934279, 0.09737143330022884, 0.12619337755709656, 0.019474286660045765, 0.06053093587243029, 0.847433102214024, 0.203383669433759, 0.1220302016602554, 0.5694742744145251, 0.09762416132820431, 0.00813534677735036, 0.8688021553754101, 0.13007921815396736, 0.6204497959430242, 0.06270005479363895, 0.1076194970338579, 0.07954484563372105, 0.0857761417038449, 0.857761417038449, 0.9105001709875329, 0.05220761590151307, 0.9136332782764787, 0.026103807950756536, 0.10102727097981903, 0.8418939248318252, 0.03367575699327301, 0.03367575699327301, 0.9568484446615598, 0.02740111954562774, 0.0996404347113736, 0.004982021735568679, 0.12455054338921699, 0.7448122494675176, 0.15425151158891173, 0.24536752076003632, 0.07891937802223391, 0.16644814273780242, 0.3558546499911638, 0.23636619365058842, 0.2042203913141084, 0.08887368881262125, 0.1796383071744472, 0.2902576858029226, 0.44909580390220805, 0.10276402086763547, 0.1260420587437297, 0.20268925662843018, 0.11922897448731187, 0.40470123383739787, 0.1765795477828269, 0.051542138271744066, 0.31688870196701907, 0.05058765422967473, 0.9134796379385011, 0.7989693333606049, 0.010243196581546217, 0.13999035328113163, 0.03755838746566946, 0.013657595442061623, 0.03066458988947078, 0.2115856702373484, 0.039863966856312015, 0.055196261801047405, 0.6592886826236218, 0.8283259928326202, 0.042918445224488094, 0.07296135688162976, 0.047210289746936904, 0.012875533567346428, 0.5537946301701269, 0.2506738422715086, 0.09840851625731889, 0.07105715213995518, 0.025941499987602687, 0.9076876854330218, 0.9438459404452094, 0.047488297398017895, 0.08547893531643222, 0.047488297398017895, 0.07598127583682864, 0.7503150988886828, 0.025194003576615134, 0.025194003576615134, 0.9321781323347599, 0.975492620069305, 0.06158561654078683, 0.2015529268607569, 0.04478953930239042, 0.06158561654078683, 0.6326522426462646, 0.9126800620068404, 0.15474052535992178, 0.39161256033395586, 0.08332182134765018, 0.12379242028793741, 0.24639452884233695, 0.013044857629349264, 0.019567286444023897, 0.019567286444023897, 0.9457521781278216, 0.26718894192879444, 0.24887903981692275, 0.07866476462878212, 0.1552950956895785, 0.2502353288622466, 0.9324466295028663, 0.032153332051822976, 0.929175357448057, 0.0386391059490626, 0.5383715428902722, 0.02318346356943756, 0.09530979467435441, 0.30396096679929246, 0.05659593458836578, 0.9055349534138525, 0.9613111280734646, 0.9222215615851148, 0.038425898399379786, 0.038425898399379786, 0.9363553227603111, 0.7233267881934393, 0.18113158377646657, 0.02519048516096555, 0.022791391336111688, 0.04798187649707723, 0.46771281075192317, 0.15854352029115976, 0.08049712623582071, 0.2213199676834977, 0.07182530467411637, 0.027993427427030773, 0.027993427427030773, 0.027993427427030773, 0.055986854854061546, 0.867796250237954, 0.07495528888824755, 0.05353949206303397, 0.010707898412606795, 0.04283159365042718, 0.8030923809455096, 0.03894504109198201, 0.21419772600590106, 0.03894504109198201, 0.6348041697993068, 0.07789008218396402, 0.8543163192248515, 0.013517663278874234, 0.09732717560789449, 0.02433179390197362, 0.010814130623099386, 0.9322183807033461, 0.48774016778461887, 0.10234245486595972, 0.158584704837343, 0.1714927622078244, 0.08021435651656303, 0.40188882042112756, 0.14481468668805994, 0.18129900697768744, 0.09878831339960678, 0.1734408456845369, 0.016039257004226936, 0.048117771012680804, 0.9302769062451622, 0.07227229799993921, 0.1231305817776742, 0.024090765999979738, 0.12580733355544974, 0.655804185555004, 0.021840372736647413, 0.9172956549391913, 0.021840372736647413, 0.9450616622512928, 0.9226358889054058, 0.01809089978245894, 0.03618179956491788, 0.01809089978245894, 0.01809089978245894, 0.04751121193475545, 0.8552018148255981, 0.04751121193475545, 0.940207396609308, 0.036161822946511844, 0.036161822946511844, 0.08272392456513356, 0.9099631702164691, 0.9163119656231018, 0.9081072348689038, 0.005219007096947723, 0.04697106387252951, 0.005219007096947723, 0.03653304967863406, 0.9336591100445014, 0.9228646126627773, 0.36147309122454463, 0.10851238995824536, 0.04016367680272718, 0.21138777264593253, 0.27832723398381115, 0.011584779992510168, 0.7761802594981813, 0.011584779992510168, 0.08109345994757118, 0.11584779992510169, 0.08301896479768048, 0.9132086127744852, 0.019432023346826255, 0.09230211089742471, 0.019432023346826255, 0.04858005836706564, 0.8161449805667027, 0.884972313072109, 0.5987447697244017, 0.04162078836217291, 0.06540409599770028, 0.2669676282087948, 0.027350803780856484, 0.06451307986410548, 0.09676961979615822, 0.07741569583692659, 0.058061771877694936, 0.7096438785051603, 0.9140509205716876, 0.011354669820766305, 0.02838667455191576, 0.039741344372682064, 0.011354669820766305, 0.5065158318793787, 0.015758270325136225, 0.4232221173036586, 0.036018903600311375, 0.018009451800155687, 0.9648162618814914, 0.1283963809546414, 0.2594676865125045, 0.03566566137628928, 0.45741210715091, 0.11858832407616185, 0.9542751538610256, 0.04412371290580555, 0.6177319806812777, 0.014707904301935183, 0.10001374925315924, 0.22356014538941477, 0.960752913190565, 0.9279933901100172, 0.042181517732273514, 0.6765097221762068, 0.0483221230125862, 0.21813986959967482, 0.05108338718473398, 0.006903160430369456, 0.012842975717852445, 0.034247935247606526, 0.012842975717852445, 0.04709091096545897, 0.8947273083437204, 0.8996844825879161, 0.05851606390815714, 0.021943523965558927, 0.0073145079885196425, 0.014629015977039285, 0.9059547087635429, 0.7405769580239326, 0.047898012210503105, 0.12158726176512327, 0.07737371203235117, 0.014737849910924033, 0.8101370881358637, 0.01981313530767058, 0.11337516314944832, 0.03962627061534116, 0.017611675829040514, 0.15952182113261829, 0.4414522233792457, 0.040368787388662584, 0.13347744217219082, 0.224632768533687, 0.01822262867378001, 0.21259733452743343, 0.00607420955792667, 0.08503893381097337, 0.6742372609298604, 0.3916175467121556, 0.2154165106057262, 0.051839634098385476, 0.1514899151890643, 0.18936239398633037, 0.1277716390549963, 0.06388581952749815, 0.7985727440937269, 0.02969938776550038, 0.05939877553100076, 0.04454908164825057, 0.8761319390822612, 0.9426065838071083, 0.054217816781033705, 0.45991665269428594, 0.17200134978810694, 0.11591395311807207, 0.20004504812312437, 0.04185104706323299, 0.7114678000749608, 0.03348083765058639, 0.058591465888526185, 0.15066376942763876, 0.9291595890141302, 0.012728213548138769, 0.03818464064441631, 0.012728213548138769, 0.37232691301538806, 0.16535364414882794, 0.28683795413572194, 0.12035945526479312, 0.05399302666084178, 0.9854017975906141, 0.042767625363397205, 0.8981201326313413, 0.042767625363397205, 0.8424522853683848, 0.01504379081014973, 0.07736806702362718, 0.05802605026772038, 0.008596451891514131, 0.047369855378341263, 0.018947942151336505, 0.009473971075668252, 0.06631779752967777, 0.8621313678858109, 0.9314016364699763, 0.8828225940915276, 0.9414388272044418, 0.5887192175079063, 0.017839976288118373, 0.3300395613301899, 0.04459994072029594, 0.017839976288118373, 0.893436191828118, 0.8597233241535951, 0.8228061984735547, 0.14960112699519176, 0.27914946748007324, 0.15563200399331517, 0.0771984146792238, 0.23900629184687686, 0.24827010160838373, 0.15041209770336286, 0.13787775622808263, 0.05953812200758113, 0.36976307352076704, 0.28202268319380536, 0.8622343314444454, 0.00884342904045585, 0.055271431502849064, 0.06411486054330491, 0.00884342904045585, 0.046320569704277184, 0.7447860023503516, 0.059729155671304796, 0.11214453717877634, 0.03778783317980507, 0.9257348717110674, 0.07399554236135004, 0.8879465083362005, 0.9256466704520825, 0.013095986041410993, 0.013095986041410993, 0.013095986041410993, 0.026191972082821986, 0.9429109949815916, 0.06089108137083623, 0.9133662205625434, 0.9781574788804583, 0.028769337614131127, 0.5285401404881773, 0.06788588960398609, 0.2699272277110875, 0.10829415722540638, 0.025861291277708982, 0.8817378072123783, 0.1701498811449291, 0.32927790764079395, 0.06750885972551843, 0.23834760678601405, 0.1942601881897571, 0.03461059658169498, 0.9344861077057643, 0.16017122350601581, 0.8008561175300791, 0.026695203917669302, 0.8712943011879961, 0.11617257349173281, 0.972358912692041, 0.6130779523766481, 0.058822344079381104, 0.2618008553392173, 0.05302295804338578, 0.013255739510846446, 0.7676855712471298, 0.02440076387827063, 0.12575778306493324, 0.06381738245086165, 0.016892836531110435, 0.08055125536729346, 0.013425209227882243, 0.04027562768364673, 0.8592133905844636, 0.09492799479664416, 0.45513422162774597, 0.06892032498934439, 0.11118278842620652, 0.2691793825055526, 0.8992238338052909, 0.9105877061170908, 0.035022604081426566, 0.8908895866250146, 0.016296760730945388, 0.03802577503887257, 0.048890282192836164, 0.010864507153963593, 0.9365369784546513, 0.03468655475757968, 0.03468655475757968, 0.9442197373590264, 0.09572195898609875, 0.8614976308748888, 0.04786097949304938, 0.04607267778200891, 0.24572094817071416, 0.6603750482087943, 0.04607267778200891, 0.015357559260669635, 0.024591775748992427, 0.049183551497984854, 0.024591775748992427, 0.9098957027127197, 0.37440820905443606, 0.2002329616188559, 0.1769181647180302, 0.12685992431331625, 0.12137408974841608, 0.9313197413190449, 0.2732110330666031, 0.23746379509527185, 0.06870897687996136, 0.21889380134393094, 0.20148443220204884, 0.8815220418704914, 0.9330365573877121, 0.034556909532878224, 0.13829802126307741, 0.08890587081197833, 0.01975686018043963, 0.7310038266762663, 0.029635290270659444, 0.9672180727899007, 0.03127115298297158, 0.8755922835232043, 0.06254230596594317, 0.03127115298297158, 0.029525786146629367, 0.14762893073314684, 0.019683857431086246, 0.04920964357771561, 0.7578285110968204, 0.8988083189242062, 0.49678966920708456, 0.11969892817115581, 0.1259576956572293, 0.1670308572845867, 0.09036095558018624, 0.9194880725968637, 0.07072985173822029, 0.9212646636295542, 0.9219836186228225, 0.9226342416855596, 0.8976122679117358, 0.011891732450616477, 0.9275551311480852, 0.03567519735184943, 0.023783464901232954, 0.27781825968076185, 0.1715610766952912, 0.09076134380008953, 0.32984000551739856, 0.12950094176354238, 0.8699706191823973, 0.05395156484614092, 0.05395156484614092, 0.9171766023843957, 0.26984889218989033, 0.43835715237833717, 0.06893519734981915, 0.16025960409530607, 0.06245411041949427, 0.16152599444716984, 0.436802689209248, 0.068250420188945, 0.218401344604624, 0.11488820731805742, 0.2922427225261429, 0.276038059135592, 0.07375915750181809, 0.17098713784512376, 0.18663301973944882, 0.9474379068319864, 0.058462678792968695, 0.8769401818945304, 0.9225136871289087, 0.12927989575235507, 0.6765647877706582, 0.10342391660188406, 0.0603306180177657, 0.03016530900888285, 0.1263835329528332, 0.2481108304810883, 0.0984461204053648, 0.133700474334313, 0.3937844816214592, 0.047098461706133576, 0.047098461706133576, 0.047098461706133576, 0.8477723107104044, 0.047098461706133576, 0.14752657614074008, 0.3591509060529742, 0.06409775377149397, 0.11089928827131497, 0.3184539195313907, 0.08335972531425365, 0.8891704033520389], \"Term\": [\"a.m.\", \"accent\", \"acrylic\", \"adorable\", \"adorable\", \"adore\", \"airline\", \"airline\", \"airline\", \"airport\", \"airport\", \"airport\", \"airport\", \"airport\", \"aisle\", \"amazing\", \"amazing\", \"amazing\", \"amazing\", \"amazing\", \"appetizer\", \"appetizer\", \"appetizer\", \"appetizer\", \"appetizer\", \"appliance\", \"appointment\", \"appointment\", \"appointment\", \"appointment\", \"appointment\", \"approve\", \"area\", \"area\", \"area\", \"area\", \"area\", \"arrogant\", \"ask\", \"ask\", \"ask\", \"ask\", \"ask\", \"atmosphere\", \"atmosphere\", \"atmosphere\", \"atmosphere\", \"atmosphere\", \"audience\", \"audience\", \"avocado\", \"avocado\", \"awesome\", \"awesome\", \"awesome\", \"awesome\", \"awesome\", \"awsome\", \"bad\", \"bad\", \"bad\", \"bad\", \"bad\", \"bagel\", \"bagel\", \"bagel\", \"bagel\", \"balloon\", \"balloon\", \"bar\", \"bar\", \"bar\", \"bar\", \"bar\", \"bartender\", \"bartender\", \"bartender\", \"bartender\", \"bartender\", \"bbq\", \"bbq\", \"bbq\", \"bbq\", \"bbq\", \"beef\", \"beef\", \"beef\", \"beef\", \"beef\", \"beer\", \"beer\", \"beer\", \"beer\", \"beer\", \"bit\", \"bit\", \"bit\", \"bit\", \"bit\", \"bitterness\", \"bitterness\", \"bitterness\", \"blt\", \"bold\", \"bold\", \"bone\", \"bone\", \"bone\", \"bone\", \"bone\", \"bouncer\", \"bouncer\", \"braise\", \"braise\", \"bread\", \"bread\", \"bread\", \"bread\", \"bread\", \"breakfast\", \"breakfast\", \"breakfast\", \"breakfast\", \"breakfast\", \"brewery\", \"brewery\", \"bridal\", \"brisket\", \"brisket\", \"brisket\", \"brisket\", \"brisket\", \"brussel\", \"buffet\", \"buffet\", \"buffet\", \"buffet\", \"buffet\", \"bum\", \"burger\", \"burger\", \"burger\", \"burger\", \"burger\", \"cabbage\", \"cabbage\", \"cabbage\", \"cajun\", \"cajun\", \"cake\", \"cake\", \"cake\", \"cake\", \"cake\", \"call\", \"call\", \"call\", \"call\", \"call\", \"calzone\", \"campus\", \"canal\", \"canal\", \"canal\", \"canal\", \"capable\", \"car\", \"car\", \"car\", \"car\", \"car\", \"care\", \"care\", \"care\", \"care\", \"care\", \"cat\", \"cat\", \"cat\", \"cat\", \"cat\", \"cavity\", \"chase\", \"check\", \"check\", \"check\", \"check\", \"check\", \"cheese\", \"cheese\", \"cheese\", \"cheese\", \"cheese\", \"cheesesteak\", \"chicken\", \"chicken\", \"chicken\", \"chicken\", \"chicken\", \"chill\", \"chill\", \"chill\", \"chill\", \"chive\", \"chorizo\", \"chunky\", \"cirque\", \"clean\", \"clean\", \"clean\", \"clean\", \"clean\", \"client\", \"client\", \"client\", \"client\", \"client\", \"closet\", \"clothe\", \"clothe\", \"clothe\", \"clothe\", \"clothe\", \"clutter\", \"coffee\", \"coffee\", \"coffee\", \"coffee\", \"coffee\", \"color\", \"color\", \"color\", \"color\", \"color\", \"come\", \"come\", \"come\", \"come\", \"come\", \"company\", \"company\", \"company\", \"company\", \"company\", \"concoction\", \"consultation\", \"consultation\", \"contractor\", \"contractor\", \"cook\", \"cook\", \"cook\", \"cook\", \"cook\", \"cookie\", \"cookie\", \"cookie\", \"cookie\", \"cookie\", \"cramp\", \"cramp\", \"cramp\", \"cream\", \"cream\", \"cream\", \"cream\", \"cream\", \"crown\", \"crown\", \"crown\", \"crown\", \"crust\", \"crust\", \"crust\", \"crust\", \"crust\", \"cr\\u00eape\", \"cupcake\", \"cupcake\", \"cupcake\", \"cupcake\", \"cupcake\", \"curly\", \"customer\", \"customer\", \"customer\", \"customer\", \"customer\", \"customize\", \"cut\", \"cut\", \"cut\", \"cut\", \"cut\", \"dance\", \"dance\", \"dance\", \"dance\", \"dance\", \"day\", \"day\", \"day\", \"day\", \"day\", \"death\", \"death\", \"dedicated\", \"definitely\", \"definitely\", \"definitely\", \"definitely\", \"definitely\", \"delicious\", \"delicious\", \"delicious\", \"delicious\", \"delicious\", \"desperate\", \"dessert\", \"dessert\", \"dessert\", \"dessert\", \"dessert\", \"diamond\", \"diamond\", \"diamond\", \"diamond\", \"dish\", \"dish\", \"dish\", \"dish\", \"dish\", \"dismissive\", \"doctor\", \"doctor\", \"doctor\", \"doctor\", \"doctor\", \"dog\", \"dog\", \"dog\", \"dog\", \"dog\", \"donation\", \"donut\", \"donut\", \"donut\", \"donut\", \"drink\", \"drink\", \"drink\", \"drink\", \"drink\", \"drive\", \"drive\", \"drive\", \"drive\", \"drive\", \"dryer\", \"dryer\", \"dryer\", \"earl\", \"eat\", \"eat\", \"eat\", \"eat\", \"eat\", \"egg\", \"egg\", \"egg\", \"egg\", \"egg\", \"employee\", \"employee\", \"employee\", \"employee\", \"employee\", \"enchilada\", \"enchiladas\", \"enterprise\", \"entertain\", \"entertain\", \"entertain\", \"entertain\", \"entertain\", \"entree\", \"entree\", \"entree\", \"entree\", \"entree\", \"escrow\", \"experience\", \"experience\", \"experience\", \"experience\", \"experience\", \"extension\", \"extension\", \"facial\", \"facial\", \"facial\", \"facial\", \"facial\", \"fav\", \"fav\", \"feel\", \"feel\", \"feel\", \"feel\", \"feel\", \"fianc\\u00e9\", \"fianc\\u00e9\", \"fianc\\u00e9\", \"fianc\\u00e9\", \"finally\", \"finally\", \"finally\", \"finally\", \"finally\", \"financial\", \"financial\", \"find\", \"find\", \"find\", \"find\", \"find\", \"fix\", \"fix\", \"fix\", \"fix\", \"fix\", \"flavor\", \"flavor\", \"flavor\", \"flavor\", \"flavor\", \"flavour\", \"flavour\", \"flavour\", \"flavour\", \"flavour\", \"fluffy\", \"fluffy\", \"fluffy\", \"fluffy\", \"fluffy\", \"fly\", \"fly\", \"fly\", \"fly\", \"fly\", \"food\", \"food\", \"food\", \"food\", \"food\", \"freezer\", \"fresh\", \"fresh\", \"fresh\", \"fresh\", \"fresh\", \"friday\", \"friend\", \"friend\", \"friend\", \"friend\", \"friend\", \"friendly\", \"friendly\", \"friendly\", \"friendly\", \"friendly\", \"frog\", \"frosting\", \"frosting\", \"fruit\", \"fruit\", \"fruit\", \"fruit\", \"fruit\", \"frustration\", \"fry\", \"fry\", \"fry\", \"fry\", \"fry\", \"fucking\", \"fusion\", \"fusion\", \"gaming\", \"gaming\", \"gel\", \"gel\", \"gel\", \"gel\", \"gel\", \"get\", \"get\", \"get\", \"get\", \"get\", \"gift\", \"gift\", \"gift\", \"gift\", \"gift\", \"go\", \"go\", \"go\", \"go\", \"go\", \"good\", \"good\", \"good\", \"good\", \"good\", \"graduation\", \"great\", \"great\", \"great\", \"great\", \"great\", \"grocery\", \"grocery\", \"grocery\", \"grocery\", \"grocery\", \"grub\", \"guest\", \"guest\", \"guest\", \"guest\", \"guest\", \"gumbo\", \"guy\", \"guy\", \"guy\", \"guy\", \"guy\", \"hair\", \"hair\", \"hair\", \"hair\", \"hair\", \"heartbeat\", \"horrible\", \"horrible\", \"horrible\", \"horrible\", \"horrible\", \"hotdog\", \"hour\", \"hour\", \"hour\", \"hour\", \"hour\", \"humor\", \"ice\", \"ice\", \"ice\", \"ice\", \"ice\", \"iffy\", \"inspection\", \"install\", \"install\", \"install\", \"installer\", \"instruct\", \"instruct\", \"insurance\", \"insurance\", \"insurance\", \"insurance\", \"insurance\", \"interactive\", \"interactive\", \"invoice\", \"ipad\", \"job\", \"job\", \"job\", \"job\", \"job\", \"juice\", \"juice\", \"juice\", \"juice\", \"juice\", \"knot\", \"know\", \"know\", \"know\", \"know\", \"know\", \"korean\", \"korean\", \"korean\", \"korean\", \"korean\", \"kudo\", \"kudo\", \"lash\", \"lash\", \"later\", \"later\", \"later\", \"later\", \"later\", \"leave\", \"leave\", \"leave\", \"leave\", \"leave\", \"lebanese\", \"legal\", \"legal\", \"lense\", \"like\", \"like\", \"like\", \"like\", \"like\", \"lil\", \"little\", \"little\", \"little\", \"little\", \"little\", \"lobby\", \"lobby\", \"lobby\", \"lobby\", \"lobby\", \"location\", \"location\", \"location\", \"location\", \"location\", \"look\", \"look\", \"look\", \"look\", \"look\", \"lot\", \"lot\", \"lot\", \"lot\", \"lot\", \"love\", \"love\", \"love\", \"love\", \"love\", \"lunch\", \"lunch\", \"lunch\", \"lunch\", \"lunch\", \"male\", \"male\", \"manager\", \"manager\", \"manager\", \"manager\", \"manager\", \"manicure\", \"manicure\", \"manicure\", \"manicure\", \"margarita\", \"marry\", \"massage\", \"massage\", \"massage\", \"massage\", \"meal\", \"meal\", \"meal\", \"meal\", \"meal\", \"meat\", \"meat\", \"meat\", \"meat\", \"meat\", \"menu\", \"menu\", \"menu\", \"menu\", \"menu\", \"merchandise\", \"merchandise\", \"milk\", \"milk\", \"milk\", \"milk\", \"milk\", \"mimosa\", \"minute\", \"minute\", \"minute\", \"minute\", \"minute\", \"mop\", \"mop\", \"mug\", \"museum\", \"museum\", \"museum\", \"naan\", \"naan\", \"naan\", \"naan\", \"nacho\", \"nail\", \"nail\", \"nail\", \"nail\", \"nail\", \"need\", \"need\", \"need\", \"need\", \"need\", \"new\", \"new\", \"new\", \"new\", \"new\", \"nice\", \"nice\", \"nice\", \"nice\", \"nice\", \"night\", \"night\", \"night\", \"night\", \"night\", \"noir\", \"noodle\", \"noodle\", \"noodle\", \"noodle\", \"noodle\", \"office\", \"office\", \"office\", \"office\", \"office\", \"onion\", \"onion\", \"onion\", \"onion\", \"onion\", \"order\", \"order\", \"order\", \"order\", \"order\", \"overnight\", \"overrate\", \"pain\", \"pain\", \"pain\", \"pain\", \"pain\", \"painting\", \"painting\", \"painting\", \"passenger\", \"patient\", \"patient\", \"patient\", \"patient\", \"patient\", \"patronize\", \"pay\", \"pay\", \"pay\", \"pay\", \"pay\", \"pedicure\", \"pedicure\", \"pedicure\", \"pedicure\", \"people\", \"people\", \"people\", \"people\", \"people\", \"pepperoni\", \"pepperoni\", \"personalized\", \"phone\", \"phone\", \"phone\", \"phone\", \"phone\", \"photographer\", \"photographer\", \"physician\", \"pickup\", \"pickup\", \"pickup\", \"pico\", \"pizza\", \"pizza\", \"pizza\", \"pizza\", \"pizza\", \"place\", \"place\", \"place\", \"place\", \"place\", \"plumbing\", \"plumbing\", \"plumbing\", \"plumbing\", \"plumbing\", \"polish\", \"polish\", \"polish\", \"polish\", \"polish\", \"pool\", \"pool\", \"pool\", \"pool\", \"pool\", \"potato\", \"potato\", \"potato\", \"potato\", \"potato\", \"pregnancy\", \"pretty\", \"pretty\", \"pretty\", \"pretty\", \"pretty\", \"price\", \"price\", \"price\", \"price\", \"price\", \"procedure\", \"procedure\", \"procedure\", \"professional\", \"professional\", \"professional\", \"professional\", \"professional\", \"project\", \"project\", \"project\", \"promotion\", \"pudding\", \"pudding\", \"pudding\", \"pudding\", \"pudding\", \"quesadilla\", \"quesadilla\", \"quesadilla\", \"queso\", \"queso\", \"queso\", \"quinoa\", \"quinoa\", \"rail\", \"raman\", \"raman\", \"raman\", \"raman\", \"raman\", \"ranchero\", \"reccomend\", \"recommend\", \"recommend\", \"recommend\", \"recommend\", \"recommend\", \"refund\", \"refund\", \"refund\", \"refund\", \"refund\", \"renovate\", \"renovate\", \"repair\", \"repair\", \"repair\", \"repair\", \"repair\", \"resource\", \"restaurant\", \"restaurant\", \"restaurant\", \"restaurant\", \"restaurant\", \"result\", \"result\", \"result\", \"result\", \"result\", \"rib\", \"rib\", \"rib\", \"rib\", \"rib\", \"rice\", \"rice\", \"rice\", \"rice\", \"rice\", \"roach\", \"room\", \"room\", \"room\", \"room\", \"room\", \"roti\", \"rude\", \"rude\", \"rude\", \"rude\", \"rude\", \"rum\", \"rustic\", \"rustic\", \"salad\", \"salad\", \"salad\", \"salad\", \"salad\", \"salon\", \"salon\", \"salon\", \"salon\", \"salon\", \"salsa\", \"salsa\", \"salsa\", \"salsa\", \"salsa\", \"sampling\", \"sandwich\", \"sandwich\", \"sandwich\", \"sandwich\", \"sandwich\", \"sauce\", \"sauce\", \"sauce\", \"sauce\", \"sauce\", \"say\", \"say\", \"say\", \"say\", \"say\", \"schedule\", \"schedule\", \"schedule\", \"schedule\", \"schedule\", \"service\", \"service\", \"service\", \"service\", \"service\", \"serving\", \"serving\", \"serving\", \"session\", \"session\", \"session\", \"session\", \"sever\", \"shop\", \"shop\", \"shop\", \"shop\", \"shop\", \"situation\", \"situation\", \"situation\", \"situation\", \"situation\", \"slider\", \"slider\", \"slider\", \"slider\", \"small\", \"small\", \"small\", \"small\", \"small\", \"smokey\", \"solve\", \"solve\", \"solve\", \"soup\", \"soup\", \"soup\", \"soup\", \"soup\", \"spa\", \"spa\", \"spa\", \"spa\", \"spa\", \"specially\", \"speedy\", \"spell\", \"spicy\", \"spicy\", \"spicy\", \"spicy\", \"spicy\", \"spider\", \"sponge\", \"square\", \"square\", \"staff\", \"staff\", \"staff\", \"staff\", \"staff\", \"stay\", \"stay\", \"stay\", \"stay\", \"stay\", \"steak\", \"steak\", \"steak\", \"steak\", \"steak\", \"store\", \"store\", \"store\", \"store\", \"store\", \"stout\", \"stretch\", \"stretch\", \"stunning\", \"stylist\", \"stylist\", \"stylist\", \"stylist\", \"stylist\", \"sucker\", \"sucker\", \"surgery\", \"surgery\", \"sweet\", \"sweet\", \"sweet\", \"sweet\", \"sweet\", \"tactic\", \"take\", \"take\", \"take\", \"take\", \"take\", \"talented\", \"talented\", \"tamale\", \"tamale\", \"tamale\", \"tart\", \"tart\", \"tartar\", \"taste\", \"taste\", \"taste\", \"taste\", \"taste\", \"tasty\", \"tasty\", \"tasty\", \"tasty\", \"tasty\", \"technician\", \"technician\", \"technician\", \"technician\", \"tell\", \"tell\", \"tell\", \"tell\", \"tell\", \"teller\", \"tenant\", \"tenant\", \"tender\", \"tender\", \"tender\", \"tender\", \"tender\", \"teriyaki\", \"teriyaki\", \"teriyaki\", \"testing\", \"texte\", \"texte\", \"texte\", \"theater\", \"theater\", \"theater\", \"theater\", \"theater\", \"therapist\", \"therapist\", \"therapist\", \"therapist\", \"think\", \"think\", \"think\", \"think\", \"think\", \"thrive\", \"time\", \"time\", \"time\", \"time\", \"time\", \"tin\", \"tongue\", \"tongue\", \"tour\", \"tour\", \"tour\", \"tour\", \"tour\", \"toy\", \"trail\", \"trail\", \"trail\", \"trail\", \"treatment\", \"treatment\", \"treatment\", \"treatment\", \"treatment\", \"trustworthy\", \"try\", \"try\", \"try\", \"try\", \"try\", \"twist\", \"twist\", \"uni\", \"unorganized\", \"uptown\", \"verify\", \"vet\", \"vet\", \"vet\", \"vet\", \"visit\", \"visit\", \"visit\", \"visit\", \"visit\", \"volcano\", \"voucher\", \"voucher\", \"voucher\", \"wait\", \"wait\", \"wait\", \"wait\", \"wait\", \"walk\", \"walk\", \"walk\", \"walk\", \"walk\", \"want\", \"want\", \"want\", \"want\", \"want\", \"watermelon\", \"waxing\", \"waxing\", \"weigh\", \"window\", \"window\", \"window\", \"window\", \"window\", \"work\", \"work\", \"work\", \"work\", \"work\", \"wynn\", \"wynn\", \"wynn\", \"wynn\", \"wynn\", \"year\", \"year\", \"year\", \"year\", \"year\", \"yoga\", \"yoga\"]}, \"R\": 30, \"lambda.step\": 0.01, \"plot.opts\": {\"xlab\": \"PC1\", \"ylab\": \"PC2\"}, \"topic.order\": [1, 2, 3, 4, 5]};\n",
       "\n",
       "function LDAvis_load_lib(url, callback){\n",
       "  var s = document.createElement('script');\n",
       "  s.src = url;\n",
       "  s.async = true;\n",
       "  s.onreadystatechange = s.onload = callback;\n",
       "  s.onerror = function(){console.warn(\"failed to load library \" + url);};\n",
       "  document.getElementsByTagName(\"head\")[0].appendChild(s);\n",
       "}\n",
       "\n",
       "if(typeof(LDAvis) !== \"undefined\"){\n",
       "   // already loaded: just create the visualization\n",
       "   !function(LDAvis){\n",
       "       new LDAvis(\"#\" + \"ldavis_el4696140508535103920450743084\", ldavis_el4696140508535103920450743084_data);\n",
       "   }(LDAvis);\n",
       "}else if(typeof define === \"function\" && define.amd){\n",
       "   // require.js is available: use it to load d3/LDAvis\n",
       "   require.config({paths: {d3: \"https://cdnjs.cloudflare.com/ajax/libs/d3/3.5.5/d3.min\"}});\n",
       "   require([\"d3\"], function(d3){\n",
       "      window.d3 = d3;\n",
       "      LDAvis_load_lib(\"https://cdn.rawgit.com/bmabey/pyLDAvis/files/ldavis.v1.0.0.js\", function(){\n",
       "        new LDAvis(\"#\" + \"ldavis_el4696140508535103920450743084\", ldavis_el4696140508535103920450743084_data);\n",
       "      });\n",
       "    });\n",
       "}else{\n",
       "    // require.js not available: dynamically load d3 & LDAvis\n",
       "    LDAvis_load_lib(\"https://cdnjs.cloudflare.com/ajax/libs/d3/3.5.5/d3.min.js\", function(){\n",
       "         LDAvis_load_lib(\"https://cdn.rawgit.com/bmabey/pyLDAvis/files/ldavis.v1.0.0.js\", function(){\n",
       "                 new LDAvis(\"#\" + \"ldavis_el4696140508535103920450743084\", ldavis_el4696140508535103920450743084_data);\n",
       "            })\n",
       "         });\n",
       "}\n",
       "</script>"
      ],
      "text/plain": [
       "PreparedData(topic_coordinates=              x         y  topics  cluster       Freq\n",
       "topic                                                \n",
       "0     -0.108242 -0.026728       1        1  34.075640\n",
       "1      0.064761  0.016044       2        1  21.947126\n",
       "2     -0.070654  0.059080       3        1  12.046026\n",
       "3      0.000896 -0.050937       4        1  16.088597\n",
       "4      0.113238  0.002541       5        1  15.842611, topic_info=         Term         Freq        Total Category  logprob  loglift\n",
       "121      food  4972.000000  4972.000000  Default  30.0000  30.0000\n",
       "177     great  4237.000000  4237.000000  Default  29.0000  29.0000\n",
       "1002  chicken  1269.000000  1269.000000  Default  28.0000  28.0000\n",
       "35       good  6470.000000  6470.000000  Default  27.0000  27.0000\n",
       "590     taste  1207.000000  1207.000000  Default  26.0000  26.0000\n",
       "...       ...          ...          ...      ...      ...      ...\n",
       "263      want   333.917846  1789.608294   Topic5  -5.3326   0.1636\n",
       "32       come   406.708693  3924.951161   Topic5  -5.1354  -0.4245\n",
       "112     place   380.790559  5304.537192   Topic5  -5.2013  -0.7916\n",
       "130     price   309.100525  1781.587254   Topic5  -5.4099   0.0909\n",
       "343      take   281.545671  1451.661314   Topic5  -5.5032   0.2023\n",
       "\n",
       "[465 rows x 6 columns], token_table=      Topic      Freq      Term\n",
       "term                           \n",
       "2602      2  0.972519      a.m.\n",
       "3571      1  0.941450    accent\n",
       "7555      4  0.963582   acrylic\n",
       "1599      4  0.875539  adorable\n",
       "1599      5  0.058369  adorable\n",
       "...     ...       ...       ...\n",
       "100       3  0.064098      year\n",
       "100       4  0.110899      year\n",
       "100       5  0.318454      year\n",
       "6015      1  0.083360      yoga\n",
       "6015      2  0.889170      yoga\n",
       "\n",
       "[1219 rows x 3 columns], R=30, lambda_step=0.01, plot_opts={'xlab': 'PC1', 'ylab': 'PC2'}, topic_order=[1, 2, 3, 4, 5])"
      ]
     },
     "execution_count": 18,
     "metadata": {},
     "output_type": "execute_result"
    }
   ],
   "source": [
    "import seaborn as sns\n",
    "import matplotlib.pyplot as plt\n",
    "\n",
    "# Use pyLDAvis (or a ploting tool of your choice) to visualize your results \n",
    "\n",
    "# YOUR CODE HERE\n",
    "import pyLDAvis\n",
    "import pyLDAvis.gensim \n",
    "\n",
    "pyLDAvis.enable_notebook()\n",
    "# sort_topics=False => Retain gensim's topic ordering so that the\n",
    "# output of lda.show_topics() can be matched with the pyLDAvis\n",
    "# diagram.\n",
    "vis = pyLDAvis.gensim.prepare(lda, corpus, id2word, sort_topics=False)\n",
    "vis"
   ]
  },
  {
   "cell_type": "markdown",
   "metadata": {
    "deletable": false,
    "editable": false,
    "nbgrader": {
     "cell_type": "markdown",
     "checksum": "f44a26c754500ff0bf585296075bf754",
     "grade": false,
     "grade_id": "cell-bf9e63d9645bba84",
     "locked": true,
     "points": 0,
     "schema_version": 3,
     "solution": false,
     "task": true
    }
   },
   "source": [
    "#### 3. In markdown, write 1-2 paragraphs of analysis on the results of your topic model"
   ]
  },
  {
   "cell_type": "markdown",
   "metadata": {},
   "source": []
  },
  {
   "cell_type": "markdown",
   "metadata": {},
   "source": [
    "## Stretch Goals\n",
    "\n",
    "Complete one of more of these to push your score towards a three: \n",
    "* Incorporate named entity recognition into your analysis\n",
    "* Compare vectorization methods in the classification section\n",
    "* Analyze more (or all) of the yelp dataset - this one is v. hard. \n",
    "* Use a generator object on the reviews file - this would help you with the analyzing the whole dataset.\n",
    "* Incorporate any of the other yelp dataset entities in your analysis (business, users, etc.)"
   ]
  },
  {
   "cell_type": "code",
   "execution_count": null,
   "metadata": {},
   "outputs": [],
   "source": []
  }
 ],
 "metadata": {
  "kernel_info": {
   "name": "u4-s1-nlp"
  },
  "kernelspec": {
   "display_name": "U4-S1-NLP (Python3)",
   "language": "python",
   "name": "u4-s1-nlp"
  },
  "language_info": {
   "codemirror_mode": {
    "name": "ipython",
    "version": 3
   },
   "file_extension": ".py",
   "mimetype": "text/x-python",
   "name": "python",
   "nbconvert_exporter": "python",
   "pygments_lexer": "ipython3",
   "version": "3.7.0"
  },
  "nteract": {
   "version": "0.15.0"
  },
  "toc-autonumbering": false
 },
 "nbformat": 4,
 "nbformat_minor": 4
}
