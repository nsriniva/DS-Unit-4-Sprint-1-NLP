{
 "cells": [
  {
   "cell_type": "markdown",
   "metadata": {},
   "source": [
    "<img align=\"left\" src=\"https://lever-client-logos.s3.amazonaws.com/864372b1-534c-480e-acd5-9711f850815c-1524247202159.png\" width=200>\n",
    "<br></br>\n",
    "\n",
    "# Vector Representations\n",
    "## *Data Science Unit 4 Sprint 2 Assignment 2*"
   ]
  },
  {
   "cell_type": "code",
   "execution_count": 1,
   "metadata": {
    "colab": {
     "base_uri": "https://localhost:8080/",
     "height": 159
    },
    "colab_type": "code",
    "id": "hyj-f9FDcVFp",
    "outputId": "5dd045fe-6e4c-458c-e2fc-253c3da9c805"
   },
   "outputs": [],
   "source": [
    "import re\n",
    "import string\n",
    "\n",
    "from sklearn.feature_extraction.text import CountVectorizer, TfidfVectorizer\n",
    "import matplotlib.pyplot as plt\n",
    "import pandas as pd\n",
    "import numpy as np\n",
    "import spacy\n",
    "\n",
    "from bs4 import BeautifulSoup\n",
    "import requests"
   ]
  },
  {
   "cell_type": "markdown",
   "metadata": {
    "colab_type": "text",
    "id": "M7bcmqfGXrFG"
   },
   "source": [
    "## 1) *Clean:* Job Listings from indeed.com that contain the title \"Data Scientist\" \n",
    "\n",
    "You have `job_listings.csv` in the data folder for this module. The text data in the description column is still messy - full of html tags. Use the [BeautifulSoup](https://www.crummy.com/software/BeautifulSoup/bs4/doc/) library to clean up this column. You will need to read through the documentation to accomplish this task. "
   ]
  },
  {
   "cell_type": "code",
   "execution_count": 2,
   "metadata": {
    "colab": {},
    "colab_type": "code",
    "id": "KcYlc1URXhlC"
   },
   "outputs": [
    {
     "data": {
      "text/plain": [
       "(426, 2)"
      ]
     },
     "metadata": {},
     "output_type": "display_data"
    },
    {
     "data": {
      "text/html": [
       "<div>\n",
       "<style scoped>\n",
       "    .dataframe tbody tr th:only-of-type {\n",
       "        vertical-align: middle;\n",
       "    }\n",
       "\n",
       "    .dataframe tbody tr th {\n",
       "        vertical-align: top;\n",
       "    }\n",
       "\n",
       "    .dataframe thead th {\n",
       "        text-align: right;\n",
       "    }\n",
       "</style>\n",
       "<table border=\"1\" class=\"dataframe\">\n",
       "  <thead>\n",
       "    <tr style=\"text-align: right;\">\n",
       "      <th></th>\n",
       "      <th>description</th>\n",
       "      <th>title</th>\n",
       "    </tr>\n",
       "  </thead>\n",
       "  <tbody>\n",
       "    <tr>\n",
       "      <th>0</th>\n",
       "      <td>b\"&lt;div&gt;&lt;div&gt;Job Requirements:&lt;/div&gt;&lt;ul&gt;&lt;li&gt;&lt;p&gt;...</td>\n",
       "      <td>Data scientist</td>\n",
       "    </tr>\n",
       "    <tr>\n",
       "      <th>1</th>\n",
       "      <td>b'&lt;div&gt;Job Description&lt;br/&gt;\\n&lt;br/&gt;\\n&lt;p&gt;As a Da...</td>\n",
       "      <td>Data Scientist I</td>\n",
       "    </tr>\n",
       "    <tr>\n",
       "      <th>2</th>\n",
       "      <td>b'&lt;div&gt;&lt;p&gt;As a Data Scientist you will be work...</td>\n",
       "      <td>Data Scientist - Entry Level</td>\n",
       "    </tr>\n",
       "    <tr>\n",
       "      <th>3</th>\n",
       "      <td>b'&lt;div class=\"jobsearch-JobMetadataHeader icl-...</td>\n",
       "      <td>Data Scientist</td>\n",
       "    </tr>\n",
       "    <tr>\n",
       "      <th>4</th>\n",
       "      <td>b'&lt;ul&gt;&lt;li&gt;Location: USA \\xe2\\x80\\x93 multiple ...</td>\n",
       "      <td>Data Scientist</td>\n",
       "    </tr>\n",
       "  </tbody>\n",
       "</table>\n",
       "</div>"
      ],
      "text/plain": [
       "                                         description  \\\n",
       "0  b\"<div><div>Job Requirements:</div><ul><li><p>...   \n",
       "1  b'<div>Job Description<br/>\\n<br/>\\n<p>As a Da...   \n",
       "2  b'<div><p>As a Data Scientist you will be work...   \n",
       "3  b'<div class=\"jobsearch-JobMetadataHeader icl-...   \n",
       "4  b'<ul><li>Location: USA \\xe2\\x80\\x93 multiple ...   \n",
       "\n",
       "                          title  \n",
       "0               Data scientist   \n",
       "1              Data Scientist I  \n",
       "2  Data Scientist - Entry Level  \n",
       "3                Data Scientist  \n",
       "4                Data Scientist  "
      ]
     },
     "metadata": {},
     "output_type": "display_data"
    },
    {
     "data": {
      "text/plain": [
       "(426, 3)"
      ]
     },
     "metadata": {},
     "output_type": "display_data"
    },
    {
     "data": {
      "text/html": [
       "<div>\n",
       "<style scoped>\n",
       "    .dataframe tbody tr th:only-of-type {\n",
       "        vertical-align: middle;\n",
       "    }\n",
       "\n",
       "    .dataframe tbody tr th {\n",
       "        vertical-align: top;\n",
       "    }\n",
       "\n",
       "    .dataframe thead th {\n",
       "        text-align: right;\n",
       "    }\n",
       "</style>\n",
       "<table border=\"1\" class=\"dataframe\">\n",
       "  <thead>\n",
       "    <tr style=\"text-align: right;\">\n",
       "      <th></th>\n",
       "      <th>description</th>\n",
       "      <th>title</th>\n",
       "      <th>text_description</th>\n",
       "    </tr>\n",
       "  </thead>\n",
       "  <tbody>\n",
       "    <tr>\n",
       "      <th>0</th>\n",
       "      <td>b\"&lt;div&gt;&lt;div&gt;Job Requirements:&lt;/div&gt;&lt;ul&gt;&lt;li&gt;&lt;p&gt;...</td>\n",
       "      <td>Data scientist</td>\n",
       "      <td>job requirements:\\nconceptual understanding in...</td>\n",
       "    </tr>\n",
       "    <tr>\n",
       "      <th>1</th>\n",
       "      <td>b'&lt;div&gt;Job Description&lt;br/&gt;\\n&lt;br/&gt;\\n&lt;p&gt;As a Da...</td>\n",
       "      <td>Data Scientist I</td>\n",
       "      <td>job description\\n\\nas a data scientist 1, you ...</td>\n",
       "    </tr>\n",
       "    <tr>\n",
       "      <th>2</th>\n",
       "      <td>b'&lt;div&gt;&lt;p&gt;As a Data Scientist you will be work...</td>\n",
       "      <td>Data Scientist - Entry Level</td>\n",
       "      <td>as a data scientist you will be working on con...</td>\n",
       "    </tr>\n",
       "    <tr>\n",
       "      <th>3</th>\n",
       "      <td>b'&lt;div class=\"jobsearch-JobMetadataHeader icl-...</td>\n",
       "      <td>Data Scientist</td>\n",
       "      <td>$4,969 - $6,756 a monthcontractunder the gener...</td>\n",
       "    </tr>\n",
       "    <tr>\n",
       "      <th>4</th>\n",
       "      <td>b'&lt;ul&gt;&lt;li&gt;Location: USA \\xe2\\x80\\x93 multiple ...</td>\n",
       "      <td>Data Scientist</td>\n",
       "      <td>location: usa – multiple locations\\n2+ years o...</td>\n",
       "    </tr>\n",
       "  </tbody>\n",
       "</table>\n",
       "</div>"
      ],
      "text/plain": [
       "                                         description  \\\n",
       "0  b\"<div><div>Job Requirements:</div><ul><li><p>...   \n",
       "1  b'<div>Job Description<br/>\\n<br/>\\n<p>As a Da...   \n",
       "2  b'<div><p>As a Data Scientist you will be work...   \n",
       "3  b'<div class=\"jobsearch-JobMetadataHeader icl-...   \n",
       "4  b'<ul><li>Location: USA \\xe2\\x80\\x93 multiple ...   \n",
       "\n",
       "                          title  \\\n",
       "0               Data scientist    \n",
       "1              Data Scientist I   \n",
       "2  Data Scientist - Entry Level   \n",
       "3                Data Scientist   \n",
       "4                Data Scientist   \n",
       "\n",
       "                                    text_description  \n",
       "0  job requirements:\\nconceptual understanding in...  \n",
       "1  job description\\n\\nas a data scientist 1, you ...  \n",
       "2  as a data scientist you will be working on con...  \n",
       "3  $4,969 - $6,756 a monthcontractunder the gener...  \n",
       "4  location: usa – multiple locations\\n2+ years o...  "
      ]
     },
     "metadata": {},
     "output_type": "display_data"
    },
    {
     "data": {
      "text/plain": [
       "0      job requirements:\\nconceptual understanding in...\n",
       "1      job description\\n\\nas a data scientist 1, you ...\n",
       "2      as a data scientist you will be working on con...\n",
       "3      $4,969 - $6,756 a monthcontractunder the gener...\n",
       "4      location: usa – multiple locations\\n2+ years o...\n",
       "                             ...                        \n",
       "421    about us:\\nwant to be part of a fantastic and ...\n",
       "422    internshipat uber, we ignite opportunity by se...\n",
       "423    $200,000 - $350,000 a yeara million people a y...\n",
       "424    senior data scientist\\njob description\\n\\nabou...\n",
       "425    cerner intelligence is a new, innovative organ...\n",
       "Name: text_description, Length: 426, dtype: object"
      ]
     },
     "metadata": {},
     "output_type": "display_data"
    }
   ],
   "source": [
    "##### Your Code Here #####\n",
    "jobs_df = pd.read_csv('./data/job_listings.csv', usecols=['description', 'title'])\n",
    "display(jobs_df.shape, jobs_df.head())\n",
    "\n",
    "def cleanup_html(html_text):\n",
    "    bs = BeautifulSoup(eval(html_text,{'__builtins__':None}).decode(), 'html.parser')    \n",
    "    return bs.get_text().lower()\n",
    "\n",
    "jobs_df['text_description'] = jobs_df.description.apply(cleanup_html)\n",
    "\n",
    "display(jobs_df.shape, jobs_df.head())\n",
    "display(jobs_df.text_description)\n"
   ]
  },
  {
   "cell_type": "markdown",
   "metadata": {
    "colab_type": "text",
    "id": "5C4xFZNtX1m2"
   },
   "source": [
    "## 2) Use Spacy to tokenize the listings "
   ]
  },
  {
   "cell_type": "code",
   "execution_count": 3,
   "metadata": {
    "colab": {},
    "colab_type": "code",
    "id": "dhUHuMr-X-II"
   },
   "outputs": [],
   "source": [
    "##### Your Code Here #####\n",
    "from spacy import load as sp_load\n",
    "from spacy.tokenizer import Tokenizer\n",
    "\n",
    "nlp = sp_load('en_core_web_lg')\n",
    "\n",
    "tokenizer = Tokenizer(nlp.vocab)\n",
    "\n",
    "STOP_WORDS = ['\\n','\\n\\n','\\n ', '\\n\\n\\n','new','aa','(e.g.', 'you’ll', \"we're\", 'we’re', 'etc.)', 'help','work',]\n",
    "\n",
    "PUNCT = [':',',','/']\n",
    "\n",
    "def tokenize(x):\n",
    "    \n",
    "    def check_token(t):\n",
    "        if t[-1] in PUNCT:\n",
    "            t =  t[:-1]\n",
    "        elif t == 'datum':\n",
    "            t =  'data'\n",
    "        \n",
    "        return t\n",
    "    \n",
    "    doc = tokenizer(x)\n",
    "\n",
    "    tokens = [check_token(token.lemma_).lower() for token in doc if (token.is_stop == False and token.is_punct == False and token.pos_ != 'PRON' and token.text not in STOP_WORDS )]\n",
    "\n",
    "    return tokens\n",
    "\n",
    "jobs_df['tokens'] = jobs_df.text_description.apply(tokenize)\n",
    "\n",
    "\n"
   ]
  },
  {
   "cell_type": "code",
   "execution_count": 4,
   "metadata": {
    "colab": {},
    "colab_type": "code",
    "id": "dhUHuMr-X-II"
   },
   "outputs": [
    {
     "data": {
      "text/plain": [
       "[('data', 4111),\n",
       " ('experience', 1865),\n",
       " ('team', 1174),\n",
       " ('business', 1143),\n",
       " ('science', 918),\n",
       " ('model', 890),\n",
       " ('learn', 819),\n",
       " ('product', 756),\n",
       " ('analysis', 713),\n",
       " ('build', 699),\n",
       " ('machine', 677),\n",
       " ('analytics', 666),\n",
       " ('scientist', 617),\n",
       " ('statistical', 560),\n",
       " ('ability', 537),\n",
       " ('work', 526),\n",
       " ('opportunity', 525),\n",
       " ('include', 494),\n",
       " ('skill', 485),\n",
       " ('technology', 477),\n",
       " ('customer', 468),\n",
       " ('understand', 456),\n",
       " ('analytic', 444),\n",
       " ('solution', 441),\n",
       " ('develop', 425),\n",
       " ('year', 425),\n",
       " ('insight', 417),\n",
       " ('advance', 416),\n",
       " ('knowledge', 407),\n",
       " ('apply', 403),\n",
       " ('support', 402),\n",
       " ('problem', 398),\n",
       " ('drive', 394),\n",
       " ('development', 389),\n",
       " ('technical', 385),\n",
       " ('design', 378),\n",
       " ('company', 378),\n",
       " ('research', 375),\n",
       " ('strong', 374),\n",
       " ('degree', 369),\n",
       " ('provide', 356),\n",
       " ('tool', 349),\n",
       " ('large', 348),\n",
       " ('python', 346),\n",
       " ('project', 345),\n",
       " ('engineer', 321),\n",
       " ('well', 310),\n",
       " ('computer', 310),\n",
       " ('people', 310),\n",
       " ('process', 306)]"
      ]
     },
     "metadata": {},
     "output_type": "display_data"
    }
   ],
   "source": [
    "from collections import Counter\n",
    "# The object `Counter` takes an iterable, but you can instaniate an empty one and update it. \n",
    "word_counts = Counter()\n",
    "\n",
    "# Update it based on the token list for each job description\n",
    "jobs_df.tokens.apply(lambda x: word_counts.update(x))\n",
    "\n",
    "# Print out the 10 most common words\n",
    "display(word_counts.most_common(50))\n",
    "\n",
    "data = [' '.join(datum) for datum in jobs_df.tokens.to_list()]\n"
   ]
  },
  {
   "cell_type": "raw",
   "metadata": {},
   "source": [
    "display(len(data))\n",
    "display(data[:3])"
   ]
  },
  {
   "cell_type": "markdown",
   "metadata": {
    "colab_type": "text",
    "id": "-lgCZNL_YycP"
   },
   "source": [
    "## 3) Use Scikit-Learn's CountVectorizer to get word counts for each listing."
   ]
  },
  {
   "cell_type": "code",
   "execution_count": 5,
   "metadata": {
    "colab": {},
    "colab_type": "code",
    "id": "X2PZ8Pj_YxcF"
   },
   "outputs": [
    {
     "name": "stdout",
     "output_type": "stream",
     "text": [
      "(426, 1511)\n"
     ]
    },
    {
     "data": {
      "text/html": [
       "<div>\n",
       "<style scoped>\n",
       "    .dataframe tbody tr th:only-of-type {\n",
       "        vertical-align: middle;\n",
       "    }\n",
       "\n",
       "    .dataframe tbody tr th {\n",
       "        vertical-align: top;\n",
       "    }\n",
       "\n",
       "    .dataframe thead th {\n",
       "        text-align: right;\n",
       "    }\n",
       "</style>\n",
       "<table border=\"1\" class=\"dataframe\">\n",
       "  <thead>\n",
       "    <tr style=\"text-align: right;\">\n",
       "      <th></th>\n",
       "      <th>000</th>\n",
       "      <th>10</th>\n",
       "      <th>100</th>\n",
       "      <th>12</th>\n",
       "      <th>2019</th>\n",
       "      <th>40</th>\n",
       "      <th>401</th>\n",
       "      <th>401k</th>\n",
       "      <th>500</th>\n",
       "      <th>600</th>\n",
       "      <th>...</th>\n",
       "      <th>write communication</th>\n",
       "      <th>write verbal</th>\n",
       "      <th>www</th>\n",
       "      <th>year</th>\n",
       "      <th>year experience</th>\n",
       "      <th>year professional</th>\n",
       "      <th>year relevant</th>\n",
       "      <th>years</th>\n",
       "      <th>years experience</th>\n",
       "      <th>york</th>\n",
       "    </tr>\n",
       "  </thead>\n",
       "  <tbody>\n",
       "    <tr>\n",
       "      <th>0</th>\n",
       "      <td>0</td>\n",
       "      <td>0</td>\n",
       "      <td>0</td>\n",
       "      <td>0</td>\n",
       "      <td>0</td>\n",
       "      <td>0</td>\n",
       "      <td>0</td>\n",
       "      <td>0</td>\n",
       "      <td>0</td>\n",
       "      <td>0</td>\n",
       "      <td>...</td>\n",
       "      <td>0</td>\n",
       "      <td>0</td>\n",
       "      <td>0</td>\n",
       "      <td>0</td>\n",
       "      <td>0</td>\n",
       "      <td>0</td>\n",
       "      <td>0</td>\n",
       "      <td>0</td>\n",
       "      <td>0</td>\n",
       "      <td>0</td>\n",
       "    </tr>\n",
       "    <tr>\n",
       "      <th>1</th>\n",
       "      <td>0</td>\n",
       "      <td>0</td>\n",
       "      <td>0</td>\n",
       "      <td>0</td>\n",
       "      <td>0</td>\n",
       "      <td>0</td>\n",
       "      <td>0</td>\n",
       "      <td>0</td>\n",
       "      <td>0</td>\n",
       "      <td>0</td>\n",
       "      <td>...</td>\n",
       "      <td>0</td>\n",
       "      <td>0</td>\n",
       "      <td>0</td>\n",
       "      <td>1</td>\n",
       "      <td>0</td>\n",
       "      <td>0</td>\n",
       "      <td>0</td>\n",
       "      <td>0</td>\n",
       "      <td>0</td>\n",
       "      <td>0</td>\n",
       "    </tr>\n",
       "    <tr>\n",
       "      <th>2</th>\n",
       "      <td>0</td>\n",
       "      <td>0</td>\n",
       "      <td>0</td>\n",
       "      <td>0</td>\n",
       "      <td>0</td>\n",
       "      <td>0</td>\n",
       "      <td>0</td>\n",
       "      <td>0</td>\n",
       "      <td>0</td>\n",
       "      <td>0</td>\n",
       "      <td>...</td>\n",
       "      <td>0</td>\n",
       "      <td>0</td>\n",
       "      <td>0</td>\n",
       "      <td>0</td>\n",
       "      <td>0</td>\n",
       "      <td>0</td>\n",
       "      <td>0</td>\n",
       "      <td>0</td>\n",
       "      <td>0</td>\n",
       "      <td>0</td>\n",
       "    </tr>\n",
       "    <tr>\n",
       "      <th>3</th>\n",
       "      <td>0</td>\n",
       "      <td>0</td>\n",
       "      <td>0</td>\n",
       "      <td>0</td>\n",
       "      <td>0</td>\n",
       "      <td>0</td>\n",
       "      <td>0</td>\n",
       "      <td>0</td>\n",
       "      <td>0</td>\n",
       "      <td>0</td>\n",
       "      <td>...</td>\n",
       "      <td>0</td>\n",
       "      <td>0</td>\n",
       "      <td>0</td>\n",
       "      <td>1</td>\n",
       "      <td>0</td>\n",
       "      <td>0</td>\n",
       "      <td>0</td>\n",
       "      <td>0</td>\n",
       "      <td>0</td>\n",
       "      <td>0</td>\n",
       "    </tr>\n",
       "    <tr>\n",
       "      <th>4</th>\n",
       "      <td>0</td>\n",
       "      <td>0</td>\n",
       "      <td>0</td>\n",
       "      <td>0</td>\n",
       "      <td>0</td>\n",
       "      <td>0</td>\n",
       "      <td>0</td>\n",
       "      <td>0</td>\n",
       "      <td>0</td>\n",
       "      <td>0</td>\n",
       "      <td>...</td>\n",
       "      <td>0</td>\n",
       "      <td>0</td>\n",
       "      <td>0</td>\n",
       "      <td>1</td>\n",
       "      <td>0</td>\n",
       "      <td>0</td>\n",
       "      <td>0</td>\n",
       "      <td>0</td>\n",
       "      <td>0</td>\n",
       "      <td>0</td>\n",
       "    </tr>\n",
       "  </tbody>\n",
       "</table>\n",
       "<p>5 rows × 1511 columns</p>\n",
       "</div>"
      ],
      "text/plain": [
       "   000  10  100  12  2019  40  401  401k  500  600  ...  write communication  \\\n",
       "0    0   0    0   0     0   0    0     0    0    0  ...                    0   \n",
       "1    0   0    0   0     0   0    0     0    0    0  ...                    0   \n",
       "2    0   0    0   0     0   0    0     0    0    0  ...                    0   \n",
       "3    0   0    0   0     0   0    0     0    0    0  ...                    0   \n",
       "4    0   0    0   0     0   0    0     0    0    0  ...                    0   \n",
       "\n",
       "   write verbal  www  year  year experience  year professional  year relevant  \\\n",
       "0             0    0     0                0                  0              0   \n",
       "1             0    0     1                0                  0              0   \n",
       "2             0    0     0                0                  0              0   \n",
       "3             0    0     1                0                  0              0   \n",
       "4             0    0     1                0                  0              0   \n",
       "\n",
       "   years  years experience  york  \n",
       "0      0                 0     0  \n",
       "1      0                 0     0  \n",
       "2      0                 0     0  \n",
       "3      0                 0     0  \n",
       "4      0                 0     0  \n",
       "\n",
       "[5 rows x 1511 columns]"
      ]
     },
     "execution_count": 5,
     "metadata": {},
     "output_type": "execute_result"
    }
   ],
   "source": [
    "##### Your Code Here #####\n",
    "from sklearn.feature_extraction.text import CountVectorizer\n",
    "\n",
    "# Learn our Vocab\n",
    "vect = CountVectorizer(stop_words='english',\n",
    "                       ngram_range=(1,2),\n",
    "                       min_df=17,\n",
    "                      )\n",
    "vect.fit(data)\n",
    "\n",
    "# Get sparse dtm (i.e. transform the data)\n",
    "dtm = vect.transform(data)\n",
    "\n",
    "features = vect.get_feature_names()\n",
    "#display(len(features), features)\n",
    "# Convert to dataframe\n",
    "dtm = pd.DataFrame(dtm.todense(), columns=features)\n",
    "print(dtm.shape)\n",
    "dtm.head()"
   ]
  },
  {
   "cell_type": "markdown",
   "metadata": {
    "colab_type": "text",
    "id": "Zo1iH_UeY7_n"
   },
   "source": [
    "## 4) Visualize the most common word counts"
   ]
  },
  {
   "cell_type": "code",
   "execution_count": 6,
   "metadata": {
    "colab": {},
    "colab_type": "code",
    "id": "M5LB00uyZKV5"
   },
   "outputs": [
    {
     "name": "stdout",
     "output_type": "stream",
     "text": [
      "(1511, 5)\n"
     ]
    },
    {
     "data": {
      "text/html": [
       "<div>\n",
       "<style scoped>\n",
       "    .dataframe tbody tr th:only-of-type {\n",
       "        vertical-align: middle;\n",
       "    }\n",
       "\n",
       "    .dataframe tbody tr th {\n",
       "        vertical-align: top;\n",
       "    }\n",
       "\n",
       "    .dataframe thead th {\n",
       "        text-align: right;\n",
       "    }\n",
       "</style>\n",
       "<table border=\"1\" class=\"dataframe\">\n",
       "  <thead>\n",
       "    <tr style=\"text-align: right;\">\n",
       "      <th></th>\n",
       "      <th>word</th>\n",
       "      <th>count</th>\n",
       "      <th>rank</th>\n",
       "      <th>pct_total</th>\n",
       "      <th>cul_pct_total</th>\n",
       "    </tr>\n",
       "  </thead>\n",
       "  <tbody>\n",
       "    <tr>\n",
       "      <th>322</th>\n",
       "      <td>data</td>\n",
       "      <td>4466</td>\n",
       "      <td>1.0</td>\n",
       "      <td>0.036681</td>\n",
       "      <td>0.036681</td>\n",
       "    </tr>\n",
       "    <tr>\n",
       "      <th>527</th>\n",
       "      <td>experience</td>\n",
       "      <td>1989</td>\n",
       "      <td>2.0</td>\n",
       "      <td>0.016336</td>\n",
       "      <td>0.053018</td>\n",
       "    </tr>\n",
       "    <tr>\n",
       "      <th>1372</th>\n",
       "      <td>team</td>\n",
       "      <td>1299</td>\n",
       "      <td>3.0</td>\n",
       "      <td>0.010669</td>\n",
       "      <td>0.063687</td>\n",
       "    </tr>\n",
       "    <tr>\n",
       "      <th>159</th>\n",
       "      <td>business</td>\n",
       "      <td>1254</td>\n",
       "      <td>4.0</td>\n",
       "      <td>0.010300</td>\n",
       "      <td>0.073986</td>\n",
       "    </tr>\n",
       "    <tr>\n",
       "      <th>1206</th>\n",
       "      <td>science</td>\n",
       "      <td>974</td>\n",
       "      <td>5.0</td>\n",
       "      <td>0.008000</td>\n",
       "      <td>0.081986</td>\n",
       "    </tr>\n",
       "  </tbody>\n",
       "</table>\n",
       "</div>"
      ],
      "text/plain": [
       "            word  count  rank  pct_total  cul_pct_total\n",
       "322         data   4466   1.0   0.036681       0.036681\n",
       "527   experience   1989   2.0   0.016336       0.053018\n",
       "1372        team   1299   3.0   0.010669       0.063687\n",
       "159     business   1254   4.0   0.010300       0.073986\n",
       "1206     science    974   5.0   0.008000       0.081986"
      ]
     },
     "execution_count": 6,
     "metadata": {},
     "output_type": "execute_result"
    }
   ],
   "source": [
    "##### Your Code Here #####\n",
    "def count(dtm):\n",
    "    \n",
    "    word_counts = {}\n",
    "    \n",
    "    for word in dtm.columns:\n",
    "        word_counts[word] = dtm[word].sum()\n",
    "    \n",
    "    # build word count dataframe\n",
    "    temp = zip(word_counts.keys(), word_counts.values())\n",
    "    wc = pd.DataFrame(temp, columns = ['word', 'count'])\n",
    "\n",
    "    # rank the the word counts\n",
    "    wc['rank'] = wc['count'].rank(method='first', ascending=False)\n",
    "    total = wc['count'].sum()\n",
    "\n",
    "    # calculate the percent total of each token\n",
    "    wc['pct_total'] = wc['count'].apply(lambda token_count: token_count / total)\n",
    "\n",
    "    # calculate the cumulative percent total of word counts \n",
    "    wc = wc.sort_values(by='rank')\n",
    "    wc['cul_pct_total'] = wc['pct_total'].cumsum()\n",
    "    \n",
    "    return wc\n",
    "    \n",
    "wc  = count(dtm)\n",
    "print(wc.shape)\n",
    "wc.head()"
   ]
  },
  {
   "cell_type": "code",
   "execution_count": 7,
   "metadata": {},
   "outputs": [
    {
     "data": {
      "text/html": [
       "<div>\n",
       "<style scoped>\n",
       "    .dataframe tbody tr th:only-of-type {\n",
       "        vertical-align: middle;\n",
       "    }\n",
       "\n",
       "    .dataframe tbody tr th {\n",
       "        vertical-align: top;\n",
       "    }\n",
       "\n",
       "    .dataframe thead th {\n",
       "        text-align: right;\n",
       "    }\n",
       "</style>\n",
       "<table border=\"1\" class=\"dataframe\">\n",
       "  <thead>\n",
       "    <tr style=\"text-align: right;\">\n",
       "      <th></th>\n",
       "      <th>word</th>\n",
       "      <th>count</th>\n",
       "      <th>rank</th>\n",
       "      <th>pct_total</th>\n",
       "      <th>cul_pct_total</th>\n",
       "    </tr>\n",
       "  </thead>\n",
       "  <tbody>\n",
       "    <tr>\n",
       "      <th>1097</th>\n",
       "      <td>python</td>\n",
       "      <td>447</td>\n",
       "      <td>31.0</td>\n",
       "      <td>0.003671</td>\n",
       "      <td>0.207676</td>\n",
       "    </tr>\n",
       "  </tbody>\n",
       "</table>\n",
       "</div>"
      ],
      "text/plain": [
       "        word  count  rank  pct_total  cul_pct_total\n",
       "1097  python    447  31.0   0.003671       0.207676"
      ]
     },
     "execution_count": 7,
     "metadata": {},
     "output_type": "execute_result"
    }
   ],
   "source": [
    "wc[wc.word == 'python']"
   ]
  },
  {
   "cell_type": "code",
   "execution_count": 8,
   "metadata": {},
   "outputs": [
    {
     "data": {
      "image/png": "[encoded data removed]",
      "text/plain": [
       "<Figure size 432x288 with 1 Axes>"
      ]
     },
     "metadata": {
      "needs_background": "light"
     },
     "output_type": "display_data"
    }
   ],
   "source": [
    "import seaborn as sns\n",
    "\n",
    "# Cumulative Distribution Plot\n",
    "sns.lineplot(x='rank', y='cul_pct_total', data=wc);"
   ]
  },
  {
   "cell_type": "code",
   "execution_count": 9,
   "metadata": {},
   "outputs": [
    {
     "data": {
      "text/plain": [
       "0.37983770287141067"
      ]
     },
     "execution_count": 9,
     "metadata": {},
     "output_type": "execute_result"
    }
   ],
   "source": [
    "wc[wc['rank'] <= 100]['cul_pct_total'].max()"
   ]
  },
  {
   "cell_type": "code",
   "execution_count": 10,
   "metadata": {},
   "outputs": [
    {
     "data": {
      "image/png": "[encoded data removed]",
      "text/plain": [
       "<Figure size 720x720 with 1 Axes>"
      ]
     },
     "metadata": {
      "needs_background": "light"
     },
     "output_type": "display_data"
    }
   ],
   "source": [
    "import squarify\n",
    "import matplotlib.pyplot as plt\n",
    "\n",
    "wc_top36 = wc[wc['rank'] <= 31]\n",
    "\n",
    "plt.figure(figsize=(10,10))\n",
    "\n",
    "squarify.plot(sizes=wc_top36['pct_total'], label=wc_top36['word'], alpha=.8 )\n",
    "plt.axis('off')\n",
    "plt.show()"
   ]
  },
  {
   "cell_type": "markdown",
   "metadata": {
    "colab_type": "text",
    "id": "bwFsTqrVZMYi"
   },
   "source": [
    "## 5) Use Scikit-Learn's tfidfVectorizer to get a TF-IDF feature matrix"
   ]
  },
  {
   "cell_type": "code",
   "execution_count": 11,
   "metadata": {
    "colab": {},
    "colab_type": "code",
    "id": "-gx2gZCbl5Np"
   },
   "outputs": [
    {
     "name": "stdout",
     "output_type": "stream",
     "text": [
      "(426, 1511)\n"
     ]
    },
    {
     "data": {
      "text/html": [
       "<div>\n",
       "<style scoped>\n",
       "    .dataframe tbody tr th:only-of-type {\n",
       "        vertical-align: middle;\n",
       "    }\n",
       "\n",
       "    .dataframe tbody tr th {\n",
       "        vertical-align: top;\n",
       "    }\n",
       "\n",
       "    .dataframe thead th {\n",
       "        text-align: right;\n",
       "    }\n",
       "</style>\n",
       "<table border=\"1\" class=\"dataframe\">\n",
       "  <thead>\n",
       "    <tr style=\"text-align: right;\">\n",
       "      <th></th>\n",
       "      <th>000</th>\n",
       "      <th>10</th>\n",
       "      <th>100</th>\n",
       "      <th>12</th>\n",
       "      <th>2019</th>\n",
       "      <th>40</th>\n",
       "      <th>401</th>\n",
       "      <th>401k</th>\n",
       "      <th>500</th>\n",
       "      <th>600</th>\n",
       "      <th>...</th>\n",
       "      <th>write communication</th>\n",
       "      <th>write verbal</th>\n",
       "      <th>www</th>\n",
       "      <th>year</th>\n",
       "      <th>year experience</th>\n",
       "      <th>year professional</th>\n",
       "      <th>year relevant</th>\n",
       "      <th>years</th>\n",
       "      <th>years experience</th>\n",
       "      <th>york</th>\n",
       "    </tr>\n",
       "  </thead>\n",
       "  <tbody>\n",
       "    <tr>\n",
       "      <th>0</th>\n",
       "      <td>0.0</td>\n",
       "      <td>0.0</td>\n",
       "      <td>0.0</td>\n",
       "      <td>0.0</td>\n",
       "      <td>0.0</td>\n",
       "      <td>0.0</td>\n",
       "      <td>0.0</td>\n",
       "      <td>0.0</td>\n",
       "      <td>0.0</td>\n",
       "      <td>0.0</td>\n",
       "      <td>...</td>\n",
       "      <td>0.0</td>\n",
       "      <td>0.0</td>\n",
       "      <td>0.0</td>\n",
       "      <td>0.000000</td>\n",
       "      <td>0.0</td>\n",
       "      <td>0.0</td>\n",
       "      <td>0.0</td>\n",
       "      <td>0.0</td>\n",
       "      <td>0.0</td>\n",
       "      <td>0.0</td>\n",
       "    </tr>\n",
       "    <tr>\n",
       "      <th>1</th>\n",
       "      <td>0.0</td>\n",
       "      <td>0.0</td>\n",
       "      <td>0.0</td>\n",
       "      <td>0.0</td>\n",
       "      <td>0.0</td>\n",
       "      <td>0.0</td>\n",
       "      <td>0.0</td>\n",
       "      <td>0.0</td>\n",
       "      <td>0.0</td>\n",
       "      <td>0.0</td>\n",
       "      <td>...</td>\n",
       "      <td>0.0</td>\n",
       "      <td>0.0</td>\n",
       "      <td>0.0</td>\n",
       "      <td>0.025103</td>\n",
       "      <td>0.0</td>\n",
       "      <td>0.0</td>\n",
       "      <td>0.0</td>\n",
       "      <td>0.0</td>\n",
       "      <td>0.0</td>\n",
       "      <td>0.0</td>\n",
       "    </tr>\n",
       "    <tr>\n",
       "      <th>2</th>\n",
       "      <td>0.0</td>\n",
       "      <td>0.0</td>\n",
       "      <td>0.0</td>\n",
       "      <td>0.0</td>\n",
       "      <td>0.0</td>\n",
       "      <td>0.0</td>\n",
       "      <td>0.0</td>\n",
       "      <td>0.0</td>\n",
       "      <td>0.0</td>\n",
       "      <td>0.0</td>\n",
       "      <td>...</td>\n",
       "      <td>0.0</td>\n",
       "      <td>0.0</td>\n",
       "      <td>0.0</td>\n",
       "      <td>0.000000</td>\n",
       "      <td>0.0</td>\n",
       "      <td>0.0</td>\n",
       "      <td>0.0</td>\n",
       "      <td>0.0</td>\n",
       "      <td>0.0</td>\n",
       "      <td>0.0</td>\n",
       "    </tr>\n",
       "    <tr>\n",
       "      <th>3</th>\n",
       "      <td>0.0</td>\n",
       "      <td>0.0</td>\n",
       "      <td>0.0</td>\n",
       "      <td>0.0</td>\n",
       "      <td>0.0</td>\n",
       "      <td>0.0</td>\n",
       "      <td>0.0</td>\n",
       "      <td>0.0</td>\n",
       "      <td>0.0</td>\n",
       "      <td>0.0</td>\n",
       "      <td>...</td>\n",
       "      <td>0.0</td>\n",
       "      <td>0.0</td>\n",
       "      <td>0.0</td>\n",
       "      <td>0.037030</td>\n",
       "      <td>0.0</td>\n",
       "      <td>0.0</td>\n",
       "      <td>0.0</td>\n",
       "      <td>0.0</td>\n",
       "      <td>0.0</td>\n",
       "      <td>0.0</td>\n",
       "    </tr>\n",
       "    <tr>\n",
       "      <th>4</th>\n",
       "      <td>0.0</td>\n",
       "      <td>0.0</td>\n",
       "      <td>0.0</td>\n",
       "      <td>0.0</td>\n",
       "      <td>0.0</td>\n",
       "      <td>0.0</td>\n",
       "      <td>0.0</td>\n",
       "      <td>0.0</td>\n",
       "      <td>0.0</td>\n",
       "      <td>0.0</td>\n",
       "      <td>...</td>\n",
       "      <td>0.0</td>\n",
       "      <td>0.0</td>\n",
       "      <td>0.0</td>\n",
       "      <td>0.109697</td>\n",
       "      <td>0.0</td>\n",
       "      <td>0.0</td>\n",
       "      <td>0.0</td>\n",
       "      <td>0.0</td>\n",
       "      <td>0.0</td>\n",
       "      <td>0.0</td>\n",
       "    </tr>\n",
       "  </tbody>\n",
       "</table>\n",
       "<p>5 rows × 1511 columns</p>\n",
       "</div>"
      ],
      "text/plain": [
       "   000   10  100   12  2019   40  401  401k  500  600  ...  \\\n",
       "0  0.0  0.0  0.0  0.0   0.0  0.0  0.0   0.0  0.0  0.0  ...   \n",
       "1  0.0  0.0  0.0  0.0   0.0  0.0  0.0   0.0  0.0  0.0  ...   \n",
       "2  0.0  0.0  0.0  0.0   0.0  0.0  0.0   0.0  0.0  0.0  ...   \n",
       "3  0.0  0.0  0.0  0.0   0.0  0.0  0.0   0.0  0.0  0.0  ...   \n",
       "4  0.0  0.0  0.0  0.0   0.0  0.0  0.0   0.0  0.0  0.0  ...   \n",
       "\n",
       "   write communication  write verbal  www      year  year experience  \\\n",
       "0                  0.0           0.0  0.0  0.000000              0.0   \n",
       "1                  0.0           0.0  0.0  0.025103              0.0   \n",
       "2                  0.0           0.0  0.0  0.000000              0.0   \n",
       "3                  0.0           0.0  0.0  0.037030              0.0   \n",
       "4                  0.0           0.0  0.0  0.109697              0.0   \n",
       "\n",
       "   year professional  year relevant  years  years experience  york  \n",
       "0                0.0            0.0    0.0               0.0   0.0  \n",
       "1                0.0            0.0    0.0               0.0   0.0  \n",
       "2                0.0            0.0    0.0               0.0   0.0  \n",
       "3                0.0            0.0    0.0               0.0   0.0  \n",
       "4                0.0            0.0    0.0               0.0   0.0  \n",
       "\n",
       "[5 rows x 1511 columns]"
      ]
     },
     "execution_count": 11,
     "metadata": {},
     "output_type": "execute_result"
    }
   ],
   "source": [
    "##### Your Code Here #####\n",
    "from sklearn.feature_extraction.text import TfidfVectorizer\n",
    "\n",
    "# Instantiate vectorizer object\n",
    "tfidf = TfidfVectorizer(stop_words='english',\n",
    "                        ngram_range=(1,2),\n",
    "                        min_df=17,\n",
    "                       )\n",
    "\n",
    "# Create a vocabulary and get word counts per document\n",
    "dtm = tfidf.fit_transform(data)\n",
    "\n",
    "features = tfidf.get_feature_names()\n",
    "#display(len(features), features[:50])\n",
    "\n",
    "# Get feature names to use as dataframe column headers\n",
    "dtm = pd.DataFrame(dtm.todense(), columns=features)\n",
    "print(dtm.shape)\n",
    "dtm.head()\n"
   ]
  },
  {
   "cell_type": "code",
   "execution_count": null,
   "metadata": {},
   "outputs": [],
   "source": []
  },
  {
   "cell_type": "markdown",
   "metadata": {},
   "source": [
    "## 6) Create a NearestNeighbor Model. Write the description of your ideal datascience job and query your job listings. "
   ]
  },
  {
   "cell_type": "code",
   "execution_count": 12,
   "metadata": {
    "collapsed": false,
    "inputHidden": false,
    "jupyter": {
     "outputs_hidden": false
    },
    "outputHidden": false
   },
   "outputs": [
    {
     "data": {
      "text/plain": [
       "(array([[0.        , 1.21088956, 1.24959752, 1.25258196, 1.26160022]]),\n",
       " array([[  0, 338, 403, 222, 313]]))"
      ]
     },
     "execution_count": 12,
     "metadata": {},
     "output_type": "execute_result"
    }
   ],
   "source": [
    "##### Your Code Here #####\n",
    "\n",
    "\n",
    "from sklearn.neighbors import NearestNeighbors\n",
    "\n",
    "# Fit on DTM\n",
    "nn = NearestNeighbors(n_neighbors=5, algorithm='kd_tree')\n",
    "nn.fit(dtm)\n",
    "\n",
    "# sample a doc from dtm to use as our query point \n",
    "doc = dtm.iloc[0].values\n",
    "\n",
    "# Query Using kneighbors \n",
    "nn.kneighbors([doc])"
   ]
  },
  {
   "cell_type": "code",
   "execution_count": 13,
   "metadata": {},
   "outputs": [
    {
     "data": {
      "text/plain": [
       "\"job requirements:\\nconceptual understanding in machine learning models like nai¨ve bayes, k-means, svm, apriori, linear/ logistic regression, neural, random forests, decision trees, k-nn along with hands-on experience in at least 2 of them\\nintermediate to expert level coding skills in python/r. (ability to write functions, clean and efficient data manipulation are mandatory for this role)\\nexposure to packages like numpy, scipy, pandas, matplotlib etc in python or ggplot2, dplyr, tidyr in r\\nability to communicate model findings to both technical and non-technical stake holders\\nhands on experience in sql/hive or similar programming language\\nmust show past work via github, kaggle or any other published article\\nmaster's degree in statistics/mathematics/computer science or any other quant specific field.\\napply now\""
      ]
     },
     "execution_count": 13,
     "metadata": {},
     "output_type": "execute_result"
    }
   ],
   "source": [
    "jobs_df.text_description[0]"
   ]
  },
  {
   "cell_type": "code",
   "execution_count": 14,
   "metadata": {},
   "outputs": [
    {
     "data": {
      "text/plain": [
       "\"the fca manufacturing planning and control (mpc) organization is currently seeking a highly skilled, result-oriented data scientist to join our bda (big data & analytics) team at our fca headquarters in auburn hills, michigan. the data scientist position offers the selected candidate an opportunity to be an integral part of a company whose challenge is to use statistical skills, coding experience and domain knowledge to provide key insights to specific problems. this position will develop complex analytic models, ensure actual adoption and value realization of the model, prove the validity of these models and be able to explain his findings to a non-technical audience. the data scientist will drive continuous improvement to the models based on results, feedback, and business requirements changes\\n\\nthe data scientist will first extract the data from various sources or databases, clean, structure, and understand the data. then the candidate will analyze the data to answer specific business-related questions and discover key insights. the candidate will then formulate math models and predictive algorithms in r/python before deploying the results via a web/desktop application or interactive dashboard. the data scientist will also deep dive into many different manufacturing related issues and offer support to cross-functional teams\\n\\nbasic requirements:\\nbachelor's degree in a quantitative related field such as computer science, engineering, statistics, mathematics\\nexperience with a variety of machine learning algorithms (decision trees, linear/logistic regression, k-nearest neighbors, neural networks, etc.)\\nknowledge of advanced statistical techniques and concepts (correlation analysis, t-test, f-test, anova, etc.)\\n2+ years of experience with r, python, excel, and sql\\n2+ years of experience with one or more visualization tools: qlikview, qliksense. tableau, or powerbi\\n2+ years of hands-on experience in data mining and cleansing\\npassionate about data, data analysis, and application of analysis for decision-making\\nexcellent written and verbal communication skills\\npossess intellectual curiosity to identify new modeling technologies/methodologies/software packages to improve the current modeling processes\\n\\npreferred qualifications:\\nautomotive and manufacturing experience\\nknowledge and experience of palantir technologies\\nexperience working with and creating data architectures\\ndriven to learn and master new technologies and techniques\\n\\nour benefits reflects the fca commitment to helping you reach your personal and professional goals. in addition to an environment that promotes career development, we offer benefits for a healthy lifestyle and a rewarding future, designed to take care of you and your family, in various stages of life.\\n\\nas a global company, our employee packages will vary by country, customary norms and the legal entity into which you are hired.\""
      ]
     },
     "execution_count": 14,
     "metadata": {},
     "output_type": "execute_result"
    }
   ],
   "source": [
    "jobs_df.text_description[338]"
   ]
  },
  {
   "cell_type": "code",
   "execution_count": 15,
   "metadata": {},
   "outputs": [
    {
     "name": "stdout",
     "output_type": "stream",
     "text": [
      "match[0] = job requirements:\n",
      "conceptual understanding in machine learning models like nai¨ve bayes, k-means, svm, apriori, linear/ logistic regression, neural, random forests, decision trees, k-nn along with hands-on experience in at least 2 of them\n",
      "intermediate to expert level coding skills in python/r. (ability to write functions, clean and efficient data manipulation are mandatory for this role)\n",
      "exposure to packages like numpy, scipy, pandas, matplotlib etc in python or ggplot2, dplyr, tidyr in r\n",
      "ability to communicate model findings to both technical and non-technical stake holders\n",
      "hands on experience in sql/hive or similar programming language\n",
      "must show past work via github, kaggle or any other published article\n",
      "master's degree in statistics/mathematics/computer science or any other quant specific field.\n",
      "apply now \n",
      "\n",
      "\n",
      "match[1] = data science encompasses the computational and statistical skills required to use data in support of scientific enquiry and sound business decision-making. we are looking to hire candidates to work on challenging data science problems across our oil & gas businesses, including exploration, production, refining, chemicals, retail and corporate services.\n",
      "job role responsibilities\n",
      "apply statistical analysis, pattern recognition, and machine learning – along with domain knowledge and subject-specific models – to solve science, engineering, and commercial problems.\n",
      "contribute to all stages of data science or decision modeling projects, including problem formulation, solution development, and product deployment:\n",
      "translate business-relevant scientific, engineering, and commercial problems into questions that may be addressed using data science.\n",
      "design experiments and/or run simulations to generate new data in support of analytic studies.\n",
      "retrieve and combine data from databases, data historians, and/or data lakes; there is a strong emphasis on programming, particularly using scripting languages.\n",
      "perform exploratory data analysis for quality control and improved understanding.\n",
      "rigorously and reproducibly build, analyze, and compare statistical and/or machine learning models.\n",
      "contextualize the results and synthesize them with existing knowledge and/or domain-specific models.\n",
      "deploy data-analytic products to end-users and/or document data-analytic results in technical reports.\n",
      "job requirements\n",
      "phd or ms (exceptional bs candidates will be considered) in one of the following disciplines: engineering/sciences, mathematics, statistics or computer science with significant experience in data analytics.\n",
      "experience in python, scala, java, c, c++ or r is required\n",
      "knowledge of statistics, linear algebra, multiple variable calculus, fourier analysis or machine learning\n",
      "experience using one or more of the following software packages: scikit-learn, numpy, pandas, jupyter, matplotlib, scipy, nltk, spacy, keras, tensorflow\n",
      "experience solving problems using one or more of the following techniques: regression, support vector machines, decision trees, random forest, boosting, pca, kmeans\n",
      "experience in using sql/no sql databases is an advantage\n",
      "experience working in linux and in a high performance computing environment is an advantage\n",
      "\n",
      "alternate location: united states : baytown, texas || united states : clinton, new jersey || united states : hugoton, kansas\n",
      "\n",
      "exxonmobil is an equal opportunity employer. all qualified applicants will receive consideration for employment without regard to race, color, religion, sex, sexual orientation, gender identity, national origin, protected veteran status, or disability status.\n",
      "\n",
      "nearest major market: houston\n",
      "\n",
      "job segment: database, scientific, engineer, sql, java, technology, engineering \n",
      "\n",
      "\n",
      "match[2] = grainger is a broad line, business-to-business distributor of maintenance, repair and operating (mro) supplies and other related products and services. more than 3.2 million businesses and institutions worldwide rely on grainger for products such as safety gloves, ladders, motors and janitorial supplies, along with services like inventory management and technical support. these customers represent a broad collection of industries including commercial, government, healthcare and manufacturing. they place orders online, on mobile devices, through sales representatives, over the phone and at local branches. approximately 5,000 suppliers provide grainger with more than 1.6 million products stocked in grainger’s distribution centers and branches worldwide.\n",
      "\n",
      "primary function\n",
      "data science application areas span across recommender systems, inventory optimization solutions, search etc. projects often encompass research, problem solving, model development, testing, scaling and implementing in production.\n",
      "data scientists are expected to execute specific tasks using statistical and /or machine learning algorithms with appropriate levels of guidance and supervision. while predictive modeling and machine learning is an important aspect of the role, a data scientist is expected to think about data in the context of practical business questions, presenting insights and recommendations to stakeholders. data cleaning, aggregation and visualization are also important skills that will contribute to a successful data science project.\n",
      "\n",
      "primary duties and responsibilities\n",
      "work with data sets of varying degrees of size and complexity, including both structured and unstructured data\n",
      "transform data into actionable insights and recommendations. present clear and concise results. this includes processing, cleansing, and verifying the integrity of data used for analysis\n",
      "create algorithms and processes for real-time personalization and other predictive models\n",
      "conduct analysis of text data to understand the relationship between grainger’s product; assortment and user search queries, industries, and job functions\n",
      "design, validate and evaluate solutions using r, python, sql and other programming tools\n",
      "\n",
      "preferred education & experience\n",
      "masters in full time data science / advanced analytics program\n",
      "prior experience in data science / analytics / data engineering\n",
      "expert level usage of sql\n",
      "proficient in coding (python and r) and programming concepts\n",
      "capable of thinking through complex business problems and solve them by analyzing on large amounts of data\n",
      "ability to mine and explore data to derive insights and business value from data\n",
      "ability to develop analytical solutions by using and applying appropriate methodology – including, but not limited to, regression, forecasting, clustering, decision trees, machine learning, text mining\n",
      "strong analytical and problem-solving skills \n",
      "\n",
      "\n",
      "match[3] = degree in computer science, engineering, mathematics, or a related field and 7+ years industry experienceexperience in data modeling, etl development, and data warehousingdata warehousing experience with oracle, redshift, teradata, etc.experience in python and/or other data ingestion languages and tools.strong customer focus, ownership, urgency and drive.excellent communication skills and the ability to work well in a team.effective analytical, troubleshooting and problem-solving skills.\n",
      "\n",
      "what is the team?\n",
      "the workforce staffing research & business intelligence team is your opportunity to make an impact across multiple layers of the company and the hourly workforce as a whole. this team will lead and influence programs that will enable amazon to scale more efficiently, while also providing a unique voice for the hourly labor population within the united states and canada. amazon’s mission is to be the most customer centric company in the world. the workforce staffing (wfs) organization is on the front line of that mission by hiring hundreds of thousands of hourly associates across multiple types of roles and businesses. to drive the continued scale of amazon’s labor needs within a constrained employment environment, and to improve the candidate/employee experience within amazon’s operation, amazon is investing in its workforce staffing research & business intelligence programs.\n",
      "\n",
      "what is the role?\n",
      "as a data engineer in wfs bi team, you should be an expert in the architecture of dw solutions for the enterprise using multiple platforms. you should excel in the design, creation, management, and business use of large and complex datasets. you should have excellent business and communication skills to be able to work with business analysts and engineers to determine how best to design the data warehouse for reporting and analytics. you will be responsible for designing and implementing scalable etl processes in the data warehouse platform to support the rapidly growing and dynamic business demand for data, and use it to deliver the data as service which will have an immediate influence on day-to-day decision making. you should have the ability to develop and tune sql to provide optimized solutions to the business.\n",
      "\n",
      "key responsibilities include:\n",
      "building and migrating the complex etl pipelines into redshift clusteroptimizing the performance of business-critical queries and dealing with etl job-related issuesgather and understand data requirements, work in the team to achieve high quality data ingestion and build systems that can process the data, transform the datadesigning, implementing and supporting a platform that can provide ad-hoc access to large data-setsprovide technical and thought leadership of data engineering and being a mentor to the team membersmodeling data and metadata to support ad-hoc and pre-built reportingearn the trust of your customers by continuing to constantly obsess over their needs and helping them solve their problems by leveraging technologymanage business critical initiatives to enforce standard work and reduce waste\n",
      "\n",
      "graduate degree in computer science, engineering or related technical field.industry experience as a data engineer or related specialty (e.g., software engineer, business intelligence engineer, data scientist) with a track record of manipulating, processing, and extracting value from large datasets.experience building/operating highly available, distributed systems of data extraction, ingestion, and processing of large data sets.experience building data products incrementally and integrating and managing datasets from multiple sources.experience with aws tools and technologies (s3, ec2, data pipeline etc.).experience providing technical leadership and mentor other engineers for the best practices on the data engineering space. \n",
      "\n",
      "\n",
      "match[4] = degree in computer science, engineering, mathematics, or a related field and 7+ years industry experienceexperience in data modeling, etl development, and data warehousingdata warehousing experience with oracle, redshift, teradata, etc.experience in python and/or other data ingestion languages and tools.strong customer focus, ownership, urgency and drive.excellent communication skills and the ability to work well in a team.effective analytical, troubleshooting and problem-solving skills.\n",
      "\n",
      "what is the team?\n",
      "the workforce staffing research & business intelligence team is your opportunity to make an impact across multiple layers of the company and the hourly workforce as a whole. this team will lead and influence programs that will enable amazon to scale more efficiently, while also providing a unique voice for the hourly labor population within the united states and canada. amazon’s mission is to be the most customer centric company in the world. the workforce staffing (wfs) organization is on the front line of that mission by hiring hundreds of thousands of hourly associates across multiple types of roles and businesses. to drive the continued scale of amazon’s labor needs within a constrained employment environment, and to improve the candidate/employee experience within amazon’s operation, amazon is investing in its workforce staffing research & business intelligence programs.\n",
      "\n",
      "what is the role?\n",
      "as a data engineer in wfs bi team, you should be an expert in the architecture of dw solutions for the enterprise using multiple platforms. you should excel in the design, creation, management, and business use of large and complex datasets. you should have excellent business and communication skills to be able to work with business analysts and engineers to determine how best to design the data warehouse for reporting and analytics. you will be responsible for designing and implementing scalable etl processes in the data warehouse platform to support the rapidly growing and dynamic business demand for data, and use it to deliver the data as service which will have an immediate influence on day-to-day decision making. you should have the ability to develop and tune sql to provide optimized solutions to the business.\n",
      "\n",
      "key responsibilities include:\n",
      "building and migrating the complex etl pipelines into redshift clusteroptimizing the performance of business-critical queries and dealing with etl job-related issuesgather and understand data requirements, work in the team to achieve high quality data ingestion and build systems that can process the data, transform the datadesigning, implementing and supporting a platform that can provide ad-hoc access to large data-setsprovide technical and thought leadership of data engineering and being a mentor to the team membersmodeling data and metadata to support ad-hoc and pre-built reportingearn the trust of your customers by continuing to constantly obsess over their needs and helping them solve their problems by leveraging technologymanage business critical initiatives to enforce standard work and reduce waste\n",
      "\n",
      "graduate degree in computer science, engineering or related technical field.industry experience as a data engineer or related specialty (e.g., software engineer, business intelligence engineer, data scientist) with a track record of manipulating, processing, and extracting value from large datasets.experience building/operating highly available, distributed systems of data extraction, ingestion, and processing of large data sets.experience building data products incrementally and integrating and managing datasets from multiple sources.experience with aws tools and technologies (s3, ec2, data pipeline etc.).experience providing technical leadership and mentor other engineers for the best practices on the data engineering space. \n",
      "\n",
      "\n"
     ]
    }
   ],
   "source": [
    "def find_job_matches(job_desc):\n",
    "    def transform(desc):\n",
    "        token_str = ' '.join(tokenize(desc))\n",
    "        dtm = tfidf.transform([token_str])\n",
    "        return dtm.todense().tolist()[0]\n",
    "\n",
    "\n",
    "    doc = transform(job_desc)\n",
    "\n",
    "    # Query Using kneighbors \n",
    "    nearest = nn.kneighbors([doc])[1].tolist()[0]\n",
    "    \n",
    "    nearest_jobs = [jobs_df.text_description[n] for n in nearest]\n",
    "    \n",
    "    return nearest_jobs\n",
    "\n",
    "ideal_job = 'Data Engineer Job Requirements:\\n Intermediate to Expert level Experience in Python with the ability to write clean and efficient data manipulation functions\\n Knowledge of SQL \\n Exposure to packages like pandas,'\\\n",
    "            'numpy, scipy, matplotlib\\n Understanding of Machine Learning models.'\n",
    "\n",
    "closest_matches = find_job_matches(ideal_job)\n",
    "\n",
    "for idx,match in enumerate(closest_matches):\n",
    "    print(f'match[{idx}] = {match} \\n\\n')\n"
   ]
  },
  {
   "cell_type": "markdown",
   "metadata": {
    "colab_type": "text",
    "id": "FiDfTWceoRkH"
   },
   "source": [
    "## Stretch Goals\n",
    "\n",
    " - Try different visualizations for words and frequencies - what story do you want to tell with the data?\n",
    " - Scrape Job Listings for the job title \"Data Analyst\". How do these differ from Data Scientist Job Listings\n",
    " - Try and identify requirements for experience specific technologies that are asked for in the job listings. How are those distributed among the job listings?\n",
    " - Use a clustering algorithm to cluster documents by their most important terms. Do the clusters reveal any common themes?\n",
    "  - **Hint:** K-means might not be the best algorithm for this. Do a little bit of research to see what might be good for this. Also, remember that algorithms that depend on Euclidean distance break down with high dimensional data.\n",
    " - Create a labeled dataset - which jobs will you apply for? Train a model to select the jobs you are most likely to apply for. :) "
   ]
  }
 ],
 "metadata": {
  "colab": {
   "collapsed_sections": [],
   "name": "LS_DS_422_BOW_Assignment.ipynb",
   "provenance": [],
   "version": "0.3.2"
  },
  "kernel_info": {
   "name": "python3"
  },
  "kernelspec": {
   "display_name": "U4-S1-NLP (Python3)",
   "language": "python",
   "name": "u4-s1-nlp"
  },
  "language_info": {
   "codemirror_mode": {
    "name": "ipython",
    "version": 3
   },
   "file_extension": ".py",
   "mimetype": "text/x-python",
   "name": "python",
   "nbconvert_exporter": "python",
   "pygments_lexer": "ipython3",
   "version": "3.7.0"
  },
  "nteract": {
   "version": "0.14.3"
  }
 },
 "nbformat": 4,
 "nbformat_minor": 4
}
